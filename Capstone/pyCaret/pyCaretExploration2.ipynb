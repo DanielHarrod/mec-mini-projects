{
 "cells": [
  {
   "attachments": {},
   "cell_type": "markdown",
   "id": "81e0620e",
   "metadata": {},
   "source": [
    "This was adapted from the pyCaret Multiclass Classification Tutorial.\n",
    "https://github.com/pycaret/pycaret/blob/master/tutorials/Tutorial%20-%20Multiclass%20Classification.ipynb\n",
    "\n",
    "I left in most of the help text/explanations.\n"
   ]
  },
  {
   "cell_type": "code",
   "execution_count": 1,
   "id": "d7142a33",
   "metadata": {},
   "outputs": [
    {
     "data": {
      "text/plain": [
       "'3.1.0'"
      ]
     },
     "execution_count": 1,
     "metadata": {},
     "output_type": "execute_result"
    }
   ],
   "source": [
    "# check installed version\n",
    "import pycaret\n",
    "pycaret.__version__"
   ]
  },
  {
   "attachments": {},
   "cell_type": "markdown",
   "id": "00347d44",
   "metadata": {},
   "source": [
    "PyCaret’s Classification Module is a supervised machine learning module that is used for classifying elements into groups. The goal is to predict the categorical class labels which are discrete and unordered. \n",
    "\n",
    "Some common use cases include predicting customer default (Yes or No), predicting customer churn (customer will leave or stay), the disease found (positive or negative). \n",
    "\n",
    "This module can be used for binary or multiclass problems. It provides several pre-processing features that prepare the data for modeling through the setup function. It has over 18 ready-to-use algorithms and several plots to analyze the performance of trained models.\n",
    "\n",
    "A typical workflow in PyCaret consist of following 5 steps in this order:\n",
    "\n",
    "## **Setup** ➡️ **Compare Models** ➡️ **Analyze Model** ➡️ **Prediction** ➡️ **Save Model**"
   ]
  },
  {
   "cell_type": "code",
   "execution_count": 2,
   "id": "0b0c36c6",
   "metadata": {},
   "outputs": [],
   "source": [
    "import pandas as pd\n",
    "from sklearn.model_selection import train_test_split\n",
    "from pycaret.classification import *\n",
    "from imblearn.over_sampling import *\n",
    "from imblearn.under_sampling import *\n",
    "from sklearn.metrics import confusion_matrix\n",
    "import seaborn as sns\n",
    "import numpy as np"
   ]
  },
  {
   "cell_type": "code",
   "execution_count": 3,
   "id": "41f751f2",
   "metadata": {},
   "outputs": [],
   "source": [
    "data = pd.read_csv(\"..\\diabetes_cleaned.csv\")"
   ]
  },
  {
   "cell_type": "code",
   "execution_count": 4,
   "id": "ad7c31cb",
   "metadata": {},
   "outputs": [],
   "source": [
    "data.drop(['Unnamed: 0','heart_attack','angina_or_chd','chd_mi'], axis=1, inplace=True)\n",
    "\n",
    "#data.drop(['income','age','sleep_time'], axis=1, inplace=True)"
   ]
  },
  {
   "cell_type": "code",
   "execution_count": 5,
   "id": "dfb37812",
   "metadata": {},
   "outputs": [],
   "source": [
    "TARGET = 'diabetes'\n",
    "ANSWER = 42"
   ]
  },
  {
   "cell_type": "code",
   "execution_count": 6,
   "id": "d342c2a3",
   "metadata": {},
   "outputs": [
    {
     "data": {
      "text/plain": [
       "0.0    254681\n",
       "2.0     41479\n",
       "1.0      6793\n",
       "Name: diabetes, dtype: int64"
      ]
     },
     "execution_count": 6,
     "metadata": {},
     "output_type": "execute_result"
    }
   ],
   "source": [
    "data.diabetes.value_counts()"
   ]
  },
  {
   "cell_type": "code",
   "execution_count": 7,
   "id": "8442edcc",
   "metadata": {},
   "outputs": [],
   "source": [
    "#split data into 20% split with equal parts diabetes labels.\n",
    "train_df, test_df = train_test_split(data, test_size=0.2, random_state=42, stratify=data['diabetes'])"
   ]
  },
  {
   "cell_type": "code",
   "execution_count": 8,
   "id": "64d5ae5d",
   "metadata": {},
   "outputs": [
    {
     "name": "stdout",
     "output_type": "stream",
     "text": [
      "Train\n",
      "0.0    203745\n",
      "2.0     33183\n",
      "1.0      5434\n",
      "Name: diabetes, dtype: int64\n",
      "Test\n"
     ]
    },
    {
     "data": {
      "text/plain": [
       "0.0    50936\n",
       "2.0     8296\n",
       "1.0     1359\n",
       "Name: diabetes, dtype: int64"
      ]
     },
     "execution_count": 8,
     "metadata": {},
     "output_type": "execute_result"
    }
   ],
   "source": [
    "# The unbalanced ratio\n",
    "print(\"Train\")\n",
    "print(train_df.diabetes.value_counts())\n",
    "print(\"Test\")\n",
    "test_df.diabetes.value_counts()"
   ]
  },
  {
   "cell_type": "code",
   "execution_count": 9,
   "id": "069e974a",
   "metadata": {},
   "outputs": [],
   "source": [
    "test_labels = test_df[TARGET]\n",
    "test_features = test_df.drop(columns=TARGET)"
   ]
  },
  {
   "cell_type": "code",
   "execution_count": 10,
   "id": "6896be10",
   "metadata": {},
   "outputs": [],
   "source": [
    "# #binary\n",
    "# binary_data = train_df.copy()\n",
    "# binary_data.loc[binary_data.diabetes.isin([2]), TARGET] = 1\n",
    "# binary_data.diabetes.value_counts()\n",
    "# data = binary_data"
   ]
  },
  {
   "cell_type": "code",
   "execution_count": 11,
   "id": "5037fa2c",
   "metadata": {},
   "outputs": [],
   "source": [
    "# over_sampled_data = OverSample(train_df, TARGET, \"RandomOverSampler\")\n",
    "\n",
    "# print(over_sampled_data.diabetes.value_counts())"
   ]
  },
  {
   "cell_type": "code",
   "execution_count": 12,
   "id": "cfc861a5",
   "metadata": {},
   "outputs": [],
   "source": [
    "# over_sampled_binary_data = OverSample(binary_data, TARGET, \"RandomOverSampler\")\n",
    "\n",
    "# print(over_sampled_binary_data.diabetes.value_counts())"
   ]
  },
  {
   "cell_type": "code",
   "execution_count": 13,
   "id": "0c389261",
   "metadata": {},
   "outputs": [],
   "source": [
    "def Sampler(df, target, sampler_name, stragegy):\n",
    "    sampler = globals()[sampler_name](sampling_strategy=strategy)\n",
    "\n",
    "    under_train_labels = df[target]\n",
    "    under_train_features = df.drop(columns=target)\n",
    "    \n",
    "    X, y = sampler.fit_resample(under_train_features, under_train_labels)\n",
    "    \n",
    "    sampled_data = X\n",
    "    sampled_data[target] = y\n",
    "    \n",
    "    print(sampled_data[target].value_counts())\n",
    "    return sampled_data    "
   ]
  },
  {
   "cell_type": "code",
   "execution_count": 14,
   "id": "e091628d",
   "metadata": {},
   "outputs": [],
   "source": [
    "# def UnderSample(df, target, sampler_name):\n",
    "#     sampler = globals()[sampler_name]\n",
    "#     under_sampler = sampler()\n",
    "\n",
    "#     under_train_labels = df[target]\n",
    "#     under_train_features = df.drop(columns=target)\n",
    "    \n",
    "#     X_under, y_under = under_sampler.fit_resample(under_train_features, under_train_labels)\n",
    "    \n",
    "#     under_sampled_data = X_under\n",
    "#     under_sampled_data[TARGET] = y_under\n",
    "#     return under_sampled_data    \n",
    "\n",
    "# def OverSample(df, target, sampler_name):\n",
    "#     sampler = globals()[sampler_name]\n",
    "#     over_sampler = sampler(random_state=ANSWER)\n",
    "    \n",
    "#     train_labels = df[target].copy()\n",
    "#     train_features = df.drop(columns=target)\n",
    "\n",
    "#     over_sampled_features, over_sampled_labels = over_sampler.fit_resample(train_features, train_labels)\n",
    "\n",
    "#     over_sampled_data = over_sampled_features\n",
    "#     over_sampled_data[target] = over_sampled_labels\n",
    "    \n",
    "#     return over_sampled_data"
   ]
  },
  {
   "cell_type": "code",
   "execution_count": 15,
   "id": "e689ed62",
   "metadata": {},
   "outputs": [],
   "source": [
    "# under_sampled_data = UnderSample(train_df, TARGET, \"RandomUnderSampler\")\n",
    "# print(under_sampled_data.diabetes.value_counts())"
   ]
  },
  {
   "cell_type": "code",
   "execution_count": 16,
   "id": "af0f8454",
   "metadata": {},
   "outputs": [],
   "source": [
    "# under_sampled_binary_data = UnderSample(binary_data, TARGET, \"RandomUnderSampler\")\n",
    "\n",
    "# print(under_sampled_binary_data.diabetes.value_counts())"
   ]
  },
  {
   "cell_type": "code",
   "execution_count": 17,
   "id": "db763eba",
   "metadata": {},
   "outputs": [],
   "source": [
    "# s = setup(under_sampled_data, target = TARGET, session_id = 123)\n",
    "# best = compare_models()"
   ]
  },
  {
   "cell_type": "code",
   "execution_count": 18,
   "id": "ce54b259",
   "metadata": {},
   "outputs": [],
   "source": [
    "#datasets = [under_sampled_data, over_sampled_data, under_sampled_binary_data, over_sampled_binary_data]\n",
    "# datasets = [over_sampled_data]\n",
    "# for idx, data in enumerate(datasets):\n",
    "\n",
    "if False:\n",
    "    over_samplers = ['RandomOverSampler','SMOTE','SMOTEN','ADASYN','BorderlineSMOTE','KMeansSMOTE','SVMSMOTE']\n",
    "    for sampler in over_samplers:\n",
    "        over_sampled_data = OverSample(train_df, TARGET, sampler)\n",
    "        s = setup(over_sampled_data, target = TARGET, session_id = 123)\n",
    "        best = compare_models()\n",
    "        test_acc = best.score(test_features,  test_labels)\n",
    "\n",
    "        print(f'\\nSampler: {sampler} Test accuracy:', test_acc)\n"
   ]
  },
  {
   "cell_type": "code",
   "execution_count": 19,
   "id": "0b39ad51",
   "metadata": {},
   "outputs": [],
   "source": [
    "#  test_acc = best.score(test_features,  test_labels)\n",
    "# print(f'\\nSampler: {sampler}, Strategy: {strategy}, Test accuracy:', test_acc)"
   ]
  },
  {
   "cell_type": "code",
   "execution_count": 20,
   "id": "0aaaf569",
   "metadata": {},
   "outputs": [],
   "source": [
    "# sampled_data.diabetes.value_counts()"
   ]
  },
  {
   "cell_type": "code",
   "execution_count": 21,
   "id": "a3438442",
   "metadata": {},
   "outputs": [],
   "source": [
    "import matplotlib.pyplot as plt\n",
    "\n",
    "def print_test_heat_map(model, sampler, strategy):\n",
    "    predictions = predict_model(model, data=test_features)\n",
    "    cm = confusion_matrix(test_labels, predictions[\"prediction_label\"])\n",
    "    cm_total = cm.sum(axis=1)\n",
    "    result = [[0.0,0.0,0.0],[0.0,0.0,0.0],[0.0,0.0,0.0]]    \n",
    "    for row in range(0,3):\n",
    "        for column in range(0,3):\n",
    "            result[row][column] = cm[row][column]/(cm_total[row])\n",
    "            \n",
    "    total_percent = result[0][0] + result[1][1] + result[2][2]\n",
    "    diabetes_percent = result[1][1] + result[2][2]\n",
    "    # print(f\"Total Percent Accurate {total_percent*100}\")\n",
    "    # print(f\"Diabetes Percent Accurate {diabetes_percent*100}\")\n",
    "    \n",
    "    print(f\"{type(model).__name__},{sampler},{strategy},{total_percent*100},{diabetes_percent*100}\")\n",
    "    # sns.heatmap(result, annot=True, \n",
    "    #             fmt='.2%', cmap='Blues')\n",
    "    # plt.show()\n",
    "    # plt.figure()\n"
   ]
  },
  {
   "cell_type": "code",
   "execution_count": 22,
   "id": "689c8980",
   "metadata": {},
   "outputs": [
    {
     "name": "stdout",
     "output_type": "stream",
     "text": [
      "100.00\n"
     ]
    }
   ],
   "source": [
    "print(f\"{100:.2f}\")"
   ]
  },
  {
   "cell_type": "code",
   "execution_count": 23,
   "id": "c0df1298",
   "metadata": {},
   "outputs": [
    {
     "name": "stdout",
     "output_type": "stream",
     "text": [
      "0.0    203745\n",
      "2.0    203745\n",
      "1.0    203745\n",
      "Name: diabetes, dtype: int64\n"
     ]
    },
    {
     "data": {
      "text/html": [],
      "text/plain": [
       "<IPython.core.display.HTML object>"
      ]
     },
     "metadata": {},
     "output_type": "display_data"
    },
    {
     "name": "stdout",
     "output_type": "stream",
     "text": [
      "ExtraTreesClassifier,SMOTE,auto,119.35053829999592,27.08966190608983\n"
     ]
    },
    {
     "data": {
      "text/html": [],
      "text/plain": [
       "<IPython.core.display.HTML object>"
      ]
     },
     "metadata": {},
     "output_type": "display_data"
    },
    {
     "name": "stdout",
     "output_type": "stream",
     "text": [
      "RandomForestClassifier,SMOTE,auto,119.37430394398785,26.398805278996484\n"
     ]
    },
    {
     "data": {
      "text/html": [],
      "text/plain": [
       "<IPython.core.display.HTML object>"
      ]
     },
     "metadata": {},
     "output_type": "display_data"
    },
    {
     "name": "stdout",
     "output_type": "stream",
     "text": [
      "DecisionTreeClassifier,SMOTE,auto,119.58443974774471,34.00056979329205\n"
     ]
    },
    {
     "data": {
      "text/html": [],
      "text/plain": [
       "<IPython.core.display.HTML object>"
      ]
     },
     "metadata": {},
     "output_type": "display_data"
    },
    {
     "name": "stdout",
     "output_type": "stream",
     "text": [
      "KNeighborsClassifier,SMOTE,auto,133.85153991715774,69.57087398343697\n"
     ]
    },
    {
     "data": {
      "text/html": [],
      "text/plain": [
       "<IPython.core.display.HTML object>"
      ]
     },
     "metadata": {},
     "output_type": "display_data"
    },
    {
     "name": "stdout",
     "output_type": "stream",
     "text": [
      "LGBMClassifier,SMOTE,auto,125.91517647876687,32.34088717454195\n"
     ]
    },
    {
     "data": {
      "text/html": [],
      "text/plain": [
       "<IPython.core.display.HTML object>"
      ]
     },
     "metadata": {},
     "output_type": "display_data"
    },
    {
     "name": "stdout",
     "output_type": "stream",
     "text": [
      "GradientBoostingClassifier,SMOTE,auto,143.1386250630391,59.56512105801318\n"
     ]
    },
    {
     "data": {
      "text/html": [],
      "text/plain": [
       "<IPython.core.display.HTML object>"
      ]
     },
     "metadata": {},
     "output_type": "display_data"
    },
    {
     "name": "stdout",
     "output_type": "stream",
     "text": [
      "AdaBoostClassifier,SMOTE,auto,147.91058443553914,73.11868872327275\n"
     ]
    },
    {
     "data": {
      "text/html": [],
      "text/plain": [
       "<IPython.core.display.HTML object>"
      ]
     },
     "metadata": {},
     "output_type": "display_data"
    },
    {
     "name": "stdout",
     "output_type": "stream",
     "text": [
      "LogisticRegression,SMOTE,auto,154.92010532501956,90.9457060789068\n"
     ]
    },
    {
     "data": {
      "text/html": [],
      "text/plain": [
       "<IPython.core.display.HTML object>"
      ]
     },
     "metadata": {},
     "output_type": "display_data"
    },
    {
     "name": "stdout",
     "output_type": "stream",
     "text": [
      "LinearDiscriminantAnalysis,SMOTE,auto,153.7499042307075,91.53653843834063\n"
     ]
    },
    {
     "data": {
      "text/html": [],
      "text/plain": [
       "<IPython.core.display.HTML object>"
      ]
     },
     "metadata": {},
     "output_type": "display_data"
    },
    {
     "name": "stdout",
     "output_type": "stream",
     "text": [
      "RidgeClassifier,SMOTE,auto,153.31489420770313,85.86358275804078\n"
     ]
    },
    {
     "data": {
      "text/html": [],
      "text/plain": [
       "<IPython.core.display.HTML object>"
      ]
     },
     "metadata": {},
     "output_type": "display_data"
    },
    {
     "name": "stdout",
     "output_type": "stream",
     "text": [
      "GaussianNB,SMOTE,auto,150.16552075782676,91.4899278569315\n"
     ]
    },
    {
     "data": {
      "text/html": [],
      "text/plain": [
       "<IPython.core.display.HTML object>"
      ]
     },
     "metadata": {},
     "output_type": "display_data"
    },
    {
     "name": "stdout",
     "output_type": "stream",
     "text": [
      "SGDClassifier,SMOTE,auto,152.92505514173868,94.59303064040367\n"
     ]
    },
    {
     "data": {
      "text/html": [],
      "text/plain": [
       "<IPython.core.display.HTML object>"
      ]
     },
     "metadata": {},
     "output_type": "display_data"
    },
    {
     "name": "stdout",
     "output_type": "stream",
     "text": [
      "QuadraticDiscriminantAnalysis,SMOTE,auto,100.0,0.0\n"
     ]
    },
    {
     "data": {
      "text/html": [],
      "text/plain": [
       "<IPython.core.display.HTML object>"
      ]
     },
     "metadata": {},
     "output_type": "display_data"
    },
    {
     "name": "stdout",
     "output_type": "stream",
     "text": [
      "DummyClassifier,SMOTE,auto,100.0,0.0\n",
      "0.0    203745\n",
      "1.0    202016\n",
      "2.0    201296\n",
      "Name: diabetes, dtype: int64\n"
     ]
    },
    {
     "data": {
      "text/html": [],
      "text/plain": [
       "<IPython.core.display.HTML object>"
      ]
     },
     "metadata": {},
     "output_type": "display_data"
    },
    {
     "name": "stdout",
     "output_type": "stream",
     "text": [
      "ExtraTreesClassifier,ADASYN,auto,118.23928912629312,25.78405118063583\n"
     ]
    },
    {
     "data": {
      "text/html": [],
      "text/plain": [
       "<IPython.core.display.HTML object>"
      ]
     },
     "metadata": {},
     "output_type": "display_data"
    },
    {
     "name": "stdout",
     "output_type": "stream",
     "text": [
      "RandomForestClassifier,ADASYN,auto,118.3693811748641,25.311426093978284\n"
     ]
    },
    {
     "data": {
      "text/html": [],
      "text/plain": [
       "<IPython.core.display.HTML object>"
      ]
     },
     "metadata": {},
     "output_type": "display_data"
    },
    {
     "name": "stdout",
     "output_type": "stream",
     "text": [
      "DecisionTreeClassifier,ADASYN,auto,119.26898880194202,33.63211115155721\n"
     ]
    },
    {
     "data": {
      "text/html": [],
      "text/plain": [
       "<IPython.core.display.HTML object>"
      ]
     },
     "metadata": {},
     "output_type": "display_data"
    },
    {
     "name": "stdout",
     "output_type": "stream",
     "text": [
      "KNeighborsClassifier,ADASYN,auto,132.68336694531905,69.70040793793724\n"
     ]
    },
    {
     "data": {
      "text/html": [],
      "text/plain": [
       "<IPython.core.display.HTML object>"
      ]
     },
     "metadata": {},
     "output_type": "display_data"
    },
    {
     "name": "stdout",
     "output_type": "stream",
     "text": [
      "LGBMClassifier,ADASYN,auto,123.20348419912885,28.700578592092572\n"
     ]
    },
    {
     "data": {
      "text/html": [],
      "text/plain": [
       "<IPython.core.display.HTML object>"
      ]
     },
     "metadata": {},
     "output_type": "display_data"
    },
    {
     "name": "stdout",
     "output_type": "stream",
     "text": [
      "GradientBoostingClassifier,ADASYN,auto,143.2988719950276,60.50281419700656\n"
     ]
    },
    {
     "data": {
      "text/html": [],
      "text/plain": [
       "<IPython.core.display.HTML object>"
      ]
     },
     "metadata": {},
     "output_type": "display_data"
    },
    {
     "name": "stdout",
     "output_type": "stream",
     "text": [
      "AdaBoostClassifier,ADASYN,auto,145.78613072514108,68.32029124029737\n"
     ]
    },
    {
     "data": {
      "text/html": [],
      "text/plain": [
       "<IPython.core.display.HTML object>"
      ]
     },
     "metadata": {},
     "output_type": "display_data"
    },
    {
     "name": "stdout",
     "output_type": "stream",
     "text": [
      "LogisticRegression,ADASYN,auto,153.81145063441457,90.14528132390727\n"
     ]
    },
    {
     "data": {
      "text/html": [],
      "text/plain": [
       "<IPython.core.display.HTML object>"
      ]
     },
     "metadata": {},
     "output_type": "display_data"
    },
    {
     "name": "stdout",
     "output_type": "stream",
     "text": [
      "LinearDiscriminantAnalysis,ADASYN,auto,154.12691534526903,92.01563844877147\n"
     ]
    },
    {
     "data": {
      "text/html": [],
      "text/plain": [
       "<IPython.core.display.HTML object>"
      ]
     },
     "metadata": {},
     "output_type": "display_data"
    },
    {
     "name": "stdout",
     "output_type": "stream",
     "text": [
      "RidgeClassifier,ADASYN,auto,153.31122394979778,86.43318091540166\n"
     ]
    },
    {
     "data": {
      "text/html": [],
      "text/plain": [
       "<IPython.core.display.HTML object>"
      ]
     },
     "metadata": {},
     "output_type": "display_data"
    },
    {
     "name": "stdout",
     "output_type": "stream",
     "text": [
      "GaussianNB,ADASYN,auto,150.96207517200153,92.6791318706037\n"
     ]
    },
    {
     "data": {
      "text/html": [],
      "text/plain": [
       "<IPython.core.display.HTML object>"
      ]
     },
     "metadata": {},
     "output_type": "display_data"
    },
    {
     "name": "stdout",
     "output_type": "stream",
     "text": [
      "SGDClassifier,ADASYN,auto,148.08539275562035,77.71473153369479\n"
     ]
    },
    {
     "data": {
      "text/html": [],
      "text/plain": [
       "<IPython.core.display.HTML object>"
      ]
     },
     "metadata": {},
     "output_type": "display_data"
    },
    {
     "name": "stdout",
     "output_type": "stream",
     "text": [
      "QuadraticDiscriminantAnalysis,ADASYN,auto,100.0,0.0\n"
     ]
    },
    {
     "data": {
      "text/html": [],
      "text/plain": [
       "<IPython.core.display.HTML object>"
      ]
     },
     "metadata": {},
     "output_type": "display_data"
    },
    {
     "name": "stdout",
     "output_type": "stream",
     "text": [
      "DummyClassifier,ADASYN,auto,100.0,0.0\n"
     ]
    }
   ],
   "source": [
    "samplers = ['SMOTE','ADASYN']\n",
    "# samplers = ['RandomOverSampler', 'EditedNearestNeighbours','RepeatedEditedNearestNeighbours','AllKNN','NeighbourhoodCleaningRule','OneSidedSelection','TomekLinks', 'SMOTE','ADASYN']\n",
    "\n",
    "# under_samplers = ['RepeatedEditedNearestNeighbours',]\n",
    "# over_samplers = ['RandomOverSampler', 'SMOTE','ADASYN']\n",
    "\n",
    "# working_sampler = ['SMOTE']\n",
    "\n",
    "#samplers = ['TomekLinks','SMOTE','RandomOverSampler','NearMiss']\n",
    "\n",
    "for sampler in samplers:\n",
    "    strategies = ['auto']\n",
    "    for strategy in strategies:\n",
    "        sampled_data = Sampler(train_df, TARGET, sampler, strategy)\n",
    "        sampled_data.diabetes.value_counts()\n",
    "        s = setup(sampled_data, target = TARGET, session_id = 123,verbose=False)\n",
    "        best = compare_models(n_select=14,verbose=False)\n",
    "        for model in best:    \n",
    "\n",
    "            #print(f'\\nSampler: {sampler}, Strategy: {strategy}')\n",
    "            print_test_heat_map(model, sampler, strategy)\n",
    "            \n",
    "        # test_acc = best.score(test_features,  test_labels)\n",
    "\n",
    "\n",
    "        # #evaluate_model(best)\n",
    "        # plot_model(best, plot = 'auc')\n",
    "        # plot_model(best, plot = 'confusion_matrix', plot_kwargs = {'percent' : True})\n",
    "        # print_test_heat_map()\n",
    "        # plot_model(best, plot = 'feature')\n"
   ]
  },
  {
   "cell_type": "markdown",
   "id": "7b73142c",
   "metadata": {},
   "source": [
    "TomekLinks,LGBMClassifier,all,109.852,11.307\n",
    "TomekLinks,GradientBoostingClassifier,all,111.113,12.705\n",
    "TomekLinks,AdaBoostClassifier,all,112.107,14.103\n",
    "TomekLinks,LogisticRegression,all,110.422,12.283\n",
    "TomekLinks,RidgeClassifier,all,100.808,0.904\n",
    "TomekLinks,QuadraticDiscriminantAnalysis,all,100.000,0.000\n",
    "TomekLinks,DummyClassifier,all,100.000,0.000\n",
    "TomekLinks,SGDClassifier,all,100.000,0.000\n",
    "TomekLinks,LinearDiscriminantAnalysis,all,113.627,16.225\n",
    "TomekLinks,RandomForestClassifier,all,111.796,15.397\n",
    "TomekLinks,KNeighborsClassifier,all,112.120,15.986\n",
    "TomekLinks,ExtraTreesClassifier,all,111.944,16.183\n",
    "TomekLinks,DecisionTreeClassifier,all,117.975,29.949\n",
    "TomekLinks,GaussianNB,all,135.438,51.189\n",
    "SMOTE,ExtraTreesClassifier,all,119.503,27.078\n",
    "SMOTE,RandomForestClassifier,all,119.470,26.481\n",
    "SMOTE,DecisionTreeClassifier,all,119.515,34.080\n",
    "SMOTE,KNeighborsClassifier,all,133.997,69.761\n",
    "SMOTE,LGBMClassifier,all,126.280,32.739\n",
    "SMOTE,GradientBoostingClassifier,all,143.294,60.205\n",
    "SMOTE,AdaBoostClassifier,all,146.407,69.632\n",
    "SMOTE,LogisticRegression,all,155.449,91.614\n",
    "SMOTE,LinearDiscriminantAnalysis,all,154.212,92.069\n",
    "SMOTE,RidgeClassifier,all,153.040,85.675\n",
    "SMOTE,GaussianNB,all,150.418,91.936\n",
    "SMOTE,SGDClassifier,all,149.297,73.918\n",
    "SMOTE,QuadraticDiscriminantAnalysis,all,100.000,0.000\n",
    "SMOTE,DummyClassifier,all,100.000,0.000\n",
    "RandomOverSampler,ExtraTreesClassifier,all,120.842,32.939\n",
    "RandomOverSampler,RandomForestClassifier,all,130.257,46.356\n",
    "RandomOverSampler,DecisionTreeClassifier,all,121.653,42.809\n",
    "RandomOverSampler,KNeighborsClassifier,all,134.672,70.946\n",
    "RandomOverSampler,LGBMClassifier,all,156.799,94.474\n",
    "RandomOverSampler,GradientBoostingClassifier,all,157.825,95.541\n",
    "RandomOverSampler,AdaBoostClassifier,all,156.259,92.057\n",
    "RandomOverSampler,LogisticRegression,all,155.351,90.884\n",
    "RandomOverSampler,LinearDiscriminantAnalysis,all,154.363,91.478\n",
    "RandomOverSampler,RidgeClassifier,all,152.595,84.325\n",
    "RandomOverSampler,SGDClassifier,all,151.578,84.476\n",
    "RandomOverSampler,GaussianNB,all,147.883,78.507\n",
    "RandomOverSampler,QuadraticDiscriminantAnalysis,all,100.000,0.000\n",
    "RandomOverSampler,DummyClassifier,all,100.000,0.000\n",
    "NearMiss,LGBMClassifier,all,107.868,96.693\n",
    "NearMiss,ExtraTreesClassifier,all,103.376,95.590\n",
    "NearMiss,RandomForestClassifier,all,104.406,95.723\n",
    "NearMiss,GradientBoostingClassifier,all,111.298,94.143\n",
    "NearMiss,AdaBoostClassifier,all,110.956,94.993\n",
    "NearMiss,LogisticRegression,all,113.049,92.922\n",
    "NearMiss,DecisionTreeClassifier,all,104.450,92.025\n",
    "NearMiss,LinearDiscriminantAnalysis,all,118.792,89.225\n",
    "NearMiss,RidgeClassifier,all,119.180,88.446\n",
    "NearMiss,KNeighborsClassifier,all,113.472,85.859\n",
    "NearMiss,SGDClassifier,all,108.533,88.500\n",
    "NearMiss,GaussianNB,all,113.814,80.816\n",
    "NearMiss,QuadraticDiscriminantAnalysis,all,100.000,0.000\n",
    "NearMiss,DummyClassifier,all,100.000,0.000\n",
    "RandomOverSampler,ExtraTreesClassifier,auto,120.842,32.939\n",
    "RandomOverSampler,RandomForestClassifier,auto,130.257,46.356\n",
    "RandomOverSampler,DecisionTreeClassifier,auto,121.653,42.809\n",
    "RandomOverSampler,KNeighborsClassifier,auto,134.672,70.946\n",
    "RandomOverSampler,LGBMClassifier,auto,156.799,94.474\n",
    "RandomOverSampler,GradientBoostingClassifier,auto,157.825,95.541\n",
    "RandomOverSampler,AdaBoostClassifier,auto,156.259,92.057\n",
    "RandomOverSampler,LogisticRegression,auto,155.351,90.884\n",
    "RandomOverSampler,LinearDiscriminantAnalysis,auto,154.363,91.478\n",
    "RandomOverSampler,RidgeClassifier,auto,152.595,84.325\n",
    "RandomOverSampler,SGDClassifier,auto,151.578,84.476\n",
    "RandomOverSampler,GaussianNB,auto,147.883,78.507\n",
    "RandomOverSampler,QuadraticDiscriminantAnalysis,auto,100.000,0.000\n",
    "RandomOverSampler,DummyClassifier,auto,100.000,0.000\n",
    "RandomForestClassifier,AllKNN,auto,102.73105732810244,3.830476206695178\n",
    "ExtraTreesClassifier,AllKNN,auto,102.42930781476834,3.7702061970519765\n",
    "KNeighborsClassifier,AllKNN,auto,102.79987575252191,3.642109143443865\n",
    "GradientBoostingClassifier,AllKNN,auto,102.77590582407268,3.0978784956605594\n",
    "LGBMClassifier,AllKNN,auto,103.79888540311583,4.256322186530313\n",
    "AdaBoostClassifier,AllKNN,auto,102.95808842272088,3.3389585342333654\n",
    "RidgeClassifier,AllKNN,auto,100.0,0.0\n",
    "QuadraticDiscriminantAnalysis,AllKNN,auto,100.0,0.0\n",
    "DummyClassifier,AllKNN,auto,100.0,0.0\n",
    "LogisticRegression,AllKNN,auto,101.75010454036509,1.9660618200886548\n",
    "SGDClassifier,AllKNN,auto,100.09474328137536,0.10848601735776277\n",
    "LinearDiscriminantAnalysis,AllKNN,auto,111.2661147257761,13.319672131147541\n",
    "DecisionTreeClassifier,AllKNN,auto,110.31092974161871,17.19604046880577\n",
    "GaussianNB,AllKNN,auto,132.41211590536,46.65548012712848\n",
    "RandomForestClassifier,AllKNN,auto,102.73105732810244,3.830476206695178\n",
    "ExtraTreesClassifier,AllKNN,auto,102.42930781476834,3.7702061970519765\n",
    "KNeighborsClassifier,AllKNN,auto,102.79987575252191,3.642109143443865\n",
    "GradientBoostingClassifier,AllKNN,auto,102.77590582407268,3.0978784956605594\n",
    "LGBMClassifier,AllKNN,auto,103.79888540311583,4.256322186530313\n",
    "AdaBoostClassifier,AllKNN,auto,102.95808842272088,3.3389585342333654\n",
    "RidgeClassifier,AllKNN,auto,100.0,0.0\n",
    "QuadraticDiscriminantAnalysis,AllKNN,auto,100.0,0.0\n",
    "DummyClassifier,AllKNN,auto,100.0,0.0\n",
    "LogisticRegression,AllKNN,auto,101.75010454036509,1.9660618200886548\n",
    "SGDClassifier,AllKNN,auto,100.09474328137536,0.10848601735776277\n",
    "LinearDiscriminantAnalysis,AllKNN,auto,111.2661147257761,13.319672131147541\n",
    "DecisionTreeClassifier,AllKNN,auto,110.31092974161871,17.19604046880577\n",
    "GaussianNB,AllKNN,auto,132.41211590536,46.65548012712848\n",
    "ExtraTreesClassifier,SMOTE,auto,119.35053829999592,27.08966190608983\n",
    "RandomForestClassifier,SMOTE,auto,119.37430394398785,26.398805278996484\n",
    "DecisionTreeClassifier,SMOTE,auto,119.58443974774471,34.00056979329205\n",
    "KNeighborsClassifier,SMOTE,auto,133.85153991715774,69.57087398343697\n",
    "LGBMClassifier,SMOTE,auto,125.91517647876687,32.34088717454195\n",
    "GradientBoostingClassifier,SMOTE,auto,143.1386250630391,59.56512105801318\n",
    "AdaBoostClassifier,SMOTE,auto,147.91058443553914,73.11868872327275\n",
    "LogisticRegression,SMOTE,auto,154.92010532501956,90.9457060789068\n",
    "LinearDiscriminantAnalysis,SMOTE,auto,153.7499042307075,91.53653843834063\n",
    "RidgeClassifier,SMOTE,auto,153.31489420770313,85.86358275804078\n",
    "GaussianNB,SMOTE,auto,150.16552075782676,91.4899278569315\n",
    "SGDClassifier,SMOTE,auto,152.92505514173868,94.59303064040367\n",
    "QuadraticDiscriminantAnalysis,SMOTE,auto,100.0,0.0\n",
    "DummyClassifier,SMOTE,auto,100.0,0.0\n",
    "ExtraTreesClassifier,ADASYN,auto,118.23928912629312,25.78405118063583\n",
    "RandomForestClassifier,ADASYN,auto,118.3693811748641,25.311426093978284\n",
    "DecisionTreeClassifier,ADASYN,auto,119.26898880194202,33.63211115155721\n",
    "KNeighborsClassifier,ADASYN,auto,132.68336694531905,69.70040793793724\n",
    "LGBMClassifier,ADASYN,auto,123.20348419912885,28.700578592092572\n",
    "GradientBoostingClassifier,ADASYN,auto,143.2988719950276,60.50281419700656\n",
    "AdaBoostClassifier,ADASYN,auto,145.78613072514108,68.32029124029737\n",
    "LogisticRegression,ADASYN,auto,153.81145063441457,90.14528132390727\n",
    "LinearDiscriminantAnalysis,ADASYN,auto,154.12691534526903,92.01563844877147\n",
    "RidgeClassifier,ADASYN,auto,153.31122394979778,86.43318091540166\n",
    "GaussianNB,ADASYN,auto,150.96207517200153,92.6791318706037\n",
    "SGDClassifier,ADASYN,auto,148.08539275562035,77.71473153369479\n",
    "QuadraticDiscriminantAnalysis,ADASYN,auto,100.0,0.0\n",
    "DummyClassifier,ADASYN,auto,100.0,0.0"
   ]
  },
  {
   "cell_type": "code",
   "execution_count": null,
   "id": "f4117aa4",
   "metadata": {},
   "outputs": [],
   "source": [
    "cm_total"
   ]
  },
  {
   "cell_type": "code",
   "execution_count": null,
   "id": "c24355d3",
   "metadata": {},
   "outputs": [],
   "source": [
    "\n",
    "predictions = predict_model(best, data=test_features)\n",
    "cm = confusion_matrix(test_labels, predictions[\"prediction_label\"])\n",
    "cm_total = cm.sum(axis=1)\n",
    "result = [[0.0,0.0,0.0],[0.0,0.0,0.0],[0.0,0.0,0.0]]    \n",
    "for row in range(0,3):\n",
    "    for column in range(0,3):\n",
    "        result[row][column] = cm[row][column]/(cm_total[row])\n",
    "        \n",
    "sns.heatmap(result, annot=True, \n",
    "            fmt='.2%', cmap='Blues')"
   ]
  },
  {
   "cell_type": "code",
   "execution_count": null,
   "id": "08955e57",
   "metadata": {},
   "outputs": [],
   "source": []
  },
  {
   "cell_type": "code",
   "execution_count": null,
   "id": "758c1c06",
   "metadata": {},
   "outputs": [],
   "source": [
    "predictions = predict_model(best, data=test_features)\n",
    "predictions.head()"
   ]
  },
  {
   "cell_type": "code",
   "execution_count": null,
   "id": "bb96dddf",
   "metadata": {},
   "outputs": [],
   "source": [
    "plot_model(best, plot = 'confusion_matrix')"
   ]
  },
  {
   "cell_type": "code",
   "execution_count": null,
   "id": "661f42d2",
   "metadata": {},
   "outputs": [],
   "source": [
    "plot_model(best, plot = 'boundary')"
   ]
  },
  {
   "cell_type": "code",
   "execution_count": null,
   "id": "0df23484",
   "metadata": {},
   "outputs": [],
   "source": [
    "plot_model(best, plot = 'class_report')"
   ]
  },
  {
   "cell_type": "code",
   "execution_count": null,
   "id": "bbe994e8",
   "metadata": {},
   "outputs": [],
   "source": [
    "plot_model(best, plot = 'feature')"
   ]
  },
  {
   "cell_type": "code",
   "execution_count": null,
   "id": "8ad16891",
   "metadata": {},
   "outputs": [],
   "source": [
    "plot_model(best, plot = 'learning')"
   ]
  },
  {
   "attachments": {},
   "cell_type": "markdown",
   "id": "c00f6a4a",
   "metadata": {},
   "source": [
    "## Setup\n",
    "This function initializes the training environment and creates the transformation pipeline. Setup function must be called before executing any other function in PyCaret. It only has two required parameters i.e. `data` and `target`. All the other parameters are optional."
   ]
  },
  {
   "cell_type": "code",
   "execution_count": null,
   "id": "97f2c6c6",
   "metadata": {},
   "outputs": [],
   "source": [
    "# import pycaret classification and init setup\n",
    "\n"
   ]
  },
  {
   "attachments": {},
   "cell_type": "markdown",
   "id": "3c583864",
   "metadata": {},
   "source": [
    "Once the setup has been successfully executed it shows the information grid containing experiment level information. \n",
    "\n",
    "- **Session id:**  A pseudo-random number distributed as a seed in all functions for later reproducibility. If no `session_id` is passed, a random number is automatically generated that is distributed to all functions.<br/>\n",
    "<br/>\n",
    "- **Target type:**  Binary, Multiclass, or Regression. The Target type is automatically detected. <br/>\n",
    "<br/>\n",
    "- **Label Encoding:**  When the Target variable is of type string (i.e. 'Yes' or 'No') instead of 1 or 0, it automatically encodes the label into 1 and 0 and displays the mapping (0 : No, 1 : Yes) for reference. In this tutorial, no label encoding is required since the target variable is of numeric type. <br/>\n",
    "<br/>\n",
    "- **Original data shape:**  Shape of the original data prior to any transformations. <br/>\n",
    "<br/>\n",
    "- **Transformed train set shape :**  Shape of transformed train set <br/>\n",
    "<br/>\n",
    "- **Transformed test set shape :**  Shape of transformed test set <br/>\n",
    "<br/>\n",
    "- **Numeric features :**  The number of features considered as numerical. <br/>\n",
    "<br/>\n",
    "- **Categorical features :**  The number of features considered as categorical. <br/>"
   ]
  },
  {
   "attachments": {},
   "cell_type": "markdown",
   "id": "ada19398",
   "metadata": {},
   "source": [
    "PyCaret has two set of API's that you can work with. (1) Functional (as seen above) and (2) Object Oriented API.\n",
    "\n",
    "With Object Oriented API instead of executing functions directly you will import a class and execute methods of class."
   ]
  },
  {
   "attachments": {},
   "cell_type": "markdown",
   "id": "77213120",
   "metadata": {},
   "source": [
    "You can use any of the two method i.e. Functional or OOP and even switch back and forth between two set of API's. The choice of method will not impact the results and has been tested for consistency."
   ]
  },
  {
   "attachments": {},
   "cell_type": "markdown",
   "id": "f98dd435",
   "metadata": {},
   "source": [
    "## Compare Models\n",
    "\n",
    "This function trains and evaluates the performance of all the estimators available in the model library using cross-validation. The output of this function is a scoring grid with average cross-validated scores. Metrics evaluated during CV can be accessed using the `get_metrics` function. Custom metrics can be added or removed using `add_metric` and `remove_metric` function."
   ]
  },
  {
   "cell_type": "code",
   "execution_count": null,
   "id": "65a19df4",
   "metadata": {},
   "outputs": [],
   "source": [
    "# compare baseline models\n",
    "best = compare_models()"
   ]
  },
  {
   "cell_type": "code",
   "execution_count": null,
   "id": "e97813df",
   "metadata": {},
   "outputs": [],
   "source": []
  },
  {
   "attachments": {},
   "cell_type": "markdown",
   "id": "6a77ec0c",
   "metadata": {},
   "source": [
    "## Analyze Model"
   ]
  },
  {
   "attachments": {},
   "cell_type": "markdown",
   "id": "595ea108",
   "metadata": {},
   "source": [
    "You can use the `plot_model` function to analyzes the performance of a trained model on the test set. It may require re-training the model in certain cases."
   ]
  },
  {
   "cell_type": "code",
   "execution_count": null,
   "id": "f971fed6",
   "metadata": {},
   "outputs": [],
   "source": [
    "sampled_data.diabetes.value_counts()"
   ]
  },
  {
   "cell_type": "code",
   "execution_count": null,
   "id": "0ec7fad6",
   "metadata": {},
   "outputs": [],
   "source": [
    "# plot confusion matrix\n",
    "plot_model(best, plot = 'confusion_matrix')"
   ]
  },
  {
   "cell_type": "code",
   "execution_count": null,
   "id": "9fc4b9b1",
   "metadata": {},
   "outputs": [],
   "source": [
    "# plot AUC\n",
    "plot_model(best, plot = 'auc')"
   ]
  },
  {
   "cell_type": "code",
   "execution_count": null,
   "id": "bbc790e4",
   "metadata": {},
   "outputs": [],
   "source": [
    "# plot feature importance\n",
    "plot_model(best, plot = 'feature')"
   ]
  },
  {
   "cell_type": "code",
   "execution_count": null,
   "id": "da718984",
   "metadata": {},
   "outputs": [],
   "source": [
    "# check docstring to see available plots \n",
    "help(plot_model)"
   ]
  },
  {
   "attachments": {},
   "cell_type": "markdown",
   "id": "6bd66179",
   "metadata": {},
   "source": [
    "An alternate to `plot_model` function is `evaluate_model`. It can only be used in Notebook since it uses ipywidget."
   ]
  },
  {
   "cell_type": "code",
   "execution_count": null,
   "id": "c75f07a8",
   "metadata": {},
   "outputs": [],
   "source": [
    "evaluate_model(best)"
   ]
  },
  {
   "attachments": {},
   "cell_type": "markdown",
   "id": "954cbeff",
   "metadata": {},
   "source": [
    "## Prediction\n",
    "The `predict_model` function returns `prediction_label` and `prediction_score` (probability of the predicted class) as new columns in dataframe. When data is `None` (default), it uses the test set (created during the setup function) for scoring."
   ]
  },
  {
   "cell_type": "code",
   "execution_count": null,
   "id": "87c1a007",
   "metadata": {},
   "outputs": [],
   "source": [
    "# predict on test set\n",
    "holdout_pred = predict_model(best)"
   ]
  },
  {
   "cell_type": "code",
   "execution_count": null,
   "id": "5c01ac77",
   "metadata": {},
   "outputs": [],
   "source": [
    "# show predictions df\n",
    "holdout_pred.head()"
   ]
  },
  {
   "attachments": {},
   "cell_type": "markdown",
   "id": "d4baf825",
   "metadata": {},
   "source": [
    "The same function works for predicting the labels on unseen dataset. Let's create a copy of original data and drop the `Class variable`. We can then use the new data frame without labels for scoring."
   ]
  },
  {
   "cell_type": "code",
   "execution_count": null,
   "id": "fb1cb86d",
   "metadata": {},
   "outputs": [],
   "source": [
    "# copy data and drop Class variable\n",
    "\n",
    "new_data = data.copy()\n",
    "new_data.drop('diabetes', axis=1, inplace=True)\n",
    "new_data.head()"
   ]
  },
  {
   "cell_type": "code",
   "execution_count": null,
   "id": "c5803df9",
   "metadata": {},
   "outputs": [],
   "source": [
    "# predict model on new_data\n",
    "predictions = predict_model(best, data = new_data)\n",
    "predictions.head()"
   ]
  },
  {
   "attachments": {},
   "cell_type": "markdown",
   "id": "e4384735",
   "metadata": {},
   "source": [
    "## Save Model"
   ]
  },
  {
   "attachments": {},
   "cell_type": "markdown",
   "id": "cd63f053",
   "metadata": {},
   "source": [
    "Finally, you can save the entire pipeline on disk for later use, using pycaret's `save_model` function."
   ]
  },
  {
   "cell_type": "code",
   "execution_count": null,
   "id": "4181de41",
   "metadata": {},
   "outputs": [],
   "source": [
    "# save pipeline\n",
    "save_model(best, 'my_first_pipeline')"
   ]
  },
  {
   "cell_type": "code",
   "execution_count": null,
   "id": "40ed5152",
   "metadata": {},
   "outputs": [],
   "source": [
    "# load pipeline\n",
    "loaded_best_pipeline = load_model('my_first_pipeline')\n",
    "loaded_best_pipeline"
   ]
  },
  {
   "cell_type": "code",
   "execution_count": null,
   "id": "837cebfa",
   "metadata": {},
   "outputs": [],
   "source": [
    "# check all the available models\n",
    "models()"
   ]
  },
  {
   "cell_type": "code",
   "execution_count": null,
   "id": "16641cab",
   "metadata": {},
   "outputs": [],
   "source": [
    "# train logistic regression with default fold=10\n",
    "lr = create_model('lr')"
   ]
  },
  {
   "attachments": {},
   "cell_type": "markdown",
   "id": "074b4572",
   "metadata": {},
   "source": [
    "The function above has return trained model object as an output. The scoring grid is only displayed and not returned. If you need access to the scoring grid you can use `pull` function to access the dataframe."
   ]
  },
  {
   "cell_type": "code",
   "execution_count": null,
   "id": "fe277e1b",
   "metadata": {},
   "outputs": [],
   "source": [
    "lr_results = pull()\n",
    "print(type(lr_results))\n",
    "lr_results"
   ]
  },
  {
   "cell_type": "code",
   "execution_count": null,
   "id": "148a74c4",
   "metadata": {},
   "outputs": [],
   "source": [
    "# train logistic regression with fold=3\n",
    "lr = create_model('lr', fold=3)"
   ]
  },
  {
   "cell_type": "code",
   "execution_count": null,
   "id": "5a8906a8",
   "metadata": {},
   "outputs": [],
   "source": [
    "# train logistic regression with specific model parameters\n",
    "create_model('lr', C = 0.5, l1_ratio = 0.15)"
   ]
  },
  {
   "cell_type": "code",
   "execution_count": null,
   "id": "b85af29b",
   "metadata": {},
   "outputs": [],
   "source": [
    "# train lr and return train score as well alongwith CV\n",
    "create_model('lr', return_train_score=True)"
   ]
  },
  {
   "attachments": {},
   "cell_type": "markdown",
   "id": "08634e9e",
   "metadata": {},
   "source": [
    "Some other parameters that you might find very useful in `create_model` are:\n",
    "\n",
    "- cross_validation\n",
    "- engine\n",
    "- fit_kwargs\n",
    "- groups\n",
    "\n",
    "You can check the docstring of the function for more info."
   ]
  },
  {
   "cell_type": "code",
   "execution_count": null,
   "id": "3fb32c74",
   "metadata": {},
   "outputs": [],
   "source": [
    "# help(create_model)"
   ]
  },
  {
   "attachments": {},
   "cell_type": "markdown",
   "id": "d5378836",
   "metadata": {},
   "source": [
    "## ✅ Tune Model\n",
    "\n",
    "This function tunes the hyperparameters of the model. The output of this function is a scoring grid with cross-validated scores by fold. The best model is selected based on the metric defined in optimize parameter. Metrics evaluated during cross-validation can be accessed using the `get_metrics` function. Custom metrics can be added or removed using `add_metric` and `remove_metric` function."
   ]
  },
  {
   "cell_type": "code",
   "execution_count": null,
   "id": "402597f2",
   "metadata": {},
   "outputs": [],
   "source": [
    "# train a dt model with default params\n",
    "dt = create_model('dt')"
   ]
  },
  {
   "cell_type": "code",
   "execution_count": null,
   "id": "90dc451d",
   "metadata": {},
   "outputs": [],
   "source": [
    "# tune hyperparameters of dt\n",
    "tuned_dt = tune_model(dt)"
   ]
  },
  {
   "attachments": {},
   "cell_type": "markdown",
   "id": "805b66b9",
   "metadata": {},
   "source": [
    "Metric to optimize can be defined in `optimize` parameter (default = 'Accuracy'). Also, a custom tuned grid can be passed with `custom_grid` parameter. "
   ]
  },
  {
   "cell_type": "code",
   "execution_count": null,
   "id": "cca8e640",
   "metadata": {},
   "outputs": [],
   "source": [
    "dt"
   ]
  },
  {
   "cell_type": "code",
   "execution_count": null,
   "id": "31e050ff",
   "metadata": {},
   "outputs": [],
   "source": [
    "# define tuning grid\n",
    "dt_grid = {'max_depth' : [None, 2, 4, 6, 8, 10, 12]}\n",
    "\n",
    "# tune model with custom grid and metric = F1\n",
    "tuned_dt = tune_model(dt, custom_grid = dt_grid, optimize = 'F1')"
   ]
  },
  {
   "cell_type": "code",
   "execution_count": null,
   "id": "6cca514b",
   "metadata": {},
   "outputs": [],
   "source": [
    "# to access the tuner object you can set return_tuner = True\n",
    "tuned_dt, tuner = tune_model(dt, return_tuner=True)"
   ]
  },
  {
   "cell_type": "code",
   "execution_count": null,
   "id": "80cbb4a6",
   "metadata": {},
   "outputs": [],
   "source": [
    "# model object\n",
    "tuned_dt"
   ]
  },
  {
   "cell_type": "code",
   "execution_count": null,
   "id": "7d5e49ca",
   "metadata": {},
   "outputs": [],
   "source": [
    "# tuner object\n",
    "tuner"
   ]
  },
  {
   "attachments": {},
   "cell_type": "markdown",
   "id": "0a33c70b",
   "metadata": {},
   "source": [
    "The default search algorithm is `RandomizedSearchCV` from `sklearn`. This can be changed by using `search_library` and `search_algorithm` parameter."
   ]
  },
  {
   "cell_type": "code",
   "execution_count": null,
   "id": "31e33547",
   "metadata": {},
   "outputs": [],
   "source": [
    "# tune dt using optuna\n",
    "tuned_dt = tune_model(dt, search_library = 'optuna')"
   ]
  },
  {
   "attachments": {},
   "cell_type": "markdown",
   "id": "a1e2875b",
   "metadata": {},
   "source": [
    "For more details on all available `search_library` and `search_algorithm` please check the docstring. Some other parameters that you might find very useful in `tune_model` are:\n",
    "\n",
    "- choose_better\n",
    "- n_iter\n",
    "- early_stopping\n",
    "- groups\n",
    "\n",
    "You can check the docstring of the function for more info."
   ]
  },
  {
   "cell_type": "code",
   "execution_count": null,
   "id": "94f9c86e",
   "metadata": {},
   "outputs": [],
   "source": [
    "# help(tune_model)"
   ]
  },
  {
   "attachments": {},
   "cell_type": "markdown",
   "id": "2ca8ee07",
   "metadata": {},
   "source": [
    "## ✅ Ensemble Model"
   ]
  },
  {
   "attachments": {},
   "cell_type": "markdown",
   "id": "ce321d4c",
   "metadata": {},
   "source": [
    "This function ensembles a given estimator. The output of this function is a scoring grid with CV scores by fold. Metrics evaluated during CV can be accessed using the `get_metrics` function. Custom metrics can be added or removed using `add_metric` and `remove_metric` function."
   ]
  },
  {
   "cell_type": "code",
   "execution_count": null,
   "id": "c8ee936d",
   "metadata": {},
   "outputs": [],
   "source": [
    "# ensemble with bagging\n",
    "ensemble_model(dt, method = 'Bagging')"
   ]
  },
  {
   "cell_type": "code",
   "execution_count": null,
   "id": "79279394",
   "metadata": {},
   "outputs": [],
   "source": [
    "# ensemble with boosting\n",
    "ensemble_model(dt, method = 'Boosting')"
   ]
  },
  {
   "attachments": {},
   "cell_type": "markdown",
   "id": "d0fa1ce2",
   "metadata": {},
   "source": [
    "Some other parameters that you might find very useful in `ensemble_model` are:\n",
    "\n",
    "- choose_better\n",
    "- n_estimators\n",
    "- groups\n",
    "- fit_kwargs\n",
    "- probability_threshold\n",
    "- return_train_score\n",
    "\n",
    "You can check the docstring of the function for more info."
   ]
  },
  {
   "cell_type": "code",
   "execution_count": null,
   "id": "78130ed1",
   "metadata": {},
   "outputs": [],
   "source": [
    "# help(ensemble_model)"
   ]
  },
  {
   "attachments": {},
   "cell_type": "markdown",
   "id": "ea8a9a4e",
   "metadata": {},
   "source": [
    "## ✅ Blend Models"
   ]
  },
  {
   "cell_type": "code",
   "execution_count": null,
   "id": "cc5e89c0",
   "metadata": {},
   "outputs": [],
   "source": [
    "best_recall_models_top3 = compare_models(sort = 'Recall', n_select = 3)"
   ]
  },
  {
   "cell_type": "code",
   "execution_count": null,
   "id": "04f65f2f",
   "metadata": {},
   "outputs": [],
   "source": [
    "# blend top 3 models\n",
    "blend_models(best_recall_models_top3)"
   ]
  },
  {
   "attachments": {},
   "cell_type": "markdown",
   "id": "9e788c9c",
   "metadata": {},
   "source": [
    "Some other parameters that you might find very useful in `blend_models` are:\n",
    "\n",
    "- choose_better\n",
    "- method\n",
    "- weights\n",
    "- fit_kwargs\n",
    "- probability_threshold\n",
    "- return_train_score\n",
    "\n",
    "You can check the docstring of the function for more info."
   ]
  },
  {
   "cell_type": "code",
   "execution_count": null,
   "id": "99b549a6",
   "metadata": {},
   "outputs": [],
   "source": [
    "# help(blend_models)"
   ]
  },
  {
   "attachments": {},
   "cell_type": "markdown",
   "id": "e76969b0",
   "metadata": {},
   "source": [
    "## ✅ Stack Models"
   ]
  },
  {
   "attachments": {},
   "cell_type": "markdown",
   "id": "55909804",
   "metadata": {},
   "source": [
    "This function trains a meta-model over select estimators passed in the estimator_list parameter. The output of this function is a scoring grid with CV scores by fold. Metrics evaluated during CV can be accessed using the `get_metrics` function. Custom metrics can be added or removed using `add_metric` and `remove_metric` function."
   ]
  },
  {
   "cell_type": "code",
   "execution_count": null,
   "id": "201c681e",
   "metadata": {},
   "outputs": [],
   "source": [
    "# stack models\n",
    "stack_models(best_recall_models_top3)"
   ]
  },
  {
   "attachments": {},
   "cell_type": "markdown",
   "id": "af78cda8",
   "metadata": {},
   "source": [
    "Some other parameters that you might find very useful in `stack_models` are:\n",
    "\n",
    "- choose_better\n",
    "- meta_model\n",
    "- method\n",
    "- restack\n",
    "- probability_threshold\n",
    "- return_train_score\n",
    "\n",
    "You can check the docstring of the function for more info."
   ]
  },
  {
   "cell_type": "code",
   "execution_count": null,
   "id": "3305e597",
   "metadata": {},
   "outputs": [],
   "source": [
    "# help(stack_models)"
   ]
  },
  {
   "attachments": {},
   "cell_type": "markdown",
   "id": "279a3127",
   "metadata": {},
   "source": [
    "## ✅ Plot Model"
   ]
  },
  {
   "attachments": {},
   "cell_type": "markdown",
   "id": "862bd3e9",
   "metadata": {},
   "source": [
    "This function analyzes the performance of a trained model on the hold-out set. It may require re-training the model in certain cases."
   ]
  },
  {
   "cell_type": "code",
   "execution_count": null,
   "id": "9c8da9b4",
   "metadata": {},
   "outputs": [],
   "source": [
    "# plot class report\n",
    "plot_model(best, plot = 'class_report')"
   ]
  },
  {
   "cell_type": "code",
   "execution_count": null,
   "id": "952b6f24",
   "metadata": {},
   "outputs": [],
   "source": [
    "# to control the scale of plot\n",
    "plot_model(best, plot = 'class_report', scale = 2)"
   ]
  },
  {
   "cell_type": "code",
   "execution_count": null,
   "id": "54389270",
   "metadata": {},
   "outputs": [],
   "source": [
    "# to save the plot\n",
    "plot_model(best, plot = 'class_report', save=True)"
   ]
  },
  {
   "attachments": {},
   "cell_type": "markdown",
   "id": "2fef279d",
   "metadata": {},
   "source": [
    "Some other parameters that you might find very useful in `plot_model` are:\n",
    "\n",
    "- fit_kwargs\n",
    "- plot_kwargs\n",
    "- groups\n",
    "- display_format\n",
    "\n",
    "You can check the docstring of the function for more info."
   ]
  },
  {
   "cell_type": "code",
   "execution_count": null,
   "id": "54b09b8e",
   "metadata": {},
   "outputs": [],
   "source": [
    "# help(plot_model)"
   ]
  },
  {
   "attachments": {},
   "cell_type": "markdown",
   "id": "b724ca46",
   "metadata": {},
   "source": [
    "## ✅ Interpret Model"
   ]
  },
  {
   "attachments": {},
   "cell_type": "markdown",
   "id": "52f8fb33",
   "metadata": {},
   "source": [
    "This function analyzes the predictions generated from a trained model. Most plots in this function are implemented based on the SHAP (Shapley Additive exPlanations). For more info on this, please see https://shap.readthedocs.io/en/latest/"
   ]
  },
  {
   "cell_type": "code",
   "execution_count": null,
   "id": "6b6891b7",
   "metadata": {},
   "outputs": [],
   "source": [
    "# train lightgbm model\n",
    "lightgbm = create_model('lightgbm')"
   ]
  },
  {
   "cell_type": "code",
   "execution_count": null,
   "id": "3198b571",
   "metadata": {},
   "outputs": [],
   "source": [
    "# interpret summary model\n",
    "interpret_model(lightgbm, plot = 'summary')"
   ]
  },
  {
   "cell_type": "code",
   "execution_count": null,
   "id": "824bafdc",
   "metadata": {},
   "outputs": [],
   "source": [
    "# reason plot for test set observation 1\n",
    "interpret_model(lightgbm, plot = 'reason', observation = 1)"
   ]
  },
  {
   "attachments": {},
   "cell_type": "markdown",
   "id": "ca7ce2b4",
   "metadata": {},
   "source": [
    "Some other parameters that you might find very useful in `interpret_model` are:\n",
    "\n",
    "- plot\n",
    "- feature\n",
    "- use_train_data\n",
    "- X_new_sample\n",
    "- y_new_sample\n",
    "- save\n",
    "\n",
    "You can check the docstring of the function for more info."
   ]
  },
  {
   "cell_type": "code",
   "execution_count": null,
   "id": "42595030",
   "metadata": {},
   "outputs": [],
   "source": [
    "# help(interpret_model)"
   ]
  },
  {
   "attachments": {},
   "cell_type": "markdown",
   "id": "9f57d0c8",
   "metadata": {},
   "source": [
    "## ✅ Get Leaderboard"
   ]
  },
  {
   "attachments": {},
   "cell_type": "markdown",
   "id": "ec63b67a",
   "metadata": {},
   "source": [
    "This function returns the leaderboard of all models trained in the current setup."
   ]
  },
  {
   "cell_type": "code",
   "execution_count": null,
   "id": "307a6e3c",
   "metadata": {},
   "outputs": [],
   "source": [
    "# get leaderboard\n",
    "lb = get_leaderboard()\n",
    "lb"
   ]
  },
  {
   "cell_type": "code",
   "execution_count": null,
   "id": "f8a8b060",
   "metadata": {},
   "outputs": [],
   "source": [
    "# select the best model based on F1\n",
    "lb.sort_values(by='F1', ascending=False)['Model'].iloc[0]"
   ]
  },
  {
   "attachments": {},
   "cell_type": "markdown",
   "id": "9ecf0bfa",
   "metadata": {},
   "source": [
    "Some other parameters that you might find very useful in `get_leaderboard` are:\n",
    "\n",
    "- finalize_models\n",
    "- fit_kwargs\n",
    "- model_only\n",
    "- groups\n",
    "\n",
    "You can check the docstring of the function for more info."
   ]
  },
  {
   "cell_type": "code",
   "execution_count": null,
   "id": "dc76f0a5",
   "metadata": {},
   "outputs": [],
   "source": [
    "# help(get_leaderboard)"
   ]
  },
  {
   "attachments": {},
   "cell_type": "markdown",
   "id": "94669c72",
   "metadata": {},
   "source": [
    "## ✅ AutoML\n",
    "This function returns the best model out of all trained models in the current setup based on the optimize parameter. Metrics evaluated can be accessed using the `get_metrics` function."
   ]
  },
  {
   "cell_type": "code",
   "execution_count": null,
   "id": "01532054",
   "metadata": {},
   "outputs": [],
   "source": [
    "automl()"
   ]
  },
  {
   "attachments": {},
   "cell_type": "markdown",
   "id": "726b2986",
   "metadata": {},
   "source": [
    "## ✅ Dashboard\n",
    "The dashboard function generates the interactive dashboard for a trained model. The dashboard is implemented using `ExplainerDashboard`. For more information check out [Explainer Dashboard.](explainerdashboard.readthedocs.io)"
   ]
  },
  {
   "cell_type": "code",
   "execution_count": null,
   "id": "ca75507d",
   "metadata": {},
   "outputs": [],
   "source": [
    "# dashboard function\n",
    "dashboard(dt, display_format ='inline')"
   ]
  },
  {
   "attachments": {},
   "cell_type": "markdown",
   "id": "58fd3e5a",
   "metadata": {},
   "source": [
    "## ✅Create App\n",
    "This function creates a basic gradio app for inference."
   ]
  },
  {
   "cell_type": "code",
   "execution_count": null,
   "id": "5cf989d3",
   "metadata": {},
   "outputs": [],
   "source": [
    "# create gradio app\n",
    "create_app(best)"
   ]
  },
  {
   "attachments": {},
   "cell_type": "markdown",
   "id": "a2d8e21d",
   "metadata": {},
   "source": [
    "## ✅ Create API\n",
    "This function takes an input model and creates a POST API for inference."
   ]
  },
  {
   "cell_type": "code",
   "execution_count": null,
   "id": "978413c9",
   "metadata": {},
   "outputs": [],
   "source": [
    "# create api\n",
    "create_api(best, api_name = 'my_first_api')"
   ]
  },
  {
   "cell_type": "code",
   "execution_count": null,
   "id": "68e539aa",
   "metadata": {},
   "outputs": [],
   "source": [
    "# !python my_first_api.py"
   ]
  },
  {
   "cell_type": "code",
   "execution_count": null,
   "id": "a3de3327",
   "metadata": {},
   "outputs": [],
   "source": [
    "# check out the .py file created with this magic command\n",
    "# %load my_first_api.py"
   ]
  },
  {
   "attachments": {},
   "cell_type": "markdown",
   "id": "1023f7df",
   "metadata": {},
   "source": [
    "## ✅ Create Docker\n",
    "This function creates a `Dockerfile` and `requirements.txt` for productionalizing API end-point."
   ]
  },
  {
   "cell_type": "code",
   "execution_count": null,
   "id": "452ced14",
   "metadata": {},
   "outputs": [],
   "source": [
    "create_docker('my_first_api')"
   ]
  },
  {
   "cell_type": "code",
   "execution_count": null,
   "id": "301e1fa5",
   "metadata": {},
   "outputs": [],
   "source": [
    "# check out the DockerFile file created with this magic command\n",
    "# %load DockerFile"
   ]
  },
  {
   "cell_type": "code",
   "execution_count": null,
   "id": "ca1e9ef7",
   "metadata": {},
   "outputs": [],
   "source": [
    "# check out the requirements file created with this magic command\n",
    "# %load requirements.txt"
   ]
  },
  {
   "attachments": {},
   "cell_type": "markdown",
   "id": "e27c212b",
   "metadata": {},
   "source": [
    "## ✅ Finalize Model\n",
    "This function trains a given model on the entire dataset including the hold-out set."
   ]
  },
  {
   "cell_type": "code",
   "execution_count": null,
   "id": "65225684",
   "metadata": {},
   "outputs": [],
   "source": [
    "final_best = finalize_model(best)"
   ]
  },
  {
   "cell_type": "code",
   "execution_count": null,
   "id": "80d17fec",
   "metadata": {},
   "outputs": [],
   "source": [
    "final_best"
   ]
  },
  {
   "attachments": {},
   "cell_type": "markdown",
   "id": "b4693f88",
   "metadata": {},
   "source": [
    "## ✅ Convert Model\n",
    "This function transpiles the trained machine learning model's decision function in different programming languages such as Python, C, Java, Go, C#, etc. It is very useful if you want to deploy models into environments where you can't install your normal Python stack to support model inference."
   ]
  },
  {
   "cell_type": "code",
   "execution_count": null,
   "id": "dbe0e9fe",
   "metadata": {},
   "outputs": [],
   "source": [
    "# transpiles learned function to java\n",
    "print(convert_model(dt, language = 'java'))"
   ]
  },
  {
   "attachments": {},
   "cell_type": "markdown",
   "id": "ed00202c",
   "metadata": {},
   "source": [
    "## ✅ Deploy Model\n",
    "This function deploys the entire ML pipeline on the cloud.\n",
    "\n",
    "**AWS:**  When deploying model on AWS S3, environment variables must be configured using the command-line interface. To configure AWS environment variables, type `aws configure` in terminal. The following information is required which can be generated using the Identity and Access Management (IAM) portal of your amazon console account:\n",
    "\n",
    "- AWS Access Key ID\n",
    "- AWS Secret Key Access\n",
    "- Default Region Name (can be seen under Global settings on your AWS console)\n",
    "- Default output format (must be left blank)\n",
    "\n",
    "**GCP:** To deploy a model on Google Cloud Platform ('gcp'), the project must be created using the command-line or GCP console. Once the project is created, you must create a service account and download the service account key as a JSON file to set environment variables in your local environment. Learn more about it: https://cloud.google.com/docs/authentication/production\n",
    "\n",
    "**Azure:** To deploy a model on Microsoft Azure ('azure'), environment variables for the connection string must be set in your local environment. Go to settings of storage account on Azure portal to access the connection string required.\n",
    "AZURE_STORAGE_CONNECTION_STRING (required as environment variable)\n",
    "Learn more about it: https://docs.microsoft.com/en-us/azure/storage/blobs/storage-quickstart-blobs-python?toc=%2Fpython%2Fazure%2FTOC.json"
   ]
  },
  {
   "cell_type": "code",
   "execution_count": null,
   "id": "40b20a18",
   "metadata": {},
   "outputs": [],
   "source": [
    "# deploy model on aws s3\n",
    "# deploy_model(best, model_name = 'my_first_platform_on_aws',\n",
    "#             platform = 'aws', authentication = {'bucket' : 'pycaret-test'})"
   ]
  },
  {
   "cell_type": "code",
   "execution_count": null,
   "id": "9e236516",
   "metadata": {},
   "outputs": [],
   "source": [
    "# load model from aws s3\n",
    "# loaded_from_aws = load_model(model_name = 'my_first_platform_on_aws', platform = 'aws',\n",
    "#                              authentication = {'bucket' : 'pycaret-test'})\n",
    "\n",
    "# loaded_from_aws"
   ]
  },
  {
   "attachments": {},
   "cell_type": "markdown",
   "id": "e169ae86",
   "metadata": {},
   "source": [
    "## ✅ Save / Load Model\n",
    "This function saves the transformation pipeline and a trained model object into the current working directory as a pickle file for later use."
   ]
  },
  {
   "cell_type": "code",
   "execution_count": null,
   "id": "bc5cf24a",
   "metadata": {},
   "outputs": [],
   "source": [
    "# save model\n",
    "save_model(best, 'my_first_model')"
   ]
  },
  {
   "cell_type": "code",
   "execution_count": null,
   "id": "e8478d34",
   "metadata": {},
   "outputs": [],
   "source": [
    "# load model\n",
    "loaded_from_disk = load_model('my_first_model')\n",
    "loaded_from_disk"
   ]
  },
  {
   "attachments": {},
   "cell_type": "markdown",
   "id": "de5eee8c",
   "metadata": {},
   "source": [
    "## ✅ Save / Load Experiment\n",
    "This function saves all the experiment variables on disk, allowing to later resume without rerunning the setup function."
   ]
  },
  {
   "cell_type": "code",
   "execution_count": null,
   "id": "6a3c61b6",
   "metadata": {},
   "outputs": [],
   "source": [
    "# save experiment\n",
    "save_experiment('my_experiment')"
   ]
  },
  {
   "cell_type": "code",
   "execution_count": null,
   "id": "83252c09",
   "metadata": {},
   "outputs": [],
   "source": [
    "# load experiment from disk\n",
    "exp_from_disk = load_experiment('my_experiment', data=data)"
   ]
  }
 ],
 "metadata": {
  "kernelspec": {
   "display_name": "clean",
   "language": "python",
   "name": "python3"
  },
  "language_info": {
   "codemirror_mode": {
    "name": "ipython",
    "version": 3
   },
   "file_extension": ".py",
   "mimetype": "text/x-python",
   "name": "python",
   "nbconvert_exporter": "python",
   "pygments_lexer": "ipython3",
   "version": "3.8.18"
  }
 },
 "nbformat": 4,
 "nbformat_minor": 5
}
