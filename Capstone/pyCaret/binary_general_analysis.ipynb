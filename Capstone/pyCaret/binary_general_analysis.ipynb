{
 "cells": [
  {
   "cell_type": "code",
   "execution_count": 1,
   "metadata": {},
   "outputs": [],
   "source": [
    "#Every pyCaret model was generated with samplers that didn't crash that performed reasonable.\n",
    "#the models had pre and post tune_model to evaluate\n",
    "#Of the 195 models, the top two standout classifiers were tuned\n",
    "\n",
    "#GradientBoostingClassifier with RandomOverSampler \n",
    "# Recall\n",
    "# 78.37 Baseline\n",
    "# 17.69 After tune_model\n",
    "# 95.88 After GridSearch tuning\n",
    "\n",
    "#LGBM with RandomOverSampler\n",
    "# Recall\n",
    "# 78.86 Baseline\n",
    "# 14.33 After tune_model\n",
    "# 92.73 After GridSearch tuning\n",
    "\n",
    "import pandas as pd\n",
    "from sklearn.model_selection import train_test_split\n",
    "from sklearn.ensemble import GradientBoostingClassifier\n",
    "from sklearn.metrics import confusion_matrix\n",
    "from sklearn.metrics import recall_score\n",
    "from imblearn.over_sampling import *\n",
    "from lightgbm import LGBMClassifier"
   ]
  },
  {
   "cell_type": "code",
   "execution_count": 2,
   "metadata": {},
   "outputs": [],
   "source": [
    "\n",
    "data3 = pd.read_csv(r\"..\\binary_optimizer.csv\")\n",
    "#pd.set_option('display.max_rows', None)"
   ]
  },
  {
   "cell_type": "code",
   "execution_count": 3,
   "metadata": {},
   "outputs": [
    {
     "data": {
      "text/html": [
       "<div>\n",
       "<style scoped>\n",
       "    .dataframe tbody tr th:only-of-type {\n",
       "        vertical-align: middle;\n",
       "    }\n",
       "\n",
       "    .dataframe tbody tr th {\n",
       "        vertical-align: top;\n",
       "    }\n",
       "\n",
       "    .dataframe thead th {\n",
       "        text-align: right;\n",
       "    }\n",
       "</style>\n",
       "<table border=\"1\" class=\"dataframe\">\n",
       "  <thead>\n",
       "    <tr style=\"text-align: right;\">\n",
       "      <th></th>\n",
       "      <th>None</th>\n",
       "      <th>Diab</th>\n",
       "      <th>Info</th>\n",
       "      <th>ifier</th>\n",
       "      <th>PrePost</th>\n",
       "      <th>Total</th>\n",
       "      <th>Diab2</th>\n",
       "    </tr>\n",
       "  </thead>\n",
       "  <tbody>\n",
       "    <tr>\n",
       "      <th>78</th>\n",
       "      <td>69.835287</td>\n",
       "      <td>78.371659</td>\n",
       "      <td>Pipeline</td>\n",
       "      <td>model_GradientBoostingClassifier_RandomOverSam...</td>\n",
       "      <td>Pre</td>\n",
       "      <td>148.206946</td>\n",
       "      <td>78.371659</td>\n",
       "    </tr>\n",
       "    <tr>\n",
       "      <th>104</th>\n",
       "      <td>69.334668</td>\n",
       "      <td>78.868863</td>\n",
       "      <td>Pipeline</td>\n",
       "      <td>model_LGBMClassifier_RandomOverSampler_auto</td>\n",
       "      <td>Pre</td>\n",
       "      <td>148.203531</td>\n",
       "      <td>78.868863</td>\n",
       "    </tr>\n",
       "  </tbody>\n",
       "</table>\n",
       "</div>"
      ],
      "text/plain": [
       "          None       Diab      Info  \\\n",
       "78   69.835287  78.371659  Pipeline   \n",
       "104  69.334668  78.868863  Pipeline   \n",
       "\n",
       "                                                 ifier PrePost       Total  \\\n",
       "78   model_GradientBoostingClassifier_RandomOverSam...     Pre  148.206946   \n",
       "104        model_LGBMClassifier_RandomOverSampler_auto     Pre  148.203531   \n",
       "\n",
       "         Diab2  \n",
       "78   78.371659  \n",
       "104  78.868863  "
      ]
     },
     "execution_count": 3,
     "metadata": {},
     "output_type": "execute_result"
    }
   ],
   "source": [
    "#data3[data3.B1 > 140].sort_values('B1', ascending=False)\n",
    "data3.sort_values('Total',ascending=False).head(2)"
   ]
  },
  {
   "cell_type": "code",
   "execution_count": 4,
   "metadata": {},
   "outputs": [],
   "source": [
    "TARGET = 'diabetes'\n",
    "ANSWER = 42"
   ]
  },
  {
   "cell_type": "code",
   "execution_count": 5,
   "metadata": {},
   "outputs": [],
   "source": [
    "data = pd.read_csv(\"..\\diabetes_cleaned.csv\")\n",
    "data.drop(['Unnamed: 0','heart_attack','angina_or_chd','chd_mi'], axis=1, inplace=True)"
   ]
  },
  {
   "cell_type": "code",
   "execution_count": 6,
   "metadata": {},
   "outputs": [
    {
     "name": "stdout",
     "output_type": "stream",
     "text": [
      "0.0    254681\n",
      "2.0     41479\n",
      "1.0      6793\n",
      "Name: diabetes, dtype: int64\n",
      "0.0    254681\n",
      "1.0     48272\n",
      "Name: diabetes, dtype: int64\n"
     ]
    }
   ],
   "source": [
    "#display distribution of label records\n",
    "print(data.diabetes.value_counts())\n",
    "\n",
    "#convert the solution to binary\n",
    "data.loc[data.diabetes.isin([2]), \"diabetes\"] = 1\n",
    "\n",
    "#display distribution of label records\n",
    "print(data.diabetes.value_counts())"
   ]
  },
  {
   "cell_type": "code",
   "execution_count": 7,
   "metadata": {},
   "outputs": [],
   "source": [
    "def Sampler(df, target, sampler_name, strategy):\n",
    "    sampler = globals()[sampler_name](sampling_strategy=strategy)\n",
    "\n",
    "    under_train_labels = df[target]\n",
    "    under_train_features = df.drop(columns=target)\n",
    "    \n",
    "    X, y = sampler.fit_resample(under_train_features, under_train_labels)\n",
    "    \n",
    "    sampled_data = X\n",
    "    sampled_data[target] = y\n",
    "    \n",
    "    print(sampled_data[target].value_counts())\n",
    "    return sampled_data    "
   ]
  },
  {
   "cell_type": "code",
   "execution_count": 8,
   "metadata": {},
   "outputs": [
    {
     "name": "stdout",
     "output_type": "stream",
     "text": [
      "0.0    254681\n",
      "1.0    254681\n",
      "Name: diabetes, dtype: int64\n"
     ]
    }
   ],
   "source": [
    "#Random Over Sampler outperformed the other samplers\n",
    "sampled_data = Sampler(data,TARGET,'RandomOverSampler','auto')"
   ]
  },
  {
   "cell_type": "code",
   "execution_count": 9,
   "metadata": {},
   "outputs": [],
   "source": [
    "#Save off a test dataframe for testing\n",
    "train_df, test_df = train_test_split(sampled_data, test_size=0.2, random_state=ANSWER, stratify=sampled_data['diabetes'])"
   ]
  },
  {
   "cell_type": "code",
   "execution_count": 10,
   "metadata": {},
   "outputs": [],
   "source": [
    "test_labels = test_df[TARGET]\n",
    "test_features = test_df.drop(columns=TARGET)\n",
    "train_labels = test_df[TARGET]\n",
    "train_features = test_df.drop(columns=TARGET)\n"
   ]
  },
  {
   "cell_type": "code",
   "execution_count": 11,
   "metadata": {},
   "outputs": [],
   "source": [
    "clf = GradientBoostingClassifier()\n",
    "clf.fit(train_features, train_labels)\n",
    "predictions = clf.predict(test_features)"
   ]
  },
  {
   "cell_type": "code",
   "execution_count": 12,
   "metadata": {},
   "outputs": [
    {
     "data": {
      "text/plain": [
       "array([[35346, 15591],\n",
       "       [10891, 40045]], dtype=int64)"
      ]
     },
     "execution_count": 12,
     "metadata": {},
     "output_type": "execute_result"
    }
   ],
   "source": [
    "confusion_matrix(test_labels, predictions)"
   ]
  },
  {
   "cell_type": "code",
   "execution_count": 13,
   "metadata": {},
   "outputs": [
    {
     "data": {
      "text/plain": [
       "0.7861826605936862"
      ]
     },
     "execution_count": 13,
     "metadata": {},
     "output_type": "execute_result"
    }
   ],
   "source": [
    "recall_score(test_labels, predictions)"
   ]
  },
  {
   "cell_type": "code",
   "execution_count": 14,
   "metadata": {},
   "outputs": [],
   "source": [
    "from sklearn.model_selection import GridSearchCV"
   ]
  },
  {
   "cell_type": "code",
   "execution_count": 15,
   "metadata": {},
   "outputs": [
    {
     "name": "stdout",
     "output_type": "stream",
     "text": [
      "0.9582024501335009 {'criterion': 'friedman_mse', 'learning_rate': 0.1, 'max_depth': 16, 'n_estimators': 50}\n"
     ]
    }
   ],
   "source": [
    "#Evaluate Gradient boosting classifier\n",
    "param_grid = {\n",
    "    'n_estimators' : [50],\n",
    "    'learning_rate' : [ 0.1],\n",
    "    'criterion' : ['friedman_mse'],\n",
    "    'max_depth' : [16],\n",
    "    \n",
    "}\n",
    "clf = GridSearchCV(GradientBoostingClassifier(), scoring='recall', param_grid=param_grid )\n",
    "estimator = clf.fit(train_features, train_labels)\n",
    "\n",
    "predictions = clf.predict(test_features)\n",
    "print(recall_score(test_labels, predictions), estimator.best_params_)\n",
    "\n"
   ]
  },
  {
   "cell_type": "markdown",
   "metadata": {},
   "source": [
    "Results</br>\n",
    "0.7857900109941888 {'criterion': 'friedman_mse', 'learning_rate': 0.1, 'n_estimators': 50}</br>\n",
    "0.8093686194440082 {'criterion': 'friedman_mse', 'learning_rate': 0.1, 'max_depth': 7, 'n_estimators': 50}</br>\n",
    "0.8538165541071148 {'criterion': 'friedman_mse', 'learning_rate': 0.1, 'max_depth': 10, 'n_estimators': 50}</br>\n",
    "0.9572993560546568 {'criterion': 'friedman_mse', 'learning_rate': 0.1, 'max_depth': 16, 'n_estimators': 50}</br>\n",
    "0.95606250981624 {'criterion': 'friedman_mse', 'learning_rate': 0.09, 'max_depth': 16, 'n_estimators': 50}</br>\n",
    "0.9529409455002356 {'criterion': 'friedman_mse', 'learning_rate': 0.08, 'max_depth': 16, 'n_estimators': 50}</br>\n",
    "0.9529409455002356 {'criterion': 'friedman_mse', 'learning_rate': 0.08, 'max_depth': 16, 'n_estimators': 50}</br>\n",
    "0.9588306894926967 {'criterion': 'friedman_mse', 'learning_rate': 0.1, 'max_depth': 16, 'n_estimators': 50}"
   ]
  },
  {
   "cell_type": "code",
   "execution_count": null,
   "metadata": {},
   "outputs": [],
   "source": [
    "param_grid = {\n",
    "    'boosting_type' : ['gbdt'],\n",
    "    'learning_rate'  : [0.1],\n",
    "    'objective' : ['binary'],\n",
    "    'num_leaves' : [168],\n",
    "    'n_estimators': [1195,1200,1205]\n",
    "}\n",
    "clf = GridSearchCV(LGBMClassifier(), scoring='recall', param_grid=param_grid )\n",
    "estimator = clf.fit(train_features, train_labels)\n",
    "\n",
    "predictions = clf.predict(test_features)\n",
    "print(recall_score(test_labels, predictions), estimator.best_params_)"
   ]
  },
  {
   "cell_type": "markdown",
   "metadata": {},
   "source": [
    "Results</br>\n",
    "0.8006321658551908 {'boosting_type': 'gbdt'}  Default</br>\n",
    "0.8006321658551908 {'boosting_type': 'gbdt', 'learning_rate': 0.1}</br>\n",
    "0.8000628239359195 {'boosting_type': 'dart', 'learning_rate': 0.11, 'objective': 'binary'}</br>\n",
    "0.8071894141667976 {'boosting_type': 'gbdt', 'learning_rate': 0.1, 'n_estimators': 150, 'num_leaves': 40, 'objective': 'binary'}</br>\n",
    "0.8226009109470709 {'boosting_type': 'gbdt', 'learning_rate': 0.1, 'n_estimators': 200, 'num_leaves': 60, 'objective': 'binary'}</br>\n",
    "0.8459831945971416 {'boosting_type': 'gbdt', 'learning_rate': 0.1, 'n_estimators': 400, 'num_leaves': 70, 'objective': 'binary'}</br>\n",
    "0.8779841369561803 {'boosting_type': 'gbdt', 'learning_rate': 0.1, 'n_estimators': 550, 'num_leaves': 110, 'objective': 'binary'}</br>\n",
    "0.9131655410711481 {'boosting_type': 'gbdt', 'learning_rate': 0.1, 'n_estimators': 900, 'num_leaves': 150, 'objective': 'binary'}</br>\n",
    "0.9255732684152662 {'boosting_type': 'gbdt', 'learning_rate': 0.1, 'n_estimators': 1200, 'num_leaves': 170, 'objective': 'binary'}</br>\n",
    "0.9273794565729543 {'boosting_type': 'gbdt', 'learning_rate': 0.1, 'n_estimators': 1200, 'num_leaves': 168, 'objective': 'binary'}</br>\n"
   ]
  },
  {
   "cell_type": "code",
   "execution_count": null,
   "metadata": {},
   "outputs": [],
   "source": [
    "from sklearn.metrics import confusion_matrix"
   ]
  },
  {
   "cell_type": "code",
   "execution_count": null,
   "metadata": {},
   "outputs": [],
   "source": [
    "cm = confusion_matrix(test_labels, predictions)\n",
    "tp0 = cm[0][0] / (cm[0][0]+cm[0][1])\n",
    "tp1 = cm[1][1] / (cm[1][0]+cm[1][1])\n",
    "print(cm,tp0,tp1)\n"
   ]
  },
  {
   "cell_type": "code",
   "execution_count": 16,
   "metadata": {},
   "outputs": [
    {
     "data": {
      "image/png": "[encoded data removed]",
      "text/plain": [
       "<Figure size 640x480 with 1 Axes>"
      ]
     },
     "metadata": {},
     "output_type": "display_data"
    },
    {
     "ename": "ModuleNotFoundError",
     "evalue": "No module named 'ggplot'",
     "output_type": "error",
     "traceback": [
      "\u001b[1;31m---------------------------------------------------------------------------\u001b[0m",
      "\u001b[1;31mModuleNotFoundError\u001b[0m                       Traceback (most recent call last)",
      "\u001b[1;32mc:\\Springboard\\mec-mini-projects\\Capstone\\pyCaret\\binary_general_analysis.ipynb Cell 21\u001b[0m line \u001b[0;36m2\n\u001b[0;32m     <a href='vscode-notebook-cell:/c%3A/Springboard/mec-mini-projects/Capstone/pyCaret/binary_general_analysis.ipynb#X30sZmlsZQ%3D%3D?line=17'>18</a>\u001b[0m plt\u001b[39m.\u001b[39mshow()\n\u001b[0;32m     <a href='vscode-notebook-cell:/c%3A/Springboard/mec-mini-projects/Capstone/pyCaret/binary_general_analysis.ipynb#X30sZmlsZQ%3D%3D?line=19'>20</a>\u001b[0m \u001b[39m# method II: ggplot\u001b[39;00m\n\u001b[1;32m---> <a href='vscode-notebook-cell:/c%3A/Springboard/mec-mini-projects/Capstone/pyCaret/binary_general_analysis.ipynb#X30sZmlsZQ%3D%3D?line=20'>21</a>\u001b[0m \u001b[39mfrom\u001b[39;00m \u001b[39mggplot\u001b[39;00m \u001b[39mimport\u001b[39;00m \u001b[39m*\u001b[39m\n\u001b[0;32m     <a href='vscode-notebook-cell:/c%3A/Springboard/mec-mini-projects/Capstone/pyCaret/binary_general_analysis.ipynb#X30sZmlsZQ%3D%3D?line=21'>22</a>\u001b[0m df \u001b[39m=\u001b[39m pd\u001b[39m.\u001b[39mDataFrame(\u001b[39mdict\u001b[39m(fpr \u001b[39m=\u001b[39m fpr, tpr \u001b[39m=\u001b[39m tpr))\n\u001b[0;32m     <a href='vscode-notebook-cell:/c%3A/Springboard/mec-mini-projects/Capstone/pyCaret/binary_general_analysis.ipynb#X30sZmlsZQ%3D%3D?line=22'>23</a>\u001b[0m ggplot(df, aes(x \u001b[39m=\u001b[39m \u001b[39m'\u001b[39m\u001b[39mfpr\u001b[39m\u001b[39m'\u001b[39m, y \u001b[39m=\u001b[39m \u001b[39m'\u001b[39m\u001b[39mtpr\u001b[39m\u001b[39m'\u001b[39m)) \u001b[39m+\u001b[39m geom_line() \u001b[39m+\u001b[39m geom_abline(linetype \u001b[39m=\u001b[39m \u001b[39m'\u001b[39m\u001b[39mdashed\u001b[39m\u001b[39m'\u001b[39m)\n",
      "\u001b[1;31mModuleNotFoundError\u001b[0m: No module named 'ggplot'"
     ]
    }
   ],
   "source": [
    "import sklearn.metrics as metrics\n",
    "# calculate the fpr and tpr for all thresholds of the classification\n",
    "probs = clf.predict_proba(test_features)\n",
    "preds = probs[:,1]\n",
    "fpr, tpr, threshold = metrics.roc_curve(test_labels, preds)\n",
    "roc_auc = metrics.auc(fpr, tpr)\n",
    "\n",
    "# method I: plt\n",
    "import matplotlib.pyplot as plt\n",
    "plt.title('Receiver Operating Characteristic')\n",
    "plt.plot(fpr, tpr, 'b', label = 'AUC = %0.2f' % roc_auc)\n",
    "plt.legend(loc = 'lower right')\n",
    "plt.plot([0, 1], [0, 1],'r--')\n",
    "plt.xlim([0, 1])\n",
    "plt.ylim([0, 1])\n",
    "plt.ylabel('True Positive Rate')\n",
    "plt.xlabel('False Positive Rate')\n",
    "plt.show()\n",
    "\n",
    "# method II: ggplot\n",
    "from ggplot import *\n",
    "df = pd.DataFrame(dict(fpr = fpr, tpr = tpr))\n",
    "ggplot(df, aes(x = 'fpr', y = 'tpr')) + geom_line() + geom_abline(linetype = 'dashed')"
   ]
  },
  {
   "cell_type": "code",
   "execution_count": null,
   "metadata": {},
   "outputs": [],
   "source": []
  }
 ],
 "metadata": {
  "kernelspec": {
   "display_name": "Python 3",
   "language": "python",
   "name": "python3"
  },
  "language_info": {
   "codemirror_mode": {
    "name": "ipython",
    "version": 3
   },
   "file_extension": ".py",
   "mimetype": "text/x-python",
   "name": "python",
   "nbconvert_exporter": "python",
   "pygments_lexer": "ipython3",
   "version": "3.8.18"
  }
 },
 "nbformat": 4,
 "nbformat_minor": 2
}
