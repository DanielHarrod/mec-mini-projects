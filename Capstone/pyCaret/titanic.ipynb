{
 "cells": [
  {
   "attachments": {},
   "cell_type": "markdown",
   "id": "81e0620e",
   "metadata": {},
   "source": [
    "Last updated: 16 Feb 2023\n",
    "\n",
    "# 👋 PyCaret Multiclass Classification Tutorial\n",
    "\n",
    "PyCaret is an open-source, low-code machine learning library in Python that automates machine learning workflows. It is an end-to-end machine learning and model management tool that exponentially speeds up the experiment cycle and makes you more productive.\n",
    "\n",
    "Compared with the other open-source machine learning libraries, PyCaret is an alternate low-code library that can be used to replace hundreds of lines of code with a few lines only. This makes experiments exponentially fast and efficient. PyCaret is essentially a Python wrapper around several machine learning libraries and frameworks, such as scikit-learn, XGBoost, LightGBM, CatBoost, spaCy, Optuna, Hyperopt, Ray, and a few more.\n",
    "\n",
    "The design and simplicity of PyCaret are inspired by the emerging role of citizen data scientists, a term first used by Gartner. Citizen Data Scientists are power users who can perform both simple and moderately sophisticated analytical tasks that would previously have required more technical expertise.\n"
   ]
  },
  {
   "attachments": {},
   "cell_type": "markdown",
   "id": "8116e19d",
   "metadata": {},
   "source": [
    "# 💻 Installation\n",
    "\n",
    "PyCaret is tested and supported on the following 64-bit systems:\n",
    "- Python 3.7 – 3.10\n",
    "- Python 3.9 for Ubuntu only\n",
    "- Ubuntu 16.04 or later\n",
    "- Windows 7 or later\n",
    "\n",
    "You can install PyCaret with Python's pip package manager:\n",
    "\n",
    "`pip install pycaret`\n",
    "\n",
    "PyCaret's default installation will not install all the extra dependencies automatically. For that you will have to install the full version:\n",
    "\n",
    "`pip install pycaret[full]`\n",
    "\n",
    "or depending on your use-case you may install one of the following variant:\n",
    "\n",
    "- `pip install pycaret[analysis]`\n",
    "- `pip install pycaret[models]`\n",
    "- `pip install pycaret[tuner]`\n",
    "- `pip install pycaret[mlops]`\n",
    "- `pip install pycaret[parallel]`\n",
    "- `pip install pycaret[test]`"
   ]
  },
  {
   "cell_type": "code",
   "execution_count": 1,
   "id": "d7142a33",
   "metadata": {},
   "outputs": [
    {
     "data": {
      "text/plain": [
       "'3.1.0'"
      ]
     },
     "execution_count": 1,
     "metadata": {},
     "output_type": "execute_result"
    }
   ],
   "source": [
    "# check installed version\n",
    "import pycaret\n",
    "pycaret.__version__"
   ]
  },
  {
   "attachments": {},
   "cell_type": "markdown",
   "id": "fb66e98d",
   "metadata": {},
   "source": [
    "# 🚀 Quick start"
   ]
  },
  {
   "attachments": {},
   "cell_type": "markdown",
   "id": "00347d44",
   "metadata": {},
   "source": [
    "PyCaret’s Classification Module is a supervised machine learning module that is used for classifying elements into groups. The goal is to predict the categorical class labels which are discrete and unordered. \n",
    "\n",
    "Some common use cases include predicting customer default (Yes or No), predicting customer churn (customer will leave or stay), the disease found (positive or negative). \n",
    "\n",
    "This module can be used for binary or multiclass problems. It provides several pre-processing features that prepare the data for modeling through the setup function. It has over 18 ready-to-use algorithms and several plots to analyze the performance of trained models.\n",
    "\n",
    "A typical workflow in PyCaret consist of following 5 steps in this order:\n",
    "\n",
    "## **Setup** ➡️ **Compare Models** ➡️ **Analyze Model** ➡️ **Prediction** ➡️ **Save Model**"
   ]
  },
  {
   "cell_type": "code",
   "execution_count": 2,
   "id": "0b0c36c6",
   "metadata": {},
   "outputs": [],
   "source": [
    "import pandas as pd"
   ]
  },
  {
   "cell_type": "code",
   "execution_count": 3,
   "id": "41f751f2",
   "metadata": {},
   "outputs": [],
   "source": [
    "data = pd.read_csv(\"..\\diabetes_cleaned.csv\")"
   ]
  },
  {
   "cell_type": "code",
   "execution_count": 4,
   "id": "ad7c31cb",
   "metadata": {},
   "outputs": [],
   "source": [
    "data.drop('Unnamed: 0', axis=1, inplace=True)"
   ]
  },
  {
   "attachments": {},
   "cell_type": "markdown",
   "id": "c00f6a4a",
   "metadata": {},
   "source": [
    "## Setup\n",
    "This function initializes the training environment and creates the transformation pipeline. Setup function must be called before executing any other function in PyCaret. It only has two required parameters i.e. `data` and `target`. All the other parameters are optional."
   ]
  },
  {
   "cell_type": "code",
   "execution_count": 5,
   "id": "97f2c6c6",
   "metadata": {},
   "outputs": [
    {
     "data": {
      "text/html": [
       "<style type=\"text/css\">\n",
       "#T_a920b_row8_col1 {\n",
       "  background-color: lightgreen;\n",
       "}\n",
       "</style>\n",
       "<table id=\"T_a920b\">\n",
       "  <thead>\n",
       "    <tr>\n",
       "      <th class=\"blank level0\" >&nbsp;</th>\n",
       "      <th id=\"T_a920b_level0_col0\" class=\"col_heading level0 col0\" >Description</th>\n",
       "      <th id=\"T_a920b_level0_col1\" class=\"col_heading level0 col1\" >Value</th>\n",
       "    </tr>\n",
       "  </thead>\n",
       "  <tbody>\n",
       "    <tr>\n",
       "      <th id=\"T_a920b_level0_row0\" class=\"row_heading level0 row0\" >0</th>\n",
       "      <td id=\"T_a920b_row0_col0\" class=\"data row0 col0\" >Session id</td>\n",
       "      <td id=\"T_a920b_row0_col1\" class=\"data row0 col1\" >123</td>\n",
       "    </tr>\n",
       "    <tr>\n",
       "      <th id=\"T_a920b_level0_row1\" class=\"row_heading level0 row1\" >1</th>\n",
       "      <td id=\"T_a920b_row1_col0\" class=\"data row1 col0\" >Target</td>\n",
       "      <td id=\"T_a920b_row1_col1\" class=\"data row1 col1\" >diabetes</td>\n",
       "    </tr>\n",
       "    <tr>\n",
       "      <th id=\"T_a920b_level0_row2\" class=\"row_heading level0 row2\" >2</th>\n",
       "      <td id=\"T_a920b_row2_col0\" class=\"data row2 col0\" >Target type</td>\n",
       "      <td id=\"T_a920b_row2_col1\" class=\"data row2 col1\" >Multiclass</td>\n",
       "    </tr>\n",
       "    <tr>\n",
       "      <th id=\"T_a920b_level0_row3\" class=\"row_heading level0 row3\" >3</th>\n",
       "      <td id=\"T_a920b_row3_col0\" class=\"data row3 col0\" >Original data shape</td>\n",
       "      <td id=\"T_a920b_row3_col1\" class=\"data row3 col1\" >(302953, 25)</td>\n",
       "    </tr>\n",
       "    <tr>\n",
       "      <th id=\"T_a920b_level0_row4\" class=\"row_heading level0 row4\" >4</th>\n",
       "      <td id=\"T_a920b_row4_col0\" class=\"data row4 col0\" >Transformed data shape</td>\n",
       "      <td id=\"T_a920b_row4_col1\" class=\"data row4 col1\" >(302953, 25)</td>\n",
       "    </tr>\n",
       "    <tr>\n",
       "      <th id=\"T_a920b_level0_row5\" class=\"row_heading level0 row5\" >5</th>\n",
       "      <td id=\"T_a920b_row5_col0\" class=\"data row5 col0\" >Transformed train set shape</td>\n",
       "      <td id=\"T_a920b_row5_col1\" class=\"data row5 col1\" >(212067, 25)</td>\n",
       "    </tr>\n",
       "    <tr>\n",
       "      <th id=\"T_a920b_level0_row6\" class=\"row_heading level0 row6\" >6</th>\n",
       "      <td id=\"T_a920b_row6_col0\" class=\"data row6 col0\" >Transformed test set shape</td>\n",
       "      <td id=\"T_a920b_row6_col1\" class=\"data row6 col1\" >(90886, 25)</td>\n",
       "    </tr>\n",
       "    <tr>\n",
       "      <th id=\"T_a920b_level0_row7\" class=\"row_heading level0 row7\" >7</th>\n",
       "      <td id=\"T_a920b_row7_col0\" class=\"data row7 col0\" >Numeric features</td>\n",
       "      <td id=\"T_a920b_row7_col1\" class=\"data row7 col1\" >24</td>\n",
       "    </tr>\n",
       "    <tr>\n",
       "      <th id=\"T_a920b_level0_row8\" class=\"row_heading level0 row8\" >8</th>\n",
       "      <td id=\"T_a920b_row8_col0\" class=\"data row8 col0\" >Preprocess</td>\n",
       "      <td id=\"T_a920b_row8_col1\" class=\"data row8 col1\" >True</td>\n",
       "    </tr>\n",
       "    <tr>\n",
       "      <th id=\"T_a920b_level0_row9\" class=\"row_heading level0 row9\" >9</th>\n",
       "      <td id=\"T_a920b_row9_col0\" class=\"data row9 col0\" >Imputation type</td>\n",
       "      <td id=\"T_a920b_row9_col1\" class=\"data row9 col1\" >simple</td>\n",
       "    </tr>\n",
       "    <tr>\n",
       "      <th id=\"T_a920b_level0_row10\" class=\"row_heading level0 row10\" >10</th>\n",
       "      <td id=\"T_a920b_row10_col0\" class=\"data row10 col0\" >Numeric imputation</td>\n",
       "      <td id=\"T_a920b_row10_col1\" class=\"data row10 col1\" >mean</td>\n",
       "    </tr>\n",
       "    <tr>\n",
       "      <th id=\"T_a920b_level0_row11\" class=\"row_heading level0 row11\" >11</th>\n",
       "      <td id=\"T_a920b_row11_col0\" class=\"data row11 col0\" >Categorical imputation</td>\n",
       "      <td id=\"T_a920b_row11_col1\" class=\"data row11 col1\" >mode</td>\n",
       "    </tr>\n",
       "    <tr>\n",
       "      <th id=\"T_a920b_level0_row12\" class=\"row_heading level0 row12\" >12</th>\n",
       "      <td id=\"T_a920b_row12_col0\" class=\"data row12 col0\" >Fold Generator</td>\n",
       "      <td id=\"T_a920b_row12_col1\" class=\"data row12 col1\" >StratifiedKFold</td>\n",
       "    </tr>\n",
       "    <tr>\n",
       "      <th id=\"T_a920b_level0_row13\" class=\"row_heading level0 row13\" >13</th>\n",
       "      <td id=\"T_a920b_row13_col0\" class=\"data row13 col0\" >Fold Number</td>\n",
       "      <td id=\"T_a920b_row13_col1\" class=\"data row13 col1\" >10</td>\n",
       "    </tr>\n",
       "    <tr>\n",
       "      <th id=\"T_a920b_level0_row14\" class=\"row_heading level0 row14\" >14</th>\n",
       "      <td id=\"T_a920b_row14_col0\" class=\"data row14 col0\" >CPU Jobs</td>\n",
       "      <td id=\"T_a920b_row14_col1\" class=\"data row14 col1\" >-1</td>\n",
       "    </tr>\n",
       "    <tr>\n",
       "      <th id=\"T_a920b_level0_row15\" class=\"row_heading level0 row15\" >15</th>\n",
       "      <td id=\"T_a920b_row15_col0\" class=\"data row15 col0\" >Use GPU</td>\n",
       "      <td id=\"T_a920b_row15_col1\" class=\"data row15 col1\" >False</td>\n",
       "    </tr>\n",
       "    <tr>\n",
       "      <th id=\"T_a920b_level0_row16\" class=\"row_heading level0 row16\" >16</th>\n",
       "      <td id=\"T_a920b_row16_col0\" class=\"data row16 col0\" >Log Experiment</td>\n",
       "      <td id=\"T_a920b_row16_col1\" class=\"data row16 col1\" >False</td>\n",
       "    </tr>\n",
       "    <tr>\n",
       "      <th id=\"T_a920b_level0_row17\" class=\"row_heading level0 row17\" >17</th>\n",
       "      <td id=\"T_a920b_row17_col0\" class=\"data row17 col0\" >Experiment Name</td>\n",
       "      <td id=\"T_a920b_row17_col1\" class=\"data row17 col1\" >clf-default-name</td>\n",
       "    </tr>\n",
       "    <tr>\n",
       "      <th id=\"T_a920b_level0_row18\" class=\"row_heading level0 row18\" >18</th>\n",
       "      <td id=\"T_a920b_row18_col0\" class=\"data row18 col0\" >USI</td>\n",
       "      <td id=\"T_a920b_row18_col1\" class=\"data row18 col1\" >da76</td>\n",
       "    </tr>\n",
       "  </tbody>\n",
       "</table>\n"
      ],
      "text/plain": [
       "<pandas.io.formats.style.Styler at 0x1ad1ab282b0>"
      ]
     },
     "metadata": {},
     "output_type": "display_data"
    }
   ],
   "source": [
    "# import pycaret classification and init setup\n",
    "from pycaret.classification import *\n",
    "s = setup(data, target = 'diabetes', session_id = 123)"
   ]
  },
  {
   "attachments": {},
   "cell_type": "markdown",
   "id": "3c583864",
   "metadata": {},
   "source": [
    "Once the setup has been successfully executed it shows the information grid containing experiment level information. \n",
    "\n",
    "- **Session id:**  A pseudo-random number distributed as a seed in all functions for later reproducibility. If no `session_id` is passed, a random number is automatically generated that is distributed to all functions.<br/>\n",
    "<br/>\n",
    "- **Target type:**  Binary, Multiclass, or Regression. The Target type is automatically detected. <br/>\n",
    "<br/>\n",
    "- **Label Encoding:**  When the Target variable is of type string (i.e. 'Yes' or 'No') instead of 1 or 0, it automatically encodes the label into 1 and 0 and displays the mapping (0 : No, 1 : Yes) for reference. In this tutorial, no label encoding is required since the target variable is of numeric type. <br/>\n",
    "<br/>\n",
    "- **Original data shape:**  Shape of the original data prior to any transformations. <br/>\n",
    "<br/>\n",
    "- **Transformed train set shape :**  Shape of transformed train set <br/>\n",
    "<br/>\n",
    "- **Transformed test set shape :**  Shape of transformed test set <br/>\n",
    "<br/>\n",
    "- **Numeric features :**  The number of features considered as numerical. <br/>\n",
    "<br/>\n",
    "- **Categorical features :**  The number of features considered as categorical. <br/>"
   ]
  },
  {
   "attachments": {},
   "cell_type": "markdown",
   "id": "ada19398",
   "metadata": {},
   "source": [
    "PyCaret has two set of API's that you can work with. (1) Functional (as seen above) and (2) Object Oriented API.\n",
    "\n",
    "With Object Oriented API instead of executing functions directly you will import a class and execute methods of class."
   ]
  },
  {
   "cell_type": "code",
   "execution_count": 6,
   "id": "32ee91c9",
   "metadata": {},
   "outputs": [],
   "source": [
    "# import ClassificationExperiment and init the class\n",
    "from pycaret.classification import ClassificationExperiment\n",
    "exp = ClassificationExperiment()"
   ]
  },
  {
   "cell_type": "code",
   "execution_count": 7,
   "id": "3ead9fb5",
   "metadata": {},
   "outputs": [
    {
     "data": {
      "text/plain": [
       "pycaret.classification.oop.ClassificationExperiment"
      ]
     },
     "execution_count": 7,
     "metadata": {},
     "output_type": "execute_result"
    }
   ],
   "source": [
    "# check the type of exp\n",
    "type(exp)"
   ]
  },
  {
   "cell_type": "code",
   "execution_count": 8,
   "id": "f05b8590",
   "metadata": {},
   "outputs": [
    {
     "data": {
      "text/html": [
       "<style type=\"text/css\">\n",
       "#T_995ff_row8_col1 {\n",
       "  background-color: lightgreen;\n",
       "}\n",
       "</style>\n",
       "<table id=\"T_995ff\">\n",
       "  <thead>\n",
       "    <tr>\n",
       "      <th class=\"blank level0\" >&nbsp;</th>\n",
       "      <th id=\"T_995ff_level0_col0\" class=\"col_heading level0 col0\" >Description</th>\n",
       "      <th id=\"T_995ff_level0_col1\" class=\"col_heading level0 col1\" >Value</th>\n",
       "    </tr>\n",
       "  </thead>\n",
       "  <tbody>\n",
       "    <tr>\n",
       "      <th id=\"T_995ff_level0_row0\" class=\"row_heading level0 row0\" >0</th>\n",
       "      <td id=\"T_995ff_row0_col0\" class=\"data row0 col0\" >Session id</td>\n",
       "      <td id=\"T_995ff_row0_col1\" class=\"data row0 col1\" >123</td>\n",
       "    </tr>\n",
       "    <tr>\n",
       "      <th id=\"T_995ff_level0_row1\" class=\"row_heading level0 row1\" >1</th>\n",
       "      <td id=\"T_995ff_row1_col0\" class=\"data row1 col0\" >Target</td>\n",
       "      <td id=\"T_995ff_row1_col1\" class=\"data row1 col1\" >diabetes</td>\n",
       "    </tr>\n",
       "    <tr>\n",
       "      <th id=\"T_995ff_level0_row2\" class=\"row_heading level0 row2\" >2</th>\n",
       "      <td id=\"T_995ff_row2_col0\" class=\"data row2 col0\" >Target type</td>\n",
       "      <td id=\"T_995ff_row2_col1\" class=\"data row2 col1\" >Multiclass</td>\n",
       "    </tr>\n",
       "    <tr>\n",
       "      <th id=\"T_995ff_level0_row3\" class=\"row_heading level0 row3\" >3</th>\n",
       "      <td id=\"T_995ff_row3_col0\" class=\"data row3 col0\" >Original data shape</td>\n",
       "      <td id=\"T_995ff_row3_col1\" class=\"data row3 col1\" >(302953, 25)</td>\n",
       "    </tr>\n",
       "    <tr>\n",
       "      <th id=\"T_995ff_level0_row4\" class=\"row_heading level0 row4\" >4</th>\n",
       "      <td id=\"T_995ff_row4_col0\" class=\"data row4 col0\" >Transformed data shape</td>\n",
       "      <td id=\"T_995ff_row4_col1\" class=\"data row4 col1\" >(302953, 25)</td>\n",
       "    </tr>\n",
       "    <tr>\n",
       "      <th id=\"T_995ff_level0_row5\" class=\"row_heading level0 row5\" >5</th>\n",
       "      <td id=\"T_995ff_row5_col0\" class=\"data row5 col0\" >Transformed train set shape</td>\n",
       "      <td id=\"T_995ff_row5_col1\" class=\"data row5 col1\" >(212067, 25)</td>\n",
       "    </tr>\n",
       "    <tr>\n",
       "      <th id=\"T_995ff_level0_row6\" class=\"row_heading level0 row6\" >6</th>\n",
       "      <td id=\"T_995ff_row6_col0\" class=\"data row6 col0\" >Transformed test set shape</td>\n",
       "      <td id=\"T_995ff_row6_col1\" class=\"data row6 col1\" >(90886, 25)</td>\n",
       "    </tr>\n",
       "    <tr>\n",
       "      <th id=\"T_995ff_level0_row7\" class=\"row_heading level0 row7\" >7</th>\n",
       "      <td id=\"T_995ff_row7_col0\" class=\"data row7 col0\" >Numeric features</td>\n",
       "      <td id=\"T_995ff_row7_col1\" class=\"data row7 col1\" >24</td>\n",
       "    </tr>\n",
       "    <tr>\n",
       "      <th id=\"T_995ff_level0_row8\" class=\"row_heading level0 row8\" >8</th>\n",
       "      <td id=\"T_995ff_row8_col0\" class=\"data row8 col0\" >Preprocess</td>\n",
       "      <td id=\"T_995ff_row8_col1\" class=\"data row8 col1\" >True</td>\n",
       "    </tr>\n",
       "    <tr>\n",
       "      <th id=\"T_995ff_level0_row9\" class=\"row_heading level0 row9\" >9</th>\n",
       "      <td id=\"T_995ff_row9_col0\" class=\"data row9 col0\" >Imputation type</td>\n",
       "      <td id=\"T_995ff_row9_col1\" class=\"data row9 col1\" >simple</td>\n",
       "    </tr>\n",
       "    <tr>\n",
       "      <th id=\"T_995ff_level0_row10\" class=\"row_heading level0 row10\" >10</th>\n",
       "      <td id=\"T_995ff_row10_col0\" class=\"data row10 col0\" >Numeric imputation</td>\n",
       "      <td id=\"T_995ff_row10_col1\" class=\"data row10 col1\" >mean</td>\n",
       "    </tr>\n",
       "    <tr>\n",
       "      <th id=\"T_995ff_level0_row11\" class=\"row_heading level0 row11\" >11</th>\n",
       "      <td id=\"T_995ff_row11_col0\" class=\"data row11 col0\" >Categorical imputation</td>\n",
       "      <td id=\"T_995ff_row11_col1\" class=\"data row11 col1\" >mode</td>\n",
       "    </tr>\n",
       "    <tr>\n",
       "      <th id=\"T_995ff_level0_row12\" class=\"row_heading level0 row12\" >12</th>\n",
       "      <td id=\"T_995ff_row12_col0\" class=\"data row12 col0\" >Fold Generator</td>\n",
       "      <td id=\"T_995ff_row12_col1\" class=\"data row12 col1\" >StratifiedKFold</td>\n",
       "    </tr>\n",
       "    <tr>\n",
       "      <th id=\"T_995ff_level0_row13\" class=\"row_heading level0 row13\" >13</th>\n",
       "      <td id=\"T_995ff_row13_col0\" class=\"data row13 col0\" >Fold Number</td>\n",
       "      <td id=\"T_995ff_row13_col1\" class=\"data row13 col1\" >10</td>\n",
       "    </tr>\n",
       "    <tr>\n",
       "      <th id=\"T_995ff_level0_row14\" class=\"row_heading level0 row14\" >14</th>\n",
       "      <td id=\"T_995ff_row14_col0\" class=\"data row14 col0\" >CPU Jobs</td>\n",
       "      <td id=\"T_995ff_row14_col1\" class=\"data row14 col1\" >-1</td>\n",
       "    </tr>\n",
       "    <tr>\n",
       "      <th id=\"T_995ff_level0_row15\" class=\"row_heading level0 row15\" >15</th>\n",
       "      <td id=\"T_995ff_row15_col0\" class=\"data row15 col0\" >Use GPU</td>\n",
       "      <td id=\"T_995ff_row15_col1\" class=\"data row15 col1\" >False</td>\n",
       "    </tr>\n",
       "    <tr>\n",
       "      <th id=\"T_995ff_level0_row16\" class=\"row_heading level0 row16\" >16</th>\n",
       "      <td id=\"T_995ff_row16_col0\" class=\"data row16 col0\" >Log Experiment</td>\n",
       "      <td id=\"T_995ff_row16_col1\" class=\"data row16 col1\" >False</td>\n",
       "    </tr>\n",
       "    <tr>\n",
       "      <th id=\"T_995ff_level0_row17\" class=\"row_heading level0 row17\" >17</th>\n",
       "      <td id=\"T_995ff_row17_col0\" class=\"data row17 col0\" >Experiment Name</td>\n",
       "      <td id=\"T_995ff_row17_col1\" class=\"data row17 col1\" >clf-default-name</td>\n",
       "    </tr>\n",
       "    <tr>\n",
       "      <th id=\"T_995ff_level0_row18\" class=\"row_heading level0 row18\" >18</th>\n",
       "      <td id=\"T_995ff_row18_col0\" class=\"data row18 col0\" >USI</td>\n",
       "      <td id=\"T_995ff_row18_col1\" class=\"data row18 col1\" >93ee</td>\n",
       "    </tr>\n",
       "  </tbody>\n",
       "</table>\n"
      ],
      "text/plain": [
       "<pandas.io.formats.style.Styler at 0x1ad1bc52b80>"
      ]
     },
     "metadata": {},
     "output_type": "display_data"
    },
    {
     "data": {
      "text/plain": [
       "<pycaret.classification.oop.ClassificationExperiment at 0x1ad1aa6d790>"
      ]
     },
     "execution_count": 8,
     "metadata": {},
     "output_type": "execute_result"
    }
   ],
   "source": [
    "# init setup on exp\n",
    "exp.setup(data, target = 'diabetes', session_id = 123)"
   ]
  },
  {
   "attachments": {},
   "cell_type": "markdown",
   "id": "77213120",
   "metadata": {},
   "source": [
    "You can use any of the two method i.e. Functional or OOP and even switch back and forth between two set of API's. The choice of method will not impact the results and has been tested for consistency."
   ]
  },
  {
   "attachments": {},
   "cell_type": "markdown",
   "id": "f98dd435",
   "metadata": {},
   "source": [
    "## Compare Models\n",
    "\n",
    "This function trains and evaluates the performance of all the estimators available in the model library using cross-validation. The output of this function is a scoring grid with average cross-validated scores. Metrics evaluated during CV can be accessed using the `get_metrics` function. Custom metrics can be added or removed using `add_metric` and `remove_metric` function."
   ]
  },
  {
   "cell_type": "code",
   "execution_count": 9,
   "id": "65a19df4",
   "metadata": {},
   "outputs": [
    {
     "data": {
      "text/html": [],
      "text/plain": [
       "<IPython.core.display.HTML object>"
      ]
     },
     "metadata": {},
     "output_type": "display_data"
    },
    {
     "data": {
      "text/html": [
       "<style type=\"text/css\">\n",
       "#T_9d3a1 th {\n",
       "  text-align: left;\n",
       "}\n",
       "#T_9d3a1_row0_col0, #T_9d3a1_row0_col4, #T_9d3a1_row0_col5, #T_9d3a1_row0_col6, #T_9d3a1_row0_col7, #T_9d3a1_row1_col0, #T_9d3a1_row1_col2, #T_9d3a1_row1_col4, #T_9d3a1_row1_col5, #T_9d3a1_row1_col6, #T_9d3a1_row1_col7, #T_9d3a1_row2_col0, #T_9d3a1_row2_col1, #T_9d3a1_row2_col2, #T_9d3a1_row2_col3, #T_9d3a1_row2_col4, #T_9d3a1_row2_col5, #T_9d3a1_row2_col6, #T_9d3a1_row2_col7, #T_9d3a1_row3_col0, #T_9d3a1_row3_col1, #T_9d3a1_row3_col2, #T_9d3a1_row3_col3, #T_9d3a1_row3_col4, #T_9d3a1_row3_col5, #T_9d3a1_row3_col6, #T_9d3a1_row3_col7, #T_9d3a1_row4_col0, #T_9d3a1_row4_col1, #T_9d3a1_row4_col2, #T_9d3a1_row4_col3, #T_9d3a1_row4_col4, #T_9d3a1_row4_col5, #T_9d3a1_row4_col6, #T_9d3a1_row4_col7, #T_9d3a1_row5_col0, #T_9d3a1_row5_col1, #T_9d3a1_row5_col2, #T_9d3a1_row5_col3, #T_9d3a1_row5_col4, #T_9d3a1_row5_col5, #T_9d3a1_row5_col6, #T_9d3a1_row5_col7, #T_9d3a1_row6_col0, #T_9d3a1_row6_col1, #T_9d3a1_row6_col2, #T_9d3a1_row6_col3, #T_9d3a1_row6_col4, #T_9d3a1_row6_col5, #T_9d3a1_row6_col6, #T_9d3a1_row6_col7, #T_9d3a1_row7_col0, #T_9d3a1_row7_col1, #T_9d3a1_row7_col2, #T_9d3a1_row7_col3, #T_9d3a1_row7_col4, #T_9d3a1_row7_col5, #T_9d3a1_row7_col6, #T_9d3a1_row7_col7, #T_9d3a1_row8_col0, #T_9d3a1_row8_col1, #T_9d3a1_row8_col2, #T_9d3a1_row8_col3, #T_9d3a1_row8_col4, #T_9d3a1_row8_col6, #T_9d3a1_row8_col7, #T_9d3a1_row9_col0, #T_9d3a1_row9_col1, #T_9d3a1_row9_col2, #T_9d3a1_row9_col3, #T_9d3a1_row9_col4, #T_9d3a1_row9_col5, #T_9d3a1_row9_col6, #T_9d3a1_row9_col7, #T_9d3a1_row10_col0, #T_9d3a1_row10_col1, #T_9d3a1_row10_col2, #T_9d3a1_row10_col3, #T_9d3a1_row10_col4, #T_9d3a1_row10_col5, #T_9d3a1_row10_col6, #T_9d3a1_row10_col7, #T_9d3a1_row11_col0, #T_9d3a1_row11_col1, #T_9d3a1_row11_col2, #T_9d3a1_row11_col3, #T_9d3a1_row11_col4, #T_9d3a1_row11_col5, #T_9d3a1_row11_col6, #T_9d3a1_row11_col7, #T_9d3a1_row12_col0, #T_9d3a1_row12_col1, #T_9d3a1_row12_col2, #T_9d3a1_row12_col3, #T_9d3a1_row12_col5, #T_9d3a1_row13_col0, #T_9d3a1_row13_col1, #T_9d3a1_row13_col2, #T_9d3a1_row13_col3, #T_9d3a1_row13_col4, #T_9d3a1_row13_col5, #T_9d3a1_row13_col6, #T_9d3a1_row13_col7 {\n",
       "  text-align: left;\n",
       "}\n",
       "#T_9d3a1_row0_col1, #T_9d3a1_row0_col2, #T_9d3a1_row0_col3, #T_9d3a1_row1_col1, #T_9d3a1_row1_col3, #T_9d3a1_row8_col5, #T_9d3a1_row12_col4, #T_9d3a1_row12_col6, #T_9d3a1_row12_col7 {\n",
       "  text-align: left;\n",
       "  background-color: yellow;\n",
       "}\n",
       "#T_9d3a1_row0_col8, #T_9d3a1_row1_col8, #T_9d3a1_row2_col8, #T_9d3a1_row3_col8, #T_9d3a1_row4_col8, #T_9d3a1_row5_col8, #T_9d3a1_row7_col8, #T_9d3a1_row8_col8, #T_9d3a1_row9_col8, #T_9d3a1_row10_col8, #T_9d3a1_row11_col8, #T_9d3a1_row12_col8, #T_9d3a1_row13_col8 {\n",
       "  text-align: left;\n",
       "  background-color: lightgrey;\n",
       "}\n",
       "#T_9d3a1_row6_col8 {\n",
       "  text-align: left;\n",
       "  background-color: yellow;\n",
       "  background-color: lightgrey;\n",
       "}\n",
       "</style>\n",
       "<table id=\"T_9d3a1\">\n",
       "  <thead>\n",
       "    <tr>\n",
       "      <th class=\"blank level0\" >&nbsp;</th>\n",
       "      <th id=\"T_9d3a1_level0_col0\" class=\"col_heading level0 col0\" >Model</th>\n",
       "      <th id=\"T_9d3a1_level0_col1\" class=\"col_heading level0 col1\" >Accuracy</th>\n",
       "      <th id=\"T_9d3a1_level0_col2\" class=\"col_heading level0 col2\" >AUC</th>\n",
       "      <th id=\"T_9d3a1_level0_col3\" class=\"col_heading level0 col3\" >Recall</th>\n",
       "      <th id=\"T_9d3a1_level0_col4\" class=\"col_heading level0 col4\" >Prec.</th>\n",
       "      <th id=\"T_9d3a1_level0_col5\" class=\"col_heading level0 col5\" >F1</th>\n",
       "      <th id=\"T_9d3a1_level0_col6\" class=\"col_heading level0 col6\" >Kappa</th>\n",
       "      <th id=\"T_9d3a1_level0_col7\" class=\"col_heading level0 col7\" >MCC</th>\n",
       "      <th id=\"T_9d3a1_level0_col8\" class=\"col_heading level0 col8\" >TT (Sec)</th>\n",
       "    </tr>\n",
       "  </thead>\n",
       "  <tbody>\n",
       "    <tr>\n",
       "      <th id=\"T_9d3a1_level0_row0\" class=\"row_heading level0 row0\" >gbc</th>\n",
       "      <td id=\"T_9d3a1_row0_col0\" class=\"data row0 col0\" >Gradient Boosting Classifier</td>\n",
       "      <td id=\"T_9d3a1_row0_col1\" class=\"data row0 col1\" >0.8440</td>\n",
       "      <td id=\"T_9d3a1_row0_col2\" class=\"data row0 col2\" >0.8098</td>\n",
       "      <td id=\"T_9d3a1_row0_col3\" class=\"data row0 col3\" >0.8440</td>\n",
       "      <td id=\"T_9d3a1_row0_col4\" class=\"data row0 col4\" >0.7915</td>\n",
       "      <td id=\"T_9d3a1_row0_col5\" class=\"data row0 col5\" >0.7994</td>\n",
       "      <td id=\"T_9d3a1_row0_col6\" class=\"data row0 col6\" >0.1599</td>\n",
       "      <td id=\"T_9d3a1_row0_col7\" class=\"data row0 col7\" >0.2112</td>\n",
       "      <td id=\"T_9d3a1_row0_col8\" class=\"data row0 col8\" >8.9510</td>\n",
       "    </tr>\n",
       "    <tr>\n",
       "      <th id=\"T_9d3a1_level0_row1\" class=\"row_heading level0 row1\" >lightgbm</th>\n",
       "      <td id=\"T_9d3a1_row1_col0\" class=\"data row1 col0\" >Light Gradient Boosting Machine</td>\n",
       "      <td id=\"T_9d3a1_row1_col1\" class=\"data row1 col1\" >0.8440</td>\n",
       "      <td id=\"T_9d3a1_row1_col2\" class=\"data row1 col2\" >0.8096</td>\n",
       "      <td id=\"T_9d3a1_row1_col3\" class=\"data row1 col3\" >0.8440</td>\n",
       "      <td id=\"T_9d3a1_row1_col4\" class=\"data row1 col4\" >0.7913</td>\n",
       "      <td id=\"T_9d3a1_row1_col5\" class=\"data row1 col5\" >0.7979</td>\n",
       "      <td id=\"T_9d3a1_row1_col6\" class=\"data row1 col6\" >0.1514</td>\n",
       "      <td id=\"T_9d3a1_row1_col7\" class=\"data row1 col7\" >0.2053</td>\n",
       "      <td id=\"T_9d3a1_row1_col8\" class=\"data row1 col8\" >0.7170</td>\n",
       "    </tr>\n",
       "    <tr>\n",
       "      <th id=\"T_9d3a1_level0_row2\" class=\"row_heading level0 row2\" >ada</th>\n",
       "      <td id=\"T_9d3a1_row2_col0\" class=\"data row2 col0\" >Ada Boost Classifier</td>\n",
       "      <td id=\"T_9d3a1_row2_col1\" class=\"data row2 col1\" >0.8428</td>\n",
       "      <td id=\"T_9d3a1_row2_col2\" class=\"data row2 col2\" >0.8038</td>\n",
       "      <td id=\"T_9d3a1_row2_col3\" class=\"data row2 col3\" >0.8428</td>\n",
       "      <td id=\"T_9d3a1_row2_col4\" class=\"data row2 col4\" >0.7905</td>\n",
       "      <td id=\"T_9d3a1_row2_col5\" class=\"data row2 col5\" >0.8016</td>\n",
       "      <td id=\"T_9d3a1_row2_col6\" class=\"data row2 col6\" >0.1748</td>\n",
       "      <td id=\"T_9d3a1_row2_col7\" class=\"data row2 col7\" >0.2187</td>\n",
       "      <td id=\"T_9d3a1_row2_col8\" class=\"data row2 col8\" >1.0390</td>\n",
       "    </tr>\n",
       "    <tr>\n",
       "      <th id=\"T_9d3a1_level0_row3\" class=\"row_heading level0 row3\" >ridge</th>\n",
       "      <td id=\"T_9d3a1_row3_col0\" class=\"data row3 col0\" >Ridge Classifier</td>\n",
       "      <td id=\"T_9d3a1_row3_col1\" class=\"data row3 col1\" >0.8421</td>\n",
       "      <td id=\"T_9d3a1_row3_col2\" class=\"data row3 col2\" >0.0000</td>\n",
       "      <td id=\"T_9d3a1_row3_col3\" class=\"data row3 col3\" >0.8421</td>\n",
       "      <td id=\"T_9d3a1_row3_col4\" class=\"data row3 col4\" >0.7875</td>\n",
       "      <td id=\"T_9d3a1_row3_col5\" class=\"data row3 col5\" >0.7776</td>\n",
       "      <td id=\"T_9d3a1_row3_col6\" class=\"data row3 col6\" >0.0460</td>\n",
       "      <td id=\"T_9d3a1_row3_col7\" class=\"data row3 col7\" >0.1105</td>\n",
       "      <td id=\"T_9d3a1_row3_col8\" class=\"data row3 col8\" >0.0660</td>\n",
       "    </tr>\n",
       "    <tr>\n",
       "      <th id=\"T_9d3a1_level0_row4\" class=\"row_heading level0 row4\" >lr</th>\n",
       "      <td id=\"T_9d3a1_row4_col0\" class=\"data row4 col0\" >Logistic Regression</td>\n",
       "      <td id=\"T_9d3a1_row4_col1\" class=\"data row4 col1\" >0.8417</td>\n",
       "      <td id=\"T_9d3a1_row4_col2\" class=\"data row4 col2\" >0.8017</td>\n",
       "      <td id=\"T_9d3a1_row4_col3\" class=\"data row4 col3\" >0.8417</td>\n",
       "      <td id=\"T_9d3a1_row4_col4\" class=\"data row4 col4\" >0.7871</td>\n",
       "      <td id=\"T_9d3a1_row4_col5\" class=\"data row4 col5\" >0.7976</td>\n",
       "      <td id=\"T_9d3a1_row4_col6\" class=\"data row4 col6\" >0.1535</td>\n",
       "      <td id=\"T_9d3a1_row4_col7\" class=\"data row4 col7\" >0.1996</td>\n",
       "      <td id=\"T_9d3a1_row4_col8\" class=\"data row4 col8\" >1.7340</td>\n",
       "    </tr>\n",
       "    <tr>\n",
       "      <th id=\"T_9d3a1_level0_row5\" class=\"row_heading level0 row5\" >qda</th>\n",
       "      <td id=\"T_9d3a1_row5_col0\" class=\"data row5 col0\" >Quadratic Discriminant Analysis</td>\n",
       "      <td id=\"T_9d3a1_row5_col1\" class=\"data row5 col1\" >0.8407</td>\n",
       "      <td id=\"T_9d3a1_row5_col2\" class=\"data row5 col2\" >0.0000</td>\n",
       "      <td id=\"T_9d3a1_row5_col3\" class=\"data row5 col3\" >0.8407</td>\n",
       "      <td id=\"T_9d3a1_row5_col4\" class=\"data row5 col4\" >0.7067</td>\n",
       "      <td id=\"T_9d3a1_row5_col5\" class=\"data row5 col5\" >0.7679</td>\n",
       "      <td id=\"T_9d3a1_row5_col6\" class=\"data row5 col6\" >0.0000</td>\n",
       "      <td id=\"T_9d3a1_row5_col7\" class=\"data row5 col7\" >0.0000</td>\n",
       "      <td id=\"T_9d3a1_row5_col8\" class=\"data row5 col8\" >0.1350</td>\n",
       "    </tr>\n",
       "    <tr>\n",
       "      <th id=\"T_9d3a1_level0_row6\" class=\"row_heading level0 row6\" >dummy</th>\n",
       "      <td id=\"T_9d3a1_row6_col0\" class=\"data row6 col0\" >Dummy Classifier</td>\n",
       "      <td id=\"T_9d3a1_row6_col1\" class=\"data row6 col1\" >0.8407</td>\n",
       "      <td id=\"T_9d3a1_row6_col2\" class=\"data row6 col2\" >0.5000</td>\n",
       "      <td id=\"T_9d3a1_row6_col3\" class=\"data row6 col3\" >0.8407</td>\n",
       "      <td id=\"T_9d3a1_row6_col4\" class=\"data row6 col4\" >0.7067</td>\n",
       "      <td id=\"T_9d3a1_row6_col5\" class=\"data row6 col5\" >0.7679</td>\n",
       "      <td id=\"T_9d3a1_row6_col6\" class=\"data row6 col6\" >0.0000</td>\n",
       "      <td id=\"T_9d3a1_row6_col7\" class=\"data row6 col7\" >0.0000</td>\n",
       "      <td id=\"T_9d3a1_row6_col8\" class=\"data row6 col8\" >0.0540</td>\n",
       "    </tr>\n",
       "    <tr>\n",
       "      <th id=\"T_9d3a1_level0_row7\" class=\"row_heading level0 row7\" >svm</th>\n",
       "      <td id=\"T_9d3a1_row7_col0\" class=\"data row7 col0\" >SVM - Linear Kernel</td>\n",
       "      <td id=\"T_9d3a1_row7_col1\" class=\"data row7 col1\" >0.8398</td>\n",
       "      <td id=\"T_9d3a1_row7_col2\" class=\"data row7 col2\" >0.0000</td>\n",
       "      <td id=\"T_9d3a1_row7_col3\" class=\"data row7 col3\" >0.8398</td>\n",
       "      <td id=\"T_9d3a1_row7_col4\" class=\"data row7 col4\" >0.7126</td>\n",
       "      <td id=\"T_9d3a1_row7_col5\" class=\"data row7 col5\" >0.7680</td>\n",
       "      <td id=\"T_9d3a1_row7_col6\" class=\"data row7 col6\" >0.0010</td>\n",
       "      <td id=\"T_9d3a1_row7_col7\" class=\"data row7 col7\" >0.0030</td>\n",
       "      <td id=\"T_9d3a1_row7_col8\" class=\"data row7 col8\" >0.5910</td>\n",
       "    </tr>\n",
       "    <tr>\n",
       "      <th id=\"T_9d3a1_level0_row8\" class=\"row_heading level0 row8\" >lda</th>\n",
       "      <td id=\"T_9d3a1_row8_col0\" class=\"data row8 col0\" >Linear Discriminant Analysis</td>\n",
       "      <td id=\"T_9d3a1_row8_col1\" class=\"data row8 col1\" >0.8398</td>\n",
       "      <td id=\"T_9d3a1_row8_col2\" class=\"data row8 col2\" >0.7988</td>\n",
       "      <td id=\"T_9d3a1_row8_col3\" class=\"data row8 col3\" >0.8398</td>\n",
       "      <td id=\"T_9d3a1_row8_col4\" class=\"data row8 col4\" >0.7877</td>\n",
       "      <td id=\"T_9d3a1_row8_col5\" class=\"data row8 col5\" >0.8021</td>\n",
       "      <td id=\"T_9d3a1_row8_col6\" class=\"data row8 col6\" >0.1836</td>\n",
       "      <td id=\"T_9d3a1_row8_col7\" class=\"data row8 col7\" >0.2184</td>\n",
       "      <td id=\"T_9d3a1_row8_col8\" class=\"data row8 col8\" >0.1780</td>\n",
       "    </tr>\n",
       "    <tr>\n",
       "      <th id=\"T_9d3a1_level0_row9\" class=\"row_heading level0 row9\" >rf</th>\n",
       "      <td id=\"T_9d3a1_row9_col0\" class=\"data row9 col0\" >Random Forest Classifier</td>\n",
       "      <td id=\"T_9d3a1_row9_col1\" class=\"data row9 col1\" >0.8302</td>\n",
       "      <td id=\"T_9d3a1_row9_col2\" class=\"data row9 col2\" >0.7627</td>\n",
       "      <td id=\"T_9d3a1_row9_col3\" class=\"data row9 col3\" >0.8302</td>\n",
       "      <td id=\"T_9d3a1_row9_col4\" class=\"data row9 col4\" >0.7770</td>\n",
       "      <td id=\"T_9d3a1_row9_col5\" class=\"data row9 col5\" >0.7942</td>\n",
       "      <td id=\"T_9d3a1_row9_col6\" class=\"data row9 col6\" >0.1551</td>\n",
       "      <td id=\"T_9d3a1_row9_col7\" class=\"data row9 col7\" >0.1789</td>\n",
       "      <td id=\"T_9d3a1_row9_col8\" class=\"data row9 col8\" >2.2900</td>\n",
       "    </tr>\n",
       "    <tr>\n",
       "      <th id=\"T_9d3a1_level0_row10\" class=\"row_heading level0 row10\" >knn</th>\n",
       "      <td id=\"T_9d3a1_row10_col0\" class=\"data row10 col0\" >K Neighbors Classifier</td>\n",
       "      <td id=\"T_9d3a1_row10_col1\" class=\"data row10 col1\" >0.8276</td>\n",
       "      <td id=\"T_9d3a1_row10_col2\" class=\"data row10 col2\" >0.7017</td>\n",
       "      <td id=\"T_9d3a1_row10_col3\" class=\"data row10 col3\" >0.8276</td>\n",
       "      <td id=\"T_9d3a1_row10_col4\" class=\"data row10 col4\" >0.7743</td>\n",
       "      <td id=\"T_9d3a1_row10_col5\" class=\"data row10 col5\" >0.7930</td>\n",
       "      <td id=\"T_9d3a1_row10_col6\" class=\"data row10 col6\" >0.1548</td>\n",
       "      <td id=\"T_9d3a1_row10_col7\" class=\"data row10 col7\" >0.1751</td>\n",
       "      <td id=\"T_9d3a1_row10_col8\" class=\"data row10 col8\" >4.8490</td>\n",
       "    </tr>\n",
       "    <tr>\n",
       "      <th id=\"T_9d3a1_level0_row11\" class=\"row_heading level0 row11\" >et</th>\n",
       "      <td id=\"T_9d3a1_row11_col0\" class=\"data row11 col0\" >Extra Trees Classifier</td>\n",
       "      <td id=\"T_9d3a1_row11_col1\" class=\"data row11 col1\" >0.8263</td>\n",
       "      <td id=\"T_9d3a1_row11_col2\" class=\"data row11 col2\" >0.7365</td>\n",
       "      <td id=\"T_9d3a1_row11_col3\" class=\"data row11 col3\" >0.8263</td>\n",
       "      <td id=\"T_9d3a1_row11_col4\" class=\"data row11 col4\" >0.7751</td>\n",
       "      <td id=\"T_9d3a1_row11_col5\" class=\"data row11 col5\" >0.7929</td>\n",
       "      <td id=\"T_9d3a1_row11_col6\" class=\"data row11 col6\" >0.1560</td>\n",
       "      <td id=\"T_9d3a1_row11_col7\" class=\"data row11 col7\" >0.1750</td>\n",
       "      <td id=\"T_9d3a1_row11_col8\" class=\"data row11 col8\" >2.7900</td>\n",
       "    </tr>\n",
       "    <tr>\n",
       "      <th id=\"T_9d3a1_level0_row12\" class=\"row_heading level0 row12\" >nb</th>\n",
       "      <td id=\"T_9d3a1_row12_col0\" class=\"data row12 col0\" >Naive Bayes</td>\n",
       "      <td id=\"T_9d3a1_row12_col1\" class=\"data row12 col1\" >0.7716</td>\n",
       "      <td id=\"T_9d3a1_row12_col2\" class=\"data row12 col2\" >0.7689</td>\n",
       "      <td id=\"T_9d3a1_row12_col3\" class=\"data row12 col3\" >0.7716</td>\n",
       "      <td id=\"T_9d3a1_row12_col4\" class=\"data row12 col4\" >0.7980</td>\n",
       "      <td id=\"T_9d3a1_row12_col5\" class=\"data row12 col5\" >0.7818</td>\n",
       "      <td id=\"T_9d3a1_row12_col6\" class=\"data row12 col6\" >0.2628</td>\n",
       "      <td id=\"T_9d3a1_row12_col7\" class=\"data row12 col7\" >0.2675</td>\n",
       "      <td id=\"T_9d3a1_row12_col8\" class=\"data row12 col8\" >0.3450</td>\n",
       "    </tr>\n",
       "    <tr>\n",
       "      <th id=\"T_9d3a1_level0_row13\" class=\"row_heading level0 row13\" >dt</th>\n",
       "      <td id=\"T_9d3a1_row13_col0\" class=\"data row13 col0\" >Decision Tree Classifier</td>\n",
       "      <td id=\"T_9d3a1_row13_col1\" class=\"data row13 col1\" >0.7677</td>\n",
       "      <td id=\"T_9d3a1_row13_col2\" class=\"data row13 col2\" >0.5926</td>\n",
       "      <td id=\"T_9d3a1_row13_col3\" class=\"data row13 col3\" >0.7677</td>\n",
       "      <td id=\"T_9d3a1_row13_col4\" class=\"data row13 col4\" >0.7705</td>\n",
       "      <td id=\"T_9d3a1_row13_col5\" class=\"data row13 col5\" >0.7691</td>\n",
       "      <td id=\"T_9d3a1_row13_col6\" class=\"data row13 col6\" >0.1606</td>\n",
       "      <td id=\"T_9d3a1_row13_col7\" class=\"data row13 col7\" >0.1606</td>\n",
       "      <td id=\"T_9d3a1_row13_col8\" class=\"data row13 col8\" >0.3870</td>\n",
       "    </tr>\n",
       "  </tbody>\n",
       "</table>\n"
      ],
      "text/plain": [
       "<pandas.io.formats.style.Styler at 0x1ad1ad9efa0>"
      ]
     },
     "metadata": {},
     "output_type": "display_data"
    },
    {
     "data": {
      "text/html": [],
      "text/plain": [
       "<IPython.core.display.HTML object>"
      ]
     },
     "metadata": {},
     "output_type": "display_data"
    }
   ],
   "source": [
    "# compare baseline models\n",
    "best = compare_models()"
   ]
  },
  {
   "cell_type": "code",
   "execution_count": 10,
   "id": "87477aa4",
   "metadata": {},
   "outputs": [
    {
     "data": {
      "text/html": [],
      "text/plain": [
       "<IPython.core.display.HTML object>"
      ]
     },
     "metadata": {},
     "output_type": "display_data"
    },
    {
     "data": {
      "text/html": [
       "<style type=\"text/css\">\n",
       "#T_28291 th {\n",
       "  text-align: left;\n",
       "}\n",
       "#T_28291_row0_col0, #T_28291_row0_col4, #T_28291_row0_col5, #T_28291_row0_col6, #T_28291_row0_col7, #T_28291_row1_col0, #T_28291_row1_col2, #T_28291_row1_col4, #T_28291_row1_col5, #T_28291_row1_col6, #T_28291_row1_col7, #T_28291_row2_col0, #T_28291_row2_col1, #T_28291_row2_col2, #T_28291_row2_col3, #T_28291_row2_col4, #T_28291_row2_col5, #T_28291_row2_col6, #T_28291_row2_col7, #T_28291_row3_col0, #T_28291_row3_col1, #T_28291_row3_col2, #T_28291_row3_col3, #T_28291_row3_col4, #T_28291_row3_col5, #T_28291_row3_col6, #T_28291_row3_col7, #T_28291_row4_col0, #T_28291_row4_col1, #T_28291_row4_col2, #T_28291_row4_col3, #T_28291_row4_col4, #T_28291_row4_col5, #T_28291_row4_col6, #T_28291_row4_col7, #T_28291_row5_col0, #T_28291_row5_col1, #T_28291_row5_col2, #T_28291_row5_col3, #T_28291_row5_col4, #T_28291_row5_col5, #T_28291_row5_col6, #T_28291_row5_col7, #T_28291_row6_col0, #T_28291_row6_col1, #T_28291_row6_col2, #T_28291_row6_col3, #T_28291_row6_col4, #T_28291_row6_col5, #T_28291_row6_col6, #T_28291_row6_col7, #T_28291_row7_col0, #T_28291_row7_col1, #T_28291_row7_col2, #T_28291_row7_col3, #T_28291_row7_col4, #T_28291_row7_col5, #T_28291_row7_col6, #T_28291_row7_col7, #T_28291_row8_col0, #T_28291_row8_col1, #T_28291_row8_col2, #T_28291_row8_col3, #T_28291_row8_col4, #T_28291_row8_col6, #T_28291_row8_col7, #T_28291_row9_col0, #T_28291_row9_col1, #T_28291_row9_col2, #T_28291_row9_col3, #T_28291_row9_col4, #T_28291_row9_col5, #T_28291_row9_col6, #T_28291_row9_col7, #T_28291_row10_col0, #T_28291_row10_col1, #T_28291_row10_col2, #T_28291_row10_col3, #T_28291_row10_col4, #T_28291_row10_col5, #T_28291_row10_col6, #T_28291_row10_col7, #T_28291_row11_col0, #T_28291_row11_col1, #T_28291_row11_col2, #T_28291_row11_col3, #T_28291_row11_col4, #T_28291_row11_col5, #T_28291_row11_col6, #T_28291_row11_col7, #T_28291_row12_col0, #T_28291_row12_col1, #T_28291_row12_col2, #T_28291_row12_col3, #T_28291_row12_col5, #T_28291_row13_col0, #T_28291_row13_col1, #T_28291_row13_col2, #T_28291_row13_col3, #T_28291_row13_col4, #T_28291_row13_col5, #T_28291_row13_col6, #T_28291_row13_col7 {\n",
       "  text-align: left;\n",
       "}\n",
       "#T_28291_row0_col1, #T_28291_row0_col2, #T_28291_row0_col3, #T_28291_row1_col1, #T_28291_row1_col3, #T_28291_row8_col5, #T_28291_row12_col4, #T_28291_row12_col6, #T_28291_row12_col7 {\n",
       "  text-align: left;\n",
       "  background-color: yellow;\n",
       "}\n",
       "#T_28291_row0_col8, #T_28291_row1_col8, #T_28291_row2_col8, #T_28291_row3_col8, #T_28291_row4_col8, #T_28291_row5_col8, #T_28291_row7_col8, #T_28291_row8_col8, #T_28291_row9_col8, #T_28291_row10_col8, #T_28291_row11_col8, #T_28291_row12_col8, #T_28291_row13_col8 {\n",
       "  text-align: left;\n",
       "  background-color: lightgrey;\n",
       "}\n",
       "#T_28291_row6_col8 {\n",
       "  text-align: left;\n",
       "  background-color: yellow;\n",
       "  background-color: lightgrey;\n",
       "}\n",
       "</style>\n",
       "<table id=\"T_28291\">\n",
       "  <thead>\n",
       "    <tr>\n",
       "      <th class=\"blank level0\" >&nbsp;</th>\n",
       "      <th id=\"T_28291_level0_col0\" class=\"col_heading level0 col0\" >Model</th>\n",
       "      <th id=\"T_28291_level0_col1\" class=\"col_heading level0 col1\" >Accuracy</th>\n",
       "      <th id=\"T_28291_level0_col2\" class=\"col_heading level0 col2\" >AUC</th>\n",
       "      <th id=\"T_28291_level0_col3\" class=\"col_heading level0 col3\" >Recall</th>\n",
       "      <th id=\"T_28291_level0_col4\" class=\"col_heading level0 col4\" >Prec.</th>\n",
       "      <th id=\"T_28291_level0_col5\" class=\"col_heading level0 col5\" >F1</th>\n",
       "      <th id=\"T_28291_level0_col6\" class=\"col_heading level0 col6\" >Kappa</th>\n",
       "      <th id=\"T_28291_level0_col7\" class=\"col_heading level0 col7\" >MCC</th>\n",
       "      <th id=\"T_28291_level0_col8\" class=\"col_heading level0 col8\" >TT (Sec)</th>\n",
       "    </tr>\n",
       "  </thead>\n",
       "  <tbody>\n",
       "    <tr>\n",
       "      <th id=\"T_28291_level0_row0\" class=\"row_heading level0 row0\" >gbc</th>\n",
       "      <td id=\"T_28291_row0_col0\" class=\"data row0 col0\" >Gradient Boosting Classifier</td>\n",
       "      <td id=\"T_28291_row0_col1\" class=\"data row0 col1\" >0.8440</td>\n",
       "      <td id=\"T_28291_row0_col2\" class=\"data row0 col2\" >0.8098</td>\n",
       "      <td id=\"T_28291_row0_col3\" class=\"data row0 col3\" >0.8440</td>\n",
       "      <td id=\"T_28291_row0_col4\" class=\"data row0 col4\" >0.7915</td>\n",
       "      <td id=\"T_28291_row0_col5\" class=\"data row0 col5\" >0.7994</td>\n",
       "      <td id=\"T_28291_row0_col6\" class=\"data row0 col6\" >0.1599</td>\n",
       "      <td id=\"T_28291_row0_col7\" class=\"data row0 col7\" >0.2112</td>\n",
       "      <td id=\"T_28291_row0_col8\" class=\"data row0 col8\" >9.7700</td>\n",
       "    </tr>\n",
       "    <tr>\n",
       "      <th id=\"T_28291_level0_row1\" class=\"row_heading level0 row1\" >lightgbm</th>\n",
       "      <td id=\"T_28291_row1_col0\" class=\"data row1 col0\" >Light Gradient Boosting Machine</td>\n",
       "      <td id=\"T_28291_row1_col1\" class=\"data row1 col1\" >0.8440</td>\n",
       "      <td id=\"T_28291_row1_col2\" class=\"data row1 col2\" >0.8096</td>\n",
       "      <td id=\"T_28291_row1_col3\" class=\"data row1 col3\" >0.8440</td>\n",
       "      <td id=\"T_28291_row1_col4\" class=\"data row1 col4\" >0.7913</td>\n",
       "      <td id=\"T_28291_row1_col5\" class=\"data row1 col5\" >0.7979</td>\n",
       "      <td id=\"T_28291_row1_col6\" class=\"data row1 col6\" >0.1514</td>\n",
       "      <td id=\"T_28291_row1_col7\" class=\"data row1 col7\" >0.2053</td>\n",
       "      <td id=\"T_28291_row1_col8\" class=\"data row1 col8\" >0.7220</td>\n",
       "    </tr>\n",
       "    <tr>\n",
       "      <th id=\"T_28291_level0_row2\" class=\"row_heading level0 row2\" >ada</th>\n",
       "      <td id=\"T_28291_row2_col0\" class=\"data row2 col0\" >Ada Boost Classifier</td>\n",
       "      <td id=\"T_28291_row2_col1\" class=\"data row2 col1\" >0.8428</td>\n",
       "      <td id=\"T_28291_row2_col2\" class=\"data row2 col2\" >0.8038</td>\n",
       "      <td id=\"T_28291_row2_col3\" class=\"data row2 col3\" >0.8428</td>\n",
       "      <td id=\"T_28291_row2_col4\" class=\"data row2 col4\" >0.7905</td>\n",
       "      <td id=\"T_28291_row2_col5\" class=\"data row2 col5\" >0.8016</td>\n",
       "      <td id=\"T_28291_row2_col6\" class=\"data row2 col6\" >0.1748</td>\n",
       "      <td id=\"T_28291_row2_col7\" class=\"data row2 col7\" >0.2187</td>\n",
       "      <td id=\"T_28291_row2_col8\" class=\"data row2 col8\" >1.1180</td>\n",
       "    </tr>\n",
       "    <tr>\n",
       "      <th id=\"T_28291_level0_row3\" class=\"row_heading level0 row3\" >ridge</th>\n",
       "      <td id=\"T_28291_row3_col0\" class=\"data row3 col0\" >Ridge Classifier</td>\n",
       "      <td id=\"T_28291_row3_col1\" class=\"data row3 col1\" >0.8421</td>\n",
       "      <td id=\"T_28291_row3_col2\" class=\"data row3 col2\" >0.0000</td>\n",
       "      <td id=\"T_28291_row3_col3\" class=\"data row3 col3\" >0.8421</td>\n",
       "      <td id=\"T_28291_row3_col4\" class=\"data row3 col4\" >0.7875</td>\n",
       "      <td id=\"T_28291_row3_col5\" class=\"data row3 col5\" >0.7776</td>\n",
       "      <td id=\"T_28291_row3_col6\" class=\"data row3 col6\" >0.0460</td>\n",
       "      <td id=\"T_28291_row3_col7\" class=\"data row3 col7\" >0.1105</td>\n",
       "      <td id=\"T_28291_row3_col8\" class=\"data row3 col8\" >0.0710</td>\n",
       "    </tr>\n",
       "    <tr>\n",
       "      <th id=\"T_28291_level0_row4\" class=\"row_heading level0 row4\" >lr</th>\n",
       "      <td id=\"T_28291_row4_col0\" class=\"data row4 col0\" >Logistic Regression</td>\n",
       "      <td id=\"T_28291_row4_col1\" class=\"data row4 col1\" >0.8417</td>\n",
       "      <td id=\"T_28291_row4_col2\" class=\"data row4 col2\" >0.8017</td>\n",
       "      <td id=\"T_28291_row4_col3\" class=\"data row4 col3\" >0.8417</td>\n",
       "      <td id=\"T_28291_row4_col4\" class=\"data row4 col4\" >0.7871</td>\n",
       "      <td id=\"T_28291_row4_col5\" class=\"data row4 col5\" >0.7976</td>\n",
       "      <td id=\"T_28291_row4_col6\" class=\"data row4 col6\" >0.1535</td>\n",
       "      <td id=\"T_28291_row4_col7\" class=\"data row4 col7\" >0.1996</td>\n",
       "      <td id=\"T_28291_row4_col8\" class=\"data row4 col8\" >1.3900</td>\n",
       "    </tr>\n",
       "    <tr>\n",
       "      <th id=\"T_28291_level0_row5\" class=\"row_heading level0 row5\" >qda</th>\n",
       "      <td id=\"T_28291_row5_col0\" class=\"data row5 col0\" >Quadratic Discriminant Analysis</td>\n",
       "      <td id=\"T_28291_row5_col1\" class=\"data row5 col1\" >0.8407</td>\n",
       "      <td id=\"T_28291_row5_col2\" class=\"data row5 col2\" >0.0000</td>\n",
       "      <td id=\"T_28291_row5_col3\" class=\"data row5 col3\" >0.8407</td>\n",
       "      <td id=\"T_28291_row5_col4\" class=\"data row5 col4\" >0.7067</td>\n",
       "      <td id=\"T_28291_row5_col5\" class=\"data row5 col5\" >0.7679</td>\n",
       "      <td id=\"T_28291_row5_col6\" class=\"data row5 col6\" >0.0000</td>\n",
       "      <td id=\"T_28291_row5_col7\" class=\"data row5 col7\" >0.0000</td>\n",
       "      <td id=\"T_28291_row5_col8\" class=\"data row5 col8\" >0.1340</td>\n",
       "    </tr>\n",
       "    <tr>\n",
       "      <th id=\"T_28291_level0_row6\" class=\"row_heading level0 row6\" >dummy</th>\n",
       "      <td id=\"T_28291_row6_col0\" class=\"data row6 col0\" >Dummy Classifier</td>\n",
       "      <td id=\"T_28291_row6_col1\" class=\"data row6 col1\" >0.8407</td>\n",
       "      <td id=\"T_28291_row6_col2\" class=\"data row6 col2\" >0.5000</td>\n",
       "      <td id=\"T_28291_row6_col3\" class=\"data row6 col3\" >0.8407</td>\n",
       "      <td id=\"T_28291_row6_col4\" class=\"data row6 col4\" >0.7067</td>\n",
       "      <td id=\"T_28291_row6_col5\" class=\"data row6 col5\" >0.7679</td>\n",
       "      <td id=\"T_28291_row6_col6\" class=\"data row6 col6\" >0.0000</td>\n",
       "      <td id=\"T_28291_row6_col7\" class=\"data row6 col7\" >0.0000</td>\n",
       "      <td id=\"T_28291_row6_col8\" class=\"data row6 col8\" >0.0530</td>\n",
       "    </tr>\n",
       "    <tr>\n",
       "      <th id=\"T_28291_level0_row7\" class=\"row_heading level0 row7\" >svm</th>\n",
       "      <td id=\"T_28291_row7_col0\" class=\"data row7 col0\" >SVM - Linear Kernel</td>\n",
       "      <td id=\"T_28291_row7_col1\" class=\"data row7 col1\" >0.8398</td>\n",
       "      <td id=\"T_28291_row7_col2\" class=\"data row7 col2\" >0.0000</td>\n",
       "      <td id=\"T_28291_row7_col3\" class=\"data row7 col3\" >0.8398</td>\n",
       "      <td id=\"T_28291_row7_col4\" class=\"data row7 col4\" >0.7126</td>\n",
       "      <td id=\"T_28291_row7_col5\" class=\"data row7 col5\" >0.7680</td>\n",
       "      <td id=\"T_28291_row7_col6\" class=\"data row7 col6\" >0.0010</td>\n",
       "      <td id=\"T_28291_row7_col7\" class=\"data row7 col7\" >0.0030</td>\n",
       "      <td id=\"T_28291_row7_col8\" class=\"data row7 col8\" >0.6050</td>\n",
       "    </tr>\n",
       "    <tr>\n",
       "      <th id=\"T_28291_level0_row8\" class=\"row_heading level0 row8\" >lda</th>\n",
       "      <td id=\"T_28291_row8_col0\" class=\"data row8 col0\" >Linear Discriminant Analysis</td>\n",
       "      <td id=\"T_28291_row8_col1\" class=\"data row8 col1\" >0.8398</td>\n",
       "      <td id=\"T_28291_row8_col2\" class=\"data row8 col2\" >0.7988</td>\n",
       "      <td id=\"T_28291_row8_col3\" class=\"data row8 col3\" >0.8398</td>\n",
       "      <td id=\"T_28291_row8_col4\" class=\"data row8 col4\" >0.7877</td>\n",
       "      <td id=\"T_28291_row8_col5\" class=\"data row8 col5\" >0.8021</td>\n",
       "      <td id=\"T_28291_row8_col6\" class=\"data row8 col6\" >0.1836</td>\n",
       "      <td id=\"T_28291_row8_col7\" class=\"data row8 col7\" >0.2184</td>\n",
       "      <td id=\"T_28291_row8_col8\" class=\"data row8 col8\" >0.1870</td>\n",
       "    </tr>\n",
       "    <tr>\n",
       "      <th id=\"T_28291_level0_row9\" class=\"row_heading level0 row9\" >rf</th>\n",
       "      <td id=\"T_28291_row9_col0\" class=\"data row9 col0\" >Random Forest Classifier</td>\n",
       "      <td id=\"T_28291_row9_col1\" class=\"data row9 col1\" >0.8302</td>\n",
       "      <td id=\"T_28291_row9_col2\" class=\"data row9 col2\" >0.7627</td>\n",
       "      <td id=\"T_28291_row9_col3\" class=\"data row9 col3\" >0.8302</td>\n",
       "      <td id=\"T_28291_row9_col4\" class=\"data row9 col4\" >0.7770</td>\n",
       "      <td id=\"T_28291_row9_col5\" class=\"data row9 col5\" >0.7942</td>\n",
       "      <td id=\"T_28291_row9_col6\" class=\"data row9 col6\" >0.1551</td>\n",
       "      <td id=\"T_28291_row9_col7\" class=\"data row9 col7\" >0.1789</td>\n",
       "      <td id=\"T_28291_row9_col8\" class=\"data row9 col8\" >2.4390</td>\n",
       "    </tr>\n",
       "    <tr>\n",
       "      <th id=\"T_28291_level0_row10\" class=\"row_heading level0 row10\" >knn</th>\n",
       "      <td id=\"T_28291_row10_col0\" class=\"data row10 col0\" >K Neighbors Classifier</td>\n",
       "      <td id=\"T_28291_row10_col1\" class=\"data row10 col1\" >0.8276</td>\n",
       "      <td id=\"T_28291_row10_col2\" class=\"data row10 col2\" >0.7013</td>\n",
       "      <td id=\"T_28291_row10_col3\" class=\"data row10 col3\" >0.8276</td>\n",
       "      <td id=\"T_28291_row10_col4\" class=\"data row10 col4\" >0.7743</td>\n",
       "      <td id=\"T_28291_row10_col5\" class=\"data row10 col5\" >0.7931</td>\n",
       "      <td id=\"T_28291_row10_col6\" class=\"data row10 col6\" >0.1555</td>\n",
       "      <td id=\"T_28291_row10_col7\" class=\"data row10 col7\" >0.1758</td>\n",
       "      <td id=\"T_28291_row10_col8\" class=\"data row10 col8\" >6.3940</td>\n",
       "    </tr>\n",
       "    <tr>\n",
       "      <th id=\"T_28291_level0_row11\" class=\"row_heading level0 row11\" >et</th>\n",
       "      <td id=\"T_28291_row11_col0\" class=\"data row11 col0\" >Extra Trees Classifier</td>\n",
       "      <td id=\"T_28291_row11_col1\" class=\"data row11 col1\" >0.8263</td>\n",
       "      <td id=\"T_28291_row11_col2\" class=\"data row11 col2\" >0.7365</td>\n",
       "      <td id=\"T_28291_row11_col3\" class=\"data row11 col3\" >0.8263</td>\n",
       "      <td id=\"T_28291_row11_col4\" class=\"data row11 col4\" >0.7751</td>\n",
       "      <td id=\"T_28291_row11_col5\" class=\"data row11 col5\" >0.7929</td>\n",
       "      <td id=\"T_28291_row11_col6\" class=\"data row11 col6\" >0.1560</td>\n",
       "      <td id=\"T_28291_row11_col7\" class=\"data row11 col7\" >0.1750</td>\n",
       "      <td id=\"T_28291_row11_col8\" class=\"data row11 col8\" >2.7930</td>\n",
       "    </tr>\n",
       "    <tr>\n",
       "      <th id=\"T_28291_level0_row12\" class=\"row_heading level0 row12\" >nb</th>\n",
       "      <td id=\"T_28291_row12_col0\" class=\"data row12 col0\" >Naive Bayes</td>\n",
       "      <td id=\"T_28291_row12_col1\" class=\"data row12 col1\" >0.7716</td>\n",
       "      <td id=\"T_28291_row12_col2\" class=\"data row12 col2\" >0.7689</td>\n",
       "      <td id=\"T_28291_row12_col3\" class=\"data row12 col3\" >0.7716</td>\n",
       "      <td id=\"T_28291_row12_col4\" class=\"data row12 col4\" >0.7980</td>\n",
       "      <td id=\"T_28291_row12_col5\" class=\"data row12 col5\" >0.7818</td>\n",
       "      <td id=\"T_28291_row12_col6\" class=\"data row12 col6\" >0.2628</td>\n",
       "      <td id=\"T_28291_row12_col7\" class=\"data row12 col7\" >0.2675</td>\n",
       "      <td id=\"T_28291_row12_col8\" class=\"data row12 col8\" >0.0740</td>\n",
       "    </tr>\n",
       "    <tr>\n",
       "      <th id=\"T_28291_level0_row13\" class=\"row_heading level0 row13\" >dt</th>\n",
       "      <td id=\"T_28291_row13_col0\" class=\"data row13 col0\" >Decision Tree Classifier</td>\n",
       "      <td id=\"T_28291_row13_col1\" class=\"data row13 col1\" >0.7677</td>\n",
       "      <td id=\"T_28291_row13_col2\" class=\"data row13 col2\" >0.5926</td>\n",
       "      <td id=\"T_28291_row13_col3\" class=\"data row13 col3\" >0.7677</td>\n",
       "      <td id=\"T_28291_row13_col4\" class=\"data row13 col4\" >0.7705</td>\n",
       "      <td id=\"T_28291_row13_col5\" class=\"data row13 col5\" >0.7691</td>\n",
       "      <td id=\"T_28291_row13_col6\" class=\"data row13 col6\" >0.1606</td>\n",
       "      <td id=\"T_28291_row13_col7\" class=\"data row13 col7\" >0.1606</td>\n",
       "      <td id=\"T_28291_row13_col8\" class=\"data row13 col8\" >0.1900</td>\n",
       "    </tr>\n",
       "  </tbody>\n",
       "</table>\n"
      ],
      "text/plain": [
       "<pandas.io.formats.style.Styler at 0x1ad1bbfd580>"
      ]
     },
     "metadata": {},
     "output_type": "display_data"
    },
    {
     "data": {
      "text/html": [],
      "text/plain": [
       "<IPython.core.display.HTML object>"
      ]
     },
     "metadata": {},
     "output_type": "display_data"
    },
    {
     "data": {
      "text/html": [
       "<style>#sk-container-id-1 {color: black;background-color: white;}#sk-container-id-1 pre{padding: 0;}#sk-container-id-1 div.sk-toggleable {background-color: white;}#sk-container-id-1 label.sk-toggleable__label {cursor: pointer;display: block;width: 100%;margin-bottom: 0;padding: 0.3em;box-sizing: border-box;text-align: center;}#sk-container-id-1 label.sk-toggleable__label-arrow:before {content: \"▸\";float: left;margin-right: 0.25em;color: #696969;}#sk-container-id-1 label.sk-toggleable__label-arrow:hover:before {color: black;}#sk-container-id-1 div.sk-estimator:hover label.sk-toggleable__label-arrow:before {color: black;}#sk-container-id-1 div.sk-toggleable__content {max-height: 0;max-width: 0;overflow: hidden;text-align: left;background-color: #f0f8ff;}#sk-container-id-1 div.sk-toggleable__content pre {margin: 0.2em;color: black;border-radius: 0.25em;background-color: #f0f8ff;}#sk-container-id-1 input.sk-toggleable__control:checked~div.sk-toggleable__content {max-height: 200px;max-width: 100%;overflow: auto;}#sk-container-id-1 input.sk-toggleable__control:checked~label.sk-toggleable__label-arrow:before {content: \"▾\";}#sk-container-id-1 div.sk-estimator input.sk-toggleable__control:checked~label.sk-toggleable__label {background-color: #d4ebff;}#sk-container-id-1 div.sk-label input.sk-toggleable__control:checked~label.sk-toggleable__label {background-color: #d4ebff;}#sk-container-id-1 input.sk-hidden--visually {border: 0;clip: rect(1px 1px 1px 1px);clip: rect(1px, 1px, 1px, 1px);height: 1px;margin: -1px;overflow: hidden;padding: 0;position: absolute;width: 1px;}#sk-container-id-1 div.sk-estimator {font-family: monospace;background-color: #f0f8ff;border: 1px dotted black;border-radius: 0.25em;box-sizing: border-box;margin-bottom: 0.5em;}#sk-container-id-1 div.sk-estimator:hover {background-color: #d4ebff;}#sk-container-id-1 div.sk-parallel-item::after {content: \"\";width: 100%;border-bottom: 1px solid gray;flex-grow: 1;}#sk-container-id-1 div.sk-label:hover label.sk-toggleable__label {background-color: #d4ebff;}#sk-container-id-1 div.sk-serial::before {content: \"\";position: absolute;border-left: 1px solid gray;box-sizing: border-box;top: 0;bottom: 0;left: 50%;z-index: 0;}#sk-container-id-1 div.sk-serial {display: flex;flex-direction: column;align-items: center;background-color: white;padding-right: 0.2em;padding-left: 0.2em;position: relative;}#sk-container-id-1 div.sk-item {position: relative;z-index: 1;}#sk-container-id-1 div.sk-parallel {display: flex;align-items: stretch;justify-content: center;background-color: white;position: relative;}#sk-container-id-1 div.sk-item::before, #sk-container-id-1 div.sk-parallel-item::before {content: \"\";position: absolute;border-left: 1px solid gray;box-sizing: border-box;top: 0;bottom: 0;left: 50%;z-index: -1;}#sk-container-id-1 div.sk-parallel-item {display: flex;flex-direction: column;z-index: 1;position: relative;background-color: white;}#sk-container-id-1 div.sk-parallel-item:first-child::after {align-self: flex-end;width: 50%;}#sk-container-id-1 div.sk-parallel-item:last-child::after {align-self: flex-start;width: 50%;}#sk-container-id-1 div.sk-parallel-item:only-child::after {width: 0;}#sk-container-id-1 div.sk-dashed-wrapped {border: 1px dashed gray;margin: 0 0.4em 0.5em 0.4em;box-sizing: border-box;padding-bottom: 0.4em;background-color: white;}#sk-container-id-1 div.sk-label label {font-family: monospace;font-weight: bold;display: inline-block;line-height: 1.2em;}#sk-container-id-1 div.sk-label-container {text-align: center;}#sk-container-id-1 div.sk-container {/* jupyter's `normalize.less` sets `[hidden] { display: none; }` but bootstrap.min.css set `[hidden] { display: none !important; }` so we also need the `!important` here to be able to override the default hidden behavior on the sphinx rendered scikit-learn.org. See: https://github.com/scikit-learn/scikit-learn/issues/21755 */display: inline-block !important;position: relative;}#sk-container-id-1 div.sk-text-repr-fallback {display: none;}</style><div id=\"sk-container-id-1\" class=\"sk-top-container\"><div class=\"sk-text-repr-fallback\"><pre>GradientBoostingClassifier(ccp_alpha=0.0, criterion=&#x27;friedman_mse&#x27;, init=None,\n",
       "                           learning_rate=0.1, loss=&#x27;log_loss&#x27;, max_depth=3,\n",
       "                           max_features=None, max_leaf_nodes=None,\n",
       "                           min_impurity_decrease=0.0, min_samples_leaf=1,\n",
       "                           min_samples_split=2, min_weight_fraction_leaf=0.0,\n",
       "                           n_estimators=100, n_iter_no_change=None,\n",
       "                           random_state=123, subsample=1.0, tol=0.0001,\n",
       "                           validation_fraction=0.1, verbose=0,\n",
       "                           warm_start=False)</pre><b>In a Jupyter environment, please rerun this cell to show the HTML representation or trust the notebook. <br />On GitHub, the HTML representation is unable to render, please try loading this page with nbviewer.org.</b></div><div class=\"sk-container\" hidden><div class=\"sk-item\"><div class=\"sk-estimator sk-toggleable\"><input class=\"sk-toggleable__control sk-hidden--visually\" id=\"sk-estimator-id-1\" type=\"checkbox\" checked><label for=\"sk-estimator-id-1\" class=\"sk-toggleable__label sk-toggleable__label-arrow\">GradientBoostingClassifier</label><div class=\"sk-toggleable__content\"><pre>GradientBoostingClassifier(ccp_alpha=0.0, criterion=&#x27;friedman_mse&#x27;, init=None,\n",
       "                           learning_rate=0.1, loss=&#x27;log_loss&#x27;, max_depth=3,\n",
       "                           max_features=None, max_leaf_nodes=None,\n",
       "                           min_impurity_decrease=0.0, min_samples_leaf=1,\n",
       "                           min_samples_split=2, min_weight_fraction_leaf=0.0,\n",
       "                           n_estimators=100, n_iter_no_change=None,\n",
       "                           random_state=123, subsample=1.0, tol=0.0001,\n",
       "                           validation_fraction=0.1, verbose=0,\n",
       "                           warm_start=False)</pre></div></div></div></div></div>"
      ],
      "text/plain": [
       "GradientBoostingClassifier(ccp_alpha=0.0, criterion='friedman_mse', init=None,\n",
       "                           learning_rate=0.1, loss='log_loss', max_depth=3,\n",
       "                           max_features=None, max_leaf_nodes=None,\n",
       "                           min_impurity_decrease=0.0, min_samples_leaf=1,\n",
       "                           min_samples_split=2, min_weight_fraction_leaf=0.0,\n",
       "                           n_estimators=100, n_iter_no_change=None,\n",
       "                           random_state=123, subsample=1.0, tol=0.0001,\n",
       "                           validation_fraction=0.1, verbose=0,\n",
       "                           warm_start=False)"
      ]
     },
     "execution_count": 10,
     "metadata": {},
     "output_type": "execute_result"
    }
   ],
   "source": [
    "# compare models using OOP\n",
    "exp.compare_models()"
   ]
  },
  {
   "attachments": {},
   "cell_type": "markdown",
   "id": "340de1e2",
   "metadata": {},
   "source": [
    "Notice that the output between functional and OOP API is consistent. Rest of the functions in this notebook will only be shown using functional API only. "
   ]
  },
  {
   "attachments": {},
   "cell_type": "markdown",
   "id": "6a77ec0c",
   "metadata": {},
   "source": [
    "## Analyze Model"
   ]
  },
  {
   "attachments": {},
   "cell_type": "markdown",
   "id": "595ea108",
   "metadata": {},
   "source": [
    "You can use the `plot_model` function to analyzes the performance of a trained model on the test set. It may require re-training the model in certain cases."
   ]
  },
  {
   "cell_type": "code",
   "execution_count": 11,
   "id": "0ec7fad6",
   "metadata": {},
   "outputs": [
    {
     "data": {
      "text/html": [],
      "text/plain": [
       "<IPython.core.display.HTML object>"
      ]
     },
     "metadata": {},
     "output_type": "display_data"
    },
    {
     "data": {
      "image/png": "[encoded data removed]",
      "text/plain": [
       "<Figure size 800x550 with 1 Axes>"
      ]
     },
     "metadata": {},
     "output_type": "display_data"
    }
   ],
   "source": [
    "# plot confusion matrix\n",
    "plot_model(best, plot = 'confusion_matrix')"
   ]
  },
  {
   "cell_type": "code",
   "execution_count": 12,
   "id": "9fc4b9b1",
   "metadata": {},
   "outputs": [
    {
     "data": {
      "text/html": [],
      "text/plain": [
       "<IPython.core.display.HTML object>"
      ]
     },
     "metadata": {},
     "output_type": "display_data"
    },
    {
     "data": {
      "image/png": "[encoded data removed]",
      "text/plain": [
       "<Figure size 800x550 with 1 Axes>"
      ]
     },
     "metadata": {},
     "output_type": "display_data"
    }
   ],
   "source": [
    "# plot AUC\n",
    "plot_model(best, plot = 'auc')"
   ]
  },
  {
   "cell_type": "code",
   "execution_count": 13,
   "id": "bbc790e4",
   "metadata": {},
   "outputs": [
    {
     "data": {
      "text/html": [],
      "text/plain": [
       "<IPython.core.display.HTML object>"
      ]
     },
     "metadata": {},
     "output_type": "display_data"
    },
    {
     "data": {
      "image/png": "[encoded data removed]",
      "text/plain": [
       "<Figure size 800x500 with 1 Axes>"
      ]
     },
     "metadata": {},
     "output_type": "display_data"
    }
   ],
   "source": [
    "# plot feature importance\n",
    "plot_model(best, plot = 'feature')"
   ]
  },
  {
   "cell_type": "code",
   "execution_count": 14,
   "id": "da718984",
   "metadata": {},
   "outputs": [
    {
     "name": "stdout",
     "output_type": "stream",
     "text": [
      "Help on function plot_model in module pycaret.classification.functional:\n",
      "\n",
      "plot_model(estimator, plot: str = 'auc', scale: float = 1, save: bool = False, fold: Union[int, Any, NoneType] = None, fit_kwargs: Union[dict, NoneType] = None, plot_kwargs: Union[dict, NoneType] = None, groups: Union[str, Any, NoneType] = None, verbose: bool = True, display_format: Union[str, NoneType] = None) -> Union[str, NoneType]\n",
      "    This function analyzes the performance of a trained model on holdout set.\n",
      "    It may require re-training the model in certain cases.\n",
      "    \n",
      "    Example\n",
      "    -------\n",
      "    >>> from pycaret.datasets import get_data\n",
      "    >>> juice = get_data('juice')\n",
      "    >>> from pycaret.classification import *\n",
      "    >>> exp_name = setup(data = juice,  target = 'Purchase')\n",
      "    >>> lr = create_model('lr')\n",
      "    >>> plot_model(lr, plot = 'auc')\n",
      "    \n",
      "    \n",
      "    estimator: scikit-learn compatible object\n",
      "        Trained model object\n",
      "    \n",
      "    \n",
      "    plot: str, default = 'auc'\n",
      "        List of available plots (ID - Name):\n",
      "    \n",
      "        * 'pipeline' - Schematic drawing of the preprocessing pipeline\n",
      "        * 'auc' - Area Under the Curve\n",
      "        * 'threshold' - Discrimination Threshold\n",
      "        * 'pr' - Precision Recall Curve\n",
      "        * 'confusion_matrix' - Confusion Matrix\n",
      "        * 'error' - Class Prediction Error\n",
      "        * 'class_report' - Classification Report\n",
      "        * 'boundary' - Decision Boundary\n",
      "        * 'rfe' - Recursive Feature Selection\n",
      "        * 'learning' - Learning Curve\n",
      "        * 'manifold' - Manifold Learning\n",
      "        * 'calibration' - Calibration Curve\n",
      "        * 'vc' - Validation Curve\n",
      "        * 'dimension' - Dimension Learning\n",
      "        * 'feature' - Feature Importance\n",
      "        * 'feature_all' - Feature Importance (All)\n",
      "        * 'parameter' - Model Hyperparameter\n",
      "        * 'lift' - Lift Curve\n",
      "        * 'gain' - Gain Chart\n",
      "        * 'tree' - Decision Tree\n",
      "        * 'ks' - KS Statistic Plot\n",
      "    \n",
      "    \n",
      "    scale: float, default = 1\n",
      "        The resolution scale of the figure.\n",
      "    \n",
      "    \n",
      "    save: bool, default = False\n",
      "        When set to True, plot is saved in the current working directory.\n",
      "    \n",
      "    \n",
      "    fold: int or scikit-learn compatible CV generator, default = None\n",
      "        Controls cross-validation. If None, the CV generator in the ``fold_strategy``\n",
      "        parameter of the ``setup`` function is used. When an integer is passed,\n",
      "        it is interpreted as the 'n_splits' parameter of the CV generator in the\n",
      "        ``setup`` function.\n",
      "    \n",
      "    \n",
      "    fit_kwargs: dict, default = {} (empty dict)\n",
      "        Dictionary of arguments passed to the fit method of the model.\n",
      "    \n",
      "    \n",
      "    plot_kwargs: dict, default = {} (empty dict)\n",
      "        Dictionary of arguments passed to the visualizer class.\n",
      "            - pipeline: fontsize -> int\n",
      "    \n",
      "    \n",
      "    groups: str or array-like, with shape (n_samples,), default = None\n",
      "        Optional group labels when GroupKFold is used for the cross validation.\n",
      "        It takes an array with shape (n_samples, ) where n_samples is the number\n",
      "        of rows in training dataset. When string is passed, it is interpreted as\n",
      "        the column name in the dataset containing group labels.\n",
      "    \n",
      "    \n",
      "    verbose: bool, default = True\n",
      "        When set to False, progress bar is not displayed.\n",
      "    \n",
      "    \n",
      "    display_format: str, default = None\n",
      "        To display plots in Streamlit (https://www.streamlit.io/), set this to 'streamlit'.\n",
      "        Currently, not all plots are supported.\n",
      "    \n",
      "    \n",
      "    Returns:\n",
      "        Path to saved file, if any.\n",
      "    \n",
      "    \n",
      "    Warnings\n",
      "    --------\n",
      "    -   Estimators that does not support 'predict_proba' attribute cannot be used for\n",
      "        'AUC' and 'calibration' plots.\n",
      "    \n",
      "    -   When the target is multiclass, 'calibration', 'threshold', 'manifold' and 'rfe'\n",
      "        plots are not available.\n",
      "    \n",
      "    -   When the 'max_features' parameter of a trained model object is not equal to\n",
      "        the number of samples in training set, the 'rfe' plot is not available.\n",
      "\n"
     ]
    }
   ],
   "source": [
    "# check docstring to see available plots \n",
    "help(plot_model)"
   ]
  },
  {
   "attachments": {},
   "cell_type": "markdown",
   "id": "6bd66179",
   "metadata": {},
   "source": [
    "An alternate to `plot_model` function is `evaluate_model`. It can only be used in Notebook since it uses ipywidget."
   ]
  },
  {
   "cell_type": "code",
   "execution_count": 15,
   "id": "c75f07a8",
   "metadata": {},
   "outputs": [
    {
     "data": {
      "application/vnd.jupyter.widget-view+json": {
       "model_id": "b87de70283614fb1934b31fd746e4912",
       "version_major": 2,
       "version_minor": 0
      },
      "text/plain": [
       "interactive(children=(ToggleButtons(description='Plot Type:', icons=('',), options=(('Pipeline Plot', 'pipelin…"
      ]
     },
     "metadata": {},
     "output_type": "display_data"
    }
   ],
   "source": [
    "evaluate_model(best)"
   ]
  },
  {
   "attachments": {},
   "cell_type": "markdown",
   "id": "954cbeff",
   "metadata": {},
   "source": [
    "## Prediction\n",
    "The `predict_model` function returns `prediction_label` and `prediction_score` (probability of the predicted class) as new columns in dataframe. When data is `None` (default), it uses the test set (created during the setup function) for scoring."
   ]
  },
  {
   "cell_type": "code",
   "execution_count": 16,
   "id": "87c1a007",
   "metadata": {},
   "outputs": [
    {
     "data": {
      "text/html": [
       "<style type=\"text/css\">\n",
       "</style>\n",
       "<table id=\"T_153f3\">\n",
       "  <thead>\n",
       "    <tr>\n",
       "      <th class=\"blank level0\" >&nbsp;</th>\n",
       "      <th id=\"T_153f3_level0_col0\" class=\"col_heading level0 col0\" >Model</th>\n",
       "      <th id=\"T_153f3_level0_col1\" class=\"col_heading level0 col1\" >Accuracy</th>\n",
       "      <th id=\"T_153f3_level0_col2\" class=\"col_heading level0 col2\" >AUC</th>\n",
       "      <th id=\"T_153f3_level0_col3\" class=\"col_heading level0 col3\" >Recall</th>\n",
       "      <th id=\"T_153f3_level0_col4\" class=\"col_heading level0 col4\" >Prec.</th>\n",
       "      <th id=\"T_153f3_level0_col5\" class=\"col_heading level0 col5\" >F1</th>\n",
       "      <th id=\"T_153f3_level0_col6\" class=\"col_heading level0 col6\" >Kappa</th>\n",
       "      <th id=\"T_153f3_level0_col7\" class=\"col_heading level0 col7\" >MCC</th>\n",
       "    </tr>\n",
       "  </thead>\n",
       "  <tbody>\n",
       "    <tr>\n",
       "      <th id=\"T_153f3_level0_row0\" class=\"row_heading level0 row0\" >0</th>\n",
       "      <td id=\"T_153f3_row0_col0\" class=\"data row0 col0\" >Gradient Boosting Classifier</td>\n",
       "      <td id=\"T_153f3_row0_col1\" class=\"data row0 col1\" >0.8431</td>\n",
       "      <td id=\"T_153f3_row0_col2\" class=\"data row0 col2\" >0</td>\n",
       "      <td id=\"T_153f3_row0_col3\" class=\"data row0 col3\" >0.8431</td>\n",
       "      <td id=\"T_153f3_row0_col4\" class=\"data row0 col4\" >0.7896</td>\n",
       "      <td id=\"T_153f3_row0_col5\" class=\"data row0 col5\" >0.7981</td>\n",
       "      <td id=\"T_153f3_row0_col6\" class=\"data row0 col6\" >0.1537</td>\n",
       "      <td id=\"T_153f3_row0_col7\" class=\"data row0 col7\" >0.2039</td>\n",
       "    </tr>\n",
       "  </tbody>\n",
       "</table>\n"
      ],
      "text/plain": [
       "<pandas.io.formats.style.Styler at 0x1ad31141880>"
      ]
     },
     "metadata": {},
     "output_type": "display_data"
    }
   ],
   "source": [
    "# predict on test set\n",
    "holdout_pred = predict_model(best)"
   ]
  },
  {
   "cell_type": "code",
   "execution_count": 17,
   "id": "5c01ac77",
   "metadata": {},
   "outputs": [
    {
     "data": {
      "text/html": [
       "<div>\n",
       "<style scoped>\n",
       "    .dataframe tbody tr th:only-of-type {\n",
       "        vertical-align: middle;\n",
       "    }\n",
       "\n",
       "    .dataframe tbody tr th {\n",
       "        vertical-align: top;\n",
       "    }\n",
       "\n",
       "    .dataframe thead th {\n",
       "        text-align: right;\n",
       "    }\n",
       "</style>\n",
       "<table border=\"1\" class=\"dataframe\">\n",
       "  <thead>\n",
       "    <tr style=\"text-align: right;\">\n",
       "      <th></th>\n",
       "      <th>bmi</th>\n",
       "      <th>smoker</th>\n",
       "      <th>stroke</th>\n",
       "      <th>heart_attack</th>\n",
       "      <th>angina_or_chd</th>\n",
       "      <th>chd_mi</th>\n",
       "      <th>asthma</th>\n",
       "      <th>physical_activity</th>\n",
       "      <th>heavy_drinking</th>\n",
       "      <th>no_doctor_due_to_cost</th>\n",
       "      <th>...</th>\n",
       "      <th>education</th>\n",
       "      <th>income</th>\n",
       "      <th>race</th>\n",
       "      <th>sleep_time</th>\n",
       "      <th>years_smoked</th>\n",
       "      <th>routine_checkup</th>\n",
       "      <th>heart_related</th>\n",
       "      <th>diabetes</th>\n",
       "      <th>prediction_label</th>\n",
       "      <th>prediction_score</th>\n",
       "    </tr>\n",
       "  </thead>\n",
       "  <tbody>\n",
       "    <tr>\n",
       "      <th>20835</th>\n",
       "      <td>2.0</td>\n",
       "      <td>3.0</td>\n",
       "      <td>0.0</td>\n",
       "      <td>0.0</td>\n",
       "      <td>1</td>\n",
       "      <td>1</td>\n",
       "      <td>0.0</td>\n",
       "      <td>1.0</td>\n",
       "      <td>0.0</td>\n",
       "      <td>0.0</td>\n",
       "      <td>...</td>\n",
       "      <td>4.0</td>\n",
       "      <td>6.0</td>\n",
       "      <td>1.0</td>\n",
       "      <td>7.0</td>\n",
       "      <td>0.0</td>\n",
       "      <td>1.0</td>\n",
       "      <td>1</td>\n",
       "      <td>0.0</td>\n",
       "      <td>0</td>\n",
       "      <td>0.9357</td>\n",
       "    </tr>\n",
       "    <tr>\n",
       "      <th>109268</th>\n",
       "      <td>3.0</td>\n",
       "      <td>0.0</td>\n",
       "      <td>0.0</td>\n",
       "      <td>0.0</td>\n",
       "      <td>1</td>\n",
       "      <td>1</td>\n",
       "      <td>0.0</td>\n",
       "      <td>1.0</td>\n",
       "      <td>0.0</td>\n",
       "      <td>0.0</td>\n",
       "      <td>...</td>\n",
       "      <td>3.0</td>\n",
       "      <td>5.0</td>\n",
       "      <td>1.0</td>\n",
       "      <td>8.0</td>\n",
       "      <td>0.0</td>\n",
       "      <td>1.0</td>\n",
       "      <td>1</td>\n",
       "      <td>2.0</td>\n",
       "      <td>0</td>\n",
       "      <td>0.8301</td>\n",
       "    </tr>\n",
       "    <tr>\n",
       "      <th>270065</th>\n",
       "      <td>4.0</td>\n",
       "      <td>3.0</td>\n",
       "      <td>0.0</td>\n",
       "      <td>0.0</td>\n",
       "      <td>1</td>\n",
       "      <td>1</td>\n",
       "      <td>0.0</td>\n",
       "      <td>1.0</td>\n",
       "      <td>0.0</td>\n",
       "      <td>0.0</td>\n",
       "      <td>...</td>\n",
       "      <td>3.0</td>\n",
       "      <td>3.0</td>\n",
       "      <td>4.0</td>\n",
       "      <td>5.0</td>\n",
       "      <td>0.0</td>\n",
       "      <td>4.0</td>\n",
       "      <td>1</td>\n",
       "      <td>0.0</td>\n",
       "      <td>0</td>\n",
       "      <td>0.9697</td>\n",
       "    </tr>\n",
       "    <tr>\n",
       "      <th>9866</th>\n",
       "      <td>4.0</td>\n",
       "      <td>0.0</td>\n",
       "      <td>0.0</td>\n",
       "      <td>0.0</td>\n",
       "      <td>1</td>\n",
       "      <td>1</td>\n",
       "      <td>0.0</td>\n",
       "      <td>0.0</td>\n",
       "      <td>0.0</td>\n",
       "      <td>0.0</td>\n",
       "      <td>...</td>\n",
       "      <td>3.0</td>\n",
       "      <td>6.0</td>\n",
       "      <td>1.0</td>\n",
       "      <td>6.0</td>\n",
       "      <td>0.0</td>\n",
       "      <td>1.0</td>\n",
       "      <td>1</td>\n",
       "      <td>1.0</td>\n",
       "      <td>0</td>\n",
       "      <td>0.8140</td>\n",
       "    </tr>\n",
       "    <tr>\n",
       "      <th>46385</th>\n",
       "      <td>4.0</td>\n",
       "      <td>3.0</td>\n",
       "      <td>0.0</td>\n",
       "      <td>0.0</td>\n",
       "      <td>1</td>\n",
       "      <td>1</td>\n",
       "      <td>0.0</td>\n",
       "      <td>1.0</td>\n",
       "      <td>0.0</td>\n",
       "      <td>0.0</td>\n",
       "      <td>...</td>\n",
       "      <td>4.0</td>\n",
       "      <td>5.0</td>\n",
       "      <td>5.0</td>\n",
       "      <td>6.0</td>\n",
       "      <td>0.0</td>\n",
       "      <td>4.0</td>\n",
       "      <td>1</td>\n",
       "      <td>0.0</td>\n",
       "      <td>0</td>\n",
       "      <td>0.9324</td>\n",
       "    </tr>\n",
       "  </tbody>\n",
       "</table>\n",
       "<p>5 rows × 27 columns</p>\n",
       "</div>"
      ],
      "text/plain": [
       "        bmi  smoker  stroke  heart_attack  angina_or_chd  chd_mi  asthma  \\\n",
       "20835   2.0     3.0     0.0           0.0              1       1     0.0   \n",
       "109268  3.0     0.0     0.0           0.0              1       1     0.0   \n",
       "270065  4.0     3.0     0.0           0.0              1       1     0.0   \n",
       "9866    4.0     0.0     0.0           0.0              1       1     0.0   \n",
       "46385   4.0     3.0     0.0           0.0              1       1     0.0   \n",
       "\n",
       "        physical_activity  heavy_drinking  no_doctor_due_to_cost  ...  \\\n",
       "20835                 1.0             0.0                    0.0  ...   \n",
       "109268                1.0             0.0                    0.0  ...   \n",
       "270065                1.0             0.0                    0.0  ...   \n",
       "9866                  0.0             0.0                    0.0  ...   \n",
       "46385                 1.0             0.0                    0.0  ...   \n",
       "\n",
       "        education  income  race  sleep_time  years_smoked  routine_checkup  \\\n",
       "20835         4.0     6.0   1.0         7.0           0.0              1.0   \n",
       "109268        3.0     5.0   1.0         8.0           0.0              1.0   \n",
       "270065        3.0     3.0   4.0         5.0           0.0              4.0   \n",
       "9866          3.0     6.0   1.0         6.0           0.0              1.0   \n",
       "46385         4.0     5.0   5.0         6.0           0.0              4.0   \n",
       "\n",
       "        heart_related  diabetes  prediction_label  prediction_score  \n",
       "20835               1       0.0                 0            0.9357  \n",
       "109268              1       2.0                 0            0.8301  \n",
       "270065              1       0.0                 0            0.9697  \n",
       "9866                1       1.0                 0            0.8140  \n",
       "46385               1       0.0                 0            0.9324  \n",
       "\n",
       "[5 rows x 27 columns]"
      ]
     },
     "execution_count": 17,
     "metadata": {},
     "output_type": "execute_result"
    }
   ],
   "source": [
    "# show predictions df\n",
    "holdout_pred.head()"
   ]
  },
  {
   "attachments": {},
   "cell_type": "markdown",
   "id": "d4baf825",
   "metadata": {},
   "source": [
    "The same function works for predicting the labels on unseen dataset. Let's create a copy of original data and drop the `Class variable`. We can then use the new data frame without labels for scoring."
   ]
  },
  {
   "cell_type": "code",
   "execution_count": 18,
   "id": "fb1cb86d",
   "metadata": {},
   "outputs": [
    {
     "data": {
      "text/html": [
       "<div>\n",
       "<style scoped>\n",
       "    .dataframe tbody tr th:only-of-type {\n",
       "        vertical-align: middle;\n",
       "    }\n",
       "\n",
       "    .dataframe tbody tr th {\n",
       "        vertical-align: top;\n",
       "    }\n",
       "\n",
       "    .dataframe thead th {\n",
       "        text-align: right;\n",
       "    }\n",
       "</style>\n",
       "<table border=\"1\" class=\"dataframe\">\n",
       "  <thead>\n",
       "    <tr style=\"text-align: right;\">\n",
       "      <th></th>\n",
       "      <th>bmi</th>\n",
       "      <th>smoker</th>\n",
       "      <th>stroke</th>\n",
       "      <th>heart_attack</th>\n",
       "      <th>angina_or_chd</th>\n",
       "      <th>chd_mi</th>\n",
       "      <th>asthma</th>\n",
       "      <th>physical_activity</th>\n",
       "      <th>heavy_drinking</th>\n",
       "      <th>no_doctor_due_to_cost</th>\n",
       "      <th>...</th>\n",
       "      <th>difficulty_walking</th>\n",
       "      <th>gender</th>\n",
       "      <th>age</th>\n",
       "      <th>education</th>\n",
       "      <th>income</th>\n",
       "      <th>race</th>\n",
       "      <th>sleep_time</th>\n",
       "      <th>years_smoked</th>\n",
       "      <th>routine_checkup</th>\n",
       "      <th>heart_related</th>\n",
       "    </tr>\n",
       "  </thead>\n",
       "  <tbody>\n",
       "    <tr>\n",
       "      <th>0</th>\n",
       "      <td>3.0</td>\n",
       "      <td>0.0</td>\n",
       "      <td>0.0</td>\n",
       "      <td>0.0</td>\n",
       "      <td>1</td>\n",
       "      <td>1</td>\n",
       "      <td>0.0</td>\n",
       "      <td>0.0</td>\n",
       "      <td>0.0</td>\n",
       "      <td>0.0</td>\n",
       "      <td>...</td>\n",
       "      <td>0.0</td>\n",
       "      <td>0.0</td>\n",
       "      <td>7.0</td>\n",
       "      <td>2.0</td>\n",
       "      <td>3.0</td>\n",
       "      <td>1.0</td>\n",
       "      <td>6.0</td>\n",
       "      <td>0.0</td>\n",
       "      <td>0.0</td>\n",
       "      <td>1</td>\n",
       "    </tr>\n",
       "    <tr>\n",
       "      <th>1</th>\n",
       "      <td>3.0</td>\n",
       "      <td>0.0</td>\n",
       "      <td>0.0</td>\n",
       "      <td>0.0</td>\n",
       "      <td>1</td>\n",
       "      <td>1</td>\n",
       "      <td>0.0</td>\n",
       "      <td>1.0</td>\n",
       "      <td>0.0</td>\n",
       "      <td>0.0</td>\n",
       "      <td>...</td>\n",
       "      <td>0.0</td>\n",
       "      <td>0.0</td>\n",
       "      <td>4.0</td>\n",
       "      <td>4.0</td>\n",
       "      <td>6.0</td>\n",
       "      <td>1.0</td>\n",
       "      <td>5.0</td>\n",
       "      <td>0.0</td>\n",
       "      <td>1.0</td>\n",
       "      <td>1</td>\n",
       "    </tr>\n",
       "    <tr>\n",
       "      <th>2</th>\n",
       "      <td>2.0</td>\n",
       "      <td>0.0</td>\n",
       "      <td>0.0</td>\n",
       "      <td>0.0</td>\n",
       "      <td>1</td>\n",
       "      <td>1</td>\n",
       "      <td>0.0</td>\n",
       "      <td>1.0</td>\n",
       "      <td>0.0</td>\n",
       "      <td>0.0</td>\n",
       "      <td>...</td>\n",
       "      <td>0.0</td>\n",
       "      <td>0.0</td>\n",
       "      <td>3.0</td>\n",
       "      <td>3.0</td>\n",
       "      <td>3.0</td>\n",
       "      <td>1.0</td>\n",
       "      <td>9.0</td>\n",
       "      <td>0.0</td>\n",
       "      <td>1.0</td>\n",
       "      <td>1</td>\n",
       "    </tr>\n",
       "    <tr>\n",
       "      <th>3</th>\n",
       "      <td>2.0</td>\n",
       "      <td>3.0</td>\n",
       "      <td>0.0</td>\n",
       "      <td>0.0</td>\n",
       "      <td>1</td>\n",
       "      <td>1</td>\n",
       "      <td>0.0</td>\n",
       "      <td>1.0</td>\n",
       "      <td>0.0</td>\n",
       "      <td>0.0</td>\n",
       "      <td>...</td>\n",
       "      <td>0.0</td>\n",
       "      <td>0.0</td>\n",
       "      <td>7.0</td>\n",
       "      <td>4.0</td>\n",
       "      <td>5.0</td>\n",
       "      <td>2.0</td>\n",
       "      <td>7.0</td>\n",
       "      <td>0.0</td>\n",
       "      <td>1.0</td>\n",
       "      <td>1</td>\n",
       "    </tr>\n",
       "    <tr>\n",
       "      <th>4</th>\n",
       "      <td>3.0</td>\n",
       "      <td>0.0</td>\n",
       "      <td>0.0</td>\n",
       "      <td>0.0</td>\n",
       "      <td>1</td>\n",
       "      <td>1</td>\n",
       "      <td>0.0</td>\n",
       "      <td>0.0</td>\n",
       "      <td>0.0</td>\n",
       "      <td>0.0</td>\n",
       "      <td>...</td>\n",
       "      <td>0.0</td>\n",
       "      <td>0.0</td>\n",
       "      <td>7.0</td>\n",
       "      <td>2.0</td>\n",
       "      <td>5.0</td>\n",
       "      <td>1.0</td>\n",
       "      <td>8.0</td>\n",
       "      <td>0.0</td>\n",
       "      <td>1.0</td>\n",
       "      <td>1</td>\n",
       "    </tr>\n",
       "  </tbody>\n",
       "</table>\n",
       "<p>5 rows × 24 columns</p>\n",
       "</div>"
      ],
      "text/plain": [
       "   bmi  smoker  stroke  heart_attack  angina_or_chd  chd_mi  asthma  \\\n",
       "0  3.0     0.0     0.0           0.0              1       1     0.0   \n",
       "1  3.0     0.0     0.0           0.0              1       1     0.0   \n",
       "2  2.0     0.0     0.0           0.0              1       1     0.0   \n",
       "3  2.0     3.0     0.0           0.0              1       1     0.0   \n",
       "4  3.0     0.0     0.0           0.0              1       1     0.0   \n",
       "\n",
       "   physical_activity  heavy_drinking  no_doctor_due_to_cost  ...  \\\n",
       "0                0.0             0.0                    0.0  ...   \n",
       "1                1.0             0.0                    0.0  ...   \n",
       "2                1.0             0.0                    0.0  ...   \n",
       "3                1.0             0.0                    0.0  ...   \n",
       "4                0.0             0.0                    0.0  ...   \n",
       "\n",
       "   difficulty_walking  gender  age  education  income  race  sleep_time  \\\n",
       "0                 0.0     0.0  7.0        2.0     3.0   1.0         6.0   \n",
       "1                 0.0     0.0  4.0        4.0     6.0   1.0         5.0   \n",
       "2                 0.0     0.0  3.0        3.0     3.0   1.0         9.0   \n",
       "3                 0.0     0.0  7.0        4.0     5.0   2.0         7.0   \n",
       "4                 0.0     0.0  7.0        2.0     5.0   1.0         8.0   \n",
       "\n",
       "   years_smoked  routine_checkup  heart_related  \n",
       "0           0.0              0.0              1  \n",
       "1           0.0              1.0              1  \n",
       "2           0.0              1.0              1  \n",
       "3           0.0              1.0              1  \n",
       "4           0.0              1.0              1  \n",
       "\n",
       "[5 rows x 24 columns]"
      ]
     },
     "execution_count": 18,
     "metadata": {},
     "output_type": "execute_result"
    }
   ],
   "source": [
    "# copy data and drop Class variable\n",
    "\n",
    "new_data = data.copy()\n",
    "new_data.drop('diabetes', axis=1, inplace=True)\n",
    "new_data.head()"
   ]
  },
  {
   "cell_type": "code",
   "execution_count": 19,
   "id": "c5803df9",
   "metadata": {},
   "outputs": [
    {
     "data": {
      "text/html": [],
      "text/plain": [
       "<IPython.core.display.HTML object>"
      ]
     },
     "metadata": {},
     "output_type": "display_data"
    },
    {
     "data": {
      "text/html": [
       "<div>\n",
       "<style scoped>\n",
       "    .dataframe tbody tr th:only-of-type {\n",
       "        vertical-align: middle;\n",
       "    }\n",
       "\n",
       "    .dataframe tbody tr th {\n",
       "        vertical-align: top;\n",
       "    }\n",
       "\n",
       "    .dataframe thead th {\n",
       "        text-align: right;\n",
       "    }\n",
       "</style>\n",
       "<table border=\"1\" class=\"dataframe\">\n",
       "  <thead>\n",
       "    <tr style=\"text-align: right;\">\n",
       "      <th></th>\n",
       "      <th>bmi</th>\n",
       "      <th>smoker</th>\n",
       "      <th>stroke</th>\n",
       "      <th>heart_attack</th>\n",
       "      <th>angina_or_chd</th>\n",
       "      <th>chd_mi</th>\n",
       "      <th>asthma</th>\n",
       "      <th>physical_activity</th>\n",
       "      <th>heavy_drinking</th>\n",
       "      <th>no_doctor_due_to_cost</th>\n",
       "      <th>...</th>\n",
       "      <th>age</th>\n",
       "      <th>education</th>\n",
       "      <th>income</th>\n",
       "      <th>race</th>\n",
       "      <th>sleep_time</th>\n",
       "      <th>years_smoked</th>\n",
       "      <th>routine_checkup</th>\n",
       "      <th>heart_related</th>\n",
       "      <th>prediction_label</th>\n",
       "      <th>prediction_score</th>\n",
       "    </tr>\n",
       "  </thead>\n",
       "  <tbody>\n",
       "    <tr>\n",
       "      <th>0</th>\n",
       "      <td>3.0</td>\n",
       "      <td>0.0</td>\n",
       "      <td>0.0</td>\n",
       "      <td>0.0</td>\n",
       "      <td>1</td>\n",
       "      <td>1</td>\n",
       "      <td>0.0</td>\n",
       "      <td>0.0</td>\n",
       "      <td>0.0</td>\n",
       "      <td>0.0</td>\n",
       "      <td>...</td>\n",
       "      <td>7.0</td>\n",
       "      <td>2.0</td>\n",
       "      <td>3.0</td>\n",
       "      <td>1.0</td>\n",
       "      <td>6.0</td>\n",
       "      <td>0.0</td>\n",
       "      <td>0.0</td>\n",
       "      <td>1</td>\n",
       "      <td>0</td>\n",
       "      <td>0.9358</td>\n",
       "    </tr>\n",
       "    <tr>\n",
       "      <th>1</th>\n",
       "      <td>3.0</td>\n",
       "      <td>0.0</td>\n",
       "      <td>0.0</td>\n",
       "      <td>0.0</td>\n",
       "      <td>1</td>\n",
       "      <td>1</td>\n",
       "      <td>0.0</td>\n",
       "      <td>1.0</td>\n",
       "      <td>0.0</td>\n",
       "      <td>0.0</td>\n",
       "      <td>...</td>\n",
       "      <td>4.0</td>\n",
       "      <td>4.0</td>\n",
       "      <td>6.0</td>\n",
       "      <td>1.0</td>\n",
       "      <td>5.0</td>\n",
       "      <td>0.0</td>\n",
       "      <td>1.0</td>\n",
       "      <td>1</td>\n",
       "      <td>0</td>\n",
       "      <td>0.9502</td>\n",
       "    </tr>\n",
       "    <tr>\n",
       "      <th>2</th>\n",
       "      <td>2.0</td>\n",
       "      <td>0.0</td>\n",
       "      <td>0.0</td>\n",
       "      <td>0.0</td>\n",
       "      <td>1</td>\n",
       "      <td>1</td>\n",
       "      <td>0.0</td>\n",
       "      <td>1.0</td>\n",
       "      <td>0.0</td>\n",
       "      <td>0.0</td>\n",
       "      <td>...</td>\n",
       "      <td>3.0</td>\n",
       "      <td>3.0</td>\n",
       "      <td>3.0</td>\n",
       "      <td>1.0</td>\n",
       "      <td>9.0</td>\n",
       "      <td>0.0</td>\n",
       "      <td>1.0</td>\n",
       "      <td>1</td>\n",
       "      <td>0</td>\n",
       "      <td>0.8875</td>\n",
       "    </tr>\n",
       "    <tr>\n",
       "      <th>3</th>\n",
       "      <td>2.0</td>\n",
       "      <td>3.0</td>\n",
       "      <td>0.0</td>\n",
       "      <td>0.0</td>\n",
       "      <td>1</td>\n",
       "      <td>1</td>\n",
       "      <td>0.0</td>\n",
       "      <td>1.0</td>\n",
       "      <td>0.0</td>\n",
       "      <td>0.0</td>\n",
       "      <td>...</td>\n",
       "      <td>7.0</td>\n",
       "      <td>4.0</td>\n",
       "      <td>5.0</td>\n",
       "      <td>2.0</td>\n",
       "      <td>7.0</td>\n",
       "      <td>0.0</td>\n",
       "      <td>1.0</td>\n",
       "      <td>1</td>\n",
       "      <td>0</td>\n",
       "      <td>0.8518</td>\n",
       "    </tr>\n",
       "    <tr>\n",
       "      <th>4</th>\n",
       "      <td>3.0</td>\n",
       "      <td>0.0</td>\n",
       "      <td>0.0</td>\n",
       "      <td>0.0</td>\n",
       "      <td>1</td>\n",
       "      <td>1</td>\n",
       "      <td>0.0</td>\n",
       "      <td>0.0</td>\n",
       "      <td>0.0</td>\n",
       "      <td>0.0</td>\n",
       "      <td>...</td>\n",
       "      <td>7.0</td>\n",
       "      <td>2.0</td>\n",
       "      <td>5.0</td>\n",
       "      <td>1.0</td>\n",
       "      <td>8.0</td>\n",
       "      <td>0.0</td>\n",
       "      <td>1.0</td>\n",
       "      <td>1</td>\n",
       "      <td>0</td>\n",
       "      <td>0.7758</td>\n",
       "    </tr>\n",
       "  </tbody>\n",
       "</table>\n",
       "<p>5 rows × 26 columns</p>\n",
       "</div>"
      ],
      "text/plain": [
       "   bmi  smoker  stroke  heart_attack  angina_or_chd  chd_mi  asthma  \\\n",
       "0  3.0     0.0     0.0           0.0              1       1     0.0   \n",
       "1  3.0     0.0     0.0           0.0              1       1     0.0   \n",
       "2  2.0     0.0     0.0           0.0              1       1     0.0   \n",
       "3  2.0     3.0     0.0           0.0              1       1     0.0   \n",
       "4  3.0     0.0     0.0           0.0              1       1     0.0   \n",
       "\n",
       "   physical_activity  heavy_drinking  no_doctor_due_to_cost  ...  age  \\\n",
       "0                0.0             0.0                    0.0  ...  7.0   \n",
       "1                1.0             0.0                    0.0  ...  4.0   \n",
       "2                1.0             0.0                    0.0  ...  3.0   \n",
       "3                1.0             0.0                    0.0  ...  7.0   \n",
       "4                0.0             0.0                    0.0  ...  7.0   \n",
       "\n",
       "   education  income  race  sleep_time  years_smoked  routine_checkup  \\\n",
       "0        2.0     3.0   1.0         6.0           0.0              0.0   \n",
       "1        4.0     6.0   1.0         5.0           0.0              1.0   \n",
       "2        3.0     3.0   1.0         9.0           0.0              1.0   \n",
       "3        4.0     5.0   2.0         7.0           0.0              1.0   \n",
       "4        2.0     5.0   1.0         8.0           0.0              1.0   \n",
       "\n",
       "   heart_related  prediction_label  prediction_score  \n",
       "0              1                 0            0.9358  \n",
       "1              1                 0            0.9502  \n",
       "2              1                 0            0.8875  \n",
       "3              1                 0            0.8518  \n",
       "4              1                 0            0.7758  \n",
       "\n",
       "[5 rows x 26 columns]"
      ]
     },
     "execution_count": 19,
     "metadata": {},
     "output_type": "execute_result"
    }
   ],
   "source": [
    "# predict model on new_data\n",
    "predictions = predict_model(best, data = new_data)\n",
    "predictions.head()"
   ]
  },
  {
   "attachments": {},
   "cell_type": "markdown",
   "id": "e4384735",
   "metadata": {},
   "source": [
    "## Save Model"
   ]
  },
  {
   "attachments": {},
   "cell_type": "markdown",
   "id": "cd63f053",
   "metadata": {},
   "source": [
    "Finally, you can save the entire pipeline on disk for later use, using pycaret's `save_model` function."
   ]
  },
  {
   "cell_type": "code",
   "execution_count": 20,
   "id": "4181de41",
   "metadata": {},
   "outputs": [
    {
     "name": "stdout",
     "output_type": "stream",
     "text": [
      "Transformation Pipeline and Model Successfully Saved\n"
     ]
    },
    {
     "data": {
      "text/plain": [
       "(Pipeline(memory=Memory(location=None),\n",
       "          steps=[('numerical_imputer',\n",
       "                  TransformerWrapper(exclude=None,\n",
       "                                     include=['bmi', 'smoker', 'stroke',\n",
       "                                              'heart_attack', 'angina_or_chd',\n",
       "                                              'chd_mi', 'asthma',\n",
       "                                              'physical_activity',\n",
       "                                              'heavy_drinking',\n",
       "                                              'no_doctor_due_to_cost',\n",
       "                                              'any_healthcare_insurance',\n",
       "                                              'general_health_status',\n",
       "                                              'mental_health_status',\n",
       "                                              'physical_health_status',\n",
       "                                              'difficult...\n",
       "                                             criterion='friedman_mse', init=None,\n",
       "                                             learning_rate=0.1, loss='log_loss',\n",
       "                                             max_depth=3, max_features=None,\n",
       "                                             max_leaf_nodes=None,\n",
       "                                             min_impurity_decrease=0.0,\n",
       "                                             min_samples_leaf=1,\n",
       "                                             min_samples_split=2,\n",
       "                                             min_weight_fraction_leaf=0.0,\n",
       "                                             n_estimators=100,\n",
       "                                             n_iter_no_change=None,\n",
       "                                             random_state=123, subsample=1.0,\n",
       "                                             tol=0.0001, validation_fraction=0.1,\n",
       "                                             verbose=0, warm_start=False))],\n",
       "          verbose=False),\n",
       " 'my_first_pipeline.pkl')"
      ]
     },
     "execution_count": 20,
     "metadata": {},
     "output_type": "execute_result"
    }
   ],
   "source": [
    "# save pipeline\n",
    "save_model(best, 'my_first_pipeline')"
   ]
  },
  {
   "cell_type": "code",
   "execution_count": 21,
   "id": "40ed5152",
   "metadata": {},
   "outputs": [
    {
     "name": "stdout",
     "output_type": "stream",
     "text": [
      "Transformation Pipeline and Model Successfully Loaded\n"
     ]
    },
    {
     "data": {
      "text/html": [
       "<style>#sk-container-id-2 {color: black;background-color: white;}#sk-container-id-2 pre{padding: 0;}#sk-container-id-2 div.sk-toggleable {background-color: white;}#sk-container-id-2 label.sk-toggleable__label {cursor: pointer;display: block;width: 100%;margin-bottom: 0;padding: 0.3em;box-sizing: border-box;text-align: center;}#sk-container-id-2 label.sk-toggleable__label-arrow:before {content: \"▸\";float: left;margin-right: 0.25em;color: #696969;}#sk-container-id-2 label.sk-toggleable__label-arrow:hover:before {color: black;}#sk-container-id-2 div.sk-estimator:hover label.sk-toggleable__label-arrow:before {color: black;}#sk-container-id-2 div.sk-toggleable__content {max-height: 0;max-width: 0;overflow: hidden;text-align: left;background-color: #f0f8ff;}#sk-container-id-2 div.sk-toggleable__content pre {margin: 0.2em;color: black;border-radius: 0.25em;background-color: #f0f8ff;}#sk-container-id-2 input.sk-toggleable__control:checked~div.sk-toggleable__content {max-height: 200px;max-width: 100%;overflow: auto;}#sk-container-id-2 input.sk-toggleable__control:checked~label.sk-toggleable__label-arrow:before {content: \"▾\";}#sk-container-id-2 div.sk-estimator input.sk-toggleable__control:checked~label.sk-toggleable__label {background-color: #d4ebff;}#sk-container-id-2 div.sk-label input.sk-toggleable__control:checked~label.sk-toggleable__label {background-color: #d4ebff;}#sk-container-id-2 input.sk-hidden--visually {border: 0;clip: rect(1px 1px 1px 1px);clip: rect(1px, 1px, 1px, 1px);height: 1px;margin: -1px;overflow: hidden;padding: 0;position: absolute;width: 1px;}#sk-container-id-2 div.sk-estimator {font-family: monospace;background-color: #f0f8ff;border: 1px dotted black;border-radius: 0.25em;box-sizing: border-box;margin-bottom: 0.5em;}#sk-container-id-2 div.sk-estimator:hover {background-color: #d4ebff;}#sk-container-id-2 div.sk-parallel-item::after {content: \"\";width: 100%;border-bottom: 1px solid gray;flex-grow: 1;}#sk-container-id-2 div.sk-label:hover label.sk-toggleable__label {background-color: #d4ebff;}#sk-container-id-2 div.sk-serial::before {content: \"\";position: absolute;border-left: 1px solid gray;box-sizing: border-box;top: 0;bottom: 0;left: 50%;z-index: 0;}#sk-container-id-2 div.sk-serial {display: flex;flex-direction: column;align-items: center;background-color: white;padding-right: 0.2em;padding-left: 0.2em;position: relative;}#sk-container-id-2 div.sk-item {position: relative;z-index: 1;}#sk-container-id-2 div.sk-parallel {display: flex;align-items: stretch;justify-content: center;background-color: white;position: relative;}#sk-container-id-2 div.sk-item::before, #sk-container-id-2 div.sk-parallel-item::before {content: \"\";position: absolute;border-left: 1px solid gray;box-sizing: border-box;top: 0;bottom: 0;left: 50%;z-index: -1;}#sk-container-id-2 div.sk-parallel-item {display: flex;flex-direction: column;z-index: 1;position: relative;background-color: white;}#sk-container-id-2 div.sk-parallel-item:first-child::after {align-self: flex-end;width: 50%;}#sk-container-id-2 div.sk-parallel-item:last-child::after {align-self: flex-start;width: 50%;}#sk-container-id-2 div.sk-parallel-item:only-child::after {width: 0;}#sk-container-id-2 div.sk-dashed-wrapped {border: 1px dashed gray;margin: 0 0.4em 0.5em 0.4em;box-sizing: border-box;padding-bottom: 0.4em;background-color: white;}#sk-container-id-2 div.sk-label label {font-family: monospace;font-weight: bold;display: inline-block;line-height: 1.2em;}#sk-container-id-2 div.sk-label-container {text-align: center;}#sk-container-id-2 div.sk-container {/* jupyter's `normalize.less` sets `[hidden] { display: none; }` but bootstrap.min.css set `[hidden] { display: none !important; }` so we also need the `!important` here to be able to override the default hidden behavior on the sphinx rendered scikit-learn.org. See: https://github.com/scikit-learn/scikit-learn/issues/21755 */display: inline-block !important;position: relative;}#sk-container-id-2 div.sk-text-repr-fallback {display: none;}</style><div id=\"sk-container-id-2\" class=\"sk-top-container\"><div class=\"sk-text-repr-fallback\"><pre>Pipeline(memory=FastMemory(location=C:\\Users\\djhar\\AppData\\Local\\Temp\\joblib),\n",
       "         steps=[(&#x27;numerical_imputer&#x27;,\n",
       "                 TransformerWrapper(exclude=None,\n",
       "                                    include=[&#x27;bmi&#x27;, &#x27;smoker&#x27;, &#x27;stroke&#x27;,\n",
       "                                             &#x27;heart_attack&#x27;, &#x27;angina_or_chd&#x27;,\n",
       "                                             &#x27;chd_mi&#x27;, &#x27;asthma&#x27;,\n",
       "                                             &#x27;physical_activity&#x27;,\n",
       "                                             &#x27;heavy_drinking&#x27;,\n",
       "                                             &#x27;no_doctor_due_to_cost&#x27;,\n",
       "                                             &#x27;any_healthcare_insurance&#x27;,\n",
       "                                             &#x27;general_health_status&#x27;,\n",
       "                                             &#x27;mental_health_sta...\n",
       "                                            criterion=&#x27;friedman_mse&#x27;, init=None,\n",
       "                                            learning_rate=0.1, loss=&#x27;log_loss&#x27;,\n",
       "                                            max_depth=3, max_features=None,\n",
       "                                            max_leaf_nodes=None,\n",
       "                                            min_impurity_decrease=0.0,\n",
       "                                            min_samples_leaf=1,\n",
       "                                            min_samples_split=2,\n",
       "                                            min_weight_fraction_leaf=0.0,\n",
       "                                            n_estimators=100,\n",
       "                                            n_iter_no_change=None,\n",
       "                                            random_state=123, subsample=1.0,\n",
       "                                            tol=0.0001, validation_fraction=0.1,\n",
       "                                            verbose=0, warm_start=False))],\n",
       "         verbose=False)</pre><b>In a Jupyter environment, please rerun this cell to show the HTML representation or trust the notebook. <br />On GitHub, the HTML representation is unable to render, please try loading this page with nbviewer.org.</b></div><div class=\"sk-container\" hidden><div class=\"sk-item sk-dashed-wrapped\"><div class=\"sk-label-container\"><div class=\"sk-label sk-toggleable\"><input class=\"sk-toggleable__control sk-hidden--visually\" id=\"sk-estimator-id-2\" type=\"checkbox\" ><label for=\"sk-estimator-id-2\" class=\"sk-toggleable__label sk-toggleable__label-arrow\">Pipeline</label><div class=\"sk-toggleable__content\"><pre>Pipeline(memory=FastMemory(location=C:\\Users\\djhar\\AppData\\Local\\Temp\\joblib),\n",
       "         steps=[(&#x27;numerical_imputer&#x27;,\n",
       "                 TransformerWrapper(exclude=None,\n",
       "                                    include=[&#x27;bmi&#x27;, &#x27;smoker&#x27;, &#x27;stroke&#x27;,\n",
       "                                             &#x27;heart_attack&#x27;, &#x27;angina_or_chd&#x27;,\n",
       "                                             &#x27;chd_mi&#x27;, &#x27;asthma&#x27;,\n",
       "                                             &#x27;physical_activity&#x27;,\n",
       "                                             &#x27;heavy_drinking&#x27;,\n",
       "                                             &#x27;no_doctor_due_to_cost&#x27;,\n",
       "                                             &#x27;any_healthcare_insurance&#x27;,\n",
       "                                             &#x27;general_health_status&#x27;,\n",
       "                                             &#x27;mental_health_sta...\n",
       "                                            criterion=&#x27;friedman_mse&#x27;, init=None,\n",
       "                                            learning_rate=0.1, loss=&#x27;log_loss&#x27;,\n",
       "                                            max_depth=3, max_features=None,\n",
       "                                            max_leaf_nodes=None,\n",
       "                                            min_impurity_decrease=0.0,\n",
       "                                            min_samples_leaf=1,\n",
       "                                            min_samples_split=2,\n",
       "                                            min_weight_fraction_leaf=0.0,\n",
       "                                            n_estimators=100,\n",
       "                                            n_iter_no_change=None,\n",
       "                                            random_state=123, subsample=1.0,\n",
       "                                            tol=0.0001, validation_fraction=0.1,\n",
       "                                            verbose=0, warm_start=False))],\n",
       "         verbose=False)</pre></div></div></div><div class=\"sk-serial\"><div class=\"sk-item sk-dashed-wrapped\"><div class=\"sk-label-container\"><div class=\"sk-label sk-toggleable\"><input class=\"sk-toggleable__control sk-hidden--visually\" id=\"sk-estimator-id-3\" type=\"checkbox\" ><label for=\"sk-estimator-id-3\" class=\"sk-toggleable__label sk-toggleable__label-arrow\">numerical_imputer: TransformerWrapper</label><div class=\"sk-toggleable__content\"><pre>TransformerWrapper(exclude=None,\n",
       "                   include=[&#x27;bmi&#x27;, &#x27;smoker&#x27;, &#x27;stroke&#x27;, &#x27;heart_attack&#x27;,\n",
       "                            &#x27;angina_or_chd&#x27;, &#x27;chd_mi&#x27;, &#x27;asthma&#x27;,\n",
       "                            &#x27;physical_activity&#x27;, &#x27;heavy_drinking&#x27;,\n",
       "                            &#x27;no_doctor_due_to_cost&#x27;, &#x27;any_healthcare_insurance&#x27;,\n",
       "                            &#x27;general_health_status&#x27;, &#x27;mental_health_status&#x27;,\n",
       "                            &#x27;physical_health_status&#x27;, &#x27;difficulty_walking&#x27;,\n",
       "                            &#x27;gender&#x27;, &#x27;age&#x27;, &#x27;education&#x27;, &#x27;income&#x27;, &#x27;race&#x27;,\n",
       "                            &#x27;sleep_time&#x27;, &#x27;years_smoked&#x27;, &#x27;routine_checkup&#x27;,\n",
       "                            &#x27;heart_related&#x27;],\n",
       "                   transformer=SimpleImputer(add_indicator=False, copy=True,\n",
       "                                             fill_value=None,\n",
       "                                             keep_empty_features=False,\n",
       "                                             missing_values=nan,\n",
       "                                             strategy=&#x27;mean&#x27;,\n",
       "                                             verbose=&#x27;deprecated&#x27;))</pre></div></div></div><div class=\"sk-parallel\"><div class=\"sk-parallel-item\"><div class=\"sk-item\"><div class=\"sk-label-container\"><div class=\"sk-label sk-toggleable\"><input class=\"sk-toggleable__control sk-hidden--visually\" id=\"sk-estimator-id-4\" type=\"checkbox\" ><label for=\"sk-estimator-id-4\" class=\"sk-toggleable__label sk-toggleable__label-arrow\">transformer: SimpleImputer</label><div class=\"sk-toggleable__content\"><pre>SimpleImputer()</pre></div></div></div><div class=\"sk-serial\"><div class=\"sk-item\"><div class=\"sk-estimator sk-toggleable\"><input class=\"sk-toggleable__control sk-hidden--visually\" id=\"sk-estimator-id-5\" type=\"checkbox\" ><label for=\"sk-estimator-id-5\" class=\"sk-toggleable__label sk-toggleable__label-arrow\">SimpleImputer</label><div class=\"sk-toggleable__content\"><pre>SimpleImputer()</pre></div></div></div></div></div></div></div></div><div class=\"sk-item sk-dashed-wrapped\"><div class=\"sk-label-container\"><div class=\"sk-label sk-toggleable\"><input class=\"sk-toggleable__control sk-hidden--visually\" id=\"sk-estimator-id-6\" type=\"checkbox\" ><label for=\"sk-estimator-id-6\" class=\"sk-toggleable__label sk-toggleable__label-arrow\">categorical_imputer: TransformerWrapper</label><div class=\"sk-toggleable__content\"><pre>TransformerWrapper(exclude=None, include=[],\n",
       "                   transformer=SimpleImputer(add_indicator=False, copy=True,\n",
       "                                             fill_value=None,\n",
       "                                             keep_empty_features=False,\n",
       "                                             missing_values=nan,\n",
       "                                             strategy=&#x27;most_frequent&#x27;,\n",
       "                                             verbose=&#x27;deprecated&#x27;))</pre></div></div></div><div class=\"sk-parallel\"><div class=\"sk-parallel-item\"><div class=\"sk-item\"><div class=\"sk-label-container\"><div class=\"sk-label sk-toggleable\"><input class=\"sk-toggleable__control sk-hidden--visually\" id=\"sk-estimator-id-7\" type=\"checkbox\" ><label for=\"sk-estimator-id-7\" class=\"sk-toggleable__label sk-toggleable__label-arrow\">transformer: SimpleImputer</label><div class=\"sk-toggleable__content\"><pre>SimpleImputer(strategy=&#x27;most_frequent&#x27;)</pre></div></div></div><div class=\"sk-serial\"><div class=\"sk-item\"><div class=\"sk-estimator sk-toggleable\"><input class=\"sk-toggleable__control sk-hidden--visually\" id=\"sk-estimator-id-8\" type=\"checkbox\" ><label for=\"sk-estimator-id-8\" class=\"sk-toggleable__label sk-toggleable__label-arrow\">SimpleImputer</label><div class=\"sk-toggleable__content\"><pre>SimpleImputer(strategy=&#x27;most_frequent&#x27;)</pre></div></div></div></div></div></div></div></div><div class=\"sk-item\"><div class=\"sk-estimator sk-toggleable\"><input class=\"sk-toggleable__control sk-hidden--visually\" id=\"sk-estimator-id-9\" type=\"checkbox\" ><label for=\"sk-estimator-id-9\" class=\"sk-toggleable__label sk-toggleable__label-arrow\">GradientBoostingClassifier</label><div class=\"sk-toggleable__content\"><pre>GradientBoostingClassifier(random_state=123)</pre></div></div></div></div></div></div></div>"
      ],
      "text/plain": [
       "Pipeline(memory=FastMemory(location=C:\\Users\\djhar\\AppData\\Local\\Temp\\joblib),\n",
       "         steps=[('numerical_imputer',\n",
       "                 TransformerWrapper(exclude=None,\n",
       "                                    include=['bmi', 'smoker', 'stroke',\n",
       "                                             'heart_attack', 'angina_or_chd',\n",
       "                                             'chd_mi', 'asthma',\n",
       "                                             'physical_activity',\n",
       "                                             'heavy_drinking',\n",
       "                                             'no_doctor_due_to_cost',\n",
       "                                             'any_healthcare_insurance',\n",
       "                                             'general_health_status',\n",
       "                                             'mental_health_sta...\n",
       "                                            criterion='friedman_mse', init=None,\n",
       "                                            learning_rate=0.1, loss='log_loss',\n",
       "                                            max_depth=3, max_features=None,\n",
       "                                            max_leaf_nodes=None,\n",
       "                                            min_impurity_decrease=0.0,\n",
       "                                            min_samples_leaf=1,\n",
       "                                            min_samples_split=2,\n",
       "                                            min_weight_fraction_leaf=0.0,\n",
       "                                            n_estimators=100,\n",
       "                                            n_iter_no_change=None,\n",
       "                                            random_state=123, subsample=1.0,\n",
       "                                            tol=0.0001, validation_fraction=0.1,\n",
       "                                            verbose=0, warm_start=False))],\n",
       "         verbose=False)"
      ]
     },
     "execution_count": 21,
     "metadata": {},
     "output_type": "execute_result"
    }
   ],
   "source": [
    "# load pipeline\n",
    "loaded_best_pipeline = load_model('my_first_pipeline')\n",
    "loaded_best_pipeline"
   ]
  },
  {
   "attachments": {},
   "cell_type": "markdown",
   "id": "b2c7d62e",
   "metadata": {},
   "source": [
    "# 👇 Detailed function-by-function overview"
   ]
  },
  {
   "attachments": {},
   "cell_type": "markdown",
   "id": "e05937f5",
   "metadata": {},
   "source": [
    "## ✅ Setup\n",
    "This function initializes the experiment in PyCaret and creates the transformation pipeline based on all the parameters passed in the function. Setup function must be called before executing any other function. It takes two required parameters: `data` and `target`. All the other parameters are optional and are used for configuring data preprocessing pipeline."
   ]
  },
  {
   "cell_type": "code",
   "execution_count": 22,
   "id": "24e503be",
   "metadata": {},
   "outputs": [
    {
     "ename": "ValueError",
     "evalue": "Invalid value for the target parameter. Column species not found in the data.",
     "output_type": "error",
     "traceback": [
      "\u001b[1;31m---------------------------------------------------------------------------\u001b[0m",
      "\u001b[1;31mValueError\u001b[0m                                Traceback (most recent call last)",
      "\u001b[1;32mc:\\Springboard\\mec-mini-projects\\Capstone\\pyCaret\\Tutorial - Multiclass Classification.ipynb Cell 41\u001b[0m line \u001b[0;36m1\n\u001b[1;32m----> <a href='vscode-notebook-cell:/c%3A/Springboard/mec-mini-projects/Capstone/pyCaret/Tutorial%20-%20Multiclass%20Classification.ipynb#X55sZmlsZQ%3D%3D?line=0'>1</a>\u001b[0m s \u001b[39m=\u001b[39m setup(data, target \u001b[39m=\u001b[39;49m \u001b[39m'\u001b[39;49m\u001b[39mspecies\u001b[39;49m\u001b[39m'\u001b[39;49m, session_id \u001b[39m=\u001b[39;49m \u001b[39m123\u001b[39;49m)\n",
      "File \u001b[1;32mc:\\Users\\djhar\\anaconda3\\envs\\pyCaret\\lib\\site-packages\\pycaret\\classification\\functional.py:595\u001b[0m, in \u001b[0;36msetup\u001b[1;34m(data, data_func, target, index, train_size, test_data, ordinal_features, numeric_features, categorical_features, date_features, text_features, ignore_features, keep_features, preprocess, create_date_columns, imputation_type, numeric_imputation, categorical_imputation, iterative_imputation_iters, numeric_iterative_imputer, categorical_iterative_imputer, text_features_method, max_encoding_ohe, encoding_method, rare_to_value, rare_value, polynomial_features, polynomial_degree, low_variance_threshold, group_features, drop_groups, remove_multicollinearity, multicollinearity_threshold, bin_numeric_features, remove_outliers, outliers_method, outliers_threshold, fix_imbalance, fix_imbalance_method, transformation, transformation_method, normalize, normalize_method, pca, pca_method, pca_components, feature_selection, feature_selection_method, feature_selection_estimator, n_features_to_select, custom_pipeline, custom_pipeline_position, data_split_shuffle, data_split_stratify, fold_strategy, fold, fold_shuffle, fold_groups, n_jobs, use_gpu, html, session_id, system_log, log_experiment, experiment_name, experiment_custom_tags, log_plots, log_profile, log_data, verbose, memory, profile, profile_kwargs)\u001b[0m\n\u001b[0;32m    593\u001b[0m exp \u001b[39m=\u001b[39m _EXPERIMENT_CLASS()\n\u001b[0;32m    594\u001b[0m set_current_experiment(exp)\n\u001b[1;32m--> 595\u001b[0m \u001b[39mreturn\u001b[39;00m exp\u001b[39m.\u001b[39;49msetup(\n\u001b[0;32m    596\u001b[0m     data\u001b[39m=\u001b[39;49mdata,\n\u001b[0;32m    597\u001b[0m     data_func\u001b[39m=\u001b[39;49mdata_func,\n\u001b[0;32m    598\u001b[0m     target\u001b[39m=\u001b[39;49mtarget,\n\u001b[0;32m    599\u001b[0m     index\u001b[39m=\u001b[39;49mindex,\n\u001b[0;32m    600\u001b[0m     train_size\u001b[39m=\u001b[39;49mtrain_size,\n\u001b[0;32m    601\u001b[0m     test_data\u001b[39m=\u001b[39;49mtest_data,\n\u001b[0;32m    602\u001b[0m     ordinal_features\u001b[39m=\u001b[39;49mordinal_features,\n\u001b[0;32m    603\u001b[0m     numeric_features\u001b[39m=\u001b[39;49mnumeric_features,\n\u001b[0;32m    604\u001b[0m     categorical_features\u001b[39m=\u001b[39;49mcategorical_features,\n\u001b[0;32m    605\u001b[0m     date_features\u001b[39m=\u001b[39;49mdate_features,\n\u001b[0;32m    606\u001b[0m     text_features\u001b[39m=\u001b[39;49mtext_features,\n\u001b[0;32m    607\u001b[0m     ignore_features\u001b[39m=\u001b[39;49mignore_features,\n\u001b[0;32m    608\u001b[0m     keep_features\u001b[39m=\u001b[39;49mkeep_features,\n\u001b[0;32m    609\u001b[0m     preprocess\u001b[39m=\u001b[39;49mpreprocess,\n\u001b[0;32m    610\u001b[0m     create_date_columns\u001b[39m=\u001b[39;49mcreate_date_columns,\n\u001b[0;32m    611\u001b[0m     imputation_type\u001b[39m=\u001b[39;49mimputation_type,\n\u001b[0;32m    612\u001b[0m     numeric_imputation\u001b[39m=\u001b[39;49mnumeric_imputation,\n\u001b[0;32m    613\u001b[0m     categorical_imputation\u001b[39m=\u001b[39;49mcategorical_imputation,\n\u001b[0;32m    614\u001b[0m     iterative_imputation_iters\u001b[39m=\u001b[39;49miterative_imputation_iters,\n\u001b[0;32m    615\u001b[0m     numeric_iterative_imputer\u001b[39m=\u001b[39;49mnumeric_iterative_imputer,\n\u001b[0;32m    616\u001b[0m     categorical_iterative_imputer\u001b[39m=\u001b[39;49mcategorical_iterative_imputer,\n\u001b[0;32m    617\u001b[0m     text_features_method\u001b[39m=\u001b[39;49mtext_features_method,\n\u001b[0;32m    618\u001b[0m     max_encoding_ohe\u001b[39m=\u001b[39;49mmax_encoding_ohe,\n\u001b[0;32m    619\u001b[0m     encoding_method\u001b[39m=\u001b[39;49mencoding_method,\n\u001b[0;32m    620\u001b[0m     rare_to_value\u001b[39m=\u001b[39;49mrare_to_value,\n\u001b[0;32m    621\u001b[0m     rare_value\u001b[39m=\u001b[39;49mrare_value,\n\u001b[0;32m    622\u001b[0m     polynomial_features\u001b[39m=\u001b[39;49mpolynomial_features,\n\u001b[0;32m    623\u001b[0m     polynomial_degree\u001b[39m=\u001b[39;49mpolynomial_degree,\n\u001b[0;32m    624\u001b[0m     low_variance_threshold\u001b[39m=\u001b[39;49mlow_variance_threshold,\n\u001b[0;32m    625\u001b[0m     group_features\u001b[39m=\u001b[39;49mgroup_features,\n\u001b[0;32m    626\u001b[0m     drop_groups\u001b[39m=\u001b[39;49mdrop_groups,\n\u001b[0;32m    627\u001b[0m     remove_multicollinearity\u001b[39m=\u001b[39;49mremove_multicollinearity,\n\u001b[0;32m    628\u001b[0m     multicollinearity_threshold\u001b[39m=\u001b[39;49mmulticollinearity_threshold,\n\u001b[0;32m    629\u001b[0m     bin_numeric_features\u001b[39m=\u001b[39;49mbin_numeric_features,\n\u001b[0;32m    630\u001b[0m     remove_outliers\u001b[39m=\u001b[39;49mremove_outliers,\n\u001b[0;32m    631\u001b[0m     outliers_method\u001b[39m=\u001b[39;49moutliers_method,\n\u001b[0;32m    632\u001b[0m     outliers_threshold\u001b[39m=\u001b[39;49moutliers_threshold,\n\u001b[0;32m    633\u001b[0m     fix_imbalance\u001b[39m=\u001b[39;49mfix_imbalance,\n\u001b[0;32m    634\u001b[0m     fix_imbalance_method\u001b[39m=\u001b[39;49mfix_imbalance_method,\n\u001b[0;32m    635\u001b[0m     transformation\u001b[39m=\u001b[39;49mtransformation,\n\u001b[0;32m    636\u001b[0m     transformation_method\u001b[39m=\u001b[39;49mtransformation_method,\n\u001b[0;32m    637\u001b[0m     normalize\u001b[39m=\u001b[39;49mnormalize,\n\u001b[0;32m    638\u001b[0m     normalize_method\u001b[39m=\u001b[39;49mnormalize_method,\n\u001b[0;32m    639\u001b[0m     pca\u001b[39m=\u001b[39;49mpca,\n\u001b[0;32m    640\u001b[0m     pca_method\u001b[39m=\u001b[39;49mpca_method,\n\u001b[0;32m    641\u001b[0m     pca_components\u001b[39m=\u001b[39;49mpca_components,\n\u001b[0;32m    642\u001b[0m     feature_selection\u001b[39m=\u001b[39;49mfeature_selection,\n\u001b[0;32m    643\u001b[0m     feature_selection_method\u001b[39m=\u001b[39;49mfeature_selection_method,\n\u001b[0;32m    644\u001b[0m     feature_selection_estimator\u001b[39m=\u001b[39;49mfeature_selection_estimator,\n\u001b[0;32m    645\u001b[0m     n_features_to_select\u001b[39m=\u001b[39;49mn_features_to_select,\n\u001b[0;32m    646\u001b[0m     custom_pipeline\u001b[39m=\u001b[39;49mcustom_pipeline,\n\u001b[0;32m    647\u001b[0m     custom_pipeline_position\u001b[39m=\u001b[39;49mcustom_pipeline_position,\n\u001b[0;32m    648\u001b[0m     data_split_shuffle\u001b[39m=\u001b[39;49mdata_split_shuffle,\n\u001b[0;32m    649\u001b[0m     data_split_stratify\u001b[39m=\u001b[39;49mdata_split_stratify,\n\u001b[0;32m    650\u001b[0m     fold_strategy\u001b[39m=\u001b[39;49mfold_strategy,\n\u001b[0;32m    651\u001b[0m     fold\u001b[39m=\u001b[39;49mfold,\n\u001b[0;32m    652\u001b[0m     fold_shuffle\u001b[39m=\u001b[39;49mfold_shuffle,\n\u001b[0;32m    653\u001b[0m     fold_groups\u001b[39m=\u001b[39;49mfold_groups,\n\u001b[0;32m    654\u001b[0m     n_jobs\u001b[39m=\u001b[39;49mn_jobs,\n\u001b[0;32m    655\u001b[0m     use_gpu\u001b[39m=\u001b[39;49muse_gpu,\n\u001b[0;32m    656\u001b[0m     html\u001b[39m=\u001b[39;49mhtml,\n\u001b[0;32m    657\u001b[0m     session_id\u001b[39m=\u001b[39;49msession_id,\n\u001b[0;32m    658\u001b[0m     system_log\u001b[39m=\u001b[39;49msystem_log,\n\u001b[0;32m    659\u001b[0m     log_experiment\u001b[39m=\u001b[39;49mlog_experiment,\n\u001b[0;32m    660\u001b[0m     experiment_name\u001b[39m=\u001b[39;49mexperiment_name,\n\u001b[0;32m    661\u001b[0m     experiment_custom_tags\u001b[39m=\u001b[39;49mexperiment_custom_tags,\n\u001b[0;32m    662\u001b[0m     log_plots\u001b[39m=\u001b[39;49mlog_plots,\n\u001b[0;32m    663\u001b[0m     log_profile\u001b[39m=\u001b[39;49mlog_profile,\n\u001b[0;32m    664\u001b[0m     log_data\u001b[39m=\u001b[39;49mlog_data,\n\u001b[0;32m    665\u001b[0m     verbose\u001b[39m=\u001b[39;49mverbose,\n\u001b[0;32m    666\u001b[0m     memory\u001b[39m=\u001b[39;49mmemory,\n\u001b[0;32m    667\u001b[0m     profile\u001b[39m=\u001b[39;49mprofile,\n\u001b[0;32m    668\u001b[0m     profile_kwargs\u001b[39m=\u001b[39;49mprofile_kwargs,\n\u001b[0;32m    669\u001b[0m )\n",
      "File \u001b[1;32mc:\\Users\\djhar\\anaconda3\\envs\\pyCaret\\lib\\site-packages\\pycaret\\classification\\oop.py:744\u001b[0m, in \u001b[0;36mClassificationExperiment.setup\u001b[1;34m(self, data, data_func, target, index, train_size, test_data, ordinal_features, numeric_features, categorical_features, date_features, text_features, ignore_features, keep_features, preprocess, create_date_columns, imputation_type, numeric_imputation, categorical_imputation, iterative_imputation_iters, numeric_iterative_imputer, categorical_iterative_imputer, text_features_method, max_encoding_ohe, encoding_method, rare_to_value, rare_value, polynomial_features, polynomial_degree, low_variance_threshold, group_features, drop_groups, remove_multicollinearity, multicollinearity_threshold, bin_numeric_features, remove_outliers, outliers_method, outliers_threshold, fix_imbalance, fix_imbalance_method, transformation, transformation_method, normalize, normalize_method, pca, pca_method, pca_components, feature_selection, feature_selection_method, feature_selection_estimator, n_features_to_select, custom_pipeline, custom_pipeline_position, data_split_shuffle, data_split_stratify, fold_strategy, fold, fold_shuffle, fold_groups, n_jobs, use_gpu, html, session_id, system_log, log_experiment, experiment_name, experiment_custom_tags, log_plots, log_profile, log_data, engine, verbose, memory, profile, profile_kwargs)\u001b[0m\n\u001b[0;32m    741\u001b[0m \u001b[39mif\u001b[39;00m data_func \u001b[39mis\u001b[39;00m \u001b[39mnot\u001b[39;00m \u001b[39mNone\u001b[39;00m:\n\u001b[0;32m    742\u001b[0m     data \u001b[39m=\u001b[39m data_func()\n\u001b[1;32m--> 744\u001b[0m \u001b[39mself\u001b[39m\u001b[39m.\u001b[39mdata \u001b[39m=\u001b[39m \u001b[39mself\u001b[39;49m\u001b[39m.\u001b[39;49m_prepare_dataset(data, target)\n\u001b[0;32m    745\u001b[0m \u001b[39mself\u001b[39m\u001b[39m.\u001b[39mtarget_param \u001b[39m=\u001b[39m \u001b[39mself\u001b[39m\u001b[39m.\u001b[39mdata\u001b[39m.\u001b[39mcolumns[\u001b[39m-\u001b[39m\u001b[39m1\u001b[39m]\n\u001b[0;32m    746\u001b[0m \u001b[39mself\u001b[39m\u001b[39m.\u001b[39mindex \u001b[39m=\u001b[39m index\n",
      "File \u001b[1;32mc:\\Users\\djhar\\anaconda3\\envs\\pyCaret\\lib\\site-packages\\pycaret\\internal\\preprocess\\preprocessor.py:150\u001b[0m, in \u001b[0;36mPreprocessor._prepare_dataset\u001b[1;34m(self, X, y)\u001b[0m\n\u001b[0;32m    148\u001b[0m \u001b[39melif\u001b[39;00m \u001b[39misinstance\u001b[39m(y, \u001b[39mstr\u001b[39m):\n\u001b[0;32m    149\u001b[0m     \u001b[39mif\u001b[39;00m y \u001b[39mnot\u001b[39;00m \u001b[39min\u001b[39;00m X\u001b[39m.\u001b[39mcolumns:\n\u001b[1;32m--> 150\u001b[0m         \u001b[39mraise\u001b[39;00m \u001b[39mValueError\u001b[39;00m(\n\u001b[0;32m    151\u001b[0m             \u001b[39m\"\u001b[39m\u001b[39mInvalid value for the target parameter. \u001b[39m\u001b[39m\"\u001b[39m\n\u001b[0;32m    152\u001b[0m             \u001b[39mf\u001b[39m\u001b[39m\"\u001b[39m\u001b[39mColumn \u001b[39m\u001b[39m{\u001b[39;00my\u001b[39m}\u001b[39;00m\u001b[39m not found in the data.\u001b[39m\u001b[39m\"\u001b[39m\n\u001b[0;32m    153\u001b[0m         )\n\u001b[0;32m    155\u001b[0m     X, y \u001b[39m=\u001b[39m X\u001b[39m.\u001b[39mdrop(y, axis\u001b[39m=\u001b[39m\u001b[39m1\u001b[39m), X[y]\n\u001b[0;32m    157\u001b[0m \u001b[39melif\u001b[39;00m \u001b[39misinstance\u001b[39m(y, \u001b[39mint\u001b[39m):\n",
      "\u001b[1;31mValueError\u001b[0m: Invalid value for the target parameter. Column species not found in the data."
     ]
    }
   ],
   "source": [
    "s = setup(data, target = 'species', session_id = 123)"
   ]
  },
  {
   "attachments": {},
   "cell_type": "markdown",
   "id": "924d198b",
   "metadata": {},
   "source": [
    "To access all the variables created by the setup function such as transformed dataset, random_state, etc. you can use `get_config` method."
   ]
  },
  {
   "cell_type": "code",
   "execution_count": null,
   "id": "76128b08",
   "metadata": {},
   "outputs": [],
   "source": [
    "# check all available config\n",
    "get_config()"
   ]
  },
  {
   "cell_type": "code",
   "execution_count": null,
   "id": "dbc43292",
   "metadata": {},
   "outputs": [],
   "source": [
    "# lets access X_train_transformed\n",
    "get_config('X_train_transformed')"
   ]
  },
  {
   "cell_type": "code",
   "execution_count": null,
   "id": "ef9cd061",
   "metadata": {},
   "outputs": [],
   "source": [
    "# another example: let's access seed\n",
    "print(\"The current seed is: {}\".format(get_config('seed')))\n",
    "\n",
    "# now lets change it using set_config\n",
    "set_config('seed', 786)\n",
    "print(\"The new seed is: {}\".format(get_config('seed')))"
   ]
  },
  {
   "attachments": {},
   "cell_type": "markdown",
   "id": "7afbe41d",
   "metadata": {},
   "source": [
    "All the preprocessing configurations and experiment settings/parameters are passed into the `setup` function. To see all available parameters, check the docstring:"
   ]
  },
  {
   "cell_type": "code",
   "execution_count": null,
   "id": "2885a14f",
   "metadata": {},
   "outputs": [],
   "source": [
    "# help(setup)"
   ]
  },
  {
   "cell_type": "code",
   "execution_count": null,
   "id": "34ae0fce",
   "metadata": {},
   "outputs": [],
   "source": [
    "# init setup with normalize = True\n",
    "\n",
    "s = setup(data, target = 'diabetes', session_id = 123,\n",
    "          normalize = True, normalize_method = 'minmax')"
   ]
  },
  {
   "cell_type": "code",
   "execution_count": null,
   "id": "04204ae7",
   "metadata": {},
   "outputs": [],
   "source": [
    "# lets check the X_train_transformed to see effect of params passed\n",
    "get_config('X_train_transformed')['age'].hist()"
   ]
  },
  {
   "attachments": {},
   "cell_type": "markdown",
   "id": "d28a3e4e",
   "metadata": {},
   "source": [
    "Notice that all the values are between 0 and 1 - that is because we passed `normalize=True` in the `setup` function. If you don't remember how it compares to actual data, no problem - we can also access non-transformed values using `get_config` and then compare. See below and notice the range of values on x-axis and compare it with histogram above."
   ]
  },
  {
   "cell_type": "code",
   "execution_count": null,
   "id": "68cc1c63",
   "metadata": {},
   "outputs": [],
   "source": [
    "get_config('X_train')['age'].hist()"
   ]
  },
  {
   "attachments": {},
   "cell_type": "markdown",
   "id": "36b8b803",
   "metadata": {},
   "source": [
    "## ✅ Compare Models\n",
    "This function trains and evaluates the performance of all estimators available in the model library using cross-validation. The output of this function is a scoring grid with average cross-validated scores. Metrics evaluated during CV can be accessed using the `get_metrics` function. Custom metrics can be added or removed using `add_metric` and `remove_metric` function."
   ]
  },
  {
   "cell_type": "code",
   "execution_count": null,
   "id": "a3350418",
   "metadata": {},
   "outputs": [],
   "source": [
    "best = compare_models()"
   ]
  },
  {
   "attachments": {},
   "cell_type": "markdown",
   "id": "cd18dcf6",
   "metadata": {},
   "source": [
    "`compare_models` by default uses all the estimators in model library (all except models with `Turbo=False`) . To see all available models you can use the function `models()`"
   ]
  },
  {
   "cell_type": "code",
   "execution_count": null,
   "id": "432e93d7",
   "metadata": {},
   "outputs": [],
   "source": [
    "# check available models\n",
    "models()"
   ]
  },
  {
   "attachments": {},
   "cell_type": "markdown",
   "id": "f588f54b",
   "metadata": {},
   "source": [
    "You can use the `include` and `exclude` parameter in the `compare_models` to train only select model or exclude specific models from training by passing the model id's in `exclude` parameter."
   ]
  },
  {
   "cell_type": "code",
   "execution_count": null,
   "id": "f2a7e578",
   "metadata": {},
   "outputs": [],
   "source": [
    "compare_tree_models = compare_models(include = ['dt', 'rf', 'et', 'gbc', 'xgboost', 'lightgbm', 'catboost'])"
   ]
  },
  {
   "cell_type": "code",
   "execution_count": null,
   "id": "c15a467e",
   "metadata": {},
   "outputs": [],
   "source": [
    "compare_tree_models"
   ]
  },
  {
   "attachments": {},
   "cell_type": "markdown",
   "id": "af9ae6cd",
   "metadata": {},
   "source": [
    "The function above has return trained model object as an output. The scoring grid is only displayed and not returned. If you need access to the scoring grid you can use `pull` function to access the dataframe."
   ]
  },
  {
   "cell_type": "code",
   "execution_count": null,
   "id": "fc529e25",
   "metadata": {},
   "outputs": [],
   "source": [
    "compare_tree_models_results = pull()\n",
    "compare_tree_models_results"
   ]
  },
  {
   "attachments": {},
   "cell_type": "markdown",
   "id": "05a72fc2",
   "metadata": {},
   "source": [
    "By default `compare_models` return the single best performing model based on the metric defined in the `sort` parameter. Let's change our code to return 3 top models based on `Recall`."
   ]
  },
  {
   "cell_type": "code",
   "execution_count": null,
   "id": "1066dd07",
   "metadata": {},
   "outputs": [],
   "source": [
    "best_recall_models_top3 = compare_models(sort = 'Recall', n_select = 3)"
   ]
  },
  {
   "cell_type": "code",
   "execution_count": null,
   "id": "aa259708",
   "metadata": {},
   "outputs": [],
   "source": [
    "# list of top 3 models by Recall\n",
    "best_recall_models_top3"
   ]
  },
  {
   "attachments": {},
   "cell_type": "markdown",
   "id": "1d91d27e",
   "metadata": {},
   "source": [
    "Some other parameters that you might find very useful in `compare_models` are:\n",
    "\n",
    "- fold\n",
    "- cross_validation\n",
    "- budget_time\n",
    "- errors\n",
    "- probability_threshold\n",
    "- parallel\n",
    "\n",
    "You can check the docstring of the function for more info."
   ]
  },
  {
   "cell_type": "code",
   "execution_count": null,
   "id": "f0c49e0b",
   "metadata": {},
   "outputs": [],
   "source": [
    "# help(compare_models)"
   ]
  },
  {
   "attachments": {},
   "cell_type": "markdown",
   "id": "9e6c47cb",
   "metadata": {},
   "source": [
    "## ✅ Experiment Logging\n",
    "PyCaret integrates with many different type of experiment loggers (default = 'mlflow'). To turn on experiment tracking in PyCaret you can set `log_experiment` and `experiment_name` parameter. It will automatically track all the metrics, hyperparameters, and artifacts based on the defined logger."
   ]
  },
  {
   "cell_type": "code",
   "execution_count": null,
   "id": "1af63fd0",
   "metadata": {},
   "outputs": [],
   "source": [
    "# from pycaret.classification import *\n",
    "# s = setup(data, target = 'Class variable', log_experiment='mlflow', experiment_name='iris_experiment')"
   ]
  },
  {
   "cell_type": "code",
   "execution_count": null,
   "id": "42cd6120",
   "metadata": {},
   "outputs": [],
   "source": [
    "# compare models\n",
    "# best = compare_models()"
   ]
  },
  {
   "cell_type": "code",
   "execution_count": null,
   "id": "adc82ce5",
   "metadata": {},
   "outputs": [],
   "source": [
    "# start mlflow server on localhost:5000\n",
    "# !mlflow ui"
   ]
  },
  {
   "attachments": {},
   "cell_type": "markdown",
   "id": "a06f9df7",
   "metadata": {},
   "source": [
    "By default PyCaret uses `MLFlow` logger that can be changed using `log_experiment` parameter. Following loggers are available:\n",
    "    \n",
    "    - mlflow\n",
    "    - wandb\n",
    "    - comet_ml\n",
    "    - dagshub\n",
    "    \n",
    "Other logging related parameters that you may find useful are:\n",
    "\n",
    "- experiment_custom_tags\n",
    "- log_plots\n",
    "- log_data\n",
    "- log_profile\n",
    "\n",
    "For more information check out the docstring of the `setup` function."
   ]
  },
  {
   "cell_type": "code",
   "execution_count": null,
   "id": "2f8b6aa1",
   "metadata": {},
   "outputs": [],
   "source": [
    "# help(setup)"
   ]
  },
  {
   "attachments": {},
   "cell_type": "markdown",
   "id": "6ce0b555",
   "metadata": {},
   "source": [
    "## ✅ Create Model\n",
    "This function trains and evaluates the performance of a given estimator using cross-validation. The output of this function is a scoring grid with CV scores by fold. Metrics evaluated during CV can be accessed using the `get_metrics` function. Custom metrics can be added or removed using `add_metric` and `remove_metric` function. All the available models can be accessed using the models function."
   ]
  },
  {
   "cell_type": "code",
   "execution_count": null,
   "id": "837cebfa",
   "metadata": {},
   "outputs": [],
   "source": [
    "# check all the available models\n",
    "models()"
   ]
  },
  {
   "cell_type": "code",
   "execution_count": null,
   "id": "16641cab",
   "metadata": {},
   "outputs": [],
   "source": [
    "# train logistic regression with default fold=10\n",
    "lr = create_model('lr')"
   ]
  },
  {
   "attachments": {},
   "cell_type": "markdown",
   "id": "074b4572",
   "metadata": {},
   "source": [
    "The function above has return trained model object as an output. The scoring grid is only displayed and not returned. If you need access to the scoring grid you can use `pull` function to access the dataframe."
   ]
  },
  {
   "cell_type": "code",
   "execution_count": null,
   "id": "fe277e1b",
   "metadata": {},
   "outputs": [],
   "source": [
    "lr_results = pull()\n",
    "print(type(lr_results))\n",
    "lr_results"
   ]
  },
  {
   "cell_type": "code",
   "execution_count": null,
   "id": "148a74c4",
   "metadata": {},
   "outputs": [],
   "source": [
    "# train logistic regression with fold=3\n",
    "lr = create_model('lr', fold=3)"
   ]
  },
  {
   "cell_type": "code",
   "execution_count": null,
   "id": "5a8906a8",
   "metadata": {},
   "outputs": [],
   "source": [
    "# train logistic regression with specific model parameters\n",
    "create_model('lr', C = 0.5, l1_ratio = 0.15)"
   ]
  },
  {
   "cell_type": "code",
   "execution_count": null,
   "id": "b85af29b",
   "metadata": {},
   "outputs": [],
   "source": [
    "# train lr and return train score as well alongwith CV\n",
    "create_model('lr', return_train_score=True)"
   ]
  },
  {
   "attachments": {},
   "cell_type": "markdown",
   "id": "08634e9e",
   "metadata": {},
   "source": [
    "Some other parameters that you might find very useful in `create_model` are:\n",
    "\n",
    "- cross_validation\n",
    "- engine\n",
    "- fit_kwargs\n",
    "- groups\n",
    "\n",
    "You can check the docstring of the function for more info."
   ]
  },
  {
   "cell_type": "code",
   "execution_count": null,
   "id": "3fb32c74",
   "metadata": {},
   "outputs": [],
   "source": [
    "# help(create_model)"
   ]
  },
  {
   "attachments": {},
   "cell_type": "markdown",
   "id": "d5378836",
   "metadata": {},
   "source": [
    "## ✅ Tune Model\n",
    "\n",
    "This function tunes the hyperparameters of the model. The output of this function is a scoring grid with cross-validated scores by fold. The best model is selected based on the metric defined in optimize parameter. Metrics evaluated during cross-validation can be accessed using the `get_metrics` function. Custom metrics can be added or removed using `add_metric` and `remove_metric` function."
   ]
  },
  {
   "cell_type": "code",
   "execution_count": null,
   "id": "402597f2",
   "metadata": {},
   "outputs": [],
   "source": [
    "# train a dt model with default params\n",
    "dt = create_model('dt')"
   ]
  },
  {
   "cell_type": "code",
   "execution_count": null,
   "id": "90dc451d",
   "metadata": {},
   "outputs": [],
   "source": [
    "# tune hyperparameters of dt\n",
    "tuned_dt = tune_model(dt)"
   ]
  },
  {
   "attachments": {},
   "cell_type": "markdown",
   "id": "805b66b9",
   "metadata": {},
   "source": [
    "Metric to optimize can be defined in `optimize` parameter (default = 'Accuracy'). Also, a custom tuned grid can be passed with `custom_grid` parameter. "
   ]
  },
  {
   "cell_type": "code",
   "execution_count": null,
   "id": "cca8e640",
   "metadata": {},
   "outputs": [],
   "source": [
    "dt"
   ]
  },
  {
   "cell_type": "code",
   "execution_count": null,
   "id": "31e050ff",
   "metadata": {},
   "outputs": [],
   "source": [
    "# define tuning grid\n",
    "dt_grid = {'max_depth' : [None, 2, 4, 6, 8, 10, 12]}\n",
    "\n",
    "# tune model with custom grid and metric = F1\n",
    "tuned_dt = tune_model(dt, custom_grid = dt_grid, optimize = 'F1')"
   ]
  },
  {
   "cell_type": "code",
   "execution_count": null,
   "id": "6cca514b",
   "metadata": {},
   "outputs": [],
   "source": [
    "# to access the tuner object you can set return_tuner = True\n",
    "tuned_dt, tuner = tune_model(dt, return_tuner=True)"
   ]
  },
  {
   "cell_type": "code",
   "execution_count": null,
   "id": "80cbb4a6",
   "metadata": {},
   "outputs": [],
   "source": [
    "# model object\n",
    "tuned_dt"
   ]
  },
  {
   "cell_type": "code",
   "execution_count": null,
   "id": "7d5e49ca",
   "metadata": {},
   "outputs": [],
   "source": [
    "# tuner object\n",
    "tuner"
   ]
  },
  {
   "attachments": {},
   "cell_type": "markdown",
   "id": "0a33c70b",
   "metadata": {},
   "source": [
    "The default search algorithm is `RandomizedSearchCV` from `sklearn`. This can be changed by using `search_library` and `search_algorithm` parameter."
   ]
  },
  {
   "cell_type": "code",
   "execution_count": null,
   "id": "31e33547",
   "metadata": {},
   "outputs": [],
   "source": [
    "# tune dt using optuna\n",
    "tuned_dt = tune_model(dt, search_library = 'optuna')"
   ]
  },
  {
   "attachments": {},
   "cell_type": "markdown",
   "id": "a1e2875b",
   "metadata": {},
   "source": [
    "For more details on all available `search_library` and `search_algorithm` please check the docstring. Some other parameters that you might find very useful in `tune_model` are:\n",
    "\n",
    "- choose_better\n",
    "- n_iter\n",
    "- early_stopping\n",
    "- groups\n",
    "\n",
    "You can check the docstring of the function for more info."
   ]
  },
  {
   "cell_type": "code",
   "execution_count": null,
   "id": "94f9c86e",
   "metadata": {},
   "outputs": [],
   "source": [
    "# help(tune_model)"
   ]
  },
  {
   "attachments": {},
   "cell_type": "markdown",
   "id": "2ca8ee07",
   "metadata": {},
   "source": [
    "## ✅ Ensemble Model"
   ]
  },
  {
   "attachments": {},
   "cell_type": "markdown",
   "id": "ce321d4c",
   "metadata": {},
   "source": [
    "This function ensembles a given estimator. The output of this function is a scoring grid with CV scores by fold. Metrics evaluated during CV can be accessed using the `get_metrics` function. Custom metrics can be added or removed using `add_metric` and `remove_metric` function."
   ]
  },
  {
   "cell_type": "code",
   "execution_count": null,
   "id": "c8ee936d",
   "metadata": {},
   "outputs": [],
   "source": [
    "# ensemble with bagging\n",
    "ensemble_model(dt, method = 'Bagging')"
   ]
  },
  {
   "cell_type": "code",
   "execution_count": null,
   "id": "79279394",
   "metadata": {},
   "outputs": [],
   "source": [
    "# ensemble with boosting\n",
    "ensemble_model(dt, method = 'Boosting')"
   ]
  },
  {
   "attachments": {},
   "cell_type": "markdown",
   "id": "d0fa1ce2",
   "metadata": {},
   "source": [
    "Some other parameters that you might find very useful in `ensemble_model` are:\n",
    "\n",
    "- choose_better\n",
    "- n_estimators\n",
    "- groups\n",
    "- fit_kwargs\n",
    "- probability_threshold\n",
    "- return_train_score\n",
    "\n",
    "You can check the docstring of the function for more info."
   ]
  },
  {
   "cell_type": "code",
   "execution_count": null,
   "id": "78130ed1",
   "metadata": {},
   "outputs": [],
   "source": [
    "# help(ensemble_model)"
   ]
  },
  {
   "attachments": {},
   "cell_type": "markdown",
   "id": "ea8a9a4e",
   "metadata": {},
   "source": [
    "## ✅ Blend Models"
   ]
  },
  {
   "attachments": {},
   "cell_type": "markdown",
   "id": "2ede29c4",
   "metadata": {},
   "source": [
    "This function trains a Soft Voting / Majority Rule classifier for select models passed in the estimator_list parameter. The output of this function is a scoring grid with CV scores by fold. Metrics evaluated during CV can be accessed using the `get_metrics` function. Custom metrics can be added or removed using `add_metric` and `remove_metric` function."
   ]
  },
  {
   "cell_type": "code",
   "execution_count": null,
   "id": "61a7a1c5",
   "metadata": {},
   "outputs": [],
   "source": [
    "# top 3 models based on recall\n",
    "best_recall_models_top3"
   ]
  },
  {
   "cell_type": "code",
   "execution_count": null,
   "id": "04f65f2f",
   "metadata": {},
   "outputs": [],
   "source": [
    "# blend top 3 models\n",
    "blend_models(best_recall_models_top3)"
   ]
  },
  {
   "attachments": {},
   "cell_type": "markdown",
   "id": "9e788c9c",
   "metadata": {},
   "source": [
    "Some other parameters that you might find very useful in `blend_models` are:\n",
    "\n",
    "- choose_better\n",
    "- method\n",
    "- weights\n",
    "- fit_kwargs\n",
    "- probability_threshold\n",
    "- return_train_score\n",
    "\n",
    "You can check the docstring of the function for more info."
   ]
  },
  {
   "cell_type": "code",
   "execution_count": null,
   "id": "99b549a6",
   "metadata": {},
   "outputs": [],
   "source": [
    "# help(blend_models)"
   ]
  },
  {
   "attachments": {},
   "cell_type": "markdown",
   "id": "e76969b0",
   "metadata": {},
   "source": [
    "## ✅ Stack Models"
   ]
  },
  {
   "attachments": {},
   "cell_type": "markdown",
   "id": "55909804",
   "metadata": {},
   "source": [
    "This function trains a meta-model over select estimators passed in the estimator_list parameter. The output of this function is a scoring grid with CV scores by fold. Metrics evaluated during CV can be accessed using the `get_metrics` function. Custom metrics can be added or removed using `add_metric` and `remove_metric` function."
   ]
  },
  {
   "cell_type": "code",
   "execution_count": null,
   "id": "201c681e",
   "metadata": {},
   "outputs": [],
   "source": [
    "# stack models\n",
    "stack_models(best_recall_models_top3)"
   ]
  },
  {
   "attachments": {},
   "cell_type": "markdown",
   "id": "af78cda8",
   "metadata": {},
   "source": [
    "Some other parameters that you might find very useful in `stack_models` are:\n",
    "\n",
    "- choose_better\n",
    "- meta_model\n",
    "- method\n",
    "- restack\n",
    "- probability_threshold\n",
    "- return_train_score\n",
    "\n",
    "You can check the docstring of the function for more info."
   ]
  },
  {
   "cell_type": "code",
   "execution_count": null,
   "id": "3305e597",
   "metadata": {},
   "outputs": [],
   "source": [
    "# help(stack_models)"
   ]
  },
  {
   "attachments": {},
   "cell_type": "markdown",
   "id": "279a3127",
   "metadata": {},
   "source": [
    "## ✅ Plot Model"
   ]
  },
  {
   "attachments": {},
   "cell_type": "markdown",
   "id": "862bd3e9",
   "metadata": {},
   "source": [
    "This function analyzes the performance of a trained model on the hold-out set. It may require re-training the model in certain cases."
   ]
  },
  {
   "cell_type": "code",
   "execution_count": null,
   "id": "9c8da9b4",
   "metadata": {},
   "outputs": [],
   "source": [
    "# plot class report\n",
    "plot_model(best, plot = 'class_report')"
   ]
  },
  {
   "cell_type": "code",
   "execution_count": null,
   "id": "952b6f24",
   "metadata": {},
   "outputs": [],
   "source": [
    "# to control the scale of plot\n",
    "plot_model(best, plot = 'class_report', scale = 2)"
   ]
  },
  {
   "cell_type": "code",
   "execution_count": null,
   "id": "54389270",
   "metadata": {},
   "outputs": [],
   "source": [
    "# to save the plot\n",
    "plot_model(best, plot = 'class_report', save=True)"
   ]
  },
  {
   "attachments": {},
   "cell_type": "markdown",
   "id": "2fef279d",
   "metadata": {},
   "source": [
    "Some other parameters that you might find very useful in `plot_model` are:\n",
    "\n",
    "- fit_kwargs\n",
    "- plot_kwargs\n",
    "- groups\n",
    "- display_format\n",
    "\n",
    "You can check the docstring of the function for more info."
   ]
  },
  {
   "cell_type": "code",
   "execution_count": null,
   "id": "54b09b8e",
   "metadata": {},
   "outputs": [],
   "source": [
    "# help(plot_model)"
   ]
  },
  {
   "attachments": {},
   "cell_type": "markdown",
   "id": "b724ca46",
   "metadata": {},
   "source": [
    "## ✅ Interpret Model"
   ]
  },
  {
   "attachments": {},
   "cell_type": "markdown",
   "id": "52f8fb33",
   "metadata": {},
   "source": [
    "This function analyzes the predictions generated from a trained model. Most plots in this function are implemented based on the SHAP (Shapley Additive exPlanations). For more info on this, please see https://shap.readthedocs.io/en/latest/"
   ]
  },
  {
   "cell_type": "code",
   "execution_count": null,
   "id": "6b6891b7",
   "metadata": {},
   "outputs": [],
   "source": [
    "# train lightgbm model\n",
    "lightgbm = create_model('lightgbm')"
   ]
  },
  {
   "cell_type": "code",
   "execution_count": null,
   "id": "3198b571",
   "metadata": {},
   "outputs": [],
   "source": [
    "# interpret summary model\n",
    "interpret_model(lightgbm, plot = 'summary')"
   ]
  },
  {
   "cell_type": "code",
   "execution_count": null,
   "id": "824bafdc",
   "metadata": {},
   "outputs": [],
   "source": [
    "# reason plot for test set observation 1\n",
    "interpret_model(lightgbm, plot = 'reason', observation = 1)"
   ]
  },
  {
   "attachments": {},
   "cell_type": "markdown",
   "id": "ca7ce2b4",
   "metadata": {},
   "source": [
    "Some other parameters that you might find very useful in `interpret_model` are:\n",
    "\n",
    "- plot\n",
    "- feature\n",
    "- use_train_data\n",
    "- X_new_sample\n",
    "- y_new_sample\n",
    "- save\n",
    "\n",
    "You can check the docstring of the function for more info."
   ]
  },
  {
   "cell_type": "code",
   "execution_count": null,
   "id": "42595030",
   "metadata": {},
   "outputs": [],
   "source": [
    "# help(interpret_model)"
   ]
  },
  {
   "attachments": {},
   "cell_type": "markdown",
   "id": "9f57d0c8",
   "metadata": {},
   "source": [
    "## ✅ Get Leaderboard"
   ]
  },
  {
   "attachments": {},
   "cell_type": "markdown",
   "id": "ec63b67a",
   "metadata": {},
   "source": [
    "This function returns the leaderboard of all models trained in the current setup."
   ]
  },
  {
   "cell_type": "code",
   "execution_count": null,
   "id": "307a6e3c",
   "metadata": {},
   "outputs": [],
   "source": [
    "# get leaderboard\n",
    "lb = get_leaderboard()\n",
    "lb"
   ]
  },
  {
   "cell_type": "code",
   "execution_count": null,
   "id": "f8a8b060",
   "metadata": {},
   "outputs": [],
   "source": [
    "# select the best model based on F1\n",
    "lb.sort_values(by='F1', ascending=False)['Model'].iloc[0]"
   ]
  },
  {
   "attachments": {},
   "cell_type": "markdown",
   "id": "9ecf0bfa",
   "metadata": {},
   "source": [
    "Some other parameters that you might find very useful in `get_leaderboard` are:\n",
    "\n",
    "- finalize_models\n",
    "- fit_kwargs\n",
    "- model_only\n",
    "- groups\n",
    "\n",
    "You can check the docstring of the function for more info."
   ]
  },
  {
   "cell_type": "code",
   "execution_count": null,
   "id": "dc76f0a5",
   "metadata": {},
   "outputs": [],
   "source": [
    "# help(get_leaderboard)"
   ]
  },
  {
   "attachments": {},
   "cell_type": "markdown",
   "id": "94669c72",
   "metadata": {},
   "source": [
    "## ✅ AutoML\n",
    "This function returns the best model out of all trained models in the current setup based on the optimize parameter. Metrics evaluated can be accessed using the `get_metrics` function."
   ]
  },
  {
   "cell_type": "code",
   "execution_count": null,
   "id": "01532054",
   "metadata": {},
   "outputs": [],
   "source": [
    "automl()"
   ]
  },
  {
   "attachments": {},
   "cell_type": "markdown",
   "id": "726b2986",
   "metadata": {},
   "source": [
    "## ✅ Dashboard\n",
    "The dashboard function generates the interactive dashboard for a trained model. The dashboard is implemented using `ExplainerDashboard`. For more information check out [Explainer Dashboard.](explainerdashboard.readthedocs.io)"
   ]
  },
  {
   "cell_type": "code",
   "execution_count": null,
   "id": "ca75507d",
   "metadata": {},
   "outputs": [],
   "source": [
    "# dashboard function\n",
    "dashboard(dt, display_format ='inline')"
   ]
  },
  {
   "attachments": {},
   "cell_type": "markdown",
   "id": "58fd3e5a",
   "metadata": {},
   "source": [
    "## ✅Create App\n",
    "This function creates a basic gradio app for inference."
   ]
  },
  {
   "cell_type": "code",
   "execution_count": null,
   "id": "5cf989d3",
   "metadata": {},
   "outputs": [],
   "source": [
    "# create gradio app\n",
    "create_app(best)"
   ]
  },
  {
   "attachments": {},
   "cell_type": "markdown",
   "id": "a2d8e21d",
   "metadata": {},
   "source": [
    "## ✅ Create API\n",
    "This function takes an input model and creates a POST API for inference."
   ]
  },
  {
   "cell_type": "code",
   "execution_count": null,
   "id": "978413c9",
   "metadata": {},
   "outputs": [],
   "source": [
    "# create api\n",
    "create_api(best, api_name = 'my_first_api')"
   ]
  },
  {
   "cell_type": "code",
   "execution_count": null,
   "id": "68e539aa",
   "metadata": {},
   "outputs": [],
   "source": [
    "# !python my_first_api.py"
   ]
  },
  {
   "cell_type": "code",
   "execution_count": null,
   "id": "a3de3327",
   "metadata": {},
   "outputs": [],
   "source": [
    "# check out the .py file created with this magic command\n",
    "# %load my_first_api.py"
   ]
  },
  {
   "attachments": {},
   "cell_type": "markdown",
   "id": "1023f7df",
   "metadata": {},
   "source": [
    "## ✅ Create Docker\n",
    "This function creates a `Dockerfile` and `requirements.txt` for productionalizing API end-point."
   ]
  },
  {
   "cell_type": "code",
   "execution_count": null,
   "id": "452ced14",
   "metadata": {},
   "outputs": [],
   "source": [
    "create_docker('my_first_api')"
   ]
  },
  {
   "cell_type": "code",
   "execution_count": null,
   "id": "301e1fa5",
   "metadata": {},
   "outputs": [],
   "source": [
    "# check out the DockerFile file created with this magic command\n",
    "# %load DockerFile"
   ]
  },
  {
   "cell_type": "code",
   "execution_count": null,
   "id": "ca1e9ef7",
   "metadata": {},
   "outputs": [],
   "source": [
    "# check out the requirements file created with this magic command\n",
    "# %load requirements.txt"
   ]
  },
  {
   "attachments": {},
   "cell_type": "markdown",
   "id": "e27c212b",
   "metadata": {},
   "source": [
    "## ✅ Finalize Model\n",
    "This function trains a given model on the entire dataset including the hold-out set."
   ]
  },
  {
   "cell_type": "code",
   "execution_count": null,
   "id": "65225684",
   "metadata": {},
   "outputs": [],
   "source": [
    "final_best = finalize_model(best)"
   ]
  },
  {
   "cell_type": "code",
   "execution_count": null,
   "id": "80d17fec",
   "metadata": {},
   "outputs": [],
   "source": [
    "final_best"
   ]
  },
  {
   "attachments": {},
   "cell_type": "markdown",
   "id": "b4693f88",
   "metadata": {},
   "source": [
    "## ✅ Convert Model\n",
    "This function transpiles the trained machine learning model's decision function in different programming languages such as Python, C, Java, Go, C#, etc. It is very useful if you want to deploy models into environments where you can't install your normal Python stack to support model inference."
   ]
  },
  {
   "cell_type": "code",
   "execution_count": null,
   "id": "dbe0e9fe",
   "metadata": {},
   "outputs": [],
   "source": [
    "# transpiles learned function to java\n",
    "print(convert_model(dt, language = 'java'))"
   ]
  },
  {
   "attachments": {},
   "cell_type": "markdown",
   "id": "ed00202c",
   "metadata": {},
   "source": [
    "## ✅ Deploy Model\n",
    "This function deploys the entire ML pipeline on the cloud.\n",
    "\n",
    "**AWS:**  When deploying model on AWS S3, environment variables must be configured using the command-line interface. To configure AWS environment variables, type `aws configure` in terminal. The following information is required which can be generated using the Identity and Access Management (IAM) portal of your amazon console account:\n",
    "\n",
    "- AWS Access Key ID\n",
    "- AWS Secret Key Access\n",
    "- Default Region Name (can be seen under Global settings on your AWS console)\n",
    "- Default output format (must be left blank)\n",
    "\n",
    "**GCP:** To deploy a model on Google Cloud Platform ('gcp'), the project must be created using the command-line or GCP console. Once the project is created, you must create a service account and download the service account key as a JSON file to set environment variables in your local environment. Learn more about it: https://cloud.google.com/docs/authentication/production\n",
    "\n",
    "**Azure:** To deploy a model on Microsoft Azure ('azure'), environment variables for the connection string must be set in your local environment. Go to settings of storage account on Azure portal to access the connection string required.\n",
    "AZURE_STORAGE_CONNECTION_STRING (required as environment variable)\n",
    "Learn more about it: https://docs.microsoft.com/en-us/azure/storage/blobs/storage-quickstart-blobs-python?toc=%2Fpython%2Fazure%2FTOC.json"
   ]
  },
  {
   "cell_type": "code",
   "execution_count": null,
   "id": "40b20a18",
   "metadata": {},
   "outputs": [],
   "source": [
    "# deploy model on aws s3\n",
    "# deploy_model(best, model_name = 'my_first_platform_on_aws',\n",
    "#             platform = 'aws', authentication = {'bucket' : 'pycaret-test'})"
   ]
  },
  {
   "cell_type": "code",
   "execution_count": null,
   "id": "9e236516",
   "metadata": {},
   "outputs": [],
   "source": [
    "# load model from aws s3\n",
    "# loaded_from_aws = load_model(model_name = 'my_first_platform_on_aws', platform = 'aws',\n",
    "#                              authentication = {'bucket' : 'pycaret-test'})\n",
    "\n",
    "# loaded_from_aws"
   ]
  },
  {
   "attachments": {},
   "cell_type": "markdown",
   "id": "e169ae86",
   "metadata": {},
   "source": [
    "## ✅ Save / Load Model\n",
    "This function saves the transformation pipeline and a trained model object into the current working directory as a pickle file for later use."
   ]
  },
  {
   "cell_type": "code",
   "execution_count": null,
   "id": "bc5cf24a",
   "metadata": {},
   "outputs": [],
   "source": [
    "# save model\n",
    "save_model(best, 'my_first_model')"
   ]
  },
  {
   "cell_type": "code",
   "execution_count": null,
   "id": "e8478d34",
   "metadata": {},
   "outputs": [],
   "source": [
    "# load model\n",
    "loaded_from_disk = load_model('my_first_model')\n",
    "loaded_from_disk"
   ]
  },
  {
   "attachments": {},
   "cell_type": "markdown",
   "id": "de5eee8c",
   "metadata": {},
   "source": [
    "## ✅ Save / Load Experiment\n",
    "This function saves all the experiment variables on disk, allowing to later resume without rerunning the setup function."
   ]
  },
  {
   "cell_type": "code",
   "execution_count": null,
   "id": "6a3c61b6",
   "metadata": {},
   "outputs": [],
   "source": [
    "# save experiment\n",
    "save_experiment('my_experiment')"
   ]
  },
  {
   "cell_type": "code",
   "execution_count": null,
   "id": "83252c09",
   "metadata": {},
   "outputs": [],
   "source": [
    "# load experiment from disk\n",
    "exp_from_disk = load_experiment('my_experiment', data=data)"
   ]
  }
 ],
 "metadata": {
  "kernelspec": {
   "display_name": "clean",
   "language": "python",
   "name": "python3"
  },
  "language_info": {
   "codemirror_mode": {
    "name": "ipython",
    "version": 3
   },
   "file_extension": ".py",
   "mimetype": "text/x-python",
   "name": "python",
   "nbconvert_exporter": "python",
   "pygments_lexer": "ipython3",
   "version": "3.8.18"
  }
 },
 "nbformat": 4,
 "nbformat_minor": 5
}
