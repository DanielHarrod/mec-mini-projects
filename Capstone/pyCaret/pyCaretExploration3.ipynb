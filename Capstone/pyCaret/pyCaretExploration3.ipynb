{
 "cells": [
  {
   "attachments": {},
   "cell_type": "markdown",
   "id": "81e0620e",
   "metadata": {},
   "source": [
    "This project evaluates \n"
   ]
  },
  {
   "cell_type": "code",
   "execution_count": 38,
   "id": "d7142a33",
   "metadata": {},
   "outputs": [
    {
     "data": {
      "text/plain": [
       "'3.1.0'"
      ]
     },
     "execution_count": 38,
     "metadata": {},
     "output_type": "execute_result"
    }
   ],
   "source": [
    "# check installed version\n",
    "import pycaret\n",
    "pycaret.__version__"
   ]
  },
  {
   "cell_type": "code",
   "execution_count": 39,
   "id": "0b0c36c6",
   "metadata": {},
   "outputs": [],
   "source": [
    "import pandas as pd\n",
    "from sklearn.model_selection import train_test_split\n",
    "from pycaret.classification import *\n",
    "from imblearn.over_sampling import *\n",
    "from imblearn.under_sampling import *\n",
    "from sklearn.metrics import confusion_matrix\n",
    "import seaborn as sns\n",
    "import numpy as np\n",
    "import os"
   ]
  },
  {
   "cell_type": "code",
   "execution_count": 77,
   "id": "41f751f2",
   "metadata": {},
   "outputs": [],
   "source": [
    "data = pd.read_csv(\"..\\diabetes_cleaned.csv\")"
   ]
  },
  {
   "cell_type": "code",
   "execution_count": 78,
   "id": "ad7c31cb",
   "metadata": {},
   "outputs": [],
   "source": [
    "data.drop(['Unnamed: 0','heart_attack','angina_or_chd','chd_mi'], axis=1, inplace=True)\n",
    "\n",
    "#data.drop(['income','age','sleep_time'], axis=1, inplace=True)"
   ]
  },
  {
   "cell_type": "code",
   "execution_count": 42,
   "id": "94cf7da6",
   "metadata": {},
   "outputs": [
    {
     "data": {
      "text/plain": [
       "0.0    254681\n",
       "1.0     48272\n",
       "Name: diabetes, dtype: int64"
      ]
     },
     "execution_count": 42,
     "metadata": {},
     "output_type": "execute_result"
    }
   ],
   "source": [
    "data.loc[data.diabetes.isin([2]), \"diabetes\"] = 1\n",
    "data.diabetes.value_counts()"
   ]
  },
  {
   "cell_type": "code",
   "execution_count": 80,
   "id": "8b37488c",
   "metadata": {},
   "outputs": [
    {
     "data": {
      "text/plain": [
       "0.022643333333333335"
      ]
     },
     "execution_count": 80,
     "metadata": {},
     "output_type": "execute_result"
    }
   ],
   "source": [
    "6793/300000"
   ]
  },
  {
   "cell_type": "code",
   "execution_count": 79,
   "id": "2c617ae0",
   "metadata": {},
   "outputs": [
    {
     "data": {
      "text/plain": [
       "0.0    254681\n",
       "2.0     41479\n",
       "1.0      6793\n",
       "Name: diabetes, dtype: int64"
      ]
     },
     "execution_count": 79,
     "metadata": {},
     "output_type": "execute_result"
    }
   ],
   "source": [
    "data.diabetes.value_counts()"
   ]
  },
  {
   "cell_type": "code",
   "execution_count": 43,
   "id": "dfb37812",
   "metadata": {},
   "outputs": [],
   "source": [
    "TARGET = 'diabetes'\n",
    "ANSWER = 42"
   ]
  },
  {
   "cell_type": "code",
   "execution_count": 44,
   "id": "d342c2a3",
   "metadata": {},
   "outputs": [
    {
     "data": {
      "text/plain": [
       "0.0    254681\n",
       "1.0     48272\n",
       "Name: diabetes, dtype: int64"
      ]
     },
     "execution_count": 44,
     "metadata": {},
     "output_type": "execute_result"
    }
   ],
   "source": [
    "data.diabetes.value_counts()"
   ]
  },
  {
   "cell_type": "code",
   "execution_count": 45,
   "id": "8442edcc",
   "metadata": {},
   "outputs": [],
   "source": [
    "#split data into 20% split with equal parts diabetes labels.\n",
    "train_df, test_df = train_test_split(data, test_size=0.2, random_state=42, stratify=data['diabetes'])"
   ]
  },
  {
   "cell_type": "code",
   "execution_count": 46,
   "id": "64d5ae5d",
   "metadata": {},
   "outputs": [
    {
     "name": "stdout",
     "output_type": "stream",
     "text": [
      "Train\n",
      "0.0    203744\n",
      "1.0     38618\n",
      "Name: diabetes, dtype: int64\n",
      "Test\n"
     ]
    },
    {
     "data": {
      "text/plain": [
       "0.0    50937\n",
       "1.0     9654\n",
       "Name: diabetes, dtype: int64"
      ]
     },
     "execution_count": 46,
     "metadata": {},
     "output_type": "execute_result"
    }
   ],
   "source": [
    "# The unbalanced ratio\n",
    "print(\"Train\")\n",
    "print(train_df.diabetes.value_counts())\n",
    "print(\"Test\")\n",
    "test_df.diabetes.value_counts()"
   ]
  },
  {
   "cell_type": "code",
   "execution_count": 47,
   "id": "069e974a",
   "metadata": {},
   "outputs": [],
   "source": [
    "test_labels = test_df[TARGET]\n",
    "test_features = test_df.drop(columns=TARGET)"
   ]
  },
  {
   "cell_type": "code",
   "execution_count": 48,
   "id": "6896be10",
   "metadata": {},
   "outputs": [],
   "source": [
    "# #binary\n",
    "# binary_data = train_df.copy()\n",
    "# binary_data.loc[binary_data.diabetes.isin([2]), TARGET] = 1\n",
    "# binary_data.diabetes.value_counts()\n",
    "# data = binary_data"
   ]
  },
  {
   "cell_type": "code",
   "execution_count": 49,
   "id": "5037fa2c",
   "metadata": {},
   "outputs": [],
   "source": [
    "# over_sampled_data = OverSample(train_df, TARGET, \"RandomOverSampler\")\n",
    "\n",
    "# print(over_sampled_data.diabetes.value_counts())"
   ]
  },
  {
   "cell_type": "code",
   "execution_count": 50,
   "id": "cfc861a5",
   "metadata": {},
   "outputs": [],
   "source": [
    "# over_sampled_binary_data = OverSample(binary_data, TARGET, \"RandomOverSampler\")\n",
    "\n",
    "# print(over_sampled_binary_data.diabetes.value_counts())"
   ]
  },
  {
   "cell_type": "code",
   "execution_count": 51,
   "id": "0c389261",
   "metadata": {},
   "outputs": [],
   "source": [
    "def Sampler(df, target, sampler_name, strategy):\n",
    "    sampler = globals()[sampler_name](sampling_strategy=strategy)\n",
    "\n",
    "    under_train_labels = df[target]\n",
    "    under_train_features = df.drop(columns=target)\n",
    "    \n",
    "    X, y = sampler.fit_resample(under_train_features, under_train_labels)\n",
    "    \n",
    "    sampled_data = X\n",
    "    sampled_data[target] = y\n",
    "    \n",
    "    print(sampled_data[target].value_counts())\n",
    "    return sampled_data    "
   ]
  },
  {
   "cell_type": "code",
   "execution_count": 52,
   "id": "e091628d",
   "metadata": {},
   "outputs": [],
   "source": [
    "# def UnderSample(df, target, sampler_name):\n",
    "#     sampler = globals()[sampler_name]\n",
    "#     under_sampler = sampler()\n",
    "\n",
    "#     under_train_labels = df[target]\n",
    "#     under_train_features = df.drop(columns=target)\n",
    "    \n",
    "#     X_under, y_under = under_sampler.fit_resample(under_train_features, under_train_labels)\n",
    "    \n",
    "#     under_sampled_data = X_under\n",
    "#     under_sampled_data[TARGET] = y_under\n",
    "#     return under_sampled_data    \n",
    "\n",
    "# def OverSample(df, target, sampler_name):\n",
    "#     sampler = globals()[sampler_name]\n",
    "#     over_sampler = sampler(random_state=ANSWER)\n",
    "    \n",
    "#     train_labels = df[target].copy()\n",
    "#     train_features = df.drop(columns=target)\n",
    "\n",
    "#     over_sampled_features, over_sampled_labels = over_sampler.fit_resample(train_features, train_labels)\n",
    "\n",
    "#     over_sampled_data = over_sampled_features\n",
    "#     over_sampled_data[target] = over_sampled_labels\n",
    "    \n",
    "#     return over_sampled_data"
   ]
  },
  {
   "cell_type": "code",
   "execution_count": 53,
   "id": "e689ed62",
   "metadata": {},
   "outputs": [],
   "source": [
    "# under_sampled_data = UnderSample(train_df, TARGET, \"RandomUnderSampler\")\n",
    "# print(under_sampled_data.diabetes.value_counts())"
   ]
  },
  {
   "cell_type": "code",
   "execution_count": 54,
   "id": "af0f8454",
   "metadata": {},
   "outputs": [],
   "source": [
    "# under_sampled_binary_data = UnderSample(binary_data, TARGET, \"RandomUnderSampler\")\n",
    "\n",
    "# print(under_sampled_binary_data.diabetes.value_counts())"
   ]
  },
  {
   "cell_type": "code",
   "execution_count": 55,
   "id": "db763eba",
   "metadata": {},
   "outputs": [],
   "source": [
    "# s = setup(under_sampled_data, target = TARGET, session_id = 123)\n",
    "# best = compare_models()"
   ]
  },
  {
   "cell_type": "code",
   "execution_count": 56,
   "id": "ce54b259",
   "metadata": {},
   "outputs": [],
   "source": [
    "#datasets = [under_sampled_data, over_sampled_data, under_sampled_binary_data, over_sampled_binary_data]\n",
    "# datasets = [over_sampled_data]\n",
    "# for idx, data in enumerate(datasets):\n",
    "\n",
    "if False:\n",
    "    over_samplers = ['RandomOverSampler','SMOTE','SMOTEN','ADASYN','BorderlineSMOTE','KMeansSMOTE','SVMSMOTE']\n",
    "    for sampler in over_samplers:\n",
    "        over_sampled_data = OverSample(train_df, TARGET, sampler)\n",
    "        s = setup(over_sampled_data, target = TARGET, session_id = 123)\n",
    "        best = compare_models()\n",
    "        test_acc = best.score(test_features,  test_labels)\n",
    "\n",
    "        print(f'\\nSampler: {sampler} Test accuracy:', test_acc)\n"
   ]
  },
  {
   "cell_type": "code",
   "execution_count": 57,
   "id": "0b39ad51",
   "metadata": {},
   "outputs": [],
   "source": [
    "#  test_acc = best.score(test_features,  test_labels)\n",
    "# print(f'\\nSampler: {sampler}, Strategy: {strategy}, Test accuracy:', test_acc)"
   ]
  },
  {
   "cell_type": "code",
   "execution_count": 58,
   "id": "0aaaf569",
   "metadata": {},
   "outputs": [],
   "source": [
    "# sampled_data.diabetes.value_counts()"
   ]
  },
  {
   "cell_type": "code",
   "execution_count": 59,
   "id": "a3438442",
   "metadata": {},
   "outputs": [],
   "source": [
    "import matplotlib.pyplot as plt\n",
    "\n",
    "def print_test_heat_map(model, sampler, strategy):\n",
    "    predictions = predict_model(model, data=test_features)\n",
    "    cm = confusion_matrix(test_labels, predictions[\"prediction_label\"])\n",
    "    cm_total = cm.sum(axis=1)\n",
    "    result = [[0.0,0.0,0.0],[0.0,0.0,0.0]]    \n",
    "    for row in range(0,2):\n",
    "        for column in range(0,2):\n",
    "            result[row][column] = cm[row][column]/(cm_total[row])\n",
    "            \n",
    "    total_percent = result[0][0] + result[1][1]\n",
    "    diabetes_percent = result[1][1]\n",
    "    # print(f\"Total Percent Accurate {total_percent*100}\")\n",
    "    # print(f\"Diabetes Percent Accurate {diabetes_percent*100}\")\n",
    "    \n",
    "    print(f\"{result[0][0]*100},{result[1][1]*100},{type(model).__name__},{sampler},{strategy},{total_percent*100},{diabetes_percent*100}\")\n",
    "    # sns.heatmap(result, annot=True, \n",
    "    #             fmt='.2%', cmap='Blues')\n",
    "    # plt.show()\n",
    "    # plt.figure()\n"
   ]
  },
  {
   "cell_type": "code",
   "execution_count": 60,
   "id": "689c8980",
   "metadata": {},
   "outputs": [
    {
     "name": "stdout",
     "output_type": "stream",
     "text": [
      "100.00\n"
     ]
    }
   ],
   "source": [
    "print(f\"{100:.2f}\")"
   ]
  },
  {
   "cell_type": "code",
   "execution_count": 67,
   "id": "49a2d8b8",
   "metadata": {},
   "outputs": [],
   "source": [
    "samplers_working = pd.read_csv(r\"..\\3label.csv\")\n",
    "samplers_working = samplers_working.drop_duplicates(subset=['Sampler','type'])[['Sampler','type']].sort_values(by='Sampler')"
   ]
  },
  {
   "cell_type": "code",
   "execution_count": 69,
   "id": "73313bd9",
   "metadata": {},
   "outputs": [],
   "source": [
    "samplers_working.drop([70], axis =0, inplace=True)\n",
    "samplers_working.drop([42], axis =0, inplace=True)\n",
    "samplers_working.drop([28], axis =0, inplace=True)\n"
   ]
  },
  {
   "cell_type": "code",
   "execution_count": 70,
   "id": "16313046",
   "metadata": {},
   "outputs": [
    {
     "data": {
      "text/html": [
       "<div>\n",
       "<style scoped>\n",
       "    .dataframe tbody tr th:only-of-type {\n",
       "        vertical-align: middle;\n",
       "    }\n",
       "\n",
       "    .dataframe tbody tr th {\n",
       "        vertical-align: top;\n",
       "    }\n",
       "\n",
       "    .dataframe thead th {\n",
       "        text-align: right;\n",
       "    }\n",
       "</style>\n",
       "<table border=\"1\" class=\"dataframe\">\n",
       "  <thead>\n",
       "    <tr style=\"text-align: right;\">\n",
       "      <th></th>\n",
       "      <th>Sampler</th>\n",
       "      <th>type</th>\n",
       "    </tr>\n",
       "  </thead>\n",
       "  <tbody>\n",
       "    <tr>\n",
       "      <th>98</th>\n",
       "      <td>ADASYN</td>\n",
       "      <td>auto</td>\n",
       "    </tr>\n",
       "    <tr>\n",
       "      <th>56</th>\n",
       "      <td>RandomOverSampler</td>\n",
       "      <td>auto</td>\n",
       "    </tr>\n",
       "    <tr>\n",
       "      <th>14</th>\n",
       "      <td>SMOTE</td>\n",
       "      <td>all</td>\n",
       "    </tr>\n",
       "    <tr>\n",
       "      <th>0</th>\n",
       "      <td>TomekLinks</td>\n",
       "      <td>all</td>\n",
       "    </tr>\n",
       "  </tbody>\n",
       "</table>\n",
       "</div>"
      ],
      "text/plain": [
       "              Sampler  type\n",
       "98             ADASYN  auto\n",
       "56  RandomOverSampler  auto\n",
       "14              SMOTE   all\n",
       "0          TomekLinks   all"
      ]
     },
     "execution_count": 70,
     "metadata": {},
     "output_type": "execute_result"
    }
   ],
   "source": [
    "samplers_working"
   ]
  },
  {
   "cell_type": "code",
   "execution_count": null,
   "id": "f50d760f",
   "metadata": {},
   "outputs": [],
   "source": [
    "# Calculate without sampler\n",
    "s = setup(train_df, target = TARGET, session_id = 123,verbose=False)\n",
    "best = compare_models(n_select=14,verbose=False)\n",
    "for model in best:    \n",
    "\n",
    "    #print(f'\\nSampler: {sampler}, Strategy: {strategy}')\n",
    "    print_test_heat_map(model, \"Base\", \"None\")"
   ]
  },
  {
   "cell_type": "code",
   "execution_count": 74,
   "id": "bf826f85",
   "metadata": {},
   "outputs": [],
   "source": [
    "import matplotlib.pyplot as plt\n",
    "\n",
    "def print_test_heat_map3(model, sampler, strategy):\n",
    "    predictions = predict_model(model, data=test_features)\n",
    "    cm = confusion_matrix(test_labels, predictions[\"prediction_label\"])\n",
    "    cm_total = cm.sum(axis=1)\n",
    "    result = [[0.0,0.0,0.0],[0.0,0.0,0.0],[0.0,0.0,0.0]]    \n",
    "    for row in range(0,3):\n",
    "        for column in range(0,3):\n",
    "            result[row][column] = cm[row][column]/(cm_total[row])\n",
    "            \n",
    "    total_percent = result[0][0] + result[1][1] + result[2][2]\n",
    "    diabetes_percent = result[1][1] + result[2][2]\n",
    "    # print(f\"Total Percent Accurate {total_percent*100}\")\n",
    "    # print(f\"Diabetes Percent Accurate {diabetes_percent*100}\")\n",
    "    \n",
    "    print(f\"{result[0][0]*100},{result[1][1]*100},{result[2][2]*100},{type(model).__name__},{sampler},{strategy},{total_percent*100},{diabetes_percent*100}\")\n",
    "    # sns.heatmap(result, annot=True, \n",
    "    #             fmt='.2%', cmap='Blues')\n",
    "    # plt.show()\n",
    "    # plt.figure()"
   ]
  },
  {
   "cell_type": "code",
   "execution_count": 71,
   "id": "25d2ba0a",
   "metadata": {},
   "outputs": [
    {
     "data": {
      "text/html": [],
      "text/plain": [
       "<IPython.core.display.HTML object>"
      ]
     },
     "metadata": {},
     "output_type": "display_data"
    },
    {
     "data": {
      "text/html": [
       "<style type=\"text/css\">\n",
       "#T_aae75 th {\n",
       "  text-align: left;\n",
       "}\n",
       "#T_aae75_row0_col0, #T_aae75_row0_col3, #T_aae75_row0_col4, #T_aae75_row0_col5, #T_aae75_row0_col6, #T_aae75_row0_col7, #T_aae75_row1_col0, #T_aae75_row1_col1, #T_aae75_row1_col2, #T_aae75_row1_col3, #T_aae75_row1_col4, #T_aae75_row1_col5, #T_aae75_row1_col6, #T_aae75_row1_col7, #T_aae75_row2_col0, #T_aae75_row2_col1, #T_aae75_row2_col2, #T_aae75_row2_col3, #T_aae75_row2_col4, #T_aae75_row2_col5, #T_aae75_row2_col6, #T_aae75_row2_col7, #T_aae75_row3_col0, #T_aae75_row3_col1, #T_aae75_row3_col2, #T_aae75_row3_col3, #T_aae75_row3_col4, #T_aae75_row3_col5, #T_aae75_row3_col6, #T_aae75_row3_col7, #T_aae75_row4_col0, #T_aae75_row4_col1, #T_aae75_row4_col2, #T_aae75_row4_col3, #T_aae75_row4_col5, #T_aae75_row4_col6, #T_aae75_row4_col7, #T_aae75_row5_col0, #T_aae75_row5_col1, #T_aae75_row5_col2, #T_aae75_row5_col3, #T_aae75_row5_col4, #T_aae75_row5_col5, #T_aae75_row5_col6, #T_aae75_row5_col7, #T_aae75_row6_col0, #T_aae75_row6_col1, #T_aae75_row6_col2, #T_aae75_row6_col3, #T_aae75_row6_col4, #T_aae75_row6_col5, #T_aae75_row6_col6, #T_aae75_row6_col7, #T_aae75_row7_col0, #T_aae75_row7_col1, #T_aae75_row7_col2, #T_aae75_row7_col3, #T_aae75_row7_col4, #T_aae75_row7_col5, #T_aae75_row7_col6, #T_aae75_row7_col7, #T_aae75_row8_col0, #T_aae75_row8_col1, #T_aae75_row8_col2, #T_aae75_row8_col3, #T_aae75_row8_col4, #T_aae75_row8_col5, #T_aae75_row8_col6, #T_aae75_row8_col7, #T_aae75_row9_col0, #T_aae75_row9_col1, #T_aae75_row9_col2, #T_aae75_row9_col3, #T_aae75_row9_col4, #T_aae75_row9_col5, #T_aae75_row9_col6, #T_aae75_row9_col7, #T_aae75_row10_col0, #T_aae75_row10_col1, #T_aae75_row10_col2, #T_aae75_row10_col3, #T_aae75_row10_col4, #T_aae75_row10_col5, #T_aae75_row10_col6, #T_aae75_row10_col7, #T_aae75_row11_col0, #T_aae75_row11_col1, #T_aae75_row11_col2, #T_aae75_row11_col3, #T_aae75_row11_col4, #T_aae75_row11_col5, #T_aae75_row11_col6, #T_aae75_row11_col7, #T_aae75_row12_col0, #T_aae75_row12_col1, #T_aae75_row12_col2, #T_aae75_row12_col3, #T_aae75_row12_col4, #T_aae75_row12_col5, #T_aae75_row12_col6, #T_aae75_row12_col7, #T_aae75_row13_col0, #T_aae75_row13_col1, #T_aae75_row13_col2, #T_aae75_row13_col4 {\n",
       "  text-align: left;\n",
       "}\n",
       "#T_aae75_row0_col1, #T_aae75_row0_col2, #T_aae75_row4_col4, #T_aae75_row13_col3, #T_aae75_row13_col5, #T_aae75_row13_col6, #T_aae75_row13_col7 {\n",
       "  text-align: left;\n",
       "  background-color: yellow;\n",
       "}\n",
       "#T_aae75_row0_col8, #T_aae75_row1_col8, #T_aae75_row2_col8, #T_aae75_row3_col8, #T_aae75_row4_col8, #T_aae75_row5_col8, #T_aae75_row6_col8, #T_aae75_row8_col8, #T_aae75_row9_col8, #T_aae75_row10_col8, #T_aae75_row11_col8, #T_aae75_row12_col8, #T_aae75_row13_col8 {\n",
       "  text-align: left;\n",
       "  background-color: lightgrey;\n",
       "}\n",
       "#T_aae75_row7_col8 {\n",
       "  text-align: left;\n",
       "  background-color: yellow;\n",
       "  background-color: lightgrey;\n",
       "}\n",
       "</style>\n",
       "<table id=\"T_aae75\">\n",
       "  <thead>\n",
       "    <tr>\n",
       "      <th class=\"blank level0\" >&nbsp;</th>\n",
       "      <th id=\"T_aae75_level0_col0\" class=\"col_heading level0 col0\" >Model</th>\n",
       "      <th id=\"T_aae75_level0_col1\" class=\"col_heading level0 col1\" >Accuracy</th>\n",
       "      <th id=\"T_aae75_level0_col2\" class=\"col_heading level0 col2\" >AUC</th>\n",
       "      <th id=\"T_aae75_level0_col3\" class=\"col_heading level0 col3\" >Recall</th>\n",
       "      <th id=\"T_aae75_level0_col4\" class=\"col_heading level0 col4\" >Prec.</th>\n",
       "      <th id=\"T_aae75_level0_col5\" class=\"col_heading level0 col5\" >F1</th>\n",
       "      <th id=\"T_aae75_level0_col6\" class=\"col_heading level0 col6\" >Kappa</th>\n",
       "      <th id=\"T_aae75_level0_col7\" class=\"col_heading level0 col7\" >MCC</th>\n",
       "      <th id=\"T_aae75_level0_col8\" class=\"col_heading level0 col8\" >TT (Sec)</th>\n",
       "    </tr>\n",
       "  </thead>\n",
       "  <tbody>\n",
       "    <tr>\n",
       "      <th id=\"T_aae75_level0_row0\" class=\"row_heading level0 row0\" >lightgbm</th>\n",
       "      <td id=\"T_aae75_row0_col0\" class=\"data row0 col0\" >Light Gradient Boosting Machine</td>\n",
       "      <td id=\"T_aae75_row0_col1\" class=\"data row0 col1\" >0.8606</td>\n",
       "      <td id=\"T_aae75_row0_col2\" class=\"data row0 col2\" >0.8178</td>\n",
       "      <td id=\"T_aae75_row0_col3\" class=\"data row0 col3\" >0.1379</td>\n",
       "      <td id=\"T_aae75_row0_col4\" class=\"data row0 col4\" >0.5599</td>\n",
       "      <td id=\"T_aae75_row0_col5\" class=\"data row0 col5\" >0.2213</td>\n",
       "      <td id=\"T_aae75_row0_col6\" class=\"data row0 col6\" >0.1744</td>\n",
       "      <td id=\"T_aae75_row0_col7\" class=\"data row0 col7\" >0.2273</td>\n",
       "      <td id=\"T_aae75_row0_col8\" class=\"data row0 col8\" >0.2600</td>\n",
       "    </tr>\n",
       "    <tr>\n",
       "      <th id=\"T_aae75_level0_row1\" class=\"row_heading level0 row1\" >gbc</th>\n",
       "      <td id=\"T_aae75_row1_col0\" class=\"data row1 col0\" >Gradient Boosting Classifier</td>\n",
       "      <td id=\"T_aae75_row1_col1\" class=\"data row1 col1\" >0.8604</td>\n",
       "      <td id=\"T_aae75_row1_col2\" class=\"data row1 col2\" >0.8171</td>\n",
       "      <td id=\"T_aae75_row1_col3\" class=\"data row1 col3\" >0.1420</td>\n",
       "      <td id=\"T_aae75_row1_col4\" class=\"data row1 col4\" >0.5553</td>\n",
       "      <td id=\"T_aae75_row1_col5\" class=\"data row1 col5\" >0.2262</td>\n",
       "      <td id=\"T_aae75_row1_col6\" class=\"data row1 col6\" >0.1781</td>\n",
       "      <td id=\"T_aae75_row1_col7\" class=\"data row1 col7\" >0.2292</td>\n",
       "      <td id=\"T_aae75_row1_col8\" class=\"data row1 col8\" >1.8780</td>\n",
       "    </tr>\n",
       "    <tr>\n",
       "      <th id=\"T_aae75_level0_row2\" class=\"row_heading level0 row2\" >ada</th>\n",
       "      <td id=\"T_aae75_row2_col0\" class=\"data row2 col0\" >Ada Boost Classifier</td>\n",
       "      <td id=\"T_aae75_row2_col1\" class=\"data row2 col1\" >0.8597</td>\n",
       "      <td id=\"T_aae75_row2_col2\" class=\"data row2 col2\" >0.8146</td>\n",
       "      <td id=\"T_aae75_row2_col3\" class=\"data row2 col3\" >0.1532</td>\n",
       "      <td id=\"T_aae75_row2_col4\" class=\"data row2 col4\" >0.5410</td>\n",
       "      <td id=\"T_aae75_row2_col5\" class=\"data row2 col5\" >0.2388</td>\n",
       "      <td id=\"T_aae75_row2_col6\" class=\"data row2 col6\" >0.1872</td>\n",
       "      <td id=\"T_aae75_row2_col7\" class=\"data row2 col7\" >0.2333</td>\n",
       "      <td id=\"T_aae75_row2_col8\" class=\"data row2 col8\" >0.6280</td>\n",
       "    </tr>\n",
       "    <tr>\n",
       "      <th id=\"T_aae75_level0_row3\" class=\"row_heading level0 row3\" >lr</th>\n",
       "      <td id=\"T_aae75_row3_col0\" class=\"data row3 col0\" >Logistic Regression</td>\n",
       "      <td id=\"T_aae75_row3_col1\" class=\"data row3 col1\" >0.8580</td>\n",
       "      <td id=\"T_aae75_row3_col2\" class=\"data row3 col2\" >0.8094</td>\n",
       "      <td id=\"T_aae75_row3_col3\" class=\"data row3 col3\" >0.1339</td>\n",
       "      <td id=\"T_aae75_row3_col4\" class=\"data row3 col4\" >0.5229</td>\n",
       "      <td id=\"T_aae75_row3_col5\" class=\"data row3 col5\" >0.2131</td>\n",
       "      <td id=\"T_aae75_row3_col6\" class=\"data row3 col6\" >0.1642</td>\n",
       "      <td id=\"T_aae75_row3_col7\" class=\"data row3 col7\" >0.2112</td>\n",
       "      <td id=\"T_aae75_row3_col8\" class=\"data row3 col8\" >1.1560</td>\n",
       "    </tr>\n",
       "    <tr>\n",
       "      <th id=\"T_aae75_level0_row4\" class=\"row_heading level0 row4\" >ridge</th>\n",
       "      <td id=\"T_aae75_row4_col0\" class=\"data row4 col0\" >Ridge Classifier</td>\n",
       "      <td id=\"T_aae75_row4_col1\" class=\"data row4 col1\" >0.8570</td>\n",
       "      <td id=\"T_aae75_row4_col2\" class=\"data row4 col2\" >0.0000</td>\n",
       "      <td id=\"T_aae75_row4_col3\" class=\"data row4 col3\" >0.0172</td>\n",
       "      <td id=\"T_aae75_row4_col4\" class=\"data row4 col4\" >0.5767</td>\n",
       "      <td id=\"T_aae75_row4_col5\" class=\"data row4 col5\" >0.0333</td>\n",
       "      <td id=\"T_aae75_row4_col6\" class=\"data row4 col6\" >0.0252</td>\n",
       "      <td id=\"T_aae75_row4_col7\" class=\"data row4 col7\" >0.0808</td>\n",
       "      <td id=\"T_aae75_row4_col8\" class=\"data row4 col8\" >0.0470</td>\n",
       "    </tr>\n",
       "    <tr>\n",
       "      <th id=\"T_aae75_level0_row5\" class=\"row_heading level0 row5\" >lda</th>\n",
       "      <td id=\"T_aae75_row5_col0\" class=\"data row5 col0\" >Linear Discriminant Analysis</td>\n",
       "      <td id=\"T_aae75_row5_col1\" class=\"data row5 col1\" >0.8565</td>\n",
       "      <td id=\"T_aae75_row5_col2\" class=\"data row5 col2\" >0.8054</td>\n",
       "      <td id=\"T_aae75_row5_col3\" class=\"data row5 col3\" >0.1629</td>\n",
       "      <td id=\"T_aae75_row5_col4\" class=\"data row5 col4\" >0.5021</td>\n",
       "      <td id=\"T_aae75_row5_col5\" class=\"data row5 col5\" >0.2460</td>\n",
       "      <td id=\"T_aae75_row5_col6\" class=\"data row5 col6\" >0.1889</td>\n",
       "      <td id=\"T_aae75_row5_col7\" class=\"data row5 col7\" >0.2259</td>\n",
       "      <td id=\"T_aae75_row5_col8\" class=\"data row5 col8\" >0.1230</td>\n",
       "    </tr>\n",
       "    <tr>\n",
       "      <th id=\"T_aae75_level0_row6\" class=\"row_heading level0 row6\" >qda</th>\n",
       "      <td id=\"T_aae75_row6_col0\" class=\"data row6 col0\" >Quadratic Discriminant Analysis</td>\n",
       "      <td id=\"T_aae75_row6_col1\" class=\"data row6 col1\" >0.8563</td>\n",
       "      <td id=\"T_aae75_row6_col2\" class=\"data row6 col2\" >0.0000</td>\n",
       "      <td id=\"T_aae75_row6_col3\" class=\"data row6 col3\" >0.0000</td>\n",
       "      <td id=\"T_aae75_row6_col4\" class=\"data row6 col4\" >0.0000</td>\n",
       "      <td id=\"T_aae75_row6_col5\" class=\"data row6 col5\" >0.0000</td>\n",
       "      <td id=\"T_aae75_row6_col6\" class=\"data row6 col6\" >0.0000</td>\n",
       "      <td id=\"T_aae75_row6_col7\" class=\"data row6 col7\" >0.0000</td>\n",
       "      <td id=\"T_aae75_row6_col8\" class=\"data row6 col8\" >0.0990</td>\n",
       "    </tr>\n",
       "    <tr>\n",
       "      <th id=\"T_aae75_level0_row7\" class=\"row_heading level0 row7\" >dummy</th>\n",
       "      <td id=\"T_aae75_row7_col0\" class=\"data row7 col0\" >Dummy Classifier</td>\n",
       "      <td id=\"T_aae75_row7_col1\" class=\"data row7 col1\" >0.8563</td>\n",
       "      <td id=\"T_aae75_row7_col2\" class=\"data row7 col2\" >0.5000</td>\n",
       "      <td id=\"T_aae75_row7_col3\" class=\"data row7 col3\" >0.0000</td>\n",
       "      <td id=\"T_aae75_row7_col4\" class=\"data row7 col4\" >0.0000</td>\n",
       "      <td id=\"T_aae75_row7_col5\" class=\"data row7 col5\" >0.0000</td>\n",
       "      <td id=\"T_aae75_row7_col6\" class=\"data row7 col6\" >0.0000</td>\n",
       "      <td id=\"T_aae75_row7_col7\" class=\"data row7 col7\" >0.0000</td>\n",
       "      <td id=\"T_aae75_row7_col8\" class=\"data row7 col8\" >0.0400</td>\n",
       "    </tr>\n",
       "    <tr>\n",
       "      <th id=\"T_aae75_level0_row8\" class=\"row_heading level0 row8\" >svm</th>\n",
       "      <td id=\"T_aae75_row8_col0\" class=\"data row8 col0\" >SVM - Linear Kernel</td>\n",
       "      <td id=\"T_aae75_row8_col1\" class=\"data row8 col1\" >0.8551</td>\n",
       "      <td id=\"T_aae75_row8_col2\" class=\"data row8 col2\" >0.0000</td>\n",
       "      <td id=\"T_aae75_row8_col3\" class=\"data row8 col3\" >0.0023</td>\n",
       "      <td id=\"T_aae75_row8_col4\" class=\"data row8 col4\" >0.0373</td>\n",
       "      <td id=\"T_aae75_row8_col5\" class=\"data row8 col5\" >0.0043</td>\n",
       "      <td id=\"T_aae75_row8_col6\" class=\"data row8 col6\" >0.0008</td>\n",
       "      <td id=\"T_aae75_row8_col7\" class=\"data row8 col7\" >0.0021</td>\n",
       "      <td id=\"T_aae75_row8_col8\" class=\"data row8 col8\" >0.2750</td>\n",
       "    </tr>\n",
       "    <tr>\n",
       "      <th id=\"T_aae75_level0_row9\" class=\"row_heading level0 row9\" >rf</th>\n",
       "      <td id=\"T_aae75_row9_col0\" class=\"data row9 col0\" >Random Forest Classifier</td>\n",
       "      <td id=\"T_aae75_row9_col1\" class=\"data row9 col1\" >0.8494</td>\n",
       "      <td id=\"T_aae75_row9_col2\" class=\"data row9 col2\" >0.7736</td>\n",
       "      <td id=\"T_aae75_row9_col3\" class=\"data row9 col3\" >0.1844</td>\n",
       "      <td id=\"T_aae75_row9_col4\" class=\"data row9 col4\" >0.4422</td>\n",
       "      <td id=\"T_aae75_row9_col5\" class=\"data row9 col5\" >0.2602</td>\n",
       "      <td id=\"T_aae75_row9_col6\" class=\"data row9 col6\" >0.1919</td>\n",
       "      <td id=\"T_aae75_row9_col7\" class=\"data row9 col7\" >0.2148</td>\n",
       "      <td id=\"T_aae75_row9_col8\" class=\"data row9 col8\" >1.5330</td>\n",
       "    </tr>\n",
       "    <tr>\n",
       "      <th id=\"T_aae75_level0_row10\" class=\"row_heading level0 row10\" >et</th>\n",
       "      <td id=\"T_aae75_row10_col0\" class=\"data row10 col0\" >Extra Trees Classifier</td>\n",
       "      <td id=\"T_aae75_row10_col1\" class=\"data row10 col1\" >0.8463</td>\n",
       "      <td id=\"T_aae75_row10_col2\" class=\"data row10 col2\" >0.7444</td>\n",
       "      <td id=\"T_aae75_row10_col3\" class=\"data row10 col3\" >0.1886</td>\n",
       "      <td id=\"T_aae75_row10_col4\" class=\"data row10 col4\" >0.4219</td>\n",
       "      <td id=\"T_aae75_row10_col5\" class=\"data row10 col5\" >0.2606</td>\n",
       "      <td id=\"T_aae75_row10_col6\" class=\"data row10 col6\" >0.1886</td>\n",
       "      <td id=\"T_aae75_row10_col7\" class=\"data row10 col7\" >0.2078</td>\n",
       "      <td id=\"T_aae75_row10_col8\" class=\"data row10 col8\" >1.8100</td>\n",
       "    </tr>\n",
       "    <tr>\n",
       "      <th id=\"T_aae75_level0_row11\" class=\"row_heading level0 row11\" >knn</th>\n",
       "      <td id=\"T_aae75_row11_col0\" class=\"data row11 col0\" >K Neighbors Classifier</td>\n",
       "      <td id=\"T_aae75_row11_col1\" class=\"data row11 col1\" >0.8439</td>\n",
       "      <td id=\"T_aae75_row11_col2\" class=\"data row11 col2\" >0.7147</td>\n",
       "      <td id=\"T_aae75_row11_col3\" class=\"data row11 col3\" >0.2038</td>\n",
       "      <td id=\"T_aae75_row11_col4\" class=\"data row11 col4\" >0.4123</td>\n",
       "      <td id=\"T_aae75_row11_col5\" class=\"data row11 col5\" >0.2727</td>\n",
       "      <td id=\"T_aae75_row11_col6\" class=\"data row11 col6\" >0.1964</td>\n",
       "      <td id=\"T_aae75_row11_col7\" class=\"data row11 col7\" >0.2117</td>\n",
       "      <td id=\"T_aae75_row11_col8\" class=\"data row11 col8\" >3.2880</td>\n",
       "    </tr>\n",
       "    <tr>\n",
       "      <th id=\"T_aae75_level0_row12\" class=\"row_heading level0 row12\" >dt</th>\n",
       "      <td id=\"T_aae75_row12_col0\" class=\"data row12 col0\" >Decision Tree Classifier</td>\n",
       "      <td id=\"T_aae75_row12_col1\" class=\"data row12 col1\" >0.8020</td>\n",
       "      <td id=\"T_aae75_row12_col2\" class=\"data row12 col2\" >0.6047</td>\n",
       "      <td id=\"T_aae75_row12_col3\" class=\"data row12 col3\" >0.3030</td>\n",
       "      <td id=\"T_aae75_row12_col4\" class=\"data row12 col4\" >0.3080</td>\n",
       "      <td id=\"T_aae75_row12_col5\" class=\"data row12 col5\" >0.3054</td>\n",
       "      <td id=\"T_aae75_row12_col6\" class=\"data row12 col6\" >0.1900</td>\n",
       "      <td id=\"T_aae75_row12_col7\" class=\"data row12 col7\" >0.1900</td>\n",
       "      <td id=\"T_aae75_row12_col8\" class=\"data row12 col8\" >0.3570</td>\n",
       "    </tr>\n",
       "    <tr>\n",
       "      <th id=\"T_aae75_level0_row13\" class=\"row_heading level0 row13\" >nb</th>\n",
       "      <td id=\"T_aae75_row13_col0\" class=\"data row13 col0\" >Naive Bayes</td>\n",
       "      <td id=\"T_aae75_row13_col1\" class=\"data row13 col1\" >0.7942</td>\n",
       "      <td id=\"T_aae75_row13_col2\" class=\"data row13 col2\" >0.7750</td>\n",
       "      <td id=\"T_aae75_row13_col3\" class=\"data row13 col3\" >0.4751</td>\n",
       "      <td id=\"T_aae75_row13_col4\" class=\"data row13 col4\" >0.3436</td>\n",
       "      <td id=\"T_aae75_row13_col5\" class=\"data row13 col5\" >0.3988</td>\n",
       "      <td id=\"T_aae75_row13_col6\" class=\"data row13 col6\" >0.2785</td>\n",
       "      <td id=\"T_aae75_row13_col7\" class=\"data row13 col7\" >0.2838</td>\n",
       "      <td id=\"T_aae75_row13_col8\" class=\"data row13 col8\" >0.3520</td>\n",
       "    </tr>\n",
       "  </tbody>\n",
       "</table>\n"
      ],
      "text/plain": [
       "<pandas.io.formats.style.Styler at 0x1d74aaea070>"
      ]
     },
     "metadata": {},
     "output_type": "display_data"
    },
    {
     "data": {
      "text/html": [],
      "text/plain": [
       "<IPython.core.display.HTML object>"
      ]
     },
     "metadata": {},
     "output_type": "display_data"
    },
    {
     "ename": "TypeError",
     "evalue": "setup() got an unexpected keyword argument 'class_weight'",
     "output_type": "error",
     "traceback": [
      "\u001b[1;31m---------------------------------------------------------------------------\u001b[0m",
      "\u001b[1;31mTypeError\u001b[0m                                 Traceback (most recent call last)",
      "\u001b[1;32mc:\\Springboard\\mec-mini-projects\\Capstone\\pyCaret\\pyCaretExploration3.ipynb Cell 29\u001b[0m line \u001b[0;36m3\n\u001b[0;32m      <a href='vscode-notebook-cell:/c%3A/Springboard/mec-mini-projects/Capstone/pyCaret/pyCaretExploration3.ipynb#Y320sZmlsZQ%3D%3D?line=0'>1</a>\u001b[0m s \u001b[39m=\u001b[39m setup(sampled_data, target \u001b[39m=\u001b[39m TARGET, session_id \u001b[39m=\u001b[39m \u001b[39m123\u001b[39m,verbose\u001b[39m=\u001b[39m\u001b[39mFalse\u001b[39;00m)\n\u001b[0;32m      <a href='vscode-notebook-cell:/c%3A/Springboard/mec-mini-projects/Capstone/pyCaret/pyCaretExploration3.ipynb#Y320sZmlsZQ%3D%3D?line=1'>2</a>\u001b[0m best \u001b[39m=\u001b[39m compare_models(n_select\u001b[39m=\u001b[39m\u001b[39m14\u001b[39m)\n\u001b[1;32m----> <a href='vscode-notebook-cell:/c%3A/Springboard/mec-mini-projects/Capstone/pyCaret/pyCaretExploration3.ipynb#Y320sZmlsZQ%3D%3D?line=2'>3</a>\u001b[0m s \u001b[39m=\u001b[39m setup(sampled_data, target \u001b[39m=\u001b[39;49m TARGET, session_id \u001b[39m=\u001b[39;49m \u001b[39m123\u001b[39;49m,verbose\u001b[39m=\u001b[39;49m\u001b[39mFalse\u001b[39;49;00m, class_weight\u001b[39m=\u001b[39;49m{\u001b[39m0\u001b[39;49m:\u001b[39m0.10\u001b[39;49m, \u001b[39m1\u001b[39;49m:\u001b[39m0.45\u001b[39;49m,\u001b[39m2\u001b[39;49m:\u001b[39m0.45\u001b[39;49m})\n\u001b[0;32m      <a href='vscode-notebook-cell:/c%3A/Springboard/mec-mini-projects/Capstone/pyCaret/pyCaretExploration3.ipynb#Y320sZmlsZQ%3D%3D?line=3'>4</a>\u001b[0m best \u001b[39m=\u001b[39m compare_models(n_select\u001b[39m=\u001b[39m\u001b[39m14\u001b[39m)\n",
      "\u001b[1;31mTypeError\u001b[0m: setup() got an unexpected keyword argument 'class_weight'"
     ]
    }
   ],
   "source": [
    "s = setup(sampled_data, target = TARGET, session_id = 123,verbose=False)\n",
    "best = compare_models(n_select=14)        "
   ]
  },
  {
   "cell_type": "code",
   "execution_count": 65,
   "id": "94af4962",
   "metadata": {},
   "outputs": [
    {
     "name": "stdout",
     "output_type": "stream",
     "text": [
      "0.0    203744\n",
      "1.0    200891\n",
      "Name: diabetes, dtype: int64\n"
     ]
    },
    {
     "data": {
      "text/html": [],
      "text/plain": [
       "<IPython.core.display.HTML object>"
      ]
     },
     "metadata": {},
     "output_type": "display_data"
    },
    {
     "name": "stdout",
     "output_type": "stream",
     "text": [
      "92.3061821465732,25.605966438781852,ExtraTreesClassifier,ADASYN,auto,117.91214858535506,25.605966438781852\n"
     ]
    },
    {
     "data": {
      "text/html": [],
      "text/plain": [
       "<IPython.core.display.HTML object>"
      ]
     },
     "metadata": {},
     "output_type": "display_data"
    },
    {
     "name": "stdout",
     "output_type": "stream",
     "text": [
      "92.76557315900034,24.487259167184586,RandomForestClassifier,ADASYN,auto,117.25283232618493,24.487259167184586\n"
     ]
    },
    {
     "data": {
      "text/html": [],
      "text/plain": [
       "<IPython.core.display.HTML object>"
      ]
     },
     "metadata": {},
     "output_type": "display_data"
    },
    {
     "name": "stdout",
     "output_type": "stream",
     "text": [
      "95.32756149753617,23.45141910089082,LGBMClassifier,ADASYN,auto,118.778980598427,23.45141910089082\n"
     ]
    },
    {
     "data": {
      "text/html": [],
      "text/plain": [
       "<IPython.core.display.HTML object>"
      ]
     },
     "metadata": {},
     "output_type": "display_data"
    },
    {
     "name": "stdout",
     "output_type": "stream",
     "text": [
      "85.90611932387067,31.95566604516263,DecisionTreeClassifier,ADASYN,auto,117.86178536903329,31.95566604516263\n"
     ]
    },
    {
     "data": {
      "text/html": [],
      "text/plain": [
       "<IPython.core.display.HTML object>"
      ]
     },
     "metadata": {},
     "output_type": "display_data"
    },
    {
     "name": "stdout",
     "output_type": "stream",
     "text": [
      "84.61825392151088,53.42863061943236,GradientBoostingClassifier,ADASYN,auto,138.04688454094324,53.42863061943236\n"
     ]
    },
    {
     "data": {
      "text/html": [],
      "text/plain": [
       "<IPython.core.display.HTML object>"
      ]
     },
     "metadata": {},
     "output_type": "display_data"
    },
    {
     "name": "stdout",
     "output_type": "stream",
     "text": [
      "68.00950193376131,63.807748083695884,KNeighborsClassifier,ADASYN,auto,131.8172500174572,63.807748083695884\n"
     ]
    },
    {
     "data": {
      "text/html": [],
      "text/plain": [
       "<IPython.core.display.HTML object>"
      ]
     },
     "metadata": {},
     "output_type": "display_data"
    },
    {
     "name": "stdout",
     "output_type": "stream",
     "text": [
      "77.74113120128786,64.51211932877564,AdaBoostClassifier,ADASYN,auto,142.2532505300635,64.51211932877564\n"
     ]
    },
    {
     "data": {
      "text/html": [],
      "text/plain": [
       "<IPython.core.display.HTML object>"
      ]
     },
     "metadata": {},
     "output_type": "display_data"
    },
    {
     "name": "stdout",
     "output_type": "stream",
     "text": [
      "67.93489997447828,78.56846902838201,RidgeClassifier,ADASYN,auto,146.5033690028603,78.56846902838201\n"
     ]
    },
    {
     "data": {
      "text/html": [],
      "text/plain": [
       "<IPython.core.display.HTML object>"
      ]
     },
     "metadata": {},
     "output_type": "display_data"
    },
    {
     "name": "stdout",
     "output_type": "stream",
     "text": [
      "67.93489997447828,78.56846902838201,LinearDiscriminantAnalysis,ADASYN,auto,146.5033690028603,78.56846902838201\n"
     ]
    },
    {
     "data": {
      "text/html": [],
      "text/plain": [
       "<IPython.core.display.HTML object>"
      ]
     },
     "metadata": {},
     "output_type": "display_data"
    },
    {
     "name": "stdout",
     "output_type": "stream",
     "text": [
      "69.00877554626304,77.46012015744769,LogisticRegression,ADASYN,auto,146.4688957037107,77.46012015744769\n"
     ]
    },
    {
     "data": {
      "text/html": [],
      "text/plain": [
       "<IPython.core.display.HTML object>"
      ]
     },
     "metadata": {},
     "output_type": "display_data"
    },
    {
     "name": "stdout",
     "output_type": "stream",
     "text": [
      "75.457918605336,68.93515641185,SGDClassifier,ADASYN,auto,144.39307501718602,68.93515641185\n"
     ]
    },
    {
     "data": {
      "text/html": [],
      "text/plain": [
       "<IPython.core.display.HTML object>"
      ]
     },
     "metadata": {},
     "output_type": "display_data"
    },
    {
     "name": "stdout",
     "output_type": "stream",
     "text": [
      "65.53782123014705,77.8744561839652,GaussianNB,ADASYN,auto,143.41227741411222,77.8744561839652\n"
     ]
    },
    {
     "data": {
      "text/html": [],
      "text/plain": [
       "<IPython.core.display.HTML object>"
      ]
     },
     "metadata": {},
     "output_type": "display_data"
    },
    {
     "name": "stdout",
     "output_type": "stream",
     "text": [
      "100.0,0.0,QuadraticDiscriminantAnalysis,ADASYN,auto,100.0,0.0\n"
     ]
    },
    {
     "data": {
      "text/html": [],
      "text/plain": [
       "<IPython.core.display.HTML object>"
      ]
     },
     "metadata": {},
     "output_type": "display_data"
    },
    {
     "name": "stdout",
     "output_type": "stream",
     "text": [
      "100.0,0.0,DummyClassifier,ADASYN,auto,100.0,0.0\n",
      "1.0    203744\n",
      "0.0    203744\n",
      "Name: diabetes, dtype: int64\n"
     ]
    },
    {
     "data": {
      "text/html": [],
      "text/plain": [
       "<IPython.core.display.HTML object>"
      ]
     },
     "metadata": {},
     "output_type": "display_data"
    },
    {
     "name": "stdout",
     "output_type": "stream",
     "text": [
      "88.37976323693975,32.17319245908431,ExtraTreesClassifier,RandomOverSampler,auto,120.55295569602407,32.17319245908431\n"
     ]
    },
    {
     "data": {
      "text/html": [],
      "text/plain": [
       "<IPython.core.display.HTML object>"
      ]
     },
     "metadata": {},
     "output_type": "display_data"
    },
    {
     "name": "stdout",
     "output_type": "stream",
     "text": [
      "84.15297328071932,44.98653407913818,RandomForestClassifier,RandomOverSampler,auto,129.1395073598575,44.98653407913818\n"
     ]
    },
    {
     "data": {
      "text/html": [],
      "text/plain": [
       "<IPython.core.display.HTML object>"
      ]
     },
     "metadata": {},
     "output_type": "display_data"
    },
    {
     "name": "stdout",
     "output_type": "stream",
     "text": [
      "80.83318609262422,39.030453697949035,DecisionTreeClassifier,RandomOverSampler,auto,119.86363979057326,39.030453697949035\n"
     ]
    },
    {
     "data": {
      "text/html": [],
      "text/plain": [
       "<IPython.core.display.HTML object>"
      ]
     },
     "metadata": {},
     "output_type": "display_data"
    },
    {
     "name": "stdout",
     "output_type": "stream",
     "text": [
      "68.9695113571667,64.78143774601202,KNeighborsClassifier,RandomOverSampler,auto,133.7509491031787,64.78143774601202\n"
     ]
    },
    {
     "data": {
      "text/html": [],
      "text/plain": [
       "<IPython.core.display.HTML object>"
      ]
     },
     "metadata": {},
     "output_type": "display_data"
    },
    {
     "name": "stdout",
     "output_type": "stream",
     "text": [
      "69.3346683157626,78.8688626476072,LGBMClassifier,RandomOverSampler,auto,148.20353096336981,78.8688626476072\n"
     ]
    },
    {
     "data": {
      "text/html": [],
      "text/plain": [
       "<IPython.core.display.HTML object>"
      ]
     },
     "metadata": {},
     "output_type": "display_data"
    },
    {
     "name": "stdout",
     "output_type": "stream",
     "text": [
      "69.83528672674088,78.3716594157862,GradientBoostingClassifier,RandomOverSampler,auto,148.20694614252707,78.3716594157862\n"
     ]
    },
    {
     "data": {
      "text/html": [],
      "text/plain": [
       "<IPython.core.display.HTML object>"
      ]
     },
     "metadata": {},
     "output_type": "display_data"
    },
    {
     "name": "stdout",
     "output_type": "stream",
     "text": [
      "71.26646641930228,76.29997928319867,AdaBoostClassifier,RandomOverSampler,auto,147.56644570250094,76.29997928319867\n"
     ]
    },
    {
     "data": {
      "text/html": [],
      "text/plain": [
       "<IPython.core.display.HTML object>"
      ]
     },
     "metadata": {},
     "output_type": "display_data"
    },
    {
     "name": "stdout",
     "output_type": "stream",
     "text": [
      "70.25737675952647,76.52786409778331,RidgeClassifier,RandomOverSampler,auto,146.78524085730976,76.52786409778331\n"
     ]
    },
    {
     "data": {
      "text/html": [],
      "text/plain": [
       "<IPython.core.display.HTML object>"
      ]
     },
     "metadata": {},
     "output_type": "display_data"
    },
    {
     "name": "stdout",
     "output_type": "stream",
     "text": [
      "70.25737675952647,76.52786409778331,LinearDiscriminantAnalysis,RandomOverSampler,auto,146.78524085730976,76.52786409778331\n"
     ]
    },
    {
     "data": {
      "text/html": [],
      "text/plain": [
       "<IPython.core.display.HTML object>"
      ]
     },
     "metadata": {},
     "output_type": "display_data"
    },
    {
     "name": "stdout",
     "output_type": "stream",
     "text": [
      "71.09174077782359,75.75098404806297,LogisticRegression,RandomOverSampler,auto,146.84272482588656,75.75098404806297\n"
     ]
    },
    {
     "data": {
      "text/html": [],
      "text/plain": [
       "<IPython.core.display.HTML object>"
      ]
     },
     "metadata": {},
     "output_type": "display_data"
    },
    {
     "name": "stdout",
     "output_type": "stream",
     "text": [
      "75.45202897697155,69.68096125958152,SGDClassifier,RandomOverSampler,auto,145.13299023655307,69.68096125958152\n"
     ]
    },
    {
     "data": {
      "text/html": [],
      "text/plain": [
       "<IPython.core.display.HTML object>"
      ]
     },
     "metadata": {},
     "output_type": "display_data"
    },
    {
     "name": "stdout",
     "output_type": "stream",
     "text": [
      "74.72171505977973,66.03480422622748,GaussianNB,RandomOverSampler,auto,140.75651928600718,66.03480422622748\n"
     ]
    },
    {
     "data": {
      "text/html": [],
      "text/plain": [
       "<IPython.core.display.HTML object>"
      ]
     },
     "metadata": {},
     "output_type": "display_data"
    },
    {
     "name": "stdout",
     "output_type": "stream",
     "text": [
      "100.0,0.0,QuadraticDiscriminantAnalysis,RandomOverSampler,auto,100.0,0.0\n"
     ]
    },
    {
     "data": {
      "text/html": [],
      "text/plain": [
       "<IPython.core.display.HTML object>"
      ]
     },
     "metadata": {},
     "output_type": "display_data"
    },
    {
     "name": "stdout",
     "output_type": "stream",
     "text": [
      "0.0,100.0,DummyClassifier,RandomOverSampler,auto,100.0,100.0\n",
      "1.0    203744\n",
      "0.0    203744\n",
      "Name: diabetes, dtype: int64\n"
     ]
    },
    {
     "data": {
      "text/html": [],
      "text/plain": [
       "<IPython.core.display.HTML object>"
      ]
     },
     "metadata": {},
     "output_type": "display_data"
    },
    {
     "name": "stdout",
     "output_type": "stream",
     "text": [
      "92.19035278873903,26.217112077895173,ExtraTreesClassifier,SMOTE,all,118.4074648666342,26.217112077895173\n"
     ]
    },
    {
     "data": {
      "text/html": [],
      "text/plain": [
       "<IPython.core.display.HTML object>"
      ]
     },
     "metadata": {},
     "output_type": "display_data"
    },
    {
     "name": "stdout",
     "output_type": "stream",
     "text": [
      "92.7145297131751,25.38844002486016,RandomForestClassifier,SMOTE,all,118.10296973803527,25.38844002486016\n"
     ]
    },
    {
     "data": {
      "text/html": [],
      "text/plain": [
       "<IPython.core.display.HTML object>"
      ]
     },
     "metadata": {},
     "output_type": "display_data"
    },
    {
     "name": "stdout",
     "output_type": "stream",
     "text": [
      "94.50497673596796,26.413921690490987,LGBMClassifier,SMOTE,all,120.91889842645895,26.413921690490987\n"
     ]
    },
    {
     "data": {
      "text/html": [],
      "text/plain": [
       "<IPython.core.display.HTML object>"
      ]
     },
     "metadata": {},
     "output_type": "display_data"
    },
    {
     "name": "stdout",
     "output_type": "stream",
     "text": [
      "85.77458429039794,31.997099647814377,DecisionTreeClassifier,SMOTE,all,117.7716839382123,31.997099647814377\n"
     ]
    },
    {
     "data": {
      "text/html": [],
      "text/plain": [
       "<IPython.core.display.HTML object>"
      ]
     },
     "metadata": {},
     "output_type": "display_data"
    },
    {
     "name": "stdout",
     "output_type": "stream",
     "text": [
      "84.10192983489408,55.12740832815414,GradientBoostingClassifier,SMOTE,all,139.22933816304823,55.12740832815414\n"
     ]
    },
    {
     "data": {
      "text/html": [],
      "text/plain": [
       "<IPython.core.display.HTML object>"
      ]
     },
     "metadata": {},
     "output_type": "display_data"
    },
    {
     "name": "stdout",
     "output_type": "stream",
     "text": [
      "70.24167108388794,62.48187279883985,KNeighborsClassifier,SMOTE,all,132.7235438827278,62.48187279883985\n"
     ]
    },
    {
     "data": {
      "text/html": [],
      "text/plain": [
       "<IPython.core.display.HTML object>"
      ]
     },
     "metadata": {},
     "output_type": "display_data"
    },
    {
     "name": "stdout",
     "output_type": "stream",
     "text": [
      "78.63046508431985,63.90097368966232,AdaBoostClassifier,SMOTE,all,142.5314387739822,63.90097368966232\n"
     ]
    },
    {
     "data": {
      "text/html": [],
      "text/plain": [
       "<IPython.core.display.HTML object>"
      ]
     },
     "metadata": {},
     "output_type": "display_data"
    },
    {
     "name": "stdout",
     "output_type": "stream",
     "text": [
      "69.71749415945187,76.9939921276155,RidgeClassifier,SMOTE,all,146.71148628706737,76.9939921276155\n"
     ]
    },
    {
     "data": {
      "text/html": [],
      "text/plain": [
       "<IPython.core.display.HTML object>"
      ]
     },
     "metadata": {},
     "output_type": "display_data"
    },
    {
     "name": "stdout",
     "output_type": "stream",
     "text": [
      "69.71749415945187,76.9939921276155,LinearDiscriminantAnalysis,SMOTE,all,146.71148628706737,76.9939921276155\n"
     ]
    },
    {
     "data": {
      "text/html": [],
      "text/plain": [
       "<IPython.core.display.HTML object>"
      ]
     },
     "metadata": {},
     "output_type": "display_data"
    },
    {
     "name": "stdout",
     "output_type": "stream",
     "text": [
      "71.03677091308872,75.69919204474829,LogisticRegression,SMOTE,all,146.735962957837,75.69919204474829\n"
     ]
    },
    {
     "data": {
      "text/html": [],
      "text/plain": [
       "<IPython.core.display.HTML object>"
      ]
     },
     "metadata": {},
     "output_type": "display_data"
    },
    {
     "name": "stdout",
     "output_type": "stream",
     "text": [
      "73.65176590690461,71.45224777294385,SGDClassifier,SMOTE,all,145.10401367984846,71.45224777294385\n"
     ]
    },
    {
     "data": {
      "text/html": [],
      "text/plain": [
       "<IPython.core.display.HTML object>"
      ]
     },
     "metadata": {},
     "output_type": "display_data"
    },
    {
     "name": "stdout",
     "output_type": "stream",
     "text": [
      "68.24508706833932,75.07768800497203,GaussianNB,SMOTE,all,143.32277507331133,75.07768800497203\n"
     ]
    },
    {
     "data": {
      "text/html": [],
      "text/plain": [
       "<IPython.core.display.HTML object>"
      ]
     },
     "metadata": {},
     "output_type": "display_data"
    },
    {
     "name": "stdout",
     "output_type": "stream",
     "text": [
      "100.0,0.0,QuadraticDiscriminantAnalysis,SMOTE,all,100.0,0.0\n"
     ]
    },
    {
     "data": {
      "text/html": [],
      "text/plain": [
       "<IPython.core.display.HTML object>"
      ]
     },
     "metadata": {},
     "output_type": "display_data"
    },
    {
     "name": "stdout",
     "output_type": "stream",
     "text": [
      "0.0,100.0,DummyClassifier,SMOTE,all,100.0,100.0\n",
      "0.0    198418\n",
      "1.0     33292\n",
      "Name: diabetes, dtype: int64\n"
     ]
    },
    {
     "data": {
      "text/html": [],
      "text/plain": [
       "<IPython.core.display.HTML object>"
      ]
     },
     "metadata": {},
     "output_type": "display_data"
    },
    {
     "name": "stdout",
     "output_type": "stream",
     "text": [
      "97.93666686298761,13.963124093639943,LGBMClassifier,TomekLinks,all,111.89979095662754,13.963124093639943\n"
     ]
    },
    {
     "data": {
      "text/html": [],
      "text/plain": [
       "<IPython.core.display.HTML object>"
      ]
     },
     "metadata": {},
     "output_type": "display_data"
    },
    {
     "name": "stdout",
     "output_type": "stream",
     "text": [
      "97.81691108624379,14.605344934742076,GradientBoostingClassifier,TomekLinks,all,112.42225602098588,14.605344934742076\n"
     ]
    },
    {
     "data": {
      "text/html": [],
      "text/plain": [
       "<IPython.core.display.HTML object>"
      ]
     },
     "metadata": {},
     "output_type": "display_data"
    },
    {
     "name": "stdout",
     "output_type": "stream",
     "text": [
      "97.57347311384652,15.092189765900146,AdaBoostClassifier,TomekLinks,all,112.66566287974666,15.092189765900146\n"
     ]
    },
    {
     "data": {
      "text/html": [],
      "text/plain": [
       "<IPython.core.display.HTML object>"
      ]
     },
     "metadata": {},
     "output_type": "display_data"
    },
    {
     "name": "stdout",
     "output_type": "stream",
     "text": [
      "97.71482419459332,13.414128858504245,LogisticRegression,TomekLinks,all,111.12895305309756,13.414128858504245\n"
     ]
    },
    {
     "data": {
      "text/html": [],
      "text/plain": [
       "<IPython.core.display.HTML object>"
      ]
     },
     "metadata": {},
     "output_type": "display_data"
    },
    {
     "name": "stdout",
     "output_type": "stream",
     "text": [
      "99.79189979778943,1.823078516677025,RidgeClassifier,TomekLinks,all,101.61497831446647,1.823078516677025\n"
     ]
    },
    {
     "data": {
      "text/html": [],
      "text/plain": [
       "<IPython.core.display.HTML object>"
      ]
     },
     "metadata": {},
     "output_type": "display_data"
    },
    {
     "name": "stdout",
     "output_type": "stream",
     "text": [
      "97.01788483813338,15.910503418272217,LinearDiscriminantAnalysis,TomekLinks,all,112.92838825640561,15.910503418272217\n"
     ]
    },
    {
     "data": {
      "text/html": [],
      "text/plain": [
       "<IPython.core.display.HTML object>"
      ]
     },
     "metadata": {},
     "output_type": "display_data"
    },
    {
     "name": "stdout",
     "output_type": "stream",
     "text": [
      "100.0,0.0,QuadraticDiscriminantAnalysis,TomekLinks,all,100.0,0.0\n"
     ]
    },
    {
     "data": {
      "text/html": [],
      "text/plain": [
       "<IPython.core.display.HTML object>"
      ]
     },
     "metadata": {},
     "output_type": "display_data"
    },
    {
     "name": "stdout",
     "output_type": "stream",
     "text": [
      "100.0,0.0,DummyClassifier,TomekLinks,all,100.0,0.0\n"
     ]
    },
    {
     "data": {
      "text/html": [],
      "text/plain": [
       "<IPython.core.display.HTML object>"
      ]
     },
     "metadata": {},
     "output_type": "display_data"
    },
    {
     "name": "stdout",
     "output_type": "stream",
     "text": [
      "100.0,0.0,SGDClassifier,TomekLinks,all,100.0,0.0\n"
     ]
    },
    {
     "data": {
      "text/html": [],
      "text/plain": [
       "<IPython.core.display.HTML object>"
      ]
     },
     "metadata": {},
     "output_type": "display_data"
    },
    {
     "name": "stdout",
     "output_type": "stream",
     "text": [
      "95.6711231521291,17.184586699813547,RandomForestClassifier,TomekLinks,all,112.85570985194265,17.184586699813547\n"
     ]
    },
    {
     "data": {
      "text/html": [],
      "text/plain": [
       "<IPython.core.display.HTML object>"
      ]
     },
     "metadata": {},
     "output_type": "display_data"
    },
    {
     "name": "stdout",
     "output_type": "stream",
     "text": [
      "95.1096452480515,18.489745183343693,ExtraTreesClassifier,TomekLinks,all,113.5993904313952,18.489745183343693\n"
     ]
    },
    {
     "data": {
      "text/html": [],
      "text/plain": [
       "<IPython.core.display.HTML object>"
      ]
     },
     "metadata": {},
     "output_type": "display_data"
    },
    {
     "name": "stdout",
     "output_type": "stream",
     "text": [
      "94.7091505192689,19.81562046819971,KNeighborsClassifier,TomekLinks,all,114.5247709874686,19.81562046819971\n"
     ]
    },
    {
     "data": {
      "text/html": [],
      "text/plain": [
       "<IPython.core.display.HTML object>"
      ]
     },
     "metadata": {},
     "output_type": "display_data"
    },
    {
     "name": "stdout",
     "output_type": "stream",
     "text": [
      "88.19522154818698,29.11746426351771,DecisionTreeClassifier,TomekLinks,all,117.31268581170468,29.11746426351771\n"
     ]
    },
    {
     "data": {
      "text/html": [],
      "text/plain": [
       "<IPython.core.display.HTML object>"
      ]
     },
     "metadata": {},
     "output_type": "display_data"
    },
    {
     "name": "stdout",
     "output_type": "stream",
     "text": [
      "84.09996662543927,48.746633519784545,GaussianNB,TomekLinks,all,132.84660014522382,48.746633519784545\n"
     ]
    }
   ],
   "source": [
    "#Print working types.\n",
    "for index, row in samplers_working.iterrows():\n",
    "    sampled_data = Sampler(train_df, TARGET, row.Sampler, row.type)\n",
    "    sampled_data.diabetes.value_counts()\n",
    "    s = setup(sampled_data, target = TARGET, session_id = 123,verbose=False)\n",
    "    best = compare_models(n_select=14,verbose=False)\n",
    "    for model in best:    \n",
    "\n",
    "        #print(f'\\nSampler: {sampler}, Strategy: {strategy}')\n",
    "        print_test_heat_map(model, row.Sampler, row.type)"
   ]
  },
  {
   "cell_type": "markdown",
   "id": "477e9bde",
   "metadata": {},
   "source": [
    "None,Diab,Classifier,Sampler,Mode,Total,Diab2\n",
    "92.3061821465732,25.605966438781852,ExtraTreesClassifier,ADASYN,auto,117.91214858535506,25.605966438781852\n",
    "92.76557315900034,24.487259167184586,RandomForestClassifier,ADASYN,auto,117.25283232618493,24.487259167184586\n",
    "95.32756149753617,23.45141910089082,LGBMClassifier,ADASYN,auto,118.778980598427,23.45141910089082\n",
    "85.90611932387067,31.95566604516263,DecisionTreeClassifier,ADASYN,auto,117.86178536903329,31.95566604516263\n",
    "84.61825392151088,53.42863061943236,GradientBoostingClassifier,ADASYN,auto,138.04688454094324,53.42863061943236\n",
    "68.00950193376131,63.807748083695884,KNeighborsClassifier,ADASYN,auto,131.8172500174572,63.807748083695884\n",
    "77.74113120128786,64.51211932877564,AdaBoostClassifier,ADASYN,auto,142.2532505300635,64.51211932877564\n",
    "67.93489997447828,78.56846902838201,RidgeClassifier,ADASYN,auto,146.5033690028603,78.56846902838201\n",
    "67.93489997447828,78.56846902838201,LinearDiscriminantAnalysis,ADASYN,auto,146.5033690028603,78.56846902838201\n",
    "69.00877554626304,77.46012015744769,LogisticRegression,ADASYN,auto,146.4688957037107,77.46012015744769\n",
    "75.457918605336,68.93515641185,SGDClassifier,ADASYN,auto,144.39307501718602,68.93515641185\n",
    "65.53782123014705,77.8744561839652,GaussianNB,ADASYN,auto,143.41227741411222,77.8744561839652\n",
    "100.0,0.0,QuadraticDiscriminantAnalysis,ADASYN,auto,100.0,0.0\n",
    "100.0,0.0,DummyClassifier,ADASYN,auto,100.0,0.0\n",
    "88.37976323693975,32.17319245908431,ExtraTreesClassifier,RandomOverSampler,auto,120.55295569602407,32.17319245908431\n",
    "84.15297328071932,44.98653407913818,RandomForestClassifier,RandomOverSampler,auto,129.1395073598575,44.98653407913818\n",
    "80.83318609262422,39.030453697949035,DecisionTreeClassifier,RandomOverSampler,auto,119.86363979057326,39.030453697949035\n",
    "68.9695113571667,64.78143774601202,KNeighborsClassifier,RandomOverSampler,auto,133.7509491031787,64.78143774601202\n",
    "69.3346683157626,78.8688626476072,LGBMClassifier,RandomOverSampler,auto,148.20353096336981,78.8688626476072\n",
    "69.83528672674088,78.3716594157862,GradientBoostingClassifier,RandomOverSampler,auto,148.20694614252707,78.3716594157862\n",
    "71.26646641930228,76.29997928319867,AdaBoostClassifier,RandomOverSampler,auto,147.56644570250094,76.29997928319867\n",
    "70.25737675952647,76.52786409778331,RidgeClassifier,RandomOverSampler,auto,146.78524085730976,76.52786409778331\n",
    "70.25737675952647,76.52786409778331,LinearDiscriminantAnalysis,RandomOverSampler,auto,146.78524085730976,76.52786409778331\n",
    "71.09174077782359,75.75098404806297,LogisticRegression,RandomOverSampler,auto,146.84272482588656,75.75098404806297\n",
    "75.45202897697155,69.68096125958152,SGDClassifier,RandomOverSampler,auto,145.13299023655307,69.68096125958152\n",
    "74.72171505977973,66.03480422622748,GaussianNB,RandomOverSampler,auto,140.75651928600718,66.03480422622748\n",
    "100.0,0.0,QuadraticDiscriminantAnalysis,RandomOverSampler,auto,100.0,0.0\n",
    "0.0,100.0,DummyClassifier,RandomOverSampler,auto,100.0,100.0\n",
    "92.19035278873903,26.217112077895173,ExtraTreesClassifier,SMOTE,all,118.4074648666342,26.217112077895173\n",
    "92.7145297131751,25.38844002486016,RandomForestClassifier,SMOTE,all,118.10296973803527,25.38844002486016\n",
    "94.50497673596796,26.413921690490987,LGBMClassifier,SMOTE,all,120.91889842645895,26.413921690490987\n",
    "85.77458429039794,31.997099647814377,DecisionTreeClassifier,SMOTE,all,117.7716839382123,31.997099647814377\n",
    "84.10192983489408,55.12740832815414,GradientBoostingClassifier,SMOTE,all,139.22933816304823,55.12740832815414\n",
    "70.24167108388794,62.48187279883985,KNeighborsClassifier,SMOTE,all,132.7235438827278,62.48187279883985\n",
    "78.63046508431985,63.90097368966232,AdaBoostClassifier,SMOTE,all,142.5314387739822,63.90097368966232\n",
    "69.71749415945187,76.9939921276155,RidgeClassifier,SMOTE,all,146.71148628706737,76.9939921276155\n",
    "69.71749415945187,76.9939921276155,LinearDiscriminantAnalysis,SMOTE,all,146.71148628706737,76.9939921276155\n",
    "71.03677091308872,75.69919204474829,LogisticRegression,SMOTE,all,146.735962957837,75.69919204474829\n",
    "73.65176590690461,71.45224777294385,SGDClassifier,SMOTE,all,145.10401367984846,71.45224777294385\n",
    "68.24508706833932,75.07768800497203,GaussianNB,SMOTE,all,143.32277507331133,75.07768800497203\n",
    "100.0,0.0,QuadraticDiscriminantAnalysis,SMOTE,all,100.0,0.0\n",
    "0.0,100.0,DummyClassifier,SMOTE,all,100.0,100.0\n",
    "97.93666686298761,13.963124093639943,LGBMClassifier,TomekLinks,all,111.89979095662754,13.963124093639943\n",
    "97.81691108624379,14.605344934742076,GradientBoostingClassifier,TomekLinks,all,112.42225602098588,14.605344934742076\n",
    "97.57347311384652,15.092189765900146,AdaBoostClassifier,TomekLinks,all,112.66566287974666,15.092189765900146\n",
    "97.71482419459332,13.414128858504245,LogisticRegression,TomekLinks,all,111.12895305309756,13.414128858504245\n",
    "99.79189979778943,1.823078516677025,RidgeClassifier,TomekLinks,all,101.61497831446647,1.823078516677025\n",
    "97.01788483813338,15.910503418272217,LinearDiscriminantAnalysis,TomekLinks,all,112.92838825640561,15.910503418272217\n",
    "100.0,0.0,QuadraticDiscriminantAnalysis,TomekLinks,all,100.0,0.0\n",
    "100.0,0.0,DummyClassifier,TomekLinks,all,100.0,0.0\n",
    "100.0,0.0,SGDClassifier,TomekLinks,all,100.0,0.0\n",
    "95.6711231521291,17.184586699813547,RandomForestClassifier,TomekLinks,all,112.85570985194265,17.184586699813547\n",
    "95.1096452480515,18.489745183343693,ExtraTreesClassifier,TomekLinks,all,113.5993904313952,18.489745183343693\n",
    "94.7091505192689,19.81562046819971,KNeighborsClassifier,TomekLinks,all,114.5247709874686,19.81562046819971\n",
    "88.19522154818698,29.11746426351771,DecisionTreeClassifier,TomekLinks,all,117.31268581170468,29.11746426351771\n",
    "84.09996662543927,48.746633519784545,GaussianNB,TomekLinks,all,132.84660014522382,48.746633519784545\n",
    "97.75212517423483,14.605344934742076,GradientBoostingClassifier,Base,None,112.35747010897693,14.605344934742076\n",
    "97.98574709935804,13.714522477729437,LGBMClassifier,Base,None,111.70026957708747,13.714522477729437\n",
    "97.33199835090406,16.4284234514191,AdaBoostClassifier,Base,None,113.76042180232315,16.4284234514191\n",
    "99.57987317666922,3.1489538015330436,RidgeClassifier,Base,None,102.72882697820226,3.1489538015330436\n",
    "97.54402497202427,14.23244251087632,LogisticRegression,Base,None,111.77646748290057,14.23244251087632\n",
    "96.86279129120285,16.65630826600373,LinearDiscriminantAnalysis,Base,None,113.51909955720659,16.65630826600373\n",
    "100.0,0.0,QuadraticDiscriminantAnalysis,Base,None,100.0,0.0\n",
    "100.0,0.0,DummyClassifier,Base,None,100.0,0.0\n",
    "100.0,0.0,SGDClassifier,Base,None,100.0,0.0\n",
    "95.36878889608732,17.83716594157862,RandomForestClassifier,Base,None,113.20595483766593,17.83716594157862\n",
    "94.72485619490743,18.645121193287757,ExtraTreesClassifier,Base,None,113.36997738819518,18.645121193287757\n",
    "94.23798025011288,19.618810855603893,KNeighborsClassifier,Base,None,113.85679110571678,19.618810855603893\n",
    "84.14904686180968,47.866169463434844,GaussianNB,Base,None,132.01521632524452,47.866169463434844\n",
    "86.83471739599898,30.909467578205923,DecisionTreeClassifier,Base,None,117.74418497420491,30.909467578205923"
   ]
  },
  {
   "cell_type": "markdown",
   "id": "ebeeb4ce",
   "metadata": {},
   "source": [
    "None,Pre,Diab,Classifier,Sampler,Mode,Total,Diab2\n",
    "92.4689806816397,1.030169242089772,25.241080038572804,ExtraTreesClassifier,ADASYN,auto,118.7402299623023,26.27124928066258\n",
    "93.00102088895869,0.5886681383370125,24.65043394406943,RandomForestClassifier,ADASYN,auto,118.24012297136515,25.239102082406443\n",
    "85.67614261033454,3.8263428991905815,29.050144648023146,DecisionTreeClassifier,ADASYN,auto,118.55263015754826,32.87648754721373\n",
    "62.91031883147479,17.51287711552612,52.09739633558341,KNeighborsClassifier,ADASYN,auto,132.52059228258432,69.61027345110952\n",
    "94.64229621485785,0.0,28.2907425265188,LGBMClassifier,ADASYN,auto,122.93303874137666,28.2907425265188\n",
    "82.94919114182504,0.22075055187637968,59.72757955641272,GradientBoostingClassifier,ADASYN,auto,142.89752125011415,59.948330108289106\n",
    "74.79974870425632,5.518763796909492,66.04387656702025,AdaBoostClassifier,ADASYN,auto,146.36238906818605,71.56264036392975\n",
    "63.642610334537466,32.00883002207506,58.20877531340405,LogisticRegression,ADASYN,auto,153.86021567001657,90.2176053354791\n",
    "62.11716664049003,36.12950699043414,55.81002892960463,LinearDiscriminantAnalysis,ADASYN,auto,154.05670256052878,91.93953592003876\n",
    "66.86233705041622,27.740986019131714,58.57039537126326,RidgeClassifier,ADASYN,auto,153.1737184408112,86.31138139039498\n",
    "58.44392963719177,26.122148638704928,66.18852459016394,GaussianNB,ADASYN,auto,150.75460286606065,92.31067322886885\n",
    "66.73276268258206,19.793966151582048,64.99517839922855,SGDClassifier,ADASYN,auto,151.52190723339265,84.78914455081059\n",
    "100.0,0.0,0.0,QuadraticDiscriminantAnalysis,ADASYN,auto,100.0,0.0\n",
    "100.0,0.0,0.0,DummyClassifier,ADASYN,auto,100.0,0.0\n",
    "11.174807601696246,76.52685798381162,20.16634522661524,LGBMClassifier,NearMiss,all,107.86801081212312,96.69320321042686\n",
    "7.788204806031097,71.22884473877852,24.361137897782065,ExtraTreesClassifier,NearMiss,all,103.37818744259168,95.58998263656058\n",
    "8.683445892885189,71.22884473877852,24.493731918997106,RandomForestClassifier,NearMiss,all,104.40602255066081,95.72257665777563\n",
    "17.154861002041777,74.02501839587933,20.118129218900673,GradientBoostingClassifier,NearMiss,all,111.29800861682178,94.14314761477999\n",
    "15.963169467567143,73.65710080941868,21.335583413693346,AdaBoostClassifier,NearMiss,all,110.95585369067918,94.99268422311204\n",
    "20.137034710224597,71.00809418690214,21.96239151398264,LogisticRegression,NearMiss,all,113.10752041110939,92.97048570088478\n",
    "12.425396576095492,65.04782928623987,26.97685631629701,DecisionTreeClassifier,NearMiss,all,104.45008217863239,92.02468560253689\n",
    "29.566514842154863,62.76674025018396,26.458534233365476,LinearDiscriminantAnalysis,NearMiss,all,118.79178932570431,89.22527448354944\n",
    "30.734647400659654,67.91758646063282,20.527965284474444,RidgeClassifier,NearMiss,all,119.18019914576692,88.44555174510727\n",
    "27.613083084655255,54.81972038263429,31.0390549662488,KNeighborsClassifier,NearMiss,all,113.47185843353833,85.85877534888309\n",
    "20.03298256635778,82.33995584988962,6.159594985535198,SGDClassifier,NearMiss,all,108.53253340178262,88.49955083542483\n",
    "32.99827234176222,46.799116997792495,34.01639344262295,GaussianNB,NearMiss,all,113.81378278217767,80.81551044041544\n",
    "100.0,0.0,0.0,QuadraticDiscriminantAnalysis,NearMiss,all,100.0,0.0\n",
    "100.0,0.0,0.0,DummyClassifier,NearMiss,all,100.0,0.0\n",
    "11.174807601696246,76.52685798381162,20.16634522661524,LGBMClassifier,NearMiss,all,107.86801081212312,96.69320321042686\n",
    "7.788204806031097,71.22884473877852,24.361137897782065,ExtraTreesClassifier,NearMiss,all,103.37818744259168,95.58998263656058\n",
    "8.683445892885189,71.22884473877852,24.493731918997106,RandomForestClassifier,NearMiss,all,104.40602255066081,95.72257665777563\n",
    "17.154861002041777,74.02501839587933,20.118129218900673,GradientBoostingClassifier,NearMiss,all,111.29800861682178,94.14314761477999\n",
    "15.963169467567143,73.65710080941868,21.335583413693346,AdaBoostClassifier,NearMiss,all,110.95585369067918,94.99268422311204\n",
    "20.137034710224597,71.00809418690214,21.96239151398264,LogisticRegression,NearMiss,all,113.10752041110939,92.97048570088478\n",
    "12.425396576095492,65.04782928623987,26.97685631629701,DecisionTreeClassifier,NearMiss,all,104.45008217863239,92.02468560253689\n",
    "29.566514842154863,62.76674025018396,26.458534233365476,LinearDiscriminantAnalysis,NearMiss,all,118.79178932570431,89.22527448354944\n",
    "30.734647400659654,67.91758646063282,20.527965284474444,RidgeClassifier,NearMiss,all,119.18019914576692,88.44555174510727\n",
    "27.613083084655255,54.81972038263429,31.0390549662488,KNeighborsClassifier,NearMiss,all,113.47185843353833,85.85877534888309\n",
    "20.03298256635778,82.33995584988962,6.159594985535198,SGDClassifier,NearMiss,all,108.53253340178262,88.49955083542483\n",
    "32.99827234176222,46.799116997792495,34.01639344262295,GaussianNB,NearMiss,all,113.81378278217767,80.81551044041544\n",
    "100.0,0.0,0.0,QuadraticDiscriminantAnalysis,NearMiss,all,100.0,0.0\n",
    "100.0,0.0,0.0,DummyClassifier,NearMiss,all,100.0,0.0\n",
    "87.90246583948485,2.57542310522443,30.364030858244938,ExtraTreesClassifier,RandomOverSampler,all,120.84191980295422,32.93945396346937\n",
    "83.90136642060625,2.57542310522443,43.7801350048216,RandomForestClassifier,RandomOverSampler,all,130.25692453065227,46.35555811004603\n",
    "78.84403957907963,7.358351729212656,35.450819672131146,DecisionTreeClassifier,RandomOverSampler,all,121.65321098042344,42.809171401343804\n",
    "63.725066750431914,16.703458425312732,54.24300867888139,KNeighborsClassifier,RandomOverSampler,all,134.67153385462603,70.94646710419413\n",
    "62.32527092822365,28.550404709345106,65.92333654773384,LGBMClassifier,RandomOverSampler,all,156.7990121853026,94.47374125707894\n",
    "62.284042720276425,32.450331125827816,63.09064609450338,GradientBoostingClassifier,RandomOverSampler,all,157.82501994060763,95.54097722033119\n",
    "64.20213601382126,31.714495952906546,60.342333654773384,AdaBoostClassifier,RandomOverSampler,all,156.2589656215012,92.05682960767993\n",
    "64.4691377414795,31.42016188373804,59.36595949855352,LogisticRegression,RandomOverSampler,all,155.25525912377108,90.78612138229157\n",
    "62.88479660750747,35.246504782928625,56.231918997107044,LinearDiscriminantAnalysis,RandomOverSampler,all,154.36322038754312,91.47842378003567\n",
    "68.26998586461441,22.958057395143488,61.36692381870781,RidgeClassifier,RandomOverSampler,all,152.59496707846571,84.3249812138513\n",
    "67.10185330610963,9.271523178807946,75.20491803278688,SGDClassifier,RandomOverSampler,all,151.57829451770445,84.47644121159483\n",
    "69.37529448719962,17.58646063281825,60.92092574734812,GaussianNB,RandomOverSampler,all,147.882680867366,78.50738638016637\n",
    "100.0,0.0,0.0,QuadraticDiscriminantAnalysis,RandomOverSampler,all,100.0,0.0\n",
    "100.0,0.0,0.0,DummyClassifier,RandomOverSampler,all,100.0,0.0\n",
    "87.90246583948485,2.57542310522443,30.364030858244938,ExtraTreesClassifier,RandomOverSampler,auto,120.84191980295422,32.93945396346937\n",
    "83.90136642060625,2.57542310522443,43.7801350048216,RandomForestClassifier,RandomOverSampler,auto,130.25692453065227,46.35555811004603\n",
    "78.84403957907963,7.358351729212656,35.450819672131146,DecisionTreeClassifier,RandomOverSampler,auto,121.65321098042344,42.809171401343804\n",
    "63.725066750431914,16.703458425312732,54.24300867888139,KNeighborsClassifier,RandomOverSampler,auto,134.67153385462603,70.94646710419413\n",
    "62.32527092822365,28.550404709345106,65.92333654773384,LGBMClassifier,RandomOverSampler,auto,156.7990121853026,94.47374125707894\n",
    "62.284042720276425,32.450331125827816,63.09064609450338,GradientBoostingClassifier,RandomOverSampler,auto,157.82501994060763,95.54097722033119\n",
    "64.20213601382126,31.714495952906546,60.342333654773384,AdaBoostClassifier,RandomOverSampler,auto,156.2589656215012,92.05682960767993\n",
    "64.4691377414795,31.42016188373804,59.36595949855352,LogisticRegression,RandomOverSampler,auto,155.25525912377108,90.78612138229157\n",
    "62.88479660750747,35.246504782928625,56.231918997107044,LinearDiscriminantAnalysis,RandomOverSampler,auto,154.36322038754312,91.47842378003567\n",
    "68.26998586461441,22.958057395143488,61.36692381870781,RidgeClassifier,RandomOverSampler,auto,152.59496707846571,84.3249812138513\n",
    "67.10185330610963,9.271523178807946,75.20491803278688,SGDClassifier,RandomOverSampler,auto,151.57829451770445,84.47644121159483\n",
    "69.37529448719962,17.58646063281825,60.92092574734812,GaussianNB,RandomOverSampler,auto,147.882680867366,78.50738638016637\n",
    "100.0,0.0,0.0,QuadraticDiscriminantAnalysis,RandomOverSampler,auto,100.0,0.0\n",
    "100.0,0.0,0.0,DummyClassifier,RandomOverSampler,auto,100.0,0.0\n",
    "92.42578922569498,0.9565857247976454,26.12102217936355,ExtraTreesClassifier,SMOTE,all,119.50339712985618,27.077607904161194\n",
    "92.98924140097377,0.5886681383370125,25.891996142719382,RandomForestClassifier,SMOTE,all,119.46990568203016,26.48066428105639\n",
    "85.43466310664363,4.415011037527594,29.6648987463838,DecisionTreeClassifier,SMOTE,all,119.51457289055503,34.0799097839114\n",
    "64.23551122977854,17.880794701986755,51.88042430086789,KNeighborsClassifier,SMOTE,all,133.99673023263318,69.76121900285465\n",
    "93.54091408826764,0.0,32.73866923818708,LGBMClassifier,SMOTE,all,126.27958332645473,32.73866923818708\n",
    "83.08858174964662,0.44150110375275936,59.763741562198646,GradientBoostingClassifier,SMOTE,all,143.29382441559804,60.20524266595141\n",
    "76.77477618972829,3.3112582781456954,66.32111861137898,AdaBoostClassifier,SMOTE,all,146.40715307925296,69.63237688952468\n",
    "63.8330453902937,33.99558498896248,57.58196721311475,LogisticRegression,SMOTE,all,155.41059759237092,91.57755220207721\n",
    "62.14268886445736,37.38042678440029,54.68900675024108,LinearDiscriminantAnalysis,SMOTE,all,154.21212239909875,92.06943353464136\n",
    "67.3649285377729,26.490066225165563,59.18514946962391,RidgeClassifier,SMOTE,all,153.04014423256237,85.67521569478947\n",
    "58.481231349144025,30.31640912435614,61.620057859209254,GaussianNB,SMOTE,all,150.41769833270942,91.9364669835654\n",
    "75.378906863515,17.071376011773364,56.84667309546769,SGDClassifier,SMOTE,all,149.29695597075604,73.91804910724106\n",
    "100.0,0.0,0.0,QuadraticDiscriminantAnalysis,SMOTE,all,100.0,0.0\n",
    "100.0,0.0,0.0,DummyClassifier,SMOTE,all,100.0,0.0\n",
    "98.5452332338621,0.0,11.30665380906461,LGBMClassifier,TomekLinks,all,109.85188704292672,11.30665380906461\n",
    "98.40780587403802,0.0,12.704918032786885,GradientBoostingClassifier,TomekLinks,all,111.1127239068249,12.704918032786885\n",
    "98.00337678655568,0.0,14.103182256509161,AdaBoostClassifier,TomekLinks,all,112.10655904306483,14.103182256509161\n",
    "98.14080414637976,0.0,12.270973963355834,LogisticRegression,TomekLinks,all,110.4117781097356,12.270973963355834\n",
    "99.90380084812314,0.0,0.904050144648023,RidgeClassifier,TomekLinks,all,100.80785099277117,0.904050144648023\n",
    "100.0,0.0,0.0,QuadraticDiscriminantAnalysis,TomekLinks,all,100.0,0.0\n",
    "100.0,0.0,0.0,DummyClassifier,TomekLinks,all,100.0,0.0\n",
    "100.0,0.0,0.0,SGDClassifier,TomekLinks,all,100.0,0.0\n",
    "97.40262289932464,0.0,16.224686595949855,LinearDiscriminantAnalysis,TomekLinks,all,113.62730949527449,16.224686595949855\n",
    "96.39940317260877,0.22075055187637968,15.17598842815815,RandomForestClassifier,TomekLinks,all,111.79614215264331,15.396738980034531\n",
    "96.13436469294801,0.14716703458425312,15.838958534233367,KNeighborsClassifier,TomekLinks,all,112.12049026176562,15.986125568817618\n",
    "95.76134757342547,0.36791758646063283,15.814850530376084,ExtraTreesClassifier,TomekLinks,all,111.9441156902622,16.18276811683672\n",
    "88.02615046332653,3.237674760853569,26.711668273866923,DecisionTreeClassifier,TomekLinks,all,117.97549349804702,29.949343034720492\n",
    "84.24886131616147,1.177336276674025,50.01205400192864,GaussianNB,TomekLinks,all,135.43825159476413,51.189390278602666\n",
    "98.39995288204805,0.0,12.258919961427193,LGBMClassifier,Base,None,110.65887284347524,12.258919961427193\n",
    "98.08190670645516,0.0,14.163452266152362,GradientBoostingClassifier,Base,None,112.24535897260752,14.163452266152362\n",
    "97.80116224281451,0.0,15.537608486017357,AdaBoostClassifier,Base,None,113.33877072883188,15.537608486017357\n",
    "97.88950840270144,0.0,13.729508196721312,LogisticRegression,Base,None,111.61901659942275,13.729508196721312\n",
    "99.79582220826134,0.0,1.95274831243973,RidgeClassifier,Base,None,101.74857052070108,1.95274831243973\n",
    "100.0,0.0,0.0,QuadraticDiscriminantAnalysis,Base,None,100.0,0.0\n",
    "100.0,0.0,0.0,DummyClassifier,Base,None,100.0,0.0\n",
    "100.0,0.0,0.0,SGDClassifier,Base,None,100.0,0.0\n",
    "97.25930579550808,0.0,17.044358727097396,LinearDiscriminantAnalysis,Base,None,114.30366452260547,17.044358727097396\n",
    "95.9400031411968,0.14716703458425312,16.36933461909354,RandomForestClassifier,Base,None,112.45650479487459,16.516501653677793\n",
    "95.61410397361395,0.36791758646063283,17.369816779170684,KNeighborsClassifier,Base,None,113.35183833924528,17.73773436563132\n",
    "95.16255693419193,0.14716703458425312,17.514464802314368,ExtraTreesClassifier,Base,None,112.82418877109055,17.66163183689862\n",
    "84.00149206847809,2.7225901398086827,48.98746383799421,GaussianNB,Base,None,135.711546046281,51.71005397780289\n",
    "86.86783414480918,3.7527593818984544,27.603664416586305,DecisionTreeClassifier,Base,None,118.22425794329394,31.356423798484755"
   ]
  },
  {
   "cell_type": "code",
   "execution_count": null,
   "id": "c0df1298",
   "metadata": {},
   "outputs": [],
   "source": [
    "samplers = ['SMOTE','ADASYN']\n",
    "# samplers = ['RandomOverSampler', 'EditedNearestNeighbours','RepeatedEditedNearestNeighbours','AllKNN','NeighbourhoodCleaningRule','OneSidedSelection','TomekLinks', 'SMOTE','ADASYN']\n",
    "\n",
    "# under_samplers = ['RepeatedEditedNearestNeighbours',]\n",
    "# over_samplers = ['RandomOverSampler', 'SMOTE','ADASYN']\n",
    "\n",
    "# working_sampler = ['SMOTE']\n",
    "\n",
    "#samplers = ['TomekLinks','SMOTE','RandomOverSampler','NearMiss']\n",
    "\n",
    "for sampler in samplers:\n",
    "    strategies = ['auto']\n",
    "    for strategy in strategies:\n",
    "        sampled_data = Sampler(train_df, TARGET, sampler, strategy)\n",
    "        sampled_data.diabetes.value_counts()\n",
    "        s = setup(sampled_data, target = TARGET, session_id = 123,verbose=False)\n",
    "        best = compare_models(n_select=14,verbose=False)\n",
    "        for model in best:    \n",
    "\n",
    "            #print(f'\\nSampler: {sampler}, Strategy: {strategy}')\n",
    "            print_test_heat_map(model, sampler, strategy)\n",
    "            \n",
    "        # test_acc = best.score(test_features,  test_labels)\n",
    "\n",
    "\n",
    "        # #evaluate_model(best)\n",
    "        # plot_model(best, plot = 'auc')\n",
    "        # plot_model(best, plot = 'confusion_matrix', plot_kwargs = {'percent' : True})\n",
    "        # print_test_heat_map()\n",
    "        # plot_model(best, plot = 'feature')\n"
   ]
  },
  {
   "cell_type": "markdown",
   "id": "7b73142c",
   "metadata": {},
   "source": [
    "TomekLinks,LGBMClassifier,all,109.852,11.307\n",
    "TomekLinks,GradientBoostingClassifier,all,111.113,12.705\n",
    "TomekLinks,AdaBoostClassifier,all,112.107,14.103\n",
    "TomekLinks,LogisticRegression,all,110.422,12.283\n",
    "TomekLinks,RidgeClassifier,all,100.808,0.904\n",
    "TomekLinks,QuadraticDiscriminantAnalysis,all,100.000,0.000\n",
    "TomekLinks,DummyClassifier,all,100.000,0.000\n",
    "TomekLinks,SGDClassifier,all,100.000,0.000\n",
    "TomekLinks,LinearDiscriminantAnalysis,all,113.627,16.225\n",
    "TomekLinks,RandomForestClassifier,all,111.796,15.397\n",
    "TomekLinks,KNeighborsClassifier,all,112.120,15.986\n",
    "TomekLinks,ExtraTreesClassifier,all,111.944,16.183\n",
    "TomekLinks,DecisionTreeClassifier,all,117.975,29.949\n",
    "TomekLinks,GaussianNB,all,135.438,51.189\n",
    "SMOTE,ExtraTreesClassifier,all,119.503,27.078\n",
    "SMOTE,RandomForestClassifier,all,119.470,26.481\n",
    "SMOTE,DecisionTreeClassifier,all,119.515,34.080\n",
    "SMOTE,KNeighborsClassifier,all,133.997,69.761\n",
    "SMOTE,LGBMClassifier,all,126.280,32.739\n",
    "SMOTE,GradientBoostingClassifier,all,143.294,60.205\n",
    "SMOTE,AdaBoostClassifier,all,146.407,69.632\n",
    "SMOTE,LogisticRegression,all,155.449,91.614\n",
    "SMOTE,LinearDiscriminantAnalysis,all,154.212,92.069\n",
    "SMOTE,RidgeClassifier,all,153.040,85.675\n",
    "SMOTE,GaussianNB,all,150.418,91.936\n",
    "SMOTE,SGDClassifier,all,149.297,73.918\n",
    "SMOTE,QuadraticDiscriminantAnalysis,all,100.000,0.000\n",
    "SMOTE,DummyClassifier,all,100.000,0.000\n",
    "RandomOverSampler,ExtraTreesClassifier,all,120.842,32.939\n",
    "RandomOverSampler,RandomForestClassifier,all,130.257,46.356\n",
    "RandomOverSampler,DecisionTreeClassifier,all,121.653,42.809\n",
    "RandomOverSampler,KNeighborsClassifier,all,134.672,70.946\n",
    "RandomOverSampler,LGBMClassifier,all,156.799,94.474\n",
    "RandomOverSampler,GradientBoostingClassifier,all,157.825,95.541\n",
    "RandomOverSampler,AdaBoostClassifier,all,156.259,92.057\n",
    "RandomOverSampler,LogisticRegression,all,155.351,90.884\n",
    "RandomOverSampler,LinearDiscriminantAnalysis,all,154.363,91.478\n",
    "RandomOverSampler,RidgeClassifier,all,152.595,84.325\n",
    "RandomOverSampler,SGDClassifier,all,151.578,84.476\n",
    "RandomOverSampler,GaussianNB,all,147.883,78.507\n",
    "RandomOverSampler,QuadraticDiscriminantAnalysis,all,100.000,0.000\n",
    "RandomOverSampler,DummyClassifier,all,100.000,0.000\n",
    "NearMiss,LGBMClassifier,all,107.868,96.693\n",
    "NearMiss,ExtraTreesClassifier,all,103.376,95.590\n",
    "NearMiss,RandomForestClassifier,all,104.406,95.723\n",
    "NearMiss,GradientBoostingClassifier,all,111.298,94.143\n",
    "NearMiss,AdaBoostClassifier,all,110.956,94.993\n",
    "NearMiss,LogisticRegression,all,113.049,92.922\n",
    "NearMiss,DecisionTreeClassifier,all,104.450,92.025\n",
    "NearMiss,LinearDiscriminantAnalysis,all,118.792,89.225\n",
    "NearMiss,RidgeClassifier,all,119.180,88.446\n",
    "NearMiss,KNeighborsClassifier,all,113.472,85.859\n",
    "NearMiss,SGDClassifier,all,108.533,88.500\n",
    "NearMiss,GaussianNB,all,113.814,80.816\n",
    "NearMiss,QuadraticDiscriminantAnalysis,all,100.000,0.000\n",
    "NearMiss,DummyClassifier,all,100.000,0.000\n",
    "RandomOverSampler,ExtraTreesClassifier,auto,120.842,32.939\n",
    "RandomOverSampler,RandomForestClassifier,auto,130.257,46.356\n",
    "RandomOverSampler,DecisionTreeClassifier,auto,121.653,42.809\n",
    "RandomOverSampler,KNeighborsClassifier,auto,134.672,70.946\n",
    "RandomOverSampler,LGBMClassifier,auto,156.799,94.474\n",
    "RandomOverSampler,GradientBoostingClassifier,auto,157.825,95.541\n",
    "RandomOverSampler,AdaBoostClassifier,auto,156.259,92.057\n",
    "RandomOverSampler,LogisticRegression,auto,155.351,90.884\n",
    "RandomOverSampler,LinearDiscriminantAnalysis,auto,154.363,91.478\n",
    "RandomOverSampler,RidgeClassifier,auto,152.595,84.325\n",
    "RandomOverSampler,SGDClassifier,auto,151.578,84.476\n",
    "RandomOverSampler,GaussianNB,auto,147.883,78.507\n",
    "RandomOverSampler,QuadraticDiscriminantAnalysis,auto,100.000,0.000\n",
    "RandomOverSampler,DummyClassifier,auto,100.000,0.000\n",
    "RandomForestClassifier,AllKNN,auto,102.73105732810244,3.830476206695178\n",
    "ExtraTreesClassifier,AllKNN,auto,102.42930781476834,3.7702061970519765\n",
    "KNeighborsClassifier,AllKNN,auto,102.79987575252191,3.642109143443865\n",
    "GradientBoostingClassifier,AllKNN,auto,102.77590582407268,3.0978784956605594\n",
    "LGBMClassifier,AllKNN,auto,103.79888540311583,4.256322186530313\n",
    "AdaBoostClassifier,AllKNN,auto,102.95808842272088,3.3389585342333654\n",
    "RidgeClassifier,AllKNN,auto,100.0,0.0\n",
    "QuadraticDiscriminantAnalysis,AllKNN,auto,100.0,0.0\n",
    "DummyClassifier,AllKNN,auto,100.0,0.0\n",
    "LogisticRegression,AllKNN,auto,101.75010454036509,1.9660618200886548\n",
    "SGDClassifier,AllKNN,auto,100.09474328137536,0.10848601735776277\n",
    "LinearDiscriminantAnalysis,AllKNN,auto,111.2661147257761,13.319672131147541\n",
    "DecisionTreeClassifier,AllKNN,auto,110.31092974161871,17.19604046880577\n",
    "GaussianNB,AllKNN,auto,132.41211590536,46.65548012712848\n",
    "RandomForestClassifier,AllKNN,auto,102.73105732810244,3.830476206695178\n",
    "ExtraTreesClassifier,AllKNN,auto,102.42930781476834,3.7702061970519765\n",
    "KNeighborsClassifier,AllKNN,auto,102.79987575252191,3.642109143443865\n",
    "GradientBoostingClassifier,AllKNN,auto,102.77590582407268,3.0978784956605594\n",
    "LGBMClassifier,AllKNN,auto,103.79888540311583,4.256322186530313\n",
    "AdaBoostClassifier,AllKNN,auto,102.95808842272088,3.3389585342333654\n",
    "RidgeClassifier,AllKNN,auto,100.0,0.0\n",
    "QuadraticDiscriminantAnalysis,AllKNN,auto,100.0,0.0\n",
    "DummyClassifier,AllKNN,auto,100.0,0.0\n",
    "LogisticRegression,AllKNN,auto,101.75010454036509,1.9660618200886548\n",
    "SGDClassifier,AllKNN,auto,100.09474328137536,0.10848601735776277\n",
    "LinearDiscriminantAnalysis,AllKNN,auto,111.2661147257761,13.319672131147541\n",
    "DecisionTreeClassifier,AllKNN,auto,110.31092974161871,17.19604046880577\n",
    "GaussianNB,AllKNN,auto,132.41211590536,46.65548012712848\n",
    "ExtraTreesClassifier,SMOTE,auto,119.35053829999592,27.08966190608983\n",
    "RandomForestClassifier,SMOTE,auto,119.37430394398785,26.398805278996484\n",
    "DecisionTreeClassifier,SMOTE,auto,119.58443974774471,34.00056979329205\n",
    "KNeighborsClassifier,SMOTE,auto,133.85153991715774,69.57087398343697\n",
    "LGBMClassifier,SMOTE,auto,125.91517647876687,32.34088717454195\n",
    "GradientBoostingClassifier,SMOTE,auto,143.1386250630391,59.56512105801318\n",
    "AdaBoostClassifier,SMOTE,auto,147.91058443553914,73.11868872327275\n",
    "LogisticRegression,SMOTE,auto,154.92010532501956,90.9457060789068\n",
    "LinearDiscriminantAnalysis,SMOTE,auto,153.7499042307075,91.53653843834063\n",
    "RidgeClassifier,SMOTE,auto,153.31489420770313,85.86358275804078\n",
    "GaussianNB,SMOTE,auto,150.16552075782676,91.4899278569315\n",
    "SGDClassifier,SMOTE,auto,152.92505514173868,94.59303064040367\n",
    "QuadraticDiscriminantAnalysis,SMOTE,auto,100.0,0.0\n",
    "DummyClassifier,SMOTE,auto,100.0,0.0\n",
    "ExtraTreesClassifier,ADASYN,auto,118.23928912629312,25.78405118063583\n",
    "RandomForestClassifier,ADASYN,auto,118.3693811748641,25.311426093978284\n",
    "DecisionTreeClassifier,ADASYN,auto,119.26898880194202,33.63211115155721\n",
    "KNeighborsClassifier,ADASYN,auto,132.68336694531905,69.70040793793724\n",
    "LGBMClassifier,ADASYN,auto,123.20348419912885,28.700578592092572\n",
    "GradientBoostingClassifier,ADASYN,auto,143.2988719950276,60.50281419700656\n",
    "AdaBoostClassifier,ADASYN,auto,145.78613072514108,68.32029124029737\n",
    "LogisticRegression,ADASYN,auto,153.81145063441457,90.14528132390727\n",
    "LinearDiscriminantAnalysis,ADASYN,auto,154.12691534526903,92.01563844877147\n",
    "RidgeClassifier,ADASYN,auto,153.31122394979778,86.43318091540166\n",
    "GaussianNB,ADASYN,auto,150.96207517200153,92.6791318706037\n",
    "SGDClassifier,ADASYN,auto,148.08539275562035,77.71473153369479\n",
    "QuadraticDiscriminantAnalysis,ADASYN,auto,100.0,0.0\n",
    "DummyClassifier,ADASYN,auto,100.0,0.0"
   ]
  },
  {
   "cell_type": "code",
   "execution_count": null,
   "id": "f4117aa4",
   "metadata": {},
   "outputs": [],
   "source": [
    "cm_total"
   ]
  },
  {
   "cell_type": "code",
   "execution_count": null,
   "id": "c24355d3",
   "metadata": {},
   "outputs": [],
   "source": [
    "\n",
    "predictions = predict_model(best, data=test_features)\n",
    "cm = confusion_matrix(test_labels, predictions[\"prediction_label\"])\n",
    "cm_total = cm.sum(axis=1)\n",
    "result = [[0.0,0.0,0.0],[0.0,0.0,0.0],[0.0,0.0,0.0]]    \n",
    "for row in range(0,3):\n",
    "    for column in range(0,3):\n",
    "        result[row][column] = cm[row][column]/(cm_total[row])\n",
    "        \n",
    "sns.heatmap(result, annot=True, \n",
    "            fmt='.2%', cmap='Blues')"
   ]
  },
  {
   "cell_type": "code",
   "execution_count": null,
   "id": "08955e57",
   "metadata": {},
   "outputs": [],
   "source": []
  },
  {
   "cell_type": "code",
   "execution_count": null,
   "id": "758c1c06",
   "metadata": {},
   "outputs": [],
   "source": [
    "predictions = predict_model(best, data=test_features)\n",
    "predictions.head()"
   ]
  },
  {
   "cell_type": "code",
   "execution_count": null,
   "id": "bb96dddf",
   "metadata": {},
   "outputs": [],
   "source": [
    "plot_model(best, plot = 'confusion_matrix')"
   ]
  },
  {
   "cell_type": "code",
   "execution_count": null,
   "id": "661f42d2",
   "metadata": {},
   "outputs": [],
   "source": [
    "plot_model(best, plot = 'boundary')"
   ]
  },
  {
   "cell_type": "code",
   "execution_count": null,
   "id": "0df23484",
   "metadata": {},
   "outputs": [],
   "source": [
    "plot_model(best, plot = 'class_report')"
   ]
  },
  {
   "cell_type": "code",
   "execution_count": null,
   "id": "bbe994e8",
   "metadata": {},
   "outputs": [],
   "source": [
    "plot_model(best, plot = 'feature')"
   ]
  },
  {
   "cell_type": "code",
   "execution_count": null,
   "id": "8ad16891",
   "metadata": {},
   "outputs": [],
   "source": [
    "plot_model(best, plot = 'learning')"
   ]
  },
  {
   "attachments": {},
   "cell_type": "markdown",
   "id": "c00f6a4a",
   "metadata": {},
   "source": [
    "## Setup\n",
    "This function initializes the training environment and creates the transformation pipeline. Setup function must be called before executing any other function in PyCaret. It only has two required parameters i.e. `data` and `target`. All the other parameters are optional."
   ]
  },
  {
   "cell_type": "code",
   "execution_count": null,
   "id": "97f2c6c6",
   "metadata": {},
   "outputs": [],
   "source": [
    "# import pycaret classification and init setup\n",
    "\n"
   ]
  },
  {
   "attachments": {},
   "cell_type": "markdown",
   "id": "3c583864",
   "metadata": {},
   "source": [
    "Once the setup has been successfully executed it shows the information grid containing experiment level information. \n",
    "\n",
    "- **Session id:**  A pseudo-random number distributed as a seed in all functions for later reproducibility. If no `session_id` is passed, a random number is automatically generated that is distributed to all functions.<br/>\n",
    "<br/>\n",
    "- **Target type:**  Binary, Multiclass, or Regression. The Target type is automatically detected. <br/>\n",
    "<br/>\n",
    "- **Label Encoding:**  When the Target variable is of type string (i.e. 'Yes' or 'No') instead of 1 or 0, it automatically encodes the label into 1 and 0 and displays the mapping (0 : No, 1 : Yes) for reference. In this tutorial, no label encoding is required since the target variable is of numeric type. <br/>\n",
    "<br/>\n",
    "- **Original data shape:**  Shape of the original data prior to any transformations. <br/>\n",
    "<br/>\n",
    "- **Transformed train set shape :**  Shape of transformed train set <br/>\n",
    "<br/>\n",
    "- **Transformed test set shape :**  Shape of transformed test set <br/>\n",
    "<br/>\n",
    "- **Numeric features :**  The number of features considered as numerical. <br/>\n",
    "<br/>\n",
    "- **Categorical features :**  The number of features considered as categorical. <br/>"
   ]
  },
  {
   "attachments": {},
   "cell_type": "markdown",
   "id": "ada19398",
   "metadata": {},
   "source": [
    "PyCaret has two set of API's that you can work with. (1) Functional (as seen above) and (2) Object Oriented API.\n",
    "\n",
    "With Object Oriented API instead of executing functions directly you will import a class and execute methods of class."
   ]
  },
  {
   "attachments": {},
   "cell_type": "markdown",
   "id": "77213120",
   "metadata": {},
   "source": [
    "You can use any of the two method i.e. Functional or OOP and even switch back and forth between two set of API's. The choice of method will not impact the results and has been tested for consistency."
   ]
  },
  {
   "attachments": {},
   "cell_type": "markdown",
   "id": "f98dd435",
   "metadata": {},
   "source": [
    "## Compare Models\n",
    "\n",
    "This function trains and evaluates the performance of all the estimators available in the model library using cross-validation. The output of this function is a scoring grid with average cross-validated scores. Metrics evaluated during CV can be accessed using the `get_metrics` function. Custom metrics can be added or removed using `add_metric` and `remove_metric` function."
   ]
  },
  {
   "cell_type": "code",
   "execution_count": null,
   "id": "65a19df4",
   "metadata": {},
   "outputs": [],
   "source": [
    "# compare baseline models\n",
    "best = compare_models()"
   ]
  },
  {
   "cell_type": "code",
   "execution_count": null,
   "id": "e97813df",
   "metadata": {},
   "outputs": [],
   "source": []
  },
  {
   "attachments": {},
   "cell_type": "markdown",
   "id": "6a77ec0c",
   "metadata": {},
   "source": [
    "## Analyze Model"
   ]
  },
  {
   "attachments": {},
   "cell_type": "markdown",
   "id": "595ea108",
   "metadata": {},
   "source": [
    "You can use the `plot_model` function to analyzes the performance of a trained model on the test set. It may require re-training the model in certain cases."
   ]
  },
  {
   "cell_type": "code",
   "execution_count": null,
   "id": "f971fed6",
   "metadata": {},
   "outputs": [],
   "source": [
    "sampled_data.diabetes.value_counts()"
   ]
  },
  {
   "cell_type": "code",
   "execution_count": null,
   "id": "0ec7fad6",
   "metadata": {},
   "outputs": [],
   "source": [
    "# plot confusion matrix\n",
    "plot_model(best, plot = 'confusion_matrix')"
   ]
  },
  {
   "cell_type": "code",
   "execution_count": null,
   "id": "9fc4b9b1",
   "metadata": {},
   "outputs": [],
   "source": [
    "# plot AUC\n",
    "plot_model(best, plot = 'auc')"
   ]
  },
  {
   "cell_type": "code",
   "execution_count": null,
   "id": "bbc790e4",
   "metadata": {},
   "outputs": [],
   "source": [
    "# plot feature importance\n",
    "plot_model(best, plot = 'feature')"
   ]
  },
  {
   "cell_type": "code",
   "execution_count": null,
   "id": "da718984",
   "metadata": {},
   "outputs": [],
   "source": [
    "# check docstring to see available plots \n",
    "help(plot_model)"
   ]
  },
  {
   "attachments": {},
   "cell_type": "markdown",
   "id": "6bd66179",
   "metadata": {},
   "source": [
    "An alternate to `plot_model` function is `evaluate_model`. It can only be used in Notebook since it uses ipywidget."
   ]
  },
  {
   "cell_type": "code",
   "execution_count": null,
   "id": "c75f07a8",
   "metadata": {},
   "outputs": [],
   "source": [
    "evaluate_model(best)"
   ]
  },
  {
   "attachments": {},
   "cell_type": "markdown",
   "id": "954cbeff",
   "metadata": {},
   "source": [
    "## Prediction\n",
    "The `predict_model` function returns `prediction_label` and `prediction_score` (probability of the predicted class) as new columns in dataframe. When data is `None` (default), it uses the test set (created during the setup function) for scoring."
   ]
  },
  {
   "cell_type": "code",
   "execution_count": null,
   "id": "87c1a007",
   "metadata": {},
   "outputs": [],
   "source": [
    "# predict on test set\n",
    "holdout_pred = predict_model(best)"
   ]
  },
  {
   "cell_type": "code",
   "execution_count": null,
   "id": "5c01ac77",
   "metadata": {},
   "outputs": [],
   "source": [
    "# show predictions df\n",
    "holdout_pred.head()"
   ]
  },
  {
   "attachments": {},
   "cell_type": "markdown",
   "id": "d4baf825",
   "metadata": {},
   "source": [
    "The same function works for predicting the labels on unseen dataset. Let's create a copy of original data and drop the `Class variable`. We can then use the new data frame without labels for scoring."
   ]
  },
  {
   "cell_type": "code",
   "execution_count": null,
   "id": "fb1cb86d",
   "metadata": {},
   "outputs": [],
   "source": [
    "# copy data and drop Class variable\n",
    "\n",
    "new_data = data.copy()\n",
    "new_data.drop('diabetes', axis=1, inplace=True)\n",
    "new_data.head()"
   ]
  },
  {
   "cell_type": "code",
   "execution_count": null,
   "id": "c5803df9",
   "metadata": {},
   "outputs": [],
   "source": [
    "# predict model on new_data\n",
    "predictions = predict_model(best, data = new_data)\n",
    "predictions.head()"
   ]
  },
  {
   "attachments": {},
   "cell_type": "markdown",
   "id": "e4384735",
   "metadata": {},
   "source": [
    "## Save Model"
   ]
  },
  {
   "attachments": {},
   "cell_type": "markdown",
   "id": "cd63f053",
   "metadata": {},
   "source": [
    "Finally, you can save the entire pipeline on disk for later use, using pycaret's `save_model` function."
   ]
  },
  {
   "cell_type": "code",
   "execution_count": null,
   "id": "4181de41",
   "metadata": {},
   "outputs": [],
   "source": [
    "# save pipeline\n",
    "save_model(best, 'my_first_pipeline')"
   ]
  },
  {
   "cell_type": "code",
   "execution_count": null,
   "id": "40ed5152",
   "metadata": {},
   "outputs": [],
   "source": [
    "# load pipeline\n",
    "loaded_best_pipeline = load_model('my_first_pipeline')\n",
    "loaded_best_pipeline"
   ]
  },
  {
   "cell_type": "code",
   "execution_count": null,
   "id": "837cebfa",
   "metadata": {},
   "outputs": [],
   "source": [
    "# check all the available models\n",
    "models()"
   ]
  },
  {
   "cell_type": "code",
   "execution_count": null,
   "id": "16641cab",
   "metadata": {},
   "outputs": [],
   "source": [
    "# train logistic regression with default fold=10\n",
    "lr = create_model('lr')"
   ]
  },
  {
   "attachments": {},
   "cell_type": "markdown",
   "id": "074b4572",
   "metadata": {},
   "source": [
    "The function above has return trained model object as an output. The scoring grid is only displayed and not returned. If you need access to the scoring grid you can use `pull` function to access the dataframe."
   ]
  },
  {
   "cell_type": "code",
   "execution_count": null,
   "id": "fe277e1b",
   "metadata": {},
   "outputs": [],
   "source": [
    "lr_results = pull()\n",
    "print(type(lr_results))\n",
    "lr_results"
   ]
  },
  {
   "cell_type": "code",
   "execution_count": null,
   "id": "148a74c4",
   "metadata": {},
   "outputs": [],
   "source": [
    "# train logistic regression with fold=3\n",
    "lr = create_model('lr', fold=3)"
   ]
  },
  {
   "cell_type": "code",
   "execution_count": null,
   "id": "5a8906a8",
   "metadata": {},
   "outputs": [],
   "source": [
    "# train logistic regression with specific model parameters\n",
    "create_model('lr', C = 0.5, l1_ratio = 0.15)"
   ]
  },
  {
   "cell_type": "code",
   "execution_count": null,
   "id": "b85af29b",
   "metadata": {},
   "outputs": [],
   "source": [
    "# train lr and return train score as well alongwith CV\n",
    "create_model('lr', return_train_score=True)"
   ]
  },
  {
   "attachments": {},
   "cell_type": "markdown",
   "id": "08634e9e",
   "metadata": {},
   "source": [
    "Some other parameters that you might find very useful in `create_model` are:\n",
    "\n",
    "- cross_validation\n",
    "- engine\n",
    "- fit_kwargs\n",
    "- groups\n",
    "\n",
    "You can check the docstring of the function for more info."
   ]
  },
  {
   "cell_type": "code",
   "execution_count": null,
   "id": "3fb32c74",
   "metadata": {},
   "outputs": [],
   "source": [
    "# help(create_model)"
   ]
  },
  {
   "attachments": {},
   "cell_type": "markdown",
   "id": "d5378836",
   "metadata": {},
   "source": [
    "## ✅ Tune Model\n",
    "\n",
    "This function tunes the hyperparameters of the model. The output of this function is a scoring grid with cross-validated scores by fold. The best model is selected based on the metric defined in optimize parameter. Metrics evaluated during cross-validation can be accessed using the `get_metrics` function. Custom metrics can be added or removed using `add_metric` and `remove_metric` function."
   ]
  },
  {
   "cell_type": "code",
   "execution_count": null,
   "id": "402597f2",
   "metadata": {},
   "outputs": [],
   "source": [
    "# train a dt model with default params\n",
    "dt = create_model('dt')"
   ]
  },
  {
   "cell_type": "code",
   "execution_count": null,
   "id": "90dc451d",
   "metadata": {},
   "outputs": [],
   "source": [
    "# tune hyperparameters of dt\n",
    "tuned_dt = tune_model(dt)"
   ]
  },
  {
   "attachments": {},
   "cell_type": "markdown",
   "id": "805b66b9",
   "metadata": {},
   "source": [
    "Metric to optimize can be defined in `optimize` parameter (default = 'Accuracy'). Also, a custom tuned grid can be passed with `custom_grid` parameter. "
   ]
  },
  {
   "cell_type": "code",
   "execution_count": null,
   "id": "cca8e640",
   "metadata": {},
   "outputs": [],
   "source": [
    "dt"
   ]
  },
  {
   "cell_type": "code",
   "execution_count": null,
   "id": "31e050ff",
   "metadata": {},
   "outputs": [],
   "source": [
    "# define tuning grid\n",
    "dt_grid = {'max_depth' : [None, 2, 4, 6, 8, 10, 12]}\n",
    "\n",
    "# tune model with custom grid and metric = F1\n",
    "tuned_dt = tune_model(dt, custom_grid = dt_grid, optimize = 'F1')"
   ]
  },
  {
   "cell_type": "code",
   "execution_count": null,
   "id": "6cca514b",
   "metadata": {},
   "outputs": [],
   "source": [
    "# to access the tuner object you can set return_tuner = True\n",
    "tuned_dt, tuner = tune_model(dt, return_tuner=True)"
   ]
  },
  {
   "cell_type": "code",
   "execution_count": null,
   "id": "80cbb4a6",
   "metadata": {},
   "outputs": [],
   "source": [
    "# model object\n",
    "tuned_dt"
   ]
  },
  {
   "cell_type": "code",
   "execution_count": null,
   "id": "7d5e49ca",
   "metadata": {},
   "outputs": [],
   "source": [
    "# tuner object\n",
    "tuner"
   ]
  },
  {
   "attachments": {},
   "cell_type": "markdown",
   "id": "0a33c70b",
   "metadata": {},
   "source": [
    "The default search algorithm is `RandomizedSearchCV` from `sklearn`. This can be changed by using `search_library` and `search_algorithm` parameter."
   ]
  },
  {
   "cell_type": "code",
   "execution_count": null,
   "id": "31e33547",
   "metadata": {},
   "outputs": [],
   "source": [
    "# tune dt using optuna\n",
    "tuned_dt = tune_model(dt, search_library = 'optuna')"
   ]
  },
  {
   "attachments": {},
   "cell_type": "markdown",
   "id": "a1e2875b",
   "metadata": {},
   "source": [
    "For more details on all available `search_library` and `search_algorithm` please check the docstring. Some other parameters that you might find very useful in `tune_model` are:\n",
    "\n",
    "- choose_better\n",
    "- n_iter\n",
    "- early_stopping\n",
    "- groups\n",
    "\n",
    "You can check the docstring of the function for more info."
   ]
  },
  {
   "cell_type": "code",
   "execution_count": null,
   "id": "94f9c86e",
   "metadata": {},
   "outputs": [],
   "source": [
    "# help(tune_model)"
   ]
  },
  {
   "attachments": {},
   "cell_type": "markdown",
   "id": "2ca8ee07",
   "metadata": {},
   "source": [
    "## ✅ Ensemble Model"
   ]
  },
  {
   "attachments": {},
   "cell_type": "markdown",
   "id": "ce321d4c",
   "metadata": {},
   "source": [
    "This function ensembles a given estimator. The output of this function is a scoring grid with CV scores by fold. Metrics evaluated during CV can be accessed using the `get_metrics` function. Custom metrics can be added or removed using `add_metric` and `remove_metric` function."
   ]
  },
  {
   "cell_type": "code",
   "execution_count": null,
   "id": "c8ee936d",
   "metadata": {},
   "outputs": [],
   "source": [
    "# ensemble with bagging\n",
    "ensemble_model(dt, method = 'Bagging')"
   ]
  },
  {
   "cell_type": "code",
   "execution_count": null,
   "id": "79279394",
   "metadata": {},
   "outputs": [],
   "source": [
    "# ensemble with boosting\n",
    "ensemble_model(dt, method = 'Boosting')"
   ]
  },
  {
   "attachments": {},
   "cell_type": "markdown",
   "id": "d0fa1ce2",
   "metadata": {},
   "source": [
    "Some other parameters that you might find very useful in `ensemble_model` are:\n",
    "\n",
    "- choose_better\n",
    "- n_estimators\n",
    "- groups\n",
    "- fit_kwargs\n",
    "- probability_threshold\n",
    "- return_train_score\n",
    "\n",
    "You can check the docstring of the function for more info."
   ]
  },
  {
   "cell_type": "code",
   "execution_count": null,
   "id": "78130ed1",
   "metadata": {},
   "outputs": [],
   "source": [
    "# help(ensemble_model)"
   ]
  },
  {
   "attachments": {},
   "cell_type": "markdown",
   "id": "ea8a9a4e",
   "metadata": {},
   "source": [
    "## ✅ Blend Models"
   ]
  },
  {
   "cell_type": "code",
   "execution_count": null,
   "id": "cc5e89c0",
   "metadata": {},
   "outputs": [],
   "source": [
    "best_recall_models_top3 = compare_models(sort = 'Recall', n_select = 3)"
   ]
  },
  {
   "cell_type": "code",
   "execution_count": null,
   "id": "04f65f2f",
   "metadata": {},
   "outputs": [],
   "source": [
    "# blend top 3 models\n",
    "blend_models(best_recall_models_top3)"
   ]
  },
  {
   "attachments": {},
   "cell_type": "markdown",
   "id": "9e788c9c",
   "metadata": {},
   "source": [
    "Some other parameters that you might find very useful in `blend_models` are:\n",
    "\n",
    "- choose_better\n",
    "- method\n",
    "- weights\n",
    "- fit_kwargs\n",
    "- probability_threshold\n",
    "- return_train_score\n",
    "\n",
    "You can check the docstring of the function for more info."
   ]
  },
  {
   "cell_type": "code",
   "execution_count": null,
   "id": "99b549a6",
   "metadata": {},
   "outputs": [],
   "source": [
    "# help(blend_models)"
   ]
  },
  {
   "attachments": {},
   "cell_type": "markdown",
   "id": "e76969b0",
   "metadata": {},
   "source": [
    "## ✅ Stack Models"
   ]
  },
  {
   "attachments": {},
   "cell_type": "markdown",
   "id": "55909804",
   "metadata": {},
   "source": [
    "This function trains a meta-model over select estimators passed in the estimator_list parameter. The output of this function is a scoring grid with CV scores by fold. Metrics evaluated during CV can be accessed using the `get_metrics` function. Custom metrics can be added or removed using `add_metric` and `remove_metric` function."
   ]
  },
  {
   "cell_type": "code",
   "execution_count": null,
   "id": "201c681e",
   "metadata": {},
   "outputs": [],
   "source": [
    "# stack models\n",
    "stack_models(best_recall_models_top3)"
   ]
  },
  {
   "attachments": {},
   "cell_type": "markdown",
   "id": "af78cda8",
   "metadata": {},
   "source": [
    "Some other parameters that you might find very useful in `stack_models` are:\n",
    "\n",
    "- choose_better\n",
    "- meta_model\n",
    "- method\n",
    "- restack\n",
    "- probability_threshold\n",
    "- return_train_score\n",
    "\n",
    "You can check the docstring of the function for more info."
   ]
  },
  {
   "cell_type": "code",
   "execution_count": null,
   "id": "3305e597",
   "metadata": {},
   "outputs": [],
   "source": [
    "# help(stack_models)"
   ]
  },
  {
   "attachments": {},
   "cell_type": "markdown",
   "id": "279a3127",
   "metadata": {},
   "source": [
    "## ✅ Plot Model"
   ]
  },
  {
   "attachments": {},
   "cell_type": "markdown",
   "id": "862bd3e9",
   "metadata": {},
   "source": [
    "This function analyzes the performance of a trained model on the hold-out set. It may require re-training the model in certain cases."
   ]
  },
  {
   "cell_type": "code",
   "execution_count": null,
   "id": "9c8da9b4",
   "metadata": {},
   "outputs": [],
   "source": [
    "# plot class report\n",
    "plot_model(best, plot = 'class_report')"
   ]
  },
  {
   "cell_type": "code",
   "execution_count": null,
   "id": "952b6f24",
   "metadata": {},
   "outputs": [],
   "source": [
    "# to control the scale of plot\n",
    "plot_model(best, plot = 'class_report', scale = 2)"
   ]
  },
  {
   "cell_type": "code",
   "execution_count": null,
   "id": "54389270",
   "metadata": {},
   "outputs": [],
   "source": [
    "# to save the plot\n",
    "plot_model(best, plot = 'class_report', save=True)"
   ]
  },
  {
   "attachments": {},
   "cell_type": "markdown",
   "id": "2fef279d",
   "metadata": {},
   "source": [
    "Some other parameters that you might find very useful in `plot_model` are:\n",
    "\n",
    "- fit_kwargs\n",
    "- plot_kwargs\n",
    "- groups\n",
    "- display_format\n",
    "\n",
    "You can check the docstring of the function for more info."
   ]
  },
  {
   "cell_type": "code",
   "execution_count": null,
   "id": "54b09b8e",
   "metadata": {},
   "outputs": [],
   "source": [
    "# help(plot_model)"
   ]
  },
  {
   "attachments": {},
   "cell_type": "markdown",
   "id": "b724ca46",
   "metadata": {},
   "source": [
    "## ✅ Interpret Model"
   ]
  },
  {
   "attachments": {},
   "cell_type": "markdown",
   "id": "52f8fb33",
   "metadata": {},
   "source": [
    "This function analyzes the predictions generated from a trained model. Most plots in this function are implemented based on the SHAP (Shapley Additive exPlanations). For more info on this, please see https://shap.readthedocs.io/en/latest/"
   ]
  },
  {
   "cell_type": "code",
   "execution_count": null,
   "id": "6b6891b7",
   "metadata": {},
   "outputs": [],
   "source": [
    "# train lightgbm model\n",
    "lightgbm = create_model('lightgbm')"
   ]
  },
  {
   "cell_type": "code",
   "execution_count": null,
   "id": "3198b571",
   "metadata": {},
   "outputs": [],
   "source": [
    "# interpret summary model\n",
    "interpret_model(lightgbm, plot = 'summary')"
   ]
  },
  {
   "cell_type": "code",
   "execution_count": null,
   "id": "824bafdc",
   "metadata": {},
   "outputs": [],
   "source": [
    "# reason plot for test set observation 1\n",
    "interpret_model(lightgbm, plot = 'reason', observation = 1)"
   ]
  },
  {
   "attachments": {},
   "cell_type": "markdown",
   "id": "ca7ce2b4",
   "metadata": {},
   "source": [
    "Some other parameters that you might find very useful in `interpret_model` are:\n",
    "\n",
    "- plot\n",
    "- feature\n",
    "- use_train_data\n",
    "- X_new_sample\n",
    "- y_new_sample\n",
    "- save\n",
    "\n",
    "You can check the docstring of the function for more info."
   ]
  },
  {
   "cell_type": "code",
   "execution_count": null,
   "id": "42595030",
   "metadata": {},
   "outputs": [],
   "source": [
    "# help(interpret_model)"
   ]
  },
  {
   "attachments": {},
   "cell_type": "markdown",
   "id": "9f57d0c8",
   "metadata": {},
   "source": [
    "## ✅ Get Leaderboard"
   ]
  },
  {
   "attachments": {},
   "cell_type": "markdown",
   "id": "ec63b67a",
   "metadata": {},
   "source": [
    "This function returns the leaderboard of all models trained in the current setup."
   ]
  },
  {
   "cell_type": "code",
   "execution_count": null,
   "id": "307a6e3c",
   "metadata": {},
   "outputs": [],
   "source": [
    "# get leaderboard\n",
    "lb = get_leaderboard()\n",
    "lb"
   ]
  },
  {
   "cell_type": "code",
   "execution_count": null,
   "id": "f8a8b060",
   "metadata": {},
   "outputs": [],
   "source": [
    "# select the best model based on F1\n",
    "lb.sort_values(by='F1', ascending=False)['Model'].iloc[0]"
   ]
  },
  {
   "attachments": {},
   "cell_type": "markdown",
   "id": "9ecf0bfa",
   "metadata": {},
   "source": [
    "Some other parameters that you might find very useful in `get_leaderboard` are:\n",
    "\n",
    "- finalize_models\n",
    "- fit_kwargs\n",
    "- model_only\n",
    "- groups\n",
    "\n",
    "You can check the docstring of the function for more info."
   ]
  },
  {
   "cell_type": "code",
   "execution_count": null,
   "id": "dc76f0a5",
   "metadata": {},
   "outputs": [],
   "source": [
    "# help(get_leaderboard)"
   ]
  },
  {
   "attachments": {},
   "cell_type": "markdown",
   "id": "94669c72",
   "metadata": {},
   "source": [
    "## ✅ AutoML\n",
    "This function returns the best model out of all trained models in the current setup based on the optimize parameter. Metrics evaluated can be accessed using the `get_metrics` function."
   ]
  },
  {
   "cell_type": "code",
   "execution_count": null,
   "id": "01532054",
   "metadata": {},
   "outputs": [],
   "source": [
    "automl()"
   ]
  },
  {
   "attachments": {},
   "cell_type": "markdown",
   "id": "726b2986",
   "metadata": {},
   "source": [
    "## ✅ Dashboard\n",
    "The dashboard function generates the interactive dashboard for a trained model. The dashboard is implemented using `ExplainerDashboard`. For more information check out [Explainer Dashboard.](explainerdashboard.readthedocs.io)"
   ]
  },
  {
   "cell_type": "code",
   "execution_count": null,
   "id": "ca75507d",
   "metadata": {},
   "outputs": [],
   "source": [
    "# dashboard function\n",
    "dashboard(dt, display_format ='inline')"
   ]
  },
  {
   "attachments": {},
   "cell_type": "markdown",
   "id": "58fd3e5a",
   "metadata": {},
   "source": [
    "## ✅Create App\n",
    "This function creates a basic gradio app for inference."
   ]
  },
  {
   "cell_type": "code",
   "execution_count": null,
   "id": "5cf989d3",
   "metadata": {},
   "outputs": [],
   "source": [
    "# create gradio app\n",
    "create_app(best)"
   ]
  },
  {
   "attachments": {},
   "cell_type": "markdown",
   "id": "a2d8e21d",
   "metadata": {},
   "source": [
    "## ✅ Create API\n",
    "This function takes an input model and creates a POST API for inference."
   ]
  },
  {
   "cell_type": "code",
   "execution_count": null,
   "id": "978413c9",
   "metadata": {},
   "outputs": [],
   "source": [
    "# create api\n",
    "create_api(best, api_name = 'my_first_api')"
   ]
  },
  {
   "cell_type": "code",
   "execution_count": null,
   "id": "68e539aa",
   "metadata": {},
   "outputs": [],
   "source": [
    "# !python my_first_api.py"
   ]
  },
  {
   "cell_type": "code",
   "execution_count": null,
   "id": "a3de3327",
   "metadata": {},
   "outputs": [],
   "source": [
    "# check out the .py file created with this magic command\n",
    "# %load my_first_api.py"
   ]
  },
  {
   "attachments": {},
   "cell_type": "markdown",
   "id": "1023f7df",
   "metadata": {},
   "source": [
    "## ✅ Create Docker\n",
    "This function creates a `Dockerfile` and `requirements.txt` for productionalizing API end-point."
   ]
  },
  {
   "cell_type": "code",
   "execution_count": null,
   "id": "452ced14",
   "metadata": {},
   "outputs": [],
   "source": [
    "create_docker('my_first_api')"
   ]
  },
  {
   "cell_type": "code",
   "execution_count": null,
   "id": "301e1fa5",
   "metadata": {},
   "outputs": [],
   "source": [
    "# check out the DockerFile file created with this magic command\n",
    "# %load DockerFile"
   ]
  },
  {
   "cell_type": "code",
   "execution_count": null,
   "id": "ca1e9ef7",
   "metadata": {},
   "outputs": [],
   "source": [
    "# check out the requirements file created with this magic command\n",
    "# %load requirements.txt"
   ]
  },
  {
   "attachments": {},
   "cell_type": "markdown",
   "id": "e27c212b",
   "metadata": {},
   "source": [
    "## ✅ Finalize Model\n",
    "This function trains a given model on the entire dataset including the hold-out set."
   ]
  },
  {
   "cell_type": "code",
   "execution_count": null,
   "id": "65225684",
   "metadata": {},
   "outputs": [],
   "source": [
    "final_best = finalize_model(best)"
   ]
  },
  {
   "cell_type": "code",
   "execution_count": null,
   "id": "80d17fec",
   "metadata": {},
   "outputs": [],
   "source": [
    "final_best"
   ]
  },
  {
   "attachments": {},
   "cell_type": "markdown",
   "id": "b4693f88",
   "metadata": {},
   "source": [
    "## ✅ Convert Model\n",
    "This function transpiles the trained machine learning model's decision function in different programming languages such as Python, C, Java, Go, C#, etc. It is very useful if you want to deploy models into environments where you can't install your normal Python stack to support model inference."
   ]
  },
  {
   "cell_type": "code",
   "execution_count": null,
   "id": "dbe0e9fe",
   "metadata": {},
   "outputs": [],
   "source": [
    "# transpiles learned function to java\n",
    "print(convert_model(dt, language = 'java'))"
   ]
  },
  {
   "attachments": {},
   "cell_type": "markdown",
   "id": "ed00202c",
   "metadata": {},
   "source": [
    "## ✅ Deploy Model\n",
    "This function deploys the entire ML pipeline on the cloud.\n",
    "\n",
    "**AWS:**  When deploying model on AWS S3, environment variables must be configured using the command-line interface. To configure AWS environment variables, type `aws configure` in terminal. The following information is required which can be generated using the Identity and Access Management (IAM) portal of your amazon console account:\n",
    "\n",
    "- AWS Access Key ID\n",
    "- AWS Secret Key Access\n",
    "- Default Region Name (can be seen under Global settings on your AWS console)\n",
    "- Default output format (must be left blank)\n",
    "\n",
    "**GCP:** To deploy a model on Google Cloud Platform ('gcp'), the project must be created using the command-line or GCP console. Once the project is created, you must create a service account and download the service account key as a JSON file to set environment variables in your local environment. Learn more about it: https://cloud.google.com/docs/authentication/production\n",
    "\n",
    "**Azure:** To deploy a model on Microsoft Azure ('azure'), environment variables for the connection string must be set in your local environment. Go to settings of storage account on Azure portal to access the connection string required.\n",
    "AZURE_STORAGE_CONNECTION_STRING (required as environment variable)\n",
    "Learn more about it: https://docs.microsoft.com/en-us/azure/storage/blobs/storage-quickstart-blobs-python?toc=%2Fpython%2Fazure%2FTOC.json"
   ]
  },
  {
   "cell_type": "code",
   "execution_count": null,
   "id": "40b20a18",
   "metadata": {},
   "outputs": [],
   "source": [
    "# deploy model on aws s3\n",
    "# deploy_model(best, model_name = 'my_first_platform_on_aws',\n",
    "#             platform = 'aws', authentication = {'bucket' : 'pycaret-test'})"
   ]
  },
  {
   "cell_type": "code",
   "execution_count": null,
   "id": "9e236516",
   "metadata": {},
   "outputs": [],
   "source": [
    "# load model from aws s3\n",
    "# loaded_from_aws = load_model(model_name = 'my_first_platform_on_aws', platform = 'aws',\n",
    "#                              authentication = {'bucket' : 'pycaret-test'})\n",
    "\n",
    "# loaded_from_aws"
   ]
  },
  {
   "attachments": {},
   "cell_type": "markdown",
   "id": "e169ae86",
   "metadata": {},
   "source": [
    "## ✅ Save / Load Model\n",
    "This function saves the transformation pipeline and a trained model object into the current working directory as a pickle file for later use."
   ]
  },
  {
   "cell_type": "code",
   "execution_count": null,
   "id": "bc5cf24a",
   "metadata": {},
   "outputs": [],
   "source": [
    "# save model\n",
    "save_model(best, 'my_first_model')"
   ]
  },
  {
   "cell_type": "code",
   "execution_count": null,
   "id": "e8478d34",
   "metadata": {},
   "outputs": [],
   "source": [
    "# load model\n",
    "loaded_from_disk = load_model('my_first_model')\n",
    "loaded_from_disk"
   ]
  },
  {
   "attachments": {},
   "cell_type": "markdown",
   "id": "de5eee8c",
   "metadata": {},
   "source": [
    "## ✅ Save / Load Experiment\n",
    "This function saves all the experiment variables on disk, allowing to later resume without rerunning the setup function."
   ]
  },
  {
   "cell_type": "code",
   "execution_count": null,
   "id": "6a3c61b6",
   "metadata": {},
   "outputs": [],
   "source": [
    "# save experiment\n",
    "save_experiment('my_experiment')"
   ]
  },
  {
   "cell_type": "code",
   "execution_count": null,
   "id": "83252c09",
   "metadata": {},
   "outputs": [],
   "source": [
    "# load experiment from disk\n",
    "exp_from_disk = load_experiment('my_experiment', data=data)"
   ]
  }
 ],
 "metadata": {
  "kernelspec": {
   "display_name": "clean",
   "language": "python",
   "name": "python3"
  },
  "language_info": {
   "codemirror_mode": {
    "name": "ipython",
    "version": 3
   },
   "file_extension": ".py",
   "mimetype": "text/x-python",
   "name": "python",
   "nbconvert_exporter": "python",
   "pygments_lexer": "ipython3",
   "version": "3.8.18"
  }
 },
 "nbformat": 4,
 "nbformat_minor": 5
}
