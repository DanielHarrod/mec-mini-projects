{
 "cells": [
  {
   "cell_type": "markdown",
   "metadata": {},
   "source": [
    "# Deploy and test with GCP\n",
    "Get up and running fast.\n",
    "\n",
    "## GCP setup\n",
    "\n",
    "```\n",
    "gcloud auth login\n",
    "\n",
    "gcloud config set project $gcp_project_id\n",
    "\n",
    "gcloud auth configure-docker us-central1-docker.pkg.dev\n",
    "\n",
    "docker tag deploy-fastapi-capstone us-central1-docker.pkg.dev/$gcp_project_id/deploy-fastapi-capstone-repository/deploy-fastapi-capstone:1.0\n",
    "\n",
    "docker push us-central1-docker.pkg.dev/$gcp_project_id/deploy-fastapi-capstone-repository/deploy-fastapi-capstone:1.0\n",
    "```\n",
    "\n",
    "## Simple example\n",
    "copied from ..quick-start.ipynb replaced localhost with GCP host.\n"
   ]
  },
  {
   "cell_type": "code",
   "execution_count": 1,
   "metadata": {},
   "outputs": [],
   "source": [
    "import requests"
   ]
  },
  {
   "cell_type": "markdown",
   "metadata": {},
   "source": [
    "Show result or print error"
   ]
  },
  {
   "cell_type": "code",
   "execution_count": 2,
   "metadata": {},
   "outputs": [],
   "source": [
    "def ShowResult(response):\n",
    "    if 'error' in response.text:\n",
    "        print(response.json()['detail'][0]['msg'])\n",
    "    else:\n",
    "        print(response.json())"
   ]
  },
  {
   "cell_type": "markdown",
   "metadata": {},
   "source": [
    "Simple example"
   ]
  },
  {
   "cell_type": "code",
   "execution_count": 3,
   "metadata": {},
   "outputs": [],
   "source": [
    "url = 'https://no_problem_to_share_the_gcp_address_but_this_repo_is_public/predict'\n",
    "\n",
    "headers = {\n",
    "    'content-type':'application/json',\n",
    "    'accept': 'application/json'\n",
    "}\n"
   ]
  },
  {
   "cell_type": "markdown",
   "metadata": {},
   "source": [
    "Simple Positive example"
   ]
  },
  {
   "cell_type": "code",
   "execution_count": 4,
   "metadata": {},
   "outputs": [
    {
     "name": "stdout",
     "output_type": "stream",
     "text": [
      "{'data': [1.0]}\n"
     ]
    }
   ],
   "source": [
    "payload = '{\\\"data\\\":[[0,1,1,0,1,0,0,0,4,2,1,1,0,5,2,5,0,1,0,1]]}'\n",
    "\n",
    "response = requests.request(\"POST\", url, data=payload, headers=headers)\n",
    "\n",
    "ShowResult(response)"
   ]
  },
  {
   "cell_type": "markdown",
   "metadata": {},
   "source": [
    "Simple Negative example"
   ]
  },
  {
   "cell_type": "code",
   "execution_count": 5,
   "metadata": {},
   "outputs": [
    {
     "name": "stdout",
     "output_type": "stream",
     "text": [
      "{'data': [0.0]}\n"
     ]
    }
   ],
   "source": [
    "payload = '{\\\"data\\\":[[1,1,1,0,1,0,0,0,4,2,1,1,0,5,2,5,0,1,0,1]]}'\n",
    "\n",
    "response = requests.request(\"POST\", url, data=payload, headers=headers)\n",
    "\n",
    "ShowResult(response)"
   ]
  },
  {
   "cell_type": "markdown",
   "metadata": {},
   "source": [
    "Detailed example"
   ]
  },
  {
   "cell_type": "code",
   "execution_count": 6,
   "metadata": {},
   "outputs": [
    {
     "name": "stdout",
     "output_type": "stream",
     "text": [
      "{'data': [0.0]}\n"
     ]
    }
   ],
   "source": [
    "# BMI[0],  0=Overweight, 1=Normal, 2=Obese, 3=Under\n",
    "bmi = 0\n",
    "\n",
    "# Smoker[1] - 0=No, 1=Some, 2=Current, 3=Former\n",
    "smoker = 1\n",
    "\n",
    "# Stroke[2] -  0=No, 1=Yes\n",
    "stroke = 0\n",
    "\n",
    "# Asthma[3] options are 0=Never, 1=Current, 2=Former\n",
    "asthma = 2\n",
    "\n",
    "# Physical Activity[4] options are 0=No, 1=Yes\n",
    "physical_activity = 0\n",
    "\n",
    "#Heavy Drinking[5] options are 0=Yes, 1=No\n",
    "heavy_drinking = 1\n",
    "\n",
    "#No doctor due to cost[6] options are 0=No, 1=Yes\n",
    "doctor_cost = 1\n",
    "\n",
    "#Health Care Insurance[7] options are 0=Medicare, 1=Employer, 2=Military, 3=Private, 4=Medigap, 5=Other, 6=Medicaid, 7=No, 8=State, 9=Indian, 10=CHIP\n",
    "insurance = 7\n",
    "\n",
    "# General Health[8] options are 0=Excellent, 1=Very good, 2=Fair, 3=Good, 4=Dont know\n",
    "general_health = 2\n",
    "\n",
    "# Mental Health[9] options are 0=0 days, 1=1-13 days, 2=14+ days\n",
    "mental_health = 1\n",
    "\n",
    "# Physical Health[10] options are 0=0 days, 1=1-13 days, 2=14+ days\n",
    "physical_health = 0\n",
    "\n",
    "# Difficulty Walking[11] options are 0=No, 1=Yes, 2=Dont know\n",
    "difficulty_walking = 0\n",
    "\n",
    "# Gender[12] options are 0=Female, 1=Male\n",
    "gender = 1\n",
    "\n",
    "# age[13] options are 0='80 or older', 1='55 to 59', 2='40 to 44', 3='70 to 74', 4='65 to 69', 5='60 to 64', 6='75 to 79', 7='50 to 54', 8='45 to 49', 9='35 to 39', 10='25 to 29', 11='30 to 34', 12='18 to 24'\n",
    "age = 1\n",
    "\n",
    "# education[14] options are 0=High School, 1=Graduated College, 2=Some College, 3=Middle School\n",
    "education = 1\n",
    "\n",
    "# income[15] options are 0=$25,000 to < $35,000, 1=$100,000 to < $200,000, 2=$50,000 to < $100,000, 3=$35,000 to < $50,000, 4=< $15,000, 5=$15,000 to < $25,000, 6=> $200,000\n",
    "income = 2\n",
    "\n",
    "# race[16] options are 0=White, 1=Black or African American, 2=American Indian or Alaskan Native, 3=Native Hawaiian or other Pacific Islander, 4=Asian, 5=Dont know, 6=Multiracial, 7=No race\n",
    "race = 0\n",
    "\n",
    "# routine_checkup[17] options are 0=Never, 1=Within Last Year, 2=Last 2 Years, 3=Last 5 Years, 4=5 or more years\n",
    "routine_checkup = 2\n",
    "\n",
    "# sleep_time[18] options are 1 to 24\n",
    "sleep_time = 5\n",
    "\n",
    "# heart_related[19] options are 0=No, 1=Yes\n",
    "heart_related = 0\n",
    "\n",
    "array = f'{bmi},{smoker},{stroke},{asthma},{physical_activity},{heavy_drinking},{doctor_cost},{insurance},{general_health},{mental_health},{physical_health},{difficulty_walking},{gender},{age},{education},{income},{race},{routine_checkup},{sleep_time},{heart_related}'\n",
    "    \n",
    "payload = '{\\\"data\\\":[[' + array + ']]}'\n",
    "\n",
    "response = requests.request(\"POST\", url, data=payload, headers=headers)\n",
    "\n",
    "ShowResult(response)\n",
    "\n"
   ]
  },
  {
   "cell_type": "markdown",
   "metadata": {},
   "source": [
    "Data out of bounds example BMI = 11<br />\n",
    "(prints out the options for BMI and what was passed in erroneously)"
   ]
  },
  {
   "cell_type": "code",
   "execution_count": 7,
   "metadata": {},
   "outputs": [
    {
     "name": "stdout",
     "output_type": "stream",
     "text": [
      "Value error, ['Error: BMI[0] options are 0=Overweight, 1=Normal, 2=Obese, 3=Under - received 11.0']\n"
     ]
    }
   ],
   "source": [
    "payload = '{\\\"data\\\":[[11,1,1,0,1,0,0,0,4,2,1,1,0,5,2,5,0,1,0,1]]}'\n",
    "\n",
    "response = requests.request(\"POST\", url, data=payload, headers=headers)\n",
    "\n",
    "ShowResult(response)"
   ]
  },
  {
   "cell_type": "markdown",
   "metadata": {},
   "source": [
    "Not enough or too many parameters"
   ]
  },
  {
   "cell_type": "code",
   "execution_count": 8,
   "metadata": {},
   "outputs": [
    {
     "name": "stdout",
     "output_type": "stream",
     "text": [
      "Value error, Each data point must contain 20 features\n"
     ]
    }
   ],
   "source": [
    "payload = '{\\\"data\\\":[[1,1,1,1,1,1,0,0,0,1,2,1,1,0,5,2,5,0,1,0,1]]}'\n",
    "\n",
    "response = requests.request(\"POST\", url, data=payload, headers=headers)\n",
    "\n",
    "ShowResult(response)"
   ]
  }
 ],
 "metadata": {
  "kernelspec": {
   "display_name": "Python 3",
   "language": "python",
   "name": "python3"
  },
  "language_info": {
   "codemirror_mode": {
    "name": "ipython",
    "version": 3
   },
   "file_extension": ".py",
   "mimetype": "text/x-python",
   "name": "python",
   "nbconvert_exporter": "python",
   "pygments_lexer": "ipython3",
   "version": "3.8.18"
  }
 },
 "nbformat": 4,
 "nbformat_minor": 2
}
