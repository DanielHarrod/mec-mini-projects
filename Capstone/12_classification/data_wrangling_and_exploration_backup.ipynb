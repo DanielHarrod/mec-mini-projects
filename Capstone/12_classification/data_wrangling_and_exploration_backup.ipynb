{
 "cells": [
  {
   "cell_type": "markdown",
   "metadata": {},
   "source": [
    "https://www.cdc.gov/brfss/annual_data/annual_2022.html\n",
    "\n",
    "Data codebook : https://www.cdc.gov/brfss/annual_data/2022/zip/codebook22_llcp-v2-508.zip\n",
    "\n",
    "Data from: https://www.cdc.gov/brfss/annual_data/2022/files/LLCP2022XPT.zip\n"
   ]
  },
  {
   "cell_type": "code",
   "execution_count": 1,
   "metadata": {},
   "outputs": [],
   "source": [
    "import pandas as pd\n",
    "import matplotlib.pyplot as plt\n",
    "import seaborn as sns\n",
    "import numpy as np"
   ]
  },
  {
   "cell_type": "code",
   "execution_count": null,
   "metadata": {},
   "outputs": [],
   "source": [
    "df = pd.read_csv('diabetes_012_health_indicators_BRFSS2015.csv.zip')\n"
   ]
  },
  {
   "cell_type": "code",
   "execution_count": null,
   "metadata": {},
   "outputs": [],
   "source": [
    "df"
   ]
  },
  {
   "cell_type": "markdown",
   "metadata": {},
   "source": [
    "The data sample is very informative and is represented by 253 thousand surveys on 22 criteria."
   ]
  },
  {
   "cell_type": "markdown",
   "metadata": {},
   "source": [
    "What features characterize the data?"
   ]
  },
  {
   "cell_type": "markdown",
   "metadata": {},
   "source": [
    "* Diabetes_012 - target category containing: No Diabetes, Pre-Diabetes, and Diabetes\n",
    "* HighBP - If the person has high blood pressure.\n",
    "* HighChol - \n",
    "0 = no high cholesterol 1 = high cholesterol\n",
    "\n",
    "CholCheck\n",
    "0 = no cholesterol check in 5 years 1 = yes cholesterol check in 5 years\n",
    "\n",
    "BMI\n",
    "Body Mass Index\n",
    "\n",
    "Smoker\n",
    "Have you smoked at least 100 cigarettes in your entire life? [Note: 5 packs = 100 cigarettes] 0 = no 1 = yes\n",
    "\n",
    "Stroke\n",
    "(Ever told) you had a stroke. 0 = no 1 = yes\n",
    "\n",
    "HeartDiseaseorAttack\n",
    "coronary heart disease (CHD) or myocardial infarction (MI) 0 = no 1 = yes\n",
    "\n",
    "Fruits\n",
    "Consume Fruit 1 or more times per day 0 = no 1 = yes\n",
    "\n",
    "Veggies\n",
    "Consume Vegetables "
   ]
  },
  {
   "cell_type": "code",
   "execution_count": null,
   "metadata": {},
   "outputs": [],
   "source": [
    "#Check our missing data from which columns and how many unique features they have. \n",
    "pd.concat([df.isnull().sum(), df.nunique(), df.dtypes], axis = 1, sort= False, keys=['Null','Unique','Data Type'])"
   ]
  },
  {
   "cell_type": "markdown",
   "metadata": {},
   "source": [
    "There are no missing values."
   ]
  },
  {
   "cell_type": "markdown",
   "metadata": {},
   "source": [
    "Diabetes_012    \n",
    "0 = no diabetes 1 = prediabetes 2 = diabetes\n",
    "\n",
    "HighBP\n",
    "0 = no high BP 1 = high BP\n",
    "\n",
    "HighChol\n",
    "0 = no high cholesterol 1 = high cholesterol\n",
    "\n",
    "CholCheck\n",
    "0 = no cholesterol check in 5 years 1 = yes cholesterol check in 5 years\n",
    "\n",
    "BMI\n",
    "Body Mass Index\n",
    "\n",
    "Smoker\n",
    "Have you smoked at least 100 cigarettes in your entire life? [Note: 5 packs = 100 cigarettes] 0 = no 1 = yes\n",
    "\n",
    "Stroke\n",
    "(Ever told) you had a stroke. 0 = no 1 = yes\n",
    "\n",
    "HeartDiseaseorAttack\n",
    "coronary heart disease (CHD) or myocardial infarction (MI) 0 = no 1 = yes\n",
    "\n",
    "Fruits\n",
    "Consume Fruit 1 or more times per day 0 = no 1 = yes\n",
    "\n",
    "Veggies\n",
    "Consume Vegetables 1 or more times per day 0 = no 1 = yes\n",
    "\n",
    "HvyAlcoholConsump\n",
    "(adult men >=14 drinks per week and adult women>=7 drinks per week) 0 = no 1 = yes\n",
    "\n",
    "AnyHealthcare\n",
    "Have any kind of health care coverage, including health insurance, prepaid plans such as HMO, etc. 0 = no 1 = yes\n",
    "\n",
    "NoDocbcCost\n",
    "Was there a time in the past 12 months when you needed to see a doctor but could not because of cost? 0 = no 1 = yes\n",
    "\n",
    "GenHlth\n",
    "Would you say that in general your health is: scale 1-5 1 = excellent 2 = very good 3 = good 4 = fair 5 = poor\n",
    "\n",
    "MentHlth\n",
    "days of poor mental health scale 1-30 days\n",
    "\n",
    "PhysHlth\n",
    "physical illness or injury days in past 30 days scale 1-30\n",
    "\n",
    "DiffWalk\n",
    "Do you have serious difficulty walking or climbing stairs? 0 = no 1 = yes\n",
    "\n",
    "Sex\n",
    "0 = female 1 = male\n",
    "\n",
    "Age\n",
    "13-level age category (_AGEG5YR see codebook) 1 = 18-24 9 = 60-64 13 = 80 or older\n",
    "\n",
    "Education\n",
    "Education level (EDUCA see codebook) scale 1-6 1 = Never attended school or only kindergarten 2 = elementary etc.\n",
    "\n",
    "Income\n",
    "Income scale (INCOME2 see codebook) scale 1-8 1 = less than $10,000 5 = less than $35,000 8 = $75,000 or more\n",
    "\n",
    "\n",
    "\n",
    "\n"
   ]
  },
  {
   "cell_type": "code",
   "execution_count": null,
   "metadata": {},
   "outputs": [],
   "source": [
    "\n",
    "sns.countplot(x='Diabetes_012',data=df,palette='pastel')"
   ]
  },
  {
   "cell_type": "code",
   "execution_count": null,
   "metadata": {},
   "outputs": [],
   "source": [
    "# check label matches description, expect [0,1,2] - No Diabetes, Pre-Diabetes, Diabetes\n",
    "df.Diabetes_012.value_counts()"
   ]
  },
  {
   "cell_type": "code",
   "execution_count": null,
   "metadata": {},
   "outputs": [],
   "source": [
    "df.describe()"
   ]
  },
  {
   "cell_type": "code",
   "execution_count": null,
   "metadata": {},
   "outputs": [],
   "source": [
    "#Values \n",
    "df_description = df.describe()\n",
    "df_max = df_description.iloc[[7]]  # Max Line\n",
    "df_min = df_description.iloc[[3]]  # Min Line\n",
    "df_min = pd.melt(df_min) # Pivot the data\n",
    "df_max = pd.melt(df_max) # Pivot the data\n",
    "df_min_max = df_max\n",
    "df_min_max.rename(columns={'value':'Max'}, inplace=True)\n",
    "df_min_max['Min'] = df_min['value']\n",
    "df_min_max[(df_min_max.Max != 1) | (df_min_max.Min != 0)]\n",
    "\n"
   ]
  },
  {
   "cell_type": "code",
   "execution_count": null,
   "metadata": {},
   "outputs": [],
   "source": [
    "fig, ax = plt.subplots()"
   ]
  },
  {
   "cell_type": "code",
   "execution_count": null,
   "metadata": {},
   "outputs": [],
   "source": [
    "plt.scatter(df[\"BMI\"],df[\"Age\"], s=1, c='b', marker='.', alpha=0.3, label=\"Male\")\n",
    "\n",
    "# categories = height_weight_gender[height_weight_gender.Gender_Male == 0][\"Gender_Male\"]\n",
    "# plt.scatter(height_weight_gender[height_weight_gender.Gender_Male == 0][\"Weight\"],height_weight_gender[height_weight_gender.Gender_Male == 0][\"Height\"], s=1, c='r', marker='.', alpha=0.3, label=\"Female\")\n",
    "\n",
    "# plt.xlabel('Weight')\n",
    "# plt.ylabel(\"Height\")\n",
    "# legend = plt.legend(title=\"Gender\")\n",
    "# plt.title(\"Height vs Weight\")\n",
    "# ax.legend(markerscale=20)\n",
    "sns.catplot(data=df, x=\"Age\", y=\"BMI\", hue=\"Sex\", kind=\"bar\")"
   ]
  },
  {
   "cell_type": "code",
   "execution_count": null,
   "metadata": {},
   "outputs": [],
   "source": [
    "# from sklearn.preprocessing import RobustScaler\n",
    "# scaler = RobustScaler()\n",
    "# data_scaled = scaler.fit_transform(df)\n",
    "\n"
   ]
  },
  {
   "cell_type": "code",
   "execution_count": 2,
   "metadata": {},
   "outputs": [],
   "source": [
    "raw_df = pd.read_sas(r\"C:\\Users\\djhar\\Downloads\\LLCP2022XPT\\LLCP2022.XPT\")"
   ]
  },
  {
   "cell_type": "code",
   "execution_count": 3,
   "metadata": {},
   "outputs": [
    {
     "ename": "AttributeError",
     "evalue": "'DataFrame' object has no attribute '_SMOKGRP'",
     "output_type": "error",
     "traceback": [
      "\u001b[1;31m---------------------------------------------------------------------------\u001b[0m",
      "\u001b[1;31mAttributeError\u001b[0m                            Traceback (most recent call last)",
      "\u001b[1;32m~\\AppData\\Local\\Temp\\ipykernel_17588\\1712227802.py\u001b[0m in \u001b[0;36m?\u001b[1;34m()\u001b[0m\n\u001b[0;32m     20\u001b[0m \u001b[1;31m# 3     Overweight\u001b[0m\u001b[1;33m\u001b[0m\u001b[1;33m\u001b[0m\u001b[0m\n\u001b[0;32m     21\u001b[0m \u001b[1;31m# 4     Obese\u001b[0m\u001b[1;33m\u001b[0m\u001b[1;33m\u001b[0m\u001b[0m\n\u001b[0;32m     22\u001b[0m \u001b[1;31m# BLANK Don’t know/Refused/Missing\u001b[0m\u001b[1;33m\u001b[0m\u001b[1;33m\u001b[0m\u001b[0m\n\u001b[0;32m     23\u001b[0m \u001b[1;33m\u001b[0m\u001b[0m\n\u001b[1;32m---> 24\u001b[1;33m \u001b[0mdf\u001b[0m\u001b[1;33m[\u001b[0m\u001b[1;34m'smoker'\u001b[0m\u001b[1;33m]\u001b[0m \u001b[1;33m=\u001b[0m \u001b[0mraw_df\u001b[0m\u001b[1;33m.\u001b[0m\u001b[0m_SMOKGRP\u001b[0m\u001b[1;33m\u001b[0m\u001b[1;33m\u001b[0m\u001b[0m\n\u001b[0m\u001b[0;32m     25\u001b[0m \u001b[1;31m# 1     Current smoker, 20+ Pack Years\u001b[0m\u001b[1;33m\u001b[0m\u001b[1;33m\u001b[0m\u001b[0m\n\u001b[0;32m     26\u001b[0m \u001b[1;31m# 2     Former smoker, 20+ Pack Years, quit < 15 years\u001b[0m\u001b[1;33m\u001b[0m\u001b[1;33m\u001b[0m\u001b[0m\n\u001b[0;32m     27\u001b[0m \u001b[1;31m# 3     All other current and former smokers\u001b[0m\u001b[1;33m\u001b[0m\u001b[1;33m\u001b[0m\u001b[0m\n",
      "\u001b[1;32m~\\AppData\\Local\\Packages\\PythonSoftwareFoundation.Python.3.11_qbz5n2kfra8p0\\LocalCache\\local-packages\\Python311\\site-packages\\pandas\\core\\generic.py\u001b[0m in \u001b[0;36m?\u001b[1;34m(self, name)\u001b[0m\n\u001b[0;32m   5985\u001b[0m             \u001b[1;32mand\u001b[0m \u001b[0mname\u001b[0m \u001b[1;32mnot\u001b[0m \u001b[1;32min\u001b[0m \u001b[0mself\u001b[0m\u001b[1;33m.\u001b[0m\u001b[0m_accessors\u001b[0m\u001b[1;33m\u001b[0m\u001b[1;33m\u001b[0m\u001b[0m\n\u001b[0;32m   5986\u001b[0m             \u001b[1;32mand\u001b[0m \u001b[0mself\u001b[0m\u001b[1;33m.\u001b[0m\u001b[0m_info_axis\u001b[0m\u001b[1;33m.\u001b[0m\u001b[0m_can_hold_identifiers_and_holds_name\u001b[0m\u001b[1;33m(\u001b[0m\u001b[0mname\u001b[0m\u001b[1;33m)\u001b[0m\u001b[1;33m\u001b[0m\u001b[1;33m\u001b[0m\u001b[0m\n\u001b[0;32m   5987\u001b[0m         ):\n\u001b[0;32m   5988\u001b[0m             \u001b[1;32mreturn\u001b[0m \u001b[0mself\u001b[0m\u001b[1;33m[\u001b[0m\u001b[0mname\u001b[0m\u001b[1;33m]\u001b[0m\u001b[1;33m\u001b[0m\u001b[1;33m\u001b[0m\u001b[0m\n\u001b[1;32m-> 5989\u001b[1;33m         \u001b[1;32mreturn\u001b[0m \u001b[0mobject\u001b[0m\u001b[1;33m.\u001b[0m\u001b[0m__getattribute__\u001b[0m\u001b[1;33m(\u001b[0m\u001b[0mself\u001b[0m\u001b[1;33m,\u001b[0m \u001b[0mname\u001b[0m\u001b[1;33m)\u001b[0m\u001b[1;33m\u001b[0m\u001b[1;33m\u001b[0m\u001b[0m\n\u001b[0m",
      "\u001b[1;31mAttributeError\u001b[0m: 'DataFrame' object has no attribute '_SMOKGRP'"
     ]
    }
   ],
   "source": [
    "df = pd.DataFrame()\n",
    "\n",
    "df['diabetes'] = raw_df.DIABETE4\n",
    "# 1\tYes\n",
    "# 2\tYes, but female told only during pregnancy\n",
    "# 3\tNo\n",
    "# 4\tNo, pre-diabetes or borderline diabetes\n",
    "# 7\tDon’t know/Not Sure\n",
    "# 9\tRefused—Go to Section\n",
    "# BLANK\tNot asked or Missing\n",
    "\n",
    "\n",
    "df['completed_survey'] = raw_df.DISPCODE\n",
    "# 1100\tCompleted Interview\t\n",
    "# 1200\tPartial Complete Interview\n",
    "\n",
    "df['bmi'] = raw_df._BMI5CAT\n",
    "# 1\tUnderweight\n",
    "# 2\tNormal Weight\n",
    "# 3\tOverweight\n",
    "# 4\tObese\n",
    "# BLANK\tDon’t know/Refused/Missing\n",
    "\n",
    "df['smoker'] = raw_df._SMOKGRP\n",
    "# 1\tCurrent smoker, 20+ Pack Years\n",
    "# 2\tFormer smoker, 20+ Pack Years, quit < 15 years\n",
    "# 3\tAll other current and former smokers\n",
    "# 4\tNever smoker\n",
    "# BLANK\tDon’t know/Refused/Missing\n",
    "\n",
    "df['stroke'] = raw_df.CVDSTRK3\n",
    "# 1\tYes\n",
    "# 2\tNo\n",
    "# 7\tDon’t know/Not sure\n",
    "# 9\tRefused\n",
    "# BLANK\tNot asked or Missing\n",
    "\n",
    "df['heart_attack'] = raw_df.CVDINFR4\n",
    "# # 1\tYes\t\n",
    "# 2\tNo\n",
    "# 7\tDon’t know/Not sure\t\n",
    "# 9\tRefused\t\n",
    "# BLANK\tNot asked or Missing\n",
    "\n",
    "df['angina_or_chd'] = raw_df.CVDCRHD4\n",
    "# 1\tYes\n",
    "# 2\tNo\n",
    "# 7\tDon’t know/Not sure\n",
    "# 9\tRefused\n",
    "# BLANK\tNot asked or Missing\n",
    "\n",
    "df['chd_mi'] = raw_df._MICHD\n",
    "# 1\tReported having MI or CHD\n",
    "# 2\tDid not report having MI or CHD\n",
    "# BLANK\tNot asked or Missing.\n",
    "\n",
    "df['asthma'] = raw_df._ASTHMS1\n",
    "# 1\tCurrent\n",
    "# 2\tFormer\n",
    "# 3\tNever\n",
    "# 9\tDon’t know/Not Sure Or Refused/Missing\n",
    "# Notes: ASTHMA3 = 7 or 9 or Missing or ASTHNOW = 7 or 9 or Missing\n",
    "\n",
    "df['physical_activity'] = raw_df._TOTINDA\n",
    "# 1\tHad physical activity or exercise\n",
    "# 2\tNo physical activity or exercise in last 30 days\n",
    "# 9\tDon’t know/Refused/Missing\n",
    "\n",
    "df['heavy_drinking'] = raw_df._RFDRHV8\n",
    "# 1\tNo\n",
    "# 2\tYes\n",
    "# 9\tDon’t know/Refused/Missing\n",
    "\n",
    "df['no_doctor_due_to_cost'] = raw_df.MEDCOST1\n",
    "# 1\tYes\n",
    "# 2\tNo\n",
    "# 7\tDon’t know/Not sure\n",
    "# 9\tRefused\n",
    "# BLANK\tNot asked or Missing\n",
    "\n",
    "df['any_healthcare_insurance'] = raw_df.PRIMINSR\n",
    "# 1\tA plan purchased through an employer or union (including plans purchased through another person´s employer)\n",
    "# 2\tA private nongovernmental plan that you or another family member buys on your own\n",
    "# 3\tMedicare\n",
    "# 4\tMedigap\n",
    "# 5\tMedicaid\n",
    "# 6\tChildren´s Health Insurance Program (CHIP)\n",
    "# 7\tMilitary related health care: TRICARE (CHAMPUS) / VA health care / CHAMP- VA\n",
    "# 8\tIndian Health Service\n",
    "# 9\tState sponsored health plan\n",
    "# 10 Other government program\n",
    "# 88 No coverage of any type\n",
    "# 77 Don’t know/Not Sure\n",
    "# 99 Refused\n",
    "# BLANK\tNot asked or Missing\n",
    "\n",
    "df['general_health_status'] = raw_df.GENHLTH\n",
    "# 1\tExcellent\n",
    "# 2\tVery good\n",
    "# 3\tGood\t\n",
    "# 4\tFair\n",
    "# 5\tPoor\n",
    "# 7\tDon’t know/Not Sure\n",
    "# 9\tRefused\n",
    "# BLANK\tNot asked or Missing\n",
    "\n",
    "df['mental_health_status'] = raw_df._MENT14D\n",
    "# 1\tZero days when mental health not good\n",
    "# 2\t1-13 days when mental health not good\n",
    "# 3\t14+ days when mental health not good\n",
    "# 9\tDon’t know/Refused/Missing\n",
    "\n",
    "df['physical_health_status'] = raw_df._PHYS14D\n",
    "# 1\tZero days when physical health not good\t\n",
    "# 2\t1-13 days when physical health not good\n",
    "# 3\t14+ days when physical health not good\n",
    "# 9\tDon’t know/Refused/Missing\n",
    "\n",
    "\n",
    "df['difficulty_walking'] = raw_df.DIFFWALK\n",
    "# 1\tYes\t\n",
    "# 2\tNo\t\n",
    "# 7\tDon’t know/Not Sure\n",
    "# 9\tRefused\t\n",
    "# BLANK\tNot asked or Missing\n",
    "\n",
    "df['gender'] = raw_df._SEX\n",
    "# 1\tMale\n",
    "# 2\tFemale\n",
    "\n",
    "df['age'] = raw_df._AGEG5YR\n",
    "# 1\tAge 18 to 24\n",
    "# 2\tAge 25 to 29\n",
    "# 3\tAge 30 to 34\n",
    "# 4\tAge 35 to 39\n",
    "# 5\tAge 40 to 44\n",
    "# 6\tAge 45 to 49\n",
    "# 7\tAge 50 to 54\n",
    "# 8\tAge 55 to 59\n",
    "# 9\tAge 60 to 64\n",
    "# 10 Age 65 to 69\n",
    "# 11 Age 70 to 74\n",
    "# 12 Age 75 to 79\n",
    "# 13 Age 80 or older\n",
    "# 14 Don’t know/Refused/Missing\n",
    "\n",
    "df['education'] = raw_df._EDUCAG\n",
    "# 1\tDid not graduate High School\n",
    "# 2\tGraduated High School\n",
    "# 3\tAttended College or Technical School\n",
    "# 4\tGraduated from College or Technical School\n",
    "# 9\tDon’t know/Not sure/Missing\n",
    "\n",
    "df['income'] = raw_df._INCOMG1\n",
    "# 1\tLess than $15,000\n",
    "# 2\t$15,000 to < $25,000\n",
    "# 3\t$25,000 to < $35,000\n",
    "# 4\t$35,000 to < $50,000\n",
    "# 5\t$50,000 to < $100,000\n",
    "# 6\t$100,000 to < $200,000\n",
    "# 7\t$200,000 or more\n",
    "# 9\tDon’t know/Not sure/Missing\n",
    "\n",
    "df['race'] = raw_df._PRACE2\n",
    "# 1\tWhite\n",
    "# 2\tBlack or African American\n",
    "# 3\tAmerican Indian or Alaskan Native\n",
    "# 4\tAsian\n",
    "# 5\tNative Hawaiian or other Pacific Islander\n",
    "# 7\tMultiracial but no preferred race\n",
    "# 88\tNo race choice given\n",
    "# 77\tDon’t know/Not sure\n",
    "# 99\tRefused\n",
    "# BLANK\tMissing\n",
    "\n",
    "df['sleep_time'] = raw_df.SLEPTIM1\n",
    "# 1 - 24\tNumber of hours [1-24]\n",
    "# 77\tDon’t know/Not Sure\n",
    "# 99\tRefused\n",
    "# BLANK\tMissing\n",
    "\n",
    "df['years_smoked'] = raw_df.COPDSMOK\n",
    "# 1 - 76\tNumber of years\n",
    "# 88\tNever smoked or smoked < one year\n",
    "# 77\tDon´t know/Not sure\n",
    "# 99\tRefused\n",
    "# BLANK\tNot asked or Missing\n"
   ]
  },
  {
   "cell_type": "markdown",
   "metadata": {},
   "source": [
    "Features: bmi,smoker,chd_mi,difficulty_walking, years_smoked have alot of nulls, need to investigate"
   ]
  },
  {
   "cell_type": "code",
   "execution_count": null,
   "metadata": {},
   "outputs": [],
   "source": [
    "df"
   ]
  },
  {
   "cell_type": "code",
   "execution_count": null,
   "metadata": {},
   "outputs": [],
   "source": [
    "pd.concat([df.isnull().sum(), df.nunique(), df.dtypes], axis = 1, sort= False, keys=['Null','Unique','Data Type'])"
   ]
  },
  {
   "cell_type": "code",
   "execution_count": null,
   "metadata": {},
   "outputs": [],
   "source": [
    "#1 - diabetes\n",
    "# 1\tYes\n",
    "# 2\tYes, but female told only during pregnancy—Go to Section 08.01 AGE\n",
    "# 3\tNo—Go to Section 08.01 AGE\n",
    "# 4\tNo, pre-diabetes or borderline diabetes—Go to Section 08.01 AGE\n",
    "# 7\tDon’t know/Not Sure—Go to Section 08.01 AGE\n",
    "# 9\tRefused—Go to Section 08.01 AGE\n",
    "# BLANK\tNot asked or Missing\t\n",
    "\n",
    "#Remove refused\n",
    "df.drop(df[df.diabetes == 9.0].index, inplace=True)\n",
    "\n",
    "#Update to new layout\n",
    "#During pregnancy to 0\n",
    "#No to 0\n",
    "#Yes to 2\n",
    "#Pre to 1\n",
    "#Don't no to 0\n",
    "#refused to 0\n",
    "df.diabetes = df.diabetes.replace({2:0, 3:0, 1:2, 4:1, 7:0, 9:0})\n",
    "\n",
    "#New layout\n",
    "# 0 - None\n",
    "# 1 - Diabetes\n",
    "# 2 - Pre-Diabetes\n",
    "\n",
    "#Validate\n",
    "df.groupby(df.diabetes, dropna=False, as_index=False).size()"
   ]
  },
  {
   "cell_type": "code",
   "execution_count": null,
   "metadata": {},
   "outputs": [],
   "source": [
    "#2 completed_survey\n",
    "# Drop incomplete surveys\n",
    "df.drop(df[df.completed_survey == '1200'].index, inplace=True)\n",
    "\n",
    "#Drop the completed_survey column\n",
    "df.drop([\"completed_survey\"], axis=1, inplace=True)"
   ]
  },
  {
   "cell_type": "code",
   "execution_count": null,
   "metadata": {},
   "outputs": [],
   "source": [
    "#3 bmi\n",
    "\n",
    "# 1\tUnderweight\n",
    "# 2\tNormal Weight\n",
    "# 3\tOverweight\n",
    "# 4\tObese\n",
    "# BLANK\tDon’t know/Refused/Missing\n",
    "\n",
    "#unknown bmi to new category\n",
    "df.loc[df.bmi.isnull(), \"bmi\"] = 0\n",
    "\n",
    "#Validate\n",
    "df.groupby(df.bmi, dropna=False, as_index=False).size()"
   ]
  },
  {
   "cell_type": "code",
   "execution_count": null,
   "metadata": {},
   "outputs": [],
   "source": [
    "# 4 smoker\n",
    "# Value\tValue Label\tFrequency\tPercentage\tWeighted Percentage\n",
    "# 1\tCurrent smoker, 20+ Pack Years\n",
    "# 2\tFormer smoker, 20+ Pack Years, quit < 15 years\n",
    "# 3\tAll other current and former smokers\n",
    "# 4\tNever smoker\n",
    "# BLANK\tDon’t know/Refused/Missing\n",
    "\n",
    "#Don’t know/Refused/Missing to probably smoked\n",
    "df.loc[df.smoker.isnull(), \"smoker\"] = 3\n",
    "\n",
    "#Move heavy current smoker to heavy former smoker\n",
    "df.loc[df.smoker == 1, \"smoker\"] = 2\n",
    "\n",
    "#Move Never smoked to 0\n",
    "df.loc[df.smoker == 4, \"smoker\"] = 0\n",
    "\n",
    "#Validate\n",
    "df.groupby(df.smoker, dropna=False, as_index=False).size()"
   ]
  },
  {
   "cell_type": "code",
   "execution_count": null,
   "metadata": {},
   "outputs": [],
   "source": [
    "#5 stroke\n",
    "df.groupby(df.stroke, dropna=False, as_index=False).size()\n",
    "# 1\tYes\t\n",
    "# 2\tNo\t\n",
    "# 7\tDon’t know/Not sure\t\n",
    "# 9\tRefused\t\n",
    "\n",
    "#Change to binary\n",
    "df.stroke = df.stroke.replace({2:0, 7:0, 9:0})\n",
    "\n",
    "#Validate\n",
    "df.groupby(df.stroke, dropna=False, as_index=False).size()"
   ]
  },
  {
   "cell_type": "code",
   "execution_count": null,
   "metadata": {},
   "outputs": [],
   "source": [
    "# 6 heart_attack\n",
    "df.groupby(df.heart_attack, dropna=False, as_index=False).size()\n",
    "# 1\tYes\t\n",
    "# 2\tNo\n",
    "# 7\tDon’t know/Not sure\t\n",
    "# 9\tRefused\t\n",
    "# BLANK\tNot asked or Missing\n",
    "\n",
    "# heart_attack - #Change to binary\n",
    "# No to 0\n",
    "# Don't know to 0\n",
    "# REfused to 0\n",
    "df.heart_attack = df.heart_attack.replace({2:0, 7:0, 9:0})\n",
    "\n",
    "#Validate\n",
    "df.groupby(df.heart_attack, dropna=False, as_index=False).size()"
   ]
  },
  {
   "cell_type": "code",
   "execution_count": null,
   "metadata": {},
   "outputs": [],
   "source": [
    "#7 angina_or_chd\n",
    "# 1\tYes\n",
    "# 2\tNo\n",
    "# 7\tDon’t know/Not sure\n",
    "# 9\tRefused\n",
    "# BLANK\tNot asked or Missing\n",
    "# angina_or_chd - #Change to binary\n",
    "\n",
    "#To binary\n",
    "# No - 0\n",
    "# Don't know/Not sure to 0\n",
    "# Refused to 0\n",
    "df.angina_or_chd = df.angina_or_chd.replace({2:0, 7:0, 9:0})\n",
    "\n",
    "#Validate\n",
    "df.groupby(df.angina_or_chd, dropna=False, as_index=False).size()"
   ]
  },
  {
   "cell_type": "code",
   "execution_count": null,
   "metadata": {},
   "outputs": [],
   "source": [
    "#8 - chd_mi\n",
    "\n",
    "# 1\tReported having MI or CHD\n",
    "# 2\tDid not report having MI or CHD\n",
    "# BLANK\tNot asked or Missing\n",
    "\n",
    "#Change to binary\n",
    "df.loc[df.chd_mi == 2, \"chd_mi\"] = 0\n",
    "\n",
    "#Nulls to no\n",
    "df.loc[df.chd_mi.isnull(), \"chd_mi\"] = 0\n",
    "\n",
    "#Validate\n",
    "df.groupby(df.chd_mi, dropna=False, as_index=False).size()"
   ]
  },
  {
   "cell_type": "code",
   "execution_count": null,
   "metadata": {},
   "outputs": [],
   "source": [
    "# 9 asthma\n",
    "\n",
    "# 1\tCurrent\n",
    "# 2\tFormer\n",
    "# 3\tNever\n",
    "# 9\tDon’t know/Not Sure Or Refused/Missing\n",
    "# Notes: ASTHMA3 = 7 or 9 or Missing or ASTHNOW = 7 or 9 or Missing\n",
    "\n",
    "# asthma - Change to binary\n",
    "# former to 1\n",
    "# Never to 0\n",
    "# Don't know to 0\n",
    "df.asthma = df.asthma.replace({2:1, 3:0, 9:0})\n",
    "\n",
    "#Validate\n",
    "df.groupby(df.asthma, dropna=False, as_index=False).size()"
   ]
  },
  {
   "cell_type": "code",
   "execution_count": null,
   "metadata": {},
   "outputs": [],
   "source": [
    "# 10 physical_activity\n",
    "# 1\tHad physical activity or exercise\n",
    "# 2\tNo physical activity or exercise in last 30 days\n",
    "# 9\tDon’t know/Refused/Missing\n",
    "\n",
    "\n",
    "# To Binary\n",
    "# No activity to 0\n",
    "# Don't know to 0\n",
    "df.physical_activity = df.physical_activity.replace({2:0, 9:0})\n",
    "\n",
    "#Validate\n",
    "df.groupby(df.physical_activity, dropna=False, as_index=False).size()"
   ]
  },
  {
   "cell_type": "code",
   "execution_count": null,
   "metadata": {},
   "outputs": [],
   "source": [
    "#11 heavy_drinking\n",
    "\n",
    "# 1\tNo\n",
    "# 2\tYes\n",
    "# 9\tDon’t know/Refused/Missing\n",
    "\n",
    "#To Binary\n",
    "# No to 0\n",
    "# Yes to 1\n",
    "# Don't know to 0\n",
    "df.heavy_drinking = df.heavy_drinking.replace({1:0, 2:1, 9:0})\n",
    "\n",
    "#Validate\n",
    "df.groupby(df.heavy_drinking, dropna=False, as_index=False).size()"
   ]
  },
  {
   "cell_type": "code",
   "execution_count": null,
   "metadata": {},
   "outputs": [],
   "source": [
    "#12 no_doctor_due_to_cost\n",
    "\n",
    "#Validate\n",
    "df.groupby(df.heavy_drinking, dropna=False, as_index=False).size()\n"
   ]
  },
  {
   "cell_type": "code",
   "execution_count": null,
   "metadata": {},
   "outputs": [],
   "source": [
    "#13 any_healthcare_insurance\n",
    "# 1\tA plan purchased through an employer or union (including plans purchased through another person´s employer)\n",
    "# 2\tA private nongovernmental plan that you or another family member buys on your own\n",
    "# 3\tMedicare #\n",
    "# 4\tMedigap #\n",
    "# 5\tMedicaid #\n",
    "# 6\tChildren´s Health Insurance Program (CHIP) #\n",
    "# 7\tMilitary related health care: TRICARE (CHAMPUS) / VA health care / CHAMP- VA #\n",
    "# 8\tIndian Health Service #\n",
    "# 9\tState sponsored health plan#\n",
    "# 10\tOther government program #\n",
    "# 88\tNo coverage of any type #\n",
    "# 77\tDon’t know/Not Sure\n",
    "# 99\tRefused\n",
    "# BLANK\tNot asked or Missing\n",
    "\n",
    "\n",
    "#0 - No Insurance\n",
    "#1 - Commercial Insurance\n",
    "#2 - Federal Insurance\n",
    "#3 - State Insurance\n",
    "#4 - Unknown Insurance\n",
    "\n",
    "#No coverage to No Insurance\n",
    "df.loc[df.any_healthcare_insurance == 88, \"any_healthcare_insurance\"] = 0\n",
    "\n",
    "# Commercial Insurance\n",
    "# Add Private personal, Medigap, Indian\n",
    "df.loc[df.any_healthcare_insurance.isin([2,4]), \"any_healthcare_insurance\"] = 1\n",
    "\n",
    "# Federal Insurance\n",
    "# Add Indian Health Service, CHIP, Medicare, Indian, Other government program\n",
    "df.loc[df.any_healthcare_insurance.isin([3,6,7,8,10]), \"any_healthcare_insurance\"] = 2\n",
    "\n",
    "# State Insurance\n",
    "# Add Medicaid, state sponsored medical\n",
    "df.loc[df.any_healthcare_insurance.isin([5,9]), \"any_healthcare_insurance\"] = 3\n",
    "\n",
    "#>65 and don't know/refused. = Medicare\n",
    "df.loc[(df.any_healthcare_insurance.isin([77,99])) & (df.age.isin([10,11,12,13])), \"any_healthcare_insurance\"] = 2\n",
    "\n",
    "#Unknown Insurance\n",
    "df.loc[df.any_healthcare_insurance.isin([77,99]), \"any_healthcare_insurance\"] = 4\n",
    "\n",
    "#Validate\n",
    "df.groupby(df.any_healthcare_insurance, dropna=False, as_index=False).size()    "
   ]
  },
  {
   "cell_type": "code",
   "execution_count": null,
   "metadata": {},
   "outputs": [],
   "source": [
    "# 13 general_health_status\n",
    "# 1\tExcellent\n",
    "# 2\tVery good\n",
    "# 3\tGood\t\n",
    "# 4\tFair\n",
    "# 5\tPoor\n",
    "# 7\tDon’t know/Not Sure\n",
    "# 9\tRefused\n",
    "# BLANK\tNot asked or Missing\n",
    "\n",
    "#Refused to Don't know/Not Sure\n",
    "df.loc[df.general_health_status.isin([9]), \"general_health_status\"] = 7\n",
    "df.loc[df.general_health_status==7,'general_health_status'] = 6\n",
    "\n",
    "#Validate\n",
    "df.groupby(df.general_health_status, dropna=False, as_index=False).size()"
   ]
  },
  {
   "cell_type": "code",
   "execution_count": null,
   "metadata": {},
   "outputs": [],
   "source": [
    "# 14 mental_health_status\n",
    "# 1\tZero days when mental health not good\n",
    "# 2\t1-13 days when mental health not good\n",
    "# 3\t14+ days when mental health not good\n",
    "# 9\tDon’t know/Refused/Missing\n",
    "\n",
    "# Don’t know/Refused/Missing, Zero days to 0\n",
    "# 1-13 days when mental health not good to 1 \n",
    "# 14+ days when mental health not good to 2\n",
    "df.loc[df.mental_health_status.isin([9,1]), \"mental_health_status\"] = 0\n",
    "df.loc[df.mental_health_status.isin([2]), \"mental_health_status\"] = 1\n",
    "df.loc[df.mental_health_status.isin([3]), \"mental_health_status\"] = 2\n",
    "\n",
    "#Validate\n",
    "df.groupby(df.mental_health_status, dropna=False, as_index=False).size()"
   ]
  },
  {
   "cell_type": "code",
   "execution_count": null,
   "metadata": {},
   "outputs": [],
   "source": [
    "# 15 physical_health_status\n",
    "# 1\tZero days when physical health not good\t\n",
    "# 2\t1-13 days when physical health not good\n",
    "# 3\t14+ days when physical health not good\n",
    "# 9\tDon’t know/Refused/Missing\n",
    "\n",
    "# Don’t know/Refused/Missing, Zero days to 0\n",
    "# 1-13 days when mental health not good to 1 \n",
    "# 14+ days when mental health not good to 2\n",
    "df.loc[df.physical_health_status.isin([9,1]), \"physical_health_status\"] = 0\n",
    "df.loc[df.physical_health_status.isin([2]), \"physical_health_status\"] = 1\n",
    "df.loc[df.physical_health_status.isin([3]), \"physical_health_status\"] = 2\n",
    "\n",
    "#Validate\n",
    "df.groupby(df.physical_health_status, dropna=False, as_index=False).size()"
   ]
  },
  {
   "cell_type": "code",
   "execution_count": null,
   "metadata": {},
   "outputs": [],
   "source": [
    "# 16 difficulty_walking        \n",
    "# 1\t    Yes\t                    \n",
    "# 2\t    No\t                    \n",
    "# 7\t    Don’t know/Not Sure\t    \n",
    "# 9\t    Refused\t                \n",
    "# BLANK\tNot asked or Missing\n",
    "\n",
    "# Set Don't know/Not Sure, Refused, Not asked or Missing, or Null to 2\n",
    "df.loc[df.difficulty_walking > 2, \"difficulty_walking\"] = 2.0 # No\n",
    "df.loc[df.difficulty_walking.isnull(), \"difficulty_walking\"] = 2.0 # No\n",
    "\n",
    "#Change to binary\n",
    "df.loc[df.difficulty_walking == 1, \"difficulty_walking\"] = 1\n",
    "df.loc[df.difficulty_walking == 2, \"difficulty_walking\"] = 0\n",
    "\n",
    "#validate\n",
    "df.groupby(df.difficulty_walking, dropna=False, as_index=False).size()"
   ]
  },
  {
   "cell_type": "code",
   "execution_count": null,
   "metadata": {},
   "outputs": [],
   "source": [
    "#17 gender\n",
    "\n",
    "#Female to 0\n",
    "df.loc[df.gender == 2, \"gender\"] = 0\n",
    "\n",
    "#validate\n",
    "df.groupby(df.gender, dropna=False, as_index=False).size()"
   ]
  },
  {
   "cell_type": "code",
   "execution_count": null,
   "metadata": {},
   "outputs": [],
   "source": [
    "#18 age\n",
    "# 1\tAge 18 to 24\n",
    "# 2\tAge 25 to 29\n",
    "# 3\tAge 30 to 34\n",
    "# 4\tAge 35 to 39\n",
    "# 5\tAge 40 to 44\n",
    "# 6\tAge 45 to 49\n",
    "# 7\tAge 50 to 54\n",
    "# 8\tAge 55 to 59\n",
    "# 9\tAge 60 to 64\n",
    "# 10 Age 65 to 69\n",
    "# 11 Age 70 to 74\n",
    "# 12 Age 75 to 79\n",
    "# 13 Age 80 or older\n",
    "# 14 Don’t know/Refused/Missing\n",
    "\n",
    "#validate\n",
    "df.groupby(df.age, dropna=False, as_index=False).size()"
   ]
  },
  {
   "cell_type": "code",
   "execution_count": null,
   "metadata": {},
   "outputs": [],
   "source": [
    "#19 education\n",
    "# 1\tDid not graduate High School\n",
    "# 2\tGraduated High School\n",
    "# 3\tAttended College or Technical School\n",
    "# 4\tGraduated from College or Technical School\n",
    "# 9\tDon’t know/Not sure/Missing\n",
    "\n",
    "\n",
    "df.loc[df.education.isin([9]), \"education\"] = 1\n",
    "\n",
    "#validate\n",
    "df.groupby(df.education, dropna=False, as_index=False).size()"
   ]
  },
  {
   "cell_type": "code",
   "execution_count": null,
   "metadata": {},
   "outputs": [],
   "source": [
    "#19 income\n",
    "# 1\tLess than $15,000\n",
    "# 2\t$15,000 to < $25,000\n",
    "# 3\t$25,000 to < $35,000\n",
    "# 4\t$35,000 to < $50,000\n",
    "# 5\t$50,000 to < $100,000\n",
    "# 6\t$100,000 to < $200,000\n",
    "# 7\t$200,000 or more\n",
    "# 9\tDon’t know/Not sure/Missing\n",
    "\n",
    "# Move don't know to 0\n",
    "df.loc[df.education.isin([9]), \"income\"] = 0\n",
    "\n",
    "#validate\n",
    "df.groupby(df.income, dropna=False, as_index=False).size()"
   ]
  },
  {
   "cell_type": "code",
   "execution_count": null,
   "metadata": {},
   "outputs": [],
   "source": [
    "# 20 race\n",
    "# 1\tWhite\n",
    "# 2\tBlack or African American\n",
    "# 3\tAmerican Indian or Alaskan Native\n",
    "# 4\tAsian\n",
    "# 5\tNative Hawaiian or other Pacific Islander\n",
    "# 7\tMultiracial but no preferred race\n",
    "# 88\tNo race choice given\n",
    "# 77\tDon’t know/Not sure\n",
    "# 99\tRefused\n",
    "# BLANK\tMissing\n",
    "\n",
    "\n",
    "# 1\tWhite\n",
    "# 2\tBlack or African American\n",
    "# 3\tAmerican Indian or Alaskan Native\n",
    "# 4\tAsian\n",
    "# 5\tNative Hawaiian or other Pacific Islander\n",
    "# 7\tMultiracial but no preferred race\n",
    "# 8 Unknown\n",
    "df.loc[df.race.isin([88,77,99]), \"race\"] = 8\n",
    "\n",
    "#validate\n",
    "df.groupby(df.race, dropna=False, as_index=False).size()"
   ]
  },
  {
   "cell_type": "code",
   "execution_count": null,
   "metadata": {},
   "outputs": [],
   "source": [
    "df.sleep_time.mean().round()\n",
    "#['std'].round()"
   ]
  },
  {
   "cell_type": "code",
   "execution_count": null,
   "metadata": {},
   "outputs": [],
   "source": [
    "# 21 sleep_time\n",
    "# 1 - 24\tNumber of hours [1-24]\n",
    "# 77\tDon’t know/Not Sure\n",
    "# 99\tRefused\n",
    "# BLANK\tMissing\n",
    "\n",
    "#Set unknown to mean\n",
    "df.loc[df.sleep_time.isin([77,99,np.nan]), \"sleep_time\"] = df.sleep_time.mean().round()\n",
    "\n",
    "#validate\n",
    "df.groupby(df.sleep_time, dropna=False, as_index=False).size()"
   ]
  },
  {
   "cell_type": "code",
   "execution_count": null,
   "metadata": {},
   "outputs": [],
   "source": [
    "#22 years_smoked\n",
    "df.groupby(df.years_smoked, dropna=False, as_index=False).size()\n",
    "\n",
    "#No indication of smoking 0 years smoked\n",
    "df.loc[df.years_smoked.isin([77,88,99,np.nan]), \"years_smoked\"] = 0\n",
    "\n",
    "#validate\n",
    "df.groupby(df.years_smoked, dropna=False, as_index=False).size()\n"
   ]
  },
  {
   "cell_type": "code",
   "execution_count": null,
   "metadata": {},
   "outputs": [],
   "source": [
    "#data with nulls remaining\n",
    "print(f\"Nulls remaining {df.isnull().sum().sum()}\")\n",
    "\n",
    "#remove nulls\n",
    "df.dropna(inplace=True)\n",
    "\n",
    "#Validate\n",
    "print(f\"Nulls remaining {df.isnull().sum().sum()}\")"
   ]
  },
  {
   "cell_type": "code",
   "execution_count": null,
   "metadata": {},
   "outputs": [],
   "source": [
    "#Validate Nulls\n",
    "pd.concat([df.isnull().sum(), df.nunique(), df.dtypes], axis = 1, sort= False, keys=['Null','Unique','Data Type'])"
   ]
  },
  {
   "cell_type": "markdown",
   "metadata": {},
   "source": []
  },
  {
   "cell_type": "code",
   "execution_count": null,
   "metadata": {},
   "outputs": [],
   "source": [
    "\n",
    "df.describe()"
   ]
  },
  {
   "cell_type": "code",
   "execution_count": null,
   "metadata": {},
   "outputs": [],
   "source": [
    "\n"
   ]
  },
  {
   "cell_type": "code",
   "execution_count": null,
   "metadata": {},
   "outputs": [],
   "source": []
  },
  {
   "cell_type": "code",
   "execution_count": null,
   "metadata": {},
   "outputs": [],
   "source": [
    "df.groupby(df.chd_mi, dropna=False, as_index=False).size()"
   ]
  },
  {
   "cell_type": "code",
   "execution_count": null,
   "metadata": {},
   "outputs": [],
   "source": [
    "df.groupby(df.asthma, dropna=False, as_index=False).size()\n"
   ]
  },
  {
   "cell_type": "code",
   "execution_count": null,
   "metadata": {},
   "outputs": [],
   "source": []
  },
  {
   "cell_type": "code",
   "execution_count": null,
   "metadata": {},
   "outputs": [],
   "source": [
    "\n"
   ]
  },
  {
   "cell_type": "code",
   "execution_count": null,
   "metadata": {},
   "outputs": [],
   "source": []
  },
  {
   "cell_type": "code",
   "execution_count": null,
   "metadata": {},
   "outputs": [],
   "source": []
  },
  {
   "cell_type": "code",
   "execution_count": null,
   "metadata": {},
   "outputs": [],
   "source": []
  },
  {
   "cell_type": "code",
   "execution_count": null,
   "metadata": {},
   "outputs": [],
   "source": [
    "no_doctor_due_to_cost"
   ]
  },
  {
   "cell_type": "code",
   "execution_count": null,
   "metadata": {},
   "outputs": [],
   "source": []
  },
  {
   "cell_type": "code",
   "execution_count": null,
   "metadata": {},
   "outputs": [],
   "source": [
    "df.columns"
   ]
  }
 ],
 "metadata": {
  "kernelspec": {
   "display_name": "Python 3",
   "language": "python",
   "name": "python3"
  },
  "language_info": {
   "codemirror_mode": {
    "name": "ipython",
    "version": 3
   },
   "file_extension": ".py",
   "mimetype": "text/x-python",
   "name": "python",
   "nbconvert_exporter": "python",
   "pygments_lexer": "ipython3",
   "version": "3.11.6"
  },
  "orig_nbformat": 4
 },
 "nbformat": 4,
 "nbformat_minor": 2
}
