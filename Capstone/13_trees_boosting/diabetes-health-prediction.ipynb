{
 "cells": [
  {
   "cell_type": "code",
   "execution_count": 1,
   "id": "ccd894f2",
   "metadata": {
    "_cell_guid": "b1076dfc-b9ad-4769-8c92-a6c4dae69d19",
    "_uuid": "8f2839f25d086af736a60e9eeb907d3b93b6e0e5",
    "execution": {
     "iopub.execute_input": "2022-10-22T05:44:25.429256Z",
     "iopub.status.busy": "2022-10-22T05:44:25.428762Z",
     "iopub.status.idle": "2022-10-22T05:44:25.450164Z",
     "shell.execute_reply": "2022-10-22T05:44:25.449007Z"
    },
    "papermill": {
     "duration": 0.041627,
     "end_time": "2022-10-22T05:44:25.453086",
     "exception": false,
     "start_time": "2022-10-22T05:44:25.411459",
     "status": "completed"
    },
    "tags": []
   },
   "outputs": [
    {
     "name": "stdout",
     "output_type": "stream",
     "text": [
      "/kaggle/input/diabetes-health-indicators-dataset/diabetes_binary_5050split_health_indicators_BRFSS2015.csv\n",
      "/kaggle/input/diabetes-health-indicators-dataset/diabetes_binary_health_indicators_BRFSS2015.csv\n",
      "/kaggle/input/diabetes-health-indicators-dataset/diabetes_012_health_indicators_BRFSS2015.csv\n"
     ]
    }
   ],
   "source": [
    "# This Python 3 environment comes with many helpful analytics libraries installed\n",
    "# It is defined by the kaggle/python Docker image: https://github.com/kaggle/docker-python\n",
    "# For example, here's several helpful packages to load\n",
    "\n",
    "import numpy as np # linear algebra\n",
    "import pandas as pd # data processing, CSV file I/O (e.g. pd.read_csv)\n",
    "\n",
    "# Input data files are available in the read-only \"../input/\" directory\n",
    "# For example, running this (by clicking run or pressing Shift+Enter) will list all files under the input directory\n",
    "\n",
    "import os\n",
    "for dirname, _, filenames in os.walk('/kaggle/input'):\n",
    "    for filename in filenames:\n",
    "        print(os.path.join(dirname, filename))\n",
    "\n",
    "# You can write up to 20GB to the current directory (/kaggle/working/) that gets preserved as output when you create a version using \"Save & Run All\" \n",
    "# You can also write temporary files to /kaggle/temp/, but they won't be saved outside of the current session"
   ]
  },
  {
   "cell_type": "markdown",
   "id": "c94c17bf",
   "metadata": {
    "papermill": {
     "duration": 0.015608,
     "end_time": "2022-10-22T05:44:25.483068",
     "exception": false,
     "start_time": "2022-10-22T05:44:25.467460",
     "status": "completed"
    },
    "tags": []
   },
   "source": [
    "### Import"
   ]
  },
  {
   "cell_type": "code",
   "execution_count": 2,
   "id": "f6ab5b8b",
   "metadata": {
    "execution": {
     "iopub.execute_input": "2022-10-22T05:44:25.513821Z",
     "iopub.status.busy": "2022-10-22T05:44:25.512507Z",
     "iopub.status.idle": "2022-10-22T05:44:28.154716Z",
     "shell.execute_reply": "2022-10-22T05:44:28.153397Z"
    },
    "papermill": {
     "duration": 2.660626,
     "end_time": "2022-10-22T05:44:28.157628",
     "exception": false,
     "start_time": "2022-10-22T05:44:25.497002",
     "status": "completed"
    },
    "tags": []
   },
   "outputs": [
    {
     "data": {
      "text/html": [
       "<style type='text/css'>\n",
       ".datatable table.frame { margin-bottom: 0; }\n",
       ".datatable table.frame thead { border-bottom: none; }\n",
       ".datatable table.frame tr.coltypes td {  color: #FFFFFF;  line-height: 6px;  padding: 0 0.5em;}\n",
       ".datatable .bool    { background: #DDDD99; }\n",
       ".datatable .object  { background: #565656; }\n",
       ".datatable .int     { background: #5D9E5D; }\n",
       ".datatable .float   { background: #4040CC; }\n",
       ".datatable .str     { background: #CC4040; }\n",
       ".datatable .time    { background: #40CC40; }\n",
       ".datatable .row_index {  background: var(--jp-border-color3);  border-right: 1px solid var(--jp-border-color0);  color: var(--jp-ui-font-color3);  font-size: 9px;}\n",
       ".datatable .frame tbody td { text-align: left; }\n",
       ".datatable .frame tr.coltypes .row_index {  background: var(--jp-border-color0);}\n",
       ".datatable th:nth-child(2) { padding-left: 12px; }\n",
       ".datatable .hellipsis {  color: var(--jp-cell-editor-border-color);}\n",
       ".datatable .vellipsis {  background: var(--jp-layout-color0);  color: var(--jp-cell-editor-border-color);}\n",
       ".datatable .na {  color: var(--jp-cell-editor-border-color);  font-size: 80%;}\n",
       ".datatable .sp {  opacity: 0.25;}\n",
       ".datatable .footer { font-size: 9px; }\n",
       ".datatable .frame_dimensions {  background: var(--jp-border-color3);  border-top: 1px solid var(--jp-border-color0);  color: var(--jp-ui-font-color3);  display: inline-block;  opacity: 0.6;  padding: 1px 10px 1px 5px;}\n",
       "</style>\n"
      ],
      "text/plain": [
       "<IPython.core.display.HTML object>"
      ]
     },
     "metadata": {},
     "output_type": "display_data"
    }
   ],
   "source": [
    "import pandas as pd\n",
    "import numpy as np\n",
    "import seaborn as sns\n",
    "import matplotlib.pyplot as plt\n",
    "%matplotlib inline\n",
    "\n",
    "## For statistical test\n",
    "from scipy.stats import chisquare, chi2_contingency ## Stastical test\n",
    "from scipy.stats import probplot\n",
    "from scipy import stats\n",
    "from sklearn.feature_selection import SelectKBest\n",
    "from sklearn.feature_selection import chi2\n",
    "\n",
    "\n",
    "## machine learning libary\n",
    "from sklearn.model_selection import train_test_split, StratifiedKFold\n",
    "from sklearn.metrics import roc_auc_score, classification_report, confusion_matrix, precision_recall_fscore_support,roc_curve\n",
    "from catboost import CatBoostClassifier\n",
    "from lightgbm import LGBMClassifier\n",
    "from xgboost import XGBClassifier\n",
    "from sklearn.ensemble import RandomForestClassifier, GradientBoostingClassifier\n",
    "from sklearn.tree import DecisionTreeClassifier, ExtraTreeClassifier\n",
    "from sklearn.linear_model import LogisticRegression, RidgeClassifier\n",
    "from sklearn.naive_bayes import GaussianNB\n",
    "from sklearn.svm import SVC \n",
    "\n",
    "from sklearn.model_selection import train_test_split\n",
    "from sklearn.metrics import roc_auc_score"
   ]
  },
  {
   "cell_type": "code",
   "execution_count": 3,
   "id": "de95709e",
   "metadata": {
    "execution": {
     "iopub.execute_input": "2022-10-22T05:44:28.188508Z",
     "iopub.status.busy": "2022-10-22T05:44:28.188068Z",
     "iopub.status.idle": "2022-10-22T05:44:29.197774Z",
     "shell.execute_reply": "2022-10-22T05:44:29.196689Z"
    },
    "papermill": {
     "duration": 1.028244,
     "end_time": "2022-10-22T05:44:29.200378",
     "exception": false,
     "start_time": "2022-10-22T05:44:28.172134",
     "status": "completed"
    },
    "tags": []
   },
   "outputs": [],
   "source": [
    "data = pd.read_csv('/kaggle/input/diabetes-health-indicators-dataset/diabetes_binary_health_indicators_BRFSS2015.csv')"
   ]
  },
  {
   "cell_type": "code",
   "execution_count": 4,
   "id": "6b45cb1d",
   "metadata": {
    "execution": {
     "iopub.execute_input": "2022-10-22T05:44:29.232019Z",
     "iopub.status.busy": "2022-10-22T05:44:29.230834Z",
     "iopub.status.idle": "2022-10-22T05:44:29.305653Z",
     "shell.execute_reply": "2022-10-22T05:44:29.304430Z"
    },
    "papermill": {
     "duration": 0.092713,
     "end_time": "2022-10-22T05:44:29.308288",
     "exception": false,
     "start_time": "2022-10-22T05:44:29.215575",
     "status": "completed"
    },
    "tags": []
   },
   "outputs": [],
   "source": [
    "data = data[data['Age'] > 3.0].reset_index()"
   ]
  },
  {
   "cell_type": "markdown",
   "id": "72b57baa",
   "metadata": {
    "papermill": {
     "duration": 0.013579,
     "end_time": "2022-10-22T05:44:29.335825",
     "exception": false,
     "start_time": "2022-10-22T05:44:29.322246",
     "status": "completed"
    },
    "tags": []
   },
   "source": [
    "### check the heasd of the dataset"
   ]
  },
  {
   "cell_type": "code",
   "execution_count": 5,
   "id": "44c0933c",
   "metadata": {
    "execution": {
     "iopub.execute_input": "2022-10-22T05:44:29.365721Z",
     "iopub.status.busy": "2022-10-22T05:44:29.365254Z",
     "iopub.status.idle": "2022-10-22T05:44:29.403621Z",
     "shell.execute_reply": "2022-10-22T05:44:29.402686Z"
    },
    "papermill": {
     "duration": 0.056387,
     "end_time": "2022-10-22T05:44:29.406093",
     "exception": false,
     "start_time": "2022-10-22T05:44:29.349706",
     "status": "completed"
    },
    "tags": []
   },
   "outputs": [
    {
     "data": {
      "text/html": [
       "<div>\n",
       "<style scoped>\n",
       "    .dataframe tbody tr th:only-of-type {\n",
       "        vertical-align: middle;\n",
       "    }\n",
       "\n",
       "    .dataframe tbody tr th {\n",
       "        vertical-align: top;\n",
       "    }\n",
       "\n",
       "    .dataframe thead th {\n",
       "        text-align: right;\n",
       "    }\n",
       "</style>\n",
       "<table border=\"1\" class=\"dataframe\">\n",
       "  <thead>\n",
       "    <tr style=\"text-align: right;\">\n",
       "      <th></th>\n",
       "      <th>index</th>\n",
       "      <th>Diabetes_binary</th>\n",
       "      <th>HighBP</th>\n",
       "      <th>HighChol</th>\n",
       "      <th>CholCheck</th>\n",
       "      <th>BMI</th>\n",
       "      <th>Smoker</th>\n",
       "      <th>Stroke</th>\n",
       "      <th>HeartDiseaseorAttack</th>\n",
       "      <th>PhysActivity</th>\n",
       "      <th>...</th>\n",
       "      <th>AnyHealthcare</th>\n",
       "      <th>NoDocbcCost</th>\n",
       "      <th>GenHlth</th>\n",
       "      <th>MentHlth</th>\n",
       "      <th>PhysHlth</th>\n",
       "      <th>DiffWalk</th>\n",
       "      <th>Sex</th>\n",
       "      <th>Age</th>\n",
       "      <th>Education</th>\n",
       "      <th>Income</th>\n",
       "    </tr>\n",
       "  </thead>\n",
       "  <tbody>\n",
       "    <tr>\n",
       "      <th>0</th>\n",
       "      <td>0</td>\n",
       "      <td>0.0</td>\n",
       "      <td>1.0</td>\n",
       "      <td>1.0</td>\n",
       "      <td>1.0</td>\n",
       "      <td>40.0</td>\n",
       "      <td>1.0</td>\n",
       "      <td>0.0</td>\n",
       "      <td>0.0</td>\n",
       "      <td>0.0</td>\n",
       "      <td>...</td>\n",
       "      <td>1.0</td>\n",
       "      <td>0.0</td>\n",
       "      <td>5.0</td>\n",
       "      <td>18.0</td>\n",
       "      <td>15.0</td>\n",
       "      <td>1.0</td>\n",
       "      <td>0.0</td>\n",
       "      <td>9.0</td>\n",
       "      <td>4.0</td>\n",
       "      <td>3.0</td>\n",
       "    </tr>\n",
       "    <tr>\n",
       "      <th>1</th>\n",
       "      <td>1</td>\n",
       "      <td>0.0</td>\n",
       "      <td>0.0</td>\n",
       "      <td>0.0</td>\n",
       "      <td>0.0</td>\n",
       "      <td>25.0</td>\n",
       "      <td>1.0</td>\n",
       "      <td>0.0</td>\n",
       "      <td>0.0</td>\n",
       "      <td>1.0</td>\n",
       "      <td>...</td>\n",
       "      <td>0.0</td>\n",
       "      <td>1.0</td>\n",
       "      <td>3.0</td>\n",
       "      <td>0.0</td>\n",
       "      <td>0.0</td>\n",
       "      <td>0.0</td>\n",
       "      <td>0.0</td>\n",
       "      <td>7.0</td>\n",
       "      <td>6.0</td>\n",
       "      <td>1.0</td>\n",
       "    </tr>\n",
       "    <tr>\n",
       "      <th>2</th>\n",
       "      <td>2</td>\n",
       "      <td>0.0</td>\n",
       "      <td>1.0</td>\n",
       "      <td>1.0</td>\n",
       "      <td>1.0</td>\n",
       "      <td>28.0</td>\n",
       "      <td>0.0</td>\n",
       "      <td>0.0</td>\n",
       "      <td>0.0</td>\n",
       "      <td>0.0</td>\n",
       "      <td>...</td>\n",
       "      <td>1.0</td>\n",
       "      <td>1.0</td>\n",
       "      <td>5.0</td>\n",
       "      <td>30.0</td>\n",
       "      <td>30.0</td>\n",
       "      <td>1.0</td>\n",
       "      <td>0.0</td>\n",
       "      <td>9.0</td>\n",
       "      <td>4.0</td>\n",
       "      <td>8.0</td>\n",
       "    </tr>\n",
       "    <tr>\n",
       "      <th>3</th>\n",
       "      <td>3</td>\n",
       "      <td>0.0</td>\n",
       "      <td>1.0</td>\n",
       "      <td>0.0</td>\n",
       "      <td>1.0</td>\n",
       "      <td>27.0</td>\n",
       "      <td>0.0</td>\n",
       "      <td>0.0</td>\n",
       "      <td>0.0</td>\n",
       "      <td>1.0</td>\n",
       "      <td>...</td>\n",
       "      <td>1.0</td>\n",
       "      <td>0.0</td>\n",
       "      <td>2.0</td>\n",
       "      <td>0.0</td>\n",
       "      <td>0.0</td>\n",
       "      <td>0.0</td>\n",
       "      <td>0.0</td>\n",
       "      <td>11.0</td>\n",
       "      <td>3.0</td>\n",
       "      <td>6.0</td>\n",
       "    </tr>\n",
       "    <tr>\n",
       "      <th>4</th>\n",
       "      <td>4</td>\n",
       "      <td>0.0</td>\n",
       "      <td>1.0</td>\n",
       "      <td>1.0</td>\n",
       "      <td>1.0</td>\n",
       "      <td>24.0</td>\n",
       "      <td>0.0</td>\n",
       "      <td>0.0</td>\n",
       "      <td>0.0</td>\n",
       "      <td>1.0</td>\n",
       "      <td>...</td>\n",
       "      <td>1.0</td>\n",
       "      <td>0.0</td>\n",
       "      <td>2.0</td>\n",
       "      <td>3.0</td>\n",
       "      <td>0.0</td>\n",
       "      <td>0.0</td>\n",
       "      <td>0.0</td>\n",
       "      <td>11.0</td>\n",
       "      <td>5.0</td>\n",
       "      <td>4.0</td>\n",
       "    </tr>\n",
       "  </tbody>\n",
       "</table>\n",
       "<p>5 rows × 23 columns</p>\n",
       "</div>"
      ],
      "text/plain": [
       "   index  Diabetes_binary  HighBP  HighChol  CholCheck   BMI  Smoker  Stroke  \\\n",
       "0      0              0.0     1.0       1.0        1.0  40.0     1.0     0.0   \n",
       "1      1              0.0     0.0       0.0        0.0  25.0     1.0     0.0   \n",
       "2      2              0.0     1.0       1.0        1.0  28.0     0.0     0.0   \n",
       "3      3              0.0     1.0       0.0        1.0  27.0     0.0     0.0   \n",
       "4      4              0.0     1.0       1.0        1.0  24.0     0.0     0.0   \n",
       "\n",
       "   HeartDiseaseorAttack  PhysActivity  ...  AnyHealthcare  NoDocbcCost  \\\n",
       "0                   0.0           0.0  ...            1.0          0.0   \n",
       "1                   0.0           1.0  ...            0.0          1.0   \n",
       "2                   0.0           0.0  ...            1.0          1.0   \n",
       "3                   0.0           1.0  ...            1.0          0.0   \n",
       "4                   0.0           1.0  ...            1.0          0.0   \n",
       "\n",
       "   GenHlth  MentHlth  PhysHlth  DiffWalk  Sex   Age  Education  Income  \n",
       "0      5.0      18.0      15.0       1.0  0.0   9.0        4.0     3.0  \n",
       "1      3.0       0.0       0.0       0.0  0.0   7.0        6.0     1.0  \n",
       "2      5.0      30.0      30.0       1.0  0.0   9.0        4.0     8.0  \n",
       "3      2.0       0.0       0.0       0.0  0.0  11.0        3.0     6.0  \n",
       "4      2.0       3.0       0.0       0.0  0.0  11.0        5.0     4.0  \n",
       "\n",
       "[5 rows x 23 columns]"
      ]
     },
     "execution_count": 5,
     "metadata": {},
     "output_type": "execute_result"
    }
   ],
   "source": [
    "data.head()"
   ]
  },
  {
   "cell_type": "markdown",
   "id": "b5f5d139",
   "metadata": {
    "papermill": {
     "duration": 0.013969,
     "end_time": "2022-10-22T05:44:29.434428",
     "exception": false,
     "start_time": "2022-10-22T05:44:29.420459",
     "status": "completed"
    },
    "tags": []
   },
   "source": [
    "## chcecking the dataset information "
   ]
  },
  {
   "cell_type": "code",
   "execution_count": 6,
   "id": "6fa9f188",
   "metadata": {
    "execution": {
     "iopub.execute_input": "2022-10-22T05:44:29.464870Z",
     "iopub.status.busy": "2022-10-22T05:44:29.464083Z",
     "iopub.status.idle": "2022-10-22T05:44:29.496584Z",
     "shell.execute_reply": "2022-10-22T05:44:29.495259Z"
    },
    "papermill": {
     "duration": 0.051204,
     "end_time": "2022-10-22T05:44:29.499771",
     "exception": false,
     "start_time": "2022-10-22T05:44:29.448567",
     "status": "completed"
    },
    "tags": []
   },
   "outputs": [
    {
     "name": "stdout",
     "output_type": "stream",
     "text": [
      "<class 'pandas.core.frame.DataFrame'>\n",
      "RangeIndex: 229259 entries, 0 to 229258\n",
      "Data columns (total 23 columns):\n",
      " #   Column                Non-Null Count   Dtype  \n",
      "---  ------                --------------   -----  \n",
      " 0   index                 229259 non-null  int64  \n",
      " 1   Diabetes_binary       229259 non-null  float64\n",
      " 2   HighBP                229259 non-null  float64\n",
      " 3   HighChol              229259 non-null  float64\n",
      " 4   CholCheck             229259 non-null  float64\n",
      " 5   BMI                   229259 non-null  float64\n",
      " 6   Smoker                229259 non-null  float64\n",
      " 7   Stroke                229259 non-null  float64\n",
      " 8   HeartDiseaseorAttack  229259 non-null  float64\n",
      " 9   PhysActivity          229259 non-null  float64\n",
      " 10  Fruits                229259 non-null  float64\n",
      " 11  Veggies               229259 non-null  float64\n",
      " 12  HvyAlcoholConsump     229259 non-null  float64\n",
      " 13  AnyHealthcare         229259 non-null  float64\n",
      " 14  NoDocbcCost           229259 non-null  float64\n",
      " 15  GenHlth               229259 non-null  float64\n",
      " 16  MentHlth              229259 non-null  float64\n",
      " 17  PhysHlth              229259 non-null  float64\n",
      " 18  DiffWalk              229259 non-null  float64\n",
      " 19  Sex                   229259 non-null  float64\n",
      " 20  Age                   229259 non-null  float64\n",
      " 21  Education             229259 non-null  float64\n",
      " 22  Income                229259 non-null  float64\n",
      "dtypes: float64(22), int64(1)\n",
      "memory usage: 40.2 MB\n"
     ]
    }
   ],
   "source": [
    "data.info()"
   ]
  },
  {
   "cell_type": "code",
   "execution_count": 7,
   "id": "90a02404",
   "metadata": {
    "execution": {
     "iopub.execute_input": "2022-10-22T05:44:29.531108Z",
     "iopub.status.busy": "2022-10-22T05:44:29.530662Z",
     "iopub.status.idle": "2022-10-22T05:44:29.549765Z",
     "shell.execute_reply": "2022-10-22T05:44:29.548308Z"
    },
    "papermill": {
     "duration": 0.037835,
     "end_time": "2022-10-22T05:44:29.552657",
     "exception": false,
     "start_time": "2022-10-22T05:44:29.514822",
     "status": "completed"
    },
    "tags": []
   },
   "outputs": [
    {
     "data": {
      "text/plain": [
       "False"
      ]
     },
     "execution_count": 7,
     "metadata": {},
     "output_type": "execute_result"
    }
   ],
   "source": [
    "### check for missing values\n",
    "data.isnull().sum().any()"
   ]
  },
  {
   "cell_type": "markdown",
   "id": "73f92fed",
   "metadata": {
    "papermill": {
     "duration": 0.015121,
     "end_time": "2022-10-22T05:44:29.583289",
     "exception": false,
     "start_time": "2022-10-22T05:44:29.568168",
     "status": "completed"
    },
    "tags": []
   },
   "source": [
    "### Exploratory data analysis (descriptive analysis)"
   ]
  },
  {
   "cell_type": "markdown",
   "id": "7ab39b1b",
   "metadata": {
    "papermill": {
     "duration": 0.014619,
     "end_time": "2022-10-22T05:44:29.612899",
     "exception": false,
     "start_time": "2022-10-22T05:44:29.598280",
     "status": "completed"
    },
    "tags": []
   },
   "source": [
    "### Uni-variate analysis of the data"
   ]
  },
  {
   "cell_type": "markdown",
   "id": "99308910",
   "metadata": {
    "papermill": {
     "duration": 0.014173,
     "end_time": "2022-10-22T05:44:29.641496",
     "exception": false,
     "start_time": "2022-10-22T05:44:29.627323",
     "status": "completed"
    },
    "tags": []
   },
   "source": [
    "**Question 1**\n",
    "\n",
    "Diabetes patient class"
   ]
  },
  {
   "cell_type": "code",
   "execution_count": 8,
   "id": "7a482727",
   "metadata": {
    "execution": {
     "iopub.execute_input": "2022-10-22T05:44:29.672496Z",
     "iopub.status.busy": "2022-10-22T05:44:29.672091Z",
     "iopub.status.idle": "2022-10-22T05:44:29.914854Z",
     "shell.execute_reply": "2022-10-22T05:44:29.913511Z"
    },
    "papermill": {
     "duration": 0.261302,
     "end_time": "2022-10-22T05:44:29.917487",
     "exception": false,
     "start_time": "2022-10-22T05:44:29.656185",
     "status": "completed"
    },
    "tags": []
   },
   "outputs": [
    {
     "data": {
      "image/png": "[encoded data removed]",
      "text/plain": [
       "<Figure size 432x288 with 1 Axes>"
      ]
     },
     "metadata": {
      "needs_background": "light"
     },
     "output_type": "display_data"
    }
   ],
   "source": [
    "data['Diabetes_binary'].value_counts(normalize=True).plot(kind='bar');"
   ]
  },
  {
   "cell_type": "markdown",
   "id": "410fdb0f",
   "metadata": {
    "papermill": {
     "duration": 0.015033,
     "end_time": "2022-10-22T05:44:29.948648",
     "exception": false,
     "start_time": "2022-10-22T05:44:29.933615",
     "status": "completed"
    },
    "tags": []
   },
   "source": [
    "**Observation**\n",
    "\n",
    "we observe that less than 20% of the patient are with diabetes."
   ]
  },
  {
   "cell_type": "markdown",
   "id": "ecbd85f5",
   "metadata": {
    "papermill": {
     "duration": 0.014535,
     "end_time": "2022-10-22T05:44:29.979674",
     "exception": false,
     "start_time": "2022-10-22T05:44:29.965139",
     "status": "completed"
    },
    "tags": []
   },
   "source": [
    "**Question 2**"
   ]
  },
  {
   "cell_type": "code",
   "execution_count": 9,
   "id": "8af4fa47",
   "metadata": {
    "execution": {
     "iopub.execute_input": "2022-10-22T05:44:30.012412Z",
     "iopub.status.busy": "2022-10-22T05:44:30.012003Z",
     "iopub.status.idle": "2022-10-22T05:44:30.199962Z",
     "shell.execute_reply": "2022-10-22T05:44:30.198528Z"
    },
    "papermill": {
     "duration": 0.207876,
     "end_time": "2022-10-22T05:44:30.202716",
     "exception": false,
     "start_time": "2022-10-22T05:44:29.994840",
     "status": "completed"
    },
    "tags": []
   },
   "outputs": [
    {
     "data": {
      "image/png": "[encoded data removed]",
      "text/plain": [
       "<Figure size 432x288 with 1 Axes>"
      ]
     },
     "metadata": {
      "needs_background": "light"
     },
     "output_type": "display_data"
    }
   ],
   "source": [
    "data['Sex'].value_counts().plot(kind='bar');"
   ]
  },
  {
   "cell_type": "markdown",
   "id": "f11b2c83",
   "metadata": {
    "papermill": {
     "duration": 0.014665,
     "end_time": "2022-10-22T05:44:30.232418",
     "exception": false,
     "start_time": "2022-10-22T05:44:30.217753",
     "status": "completed"
    },
    "tags": []
   },
   "source": [
    "**Observation**\n",
    "\n",
    "we have more female than male."
   ]
  },
  {
   "cell_type": "markdown",
   "id": "75f98d5c",
   "metadata": {
    "papermill": {
     "duration": 0.015017,
     "end_time": "2022-10-22T05:44:30.262315",
     "exception": false,
     "start_time": "2022-10-22T05:44:30.247298",
     "status": "completed"
    },
    "tags": []
   },
   "source": [
    "**Question 3**"
   ]
  },
  {
   "cell_type": "code",
   "execution_count": 10,
   "id": "197af139",
   "metadata": {
    "execution": {
     "iopub.execute_input": "2022-10-22T05:44:30.294852Z",
     "iopub.status.busy": "2022-10-22T05:44:30.294425Z",
     "iopub.status.idle": "2022-10-22T05:44:30.494656Z",
     "shell.execute_reply": "2022-10-22T05:44:30.493163Z"
    },
    "papermill": {
     "duration": 0.219657,
     "end_time": "2022-10-22T05:44:30.497310",
     "exception": false,
     "start_time": "2022-10-22T05:44:30.277653",
     "status": "completed"
    },
    "tags": []
   },
   "outputs": [
    {
     "data": {
      "image/png": "[encoded data removed]",
      "text/plain": [
       "<Figure size 432x288 with 1 Axes>"
      ]
     },
     "metadata": {
      "needs_background": "light"
     },
     "output_type": "display_data"
    }
   ],
   "source": [
    "data['Education'].value_counts().plot(kind='bar');"
   ]
  },
  {
   "cell_type": "markdown",
   "id": "4e2c6198",
   "metadata": {
    "papermill": {
     "duration": 0.016415,
     "end_time": "2022-10-22T05:44:30.529460",
     "exception": false,
     "start_time": "2022-10-22T05:44:30.513045",
     "status": "completed"
    },
    "tags": []
   },
   "source": [
    "**Observation**\n",
    "\n",
    "A lot of the Respondents are educated."
   ]
  },
  {
   "cell_type": "markdown",
   "id": "cd678ddd",
   "metadata": {
    "papermill": {
     "duration": 0.014951,
     "end_time": "2022-10-22T05:44:30.559664",
     "exception": false,
     "start_time": "2022-10-22T05:44:30.544713",
     "status": "completed"
    },
    "tags": []
   },
   "source": [
    "**Question 4**"
   ]
  },
  {
   "cell_type": "code",
   "execution_count": 11,
   "id": "6b7c7740",
   "metadata": {
    "execution": {
     "iopub.execute_input": "2022-10-22T05:44:30.592155Z",
     "iopub.status.busy": "2022-10-22T05:44:30.591677Z",
     "iopub.status.idle": "2022-10-22T05:44:30.732109Z",
     "shell.execute_reply": "2022-10-22T05:44:30.731241Z"
    },
    "papermill": {
     "duration": 0.160384,
     "end_time": "2022-10-22T05:44:30.735351",
     "exception": false,
     "start_time": "2022-10-22T05:44:30.574967",
     "status": "completed"
    },
    "tags": []
   },
   "outputs": [
    {
     "data": {
      "image/png": "[encoded data removed]",
      "text/plain": [
       "<Figure size 432x288 with 1 Axes>"
      ]
     },
     "metadata": {
      "needs_background": "light"
     },
     "output_type": "display_data"
    }
   ],
   "source": [
    "data['HighChol'].value_counts(normalize=True).plot(kind='bar');"
   ]
  },
  {
   "cell_type": "markdown",
   "id": "070b75a9",
   "metadata": {
    "papermill": {
     "duration": 0.015888,
     "end_time": "2022-10-22T05:44:30.772550",
     "exception": false,
     "start_time": "2022-10-22T05:44:30.756662",
     "status": "completed"
    },
    "tags": []
   },
   "source": [
    "**Observation**\n",
    "\n",
    "About 45% of the Respondents have been told they have high cholesterol. "
   ]
  },
  {
   "cell_type": "markdown",
   "id": "8aaa24e2",
   "metadata": {
    "papermill": {
     "duration": 0.015413,
     "end_time": "2022-10-22T05:44:30.803411",
     "exception": false,
     "start_time": "2022-10-22T05:44:30.787998",
     "status": "completed"
    },
    "tags": []
   },
   "source": [
    "**Question 5**"
   ]
  },
  {
   "cell_type": "code",
   "execution_count": 12,
   "id": "ffc2fdd6",
   "metadata": {
    "execution": {
     "iopub.execute_input": "2022-10-22T05:44:30.836833Z",
     "iopub.status.busy": "2022-10-22T05:44:30.836411Z",
     "iopub.status.idle": "2022-10-22T05:44:31.007481Z",
     "shell.execute_reply": "2022-10-22T05:44:31.006265Z"
    },
    "papermill": {
     "duration": 0.1911,
     "end_time": "2022-10-22T05:44:31.010175",
     "exception": false,
     "start_time": "2022-10-22T05:44:30.819075",
     "status": "completed"
    },
    "tags": []
   },
   "outputs": [
    {
     "data": {
      "image/png": "[encoded data removed]",
      "text/plain": [
       "<Figure size 432x288 with 1 Axes>"
      ]
     },
     "metadata": {
      "needs_background": "light"
     },
     "output_type": "display_data"
    }
   ],
   "source": [
    "data['HighBP'].value_counts(normalize=True).plot(kind='bar');"
   ]
  },
  {
   "cell_type": "markdown",
   "id": "1f7b9db4",
   "metadata": {
    "papermill": {
     "duration": 0.015625,
     "end_time": "2022-10-22T05:44:31.041309",
     "exception": false,
     "start_time": "2022-10-22T05:44:31.025684",
     "status": "completed"
    },
    "tags": []
   },
   "source": [
    "**Observation**\n",
    "\n",
    "About 45% of the Respondents have been told they have high blood pressure. "
   ]
  },
  {
   "cell_type": "markdown",
   "id": "a70a31c1",
   "metadata": {
    "papermill": {
     "duration": 0.015185,
     "end_time": "2022-10-22T05:44:31.072199",
     "exception": false,
     "start_time": "2022-10-22T05:44:31.057014",
     "status": "completed"
    },
    "tags": []
   },
   "source": [
    "**Question 6**"
   ]
  },
  {
   "cell_type": "code",
   "execution_count": 13,
   "id": "f8c097b4",
   "metadata": {
    "execution": {
     "iopub.execute_input": "2022-10-22T05:44:31.105599Z",
     "iopub.status.busy": "2022-10-22T05:44:31.104366Z",
     "iopub.status.idle": "2022-10-22T05:44:31.108950Z",
     "shell.execute_reply": "2022-10-22T05:44:31.108139Z"
    },
    "papermill": {
     "duration": 0.023397,
     "end_time": "2022-10-22T05:44:31.111127",
     "exception": false,
     "start_time": "2022-10-22T05:44:31.087730",
     "status": "completed"
    },
    "tags": []
   },
   "outputs": [],
   "source": [
    "#data.query(\"`BMI` >= 18.0 and `BMI` < 25.0\")"
   ]
  },
  {
   "cell_type": "code",
   "execution_count": 14,
   "id": "2036e47f",
   "metadata": {
    "execution": {
     "iopub.execute_input": "2022-10-22T05:44:31.145238Z",
     "iopub.status.busy": "2022-10-22T05:44:31.144309Z",
     "iopub.status.idle": "2022-10-22T05:44:31.492717Z",
     "shell.execute_reply": "2022-10-22T05:44:31.491493Z"
    },
    "papermill": {
     "duration": 0.368178,
     "end_time": "2022-10-22T05:44:31.495234",
     "exception": false,
     "start_time": "2022-10-22T05:44:31.127056",
     "status": "completed"
    },
    "tags": []
   },
   "outputs": [
    {
     "data": {
      "image/png": "[encoded data removed]",
      "text/plain": [
       "<Figure size 432x288 with 1 Axes>"
      ]
     },
     "metadata": {
      "needs_background": "light"
     },
     "output_type": "display_data"
    }
   ],
   "source": [
    "plt.hist(data['BMI'], bins=10);"
   ]
  },
  {
   "cell_type": "markdown",
   "id": "f4008ba9",
   "metadata": {
    "papermill": {
     "duration": 0.015377,
     "end_time": "2022-10-22T05:44:31.527167",
     "exception": false,
     "start_time": "2022-10-22T05:44:31.511790",
     "status": "completed"
    },
    "tags": []
   },
   "source": [
    "**Observation**\n",
    "\n",
    "A lot of Respondent BMI falls between the 20-30 range"
   ]
  },
  {
   "cell_type": "markdown",
   "id": "070cf4fa",
   "metadata": {
    "papermill": {
     "duration": 0.016202,
     "end_time": "2022-10-22T05:44:31.559731",
     "exception": false,
     "start_time": "2022-10-22T05:44:31.543529",
     "status": "completed"
    },
    "tags": []
   },
   "source": [
    "### Bi-variate Analysis"
   ]
  },
  {
   "cell_type": "markdown",
   "id": "b11f8a2e",
   "metadata": {
    "papermill": {
     "duration": 0.016358,
     "end_time": "2022-10-22T05:44:31.591950",
     "exception": false,
     "start_time": "2022-10-22T05:44:31.575592",
     "status": "completed"
    },
    "tags": []
   },
   "source": [
    "**Question 7**"
   ]
  },
  {
   "cell_type": "code",
   "execution_count": 15,
   "id": "416cabfd",
   "metadata": {
    "execution": {
     "iopub.execute_input": "2022-10-22T05:44:31.626361Z",
     "iopub.status.busy": "2022-10-22T05:44:31.625242Z",
     "iopub.status.idle": "2022-10-22T05:44:31.908900Z",
     "shell.execute_reply": "2022-10-22T05:44:31.907893Z"
    },
    "papermill": {
     "duration": 0.30335,
     "end_time": "2022-10-22T05:44:31.911603",
     "exception": false,
     "start_time": "2022-10-22T05:44:31.608253",
     "status": "completed"
    },
    "tags": []
   },
   "outputs": [
    {
     "data": {
      "image/png": "[encoded data removed]",
      "text/plain": [
       "<Figure size 432x288 with 2 Axes>"
      ]
     },
     "metadata": {
      "needs_background": "light"
     },
     "output_type": "display_data"
    }
   ],
   "source": [
    "sns.heatmap(pd.crosstab(data['Diabetes_binary'], data['Sex']), annot=True);"
   ]
  },
  {
   "cell_type": "markdown",
   "id": "1e3e2ad4",
   "metadata": {
    "papermill": {
     "duration": 0.015731,
     "end_time": "2022-10-22T05:44:31.943484",
     "exception": false,
     "start_time": "2022-10-22T05:44:31.927753",
     "status": "completed"
    },
    "tags": []
   },
   "source": [
    "**Observation**\n",
    "\n",
    "The Gender respondents with diabetes seems balance."
   ]
  },
  {
   "cell_type": "markdown",
   "id": "de057d38",
   "metadata": {
    "papermill": {
     "duration": 0.015578,
     "end_time": "2022-10-22T05:44:31.975074",
     "exception": false,
     "start_time": "2022-10-22T05:44:31.959496",
     "status": "completed"
    },
    "tags": []
   },
   "source": [
    "**Question 8**"
   ]
  },
  {
   "cell_type": "code",
   "execution_count": 16,
   "id": "620115e7",
   "metadata": {
    "execution": {
     "iopub.execute_input": "2022-10-22T05:44:32.008724Z",
     "iopub.status.busy": "2022-10-22T05:44:32.008320Z",
     "iopub.status.idle": "2022-10-22T05:44:32.292541Z",
     "shell.execute_reply": "2022-10-22T05:44:32.291257Z"
    },
    "papermill": {
     "duration": 0.304259,
     "end_time": "2022-10-22T05:44:32.295242",
     "exception": false,
     "start_time": "2022-10-22T05:44:31.990983",
     "status": "completed"
    },
    "tags": []
   },
   "outputs": [
    {
     "data": {
      "image/png": "[encoded data removed]",
      "text/plain": [
       "<Figure size 432x288 with 1 Axes>"
      ]
     },
     "metadata": {
      "needs_background": "light"
     },
     "output_type": "display_data"
    }
   ],
   "source": [
    "sns.countplot(x='Education', hue='Diabetes_binary', data=data);"
   ]
  },
  {
   "cell_type": "markdown",
   "id": "78133166",
   "metadata": {
    "papermill": {
     "duration": 0.016108,
     "end_time": "2022-10-22T05:44:32.327712",
     "exception": false,
     "start_time": "2022-10-22T05:44:32.311604",
     "status": "completed"
    },
    "tags": []
   },
   "source": [
    "**Observation**\n",
    "\n",
    "The Education level of the respondent is not really determining not having diabetes."
   ]
  },
  {
   "cell_type": "markdown",
   "id": "32ca359a",
   "metadata": {
    "papermill": {
     "duration": 0.015905,
     "end_time": "2022-10-22T05:44:32.359898",
     "exception": false,
     "start_time": "2022-10-22T05:44:32.343993",
     "status": "completed"
    },
    "tags": []
   },
   "source": [
    "**Question 9**"
   ]
  },
  {
   "cell_type": "code",
   "execution_count": 17,
   "id": "2c012f4c",
   "metadata": {
    "execution": {
     "iopub.execute_input": "2022-10-22T05:44:32.394094Z",
     "iopub.status.busy": "2022-10-22T05:44:32.393625Z",
     "iopub.status.idle": "2022-10-22T05:44:32.443271Z",
     "shell.execute_reply": "2022-10-22T05:44:32.442162Z"
    },
    "papermill": {
     "duration": 0.069663,
     "end_time": "2022-10-22T05:44:32.445785",
     "exception": false,
     "start_time": "2022-10-22T05:44:32.376122",
     "status": "completed"
    },
    "tags": []
   },
   "outputs": [
    {
     "data": {
      "text/html": [
       "<div>\n",
       "<style scoped>\n",
       "    .dataframe tbody tr th:only-of-type {\n",
       "        vertical-align: middle;\n",
       "    }\n",
       "\n",
       "    .dataframe tbody tr th {\n",
       "        vertical-align: top;\n",
       "    }\n",
       "\n",
       "    .dataframe thead th {\n",
       "        text-align: right;\n",
       "    }\n",
       "</style>\n",
       "<table border=\"1\" class=\"dataframe\">\n",
       "  <thead>\n",
       "    <tr style=\"text-align: right;\">\n",
       "      <th>HighBP</th>\n",
       "      <th>0.0</th>\n",
       "      <th>1.0</th>\n",
       "    </tr>\n",
       "    <tr>\n",
       "      <th>HighChol</th>\n",
       "      <th></th>\n",
       "      <th></th>\n",
       "    </tr>\n",
       "  </thead>\n",
       "  <tbody>\n",
       "    <tr>\n",
       "      <th>0.0</th>\n",
       "      <td>82856</td>\n",
       "      <td>42095</td>\n",
       "    </tr>\n",
       "    <tr>\n",
       "      <th>1.0</th>\n",
       "      <td>40583</td>\n",
       "      <td>63725</td>\n",
       "    </tr>\n",
       "  </tbody>\n",
       "</table>\n",
       "</div>"
      ],
      "text/plain": [
       "HighBP      0.0    1.0\n",
       "HighChol              \n",
       "0.0       82856  42095\n",
       "1.0       40583  63725"
      ]
     },
     "execution_count": 17,
     "metadata": {},
     "output_type": "execute_result"
    }
   ],
   "source": [
    "pd.crosstab(data['HighChol'], data['HighBP'])"
   ]
  },
  {
   "cell_type": "code",
   "execution_count": 18,
   "id": "93b5dc12",
   "metadata": {
    "execution": {
     "iopub.execute_input": "2022-10-22T05:44:32.481454Z",
     "iopub.status.busy": "2022-10-22T05:44:32.481046Z",
     "iopub.status.idle": "2022-10-22T05:44:32.508506Z",
     "shell.execute_reply": "2022-10-22T05:44:32.507413Z"
    },
    "papermill": {
     "duration": 0.048135,
     "end_time": "2022-10-22T05:44:32.511000",
     "exception": false,
     "start_time": "2022-10-22T05:44:32.462865",
     "status": "completed"
    },
    "tags": []
   },
   "outputs": [
    {
     "data": {
      "text/plain": [
       "0.0    0.700165\n",
       "1.0    0.299835\n",
       "Name: Diabetes_binary, dtype: float64"
      ]
     },
     "execution_count": 18,
     "metadata": {},
     "output_type": "execute_result"
    }
   ],
   "source": [
    "data.query(\"`HighChol` == 1.0 and `HighBP` == 1.0\")['Diabetes_binary'].value_counts(normalize=True)"
   ]
  },
  {
   "cell_type": "code",
   "execution_count": null,
   "id": "4b582fac",
   "metadata": {
    "papermill": {
     "duration": 0.016625,
     "end_time": "2022-10-22T05:44:32.544290",
     "exception": false,
     "start_time": "2022-10-22T05:44:32.527665",
     "status": "completed"
    },
    "tags": []
   },
   "outputs": [],
   "source": []
  },
  {
   "cell_type": "markdown",
   "id": "c910b304",
   "metadata": {
    "papermill": {
     "duration": 0.016109,
     "end_time": "2022-10-22T05:44:32.577013",
     "exception": false,
     "start_time": "2022-10-22T05:44:32.560904",
     "status": "completed"
    },
    "tags": []
   },
   "source": [
    "### Diagonistics Analysis"
   ]
  },
  {
   "cell_type": "markdown",
   "id": "9048b847",
   "metadata": {
    "papermill": {
     "duration": 0.017086,
     "end_time": "2022-10-22T05:44:32.610471",
     "exception": false,
     "start_time": "2022-10-22T05:44:32.593385",
     "status": "completed"
    },
    "tags": []
   },
   "source": [
    "In this section, we'll look at how different category variables relate to whether a patient has autism or not by utilizing the Chi-Square method.\n",
    "\n",
    "**Note: Finding relationships between categorical data via correlation is one of data science's pitfalls.**\n",
    "\n",
    "##### Formulate our hypothesis\n",
    "\n",
    "H0 - The feature did not have significance difference with Diabetes class.\n",
    "\n",
    "H1 - The feature checked have significant difference with Diabetes class.\n",
    "\n",
    "If the p-value is > 0.05 hence the feature did not have significance effect on Diabetes class and vice versa."
   ]
  },
  {
   "cell_type": "code",
   "execution_count": 19,
   "id": "8618bb97",
   "metadata": {
    "execution": {
     "iopub.execute_input": "2022-10-22T05:44:32.646947Z",
     "iopub.status.busy": "2022-10-22T05:44:32.645831Z",
     "iopub.status.idle": "2022-10-22T05:44:32.660001Z",
     "shell.execute_reply": "2022-10-22T05:44:32.658736Z"
    },
    "papermill": {
     "duration": 0.035346,
     "end_time": "2022-10-22T05:44:32.662616",
     "exception": false,
     "start_time": "2022-10-22T05:44:32.627270",
     "status": "completed"
    },
    "tags": []
   },
   "outputs": [
    {
     "name": "stdout",
     "output_type": "stream",
     "text": [
      "2\n",
      "2\n"
     ]
    }
   ],
   "source": [
    "print(data['HighBP'].nunique())\n",
    "print(data['HighChol'].nunique())"
   ]
  },
  {
   "cell_type": "code",
   "execution_count": 20,
   "id": "411dc5ef",
   "metadata": {
    "execution": {
     "iopub.execute_input": "2022-10-22T05:44:32.699575Z",
     "iopub.status.busy": "2022-10-22T05:44:32.698300Z",
     "iopub.status.idle": "2022-10-22T05:44:32.731106Z",
     "shell.execute_reply": "2022-10-22T05:44:32.729914Z"
    },
    "papermill": {
     "duration": 0.053641,
     "end_time": "2022-10-22T05:44:32.733688",
     "exception": false,
     "start_time": "2022-10-22T05:44:32.680047",
     "status": "completed"
    },
    "tags": []
   },
   "outputs": [
    {
     "data": {
      "text/html": [
       "<div>\n",
       "<style scoped>\n",
       "    .dataframe tbody tr th:only-of-type {\n",
       "        vertical-align: middle;\n",
       "    }\n",
       "\n",
       "    .dataframe tbody tr th {\n",
       "        vertical-align: top;\n",
       "    }\n",
       "\n",
       "    .dataframe thead th {\n",
       "        text-align: right;\n",
       "    }\n",
       "</style>\n",
       "<table border=\"1\" class=\"dataframe\">\n",
       "  <thead>\n",
       "    <tr style=\"text-align: right;\">\n",
       "      <th></th>\n",
       "      <th>index</th>\n",
       "      <th>Diabetes_binary</th>\n",
       "      <th>HighBP</th>\n",
       "      <th>HighChol</th>\n",
       "      <th>CholCheck</th>\n",
       "      <th>BMI</th>\n",
       "      <th>Smoker</th>\n",
       "      <th>Stroke</th>\n",
       "      <th>HeartDiseaseorAttack</th>\n",
       "      <th>PhysActivity</th>\n",
       "      <th>...</th>\n",
       "      <th>AnyHealthcare</th>\n",
       "      <th>NoDocbcCost</th>\n",
       "      <th>GenHlth</th>\n",
       "      <th>MentHlth</th>\n",
       "      <th>PhysHlth</th>\n",
       "      <th>DiffWalk</th>\n",
       "      <th>Sex</th>\n",
       "      <th>Age</th>\n",
       "      <th>Education</th>\n",
       "      <th>Income</th>\n",
       "    </tr>\n",
       "  </thead>\n",
       "  <tbody>\n",
       "    <tr>\n",
       "      <th>0</th>\n",
       "      <td>0</td>\n",
       "      <td>0.0</td>\n",
       "      <td>1.0</td>\n",
       "      <td>1.0</td>\n",
       "      <td>1.0</td>\n",
       "      <td>40.0</td>\n",
       "      <td>1.0</td>\n",
       "      <td>0.0</td>\n",
       "      <td>0.0</td>\n",
       "      <td>0.0</td>\n",
       "      <td>...</td>\n",
       "      <td>1.0</td>\n",
       "      <td>0.0</td>\n",
       "      <td>5.0</td>\n",
       "      <td>18.0</td>\n",
       "      <td>15.0</td>\n",
       "      <td>1.0</td>\n",
       "      <td>0.0</td>\n",
       "      <td>9.0</td>\n",
       "      <td>4.0</td>\n",
       "      <td>3.0</td>\n",
       "    </tr>\n",
       "    <tr>\n",
       "      <th>1</th>\n",
       "      <td>1</td>\n",
       "      <td>0.0</td>\n",
       "      <td>0.0</td>\n",
       "      <td>0.0</td>\n",
       "      <td>0.0</td>\n",
       "      <td>25.0</td>\n",
       "      <td>1.0</td>\n",
       "      <td>0.0</td>\n",
       "      <td>0.0</td>\n",
       "      <td>1.0</td>\n",
       "      <td>...</td>\n",
       "      <td>0.0</td>\n",
       "      <td>1.0</td>\n",
       "      <td>3.0</td>\n",
       "      <td>0.0</td>\n",
       "      <td>0.0</td>\n",
       "      <td>0.0</td>\n",
       "      <td>0.0</td>\n",
       "      <td>7.0</td>\n",
       "      <td>6.0</td>\n",
       "      <td>1.0</td>\n",
       "    </tr>\n",
       "    <tr>\n",
       "      <th>2</th>\n",
       "      <td>2</td>\n",
       "      <td>0.0</td>\n",
       "      <td>1.0</td>\n",
       "      <td>1.0</td>\n",
       "      <td>1.0</td>\n",
       "      <td>28.0</td>\n",
       "      <td>0.0</td>\n",
       "      <td>0.0</td>\n",
       "      <td>0.0</td>\n",
       "      <td>0.0</td>\n",
       "      <td>...</td>\n",
       "      <td>1.0</td>\n",
       "      <td>1.0</td>\n",
       "      <td>5.0</td>\n",
       "      <td>30.0</td>\n",
       "      <td>30.0</td>\n",
       "      <td>1.0</td>\n",
       "      <td>0.0</td>\n",
       "      <td>9.0</td>\n",
       "      <td>4.0</td>\n",
       "      <td>8.0</td>\n",
       "    </tr>\n",
       "    <tr>\n",
       "      <th>3</th>\n",
       "      <td>3</td>\n",
       "      <td>0.0</td>\n",
       "      <td>1.0</td>\n",
       "      <td>0.0</td>\n",
       "      <td>1.0</td>\n",
       "      <td>27.0</td>\n",
       "      <td>0.0</td>\n",
       "      <td>0.0</td>\n",
       "      <td>0.0</td>\n",
       "      <td>1.0</td>\n",
       "      <td>...</td>\n",
       "      <td>1.0</td>\n",
       "      <td>0.0</td>\n",
       "      <td>2.0</td>\n",
       "      <td>0.0</td>\n",
       "      <td>0.0</td>\n",
       "      <td>0.0</td>\n",
       "      <td>0.0</td>\n",
       "      <td>11.0</td>\n",
       "      <td>3.0</td>\n",
       "      <td>6.0</td>\n",
       "    </tr>\n",
       "    <tr>\n",
       "      <th>4</th>\n",
       "      <td>4</td>\n",
       "      <td>0.0</td>\n",
       "      <td>1.0</td>\n",
       "      <td>1.0</td>\n",
       "      <td>1.0</td>\n",
       "      <td>24.0</td>\n",
       "      <td>0.0</td>\n",
       "      <td>0.0</td>\n",
       "      <td>0.0</td>\n",
       "      <td>1.0</td>\n",
       "      <td>...</td>\n",
       "      <td>1.0</td>\n",
       "      <td>0.0</td>\n",
       "      <td>2.0</td>\n",
       "      <td>3.0</td>\n",
       "      <td>0.0</td>\n",
       "      <td>0.0</td>\n",
       "      <td>0.0</td>\n",
       "      <td>11.0</td>\n",
       "      <td>5.0</td>\n",
       "      <td>4.0</td>\n",
       "    </tr>\n",
       "  </tbody>\n",
       "</table>\n",
       "<p>5 rows × 23 columns</p>\n",
       "</div>"
      ],
      "text/plain": [
       "   index  Diabetes_binary  HighBP  HighChol  CholCheck   BMI  Smoker  Stroke  \\\n",
       "0      0              0.0     1.0       1.0        1.0  40.0     1.0     0.0   \n",
       "1      1              0.0     0.0       0.0        0.0  25.0     1.0     0.0   \n",
       "2      2              0.0     1.0       1.0        1.0  28.0     0.0     0.0   \n",
       "3      3              0.0     1.0       0.0        1.0  27.0     0.0     0.0   \n",
       "4      4              0.0     1.0       1.0        1.0  24.0     0.0     0.0   \n",
       "\n",
       "   HeartDiseaseorAttack  PhysActivity  ...  AnyHealthcare  NoDocbcCost  \\\n",
       "0                   0.0           0.0  ...            1.0          0.0   \n",
       "1                   0.0           1.0  ...            0.0          1.0   \n",
       "2                   0.0           0.0  ...            1.0          1.0   \n",
       "3                   0.0           1.0  ...            1.0          0.0   \n",
       "4                   0.0           1.0  ...            1.0          0.0   \n",
       "\n",
       "   GenHlth  MentHlth  PhysHlth  DiffWalk  Sex   Age  Education  Income  \n",
       "0      5.0      18.0      15.0       1.0  0.0   9.0        4.0     3.0  \n",
       "1      3.0       0.0       0.0       0.0  0.0   7.0        6.0     1.0  \n",
       "2      5.0      30.0      30.0       1.0  0.0   9.0        4.0     8.0  \n",
       "3      2.0       0.0       0.0       0.0  0.0  11.0        3.0     6.0  \n",
       "4      2.0       3.0       0.0       0.0  0.0  11.0        5.0     4.0  \n",
       "\n",
       "[5 rows x 23 columns]"
      ]
     },
     "execution_count": 20,
     "metadata": {},
     "output_type": "execute_result"
    }
   ],
   "source": [
    "data.head()"
   ]
  },
  {
   "cell_type": "code",
   "execution_count": 21,
   "id": "8c759d63",
   "metadata": {
    "execution": {
     "iopub.execute_input": "2022-10-22T05:44:32.771520Z",
     "iopub.status.busy": "2022-10-22T05:44:32.770478Z",
     "iopub.status.idle": "2022-10-22T05:44:32.777982Z",
     "shell.execute_reply": "2022-10-22T05:44:32.776618Z"
    },
    "papermill": {
     "duration": 0.028585,
     "end_time": "2022-10-22T05:44:32.780767",
     "exception": false,
     "start_time": "2022-10-22T05:44:32.752182",
     "status": "completed"
    },
    "tags": []
   },
   "outputs": [],
   "source": [
    "def chi_check(var1, var2, significance_level=None):\n",
    "  tab_class = pd.crosstab(data[var1], data[var2], margins=True)\n",
    "  tab_values = np.array([tab_class.iloc[0].values,\n",
    "                  tab_class.iloc[1].values])\n",
    "  stat, p, dof, expected_value= chi2_contingency(tab_values)\n",
    "  print(\"p value: \" + str(p)) \n",
    "  if p <= significance_level: \n",
    "    print('Reject NULL HYPOTHESIS') \n",
    "  else:\n",
    "    print('ACCEPT NULL HYPOTHESIS')"
   ]
  },
  {
   "cell_type": "code",
   "execution_count": 22,
   "id": "ab136d37",
   "metadata": {
    "execution": {
     "iopub.execute_input": "2022-10-22T05:44:32.818773Z",
     "iopub.status.busy": "2022-10-22T05:44:32.818343Z",
     "iopub.status.idle": "2022-10-22T05:44:33.248763Z",
     "shell.execute_reply": "2022-10-22T05:44:33.247112Z"
    },
    "papermill": {
     "duration": 0.452712,
     "end_time": "2022-10-22T05:44:33.251579",
     "exception": false,
     "start_time": "2022-10-22T05:44:32.798867",
     "status": "completed"
    },
    "tags": []
   },
   "outputs": [
    {
     "name": "stdout",
     "output_type": "stream",
     "text": [
      "p value: 0.0\n",
      "Reject NULL HYPOTHESIS\n",
      "p value: 0.0\n",
      "Reject NULL HYPOTHESIS\n",
      "p value: 0.0\n",
      "Reject NULL HYPOTHESIS\n",
      "p value: 0.0\n",
      "Reject NULL HYPOTHESIS\n"
     ]
    }
   ],
   "source": [
    "chi_check('HighBP', 'HighChol', significance_level=0.05)\n",
    "chi_check('HighBP', 'Diabetes_binary', significance_level=0.05)\n",
    "chi_check('HighChol', 'Diabetes_binary', significance_level=0.05)\n",
    "chi_check('CholCheck', 'HighChol', significance_level=0.05)"
   ]
  },
  {
   "cell_type": "markdown",
   "id": "136726bd",
   "metadata": {
    "papermill": {
     "duration": 0.016986,
     "end_time": "2022-10-22T05:44:33.286846",
     "exception": false,
     "start_time": "2022-10-22T05:44:33.269860",
     "status": "completed"
    },
    "tags": []
   },
   "source": [
    "### Feature selection with chi square"
   ]
  },
  {
   "cell_type": "code",
   "execution_count": 23,
   "id": "9ca05202",
   "metadata": {
    "execution": {
     "iopub.execute_input": "2022-10-22T05:44:33.323976Z",
     "iopub.status.busy": "2022-10-22T05:44:33.322861Z",
     "iopub.status.idle": "2022-10-22T05:44:33.343917Z",
     "shell.execute_reply": "2022-10-22T05:44:33.342893Z"
    },
    "papermill": {
     "duration": 0.042166,
     "end_time": "2022-10-22T05:44:33.346439",
     "exception": false,
     "start_time": "2022-10-22T05:44:33.304273",
     "status": "completed"
    },
    "tags": []
   },
   "outputs": [],
   "source": [
    "data = data.drop('index', axis=1)"
   ]
  },
  {
   "cell_type": "code",
   "execution_count": 24,
   "id": "eab8fffc",
   "metadata": {
    "execution": {
     "iopub.execute_input": "2022-10-22T05:44:33.384469Z",
     "iopub.status.busy": "2022-10-22T05:44:33.383739Z",
     "iopub.status.idle": "2022-10-22T05:44:33.410967Z",
     "shell.execute_reply": "2022-10-22T05:44:33.409890Z"
    },
    "papermill": {
     "duration": 0.049258,
     "end_time": "2022-10-22T05:44:33.413579",
     "exception": false,
     "start_time": "2022-10-22T05:44:33.364321",
     "status": "completed"
    },
    "tags": []
   },
   "outputs": [],
   "source": [
    "data = data.astype('int64')"
   ]
  },
  {
   "cell_type": "code",
   "execution_count": 25,
   "id": "a1168413",
   "metadata": {
    "execution": {
     "iopub.execute_input": "2022-10-22T05:44:33.451100Z",
     "iopub.status.busy": "2022-10-22T05:44:33.450619Z",
     "iopub.status.idle": "2022-10-22T05:44:33.470433Z",
     "shell.execute_reply": "2022-10-22T05:44:33.469291Z"
    },
    "papermill": {
     "duration": 0.04138,
     "end_time": "2022-10-22T05:44:33.472894",
     "exception": false,
     "start_time": "2022-10-22T05:44:33.431514",
     "status": "completed"
    },
    "tags": []
   },
   "outputs": [
    {
     "data": {
      "text/html": [
       "<div>\n",
       "<style scoped>\n",
       "    .dataframe tbody tr th:only-of-type {\n",
       "        vertical-align: middle;\n",
       "    }\n",
       "\n",
       "    .dataframe tbody tr th {\n",
       "        vertical-align: top;\n",
       "    }\n",
       "\n",
       "    .dataframe thead th {\n",
       "        text-align: right;\n",
       "    }\n",
       "</style>\n",
       "<table border=\"1\" class=\"dataframe\">\n",
       "  <thead>\n",
       "    <tr style=\"text-align: right;\">\n",
       "      <th></th>\n",
       "      <th>Diabetes_binary</th>\n",
       "      <th>HighBP</th>\n",
       "      <th>HighChol</th>\n",
       "      <th>CholCheck</th>\n",
       "      <th>BMI</th>\n",
       "      <th>Smoker</th>\n",
       "      <th>Stroke</th>\n",
       "      <th>HeartDiseaseorAttack</th>\n",
       "      <th>PhysActivity</th>\n",
       "      <th>Fruits</th>\n",
       "      <th>...</th>\n",
       "      <th>AnyHealthcare</th>\n",
       "      <th>NoDocbcCost</th>\n",
       "      <th>GenHlth</th>\n",
       "      <th>MentHlth</th>\n",
       "      <th>PhysHlth</th>\n",
       "      <th>DiffWalk</th>\n",
       "      <th>Sex</th>\n",
       "      <th>Age</th>\n",
       "      <th>Education</th>\n",
       "      <th>Income</th>\n",
       "    </tr>\n",
       "  </thead>\n",
       "  <tbody>\n",
       "    <tr>\n",
       "      <th>0</th>\n",
       "      <td>0</td>\n",
       "      <td>1</td>\n",
       "      <td>1</td>\n",
       "      <td>1</td>\n",
       "      <td>40</td>\n",
       "      <td>1</td>\n",
       "      <td>0</td>\n",
       "      <td>0</td>\n",
       "      <td>0</td>\n",
       "      <td>0</td>\n",
       "      <td>...</td>\n",
       "      <td>1</td>\n",
       "      <td>0</td>\n",
       "      <td>5</td>\n",
       "      <td>18</td>\n",
       "      <td>15</td>\n",
       "      <td>1</td>\n",
       "      <td>0</td>\n",
       "      <td>9</td>\n",
       "      <td>4</td>\n",
       "      <td>3</td>\n",
       "    </tr>\n",
       "    <tr>\n",
       "      <th>1</th>\n",
       "      <td>0</td>\n",
       "      <td>0</td>\n",
       "      <td>0</td>\n",
       "      <td>0</td>\n",
       "      <td>25</td>\n",
       "      <td>1</td>\n",
       "      <td>0</td>\n",
       "      <td>0</td>\n",
       "      <td>1</td>\n",
       "      <td>0</td>\n",
       "      <td>...</td>\n",
       "      <td>0</td>\n",
       "      <td>1</td>\n",
       "      <td>3</td>\n",
       "      <td>0</td>\n",
       "      <td>0</td>\n",
       "      <td>0</td>\n",
       "      <td>0</td>\n",
       "      <td>7</td>\n",
       "      <td>6</td>\n",
       "      <td>1</td>\n",
       "    </tr>\n",
       "    <tr>\n",
       "      <th>2</th>\n",
       "      <td>0</td>\n",
       "      <td>1</td>\n",
       "      <td>1</td>\n",
       "      <td>1</td>\n",
       "      <td>28</td>\n",
       "      <td>0</td>\n",
       "      <td>0</td>\n",
       "      <td>0</td>\n",
       "      <td>0</td>\n",
       "      <td>1</td>\n",
       "      <td>...</td>\n",
       "      <td>1</td>\n",
       "      <td>1</td>\n",
       "      <td>5</td>\n",
       "      <td>30</td>\n",
       "      <td>30</td>\n",
       "      <td>1</td>\n",
       "      <td>0</td>\n",
       "      <td>9</td>\n",
       "      <td>4</td>\n",
       "      <td>8</td>\n",
       "    </tr>\n",
       "    <tr>\n",
       "      <th>3</th>\n",
       "      <td>0</td>\n",
       "      <td>1</td>\n",
       "      <td>0</td>\n",
       "      <td>1</td>\n",
       "      <td>27</td>\n",
       "      <td>0</td>\n",
       "      <td>0</td>\n",
       "      <td>0</td>\n",
       "      <td>1</td>\n",
       "      <td>1</td>\n",
       "      <td>...</td>\n",
       "      <td>1</td>\n",
       "      <td>0</td>\n",
       "      <td>2</td>\n",
       "      <td>0</td>\n",
       "      <td>0</td>\n",
       "      <td>0</td>\n",
       "      <td>0</td>\n",
       "      <td>11</td>\n",
       "      <td>3</td>\n",
       "      <td>6</td>\n",
       "    </tr>\n",
       "    <tr>\n",
       "      <th>4</th>\n",
       "      <td>0</td>\n",
       "      <td>1</td>\n",
       "      <td>1</td>\n",
       "      <td>1</td>\n",
       "      <td>24</td>\n",
       "      <td>0</td>\n",
       "      <td>0</td>\n",
       "      <td>0</td>\n",
       "      <td>1</td>\n",
       "      <td>1</td>\n",
       "      <td>...</td>\n",
       "      <td>1</td>\n",
       "      <td>0</td>\n",
       "      <td>2</td>\n",
       "      <td>3</td>\n",
       "      <td>0</td>\n",
       "      <td>0</td>\n",
       "      <td>0</td>\n",
       "      <td>11</td>\n",
       "      <td>5</td>\n",
       "      <td>4</td>\n",
       "    </tr>\n",
       "  </tbody>\n",
       "</table>\n",
       "<p>5 rows × 22 columns</p>\n",
       "</div>"
      ],
      "text/plain": [
       "   Diabetes_binary  HighBP  HighChol  CholCheck  BMI  Smoker  Stroke  \\\n",
       "0                0       1         1          1   40       1       0   \n",
       "1                0       0         0          0   25       1       0   \n",
       "2                0       1         1          1   28       0       0   \n",
       "3                0       1         0          1   27       0       0   \n",
       "4                0       1         1          1   24       0       0   \n",
       "\n",
       "   HeartDiseaseorAttack  PhysActivity  Fruits  ...  AnyHealthcare  \\\n",
       "0                     0             0       0  ...              1   \n",
       "1                     0             1       0  ...              0   \n",
       "2                     0             0       1  ...              1   \n",
       "3                     0             1       1  ...              1   \n",
       "4                     0             1       1  ...              1   \n",
       "\n",
       "   NoDocbcCost  GenHlth  MentHlth  PhysHlth  DiffWalk  Sex  Age  Education  \\\n",
       "0            0        5        18        15         1    0    9          4   \n",
       "1            1        3         0         0         0    0    7          6   \n",
       "2            1        5        30        30         1    0    9          4   \n",
       "3            0        2         0         0         0    0   11          3   \n",
       "4            0        2         3         0         0    0   11          5   \n",
       "\n",
       "   Income  \n",
       "0       3  \n",
       "1       1  \n",
       "2       8  \n",
       "3       6  \n",
       "4       4  \n",
       "\n",
       "[5 rows x 22 columns]"
      ]
     },
     "execution_count": 25,
     "metadata": {},
     "output_type": "execute_result"
    }
   ],
   "source": [
    "data.head()"
   ]
  },
  {
   "cell_type": "code",
   "execution_count": 26,
   "id": "e033950a",
   "metadata": {
    "execution": {
     "iopub.execute_input": "2022-10-22T05:44:33.511136Z",
     "iopub.status.busy": "2022-10-22T05:44:33.510703Z",
     "iopub.status.idle": "2022-10-22T05:44:33.530621Z",
     "shell.execute_reply": "2022-10-22T05:44:33.529410Z"
    },
    "papermill": {
     "duration": 0.042802,
     "end_time": "2022-10-22T05:44:33.533348",
     "exception": false,
     "start_time": "2022-10-22T05:44:33.490546",
     "status": "completed"
    },
    "tags": []
   },
   "outputs": [],
   "source": [
    "X = data.drop('Diabetes_binary', axis=1)\n",
    "y = data['Diabetes_binary']"
   ]
  },
  {
   "cell_type": "code",
   "execution_count": 27,
   "id": "607f778a",
   "metadata": {
    "execution": {
     "iopub.execute_input": "2022-10-22T05:44:33.572054Z",
     "iopub.status.busy": "2022-10-22T05:44:33.571555Z",
     "iopub.status.idle": "2022-10-22T05:44:33.647407Z",
     "shell.execute_reply": "2022-10-22T05:44:33.646265Z"
    },
    "papermill": {
     "duration": 0.098099,
     "end_time": "2022-10-22T05:44:33.649909",
     "exception": false,
     "start_time": "2022-10-22T05:44:33.551810",
     "status": "completed"
    },
    "tags": []
   },
   "outputs": [
    {
     "data": {
      "text/plain": [
       "(array([7.85342816e+03, 4.33840795e+03, 3.34943158e+01, 1.72328326e+04,\n",
       "        3.63073851e+02, 2.23563605e+03, 5.94505776e+03, 7.72573973e+02,\n",
       "        1.66936776e+02, 1.53385090e+02, 7.70487331e+02, 7.04893549e-01,\n",
       "        3.12569769e+02, 8.98721864e+03, 2.34011769e+04, 1.14688128e+05,\n",
       "        8.29174660e+03, 1.81591994e+02, 3.30042128e+03, 7.08754602e+02,\n",
       "        4.90244012e+03]),\n",
       " array([0.00000000e+000, 0.00000000e+000, 7.14725653e-009, 0.00000000e+000,\n",
       "        6.02933687e-081, 0.00000000e+000, 0.00000000e+000, 4.95567753e-170,\n",
       "        3.45334483e-038, 3.15582316e-035, 1.40863163e-169, 4.01144260e-001,\n",
       "        6.01762425e-070, 0.00000000e+000, 0.00000000e+000, 0.00000000e+000,\n",
       "        0.00000000e+000, 2.17686653e-041, 0.00000000e+000, 3.73228752e-156,\n",
       "        0.00000000e+000]))"
      ]
     },
     "execution_count": 27,
     "metadata": {},
     "output_type": "execute_result"
    }
   ],
   "source": [
    "f_score=chi2(X,y)   #returns f score and p value \n",
    "f_score"
   ]
  },
  {
   "cell_type": "code",
   "execution_count": 28,
   "id": "5f39a9e6",
   "metadata": {
    "execution": {
     "iopub.execute_input": "2022-10-22T05:44:33.687773Z",
     "iopub.status.busy": "2022-10-22T05:44:33.687285Z",
     "iopub.status.idle": "2022-10-22T05:44:33.692574Z",
     "shell.execute_reply": "2022-10-22T05:44:33.691526Z"
    },
    "papermill": {
     "duration": 0.027364,
     "end_time": "2022-10-22T05:44:33.695020",
     "exception": false,
     "start_time": "2022-10-22T05:44:33.667656",
     "status": "completed"
    },
    "tags": []
   },
   "outputs": [],
   "source": [
    "p_value=pd.Series(f_score[1],index=X.columns)"
   ]
  },
  {
   "cell_type": "code",
   "execution_count": 29,
   "id": "a8517b22",
   "metadata": {
    "execution": {
     "iopub.execute_input": "2022-10-22T05:44:33.733802Z",
     "iopub.status.busy": "2022-10-22T05:44:33.733405Z",
     "iopub.status.idle": "2022-10-22T05:44:33.738066Z",
     "shell.execute_reply": "2022-10-22T05:44:33.737185Z"
    },
    "papermill": {
     "duration": 0.026046,
     "end_time": "2022-10-22T05:44:33.740343",
     "exception": false,
     "start_time": "2022-10-22T05:44:33.714297",
     "status": "completed"
    },
    "tags": []
   },
   "outputs": [],
   "source": [
    "p_value.sort_values(ascending=True,inplace=True)"
   ]
  },
  {
   "cell_type": "code",
   "execution_count": 30,
   "id": "b53bc33b",
   "metadata": {
    "execution": {
     "iopub.execute_input": "2022-10-22T05:44:33.778578Z",
     "iopub.status.busy": "2022-10-22T05:44:33.778158Z",
     "iopub.status.idle": "2022-10-22T05:44:33.787287Z",
     "shell.execute_reply": "2022-10-22T05:44:33.786265Z"
    },
    "papermill": {
     "duration": 0.030614,
     "end_time": "2022-10-22T05:44:33.789619",
     "exception": false,
     "start_time": "2022-10-22T05:44:33.759005",
     "status": "completed"
    },
    "tags": []
   },
   "outputs": [
    {
     "data": {
      "text/plain": [
       "HighBP                   0.000000e+00\n",
       "Age                      0.000000e+00\n",
       "DiffWalk                 0.000000e+00\n",
       "PhysHlth                 0.000000e+00\n",
       "MentHlth                 0.000000e+00\n",
       "GenHlth                  0.000000e+00\n",
       "Income                   0.000000e+00\n",
       "Stroke                   0.000000e+00\n",
       "BMI                      0.000000e+00\n",
       "HighChol                 0.000000e+00\n",
       "HeartDiseaseorAttack     0.000000e+00\n",
       "PhysActivity            4.955678e-170\n",
       "HvyAlcoholConsump       1.408632e-169\n",
       "Education               3.732288e-156\n",
       "Smoker                   6.029337e-81\n",
       "NoDocbcCost              6.017624e-70\n",
       "Sex                      2.176867e-41\n",
       "Fruits                   3.453345e-38\n",
       "Veggies                  3.155823e-35\n",
       "CholCheck                7.147257e-09\n",
       "AnyHealthcare            4.011443e-01\n",
       "dtype: float64"
      ]
     },
     "execution_count": 30,
     "metadata": {},
     "output_type": "execute_result"
    }
   ],
   "source": [
    "p_value"
   ]
  },
  {
   "cell_type": "code",
   "execution_count": 31,
   "id": "7caeaa7b",
   "metadata": {
    "execution": {
     "iopub.execute_input": "2022-10-22T05:44:33.827709Z",
     "iopub.status.busy": "2022-10-22T05:44:33.827297Z",
     "iopub.status.idle": "2022-10-22T05:44:33.834003Z",
     "shell.execute_reply": "2022-10-22T05:44:33.833136Z"
    },
    "papermill": {
     "duration": 0.028395,
     "end_time": "2022-10-22T05:44:33.836163",
     "exception": false,
     "start_time": "2022-10-22T05:44:33.807768",
     "status": "completed"
    },
    "tags": []
   },
   "outputs": [],
   "source": [
    "p_value_features = p_value.reset_index().rename(columns={'index':'features', 0:'p_value'})"
   ]
  },
  {
   "cell_type": "code",
   "execution_count": 32,
   "id": "770fa51f",
   "metadata": {
    "execution": {
     "iopub.execute_input": "2022-10-22T05:44:33.875036Z",
     "iopub.status.busy": "2022-10-22T05:44:33.874291Z",
     "iopub.status.idle": "2022-10-22T05:44:33.881727Z",
     "shell.execute_reply": "2022-10-22T05:44:33.880464Z"
    },
    "papermill": {
     "duration": 0.029511,
     "end_time": "2022-10-22T05:44:33.884145",
     "exception": false,
     "start_time": "2022-10-22T05:44:33.854634",
     "status": "completed"
    },
    "tags": []
   },
   "outputs": [],
   "source": [
    "level_of_significance = 0.05\n",
    "p_value_features['Decision'] = np.where(p_value_features['p_value'] < 0.05, 'Reject Null Hypothesis', 'Accept Null Hypothesis')"
   ]
  },
  {
   "cell_type": "code",
   "execution_count": 33,
   "id": "1a2f2312",
   "metadata": {
    "execution": {
     "iopub.execute_input": "2022-10-22T05:44:33.923888Z",
     "iopub.status.busy": "2022-10-22T05:44:33.922757Z",
     "iopub.status.idle": "2022-10-22T05:44:33.937529Z",
     "shell.execute_reply": "2022-10-22T05:44:33.936266Z"
    },
    "papermill": {
     "duration": 0.037893,
     "end_time": "2022-10-22T05:44:33.940750",
     "exception": false,
     "start_time": "2022-10-22T05:44:33.902857",
     "status": "completed"
    },
    "tags": []
   },
   "outputs": [
    {
     "data": {
      "text/html": [
       "<div>\n",
       "<style scoped>\n",
       "    .dataframe tbody tr th:only-of-type {\n",
       "        vertical-align: middle;\n",
       "    }\n",
       "\n",
       "    .dataframe tbody tr th {\n",
       "        vertical-align: top;\n",
       "    }\n",
       "\n",
       "    .dataframe thead th {\n",
       "        text-align: right;\n",
       "    }\n",
       "</style>\n",
       "<table border=\"1\" class=\"dataframe\">\n",
       "  <thead>\n",
       "    <tr style=\"text-align: right;\">\n",
       "      <th></th>\n",
       "      <th>features</th>\n",
       "      <th>p_value</th>\n",
       "      <th>Decision</th>\n",
       "    </tr>\n",
       "  </thead>\n",
       "  <tbody>\n",
       "    <tr>\n",
       "      <th>0</th>\n",
       "      <td>HighBP</td>\n",
       "      <td>0.000000e+00</td>\n",
       "      <td>Reject Null Hypothesis</td>\n",
       "    </tr>\n",
       "    <tr>\n",
       "      <th>1</th>\n",
       "      <td>Age</td>\n",
       "      <td>0.000000e+00</td>\n",
       "      <td>Reject Null Hypothesis</td>\n",
       "    </tr>\n",
       "    <tr>\n",
       "      <th>2</th>\n",
       "      <td>DiffWalk</td>\n",
       "      <td>0.000000e+00</td>\n",
       "      <td>Reject Null Hypothesis</td>\n",
       "    </tr>\n",
       "    <tr>\n",
       "      <th>3</th>\n",
       "      <td>PhysHlth</td>\n",
       "      <td>0.000000e+00</td>\n",
       "      <td>Reject Null Hypothesis</td>\n",
       "    </tr>\n",
       "    <tr>\n",
       "      <th>4</th>\n",
       "      <td>MentHlth</td>\n",
       "      <td>0.000000e+00</td>\n",
       "      <td>Reject Null Hypothesis</td>\n",
       "    </tr>\n",
       "    <tr>\n",
       "      <th>5</th>\n",
       "      <td>GenHlth</td>\n",
       "      <td>0.000000e+00</td>\n",
       "      <td>Reject Null Hypothesis</td>\n",
       "    </tr>\n",
       "    <tr>\n",
       "      <th>6</th>\n",
       "      <td>Income</td>\n",
       "      <td>0.000000e+00</td>\n",
       "      <td>Reject Null Hypothesis</td>\n",
       "    </tr>\n",
       "    <tr>\n",
       "      <th>7</th>\n",
       "      <td>Stroke</td>\n",
       "      <td>0.000000e+00</td>\n",
       "      <td>Reject Null Hypothesis</td>\n",
       "    </tr>\n",
       "    <tr>\n",
       "      <th>8</th>\n",
       "      <td>BMI</td>\n",
       "      <td>0.000000e+00</td>\n",
       "      <td>Reject Null Hypothesis</td>\n",
       "    </tr>\n",
       "    <tr>\n",
       "      <th>9</th>\n",
       "      <td>HighChol</td>\n",
       "      <td>0.000000e+00</td>\n",
       "      <td>Reject Null Hypothesis</td>\n",
       "    </tr>\n",
       "    <tr>\n",
       "      <th>10</th>\n",
       "      <td>HeartDiseaseorAttack</td>\n",
       "      <td>0.000000e+00</td>\n",
       "      <td>Reject Null Hypothesis</td>\n",
       "    </tr>\n",
       "    <tr>\n",
       "      <th>11</th>\n",
       "      <td>PhysActivity</td>\n",
       "      <td>4.955678e-170</td>\n",
       "      <td>Reject Null Hypothesis</td>\n",
       "    </tr>\n",
       "    <tr>\n",
       "      <th>12</th>\n",
       "      <td>HvyAlcoholConsump</td>\n",
       "      <td>1.408632e-169</td>\n",
       "      <td>Reject Null Hypothesis</td>\n",
       "    </tr>\n",
       "    <tr>\n",
       "      <th>13</th>\n",
       "      <td>Education</td>\n",
       "      <td>3.732288e-156</td>\n",
       "      <td>Reject Null Hypothesis</td>\n",
       "    </tr>\n",
       "    <tr>\n",
       "      <th>14</th>\n",
       "      <td>Smoker</td>\n",
       "      <td>6.029337e-81</td>\n",
       "      <td>Reject Null Hypothesis</td>\n",
       "    </tr>\n",
       "    <tr>\n",
       "      <th>15</th>\n",
       "      <td>NoDocbcCost</td>\n",
       "      <td>6.017624e-70</td>\n",
       "      <td>Reject Null Hypothesis</td>\n",
       "    </tr>\n",
       "    <tr>\n",
       "      <th>16</th>\n",
       "      <td>Sex</td>\n",
       "      <td>2.176867e-41</td>\n",
       "      <td>Reject Null Hypothesis</td>\n",
       "    </tr>\n",
       "    <tr>\n",
       "      <th>17</th>\n",
       "      <td>Fruits</td>\n",
       "      <td>3.453345e-38</td>\n",
       "      <td>Reject Null Hypothesis</td>\n",
       "    </tr>\n",
       "    <tr>\n",
       "      <th>18</th>\n",
       "      <td>Veggies</td>\n",
       "      <td>3.155823e-35</td>\n",
       "      <td>Reject Null Hypothesis</td>\n",
       "    </tr>\n",
       "    <tr>\n",
       "      <th>19</th>\n",
       "      <td>CholCheck</td>\n",
       "      <td>7.147257e-09</td>\n",
       "      <td>Reject Null Hypothesis</td>\n",
       "    </tr>\n",
       "    <tr>\n",
       "      <th>20</th>\n",
       "      <td>AnyHealthcare</td>\n",
       "      <td>4.011443e-01</td>\n",
       "      <td>Accept Null Hypothesis</td>\n",
       "    </tr>\n",
       "  </tbody>\n",
       "</table>\n",
       "</div>"
      ],
      "text/plain": [
       "                features        p_value                Decision\n",
       "0                 HighBP   0.000000e+00  Reject Null Hypothesis\n",
       "1                    Age   0.000000e+00  Reject Null Hypothesis\n",
       "2               DiffWalk   0.000000e+00  Reject Null Hypothesis\n",
       "3               PhysHlth   0.000000e+00  Reject Null Hypothesis\n",
       "4               MentHlth   0.000000e+00  Reject Null Hypothesis\n",
       "5                GenHlth   0.000000e+00  Reject Null Hypothesis\n",
       "6                 Income   0.000000e+00  Reject Null Hypothesis\n",
       "7                 Stroke   0.000000e+00  Reject Null Hypothesis\n",
       "8                    BMI   0.000000e+00  Reject Null Hypothesis\n",
       "9               HighChol   0.000000e+00  Reject Null Hypothesis\n",
       "10  HeartDiseaseorAttack   0.000000e+00  Reject Null Hypothesis\n",
       "11          PhysActivity  4.955678e-170  Reject Null Hypothesis\n",
       "12     HvyAlcoholConsump  1.408632e-169  Reject Null Hypothesis\n",
       "13             Education  3.732288e-156  Reject Null Hypothesis\n",
       "14                Smoker   6.029337e-81  Reject Null Hypothesis\n",
       "15           NoDocbcCost   6.017624e-70  Reject Null Hypothesis\n",
       "16                   Sex   2.176867e-41  Reject Null Hypothesis\n",
       "17                Fruits   3.453345e-38  Reject Null Hypothesis\n",
       "18               Veggies   3.155823e-35  Reject Null Hypothesis\n",
       "19             CholCheck   7.147257e-09  Reject Null Hypothesis\n",
       "20         AnyHealthcare   4.011443e-01  Accept Null Hypothesis"
      ]
     },
     "execution_count": 33,
     "metadata": {},
     "output_type": "execute_result"
    }
   ],
   "source": [
    "p_value_features"
   ]
  },
  {
   "cell_type": "markdown",
   "id": "a1554f6a",
   "metadata": {
    "papermill": {
     "duration": 0.019392,
     "end_time": "2022-10-22T05:44:33.981193",
     "exception": false,
     "start_time": "2022-10-22T05:44:33.961801",
     "status": "completed"
    },
    "tags": []
   },
   "source": [
    "### Machine Learning model"
   ]
  },
  {
   "cell_type": "code",
   "execution_count": 34,
   "id": "c8c005fc",
   "metadata": {
    "execution": {
     "iopub.execute_input": "2022-10-22T05:44:34.020428Z",
     "iopub.status.busy": "2022-10-22T05:44:34.019971Z",
     "iopub.status.idle": "2022-10-22T05:44:34.047230Z",
     "shell.execute_reply": "2022-10-22T05:44:34.046080Z"
    },
    "papermill": {
     "duration": 0.049883,
     "end_time": "2022-10-22T05:44:34.049676",
     "exception": false,
     "start_time": "2022-10-22T05:44:33.999793",
     "status": "completed"
    },
    "tags": []
   },
   "outputs": [],
   "source": [
    "X = data.drop('Diabetes_binary', axis=1)\n",
    "y = data['Diabetes_binary']"
   ]
  },
  {
   "cell_type": "code",
   "execution_count": 35,
   "id": "2ee5e06f",
   "metadata": {
    "execution": {
     "iopub.execute_input": "2022-10-22T05:44:34.090335Z",
     "iopub.status.busy": "2022-10-22T05:44:34.089082Z",
     "iopub.status.idle": "2022-10-22T05:44:34.101408Z",
     "shell.execute_reply": "2022-10-22T05:44:34.100341Z"
    },
    "papermill": {
     "duration": 0.034806,
     "end_time": "2022-10-22T05:44:34.103806",
     "exception": false,
     "start_time": "2022-10-22T05:44:34.069000",
     "status": "completed"
    },
    "tags": []
   },
   "outputs": [
    {
     "data": {
      "text/plain": [
       "0    84.814555\n",
       "1    15.185445\n",
       "Name: Diabetes_binary, dtype: float64"
      ]
     },
     "execution_count": 35,
     "metadata": {},
     "output_type": "execute_result"
    }
   ],
   "source": [
    "y.value_counts(normalize=True) * 100"
   ]
  },
  {
   "cell_type": "code",
   "execution_count": 36,
   "id": "db2c4c04",
   "metadata": {
    "execution": {
     "iopub.execute_input": "2022-10-22T05:44:34.142611Z",
     "iopub.status.busy": "2022-10-22T05:44:34.142196Z",
     "iopub.status.idle": "2022-10-22T05:44:34.273994Z",
     "shell.execute_reply": "2022-10-22T05:44:34.272700Z"
    },
    "papermill": {
     "duration": 0.154336,
     "end_time": "2022-10-22T05:44:34.276579",
     "exception": false,
     "start_time": "2022-10-22T05:44:34.122243",
     "status": "completed"
    },
    "tags": []
   },
   "outputs": [],
   "source": [
    "# Separating the 80% data for training data and 20% for testing data\n",
    "X_train, X_test, y_train, y_test = train_test_split(X,y,test_size = 0.2, random_state =3, stratify=y)"
   ]
  },
  {
   "cell_type": "code",
   "execution_count": 37,
   "id": "c96fb6ec",
   "metadata": {
    "execution": {
     "iopub.execute_input": "2022-10-22T05:44:34.315947Z",
     "iopub.status.busy": "2022-10-22T05:44:34.315490Z",
     "iopub.status.idle": "2022-10-22T05:44:34.322446Z",
     "shell.execute_reply": "2022-10-22T05:44:34.321188Z"
    },
    "papermill": {
     "duration": 0.029962,
     "end_time": "2022-10-22T05:44:34.325132",
     "exception": false,
     "start_time": "2022-10-22T05:44:34.295170",
     "status": "completed"
    },
    "tags": []
   },
   "outputs": [
    {
     "name": "stdout",
     "output_type": "stream",
     "text": [
      "Shape of the X_train (183407, 21)\n",
      "Shape of the y_train (183407,)\n",
      "Shape of the X_test (45852, 21)\n",
      "Shape of the y_test (45852,)\n"
     ]
    }
   ],
   "source": [
    "print('Shape of the X_train {}'.format(X_train.shape))\n",
    "print('Shape of the y_train {}'.format(y_train.shape))\n",
    "print('Shape of the X_test {}'.format(X_test.shape))\n",
    "print('Shape of the y_test {}'.format(y_test.shape))"
   ]
  },
  {
   "cell_type": "code",
   "execution_count": 38,
   "id": "d4397e68",
   "metadata": {
    "execution": {
     "iopub.execute_input": "2022-10-22T05:44:34.364099Z",
     "iopub.status.busy": "2022-10-22T05:44:34.363301Z",
     "iopub.status.idle": "2022-10-22T05:44:34.374878Z",
     "shell.execute_reply": "2022-10-22T05:44:34.373753Z"
    },
    "papermill": {
     "duration": 0.033694,
     "end_time": "2022-10-22T05:44:34.377251",
     "exception": false,
     "start_time": "2022-10-22T05:44:34.343557",
     "status": "completed"
    },
    "tags": []
   },
   "outputs": [],
   "source": [
    "algos = [LogisticRegression(), \n",
    "        #SVC(kernel='linear', random_state=0, probability=True),\n",
    "         GaussianNB(),\n",
    "         ExtraTreeClassifier(max_depth=5),\n",
    "        RandomForestClassifier(max_depth=5,n_estimators=1000, max_features='auto', class_weight='balanced'),\n",
    "        DecisionTreeClassifier(max_depth=5),\n",
    "        CatBoostClassifier(eval_metric='AUC', metric_period=20, logging_level='Silent'),\n",
    "        LGBMClassifier(n_estimators=500),\n",
    "         XGBClassifier(max_depth=4, n_estimators=500),]\n",
    "\n",
    "names = ['Logistic_Regression','Guassian','ExtraTree','RandomForest','Decision_Tree','Catboost', 'Lightgbm', 'Xgboost']\n",
    "roc_list = []"
   ]
  },
  {
   "cell_type": "code",
   "execution_count": 39,
   "id": "89e50d4e",
   "metadata": {
    "execution": {
     "iopub.execute_input": "2022-10-22T05:44:34.417039Z",
     "iopub.status.busy": "2022-10-22T05:44:34.416258Z",
     "iopub.status.idle": "2022-10-22T05:47:39.474198Z",
     "shell.execute_reply": "2022-10-22T05:47:39.472983Z"
    },
    "papermill": {
     "duration": 185.081174,
     "end_time": "2022-10-22T05:47:39.477227",
     "exception": false,
     "start_time": "2022-10-22T05:44:34.396053",
     "status": "completed"
    },
    "tags": []
   },
   "outputs": [
    {
     "name": "stderr",
     "output_type": "stream",
     "text": [
      "/opt/conda/lib/python3.7/site-packages/sklearn/linear_model/_logistic.py:818: ConvergenceWarning: lbfgs failed to converge (status=1):\n",
      "STOP: TOTAL NO. of ITERATIONS REACHED LIMIT.\n",
      "\n",
      "Increase the number of iterations (max_iter) or scale the data as shown in:\n",
      "    https://scikit-learn.org/stable/modules/preprocessing.html\n",
      "Please also refer to the documentation for alternative solver options:\n",
      "    https://scikit-learn.org/stable/modules/linear_model.html#logistic-regression\n",
      "  extra_warning_msg=_LOGISTIC_SOLVER_CONVERGENCE_MSG,\n"
     ]
    }
   ],
   "source": [
    "for name in algos:\n",
    "    model = name\n",
    "    model.fit(X_train,y_train)\n",
    "    y_pred = model.predict_proba(X_test)[:,1]\n",
    "    score= roc_auc_score(y_test,y_pred)\n",
    "    roc_list.append(score)"
   ]
  },
  {
   "cell_type": "code",
   "execution_count": 40,
   "id": "995e13df",
   "metadata": {
    "execution": {
     "iopub.execute_input": "2022-10-22T05:47:39.516615Z",
     "iopub.status.busy": "2022-10-22T05:47:39.516212Z",
     "iopub.status.idle": "2022-10-22T05:47:39.521643Z",
     "shell.execute_reply": "2022-10-22T05:47:39.520626Z"
    },
    "papermill": {
     "duration": 0.026975,
     "end_time": "2022-10-22T05:47:39.523687",
     "exception": false,
     "start_time": "2022-10-22T05:47:39.496712",
     "status": "completed"
    },
    "tags": []
   },
   "outputs": [],
   "source": [
    "evaluation = pd.DataFrame({'Model': names,\n",
    "                           'Score': roc_list})"
   ]
  },
  {
   "cell_type": "code",
   "execution_count": 41,
   "id": "2f410c65",
   "metadata": {
    "execution": {
     "iopub.execute_input": "2022-10-22T05:47:39.561013Z",
     "iopub.status.busy": "2022-10-22T05:47:39.560591Z",
     "iopub.status.idle": "2022-10-22T05:47:39.566236Z",
     "shell.execute_reply": "2022-10-22T05:47:39.565173Z"
    },
    "papermill": {
     "duration": 0.026944,
     "end_time": "2022-10-22T05:47:39.568433",
     "exception": false,
     "start_time": "2022-10-22T05:47:39.541489",
     "status": "completed"
    },
    "tags": []
   },
   "outputs": [],
   "source": [
    "evaluation = evaluation.sort_values(by='Score', ascending=False)"
   ]
  },
  {
   "cell_type": "code",
   "execution_count": 42,
   "id": "8b9567b2",
   "metadata": {
    "execution": {
     "iopub.execute_input": "2022-10-22T05:47:39.606221Z",
     "iopub.status.busy": "2022-10-22T05:47:39.605538Z",
     "iopub.status.idle": "2022-10-22T05:47:39.616317Z",
     "shell.execute_reply": "2022-10-22T05:47:39.615274Z"
    },
    "papermill": {
     "duration": 0.031934,
     "end_time": "2022-10-22T05:47:39.618373",
     "exception": false,
     "start_time": "2022-10-22T05:47:39.586439",
     "status": "completed"
    },
    "tags": []
   },
   "outputs": [
    {
     "data": {
      "text/html": [
       "<div>\n",
       "<style scoped>\n",
       "    .dataframe tbody tr th:only-of-type {\n",
       "        vertical-align: middle;\n",
       "    }\n",
       "\n",
       "    .dataframe tbody tr th {\n",
       "        vertical-align: top;\n",
       "    }\n",
       "\n",
       "    .dataframe thead th {\n",
       "        text-align: right;\n",
       "    }\n",
       "</style>\n",
       "<table border=\"1\" class=\"dataframe\">\n",
       "  <thead>\n",
       "    <tr style=\"text-align: right;\">\n",
       "      <th></th>\n",
       "      <th>Model</th>\n",
       "      <th>Score</th>\n",
       "    </tr>\n",
       "  </thead>\n",
       "  <tbody>\n",
       "    <tr>\n",
       "      <th>5</th>\n",
       "      <td>Catboost</td>\n",
       "      <td>0.811744</td>\n",
       "    </tr>\n",
       "    <tr>\n",
       "      <th>6</th>\n",
       "      <td>Lightgbm</td>\n",
       "      <td>0.811317</td>\n",
       "    </tr>\n",
       "    <tr>\n",
       "      <th>7</th>\n",
       "      <td>Xgboost</td>\n",
       "      <td>0.810692</td>\n",
       "    </tr>\n",
       "    <tr>\n",
       "      <th>3</th>\n",
       "      <td>RandomForest</td>\n",
       "      <td>0.801506</td>\n",
       "    </tr>\n",
       "    <tr>\n",
       "      <th>0</th>\n",
       "      <td>Logistic_Regression</td>\n",
       "      <td>0.793212</td>\n",
       "    </tr>\n",
       "    <tr>\n",
       "      <th>4</th>\n",
       "      <td>Decision_Tree</td>\n",
       "      <td>0.789043</td>\n",
       "    </tr>\n",
       "    <tr>\n",
       "      <th>1</th>\n",
       "      <td>Guassian</td>\n",
       "      <td>0.765399</td>\n",
       "    </tr>\n",
       "    <tr>\n",
       "      <th>2</th>\n",
       "      <td>ExtraTree</td>\n",
       "      <td>0.741116</td>\n",
       "    </tr>\n",
       "  </tbody>\n",
       "</table>\n",
       "</div>"
      ],
      "text/plain": [
       "                 Model     Score\n",
       "5             Catboost  0.811744\n",
       "6             Lightgbm  0.811317\n",
       "7              Xgboost  0.810692\n",
       "3         RandomForest  0.801506\n",
       "0  Logistic_Regression  0.793212\n",
       "4        Decision_Tree  0.789043\n",
       "1             Guassian  0.765399\n",
       "2            ExtraTree  0.741116"
      ]
     },
     "execution_count": 42,
     "metadata": {},
     "output_type": "execute_result"
    }
   ],
   "source": [
    "evaluation"
   ]
  }
 ],
 "metadata": {
  "kernelspec": {
   "display_name": "Python 3",
   "language": "python",
   "name": "python3"
  },
  "language_info": {
   "codemirror_mode": {
    "name": "ipython",
    "version": 3
   },
   "file_extension": ".py",
   "mimetype": "text/x-python",
   "name": "python",
   "nbconvert_exporter": "python",
   "pygments_lexer": "ipython3",
   "version": "3.7.12"
  },
  "papermill": {
   "default_parameters": {},
   "duration": 204.061005,
   "end_time": "2022-10-22T05:47:40.459017",
   "environment_variables": {},
   "exception": null,
   "input_path": "__notebook__.ipynb",
   "output_path": "__notebook__.ipynb",
   "parameters": {},
   "start_time": "2022-10-22T05:44:16.398012",
   "version": "2.3.4"
  }
 },
 "nbformat": 4,
 "nbformat_minor": 5
}
