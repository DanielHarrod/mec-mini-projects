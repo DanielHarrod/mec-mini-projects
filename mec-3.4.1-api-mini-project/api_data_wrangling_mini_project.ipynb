{
 "cells": [
  {
   "cell_type": "markdown",
   "metadata": {},
   "source": [
    "This exercise will require you to pull some data from https://data.nasdaq.com/ (formerly Quandl API)."
   ]
  },
  {
   "cell_type": "markdown",
   "metadata": {},
   "source": [
    "As a first step, you will need to register a free account on the https://data.nasdaq.com/ website."
   ]
  },
  {
   "cell_type": "markdown",
   "metadata": {},
   "source": [
    "After you register, you will be provided with a unique API key, that you should store:\n",
    "\n",
    "*Note*: Use a `.env` file and put your key in there and `python-dotenv` to access it in this notebook. \n",
    "\n",
    "The code below uses a key that was used when generating this project but has since been deleted. Never submit your keys to source control. There is a `.env-example` file in this repository to illusrtate what you need. Copy that to a file called `.env` and use your own api key in that `.env` file. Make sure you also have a `.gitignore` file with a line for `.env` added to it. \n",
    "\n",
    "The standard Python gitignore is [here](https://github.com/github/gitignore/blob/master/Python.gitignore) you can just copy that. "
   ]
  },
  {
   "cell_type": "code",
   "execution_count": 10,
   "metadata": {},
   "outputs": [],
   "source": [
    "# get api key from your .env file\n",
    "import os\n",
    "from dotenv import load_dotenv  # if missing this module, simply run `pip install python-dotenv`\n",
    "\n",
    "load_dotenv()\n",
    "API_KEY = os.getenv('NASDAQ_API_KEY')\n",
    "\n"
   ]
  },
  {
   "cell_type": "markdown",
   "metadata": {},
   "source": [
    "Nasdaq Data has a large number of data sources, but, unfortunately, most of them require a Premium subscription. Still, there are also a good number of free datasets."
   ]
  },
  {
   "cell_type": "markdown",
   "metadata": {},
   "source": [
    "For this mini project, we will focus on equities data from the Frankfurt Stock Exhange (FSE), which is available for free. We'll try and analyze the stock prices of a company called Carl Zeiss Meditec, which manufactures tools for eye examinations, as well as medical lasers for laser eye surgery: https://www.zeiss.com/meditec/int/home.html. The company is listed under the stock ticker AFX_X."
   ]
  },
  {
   "cell_type": "markdown",
   "metadata": {},
   "source": [
    "You can find the detailed Nasdaq Data API instructions here: https://docs.data.nasdaq.com/docs/in-depth-usage"
   ]
  },
  {
   "cell_type": "markdown",
   "metadata": {},
   "source": [
    "While there is a dedicated Python package for connecting to the Nasdaq API, we would prefer that you use the *requests* package, which can be easily downloaded using *pip* or *conda*. You can find the documentation for the package here: http://docs.python-requests.org/en/master/ "
   ]
  },
  {
   "cell_type": "markdown",
   "metadata": {},
   "source": [
    "Finally, apart from the *requests* package, you are encouraged to not use any third party Python packages, such as *pandas*, and instead focus on what's available in the Python Standard Library (the *collections* module might come in handy: https://pymotw.com/3/collections/).\n",
    "Also, since you won't have access to DataFrames, you are encouraged to us Python's native data structures - preferably dictionaries, though some questions can also be answered using lists.\n",
    "You can read more on these data structures here: https://docs.python.org/3/tutorial/datastructures.html"
   ]
  },
  {
   "cell_type": "markdown",
   "metadata": {},
   "source": [
    "Keep in mind that the JSON responses you will be getting from the API map almost one-to-one to Python's dictionaries. Unfortunately, they can be very nested, so make sure you read up on indexing dictionaries in the documentation provided above."
   ]
  },
  {
   "cell_type": "code",
   "execution_count": 11,
   "metadata": {},
   "outputs": [],
   "source": [
    "# First, import the relevant modules\n",
    "import requests\n",
    "import json\n",
    "import sys"
   ]
  },
  {
   "cell_type": "markdown",
   "metadata": {},
   "source": [
    "Note: API's can change a bit with each version, for this exercise it is reccomended to use the nasdaq api at `https://data.nasdaq.com/api/v3/`. This is the same api as what used to be quandl so `https://www.quandl.com/api/v3/` should work too.\n",
    "\n",
    "Hint: We are looking for the `AFX_X` data on the `datasets/FSE/` dataset."
   ]
  },
  {
   "cell_type": "code",
   "execution_count": 12,
   "metadata": {},
   "outputs": [
    {
     "data": {
      "text/plain": [
       "'{\"dataset\":{\"id\":10095370,\"dataset_code\":\"AFX_X\",\"database_code\":\"FSE\",\"name\":\"Carl Zeiss Meditec (AFX_X)\",\"description\":\"Stock Prices for Carl Zeiss Meditec (2020-11-02) from the Frankfurt Stock Exchange.\\\\u003cbr\\\\u003e\\\\u003cbr\\\\u003eTrading System: Xetra\\\\u003cbr\\\\u003e\\\\u003cbr\\\\u003eISIN: DE0005313704\",\"refreshed_at\":\"2020-12-01T14:48:09.907Z\",\"newest_available_date\":\"2020-12-01\",\"oldest_available_date\":\"2000-06-07\",\"column_names\":[\"Date\",\"Open\",\"High\",\"Low\",\"Close\",\"Change\",\"Traded Volume\",\"Turnover\",\"Last Price of the Day\",\"Daily Traded Units\",\"Daily Turnover\"],\"frequency\":\"daily\",\"type\":\"Time Series\",\"premium\":false,\"limit\":null,\"transform\":null,\"column_index\":null,\"start_date\":\"2018-11-30\",\"end_date\":\"2018-11-30\",\"data\":[[\"2018-11-30\",null,62.3,60.95,61.0,null,142218.0,8716082.0,null,null,null]],\"collapse\":null,\"order\":null,\"database_id\":6129}}'"
      ]
     },
     "execution_count": 12,
     "metadata": {},
     "output_type": "execute_result"
    }
   ],
   "source": [
    "API_KEY = '3cWCRetTpfJvT3ofzBCv'\n",
    "# Now, call the Nasdaq API and pull out a small sample of the data (only one day) to get a glimpse\n",
    "# into the JSON structure that will be returned\n",
    "one_day_url = f\"https://data.nasdaq.com/api/v3/datasets/FSE/AFX_X.json\"\n",
    "params = {'start_date': '2018-11-30',\n",
    "          'end_date': '2018-11-30',\n",
    "          'api_key': API_KEY\n",
    "          }\n",
    "\n",
    "r = requests.get(one_day_url, params)\n",
    "r.text"
   ]
  },
  {
   "cell_type": "markdown",
   "metadata": {},
   "source": [
    "{\"dataset\":{\"id\":10095370,\"dataset_code\":\"AFX_X\",\"database_code\":\"FSE\",\"name\":\"Carl Zeiss Meditec (AFX_X)\",\"description\":\"Stock Prices for Carl Zeiss Meditec (2020-11-02) from the Frankfurt Stock Exchange.\\u003cbr\\u003e\\u003cbr\\u003eTrading System: Xetra\\u003cbr\\u003e\\u003cbr\\u003eISIN: DE0005313704\",\"refreshed_at\":\"2020-12-01T14:48:09.907Z\",\"newest_available_date\":\"2020-12-01\",\"oldest_available_date\":\"2000-06-07\",\"column_names\":[\"Date\",\"Open\",\"High\",\"Low\",\"Close\",\"Change\",\"Traded Volume\",\"Turnover\",\"Last Price of the Day\",\"Daily Traded Units\",\"Daily Turnover\"],\"frequency\":\"daily\",\"type\":\"Time Series\",\"premium\":false,\"limit\":null,\"transform\":null,\"column_index\":null,\"start_date\":\"2018-11-30\",\"end_date\":\"2018-11-30\",\"data\":[[\"2018-11-30\",null,62.3,60.95,61.0,null,142218.0,8716082.0,null,null,null]],\"collapse\":null,\"order\":null,\"database_id\":6129}}"
   ]
  },
  {
   "cell_type": "code",
   "execution_count": 4,
   "metadata": {},
   "outputs": [],
   "source": [
    "# Inspect the JSON structure of the object you created, and take note of how nested it is,\n",
    "# as well as the overall structure"
   ]
  },
  {
   "cell_type": "markdown",
   "metadata": {},
   "source": [
    "These are your tasks for this mini project:\n",
    "\n",
    "1. Collect data from the Franfurt Stock Exchange, for the ticker AFX_X, for the whole year 2017 (keep in mind that the date format is YYYY-MM-DD).\n",
    "2. Convert the returned JSON object into a Python dictionary.\n",
    "3. Calculate what the highest and lowest opening prices were for the stock in this period.\n",
    "4. What was the largest change in any one day (based on High and Low price)?\n",
    "5. What was the largest change between any two days (based on Closing Price)?\n",
    "6. What was the average daily trading volume during this year?\n",
    "7. (Optional) What was the median trading volume during this year. (Note: you may need to implement your own function for calculating the median.)"
   ]
  },
  {
   "cell_type": "markdown",
   "metadata": {},
   "source": [
    "Task 1 -  Collect data from the Franfurt Stock Exchange, for the ticker AFX_X, for the whole year 2017 (keep in mind that the date format is YYYY-MM-DD)."
   ]
  },
  {
   "cell_type": "code",
   "execution_count": 13,
   "metadata": {},
   "outputs": [],
   "source": [
    "#Task 1 -  Collect data from the Franfurt Stock Exchange, for the ticker AFX_X, for the whole year 2017 (keep in mind that the date format is YYYY-MM-DD).\n",
    "url_afx_2017 = f\"https://data.nasdaq.com/api/v3/datasets/FSE/AFX_X.json\"\n",
    "\n",
    "params = {'start_date': '2017-01-01',\n",
    "          'end_date': '2017-12-31',\n",
    "          'api_key': API_KEY\n",
    "          }\n",
    "request = requests.get(url_afx_2017, params)\n",
    "# filename = \"afx.json\"\n",
    "# with open(filename,\"w\") as outfile:\n",
    "#     outfile.write(request.text)"
   ]
  },
  {
   "cell_type": "code",
   "execution_count": 14,
   "metadata": {},
   "outputs": [],
   "source": [
    "#2. Convert the returned JSON object into a Python dictionary.\n",
    "\n",
    "# with open(filename, \"r\") as openfile_json:\n",
    "#     afx_2017_json = json.load(openfile_json)\n",
    "afx_2017_json = json.loads(request.text)\n",
    "    "
   ]
  },
  {
   "cell_type": "code",
   "execution_count": 15,
   "metadata": {},
   "outputs": [],
   "source": [
    "def median(list):\n",
    "    list.sort()\n",
    "    items = len(list)\n",
    "    middle = items//2\n",
    "    \n",
    "    if items % 2 == 1:\n",
    "        return list[middle]\n",
    "    else:\n",
    "        return (list[middle-1] + list[middle])/2\n",
    "       \n",
    "    "
   ]
  },
  {
   "cell_type": "code",
   "execution_count": 16,
   "metadata": {},
   "outputs": [],
   "source": [
    "#test median\n",
    "# print(median([1,2,3]))\n",
    "# print(median([1,2]))\n",
    "# print(median([1,2,3,4]))\n",
    "# print(median([1,2,3,4,5]))\n",
    "# print(median([1,2,3,4,5,6]))\n",
    "# print(median([1,2,3,4,5,6,7]))"
   ]
  },
  {
   "cell_type": "code",
   "execution_count": 19,
   "metadata": {},
   "outputs": [
    {
     "name": "stdout",
     "output_type": "stream",
     "text": [
      "Highest opening prices :      53.11\n",
      "Lowest opening price   :      34.00\n",
      "Largest difference     :       2.81\n",
      "Largest change         :       2.56\n",
      "Average traded volume  :  89,124.34\n",
      "Median volume          :  76,286.00\n"
     ]
    }
   ],
   "source": [
    "#3. Calculate what the highest and lowest opening prices were for the stock in this period.\n",
    "data = afx_2017_json[\"dataset\"][\"data\"]\n",
    "\n",
    "#3. Calculate what the highest and lowest opening prices were for the stock in this period.\n",
    "highest_opening_price = 0\n",
    "lowest_opening_price = sys.maxsize\n",
    "\n",
    "#4. What was the largest change in any one day (based on High and Low price)?\n",
    "largest_difference_between_high_and_low = 0\n",
    "\n",
    "#5. What was the largest change between any two days (based on Closing Price)?\n",
    "last_close = 0\n",
    "max_last_close = 0\n",
    "\n",
    "#6. What was the average daily trading volume during this year?\n",
    "total_traded_volume = 0\n",
    "\n",
    "#7. (Optional) What was the median trading volume during this year. (Note: you may need to implement your own function for calculating the median.)\n",
    "volume = []\n",
    "\n",
    "for date, open, high, low, close, change, traded_volume, turn_over, last_price_of_the_day, daily_traded_units, daily_turnover in data:\n",
    "\n",
    "    #3\n",
    "    if open:\n",
    "        highest_opening_price = max(open,highest_opening_price)\n",
    "        lowest_opening_price = min(open,lowest_opening_price)\n",
    "    \n",
    "    #4 \n",
    "    if high and low:\n",
    "        largest_difference_between_high_and_low = max(\n",
    "            high-low, largest_difference_between_high_and_low)\n",
    "        \n",
    "    #5\n",
    "    if close and last_close:\n",
    "        max_last_close = max(abs(last_close-close),max_last_close)        \n",
    "    \n",
    "    last_close = close\n",
    "    \n",
    "    #6\n",
    "    total_traded_volume += traded_volume\n",
    "    \n",
    "    #7\n",
    "    volume.append(traded_volume)\n",
    "\n",
    "#6\n",
    "average_traded_volume = total_traded_volume / len(data)\n",
    "\n",
    "#7\n",
    "median_volume = median(volume)\n",
    "        \n",
    "padding = 10\n",
    "print(f\"Highest opening prices : {highest_opening_price: >{padding}.2f}\")\n",
    "print(f\"Lowest opening price   : {lowest_opening_price: >{padding}.2f}\")\n",
    "print(f\"Largest difference     : {largest_difference_between_high_and_low: >{padding}.2f}\")\n",
    "print(f\"Largest change         : {max_last_close: >{padding}.2f}\")\n",
    "print(f\"Average traded volume  : {average_traded_volume: >{padding},.2f}\")\n",
    "print(f\"Median volume          : {median_volume: >{padding},.2f}\")\n"
   ]
  }
 ],
 "metadata": {
  "interpreter": {
   "hash": "4885f37acae9217c235118400878352aafa7b76e66df698a1f601374f86939a7"
  },
  "kernelspec": {
   "display_name": "Python 3.7.9 64-bit ('springboard': conda)",
   "name": "python3"
  },
  "language_info": {
   "codemirror_mode": {
    "name": "ipython",
    "version": 3
   },
   "file_extension": ".py",
   "mimetype": "text/x-python",
   "name": "python",
   "nbconvert_exporter": "python",
   "pygments_lexer": "ipython3",
   "version": "3.11.4"
  }
 },
 "nbformat": 4,
 "nbformat_minor": 4
}
