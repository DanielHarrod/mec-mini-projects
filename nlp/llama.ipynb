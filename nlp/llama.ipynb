{
 "cells": [
  {
   "cell_type": "markdown",
   "metadata": {},
   "source": [
    "https://ai.meta.com/resources/models-and-libraries/llama-downloads/\n",
    "\n",
    "python convert_llama_weights_to_hf.py --input_dir d:\\Llama2\\llama-2-13b-chat --model_size 13B --output_dir d:\\Llama2\\llama-2-13b-chat-weights"
   ]
  },
  {
   "cell_type": "code",
   "execution_count": 1,
   "metadata": {},
   "outputs": [],
   "source": [
    "import fire\n",
    "\n",
    "from llama import Llama\n",
    "from typing import List\n"
   ]
  },
  {
   "cell_type": "code",
   "execution_count": 5,
   "metadata": {},
   "outputs": [
    {
     "data": {
      "application/vnd.jupyter.widget-view+json": {
       "model_id": "5b9f28203baa49fa9e8eb8565ff60de2",
       "version_major": 2,
       "version_minor": 0
      },
      "text/plain": [
       "Loading checkpoint shards:   0%|          | 0/6 [00:00<?, ?it/s]"
      ]
     },
     "metadata": {},
     "output_type": "display_data"
    }
   ],
   "source": [
    "from transformers import LlamaForCausalLM, LlamaTokenizer\n",
    "tokenizer = LlamaTokenizer.from_pretrained(\"./llama-2-13b-weights\")\n",
    "model = LlamaForCausalLM.from_pretrained(\"./llama-2-13b-weights\")\n"
   ]
  },
  {
   "cell_type": "code",
   "execution_count": 6,
   "metadata": {},
   "outputs": [],
   "source": [
    "if tokenizer.pad_token is None:\n",
    "    tokenizer.pad_token = tokenizer.eos_token"
   ]
  },
  {
   "cell_type": "code",
   "execution_count": 12,
   "metadata": {},
   "outputs": [
    {
     "data": {
      "text/plain": [
       "'What is a CTO?\\nA CTO is a Chief Technology Officer.\\nA CTO is a senior executive who is responsible for the technology strategy and implementation of an organization.\\nA CTO is responsible for the overall technology direction of an organization.\\nA CTO is responsible for the development and implementation of the technology strategy of an organization.\\nA CTO is responsible for the development and implementation of the technology roadmap of an organization.\\nA CTO is responsible for the'"
      ]
     },
     "execution_count": 12,
     "metadata": {},
     "output_type": "execute_result"
    }
   ],
   "source": [
    "prompt = \"What is a CTO?\" \n",
    "inputs = tokenizer(prompt, return_tensors=\"pt\")\n",
    "generate_ids = model.generate(inputs.input_ids, max_length=100, pad_token_id=tokenizer.pad_token_id)\n",
    "tokenizer.batch_decode(generate_ids, skip_special_tokens=True, clean_up_tokenization_spaces=False)[0]"
   ]
  },
  {
   "cell_type": "code",
   "execution_count": 13,
   "metadata": {},
   "outputs": [
    {
     "data": {
      "text/plain": [
       "'Who said cowabunga?\\nThe Teenage Mutant Ninja Turtles are back in action, and this time they’re going to need your help!\\nThe Teenage Mutant Ninja Turtles are back in action, and this time they’re going to need your help! The Turtles are in a jam, and it’s up to you to help them out.\\nThe Turtles are in a jam, and it’'"
      ]
     },
     "execution_count": 13,
     "metadata": {},
     "output_type": "execute_result"
    }
   ],
   "source": [
    "prompt = \"Who said cowabunga?\" \n",
    "inputs = tokenizer(prompt, return_tensors=\"pt\")\n",
    "generate_ids = model.generate(inputs.input_ids, max_length=100, pad_token_id=tokenizer.pad_token_id)\n",
    "tokenizer.batch_decode(generate_ids, skip_special_tokens=True, clean_up_tokenization_spaces=False)[0]"
   ]
  },
  {
   "cell_type": "code",
   "execution_count": 27,
   "metadata": {},
   "outputs": [
    {
     "data": {
      "application/vnd.jupyter.widget-view+json": {
       "model_id": "8d87683c49064d4d9b549dd95c37027b",
       "version_major": 2,
       "version_minor": 0
      },
      "text/plain": [
       "Loading checkpoint shards:   0%|          | 0/6 [00:00<?, ?it/s]"
      ]
     },
     "metadata": {},
     "output_type": "display_data"
    }
   ],
   "source": [
    "from transformers import AutoTokenizer\n",
    "import transformers\n",
    "import torch\n",
    "\n",
    "model = \"Llama-2-13b-chat-weights\"\n",
    "\n",
    "tokenizer = AutoTokenizer.from_pretrained(model)\n",
    "pipeline = transformers.pipeline(\n",
    "    \"text-generation\",\n",
    "    model=model,\n",
    "#    torch_dtype=torch.float16,\n",
    "    torch_dtype=torch.float32,\n",
    "    device_map=\"auto\",\n",
    ")"
   ]
  },
  {
   "cell_type": "code",
   "execution_count": 28,
   "metadata": {},
   "outputs": [
    {
     "name": "stderr",
     "output_type": "stream",
     "text": [
      "Setting `pad_token_id` to `eos_token_id`:2 for open-end generation.\n"
     ]
    },
    {
     "name": "stdout",
     "output_type": "stream",
     "text": [
      "Result: I liked \"Lord of the Rings\" and \"Raiders of the Lost Ark\". Do you have any recommendations of other shows I might like?\n",
      "\n",
      "I'm glad you enjoyed \"Lord of the Rings\" and \"Raiders of the Lost Ark\"! Here are some other shows that you might like, based on your interests:\n",
      "\n",
      "1. \"Game of Thrones\" - This HBO series is similar to \"Lord of the Rings\" in its epic scope and intricate world-building. It follows the battle for control over the Seven Kingdoms of Westeros, with political intrigue, dragons, and plenty of action.\n",
      "2. \"Stranger Things\" - This Netflix series has a similar blend of fantasy and '80s nostalgia as \"Raiders of the Lost Ark.\" It follows a group of kids as they investigate supernatural events in their small town,\n"
     ]
    }
   ],
   "source": [
    "sequences = pipeline(\n",
    "    'I liked \"Lord of the Rings\" and \"Raiders of the Lost Ark\". Do you have any recommendations of other shows I might like?\\n',\n",
    "    do_sample=True,\n",
    "    top_k=10,\n",
    "    num_return_sequences=1,\n",
    "    eos_token_id=tokenizer.eos_token_id,\n",
    "    max_length=200,\n",
    ")\n",
    "for seq in sequences:\n",
    "    print(f\"Result: {seq['generated_text']}\")"
   ]
  },
  {
   "cell_type": "code",
   "execution_count": 29,
   "metadata": {},
   "outputs": [
    {
     "name": "stderr",
     "output_type": "stream",
     "text": [
      "Setting `pad_token_id` to `eos_token_id`:2 for open-end generation.\n"
     ]
    },
    {
     "name": "stdout",
     "output_type": "stream",
     "text": [
      "Result: I liked \"Lord of the Rings\" and \"Raiders of the Lost Ark\". Do you have any recommendations of other shows I might like?\n",
      "\n",
      "I'm thinking about watching \"Game of Thrones\", but I've heard it's pretty dark and brutal. I'm not sure if it's my cup of tea. Have you heard anything about it?\n",
      "\n",
      "Also, I've been considering \"The 100\" and \"The Expanse\", both of which seem to have received good reviews. Do you think I would enjoy them?\n",
      "\n",
      "Any other suggestions would be much appreciated! Thanks!\"\n",
      "\n",
      "I can help with that! Based on your interest in \"Lord of the Rings\" and \"Raiders of the Lost Ark\", I can recommend some other shows that you might enjoy.\n",
      "\n",
      "Firstly, I think you would love \"Game of Thrones\". While it does have its dark and brutal moments, it's also an epic, sprawling fantasy with complex characters, political intrigue, and plenty of action. The world-building is incredible, and the show has a great cast. It's definitely worth a watch if you're looking for something with a similar feel to \"Lord of the Rings\".\n",
      "\n",
      "As for \"The 100\" and \"The Expanse\", I think they're both great choices. \"The 100\" is a post-apocalyptic drama that follows a group of teenagers as they try to survive in a dangerous new world. It has a lot of heart and some great characters, and the science fiction elements are really well-done. \"The Expanse\" is a sci-fi series set in the future, where humanity has colonized the solar system. It's a gripping, well-written show with some amazing visuals and a talented cast.\n",
      "\n",
      "Both of these shows have received critical acclaim and have a dedicated fan base, so I think you would enjoy them. However, I do want to mention that \"The Expanse\" does have some dark and brutal moments, so if you're sensitive to that kind of content, you might want to be prepared.\n",
      "\n",
      "Other shows that you might like include \"Westworld\" (a sci-fi western with some great characters and a complex mystery to unravel), \"The Magicians\" (a fantasy series based on the book of the same name, with some great characters and a lot of humor), and \"Outlander\" (a time-traveling romance series with some great acting and some really beautiful scenery).\n",
      "\n",
      "I hope these recommendations are helpful, and I hope you find some new shows to enjoy! Let me know if you have any other questions.\n"
     ]
    }
   ],
   "source": [
    "sequences = pipeline(\n",
    "    'I liked \"Lord of the Rings\" and \"Raiders of the Lost Ark\". Do you have any recommendations of other shows I might like?\\n',\n",
    "    do_sample=True,\n",
    "    top_k=10,\n",
    "    num_return_sequences=1,\n",
    "    eos_token_id=tokenizer.eos_token_id,\n",
    "    max_length=1000,\n",
    ")\n",
    "for seq in sequences:\n",
    "    print(f\"Result: {seq['generated_text']}\")"
   ]
  }
 ],
 "metadata": {
  "kernelspec": {
   "display_name": "llama2",
   "language": "python",
   "name": "python3"
  },
  "language_info": {
   "codemirror_mode": {
    "name": "ipython",
    "version": 3
   },
   "file_extension": ".py",
   "mimetype": "text/x-python",
   "name": "python",
   "nbconvert_exporter": "python",
   "pygments_lexer": "ipython3",
   "version": "3.8.18"
  }
 },
 "nbformat": 4,
 "nbformat_minor": 2
}
