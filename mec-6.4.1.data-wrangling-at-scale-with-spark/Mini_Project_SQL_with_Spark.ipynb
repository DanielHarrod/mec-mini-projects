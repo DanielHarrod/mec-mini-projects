{
 "cells": [
  {
   "cell_type": "markdown",
   "metadata": {
    "application/vnd.databricks.v1+cell": {
     "cellMetadata": {},
     "inputWidgets": {},
     "nuid": "f9e2b8fc-1f29-45e3-b4b7-08c9490fd5b5",
     "showTitle": false,
     "title": ""
    }
   },
   "source": [
    "## SQL at Scale with Spark SQL\n",
    "\n",
    "Welcome to the SQL mini project. For this project, you will use the Databricks Platform and work through a series of exercises using Spark SQL. The dataset size may not be too big but the intent here is to familiarize yourself with the Spark SQL interface which scales easily to huge datasets, without you having to worry about changing your SQL queries. \n",
    "\n",
    "The data you need is present in the mini-project folder in the form of three CSV files. This data will be imported in Databricks to create the following tables under the __`country_club`__ database.\n",
    "\n",
    "<br>\n",
    "1. The __`bookings`__ table,\n",
    "2. The __`facilities`__ table, and\n",
    "3. The __`members`__ table.\n",
    "\n",
    "You will be uploading these datasets shortly into the Databricks platform to understand how to create a database within minutes! Once the database and the tables are populated, you will be focusing on the mini-project questions.\n",
    "\n",
    "In the mini project, you'll be asked a series of questions. You can solve them using the databricks platform, but for the final deliverable,\n",
    "please download this notebook as an IPython notebook (__`File -> Export -> IPython Notebook`__) and upload it to your GitHub."
   ]
  },
  {
   "cell_type": "markdown",
   "metadata": {
    "application/vnd.databricks.v1+cell": {
     "cellMetadata": {},
     "inputWidgets": {},
     "nuid": "69a65343-0355-4f2d-ae44-39af8011ef46",
     "showTitle": false,
     "title": ""
    }
   },
   "source": [
    "### Creating the Database\n",
    "\n",
    "We will first create our database in which we will be creating our three tables of interest"
   ]
  },
  {
   "cell_type": "code",
   "execution_count": 0,
   "metadata": {
    "application/vnd.databricks.v1+cell": {
     "cellMetadata": {
      "byteLimit": 2048000,
      "implicitDf": true,
      "rowLimit": 10000
     },
     "inputWidgets": {},
     "nuid": "3ce874fd-2fdb-445d-9812-c2cef57a5f90",
     "showTitle": false,
     "title": ""
    }
   },
   "outputs": [
    {
     "output_type": "display_data",
     "data": {
      "text/html": [
       "<style scoped>\n",
       "  .table-result-container {\n",
       "    max-height: 300px;\n",
       "    overflow: auto;\n",
       "  }\n",
       "  table, th, td {\n",
       "    border: 1px solid black;\n",
       "    border-collapse: collapse;\n",
       "  }\n",
       "  th, td {\n",
       "    padding: 5px;\n",
       "  }\n",
       "  th {\n",
       "    text-align: left;\n",
       "  }\n",
       "</style><div class='table-result-container'><table class='table-result'><thead style='background-color: white'><tr><th>databaseName</th></tr></thead><tbody><tr><td>country_club</td></tr><tr><td>country_club1</td></tr><tr><td>default</td></tr></tbody></table></div>"
      ]
     },
     "metadata": {
      "application/vnd.databricks.v1+output": {
       "addedWidgets": {},
       "aggData": [],
       "aggError": "",
       "aggOverflow": false,
       "aggSchema": [],
       "aggSeriesLimitReached": false,
       "aggType": "",
       "arguments": {},
       "columnCustomDisplayInfos": {},
       "data": [
        [
         "country_club"
        ],
        [
         "country_club1"
        ],
        [
         "default"
        ]
       ],
       "datasetInfos": [],
       "dbfsResultPath": null,
       "isJsonSchema": true,
       "metadata": {},
       "overflow": false,
       "plotOptions": {
        "customPlotOptions": {},
        "displayType": "table",
        "pivotAggregation": null,
        "pivotColumns": null,
        "xColumns": null,
        "yColumns": null
       },
       "removedWidgets": [],
       "schema": [
        {
         "metadata": "{}",
         "name": "databaseName",
         "type": "\"string\""
        }
       ],
       "type": "table"
      }
     },
     "output_type": "display_data"
    }
   ],
   "source": [
    "%sql \n",
    "drop database if exists country_club1 cascade;\n",
    "create database country_club1;\n",
    "show databases;"
   ]
  },
  {
   "cell_type": "markdown",
   "metadata": {
    "application/vnd.databricks.v1+cell": {
     "cellMetadata": {},
     "inputWidgets": {},
     "nuid": "89b60565-9836-4aee-8de2-244b2cde17ca",
     "showTitle": false,
     "title": ""
    }
   },
   "source": [
    "### Creating the Tables\n",
    "\n",
    "In this section, we will be creating the three tables of interest and populate them with the data from the CSV files already available to you. \n",
    "To get started, first upload the three CSV files to the DBFS as depicted in the following figure\n",
    "\n",
    "![](https://i.imgur.com/QcCruBr.png)\n",
    "\n",
    "\n",
    "Once you have done this, please remember to execute the following code to build the dataframes which will be saved as tables in our database"
   ]
  },
  {
   "cell_type": "code",
   "execution_count": 0,
   "metadata": {
    "application/vnd.databricks.v1+cell": {
     "cellMetadata": {
      "byteLimit": 2048000,
      "rowLimit": 10000
     },
     "inputWidgets": {},
     "nuid": "881204dc-0931-4416-85d8-6689e88f618d",
     "showTitle": false,
     "title": ""
    }
   },
   "outputs": [],
   "source": [
    "# File location and type\n",
    "file_location_bookings = \"/FileStore/tables/Bookings.csv\"\n",
    "file_location_facilities = \"/FileStore/tables/Facilities.csv\"\n",
    "file_location_members = \"/FileStore/tables/Members.csv\"\n",
    "\n",
    "file_type = \"csv\"\n",
    "\n",
    "# CSV options\n",
    "infer_schema = \"true\"\n",
    "first_row_is_header = \"true\"\n",
    "delimiter = \",\"\n",
    "\n",
    "# The applied options are for CSV files. For other file types, these will be ignored.\n",
    "bookings_df = (spark.read.format(file_type) \n",
    "                    .option(\"inferSchema\", infer_schema) \n",
    "                    .option(\"header\", first_row_is_header) \n",
    "                    .option(\"sep\", delimiter) \n",
    "                    .load(file_location_bookings))\n",
    "\n",
    "facilities_df = (spark.read.format(file_type) \n",
    "                      .option(\"inferSchema\", infer_schema) \n",
    "                      .option(\"header\", first_row_is_header) \n",
    "                      .option(\"sep\", delimiter) \n",
    "                      .load(file_location_facilities))\n",
    "\n",
    "members_df = (spark.read.format(file_type) \n",
    "                      .option(\"inferSchema\", infer_schema) \n",
    "                      .option(\"header\", first_row_is_header) \n",
    "                      .option(\"sep\", delimiter) \n",
    "                      .load(file_location_members))"
   ]
  },
  {
   "cell_type": "markdown",
   "metadata": {
    "application/vnd.databricks.v1+cell": {
     "cellMetadata": {},
     "inputWidgets": {},
     "nuid": "9a2f6f14-93db-4f5f-a027-de15e6887eab",
     "showTitle": false,
     "title": ""
    }
   },
   "source": [
    "### Viewing the dataframe schemas\n",
    "\n",
    "We can take a look at the schemas of our potential tables to be written to our database soon"
   ]
  },
  {
   "cell_type": "code",
   "execution_count": 0,
   "metadata": {
    "application/vnd.databricks.v1+cell": {
     "cellMetadata": {
      "byteLimit": 2048000,
      "rowLimit": 10000
     },
     "inputWidgets": {},
     "nuid": "49ba8f88-993e-4d44-a052-fc34b8b295a2",
     "showTitle": false,
     "title": ""
    }
   },
   "outputs": [
    {
     "output_type": "stream",
     "name": "stdout",
     "output_type": "stream",
     "text": [
      "Bookings Schema\nroot\n |-- bookid: integer (nullable = true)\n |-- facid: integer (nullable = true)\n |-- memid: integer (nullable = true)\n |-- starttime: timestamp (nullable = true)\n |-- slots: integer (nullable = true)\n\nFacilities Schema\nroot\n |-- facid: integer (nullable = true)\n |-- name: string (nullable = true)\n |-- membercost: double (nullable = true)\n |-- guestcost: double (nullable = true)\n |-- initialoutlay: integer (nullable = true)\n |-- monthlymaintenance: integer (nullable = true)\n\nMembers Schema\nroot\n |-- memid: integer (nullable = true)\n |-- surname: string (nullable = true)\n |-- firstname: string (nullable = true)\n |-- address: string (nullable = true)\n |-- zipcode: integer (nullable = true)\n |-- telephone: string (nullable = true)\n |-- recommendedby: integer (nullable = true)\n |-- joindate: timestamp (nullable = true)\n\n"
     ]
    }
   ],
   "source": [
    "print('Bookings Schema')\n",
    "bookings_df.printSchema()\n",
    "print('Facilities Schema')\n",
    "facilities_df.printSchema()\n",
    "print('Members Schema')\n",
    "members_df.printSchema()"
   ]
  },
  {
   "cell_type": "markdown",
   "metadata": {
    "application/vnd.databricks.v1+cell": {
     "cellMetadata": {},
     "inputWidgets": {},
     "nuid": "7bf97e81-581b-4747-9d89-2387a85d18ea",
     "showTitle": false,
     "title": ""
    }
   },
   "source": [
    "### Create permanent tables\n",
    "We will be creating three permanent tables here in our __`country_club`__ database as we discussed previously with the following code"
   ]
  },
  {
   "cell_type": "code",
   "execution_count": 0,
   "metadata": {
    "application/vnd.databricks.v1+cell": {
     "cellMetadata": {
      "byteLimit": 2048000,
      "rowLimit": 10000
     },
     "inputWidgets": {},
     "nuid": "215f26ab-5a69-4e53-af0f-af7155900f39",
     "showTitle": false,
     "title": ""
    }
   },
   "outputs": [],
   "source": [
    "permanent_table_name_bookings = \"country_club1.Bookings\"\n",
    "bookings_df.write.format(\"parquet\").saveAsTable(permanent_table_name_bookings)\n",
    "\n",
    "permanent_table_name_facilities = \"country_club1.Facilities\"\n",
    "facilities_df.write.format(\"parquet\").saveAsTable(permanent_table_name_facilities)\n",
    "\n",
    "permanent_table_name_members = \"country_club1.Members\"\n",
    "members_df.write.format(\"parquet\").saveAsTable(permanent_table_name_members)"
   ]
  },
  {
   "cell_type": "markdown",
   "metadata": {
    "application/vnd.databricks.v1+cell": {
     "cellMetadata": {},
     "inputWidgets": {},
     "nuid": "ded46a08-74f0-484b-8811-0de107f8a35b",
     "showTitle": false,
     "title": ""
    }
   },
   "source": [
    "### Refresh tables and check them"
   ]
  },
  {
   "cell_type": "code",
   "execution_count": 0,
   "metadata": {
    "application/vnd.databricks.v1+cell": {
     "cellMetadata": {
      "byteLimit": 2048000,
      "implicitDf": true,
      "rowLimit": 10000
     },
     "inputWidgets": {},
     "nuid": "c35b7463-abf7-4bf7-9741-6b6e01ea5b42",
     "showTitle": false,
     "title": ""
    }
   },
   "outputs": [
    {
     "output_type": "display_data",
     "data": {
      "text/html": [
       "<style scoped>\n",
       "  .table-result-container {\n",
       "    max-height: 300px;\n",
       "    overflow: auto;\n",
       "  }\n",
       "  table, th, td {\n",
       "    border: 1px solid black;\n",
       "    border-collapse: collapse;\n",
       "  }\n",
       "  th, td {\n",
       "    padding: 5px;\n",
       "  }\n",
       "  th {\n",
       "    text-align: left;\n",
       "  }\n",
       "</style><div class='table-result-container'><table class='table-result'><thead style='background-color: white'><tr><th>database</th><th>tableName</th><th>isTemporary</th></tr></thead><tbody><tr><td>country_club1</td><td>bookings</td><td>false</td></tr><tr><td>country_club1</td><td>facilities</td><td>false</td></tr><tr><td>country_club1</td><td>members</td><td>false</td></tr></tbody></table></div>"
      ]
     },
     "metadata": {
      "application/vnd.databricks.v1+output": {
       "addedWidgets": {},
       "aggData": [],
       "aggError": "",
       "aggOverflow": false,
       "aggSchema": [],
       "aggSeriesLimitReached": false,
       "aggType": "",
       "arguments": {},
       "columnCustomDisplayInfos": {},
       "data": [
        [
         "country_club1",
         "bookings",
         false
        ],
        [
         "country_club1",
         "facilities",
         false
        ],
        [
         "country_club1",
         "members",
         false
        ]
       ],
       "datasetInfos": [],
       "dbfsResultPath": null,
       "isJsonSchema": true,
       "metadata": {},
       "overflow": false,
       "plotOptions": {
        "customPlotOptions": {},
        "displayType": "table",
        "pivotAggregation": null,
        "pivotColumns": null,
        "xColumns": null,
        "yColumns": null
       },
       "removedWidgets": [],
       "schema": [
        {
         "metadata": "{}",
         "name": "database",
         "type": "\"string\""
        },
        {
         "metadata": "{}",
         "name": "tableName",
         "type": "\"string\""
        },
        {
         "metadata": "{}",
         "name": "isTemporary",
         "type": "\"boolean\""
        }
       ],
       "type": "table"
      }
     },
     "output_type": "display_data"
    }
   ],
   "source": [
    "%sql\n",
    "use country_club1;\n",
    "REFRESH table bookings;\n",
    "REFRESH table facilities;\n",
    "REFRESH table members;\n",
    "show tables;"
   ]
  },
  {
   "cell_type": "markdown",
   "metadata": {
    "application/vnd.databricks.v1+cell": {
     "cellMetadata": {},
     "inputWidgets": {},
     "nuid": "a4581fdb-2bef-4b8c-bc14-54d5ab61f8ea",
     "showTitle": false,
     "title": ""
    }
   },
   "source": [
    "### Test a sample SQL query\n",
    "\n",
    "__Note:__ You can use __`%sql`__ at the beginning of a cell and write SQL queries directly as seen in the following cell. Neat isn't it!"
   ]
  },
  {
   "cell_type": "code",
   "execution_count": 0,
   "metadata": {
    "application/vnd.databricks.v1+cell": {
     "cellMetadata": {
      "byteLimit": 2048000,
      "implicitDf": true,
      "rowLimit": 10000
     },
     "inputWidgets": {},
     "nuid": "23c56c0b-176f-49e5-83a4-338fb512d275",
     "showTitle": false,
     "title": ""
    }
   },
   "outputs": [
    {
     "output_type": "display_data",
     "data": {
      "text/html": [
       "<style scoped>\n",
       "  .table-result-container {\n",
       "    max-height: 300px;\n",
       "    overflow: auto;\n",
       "  }\n",
       "  table, th, td {\n",
       "    border: 1px solid black;\n",
       "    border-collapse: collapse;\n",
       "  }\n",
       "  th, td {\n",
       "    padding: 5px;\n",
       "  }\n",
       "  th {\n",
       "    text-align: left;\n",
       "  }\n",
       "</style><div class='table-result-container'><table class='table-result'><thead style='background-color: white'><tr><th>bookid</th><th>facid</th><th>memid</th><th>starttime</th><th>slots</th></tr></thead><tbody><tr><td>0</td><td>3</td><td>1</td><td>2012-07-03T11:00:00.000+0000</td><td>2</td></tr><tr><td>1</td><td>4</td><td>1</td><td>2012-07-03T08:00:00.000+0000</td><td>2</td></tr><tr><td>2</td><td>6</td><td>0</td><td>2012-07-03T18:00:00.000+0000</td><td>2</td></tr></tbody></table></div>"
      ]
     },
     "metadata": {
      "application/vnd.databricks.v1+output": {
       "addedWidgets": {},
       "aggData": [],
       "aggError": "",
       "aggOverflow": false,
       "aggSchema": [],
       "aggSeriesLimitReached": false,
       "aggType": "",
       "arguments": {},
       "columnCustomDisplayInfos": {},
       "data": [
        [
         0,
         3,
         1,
         "2012-07-03T11:00:00.000+0000",
         2
        ],
        [
         1,
         4,
         1,
         "2012-07-03T08:00:00.000+0000",
         2
        ],
        [
         2,
         6,
         0,
         "2012-07-03T18:00:00.000+0000",
         2
        ]
       ],
       "datasetInfos": [],
       "dbfsResultPath": null,
       "isJsonSchema": true,
       "metadata": {},
       "overflow": false,
       "plotOptions": {
        "customPlotOptions": {},
        "displayType": "table",
        "pivotAggregation": null,
        "pivotColumns": null,
        "xColumns": null,
        "yColumns": null
       },
       "removedWidgets": [],
       "schema": [
        {
         "metadata": "{}",
         "name": "bookid",
         "type": "\"integer\""
        },
        {
         "metadata": "{}",
         "name": "facid",
         "type": "\"integer\""
        },
        {
         "metadata": "{}",
         "name": "memid",
         "type": "\"integer\""
        },
        {
         "metadata": "{}",
         "name": "starttime",
         "type": "\"timestamp\""
        },
        {
         "metadata": "{}",
         "name": "slots",
         "type": "\"integer\""
        }
       ],
       "type": "table"
      }
     },
     "output_type": "display_data"
    }
   ],
   "source": [
    "%sql\n",
    "select * from bookings limit 3"
   ]
  },
  {
   "cell_type": "code",
   "execution_count": 0,
   "metadata": {
    "application/vnd.databricks.v1+cell": {
     "cellMetadata": {
      "byteLimit": 2048000,
      "rowLimit": 10000
     },
     "inputWidgets": {},
     "nuid": "30386c83-07d3-40f7-9caf-78ed2daf57c6",
     "showTitle": false,
     "title": ""
    }
   },
   "outputs": [
    {
     "output_type": "display_data",
     "data": {
      "text/html": [
       "<div>\n",
       "<style scoped>\n",
       "    .dataframe tbody tr th:only-of-type {\n",
       "        vertical-align: middle;\n",
       "    }\n",
       "\n",
       "    .dataframe tbody tr th {\n",
       "        vertical-align: top;\n",
       "    }\n",
       "\n",
       "    .dataframe thead th {\n",
       "        text-align: right;\n",
       "    }\n",
       "</style>\n",
       "<table border=\"1\" class=\"dataframe\">\n",
       "  <thead>\n",
       "    <tr style=\"text-align: right;\">\n",
       "      <th></th>\n",
       "      <th>bookid</th>\n",
       "      <th>facid</th>\n",
       "      <th>memid</th>\n",
       "      <th>starttime</th>\n",
       "      <th>slots</th>\n",
       "    </tr>\n",
       "  </thead>\n",
       "  <tbody>\n",
       "    <tr>\n",
       "      <th>0</th>\n",
       "      <td>0</td>\n",
       "      <td>3</td>\n",
       "      <td>1</td>\n",
       "      <td>2012-07-03 11:00:00</td>\n",
       "      <td>2</td>\n",
       "    </tr>\n",
       "    <tr>\n",
       "      <th>1</th>\n",
       "      <td>1</td>\n",
       "      <td>4</td>\n",
       "      <td>1</td>\n",
       "      <td>2012-07-03 08:00:00</td>\n",
       "      <td>2</td>\n",
       "    </tr>\n",
       "    <tr>\n",
       "      <th>2</th>\n",
       "      <td>2</td>\n",
       "      <td>6</td>\n",
       "      <td>0</td>\n",
       "      <td>2012-07-03 18:00:00</td>\n",
       "      <td>2</td>\n",
       "    </tr>\n",
       "  </tbody>\n",
       "</table>\n",
       "</div>"
      ]
     },
     "metadata": {
      "application/vnd.databricks.v1+output": {
       "addedWidgets": {},
       "arguments": {},
       "data": "<div>\n<style scoped>\n    .dataframe tbody tr th:only-of-type {\n        vertical-align: middle;\n    }\n\n    .dataframe tbody tr th {\n        vertical-align: top;\n    }\n\n    .dataframe thead th {\n        text-align: right;\n    }\n</style>\n<table border=\"1\" class=\"dataframe\">\n  <thead>\n    <tr style=\"text-align: right;\">\n      <th></th>\n      <th>bookid</th>\n      <th>facid</th>\n      <th>memid</th>\n      <th>starttime</th>\n      <th>slots</th>\n    </tr>\n  </thead>\n  <tbody>\n    <tr>\n      <th>0</th>\n      <td>0</td>\n      <td>3</td>\n      <td>1</td>\n      <td>2012-07-03 11:00:00</td>\n      <td>2</td>\n    </tr>\n    <tr>\n      <th>1</th>\n      <td>1</td>\n      <td>4</td>\n      <td>1</td>\n      <td>2012-07-03 08:00:00</td>\n      <td>2</td>\n    </tr>\n    <tr>\n      <th>2</th>\n      <td>2</td>\n      <td>6</td>\n      <td>0</td>\n      <td>2012-07-03 18:00:00</td>\n      <td>2</td>\n    </tr>\n  </tbody>\n</table>\n</div>",
       "datasetInfos": [],
       "metadata": {},
       "removedWidgets": [],
       "textData": null,
       "type": "htmlSandbox"
      }
     },
     "output_type": "display_data"
    }
   ],
   "source": [
    "bookings_df.limit(3).toPandas()"
   ]
  },
  {
   "cell_type": "markdown",
   "metadata": {
    "application/vnd.databricks.v1+cell": {
     "cellMetadata": {},
     "inputWidgets": {},
     "nuid": "66892f67-047d-4b80-ba7a-3ba68ecfb442",
     "showTitle": false,
     "title": ""
    }
   },
   "source": [
    "#### Q1: Some of the facilities charge a fee to members, but some do not. Please list the names of the facilities that do."
   ]
  },
  {
   "cell_type": "code",
   "execution_count": 0,
   "metadata": {
    "application/vnd.databricks.v1+cell": {
     "cellMetadata": {
      "byteLimit": 2048000,
      "implicitDf": true,
      "rowLimit": 10000
     },
     "inputWidgets": {},
     "nuid": "6dc5e916-ba0b-40c0-b04f-7bd6804c8341",
     "showTitle": false,
     "title": ""
    }
   },
   "outputs": [
    {
     "output_type": "display_data",
     "data": {
      "text/html": [
       "<style scoped>\n",
       "  .table-result-container {\n",
       "    max-height: 300px;\n",
       "    overflow: auto;\n",
       "  }\n",
       "  table, th, td {\n",
       "    border: 1px solid black;\n",
       "    border-collapse: collapse;\n",
       "  }\n",
       "  th, td {\n",
       "    padding: 5px;\n",
       "  }\n",
       "  th {\n",
       "    text-align: left;\n",
       "  }\n",
       "</style><div class='table-result-container'><table class='table-result'><thead style='background-color: white'><tr><th>name</th></tr></thead><tbody><tr><td>Tennis Court 1</td></tr><tr><td>Tennis Court 2</td></tr><tr><td>Massage Room 1</td></tr><tr><td>Massage Room 2</td></tr><tr><td>Squash Court</td></tr></tbody></table></div>"
      ]
     },
     "metadata": {
      "application/vnd.databricks.v1+output": {
       "addedWidgets": {},
       "aggData": [],
       "aggError": "",
       "aggOverflow": false,
       "aggSchema": [],
       "aggSeriesLimitReached": false,
       "aggType": "",
       "arguments": {},
       "columnCustomDisplayInfos": {},
       "data": [
        [
         "Tennis Court 1"
        ],
        [
         "Tennis Court 2"
        ],
        [
         "Massage Room 1"
        ],
        [
         "Massage Room 2"
        ],
        [
         "Squash Court"
        ]
       ],
       "datasetInfos": [],
       "dbfsResultPath": null,
       "isJsonSchema": true,
       "metadata": {},
       "overflow": false,
       "plotOptions": {
        "customPlotOptions": {},
        "displayType": "table",
        "pivotAggregation": null,
        "pivotColumns": null,
        "xColumns": null,
        "yColumns": null
       },
       "removedWidgets": [],
       "schema": [
        {
         "metadata": "{}",
         "name": "name",
         "type": "\"string\""
        }
       ],
       "type": "table"
      }
     },
     "output_type": "display_data"
    }
   ],
   "source": [
    "%sql\n",
    "select name from facilities where membercost > 0"
   ]
  },
  {
   "cell_type": "code",
   "execution_count": 0,
   "metadata": {
    "application/vnd.databricks.v1+cell": {
     "cellMetadata": {
      "byteLimit": 2048000,
      "rowLimit": 10000
     },
     "inputWidgets": {},
     "nuid": "dc4579e3-cfb4-4e9a-9fcb-001c7f43cf16",
     "showTitle": false,
     "title": ""
    }
   },
   "outputs": [
    {
     "output_type": "display_data",
     "data": {
      "text/html": [
       "<div>\n",
       "<style scoped>\n",
       "    .dataframe tbody tr th:only-of-type {\n",
       "        vertical-align: middle;\n",
       "    }\n",
       "\n",
       "    .dataframe tbody tr th {\n",
       "        vertical-align: top;\n",
       "    }\n",
       "\n",
       "    .dataframe thead th {\n",
       "        text-align: right;\n",
       "    }\n",
       "</style>\n",
       "<table border=\"1\" class=\"dataframe\">\n",
       "  <thead>\n",
       "    <tr style=\"text-align: right;\">\n",
       "      <th></th>\n",
       "      <th>name</th>\n",
       "    </tr>\n",
       "  </thead>\n",
       "  <tbody>\n",
       "    <tr>\n",
       "      <th>0</th>\n",
       "      <td>Tennis Court 1</td>\n",
       "    </tr>\n",
       "    <tr>\n",
       "      <th>1</th>\n",
       "      <td>Tennis Court 2</td>\n",
       "    </tr>\n",
       "    <tr>\n",
       "      <th>2</th>\n",
       "      <td>Massage Room 1</td>\n",
       "    </tr>\n",
       "    <tr>\n",
       "      <th>3</th>\n",
       "      <td>Massage Room 2</td>\n",
       "    </tr>\n",
       "    <tr>\n",
       "      <th>4</th>\n",
       "      <td>Squash Court</td>\n",
       "    </tr>\n",
       "  </tbody>\n",
       "</table>\n",
       "</div>"
      ]
     },
     "metadata": {
      "application/vnd.databricks.v1+output": {
       "addedWidgets": {},
       "arguments": {},
       "data": "<div>\n<style scoped>\n    .dataframe tbody tr th:only-of-type {\n        vertical-align: middle;\n    }\n\n    .dataframe tbody tr th {\n        vertical-align: top;\n    }\n\n    .dataframe thead th {\n        text-align: right;\n    }\n</style>\n<table border=\"1\" class=\"dataframe\">\n  <thead>\n    <tr style=\"text-align: right;\">\n      <th></th>\n      <th>name</th>\n    </tr>\n  </thead>\n  <tbody>\n    <tr>\n      <th>0</th>\n      <td>Tennis Court 1</td>\n    </tr>\n    <tr>\n      <th>1</th>\n      <td>Tennis Court 2</td>\n    </tr>\n    <tr>\n      <th>2</th>\n      <td>Massage Room 1</td>\n    </tr>\n    <tr>\n      <th>3</th>\n      <td>Massage Room 2</td>\n    </tr>\n    <tr>\n      <th>4</th>\n      <td>Squash Court</td>\n    </tr>\n  </tbody>\n</table>\n</div>",
       "datasetInfos": [],
       "metadata": {},
       "removedWidgets": [],
       "textData": null,
       "type": "htmlSandbox"
      }
     },
     "output_type": "display_data"
    }
   ],
   "source": [
    "facilities_df.filter(facilities_df[\"membercost\"] > 0 ).select(\"name\").toPandas()"
   ]
  },
  {
   "cell_type": "code",
   "execution_count": 0,
   "metadata": {
    "application/vnd.databricks.v1+cell": {
     "cellMetadata": {},
     "inputWidgets": {},
     "nuid": "9ddb84a0-5075-44a8-85da-1143899f0df0",
     "showTitle": false,
     "title": ""
    }
   },
   "outputs": [],
   "source": []
  },
  {
   "cell_type": "markdown",
   "metadata": {
    "application/vnd.databricks.v1+cell": {
     "cellMetadata": {},
     "inputWidgets": {},
     "nuid": "307acb2e-1fa1-4aa6-b449-fc1d5f8fdaef",
     "showTitle": false,
     "title": ""
    }
   },
   "source": [
    "####  Q2: How many facilities do not charge a fee to members?"
   ]
  },
  {
   "cell_type": "code",
   "execution_count": 0,
   "metadata": {
    "application/vnd.databricks.v1+cell": {
     "cellMetadata": {
      "byteLimit": 2048000,
      "implicitDf": true,
      "rowLimit": 10000
     },
     "inputWidgets": {},
     "nuid": "7a07b8eb-bb0b-4e26-a75e-7493000ce38f",
     "showTitle": false,
     "title": ""
    }
   },
   "outputs": [
    {
     "output_type": "display_data",
     "data": {
      "text/html": [
       "<style scoped>\n",
       "  .table-result-container {\n",
       "    max-height: 300px;\n",
       "    overflow: auto;\n",
       "  }\n",
       "  table, th, td {\n",
       "    border: 1px solid black;\n",
       "    border-collapse: collapse;\n",
       "  }\n",
       "  th, td {\n",
       "    padding: 5px;\n",
       "  }\n",
       "  th {\n",
       "    text-align: left;\n",
       "  }\n",
       "</style><div class='table-result-container'><table class='table-result'><thead style='background-color: white'><tr><th>non_fee_facilities</th></tr></thead><tbody><tr><td>4</td></tr></tbody></table></div>"
      ]
     },
     "metadata": {
      "application/vnd.databricks.v1+output": {
       "addedWidgets": {},
       "aggData": [],
       "aggError": "",
       "aggOverflow": false,
       "aggSchema": [],
       "aggSeriesLimitReached": false,
       "aggType": "",
       "arguments": {},
       "columnCustomDisplayInfos": {},
       "data": [
        [
         4
        ]
       ],
       "datasetInfos": [],
       "dbfsResultPath": null,
       "isJsonSchema": true,
       "metadata": {},
       "overflow": false,
       "plotOptions": {
        "customPlotOptions": {},
        "displayType": "table",
        "pivotAggregation": null,
        "pivotColumns": null,
        "xColumns": null,
        "yColumns": null
       },
       "removedWidgets": [],
       "schema": [
        {
         "metadata": "{}",
         "name": "non_fee_facilities",
         "type": "\"long\""
        }
       ],
       "type": "table"
      }
     },
     "output_type": "display_data"
    }
   ],
   "source": [
    "%sql\n",
    "select count(1) as non_fee_facilities from facilities where membercost = 0"
   ]
  },
  {
   "cell_type": "code",
   "execution_count": 0,
   "metadata": {
    "application/vnd.databricks.v1+cell": {
     "cellMetadata": {
      "byteLimit": 2048000,
      "rowLimit": 10000
     },
     "inputWidgets": {},
     "nuid": "88f74999-3594-4209-9fe4-18378c3254fb",
     "showTitle": false,
     "title": ""
    }
   },
   "outputs": [
    {
     "output_type": "stream",
     "name": "stdout",
     "output_type": "stream",
     "text": [
      "Out[67]: 4"
     ]
    }
   ],
   "source": [
    "facilities_df.filter(facilities_df[\"membercost\"] == 0).count()"
   ]
  },
  {
   "cell_type": "markdown",
   "metadata": {
    "application/vnd.databricks.v1+cell": {
     "cellMetadata": {},
     "inputWidgets": {},
     "nuid": "96a4f565-d8dc-4c18-9884-127c7bb3cd2a",
     "showTitle": false,
     "title": ""
    }
   },
   "source": [
    "#### Q3: How can you produce a list of facilities that charge a fee to members, where the fee is less than 20% of the facility's monthly maintenance cost? \n",
    "#### Return the facid, facility name, member cost, and monthly maintenance of the facilities in question."
   ]
  },
  {
   "cell_type": "code",
   "execution_count": 0,
   "metadata": {
    "application/vnd.databricks.v1+cell": {
     "cellMetadata": {
      "byteLimit": 2048000,
      "implicitDf": true,
      "rowLimit": 10000
     },
     "inputWidgets": {},
     "nuid": "222760a4-621c-4932-a508-59a2244a7b92",
     "showTitle": false,
     "title": ""
    }
   },
   "outputs": [
    {
     "output_type": "display_data",
     "data": {
      "text/html": [
       "<style scoped>\n",
       "  .table-result-container {\n",
       "    max-height: 300px;\n",
       "    overflow: auto;\n",
       "  }\n",
       "  table, th, td {\n",
       "    border: 1px solid black;\n",
       "    border-collapse: collapse;\n",
       "  }\n",
       "  th, td {\n",
       "    padding: 5px;\n",
       "  }\n",
       "  th {\n",
       "    text-align: left;\n",
       "  }\n",
       "</style><div class='table-result-container'><table class='table-result'><thead style='background-color: white'><tr><th>facid</th><th>name</th><th>membercost</th><th>monthlymaintenance</th></tr></thead><tbody><tr><td>0</td><td>Tennis Court 1</td><td>5.0</td><td>200</td></tr><tr><td>1</td><td>Tennis Court 2</td><td>5.0</td><td>200</td></tr><tr><td>4</td><td>Massage Room 1</td><td>9.9</td><td>3000</td></tr><tr><td>5</td><td>Massage Room 2</td><td>9.9</td><td>3000</td></tr><tr><td>6</td><td>Squash Court</td><td>3.5</td><td>80</td></tr></tbody></table></div>"
      ]
     },
     "metadata": {
      "application/vnd.databricks.v1+output": {
       "addedWidgets": {},
       "aggData": [],
       "aggError": "",
       "aggOverflow": false,
       "aggSchema": [],
       "aggSeriesLimitReached": false,
       "aggType": "",
       "arguments": {},
       "columnCustomDisplayInfos": {},
       "data": [
        [
         0,
         "Tennis Court 1",
         5.0,
         200
        ],
        [
         1,
         "Tennis Court 2",
         5.0,
         200
        ],
        [
         4,
         "Massage Room 1",
         9.9,
         3000
        ],
        [
         5,
         "Massage Room 2",
         9.9,
         3000
        ],
        [
         6,
         "Squash Court",
         3.5,
         80
        ]
       ],
       "datasetInfos": [],
       "dbfsResultPath": null,
       "isJsonSchema": true,
       "metadata": {},
       "overflow": false,
       "plotOptions": {
        "customPlotOptions": {},
        "displayType": "table",
        "pivotAggregation": null,
        "pivotColumns": null,
        "xColumns": null,
        "yColumns": null
       },
       "removedWidgets": [],
       "schema": [
        {
         "metadata": "{}",
         "name": "facid",
         "type": "\"integer\""
        },
        {
         "metadata": "{}",
         "name": "name",
         "type": "\"string\""
        },
        {
         "metadata": "{}",
         "name": "membercost",
         "type": "\"double\""
        },
        {
         "metadata": "{}",
         "name": "monthlymaintenance",
         "type": "\"integer\""
        }
       ],
       "type": "table"
      }
     },
     "output_type": "display_data"
    }
   ],
   "source": [
    "%sql\n",
    "select facid, name, membercost, monthlymaintenance from facilities where membercost / monthlymaintenance < .2 and membercost > 0"
   ]
  },
  {
   "cell_type": "code",
   "execution_count": 0,
   "metadata": {
    "application/vnd.databricks.v1+cell": {
     "cellMetadata": {
      "byteLimit": 2048000,
      "rowLimit": 10000
     },
     "inputWidgets": {},
     "nuid": "33eb943f-958a-431a-825b-5c2e3f6d57d8",
     "showTitle": false,
     "title": ""
    }
   },
   "outputs": [
    {
     "output_type": "display_data",
     "data": {
      "text/html": [
       "<div>\n",
       "<style scoped>\n",
       "    .dataframe tbody tr th:only-of-type {\n",
       "        vertical-align: middle;\n",
       "    }\n",
       "\n",
       "    .dataframe tbody tr th {\n",
       "        vertical-align: top;\n",
       "    }\n",
       "\n",
       "    .dataframe thead th {\n",
       "        text-align: right;\n",
       "    }\n",
       "</style>\n",
       "<table border=\"1\" class=\"dataframe\">\n",
       "  <thead>\n",
       "    <tr style=\"text-align: right;\">\n",
       "      <th></th>\n",
       "      <th>facid</th>\n",
       "      <th>name</th>\n",
       "      <th>membercost</th>\n",
       "      <th>monthlymaintenance</th>\n",
       "    </tr>\n",
       "  </thead>\n",
       "  <tbody>\n",
       "    <tr>\n",
       "      <th>0</th>\n",
       "      <td>0</td>\n",
       "      <td>Tennis Court 1</td>\n",
       "      <td>5.0</td>\n",
       "      <td>200</td>\n",
       "    </tr>\n",
       "    <tr>\n",
       "      <th>1</th>\n",
       "      <td>1</td>\n",
       "      <td>Tennis Court 2</td>\n",
       "      <td>5.0</td>\n",
       "      <td>200</td>\n",
       "    </tr>\n",
       "    <tr>\n",
       "      <th>2</th>\n",
       "      <td>4</td>\n",
       "      <td>Massage Room 1</td>\n",
       "      <td>9.9</td>\n",
       "      <td>3000</td>\n",
       "    </tr>\n",
       "    <tr>\n",
       "      <th>3</th>\n",
       "      <td>5</td>\n",
       "      <td>Massage Room 2</td>\n",
       "      <td>9.9</td>\n",
       "      <td>3000</td>\n",
       "    </tr>\n",
       "    <tr>\n",
       "      <th>4</th>\n",
       "      <td>6</td>\n",
       "      <td>Squash Court</td>\n",
       "      <td>3.5</td>\n",
       "      <td>80</td>\n",
       "    </tr>\n",
       "  </tbody>\n",
       "</table>\n",
       "</div>"
      ]
     },
     "metadata": {
      "application/vnd.databricks.v1+output": {
       "addedWidgets": {},
       "arguments": {},
       "data": "<div>\n<style scoped>\n    .dataframe tbody tr th:only-of-type {\n        vertical-align: middle;\n    }\n\n    .dataframe tbody tr th {\n        vertical-align: top;\n    }\n\n    .dataframe thead th {\n        text-align: right;\n    }\n</style>\n<table border=\"1\" class=\"dataframe\">\n  <thead>\n    <tr style=\"text-align: right;\">\n      <th></th>\n      <th>facid</th>\n      <th>name</th>\n      <th>membercost</th>\n      <th>monthlymaintenance</th>\n    </tr>\n  </thead>\n  <tbody>\n    <tr>\n      <th>0</th>\n      <td>0</td>\n      <td>Tennis Court 1</td>\n      <td>5.0</td>\n      <td>200</td>\n    </tr>\n    <tr>\n      <th>1</th>\n      <td>1</td>\n      <td>Tennis Court 2</td>\n      <td>5.0</td>\n      <td>200</td>\n    </tr>\n    <tr>\n      <th>2</th>\n      <td>4</td>\n      <td>Massage Room 1</td>\n      <td>9.9</td>\n      <td>3000</td>\n    </tr>\n    <tr>\n      <th>3</th>\n      <td>5</td>\n      <td>Massage Room 2</td>\n      <td>9.9</td>\n      <td>3000</td>\n    </tr>\n    <tr>\n      <th>4</th>\n      <td>6</td>\n      <td>Squash Court</td>\n      <td>3.5</td>\n      <td>80</td>\n    </tr>\n  </tbody>\n</table>\n</div>",
       "datasetInfos": [],
       "metadata": {},
       "removedWidgets": [],
       "textData": null,
       "type": "htmlSandbox"
      }
     },
     "output_type": "display_data"
    }
   ],
   "source": [
    "facilities_df.filter(facilities_df.membercost / facilities_df.monthlymaintenance < .2) \\\n",
    "    .filter(facilities_df.membercost > 0) \\\n",
    "    .select(\"facid\", \"name\",\"membercost\",\"monthlymaintenance\") \\\n",
    "    .toPandas()"
   ]
  },
  {
   "cell_type": "markdown",
   "metadata": {
    "application/vnd.databricks.v1+cell": {
     "cellMetadata": {},
     "inputWidgets": {},
     "nuid": "739bc767-ffce-40ec-9b0a-f8d6b241fb83",
     "showTitle": false,
     "title": ""
    }
   },
   "source": [
    "#### Q4: How can you retrieve the details of facilities with ID 1 and 5? Write the query without using the OR operator."
   ]
  },
  {
   "cell_type": "code",
   "execution_count": 0,
   "metadata": {
    "application/vnd.databricks.v1+cell": {
     "cellMetadata": {
      "byteLimit": 2048000,
      "implicitDf": true,
      "rowLimit": 10000
     },
     "inputWidgets": {},
     "nuid": "6704a08a-b3bd-4dd9-a855-018deb5faf99",
     "showTitle": false,
     "title": ""
    }
   },
   "outputs": [
    {
     "output_type": "display_data",
     "data": {
      "text/html": [
       "<style scoped>\n",
       "  .table-result-container {\n",
       "    max-height: 300px;\n",
       "    overflow: auto;\n",
       "  }\n",
       "  table, th, td {\n",
       "    border: 1px solid black;\n",
       "    border-collapse: collapse;\n",
       "  }\n",
       "  th, td {\n",
       "    padding: 5px;\n",
       "  }\n",
       "  th {\n",
       "    text-align: left;\n",
       "  }\n",
       "</style><div class='table-result-container'><table class='table-result'><thead style='background-color: white'><tr><th>facid</th><th>name</th><th>membercost</th><th>guestcost</th><th>initialoutlay</th><th>monthlymaintenance</th></tr></thead><tbody><tr><td>1</td><td>Tennis Court 2</td><td>5.0</td><td>25.0</td><td>8000</td><td>200</td></tr><tr><td>5</td><td>Massage Room 2</td><td>9.9</td><td>80.0</td><td>4000</td><td>3000</td></tr></tbody></table></div>"
      ]
     },
     "metadata": {
      "application/vnd.databricks.v1+output": {
       "addedWidgets": {},
       "aggData": [],
       "aggError": "",
       "aggOverflow": false,
       "aggSchema": [],
       "aggSeriesLimitReached": false,
       "aggType": "",
       "arguments": {},
       "columnCustomDisplayInfos": {},
       "data": [
        [
         1,
         "Tennis Court 2",
         5.0,
         25.0,
         8000,
         200
        ],
        [
         5,
         "Massage Room 2",
         9.9,
         80.0,
         4000,
         3000
        ]
       ],
       "datasetInfos": [],
       "dbfsResultPath": null,
       "isJsonSchema": true,
       "metadata": {},
       "overflow": false,
       "plotOptions": {
        "customPlotOptions": {},
        "displayType": "table",
        "pivotAggregation": null,
        "pivotColumns": null,
        "xColumns": null,
        "yColumns": null
       },
       "removedWidgets": [],
       "schema": [
        {
         "metadata": "{}",
         "name": "facid",
         "type": "\"integer\""
        },
        {
         "metadata": "{}",
         "name": "name",
         "type": "\"string\""
        },
        {
         "metadata": "{}",
         "name": "membercost",
         "type": "\"double\""
        },
        {
         "metadata": "{}",
         "name": "guestcost",
         "type": "\"double\""
        },
        {
         "metadata": "{}",
         "name": "initialoutlay",
         "type": "\"integer\""
        },
        {
         "metadata": "{}",
         "name": "monthlymaintenance",
         "type": "\"integer\""
        }
       ],
       "type": "table"
      }
     },
     "output_type": "display_data"
    }
   ],
   "source": [
    "%sql\n",
    "select * from facilities where facid in (1, 5)"
   ]
  },
  {
   "cell_type": "code",
   "execution_count": 0,
   "metadata": {
    "application/vnd.databricks.v1+cell": {
     "cellMetadata": {
      "byteLimit": 2048000,
      "rowLimit": 10000
     },
     "inputWidgets": {},
     "nuid": "f52ed1cf-6f30-49fc-a8e2-c4087af87b2e",
     "showTitle": false,
     "title": ""
    }
   },
   "outputs": [
    {
     "output_type": "display_data",
     "data": {
      "text/html": [
       "<div>\n",
       "<style scoped>\n",
       "    .dataframe tbody tr th:only-of-type {\n",
       "        vertical-align: middle;\n",
       "    }\n",
       "\n",
       "    .dataframe tbody tr th {\n",
       "        vertical-align: top;\n",
       "    }\n",
       "\n",
       "    .dataframe thead th {\n",
       "        text-align: right;\n",
       "    }\n",
       "</style>\n",
       "<table border=\"1\" class=\"dataframe\">\n",
       "  <thead>\n",
       "    <tr style=\"text-align: right;\">\n",
       "      <th></th>\n",
       "      <th>facid</th>\n",
       "      <th>name</th>\n",
       "      <th>membercost</th>\n",
       "      <th>guestcost</th>\n",
       "      <th>initialoutlay</th>\n",
       "      <th>monthlymaintenance</th>\n",
       "    </tr>\n",
       "  </thead>\n",
       "  <tbody>\n",
       "    <tr>\n",
       "      <th>0</th>\n",
       "      <td>1</td>\n",
       "      <td>Tennis Court 2</td>\n",
       "      <td>5.0</td>\n",
       "      <td>25.0</td>\n",
       "      <td>8000</td>\n",
       "      <td>200</td>\n",
       "    </tr>\n",
       "    <tr>\n",
       "      <th>1</th>\n",
       "      <td>5</td>\n",
       "      <td>Massage Room 2</td>\n",
       "      <td>9.9</td>\n",
       "      <td>80.0</td>\n",
       "      <td>4000</td>\n",
       "      <td>3000</td>\n",
       "    </tr>\n",
       "  </tbody>\n",
       "</table>\n",
       "</div>"
      ]
     },
     "metadata": {
      "application/vnd.databricks.v1+output": {
       "addedWidgets": {},
       "arguments": {},
       "data": "<div>\n<style scoped>\n    .dataframe tbody tr th:only-of-type {\n        vertical-align: middle;\n    }\n\n    .dataframe tbody tr th {\n        vertical-align: top;\n    }\n\n    .dataframe thead th {\n        text-align: right;\n    }\n</style>\n<table border=\"1\" class=\"dataframe\">\n  <thead>\n    <tr style=\"text-align: right;\">\n      <th></th>\n      <th>facid</th>\n      <th>name</th>\n      <th>membercost</th>\n      <th>guestcost</th>\n      <th>initialoutlay</th>\n      <th>monthlymaintenance</th>\n    </tr>\n  </thead>\n  <tbody>\n    <tr>\n      <th>0</th>\n      <td>1</td>\n      <td>Tennis Court 2</td>\n      <td>5.0</td>\n      <td>25.0</td>\n      <td>8000</td>\n      <td>200</td>\n    </tr>\n    <tr>\n      <th>1</th>\n      <td>5</td>\n      <td>Massage Room 2</td>\n      <td>9.9</td>\n      <td>80.0</td>\n      <td>4000</td>\n      <td>3000</td>\n    </tr>\n  </tbody>\n</table>\n</div>",
       "datasetInfos": [],
       "metadata": {},
       "removedWidgets": [],
       "textData": null,
       "type": "htmlSandbox"
      }
     },
     "output_type": "display_data"
    }
   ],
   "source": [
    "\n",
    "#?\n",
    "# facilities_df.filter[facilities_df.facid.isin(\"1\",\"5\")].show()\n",
    "#??? TypeError: 'method' object is not subscriptable\n",
    "\n",
    "sql = \"select * from facilities where facid in (1, 5)\"\n",
    "spark.sql(sql).toPandas()\n"
   ]
  },
  {
   "cell_type": "markdown",
   "metadata": {
    "application/vnd.databricks.v1+cell": {
     "cellMetadata": {},
     "inputWidgets": {},
     "nuid": "7721abf9-cc5b-42af-989f-46dcfef7909d",
     "showTitle": false,
     "title": ""
    }
   },
   "source": [
    "#### Q5: How can you produce a list of facilities, with each labelled as 'cheap' or 'expensive', depending on if their monthly maintenance cost is more than $100? \n",
    "#### Return the name and monthly maintenance of the facilities in question."
   ]
  },
  {
   "cell_type": "code",
   "execution_count": 0,
   "metadata": {
    "application/vnd.databricks.v1+cell": {
     "cellMetadata": {
      "byteLimit": 2048000,
      "implicitDf": true,
      "rowLimit": 10000
     },
     "inputWidgets": {},
     "nuid": "4d9fa7a2-e5fb-4691-9194-d841f22c6488",
     "showTitle": false,
     "title": ""
    }
   },
   "outputs": [
    {
     "output_type": "display_data",
     "data": {
      "text/html": [
       "<style scoped>\n",
       "  .table-result-container {\n",
       "    max-height: 300px;\n",
       "    overflow: auto;\n",
       "  }\n",
       "  table, th, td {\n",
       "    border: 1px solid black;\n",
       "    border-collapse: collapse;\n",
       "  }\n",
       "  th, td {\n",
       "    padding: 5px;\n",
       "  }\n",
       "  th {\n",
       "    text-align: left;\n",
       "  }\n",
       "</style><div class='table-result-container'><table class='table-result'><thead style='background-color: white'><tr><th>name</th><th>monthlymaintenance</th><th>maintenance_type</th></tr></thead><tbody><tr><td>Tennis Court 1</td><td>200</td><td>Expensive</td></tr><tr><td>Tennis Court 2</td><td>200</td><td>Expensive</td></tr><tr><td>Badminton Court</td><td>50</td><td>Cheap</td></tr><tr><td>Table Tennis</td><td>10</td><td>Cheap</td></tr><tr><td>Massage Room 1</td><td>3000</td><td>Expensive</td></tr><tr><td>Massage Room 2</td><td>3000</td><td>Expensive</td></tr><tr><td>Squash Court</td><td>80</td><td>Cheap</td></tr><tr><td>Snooker Table</td><td>15</td><td>Cheap</td></tr><tr><td>Pool Table</td><td>15</td><td>Cheap</td></tr></tbody></table></div>"
      ]
     },
     "metadata": {
      "application/vnd.databricks.v1+output": {
       "addedWidgets": {},
       "aggData": [],
       "aggError": "",
       "aggOverflow": false,
       "aggSchema": [],
       "aggSeriesLimitReached": false,
       "aggType": "",
       "arguments": {},
       "columnCustomDisplayInfos": {},
       "data": [
        [
         "Tennis Court 1",
         200,
         "Expensive"
        ],
        [
         "Tennis Court 2",
         200,
         "Expensive"
        ],
        [
         "Badminton Court",
         50,
         "Cheap"
        ],
        [
         "Table Tennis",
         10,
         "Cheap"
        ],
        [
         "Massage Room 1",
         3000,
         "Expensive"
        ],
        [
         "Massage Room 2",
         3000,
         "Expensive"
        ],
        [
         "Squash Court",
         80,
         "Cheap"
        ],
        [
         "Snooker Table",
         15,
         "Cheap"
        ],
        [
         "Pool Table",
         15,
         "Cheap"
        ]
       ],
       "datasetInfos": [],
       "dbfsResultPath": null,
       "isJsonSchema": true,
       "metadata": {},
       "overflow": false,
       "plotOptions": {
        "customPlotOptions": {},
        "displayType": "table",
        "pivotAggregation": null,
        "pivotColumns": null,
        "xColumns": null,
        "yColumns": null
       },
       "removedWidgets": [],
       "schema": [
        {
         "metadata": "{}",
         "name": "name",
         "type": "\"string\""
        },
        {
         "metadata": "{}",
         "name": "monthlymaintenance",
         "type": "\"integer\""
        },
        {
         "metadata": "{}",
         "name": "maintenance_type",
         "type": "\"string\""
        }
       ],
       "type": "table"
      }
     },
     "output_type": "display_data"
    }
   ],
   "source": [
    "%sql\n",
    "select \n",
    "  name, monthlymaintenance, \n",
    "case \n",
    "  when monthlymaintenance <= 100 then 'Cheap' \n",
    "  else 'Expensive' \n",
    "  end as maintenance_type\n",
    "  from facilities"
   ]
  },
  {
   "cell_type": "code",
   "execution_count": 0,
   "metadata": {
    "application/vnd.databricks.v1+cell": {
     "cellMetadata": {
      "byteLimit": 2048000,
      "rowLimit": 10000
     },
     "inputWidgets": {},
     "nuid": "388fa348-1548-40e1-ba80-7bdb27f45d9e",
     "showTitle": false,
     "title": ""
    }
   },
   "outputs": [
    {
     "output_type": "display_data",
     "data": {
      "text/html": [
       "<div>\n",
       "<style scoped>\n",
       "    .dataframe tbody tr th:only-of-type {\n",
       "        vertical-align: middle;\n",
       "    }\n",
       "\n",
       "    .dataframe tbody tr th {\n",
       "        vertical-align: top;\n",
       "    }\n",
       "\n",
       "    .dataframe thead th {\n",
       "        text-align: right;\n",
       "    }\n",
       "</style>\n",
       "<table border=\"1\" class=\"dataframe\">\n",
       "  <thead>\n",
       "    <tr style=\"text-align: right;\">\n",
       "      <th></th>\n",
       "      <th>name</th>\n",
       "      <th>monthlymaintenance</th>\n",
       "      <th>CASE WHEN (monthlymaintenance &lt;= 100) THEN Cheap ELSE Expensive END</th>\n",
       "    </tr>\n",
       "  </thead>\n",
       "  <tbody>\n",
       "    <tr>\n",
       "      <th>0</th>\n",
       "      <td>Tennis Court 1</td>\n",
       "      <td>200</td>\n",
       "      <td>Expensive</td>\n",
       "    </tr>\n",
       "    <tr>\n",
       "      <th>1</th>\n",
       "      <td>Tennis Court 2</td>\n",
       "      <td>200</td>\n",
       "      <td>Expensive</td>\n",
       "    </tr>\n",
       "    <tr>\n",
       "      <th>2</th>\n",
       "      <td>Badminton Court</td>\n",
       "      <td>50</td>\n",
       "      <td>Cheap</td>\n",
       "    </tr>\n",
       "    <tr>\n",
       "      <th>3</th>\n",
       "      <td>Table Tennis</td>\n",
       "      <td>10</td>\n",
       "      <td>Cheap</td>\n",
       "    </tr>\n",
       "    <tr>\n",
       "      <th>4</th>\n",
       "      <td>Massage Room 1</td>\n",
       "      <td>3000</td>\n",
       "      <td>Expensive</td>\n",
       "    </tr>\n",
       "    <tr>\n",
       "      <th>5</th>\n",
       "      <td>Massage Room 2</td>\n",
       "      <td>3000</td>\n",
       "      <td>Expensive</td>\n",
       "    </tr>\n",
       "    <tr>\n",
       "      <th>6</th>\n",
       "      <td>Squash Court</td>\n",
       "      <td>80</td>\n",
       "      <td>Cheap</td>\n",
       "    </tr>\n",
       "    <tr>\n",
       "      <th>7</th>\n",
       "      <td>Snooker Table</td>\n",
       "      <td>15</td>\n",
       "      <td>Cheap</td>\n",
       "    </tr>\n",
       "    <tr>\n",
       "      <th>8</th>\n",
       "      <td>Pool Table</td>\n",
       "      <td>15</td>\n",
       "      <td>Cheap</td>\n",
       "    </tr>\n",
       "  </tbody>\n",
       "</table>\n",
       "</div>"
      ]
     },
     "metadata": {
      "application/vnd.databricks.v1+output": {
       "addedWidgets": {},
       "arguments": {},
       "data": "<div>\n<style scoped>\n    .dataframe tbody tr th:only-of-type {\n        vertical-align: middle;\n    }\n\n    .dataframe tbody tr th {\n        vertical-align: top;\n    }\n\n    .dataframe thead th {\n        text-align: right;\n    }\n</style>\n<table border=\"1\" class=\"dataframe\">\n  <thead>\n    <tr style=\"text-align: right;\">\n      <th></th>\n      <th>name</th>\n      <th>monthlymaintenance</th>\n      <th>CASE WHEN (monthlymaintenance &lt;= 100) THEN Cheap ELSE Expensive END</th>\n    </tr>\n  </thead>\n  <tbody>\n    <tr>\n      <th>0</th>\n      <td>Tennis Court 1</td>\n      <td>200</td>\n      <td>Expensive</td>\n    </tr>\n    <tr>\n      <th>1</th>\n      <td>Tennis Court 2</td>\n      <td>200</td>\n      <td>Expensive</td>\n    </tr>\n    <tr>\n      <th>2</th>\n      <td>Badminton Court</td>\n      <td>50</td>\n      <td>Cheap</td>\n    </tr>\n    <tr>\n      <th>3</th>\n      <td>Table Tennis</td>\n      <td>10</td>\n      <td>Cheap</td>\n    </tr>\n    <tr>\n      <th>4</th>\n      <td>Massage Room 1</td>\n      <td>3000</td>\n      <td>Expensive</td>\n    </tr>\n    <tr>\n      <th>5</th>\n      <td>Massage Room 2</td>\n      <td>3000</td>\n      <td>Expensive</td>\n    </tr>\n    <tr>\n      <th>6</th>\n      <td>Squash Court</td>\n      <td>80</td>\n      <td>Cheap</td>\n    </tr>\n    <tr>\n      <th>7</th>\n      <td>Snooker Table</td>\n      <td>15</td>\n      <td>Cheap</td>\n    </tr>\n    <tr>\n      <th>8</th>\n      <td>Pool Table</td>\n      <td>15</td>\n      <td>Cheap</td>\n    </tr>\n  </tbody>\n</table>\n</div>",
       "datasetInfos": [],
       "metadata": {},
       "removedWidgets": [],
       "textData": null,
       "type": "htmlSandbox"
      }
     },
     "output_type": "display_data"
    }
   ],
   "source": [
    "from pyspark.sql import functions as F\n",
    "facilities_df.select(\"name\",\"monthlymaintenance\", F.when(facilities_df.monthlymaintenance <= 100, \"Cheap\").otherwise(\"Expensive\") ).toPandas()"
   ]
  },
  {
   "cell_type": "markdown",
   "metadata": {
    "application/vnd.databricks.v1+cell": {
     "cellMetadata": {},
     "inputWidgets": {},
     "nuid": "774eb1ba-1b78-45a5-a4fb-e0e40afc2afd",
     "showTitle": false,
     "title": ""
    }
   },
   "source": [
    "#### Q6: You'd like to get the first and last name of the last member(s) who signed up. Do not use the LIMIT clause for your solution."
   ]
  },
  {
   "cell_type": "code",
   "execution_count": 0,
   "metadata": {
    "application/vnd.databricks.v1+cell": {
     "cellMetadata": {
      "byteLimit": 2048000,
      "implicitDf": true,
      "rowLimit": 10000
     },
     "inputWidgets": {},
     "nuid": "5299ea72-7087-4367-9f54-0b7b799b1a77",
     "showTitle": false,
     "title": ""
    }
   },
   "outputs": [
    {
     "output_type": "display_data",
     "data": {
      "text/html": [
       "<style scoped>\n",
       "  .table-result-container {\n",
       "    max-height: 300px;\n",
       "    overflow: auto;\n",
       "  }\n",
       "  table, th, td {\n",
       "    border: 1px solid black;\n",
       "    border-collapse: collapse;\n",
       "  }\n",
       "  th, td {\n",
       "    padding: 5px;\n",
       "  }\n",
       "  th {\n",
       "    text-align: left;\n",
       "  }\n",
       "</style><div class='table-result-container'><table class='table-result'><thead style='background-color: white'><tr><th>firstname</th><th>surname</th></tr></thead><tbody><tr><td>Darren</td><td>Smith</td></tr></tbody></table></div>"
      ]
     },
     "metadata": {
      "application/vnd.databricks.v1+output": {
       "addedWidgets": {},
       "aggData": [],
       "aggError": "",
       "aggOverflow": false,
       "aggSchema": [],
       "aggSeriesLimitReached": false,
       "aggType": "",
       "arguments": {},
       "columnCustomDisplayInfos": {},
       "data": [
        [
         "Darren",
         "Smith"
        ]
       ],
       "datasetInfos": [],
       "dbfsResultPath": null,
       "isJsonSchema": true,
       "metadata": {},
       "overflow": false,
       "plotOptions": {
        "customPlotOptions": {},
        "displayType": "table",
        "pivotAggregation": null,
        "pivotColumns": null,
        "xColumns": null,
        "yColumns": null
       },
       "removedWidgets": [],
       "schema": [
        {
         "metadata": "{}",
         "name": "firstname",
         "type": "\"string\""
        },
        {
         "metadata": "{}",
         "name": "surname",
         "type": "\"string\""
        }
       ],
       "type": "table"
      }
     },
     "output_type": "display_data"
    }
   ],
   "source": [
    "%sql\n",
    "select firstname, surname from members where joindate = (select max(joindate) from members)"
   ]
  },
  {
   "cell_type": "code",
   "execution_count": 0,
   "metadata": {
    "application/vnd.databricks.v1+cell": {
     "cellMetadata": {
      "byteLimit": 2048000,
      "rowLimit": 10000
     },
     "inputWidgets": {},
     "nuid": "c54735b4-9c1b-417a-889d-d06b519ad750",
     "showTitle": false,
     "title": ""
    }
   },
   "outputs": [
    {
     "output_type": "display_data",
     "data": {
      "text/html": [
       "<div>\n",
       "<style scoped>\n",
       "    .dataframe tbody tr th:only-of-type {\n",
       "        vertical-align: middle;\n",
       "    }\n",
       "\n",
       "    .dataframe tbody tr th {\n",
       "        vertical-align: top;\n",
       "    }\n",
       "\n",
       "    .dataframe thead th {\n",
       "        text-align: right;\n",
       "    }\n",
       "</style>\n",
       "<table border=\"1\" class=\"dataframe\">\n",
       "  <thead>\n",
       "    <tr style=\"text-align: right;\">\n",
       "      <th></th>\n",
       "      <th>First name</th>\n",
       "      <th>Last Name</th>\n",
       "    </tr>\n",
       "  </thead>\n",
       "  <tbody>\n",
       "    <tr>\n",
       "      <th>0</th>\n",
       "      <td>Darren</td>\n",
       "      <td>Smith</td>\n",
       "    </tr>\n",
       "  </tbody>\n",
       "</table>\n",
       "</div>"
      ]
     },
     "metadata": {
      "application/vnd.databricks.v1+output": {
       "addedWidgets": {},
       "arguments": {},
       "data": "<div>\n<style scoped>\n    .dataframe tbody tr th:only-of-type {\n        vertical-align: middle;\n    }\n\n    .dataframe tbody tr th {\n        vertical-align: top;\n    }\n\n    .dataframe thead th {\n        text-align: right;\n    }\n</style>\n<table border=\"1\" class=\"dataframe\">\n  <thead>\n    <tr style=\"text-align: right;\">\n      <th></th>\n      <th>First name</th>\n      <th>Last Name</th>\n    </tr>\n  </thead>\n  <tbody>\n    <tr>\n      <th>0</th>\n      <td>Darren</td>\n      <td>Smith</td>\n    </tr>\n  </tbody>\n</table>\n</div>",
       "datasetInfos": [],
       "metadata": {},
       "removedWidgets": [],
       "textData": null,
       "type": "htmlSandbox"
      }
     },
     "output_type": "display_data"
    }
   ],
   "source": [
    "import pandas as pd\n",
    "df = pd.DataFrame(members_df.select(members_df.firstname, members_df.surname).sort(members_df.joindate, ascending=False).head(1))\n",
    "df.columns = [\"First name\", \"Last Name\"]\n",
    "df"
   ]
  },
  {
   "cell_type": "markdown",
   "metadata": {
    "application/vnd.databricks.v1+cell": {
     "cellMetadata": {},
     "inputWidgets": {},
     "nuid": "606d62ea-f355-40ed-87ad-2752d718bfc8",
     "showTitle": false,
     "title": ""
    }
   },
   "source": [
    "####  Q7: How can you produce a list of all members who have used a tennis court?\n",
    "- Include in your output the name of the court, and the name of the member formatted as a single column. \n",
    "- Ensure no duplicate data\n",
    "- Also order by the member name."
   ]
  },
  {
   "cell_type": "code",
   "execution_count": 0,
   "metadata": {
    "application/vnd.databricks.v1+cell": {
     "cellMetadata": {
      "byteLimit": 2048000,
      "implicitDf": true,
      "rowLimit": 10000
     },
     "inputWidgets": {},
     "nuid": "c50e1838-e7a0-4e03-ab58-183d39e50571",
     "showTitle": false,
     "title": ""
    }
   },
   "outputs": [
    {
     "output_type": "display_data",
     "data": {
      "text/html": [
       "<style scoped>\n",
       "  .table-result-container {\n",
       "    max-height: 300px;\n",
       "    overflow: auto;\n",
       "  }\n",
       "  table, th, td {\n",
       "    border: 1px solid black;\n",
       "    border-collapse: collapse;\n",
       "  }\n",
       "  th, td {\n",
       "    padding: 5px;\n",
       "  }\n",
       "  th {\n",
       "    text-align: left;\n",
       "  }\n",
       "</style><div class='table-result-container'><table class='table-result'><thead style='background-color: white'><tr><th>facility_name</th><th>member_name</th></tr></thead><tbody><tr><td>Tennis Court 1</td><td>Anne Baker</td></tr><tr><td>Tennis Court 2</td><td>Anne Baker</td></tr><tr><td>Tennis Court 2</td><td>Burton Tracy</td></tr><tr><td>Tennis Court 1</td><td>Burton Tracy</td></tr><tr><td>Tennis Court 1</td><td>Charles Owen</td></tr><tr><td>Tennis Court 2</td><td>Charles Owen</td></tr><tr><td>Tennis Court 2</td><td>Darren Smith</td></tr><tr><td>Tennis Court 1</td><td>David Farrell</td></tr><tr><td>Tennis Court 2</td><td>David Farrell</td></tr><tr><td>Tennis Court 2</td><td>David Jones</td></tr><tr><td>Tennis Court 1</td><td>David Jones</td></tr><tr><td>Tennis Court 1</td><td>David Pinker</td></tr><tr><td>Tennis Court 1</td><td>Douglas Jones</td></tr><tr><td>Tennis Court 1</td><td>Erica Crumpet</td></tr><tr><td>Tennis Court 1</td><td>Florence Bader</td></tr><tr><td>Tennis Court 2</td><td>Florence Bader</td></tr><tr><td>Tennis Court 2</td><td>GUEST GUEST</td></tr><tr><td>Tennis Court 1</td><td>GUEST GUEST</td></tr><tr><td>Tennis Court 1</td><td>Gerald Butters</td></tr><tr><td>Tennis Court 2</td><td>Gerald Butters</td></tr><tr><td>Tennis Court 2</td><td>Henrietta Rumney</td></tr><tr><td>Tennis Court 2</td><td>Jack Smith</td></tr><tr><td>Tennis Court 1</td><td>Jack Smith</td></tr><tr><td>Tennis Court 1</td><td>Janice Joplette</td></tr><tr><td>Tennis Court 2</td><td>Janice Joplette</td></tr><tr><td>Tennis Court 1</td><td>Jemima Farrell</td></tr><tr><td>Tennis Court 2</td><td>Jemima Farrell</td></tr><tr><td>Tennis Court 1</td><td>Joan Coplin</td></tr><tr><td>Tennis Court 1</td><td>John Hunt</td></tr><tr><td>Tennis Court 2</td><td>John Hunt</td></tr><tr><td>Tennis Court 1</td><td>Matthew Genting</td></tr><tr><td>Tennis Court 2</td><td>Millicent Purview</td></tr><tr><td>Tennis Court 2</td><td>Nancy Dare</td></tr><tr><td>Tennis Court 1</td><td>Nancy Dare</td></tr><tr><td>Tennis Court 2</td><td>Ponder Stibbons</td></tr><tr><td>Tennis Court 1</td><td>Ponder Stibbons</td></tr><tr><td>Tennis Court 2</td><td>Ramnaresh Sarwin</td></tr><tr><td>Tennis Court 1</td><td>Ramnaresh Sarwin</td></tr><tr><td>Tennis Court 2</td><td>Tim Boothe</td></tr><tr><td>Tennis Court 1</td><td>Tim Boothe</td></tr><tr><td>Tennis Court 2</td><td>Tim Rownam</td></tr><tr><td>Tennis Court 1</td><td>Tim Rownam</td></tr><tr><td>Tennis Court 1</td><td>Timothy Baker</td></tr><tr><td>Tennis Court 2</td><td>Timothy Baker</td></tr><tr><td>Tennis Court 2</td><td>Tracy Smith</td></tr><tr><td>Tennis Court 1</td><td>Tracy Smith</td></tr></tbody></table></div>"
      ]
     },
     "metadata": {
      "application/vnd.databricks.v1+output": {
       "addedWidgets": {},
       "aggData": [],
       "aggError": "",
       "aggOverflow": false,
       "aggSchema": [],
       "aggSeriesLimitReached": false,
       "aggType": "",
       "arguments": {},
       "columnCustomDisplayInfos": {},
       "data": [
        [
         "Tennis Court 1",
         "Anne Baker"
        ],
        [
         "Tennis Court 2",
         "Anne Baker"
        ],
        [
         "Tennis Court 2",
         "Burton Tracy"
        ],
        [
         "Tennis Court 1",
         "Burton Tracy"
        ],
        [
         "Tennis Court 1",
         "Charles Owen"
        ],
        [
         "Tennis Court 2",
         "Charles Owen"
        ],
        [
         "Tennis Court 2",
         "Darren Smith"
        ],
        [
         "Tennis Court 1",
         "David Farrell"
        ],
        [
         "Tennis Court 2",
         "David Farrell"
        ],
        [
         "Tennis Court 2",
         "David Jones"
        ],
        [
         "Tennis Court 1",
         "David Jones"
        ],
        [
         "Tennis Court 1",
         "David Pinker"
        ],
        [
         "Tennis Court 1",
         "Douglas Jones"
        ],
        [
         "Tennis Court 1",
         "Erica Crumpet"
        ],
        [
         "Tennis Court 1",
         "Florence Bader"
        ],
        [
         "Tennis Court 2",
         "Florence Bader"
        ],
        [
         "Tennis Court 2",
         "GUEST GUEST"
        ],
        [
         "Tennis Court 1",
         "GUEST GUEST"
        ],
        [
         "Tennis Court 1",
         "Gerald Butters"
        ],
        [
         "Tennis Court 2",
         "Gerald Butters"
        ],
        [
         "Tennis Court 2",
         "Henrietta Rumney"
        ],
        [
         "Tennis Court 2",
         "Jack Smith"
        ],
        [
         "Tennis Court 1",
         "Jack Smith"
        ],
        [
         "Tennis Court 1",
         "Janice Joplette"
        ],
        [
         "Tennis Court 2",
         "Janice Joplette"
        ],
        [
         "Tennis Court 1",
         "Jemima Farrell"
        ],
        [
         "Tennis Court 2",
         "Jemima Farrell"
        ],
        [
         "Tennis Court 1",
         "Joan Coplin"
        ],
        [
         "Tennis Court 1",
         "John Hunt"
        ],
        [
         "Tennis Court 2",
         "John Hunt"
        ],
        [
         "Tennis Court 1",
         "Matthew Genting"
        ],
        [
         "Tennis Court 2",
         "Millicent Purview"
        ],
        [
         "Tennis Court 2",
         "Nancy Dare"
        ],
        [
         "Tennis Court 1",
         "Nancy Dare"
        ],
        [
         "Tennis Court 2",
         "Ponder Stibbons"
        ],
        [
         "Tennis Court 1",
         "Ponder Stibbons"
        ],
        [
         "Tennis Court 2",
         "Ramnaresh Sarwin"
        ],
        [
         "Tennis Court 1",
         "Ramnaresh Sarwin"
        ],
        [
         "Tennis Court 2",
         "Tim Boothe"
        ],
        [
         "Tennis Court 1",
         "Tim Boothe"
        ],
        [
         "Tennis Court 2",
         "Tim Rownam"
        ],
        [
         "Tennis Court 1",
         "Tim Rownam"
        ],
        [
         "Tennis Court 1",
         "Timothy Baker"
        ],
        [
         "Tennis Court 2",
         "Timothy Baker"
        ],
        [
         "Tennis Court 2",
         "Tracy Smith"
        ],
        [
         "Tennis Court 1",
         "Tracy Smith"
        ]
       ],
       "datasetInfos": [],
       "dbfsResultPath": null,
       "isJsonSchema": true,
       "metadata": {},
       "overflow": false,
       "plotOptions": {
        "customPlotOptions": {},
        "displayType": "table",
        "pivotAggregation": null,
        "pivotColumns": null,
        "xColumns": null,
        "yColumns": null
       },
       "removedWidgets": [],
       "schema": [
        {
         "metadata": "{}",
         "name": "facility_name",
         "type": "\"string\""
        },
        {
         "metadata": "{}",
         "name": "member_name",
         "type": "\"string\""
        }
       ],
       "type": "table"
      }
     },
     "output_type": "display_data"
    }
   ],
   "source": [
    "%sql\n",
    "select facility_name, member_name from (\n",
    "  select distinct \n",
    "    facilities.name as facility_name, \n",
    "    concat(firstname, ' ', surname) as member_name,\n",
    "    firstname,\n",
    "    surname\n",
    "  from \n",
    "    bookings \n",
    "      inner join facilities on bookings.facid = facilities.facid and name like 'Tennis Court%'\n",
    "      inner join members on members.memid = bookings.memid\n",
    ")\n",
    "  order by firstname, surname\n"
   ]
  },
  {
   "cell_type": "code",
   "execution_count": 0,
   "metadata": {
    "application/vnd.databricks.v1+cell": {
     "cellMetadata": {
      "byteLimit": 2048000,
      "rowLimit": 10000
     },
     "inputWidgets": {},
     "nuid": "237433e8-4dba-4b88-9cfa-abc2ba808f9e",
     "showTitle": false,
     "title": ""
    }
   },
   "outputs": [
    {
     "output_type": "display_data",
     "data": {
      "text/html": [
       "<div>\n",
       "<style scoped>\n",
       "    .dataframe tbody tr th:only-of-type {\n",
       "        vertical-align: middle;\n",
       "    }\n",
       "\n",
       "    .dataframe tbody tr th {\n",
       "        vertical-align: top;\n",
       "    }\n",
       "\n",
       "    .dataframe thead th {\n",
       "        text-align: right;\n",
       "    }\n",
       "</style>\n",
       "<table border=\"1\" class=\"dataframe\">\n",
       "  <thead>\n",
       "    <tr style=\"text-align: right;\">\n",
       "      <th></th>\n",
       "      <th>name</th>\n",
       "      <th>member_name</th>\n",
       "    </tr>\n",
       "  </thead>\n",
       "  <tbody>\n",
       "    <tr>\n",
       "      <th>0</th>\n",
       "      <td>Tennis Court 1</td>\n",
       "      <td>Anne Baker</td>\n",
       "    </tr>\n",
       "    <tr>\n",
       "      <th>1</th>\n",
       "      <td>Tennis Court 2</td>\n",
       "      <td>Anne Baker</td>\n",
       "    </tr>\n",
       "    <tr>\n",
       "      <th>2</th>\n",
       "      <td>Tennis Court 1</td>\n",
       "      <td>Burton Tracy</td>\n",
       "    </tr>\n",
       "    <tr>\n",
       "      <th>3</th>\n",
       "      <td>Tennis Court 2</td>\n",
       "      <td>Burton Tracy</td>\n",
       "    </tr>\n",
       "    <tr>\n",
       "      <th>4</th>\n",
       "      <td>Tennis Court 1</td>\n",
       "      <td>Charles Owen</td>\n",
       "    </tr>\n",
       "    <tr>\n",
       "      <th>5</th>\n",
       "      <td>Tennis Court 2</td>\n",
       "      <td>Charles Owen</td>\n",
       "    </tr>\n",
       "    <tr>\n",
       "      <th>6</th>\n",
       "      <td>Tennis Court 2</td>\n",
       "      <td>Darren Smith</td>\n",
       "    </tr>\n",
       "    <tr>\n",
       "      <th>7</th>\n",
       "      <td>Tennis Court 1</td>\n",
       "      <td>David Farrell</td>\n",
       "    </tr>\n",
       "    <tr>\n",
       "      <th>8</th>\n",
       "      <td>Tennis Court 2</td>\n",
       "      <td>David Farrell</td>\n",
       "    </tr>\n",
       "    <tr>\n",
       "      <th>9</th>\n",
       "      <td>Tennis Court 1</td>\n",
       "      <td>David Jones</td>\n",
       "    </tr>\n",
       "    <tr>\n",
       "      <th>10</th>\n",
       "      <td>Tennis Court 2</td>\n",
       "      <td>David Jones</td>\n",
       "    </tr>\n",
       "    <tr>\n",
       "      <th>11</th>\n",
       "      <td>Tennis Court 1</td>\n",
       "      <td>David Pinker</td>\n",
       "    </tr>\n",
       "    <tr>\n",
       "      <th>12</th>\n",
       "      <td>Tennis Court 1</td>\n",
       "      <td>Douglas Jones</td>\n",
       "    </tr>\n",
       "    <tr>\n",
       "      <th>13</th>\n",
       "      <td>Tennis Court 1</td>\n",
       "      <td>Erica Crumpet</td>\n",
       "    </tr>\n",
       "    <tr>\n",
       "      <th>14</th>\n",
       "      <td>Tennis Court 1</td>\n",
       "      <td>Florence Bader</td>\n",
       "    </tr>\n",
       "    <tr>\n",
       "      <th>15</th>\n",
       "      <td>Tennis Court 2</td>\n",
       "      <td>Florence Bader</td>\n",
       "    </tr>\n",
       "    <tr>\n",
       "      <th>16</th>\n",
       "      <td>Tennis Court 1</td>\n",
       "      <td>GUEST GUEST</td>\n",
       "    </tr>\n",
       "    <tr>\n",
       "      <th>17</th>\n",
       "      <td>Tennis Court 2</td>\n",
       "      <td>GUEST GUEST</td>\n",
       "    </tr>\n",
       "    <tr>\n",
       "      <th>18</th>\n",
       "      <td>Tennis Court 1</td>\n",
       "      <td>Gerald Butters</td>\n",
       "    </tr>\n",
       "    <tr>\n",
       "      <th>19</th>\n",
       "      <td>Tennis Court 2</td>\n",
       "      <td>Gerald Butters</td>\n",
       "    </tr>\n",
       "    <tr>\n",
       "      <th>20</th>\n",
       "      <td>Tennis Court 2</td>\n",
       "      <td>Henrietta Rumney</td>\n",
       "    </tr>\n",
       "    <tr>\n",
       "      <th>21</th>\n",
       "      <td>Tennis Court 1</td>\n",
       "      <td>Jack Smith</td>\n",
       "    </tr>\n",
       "    <tr>\n",
       "      <th>22</th>\n",
       "      <td>Tennis Court 2</td>\n",
       "      <td>Jack Smith</td>\n",
       "    </tr>\n",
       "    <tr>\n",
       "      <th>23</th>\n",
       "      <td>Tennis Court 1</td>\n",
       "      <td>Janice Joplette</td>\n",
       "    </tr>\n",
       "    <tr>\n",
       "      <th>24</th>\n",
       "      <td>Tennis Court 2</td>\n",
       "      <td>Janice Joplette</td>\n",
       "    </tr>\n",
       "    <tr>\n",
       "      <th>25</th>\n",
       "      <td>Tennis Court 1</td>\n",
       "      <td>Jemima Farrell</td>\n",
       "    </tr>\n",
       "    <tr>\n",
       "      <th>26</th>\n",
       "      <td>Tennis Court 2</td>\n",
       "      <td>Jemima Farrell</td>\n",
       "    </tr>\n",
       "    <tr>\n",
       "      <th>27</th>\n",
       "      <td>Tennis Court 1</td>\n",
       "      <td>Joan Coplin</td>\n",
       "    </tr>\n",
       "    <tr>\n",
       "      <th>28</th>\n",
       "      <td>Tennis Court 1</td>\n",
       "      <td>John Hunt</td>\n",
       "    </tr>\n",
       "    <tr>\n",
       "      <th>29</th>\n",
       "      <td>Tennis Court 2</td>\n",
       "      <td>John Hunt</td>\n",
       "    </tr>\n",
       "    <tr>\n",
       "      <th>30</th>\n",
       "      <td>Tennis Court 1</td>\n",
       "      <td>Matthew Genting</td>\n",
       "    </tr>\n",
       "    <tr>\n",
       "      <th>31</th>\n",
       "      <td>Tennis Court 2</td>\n",
       "      <td>Millicent Purview</td>\n",
       "    </tr>\n",
       "    <tr>\n",
       "      <th>32</th>\n",
       "      <td>Tennis Court 1</td>\n",
       "      <td>Nancy Dare</td>\n",
       "    </tr>\n",
       "    <tr>\n",
       "      <th>33</th>\n",
       "      <td>Tennis Court 2</td>\n",
       "      <td>Nancy Dare</td>\n",
       "    </tr>\n",
       "    <tr>\n",
       "      <th>34</th>\n",
       "      <td>Tennis Court 1</td>\n",
       "      <td>Ponder Stibbons</td>\n",
       "    </tr>\n",
       "    <tr>\n",
       "      <th>35</th>\n",
       "      <td>Tennis Court 2</td>\n",
       "      <td>Ponder Stibbons</td>\n",
       "    </tr>\n",
       "    <tr>\n",
       "      <th>36</th>\n",
       "      <td>Tennis Court 1</td>\n",
       "      <td>Ramnaresh Sarwin</td>\n",
       "    </tr>\n",
       "    <tr>\n",
       "      <th>37</th>\n",
       "      <td>Tennis Court 2</td>\n",
       "      <td>Ramnaresh Sarwin</td>\n",
       "    </tr>\n",
       "    <tr>\n",
       "      <th>38</th>\n",
       "      <td>Tennis Court 1</td>\n",
       "      <td>Tim Boothe</td>\n",
       "    </tr>\n",
       "    <tr>\n",
       "      <th>39</th>\n",
       "      <td>Tennis Court 2</td>\n",
       "      <td>Tim Boothe</td>\n",
       "    </tr>\n",
       "    <tr>\n",
       "      <th>40</th>\n",
       "      <td>Tennis Court 1</td>\n",
       "      <td>Tim Rownam</td>\n",
       "    </tr>\n",
       "    <tr>\n",
       "      <th>41</th>\n",
       "      <td>Tennis Court 2</td>\n",
       "      <td>Tim Rownam</td>\n",
       "    </tr>\n",
       "    <tr>\n",
       "      <th>42</th>\n",
       "      <td>Tennis Court 1</td>\n",
       "      <td>Timothy Baker</td>\n",
       "    </tr>\n",
       "    <tr>\n",
       "      <th>43</th>\n",
       "      <td>Tennis Court 2</td>\n",
       "      <td>Timothy Baker</td>\n",
       "    </tr>\n",
       "    <tr>\n",
       "      <th>44</th>\n",
       "      <td>Tennis Court 1</td>\n",
       "      <td>Tracy Smith</td>\n",
       "    </tr>\n",
       "    <tr>\n",
       "      <th>45</th>\n",
       "      <td>Tennis Court 2</td>\n",
       "      <td>Tracy Smith</td>\n",
       "    </tr>\n",
       "  </tbody>\n",
       "</table>\n",
       "</div>"
      ]
     },
     "metadata": {
      "application/vnd.databricks.v1+output": {
       "addedWidgets": {},
       "arguments": {},
       "data": "<div>\n<style scoped>\n    .dataframe tbody tr th:only-of-type {\n        vertical-align: middle;\n    }\n\n    .dataframe tbody tr th {\n        vertical-align: top;\n    }\n\n    .dataframe thead th {\n        text-align: right;\n    }\n</style>\n<table border=\"1\" class=\"dataframe\">\n  <thead>\n    <tr style=\"text-align: right;\">\n      <th></th>\n      <th>name</th>\n      <th>member_name</th>\n    </tr>\n  </thead>\n  <tbody>\n    <tr>\n      <th>0</th>\n      <td>Tennis Court 1</td>\n      <td>Anne Baker</td>\n    </tr>\n    <tr>\n      <th>1</th>\n      <td>Tennis Court 2</td>\n      <td>Anne Baker</td>\n    </tr>\n    <tr>\n      <th>2</th>\n      <td>Tennis Court 1</td>\n      <td>Burton Tracy</td>\n    </tr>\n    <tr>\n      <th>3</th>\n      <td>Tennis Court 2</td>\n      <td>Burton Tracy</td>\n    </tr>\n    <tr>\n      <th>4</th>\n      <td>Tennis Court 1</td>\n      <td>Charles Owen</td>\n    </tr>\n    <tr>\n      <th>5</th>\n      <td>Tennis Court 2</td>\n      <td>Charles Owen</td>\n    </tr>\n    <tr>\n      <th>6</th>\n      <td>Tennis Court 2</td>\n      <td>Darren Smith</td>\n    </tr>\n    <tr>\n      <th>7</th>\n      <td>Tennis Court 1</td>\n      <td>David Farrell</td>\n    </tr>\n    <tr>\n      <th>8</th>\n      <td>Tennis Court 2</td>\n      <td>David Farrell</td>\n    </tr>\n    <tr>\n      <th>9</th>\n      <td>Tennis Court 1</td>\n      <td>David Jones</td>\n    </tr>\n    <tr>\n      <th>10</th>\n      <td>Tennis Court 2</td>\n      <td>David Jones</td>\n    </tr>\n    <tr>\n      <th>11</th>\n      <td>Tennis Court 1</td>\n      <td>David Pinker</td>\n    </tr>\n    <tr>\n      <th>12</th>\n      <td>Tennis Court 1</td>\n      <td>Douglas Jones</td>\n    </tr>\n    <tr>\n      <th>13</th>\n      <td>Tennis Court 1</td>\n      <td>Erica Crumpet</td>\n    </tr>\n    <tr>\n      <th>14</th>\n      <td>Tennis Court 1</td>\n      <td>Florence Bader</td>\n    </tr>\n    <tr>\n      <th>15</th>\n      <td>Tennis Court 2</td>\n      <td>Florence Bader</td>\n    </tr>\n    <tr>\n      <th>16</th>\n      <td>Tennis Court 1</td>\n      <td>GUEST GUEST</td>\n    </tr>\n    <tr>\n      <th>17</th>\n      <td>Tennis Court 2</td>\n      <td>GUEST GUEST</td>\n    </tr>\n    <tr>\n      <th>18</th>\n      <td>Tennis Court 1</td>\n      <td>Gerald Butters</td>\n    </tr>\n    <tr>\n      <th>19</th>\n      <td>Tennis Court 2</td>\n      <td>Gerald Butters</td>\n    </tr>\n    <tr>\n      <th>20</th>\n      <td>Tennis Court 2</td>\n      <td>Henrietta Rumney</td>\n    </tr>\n    <tr>\n      <th>21</th>\n      <td>Tennis Court 1</td>\n      <td>Jack Smith</td>\n    </tr>\n    <tr>\n      <th>22</th>\n      <td>Tennis Court 2</td>\n      <td>Jack Smith</td>\n    </tr>\n    <tr>\n      <th>23</th>\n      <td>Tennis Court 1</td>\n      <td>Janice Joplette</td>\n    </tr>\n    <tr>\n      <th>24</th>\n      <td>Tennis Court 2</td>\n      <td>Janice Joplette</td>\n    </tr>\n    <tr>\n      <th>25</th>\n      <td>Tennis Court 1</td>\n      <td>Jemima Farrell</td>\n    </tr>\n    <tr>\n      <th>26</th>\n      <td>Tennis Court 2</td>\n      <td>Jemima Farrell</td>\n    </tr>\n    <tr>\n      <th>27</th>\n      <td>Tennis Court 1</td>\n      <td>Joan Coplin</td>\n    </tr>\n    <tr>\n      <th>28</th>\n      <td>Tennis Court 1</td>\n      <td>John Hunt</td>\n    </tr>\n    <tr>\n      <th>29</th>\n      <td>Tennis Court 2</td>\n      <td>John Hunt</td>\n    </tr>\n    <tr>\n      <th>30</th>\n      <td>Tennis Court 1</td>\n      <td>Matthew Genting</td>\n    </tr>\n    <tr>\n      <th>31</th>\n      <td>Tennis Court 2</td>\n      <td>Millicent Purview</td>\n    </tr>\n    <tr>\n      <th>32</th>\n      <td>Tennis Court 1</td>\n      <td>Nancy Dare</td>\n    </tr>\n    <tr>\n      <th>33</th>\n      <td>Tennis Court 2</td>\n      <td>Nancy Dare</td>\n    </tr>\n    <tr>\n      <th>34</th>\n      <td>Tennis Court 1</td>\n      <td>Ponder Stibbons</td>\n    </tr>\n    <tr>\n      <th>35</th>\n      <td>Tennis Court 2</td>\n      <td>Ponder Stibbons</td>\n    </tr>\n    <tr>\n      <th>36</th>\n      <td>Tennis Court 1</td>\n      <td>Ramnaresh Sarwin</td>\n    </tr>\n    <tr>\n      <th>37</th>\n      <td>Tennis Court 2</td>\n      <td>Ramnaresh Sarwin</td>\n    </tr>\n    <tr>\n      <th>38</th>\n      <td>Tennis Court 1</td>\n      <td>Tim Boothe</td>\n    </tr>\n    <tr>\n      <th>39</th>\n      <td>Tennis Court 2</td>\n      <td>Tim Boothe</td>\n    </tr>\n    <tr>\n      <th>40</th>\n      <td>Tennis Court 1</td>\n      <td>Tim Rownam</td>\n    </tr>\n    <tr>\n      <th>41</th>\n      <td>Tennis Court 2</td>\n      <td>Tim Rownam</td>\n    </tr>\n    <tr>\n      <th>42</th>\n      <td>Tennis Court 1</td>\n      <td>Timothy Baker</td>\n    </tr>\n    <tr>\n      <th>43</th>\n      <td>Tennis Court 2</td>\n      <td>Timothy Baker</td>\n    </tr>\n    <tr>\n      <th>44</th>\n      <td>Tennis Court 1</td>\n      <td>Tracy Smith</td>\n    </tr>\n    <tr>\n      <th>45</th>\n      <td>Tennis Court 2</td>\n      <td>Tracy Smith</td>\n    </tr>\n  </tbody>\n</table>\n</div>",
       "datasetInfos": [],
       "metadata": {},
       "removedWidgets": [],
       "textData": null,
       "type": "htmlSandbox"
      }
     },
     "output_type": "display_data"
    }
   ],
   "source": [
    "from pyspark.sql.functions import concat, lit\n",
    "\n",
    "bookings_df \\\n",
    "    .join(facilities_df, [facilities_df.facid == bookings_df.facid, facilities_df.name.like(\"Tennis Court%\") ]) \\\n",
    "    .join(members_df, members_df.memid == bookings_df.memid) \\\n",
    "    .select(facilities_df.name, concat(members_df.firstname, lit(' '), members_df.surname).alias(\"member_name\") ) \\\n",
    "    .distinct() \\\n",
    "    .orderBy([\"firstname\",\"surname\"]) \\\n",
    "    .toPandas()"
   ]
  },
  {
   "cell_type": "markdown",
   "metadata": {
    "application/vnd.databricks.v1+cell": {
     "cellMetadata": {},
     "inputWidgets": {},
     "nuid": "52d8d8eb-8d85-49e5-bb1c-c7ce33c84336",
     "showTitle": false,
     "title": ""
    }
   },
   "source": [
    "#### Q8: How can you produce a list of bookings on the day of 2012-09-14 which will cost the member (or guest) more than $30? \n",
    "\n",
    "- Remember that guests have different costs to members (the listed costs are per half-hour 'slot')\n",
    "- The guest user's ID is always 0. \n",
    "\n",
    "#### Include in your output the name of the facility, the name of the member formatted as a single column, and the cost.\n",
    "\n",
    "- Order by descending cost, and do not use any subqueries."
   ]
  },
  {
   "cell_type": "code",
   "execution_count": 0,
   "metadata": {
    "application/vnd.databricks.v1+cell": {
     "cellMetadata": {
      "byteLimit": 2048000,
      "implicitDf": true,
      "rowLimit": 10000
     },
     "inputWidgets": {},
     "nuid": "e9518ead-14f2-404b-8dcf-822f322511e1",
     "showTitle": false,
     "title": ""
    }
   },
   "outputs": [
    {
     "output_type": "display_data",
     "data": {
      "text/html": [
       "<style scoped>\n",
       "  .table-result-container {\n",
       "    max-height: 300px;\n",
       "    overflow: auto;\n",
       "  }\n",
       "  table, th, td {\n",
       "    border: 1px solid black;\n",
       "    border-collapse: collapse;\n",
       "  }\n",
       "  th, td {\n",
       "    padding: 5px;\n",
       "  }\n",
       "  th {\n",
       "    text-align: left;\n",
       "  }\n",
       "</style><div class='table-result-container'><table class='table-result'><thead style='background-color: white'><tr><th>name</th><th>member_name</th><th>cost</th></tr></thead><tbody><tr><td>Squash Court</td><td>GUEST GUEST</td><td>7.0</td></tr><tr><td>Squash Court</td><td>GUEST GUEST</td><td>7.0</td></tr><tr><td>Squash Court</td><td>GUEST GUEST</td><td>14.0</td></tr><tr><td>Tennis Court 1</td><td>GUEST GUEST</td><td>15.0</td></tr><tr><td>Tennis Court 1</td><td>GUEST GUEST</td><td>15.0</td></tr><tr><td>Tennis Court 2</td><td>GUEST GUEST</td><td>15.0</td></tr><tr><td>Massage Room 1</td><td>GUEST GUEST</td><td>19.8</td></tr><tr><td>Massage Room 1</td><td>GUEST GUEST</td><td>19.8</td></tr><tr><td>Massage Room 1</td><td>GUEST GUEST</td><td>19.8</td></tr><tr><td>Tennis Court 2</td><td>GUEST GUEST</td><td>30.0</td></tr><tr><td>Massage Room 2</td><td>GUEST GUEST</td><td>39.6</td></tr><tr><td>Massage Room 1</td><td>Jemima Farrell</td><td>320.0</td></tr></tbody></table></div>"
      ]
     },
     "metadata": {
      "application/vnd.databricks.v1+output": {
       "addedWidgets": {},
       "aggData": [],
       "aggError": "",
       "aggOverflow": false,
       "aggSchema": [],
       "aggSeriesLimitReached": false,
       "aggType": "",
       "arguments": {},
       "columnCustomDisplayInfos": {},
       "data": [
        [
         "Squash Court",
         "GUEST GUEST",
         7.0
        ],
        [
         "Squash Court",
         "GUEST GUEST",
         7.0
        ],
        [
         "Squash Court",
         "GUEST GUEST",
         14.0
        ],
        [
         "Tennis Court 1",
         "GUEST GUEST",
         15.0
        ],
        [
         "Tennis Court 1",
         "GUEST GUEST",
         15.0
        ],
        [
         "Tennis Court 2",
         "GUEST GUEST",
         15.0
        ],
        [
         "Massage Room 1",
         "GUEST GUEST",
         19.8
        ],
        [
         "Massage Room 1",
         "GUEST GUEST",
         19.8
        ],
        [
         "Massage Room 1",
         "GUEST GUEST",
         19.8
        ],
        [
         "Tennis Court 2",
         "GUEST GUEST",
         30.0
        ],
        [
         "Massage Room 2",
         "GUEST GUEST",
         39.6
        ],
        [
         "Massage Room 1",
         "Jemima Farrell",
         320.0
        ]
       ],
       "datasetInfos": [],
       "dbfsResultPath": null,
       "isJsonSchema": true,
       "metadata": {},
       "overflow": false,
       "plotOptions": {
        "customPlotOptions": {},
        "displayType": "table",
        "pivotAggregation": null,
        "pivotColumns": null,
        "xColumns": null,
        "yColumns": null
       },
       "removedWidgets": [],
       "schema": [
        {
         "metadata": "{}",
         "name": "name",
         "type": "\"string\""
        },
        {
         "metadata": "{}",
         "name": "member_name",
         "type": "\"string\""
        },
        {
         "metadata": "{}",
         "name": "cost",
         "type": "\"double\""
        }
       ],
       "type": "table"
      }
     },
     "output_type": "display_data"
    }
   ],
   "source": [
    "%sql\n",
    "select facilities.name, concat(firstname, ' ', surname) member_name,\n",
    "  case \n",
    "    when members.memid = 0 then (membercost * slots)\n",
    "    else (guestcost * slots) \n",
    "  end as cost\n",
    "from \n",
    "  bookings \n",
    "    inner join facilities on bookings.facid = facilities.facid\n",
    "    inner join members on members.memid = bookings.memid\n",
    "where \n",
    "  cast(starttime as date) = '2012-09-14'\n",
    "  and ((guestcost * slots > 30 AND bookings.memid = 0) OR (membercost * slots > 30 AND bookings.memid > 0))\n",
    "order by \n",
    "  cost\n",
    "  \n"
   ]
  },
  {
   "cell_type": "code",
   "execution_count": 0,
   "metadata": {
    "application/vnd.databricks.v1+cell": {
     "cellMetadata": {
      "byteLimit": 2048000,
      "rowLimit": 10000
     },
     "inputWidgets": {},
     "nuid": "af655766-809d-403f-99f8-5faed47d34cf",
     "showTitle": false,
     "title": ""
    }
   },
   "outputs": [
    {
     "output_type": "display_data",
     "data": {
      "text/html": [
       "<div>\n",
       "<style scoped>\n",
       "    .dataframe tbody tr th:only-of-type {\n",
       "        vertical-align: middle;\n",
       "    }\n",
       "\n",
       "    .dataframe tbody tr th {\n",
       "        vertical-align: top;\n",
       "    }\n",
       "\n",
       "    .dataframe thead th {\n",
       "        text-align: right;\n",
       "    }\n",
       "</style>\n",
       "<table border=\"1\" class=\"dataframe\">\n",
       "  <thead>\n",
       "    <tr style=\"text-align: right;\">\n",
       "      <th></th>\n",
       "      <th>name</th>\n",
       "      <th>member_name</th>\n",
       "      <th>cost</th>\n",
       "    </tr>\n",
       "  </thead>\n",
       "  <tbody>\n",
       "    <tr>\n",
       "      <th>0</th>\n",
       "      <td>Squash Court</td>\n",
       "      <td>GUEST GUEST</td>\n",
       "      <td>7.0</td>\n",
       "    </tr>\n",
       "    <tr>\n",
       "      <th>1</th>\n",
       "      <td>Squash Court</td>\n",
       "      <td>GUEST GUEST</td>\n",
       "      <td>7.0</td>\n",
       "    </tr>\n",
       "    <tr>\n",
       "      <th>2</th>\n",
       "      <td>Squash Court</td>\n",
       "      <td>GUEST GUEST</td>\n",
       "      <td>14.0</td>\n",
       "    </tr>\n",
       "    <tr>\n",
       "      <th>3</th>\n",
       "      <td>Tennis Court 1</td>\n",
       "      <td>GUEST GUEST</td>\n",
       "      <td>15.0</td>\n",
       "    </tr>\n",
       "    <tr>\n",
       "      <th>4</th>\n",
       "      <td>Tennis Court 1</td>\n",
       "      <td>GUEST GUEST</td>\n",
       "      <td>15.0</td>\n",
       "    </tr>\n",
       "    <tr>\n",
       "      <th>5</th>\n",
       "      <td>Tennis Court 2</td>\n",
       "      <td>GUEST GUEST</td>\n",
       "      <td>15.0</td>\n",
       "    </tr>\n",
       "    <tr>\n",
       "      <th>6</th>\n",
       "      <td>Massage Room 1</td>\n",
       "      <td>GUEST GUEST</td>\n",
       "      <td>19.8</td>\n",
       "    </tr>\n",
       "    <tr>\n",
       "      <th>7</th>\n",
       "      <td>Massage Room 1</td>\n",
       "      <td>GUEST GUEST</td>\n",
       "      <td>19.8</td>\n",
       "    </tr>\n",
       "    <tr>\n",
       "      <th>8</th>\n",
       "      <td>Massage Room 1</td>\n",
       "      <td>GUEST GUEST</td>\n",
       "      <td>19.8</td>\n",
       "    </tr>\n",
       "    <tr>\n",
       "      <th>9</th>\n",
       "      <td>Tennis Court 2</td>\n",
       "      <td>GUEST GUEST</td>\n",
       "      <td>30.0</td>\n",
       "    </tr>\n",
       "    <tr>\n",
       "      <th>10</th>\n",
       "      <td>Massage Room 2</td>\n",
       "      <td>GUEST GUEST</td>\n",
       "      <td>39.6</td>\n",
       "    </tr>\n",
       "    <tr>\n",
       "      <th>11</th>\n",
       "      <td>Massage Room 1</td>\n",
       "      <td>Jemima Farrell</td>\n",
       "      <td>320.0</td>\n",
       "    </tr>\n",
       "  </tbody>\n",
       "</table>\n",
       "</div>"
      ]
     },
     "metadata": {
      "application/vnd.databricks.v1+output": {
       "addedWidgets": {},
       "arguments": {},
       "data": "<div>\n<style scoped>\n    .dataframe tbody tr th:only-of-type {\n        vertical-align: middle;\n    }\n\n    .dataframe tbody tr th {\n        vertical-align: top;\n    }\n\n    .dataframe thead th {\n        text-align: right;\n    }\n</style>\n<table border=\"1\" class=\"dataframe\">\n  <thead>\n    <tr style=\"text-align: right;\">\n      <th></th>\n      <th>name</th>\n      <th>member_name</th>\n      <th>cost</th>\n    </tr>\n  </thead>\n  <tbody>\n    <tr>\n      <th>0</th>\n      <td>Squash Court</td>\n      <td>GUEST GUEST</td>\n      <td>7.0</td>\n    </tr>\n    <tr>\n      <th>1</th>\n      <td>Squash Court</td>\n      <td>GUEST GUEST</td>\n      <td>7.0</td>\n    </tr>\n    <tr>\n      <th>2</th>\n      <td>Squash Court</td>\n      <td>GUEST GUEST</td>\n      <td>14.0</td>\n    </tr>\n    <tr>\n      <th>3</th>\n      <td>Tennis Court 1</td>\n      <td>GUEST GUEST</td>\n      <td>15.0</td>\n    </tr>\n    <tr>\n      <th>4</th>\n      <td>Tennis Court 1</td>\n      <td>GUEST GUEST</td>\n      <td>15.0</td>\n    </tr>\n    <tr>\n      <th>5</th>\n      <td>Tennis Court 2</td>\n      <td>GUEST GUEST</td>\n      <td>15.0</td>\n    </tr>\n    <tr>\n      <th>6</th>\n      <td>Massage Room 1</td>\n      <td>GUEST GUEST</td>\n      <td>19.8</td>\n    </tr>\n    <tr>\n      <th>7</th>\n      <td>Massage Room 1</td>\n      <td>GUEST GUEST</td>\n      <td>19.8</td>\n    </tr>\n    <tr>\n      <th>8</th>\n      <td>Massage Room 1</td>\n      <td>GUEST GUEST</td>\n      <td>19.8</td>\n    </tr>\n    <tr>\n      <th>9</th>\n      <td>Tennis Court 2</td>\n      <td>GUEST GUEST</td>\n      <td>30.0</td>\n    </tr>\n    <tr>\n      <th>10</th>\n      <td>Massage Room 2</td>\n      <td>GUEST GUEST</td>\n      <td>39.6</td>\n    </tr>\n    <tr>\n      <th>11</th>\n      <td>Massage Room 1</td>\n      <td>Jemima Farrell</td>\n      <td>320.0</td>\n    </tr>\n  </tbody>\n</table>\n</div>",
       "datasetInfos": [],
       "metadata": {},
       "removedWidgets": [],
       "textData": null,
       "type": "htmlSandbox"
      }
     },
     "output_type": "display_data"
    }
   ],
   "source": [
    "#from pyspark.sql.functions import to_date\n",
    "# bookings_df \\\n",
    "#     .join(facilities_df, facilities_df.facid == bookings_df.facid) \\\n",
    "#     .join(members_df, members_df.memid == bookings_df.memid) \\\n",
    "#     .filter(to_date(bookings_df.starttime) == '2012-09-14') \\\n",
    "#     .filter( \\\n",
    "#                 ( \\\n",
    "#                     ( \\\n",
    "#                         (bookings_df.guestcost * bookings_df.slots) > 30 \\\n",
    "#                     ) & (bookings_df.memid == 0) \\\n",
    "#                 ) \\\n",
    "#                 | \\\n",
    "#                 (\\\n",
    "#                     (\\\n",
    "#                         (\\\n",
    "#                             (bookings_df.membercost * bookings_df.slots) > 30 & (bookings_df.memid > 0 )\\\n",
    "#                         )\\\n",
    "#                     )\\\n",
    "#                 ) \\\n",
    "#            )\n",
    "    \n",
    "    # ???????? 'DataFrame' object has no attribute 'guestcost'\n",
    "    # Yes it does\n",
    "\n",
    "# I wouldn't write a complex query in that anyway.\n",
    "sql = '''\n",
    "select facilities.name, concat(firstname, ' ', surname) member_name,\n",
    "  case \n",
    "    when members.memid = 0 then (membercost * slots)\n",
    "    else (guestcost * slots) \n",
    "  end as cost\n",
    "from \n",
    "  bookings \n",
    "    inner join facilities on bookings.facid = facilities.facid\n",
    "    inner join members on members.memid = bookings.memid\n",
    "where \n",
    "  cast(starttime as date) = '2012-09-14'\n",
    "  and ((guestcost * slots > 30 AND bookings.memid = 0) OR (membercost * slots > 30 AND bookings.memid > 0))\n",
    "order by \n",
    "  cost\n",
    "'''\n",
    "\n",
    "df = spark.sql(sql)\n",
    "df.toPandas()\n",
    "\n",
    "\n",
    "\n",
    "\n"
   ]
  },
  {
   "cell_type": "code",
   "execution_count": 0,
   "metadata": {
    "application/vnd.databricks.v1+cell": {
     "cellMetadata": {},
     "inputWidgets": {},
     "nuid": "168cf0b3-76ff-411c-b5c1-06bc87447590",
     "showTitle": false,
     "title": ""
    }
   },
   "outputs": [],
   "source": []
  },
  {
   "cell_type": "markdown",
   "metadata": {
    "application/vnd.databricks.v1+cell": {
     "cellMetadata": {},
     "inputWidgets": {},
     "nuid": "d1ec0dd1-e132-462d-8121-f00b4191e1d2",
     "showTitle": false,
     "title": ""
    }
   },
   "source": [
    "#### Q9: This time, produce the same result as in Q8, but using a subquery."
   ]
  },
  {
   "cell_type": "code",
   "execution_count": 0,
   "metadata": {
    "application/vnd.databricks.v1+cell": {
     "cellMetadata": {
      "byteLimit": 2048000,
      "implicitDf": true,
      "rowLimit": 10000
     },
     "inputWidgets": {},
     "nuid": "0eddf39e-a94f-4576-8e35-245ac260a0e2",
     "showTitle": false,
     "title": ""
    }
   },
   "outputs": [
    {
     "output_type": "display_data",
     "data": {
      "text/html": [
       "<style scoped>\n",
       "  .table-result-container {\n",
       "    max-height: 300px;\n",
       "    overflow: auto;\n",
       "  }\n",
       "  table, th, td {\n",
       "    border: 1px solid black;\n",
       "    border-collapse: collapse;\n",
       "  }\n",
       "  th, td {\n",
       "    padding: 5px;\n",
       "  }\n",
       "  th {\n",
       "    text-align: left;\n",
       "  }\n",
       "</style><div class='table-result-container'><table class='table-result'><thead style='background-color: white'><tr><th>name</th><th>name</th><th>cost</th></tr></thead><tbody><tr><td>GUEST GUEST</td><td>Squash Court</td><td>35.0</td></tr><tr><td>GUEST GUEST</td><td>Squash Court</td><td>35.0</td></tr><tr><td>Jemima Farrell</td><td>Massage Room 1</td><td>39.6</td></tr><tr><td>GUEST GUEST</td><td>Squash Court</td><td>70.0</td></tr><tr><td>GUEST GUEST</td><td>Tennis Court 1</td><td>75.0</td></tr><tr><td>GUEST GUEST</td><td>Tennis Court 1</td><td>75.0</td></tr><tr><td>GUEST GUEST</td><td>Tennis Court 2</td><td>75.0</td></tr><tr><td>GUEST GUEST</td><td>Tennis Court 2</td><td>150.0</td></tr><tr><td>GUEST GUEST</td><td>Massage Room 1</td><td>160.0</td></tr><tr><td>GUEST GUEST</td><td>Massage Room 1</td><td>160.0</td></tr><tr><td>GUEST GUEST</td><td>Massage Room 1</td><td>160.0</td></tr><tr><td>GUEST GUEST</td><td>Massage Room 2</td><td>320.0</td></tr></tbody></table></div>"
      ]
     },
     "metadata": {
      "application/vnd.databricks.v1+output": {
       "addedWidgets": {},
       "aggData": [],
       "aggError": "",
       "aggOverflow": false,
       "aggSchema": [],
       "aggSeriesLimitReached": false,
       "aggType": "",
       "arguments": {},
       "columnCustomDisplayInfos": {},
       "data": [
        [
         "GUEST GUEST",
         "Squash Court",
         35.0
        ],
        [
         "GUEST GUEST",
         "Squash Court",
         35.0
        ],
        [
         "Jemima Farrell",
         "Massage Room 1",
         39.6
        ],
        [
         "GUEST GUEST",
         "Squash Court",
         70.0
        ],
        [
         "GUEST GUEST",
         "Tennis Court 1",
         75.0
        ],
        [
         "GUEST GUEST",
         "Tennis Court 1",
         75.0
        ],
        [
         "GUEST GUEST",
         "Tennis Court 2",
         75.0
        ],
        [
         "GUEST GUEST",
         "Tennis Court 2",
         150.0
        ],
        [
         "GUEST GUEST",
         "Massage Room 1",
         160.0
        ],
        [
         "GUEST GUEST",
         "Massage Room 1",
         160.0
        ],
        [
         "GUEST GUEST",
         "Massage Room 1",
         160.0
        ],
        [
         "GUEST GUEST",
         "Massage Room 2",
         320.0
        ]
       ],
       "datasetInfos": [],
       "dbfsResultPath": null,
       "isJsonSchema": true,
       "metadata": {},
       "overflow": false,
       "plotOptions": {
        "customPlotOptions": {},
        "displayType": "table",
        "pivotAggregation": null,
        "pivotColumns": null,
        "xColumns": null,
        "yColumns": null
       },
       "removedWidgets": [],
       "schema": [
        {
         "metadata": "{}",
         "name": "name",
         "type": "\"string\""
        },
        {
         "metadata": "{}",
         "name": "name",
         "type": "\"string\""
        },
        {
         "metadata": "{}",
         "name": "cost",
         "type": "\"double\""
        }
       ],
       "type": "table"
      }
     },
     "output_type": "display_data"
    }
   ],
   "source": [
    "%sql\n",
    "select \n",
    "  (select max(concat(firstname, ' ', surname)) from members where members.memid = bookings.memid) as name,\n",
    "  facilities.name,\n",
    "  case \n",
    "    when bookings.memid = 0 then (guestcost * slots)\n",
    "    else (membercost * slots) \n",
    "  end as cost\n",
    "from \n",
    "  bookings \n",
    "    inner join facilities on bookings.facid = facilities.facid    \n",
    "where \n",
    "  cast(starttime as date) = '2012-09-14'\n",
    "  and ((guestcost * slots > 30 AND bookings.memid = 0) OR (membercost * slots > 30 AND bookings.memid > 0))\n",
    "order by \n",
    "  cost\n"
   ]
  },
  {
   "cell_type": "code",
   "execution_count": 0,
   "metadata": {
    "application/vnd.databricks.v1+cell": {
     "cellMetadata": {
      "byteLimit": 2048000,
      "rowLimit": 10000
     },
     "inputWidgets": {},
     "nuid": "c297546a-8552-4e09-a359-69106c838b3e",
     "showTitle": false,
     "title": ""
    }
   },
   "outputs": [
    {
     "output_type": "display_data",
     "data": {
      "text/html": [
       "<div>\n",
       "<style scoped>\n",
       "    .dataframe tbody tr th:only-of-type {\n",
       "        vertical-align: middle;\n",
       "    }\n",
       "\n",
       "    .dataframe tbody tr th {\n",
       "        vertical-align: top;\n",
       "    }\n",
       "\n",
       "    .dataframe thead th {\n",
       "        text-align: right;\n",
       "    }\n",
       "</style>\n",
       "<table border=\"1\" class=\"dataframe\">\n",
       "  <thead>\n",
       "    <tr style=\"text-align: right;\">\n",
       "      <th></th>\n",
       "      <th>name</th>\n",
       "      <th>name</th>\n",
       "      <th>cost</th>\n",
       "    </tr>\n",
       "  </thead>\n",
       "  <tbody>\n",
       "    <tr>\n",
       "      <th>0</th>\n",
       "      <td>GUEST GUEST</td>\n",
       "      <td>Squash Court</td>\n",
       "      <td>35.0</td>\n",
       "    </tr>\n",
       "    <tr>\n",
       "      <th>1</th>\n",
       "      <td>GUEST GUEST</td>\n",
       "      <td>Squash Court</td>\n",
       "      <td>35.0</td>\n",
       "    </tr>\n",
       "    <tr>\n",
       "      <th>2</th>\n",
       "      <td>Jemima Farrell</td>\n",
       "      <td>Massage Room 1</td>\n",
       "      <td>39.6</td>\n",
       "    </tr>\n",
       "    <tr>\n",
       "      <th>3</th>\n",
       "      <td>GUEST GUEST</td>\n",
       "      <td>Squash Court</td>\n",
       "      <td>70.0</td>\n",
       "    </tr>\n",
       "    <tr>\n",
       "      <th>4</th>\n",
       "      <td>GUEST GUEST</td>\n",
       "      <td>Tennis Court 1</td>\n",
       "      <td>75.0</td>\n",
       "    </tr>\n",
       "    <tr>\n",
       "      <th>5</th>\n",
       "      <td>GUEST GUEST</td>\n",
       "      <td>Tennis Court 1</td>\n",
       "      <td>75.0</td>\n",
       "    </tr>\n",
       "    <tr>\n",
       "      <th>6</th>\n",
       "      <td>GUEST GUEST</td>\n",
       "      <td>Tennis Court 2</td>\n",
       "      <td>75.0</td>\n",
       "    </tr>\n",
       "    <tr>\n",
       "      <th>7</th>\n",
       "      <td>GUEST GUEST</td>\n",
       "      <td>Tennis Court 2</td>\n",
       "      <td>150.0</td>\n",
       "    </tr>\n",
       "    <tr>\n",
       "      <th>8</th>\n",
       "      <td>GUEST GUEST</td>\n",
       "      <td>Massage Room 1</td>\n",
       "      <td>160.0</td>\n",
       "    </tr>\n",
       "    <tr>\n",
       "      <th>9</th>\n",
       "      <td>GUEST GUEST</td>\n",
       "      <td>Massage Room 1</td>\n",
       "      <td>160.0</td>\n",
       "    </tr>\n",
       "    <tr>\n",
       "      <th>10</th>\n",
       "      <td>GUEST GUEST</td>\n",
       "      <td>Massage Room 1</td>\n",
       "      <td>160.0</td>\n",
       "    </tr>\n",
       "    <tr>\n",
       "      <th>11</th>\n",
       "      <td>GUEST GUEST</td>\n",
       "      <td>Massage Room 2</td>\n",
       "      <td>320.0</td>\n",
       "    </tr>\n",
       "  </tbody>\n",
       "</table>\n",
       "</div>"
      ]
     },
     "metadata": {
      "application/vnd.databricks.v1+output": {
       "addedWidgets": {},
       "arguments": {},
       "data": "<div>\n<style scoped>\n    .dataframe tbody tr th:only-of-type {\n        vertical-align: middle;\n    }\n\n    .dataframe tbody tr th {\n        vertical-align: top;\n    }\n\n    .dataframe thead th {\n        text-align: right;\n    }\n</style>\n<table border=\"1\" class=\"dataframe\">\n  <thead>\n    <tr style=\"text-align: right;\">\n      <th></th>\n      <th>name</th>\n      <th>name</th>\n      <th>cost</th>\n    </tr>\n  </thead>\n  <tbody>\n    <tr>\n      <th>0</th>\n      <td>GUEST GUEST</td>\n      <td>Squash Court</td>\n      <td>35.0</td>\n    </tr>\n    <tr>\n      <th>1</th>\n      <td>GUEST GUEST</td>\n      <td>Squash Court</td>\n      <td>35.0</td>\n    </tr>\n    <tr>\n      <th>2</th>\n      <td>Jemima Farrell</td>\n      <td>Massage Room 1</td>\n      <td>39.6</td>\n    </tr>\n    <tr>\n      <th>3</th>\n      <td>GUEST GUEST</td>\n      <td>Squash Court</td>\n      <td>70.0</td>\n    </tr>\n    <tr>\n      <th>4</th>\n      <td>GUEST GUEST</td>\n      <td>Tennis Court 1</td>\n      <td>75.0</td>\n    </tr>\n    <tr>\n      <th>5</th>\n      <td>GUEST GUEST</td>\n      <td>Tennis Court 1</td>\n      <td>75.0</td>\n    </tr>\n    <tr>\n      <th>6</th>\n      <td>GUEST GUEST</td>\n      <td>Tennis Court 2</td>\n      <td>75.0</td>\n    </tr>\n    <tr>\n      <th>7</th>\n      <td>GUEST GUEST</td>\n      <td>Tennis Court 2</td>\n      <td>150.0</td>\n    </tr>\n    <tr>\n      <th>8</th>\n      <td>GUEST GUEST</td>\n      <td>Massage Room 1</td>\n      <td>160.0</td>\n    </tr>\n    <tr>\n      <th>9</th>\n      <td>GUEST GUEST</td>\n      <td>Massage Room 1</td>\n      <td>160.0</td>\n    </tr>\n    <tr>\n      <th>10</th>\n      <td>GUEST GUEST</td>\n      <td>Massage Room 1</td>\n      <td>160.0</td>\n    </tr>\n    <tr>\n      <th>11</th>\n      <td>GUEST GUEST</td>\n      <td>Massage Room 2</td>\n      <td>320.0</td>\n    </tr>\n  </tbody>\n</table>\n</div>",
       "datasetInfos": [],
       "metadata": {},
       "removedWidgets": [],
       "textData": null,
       "type": "htmlSandbox"
      }
     },
     "output_type": "display_data"
    }
   ],
   "source": [
    "sql = '''\n",
    "\n",
    "select \n",
    "  (select max(concat(firstname, ' ', surname)) from members where members.memid = bookings.memid) as name,\n",
    "  facilities.name,\n",
    "  case \n",
    "    when bookings.memid = 0 then (guestcost * slots)\n",
    "    else (membercost * slots) \n",
    "  end as cost\n",
    "from \n",
    "  bookings \n",
    "    inner join facilities on bookings.facid = facilities.facid    \n",
    "where \n",
    "  cast(starttime as date) = '2012-09-14'\n",
    "  and ((guestcost * slots > 30 AND bookings.memid = 0) OR (membercost * slots > 30 AND bookings.memid > 0))\n",
    "order by \n",
    "  cost\n",
    "'''\n",
    "\n",
    "df = spark.sql(sql)\n",
    "df.toPandas()"
   ]
  },
  {
   "cell_type": "markdown",
   "metadata": {
    "application/vnd.databricks.v1+cell": {
     "cellMetadata": {},
     "inputWidgets": {},
     "nuid": "2fe9cdc8-14ff-4a74-9adb-dae2ca813e1a",
     "showTitle": false,
     "title": ""
    }
   },
   "source": [
    "#### Q10: Produce a list of facilities with a total revenue less than 1000.\n",
    "- The output should have facility name and total revenue, sorted by revenue. \n",
    "- Remember that there's a different cost for guests and members!"
   ]
  },
  {
   "cell_type": "code",
   "execution_count": 0,
   "metadata": {
    "application/vnd.databricks.v1+cell": {
     "cellMetadata": {
      "byteLimit": 2048000,
      "implicitDf": true,
      "rowLimit": 10000
     },
     "inputWidgets": {},
     "nuid": "3672ef62-c79c-4c4b-8e35-a1397dd5c2cf",
     "showTitle": false,
     "title": ""
    }
   },
   "outputs": [
    {
     "output_type": "display_data",
     "data": {
      "text/html": [
       "<style scoped>\n",
       "  .table-result-container {\n",
       "    max-height: 300px;\n",
       "    overflow: auto;\n",
       "  }\n",
       "  table, th, td {\n",
       "    border: 1px solid black;\n",
       "    border-collapse: collapse;\n",
       "  }\n",
       "  th, td {\n",
       "    padding: 5px;\n",
       "  }\n",
       "  th {\n",
       "    text-align: left;\n",
       "  }\n",
       "</style><div class='table-result-container'><table class='table-result'><thead style='background-color: white'><tr><th>name</th><th>total_revenue</th></tr></thead><tbody><tr><td>Table Tennis</td><td>180.0</td></tr><tr><td>Snooker Table</td><td>240.0</td></tr><tr><td>Pool Table</td><td>270.0</td></tr></tbody></table></div>"
      ]
     },
     "metadata": {
      "application/vnd.databricks.v1+output": {
       "addedWidgets": {},
       "aggData": [],
       "aggError": "",
       "aggOverflow": false,
       "aggSchema": [],
       "aggSeriesLimitReached": false,
       "aggType": "",
       "arguments": {},
       "columnCustomDisplayInfos": {},
       "data": [
        [
         "Table Tennis",
         180.0
        ],
        [
         "Snooker Table",
         240.0
        ],
        [
         "Pool Table",
         270.0
        ]
       ],
       "datasetInfos": [],
       "dbfsResultPath": null,
       "isJsonSchema": true,
       "metadata": {},
       "overflow": false,
       "plotOptions": {
        "customPlotOptions": {},
        "displayType": "table",
        "pivotAggregation": null,
        "pivotColumns": null,
        "xColumns": null,
        "yColumns": null
       },
       "removedWidgets": [],
       "schema": [
        {
         "metadata": "{}",
         "name": "name",
         "type": "\"string\""
        },
        {
         "metadata": "{}",
         "name": "total_revenue",
         "type": "\"double\""
        }
       ],
       "type": "table"
      }
     },
     "output_type": "display_data"
    }
   ],
   "source": [
    "%sql\n",
    "\n",
    "select facilities.name, sum(  case \n",
    "    when bookings.memid = 0 then (guestcost * slots)\n",
    "    else (membercost * slots) \n",
    "  end ) as total_revenue\n",
    "from \n",
    "  bookings \n",
    "    inner join facilities on bookings.facid = facilities.facid\n",
    "  group by\n",
    "    facilities.name\n",
    "  having \n",
    "    total_revenue < 1000\n",
    "  order by \n",
    "    total_revenue"
   ]
  },
  {
   "cell_type": "code",
   "execution_count": 0,
   "metadata": {
    "application/vnd.databricks.v1+cell": {
     "cellMetadata": {
      "byteLimit": 2048000,
      "rowLimit": 10000
     },
     "inputWidgets": {},
     "nuid": "88d5e5b0-ecc6-4ff8-a491-9f834bb4c6e6",
     "showTitle": false,
     "title": ""
    }
   },
   "outputs": [
    {
     "output_type": "display_data",
     "data": {
      "text/html": [
       "<div>\n",
       "<style scoped>\n",
       "    .dataframe tbody tr th:only-of-type {\n",
       "        vertical-align: middle;\n",
       "    }\n",
       "\n",
       "    .dataframe tbody tr th {\n",
       "        vertical-align: top;\n",
       "    }\n",
       "\n",
       "    .dataframe thead th {\n",
       "        text-align: right;\n",
       "    }\n",
       "</style>\n",
       "<table border=\"1\" class=\"dataframe\">\n",
       "  <thead>\n",
       "    <tr style=\"text-align: right;\">\n",
       "      <th></th>\n",
       "      <th>name</th>\n",
       "      <th>total_revenue</th>\n",
       "    </tr>\n",
       "  </thead>\n",
       "  <tbody>\n",
       "    <tr>\n",
       "      <th>0</th>\n",
       "      <td>Table Tennis</td>\n",
       "      <td>180.0</td>\n",
       "    </tr>\n",
       "    <tr>\n",
       "      <th>1</th>\n",
       "      <td>Snooker Table</td>\n",
       "      <td>240.0</td>\n",
       "    </tr>\n",
       "    <tr>\n",
       "      <th>2</th>\n",
       "      <td>Pool Table</td>\n",
       "      <td>270.0</td>\n",
       "    </tr>\n",
       "  </tbody>\n",
       "</table>\n",
       "</div>"
      ]
     },
     "metadata": {
      "application/vnd.databricks.v1+output": {
       "addedWidgets": {},
       "arguments": {},
       "data": "<div>\n<style scoped>\n    .dataframe tbody tr th:only-of-type {\n        vertical-align: middle;\n    }\n\n    .dataframe tbody tr th {\n        vertical-align: top;\n    }\n\n    .dataframe thead th {\n        text-align: right;\n    }\n</style>\n<table border=\"1\" class=\"dataframe\">\n  <thead>\n    <tr style=\"text-align: right;\">\n      <th></th>\n      <th>name</th>\n      <th>total_revenue</th>\n    </tr>\n  </thead>\n  <tbody>\n    <tr>\n      <th>0</th>\n      <td>Table Tennis</td>\n      <td>180.0</td>\n    </tr>\n    <tr>\n      <th>1</th>\n      <td>Snooker Table</td>\n      <td>240.0</td>\n    </tr>\n    <tr>\n      <th>2</th>\n      <td>Pool Table</td>\n      <td>270.0</td>\n    </tr>\n  </tbody>\n</table>\n</div>",
       "datasetInfos": [],
       "metadata": {},
       "removedWidgets": [],
       "textData": null,
       "type": "htmlSandbox"
      }
     },
     "output_type": "display_data"
    }
   ],
   "source": [
    "sql = '''\n",
    "select facilities.name, sum(  case \n",
    "    when bookings.memid = 0 then (guestcost * slots)\n",
    "    else (membercost * slots) \n",
    "  end ) as total_revenue\n",
    "from \n",
    "  bookings \n",
    "    inner join facilities on bookings.facid = facilities.facid\n",
    "  group by\n",
    "    facilities.name\n",
    "  having \n",
    "    total_revenue < 1000\n",
    "  order by \n",
    "    total_revenue\n",
    "'''\n",
    "\n",
    "df = spark.sql(sql)\n",
    "df.toPandas()"
   ]
  }
 ],
 "metadata": {
  "application/vnd.databricks.v1+notebook": {
   "dashboards": [],
   "language": "python",
   "notebookMetadata": {
    "mostRecentlyExecutedCommandWithImplicitDF": {
     "commandId": 3798945062681063,
     "dataframes": [
      "_sqldf"
     ]
    },
    "pythonIndentUnit": 4
   },
   "notebookName": "Mini_Project_SQL_with_Spark",
   "widgets": {}
  },
  "name": "Mini_Project_SQL_with_Spark",
  "notebookId": 1931807081501742
 },
 "nbformat": 4,
 "nbformat_minor": 0
}
