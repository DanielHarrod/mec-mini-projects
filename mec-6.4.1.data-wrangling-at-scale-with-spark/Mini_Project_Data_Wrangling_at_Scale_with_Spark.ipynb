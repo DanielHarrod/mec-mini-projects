{
 "cells": [
  {
   "cell_type": "markdown",
   "metadata": {
    "application/vnd.databricks.v1+cell": {
     "cellMetadata": {},
     "inputWidgets": {},
     "nuid": "77961a9f-404f-4137-9761-8072bff64c26",
     "showTitle": false,
     "title": ""
    },
    "colab_type": "text",
    "id": "q0ap-hmpXu-s"
   },
   "source": [
    "# Analyzing Web Server Logs with Apache Spark\n",
    "\n",
    "Apache Spark is an excellent and ideal framework for wrangling, analyzing and modeling on structured and unstructured data - at scale! In this mini-project, we will be focusing on one of the most popular use-cases in the industry - log analytics.\n",
    "\n",
    "Typically, server logs are a very common data source in enterprises and often contain a gold mine of actionable insights and information. Log data comes from many sources in an enterprise, such as the web, client and compute servers, applications, user-generated content, flat files. They can be used for monitoring servers, improving business and customer intelligence, building recommendation systems, fraud detection, and much more.\n",
    "\n",
    "Spark allows you to dump and store your logs in files on disk cheaply, while still providing rich APIs to perform data analysis at scale. This mini-project will show you how to use Apache Spark on real-world production logs from NASA.\n",
    "You will complete the extract, transform, and load (ETL) process in this Apache Spark enviroment. During this process, you will learn why the ETL process is so crucial to the quality of the machine learning work we will be doing later on.\n",
    "\n",
    "\n",
    "There is a total of 15 questions for you to solve along with some interactive examples which will help you learn aspects of leveraging spark for analyzing over 3 million logs at scale.\n",
    "\n",
    "Remember to focus on the __`# TODO: Replace <FILL IN> with appropriate code`__ sections to fill them up with necessary code to solve the desired questions in the notebook"
   ]
  },
  {
   "cell_type": "markdown",
   "metadata": {
    "application/vnd.databricks.v1+cell": {
     "cellMetadata": {},
     "inputWidgets": {},
     "nuid": "edf9aaa6-a69c-438b-8be9-5e3dc59c8fd6",
     "showTitle": false,
     "title": ""
    },
    "colab_type": "text",
    "id": "6IkR5OAXYBVV"
   },
   "source": [
    "# Data extraction:"
   ]
  },
  {
   "cell_type": "markdown",
   "metadata": {
    "application/vnd.databricks.v1+cell": {
     "cellMetadata": {},
     "inputWidgets": {},
     "nuid": "f474a1cc-f6e1-4d88-b5f0-159237fe23d3",
     "showTitle": false,
     "title": ""
    },
    "colab_type": "text",
    "id": "W4XXOPlzXu-7"
   },
   "source": [
    "# Step 1 - Loading up Dependencies"
   ]
  },
  {
   "cell_type": "code",
   "execution_count": 0,
   "metadata": {
    "application/vnd.databricks.v1+cell": {
     "cellMetadata": {
      "byteLimit": 2048000,
      "rowLimit": 10000
     },
     "inputWidgets": {},
     "nuid": "358686a0-5ee1-4a74-9ff2-68b3fcef47fa",
     "showTitle": false,
     "title": ""
    },
    "colab": {},
    "colab_type": "code",
    "id": "zYGRL15uXu--",
    "outputId": "34c065c7-f451-4543-dde3-5ddbbcada8c6"
   },
   "outputs": [
    {
     "output_type": "display_data",
     "data": {
      "text/html": [
       "\n",
       "            <div>\n",
       "                <p><b>SparkSession - hive</b></p>\n",
       "                \n",
       "        <div>\n",
       "            <p><b>SparkContext</b></p>\n",
       "\n",
       "            <p><a href=\"/?o=5842968050312515#setting/sparkui/0828-200611-apf71hqv/driver-8470226365317016669\">Spark UI</a></p>\n",
       "\n",
       "            <dl>\n",
       "              <dt>Version</dt>\n",
       "                <dd><code>v3.3.2</code></dd>\n",
       "              <dt>Master</dt>\n",
       "                <dd><code>local[8]</code></dd>\n",
       "              <dt>AppName</dt>\n",
       "                <dd><code>Databricks Shell</code></dd>\n",
       "            </dl>\n",
       "        </div>\n",
       "        \n",
       "            </div>\n",
       "        "
      ]
     },
     "metadata": {
      "application/vnd.databricks.v1+output": {
       "addedWidgets": {},
       "arguments": {},
       "data": "\n            <div>\n                <p><b>SparkSession - hive</b></p>\n                \n        <div>\n            <p><b>SparkContext</b></p>\n\n            <p><a href=\"/?o=5842968050312515#setting/sparkui/0828-200611-apf71hqv/driver-8470226365317016669\">Spark UI</a></p>\n\n            <dl>\n              <dt>Version</dt>\n                <dd><code>v3.3.2</code></dd>\n              <dt>Master</dt>\n                <dd><code>local[8]</code></dd>\n              <dt>AppName</dt>\n                <dd><code>Databricks Shell</code></dd>\n            </dl>\n        </div>\n        \n            </div>\n        ",
       "datasetInfos": [],
       "metadata": {},
       "removedWidgets": [],
       "textData": null,
       "type": "htmlSandbox"
      }
     },
     "output_type": "display_data"
    }
   ],
   "source": [
    "spark"
   ]
  },
  {
   "cell_type": "code",
   "execution_count": 0,
   "metadata": {
    "application/vnd.databricks.v1+cell": {
     "cellMetadata": {
      "byteLimit": 2048000,
      "rowLimit": 10000
     },
     "inputWidgets": {},
     "nuid": "5c510a3c-c2e5-4f7b-a27b-a2996dfd1880",
     "showTitle": false,
     "title": ""
    },
    "colab": {},
    "colab_type": "code",
    "id": "TQ9VOjOGXu_N",
    "outputId": "8c2ee3dc-5d83-475e-c77a-3b83e98cff42"
   },
   "outputs": [
    {
     "output_type": "stream",
     "name": "stdout",
     "output_type": "stream",
     "text": [
      "Out[2]: <pyspark.sql.context.SQLContext at 0x7fb3a6c48820>"
     ]
    }
   ],
   "source": [
    "sqlContext"
   ]
  },
  {
   "cell_type": "code",
   "execution_count": 0,
   "metadata": {
    "application/vnd.databricks.v1+cell": {
     "cellMetadata": {
      "byteLimit": 2048000,
      "rowLimit": 10000
     },
     "inputWidgets": {},
     "nuid": "60f5ded4-e095-42ea-a0c0-28fdefc1dd56",
     "showTitle": false,
     "title": ""
    },
    "colab": {},
    "colab_type": "code",
    "id": "IM6ajIMVXu_V",
    "outputId": "d49062e6-607c-42bf-e2de-5019dee77ce0"
   },
   "outputs": [],
   "source": [
    "if 'sc' not in locals():\n",
    "    from pyspark.context import SparkContext\n",
    "    from pyspark.sql.context import SQLContext\n",
    "    from pyspark.sql.session import SparkSession\n",
    "    \n",
    "    sc = SparkContext()\n",
    "    sqlContext = SQLContext(sc)\n",
    "    spark = SparkSession(sc)"
   ]
  },
  {
   "cell_type": "code",
   "execution_count": 0,
   "metadata": {
    "application/vnd.databricks.v1+cell": {
     "cellMetadata": {
      "byteLimit": 2048000,
      "rowLimit": 10000
     },
     "inputWidgets": {},
     "nuid": "7aac1d0c-e84a-4512-be18-419ec9ee90a7",
     "showTitle": false,
     "title": ""
    },
    "colab": {},
    "colab_type": "code",
    "id": "r3E2N5WCXu_b",
    "outputId": "cb9f5a8a-06b5-407a-c634-a703b3e5b92b"
   },
   "outputs": [
    {
     "output_type": "display_data",
     "data": {
      "application/vnd.databricks.v1+bamboolib_hint": "{\"pd.DataFrames\": [], \"version\": \"0.0.1\"}",
      "text/plain": []
     },
     "metadata": {},
     "output_type": "display_data"
    }
   ],
   "source": [
    "import re\n",
    "import pandas as pd"
   ]
  },
  {
   "cell_type": "code",
   "execution_count": 0,
   "metadata": {
    "application/vnd.databricks.v1+cell": {
     "cellMetadata": {
      "byteLimit": 2048000,
      "rowLimit": 10000
     },
     "inputWidgets": {},
     "nuid": "149eacec-72f1-447a-b53f-aae75d1d4c3d",
     "showTitle": false,
     "title": ""
    },
    "colab": {},
    "colab_type": "code",
    "id": "UupCPIruXu_i",
    "outputId": "ae83b30e-9b7e-458f-fd16-94d9d738e589"
   },
   "outputs": [
    {
     "output_type": "stream",
     "name": "stdout",
     "output_type": "stream",
     "text": [
      "<re.Match object; span=(0, 25), match=\"I'm searching for a spark\">\n<re.Match object; span=(25, 36), match=' in PySpark'>\n"
     ]
    }
   ],
   "source": [
    "m = re.finditer(r'.*?(spark).*?', \"I'm searching for a spark in PySpark\", re.I)\n",
    "for match in m:\n",
    "    print(match)"
   ]
  },
  {
   "cell_type": "markdown",
   "metadata": {
    "application/vnd.databricks.v1+cell": {
     "cellMetadata": {},
     "inputWidgets": {},
     "nuid": "1ca9e5e2-be9b-46d4-8e33-7da42440e4cc",
     "showTitle": false,
     "title": ""
    },
    "colab_type": "text",
    "id": "Pln9za4iXu_n"
   },
   "source": [
    "For this mini-project, we will analyze datasets from NASA Kennedy Space Center web server in Florida. The full data set is freely available for download [__here__](http://ita.ee.lbl.gov/html/contrib/NASA-HTTP.html).\n",
    "\n",
    "These two traces contain two month's worth of all HTTP requests to the NASA Kennedy Space Center WWW server in Florida. You can head over to the [__website__](http://ita.ee.lbl.gov/html/contrib/NASA-HTTP.html) and download the following files if needed OR just upload the files we have already provided for you into Domino's Cloud Platform (unless you plan to use Spark locally).\n",
    "\n",
    "- Jul 01 to Jul 31, ASCII format, 20.7 MB gzip compressed, 205.2 MB uncompressed: [ftp://ita.ee.lbl.gov/traces/NASA_access_log_Jul95.gz](ftp://ita.ee.lbl.gov/traces/NASA_access_log_Jul95.gz)\n",
    "- Aug 04 to Aug 31, ASCII format, 21.8 MB gzip compressed, 167.8 MB uncompressed: [ftp://ita.ee.lbl.gov/traces/NASA_access_log_Aug95.gz](ftp://ita.ee.lbl.gov/traces/NASA_access_log_Aug95.gz)\n",
    "\n",
    "Make sure both the data files have been uploaded to Databricks under **\"Data\" > \"DBFS\" > \"Tables\"** as a **.txt** file\n",
    "\n",
    "\n",
    "![DBFS](https://drive.google.com/uc?id=1eE9_CgnUW7psBs_Nlk9qrdD2dXh1sU9A)"
   ]
  },
  {
   "cell_type": "markdown",
   "metadata": {
    "application/vnd.databricks.v1+cell": {
     "cellMetadata": {},
     "inputWidgets": {},
     "nuid": "e9ba8ee4-0886-4de6-a75c-b329b692925f",
     "showTitle": false,
     "title": ""
    },
    "colab_type": "text",
    "id": "KESqVXmAXu_p"
   },
   "source": [
    "# Step 2 - Loading and Viewing the Log Dataset\n",
    "\n",
    "Given that our data is stored in the following mentioned path, let's load it into a DataFrame. We'll do this in steps. First, we'll use `sqlContext.read.text()` or `spark.read.text()` to read the text file. This will produce a DataFrame with a single string column called `value`."
   ]
  },
  {
   "cell_type": "markdown",
   "metadata": {
    "application/vnd.databricks.v1+cell": {
     "cellMetadata": {},
     "inputWidgets": {},
     "nuid": "4cd8e668-7b42-4b22-886b-ec53c740c691",
     "showTitle": false,
     "title": ""
    },
    "colab_type": "text",
    "id": "pis2_lWcXu_u"
   },
   "source": [
    "### Taking a look at the metadata of our dataframe"
   ]
  },
  {
   "cell_type": "code",
   "execution_count": 0,
   "metadata": {
    "application/vnd.databricks.v1+cell": {
     "cellMetadata": {
      "byteLimit": 2048000,
      "rowLimit": 10000
     },
     "inputWidgets": {},
     "nuid": "828b5d5d-ea17-4469-a2f5-6a4b67882abb",
     "showTitle": false,
     "title": ""
    },
    "colab": {},
    "colab_type": "code",
    "id": "f4-znXsmXu_w",
    "outputId": "5c326d84-2124-47c4-c63f-e70665bfb820"
   },
   "outputs": [
    {
     "output_type": "stream",
     "name": "stdout",
     "output_type": "stream",
     "text": [
      "root\n |-- value: string (nullable = true)\n\n"
     ]
    }
   ],
   "source": [
    "# make sure you have upload NASA_access_log_Aug95.txt and NASA_access_log_Jul95.txt onto Spark before you run the following code\n",
    "\n",
    "base_df = spark.read.text('dbfs:/FileStore/tables/*.txt')\n",
    "base_df.printSchema()"
   ]
  },
  {
   "cell_type": "code",
   "execution_count": 0,
   "metadata": {
    "application/vnd.databricks.v1+cell": {
     "cellMetadata": {
      "byteLimit": 2048000,
      "rowLimit": 10000
     },
     "inputWidgets": {},
     "nuid": "e9d4c370-c99d-4983-83be-16d21cf36031",
     "showTitle": false,
     "title": ""
    },
    "colab": {},
    "colab_type": "code",
    "id": "IBHQ8QQkXu_0",
    "outputId": "14c57eda-586c-4a28-9e1c-df9364bf0ff8"
   },
   "outputs": [
    {
     "output_type": "stream",
     "name": "stdout",
     "output_type": "stream",
     "text": [
      "Out[7]: pyspark.sql.dataframe.DataFrame"
     ]
    }
   ],
   "source": [
    "type(base_df)"
   ]
  },
  {
   "cell_type": "markdown",
   "metadata": {
    "application/vnd.databricks.v1+cell": {
     "cellMetadata": {},
     "inputWidgets": {},
     "nuid": "83f3c49d-d12d-42a7-bfd8-8c8e82c2f385",
     "showTitle": false,
     "title": ""
    },
    "colab_type": "text",
    "id": "gOKkUBQvXu_5"
   },
   "source": [
    "You can also convert a dataframe to an RDD if needed"
   ]
  },
  {
   "cell_type": "code",
   "execution_count": 0,
   "metadata": {
    "application/vnd.databricks.v1+cell": {
     "cellMetadata": {
      "byteLimit": 2048000,
      "rowLimit": 10000
     },
     "inputWidgets": {},
     "nuid": "d43d4895-5b32-495d-9973-f85aa5ce1407",
     "showTitle": false,
     "title": ""
    },
    "colab": {},
    "colab_type": "code",
    "id": "hMByB80sXu_6",
    "outputId": "29f8e5c6-aecf-4f81-d1e8-40a5ef92eb18"
   },
   "outputs": [
    {
     "output_type": "stream",
     "name": "stdout",
     "output_type": "stream",
     "text": [
      "Out[8]: pyspark.rdd.RDD"
     ]
    }
   ],
   "source": [
    "base_df_rdd = base_df.rdd\n",
    "type(base_df_rdd)"
   ]
  },
  {
   "cell_type": "markdown",
   "metadata": {
    "application/vnd.databricks.v1+cell": {
     "cellMetadata": {},
     "inputWidgets": {},
     "nuid": "9e51d585-fe0b-46c8-a5f3-1caf7ecdf9df",
     "showTitle": false,
     "title": ""
    },
    "colab_type": "text",
    "id": "oi1QtXBhXvAB"
   },
   "source": [
    "### Viewing sample data in our dataframe\n",
    "Looks like it needs to be wrangled and parsed!"
   ]
  },
  {
   "cell_type": "code",
   "execution_count": 0,
   "metadata": {
    "application/vnd.databricks.v1+cell": {
     "cellMetadata": {
      "byteLimit": 2048000,
      "rowLimit": 10000
     },
     "inputWidgets": {},
     "nuid": "b6fcc8fe-7c4c-4ef4-9440-a2fec09559db",
     "showTitle": false,
     "title": ""
    },
    "colab": {},
    "colab_type": "code",
    "id": "iertYldRXvAD",
    "outputId": "cf7a1843-1287-455e-a32c-e67a498a89c0"
   },
   "outputs": [
    {
     "output_type": "stream",
     "name": "stdout",
     "output_type": "stream",
     "text": [
      "+--------------------------------------------------------------------------------------------------------------------------+\n|value                                                                                                                     |\n+--------------------------------------------------------------------------------------------------------------------------+\n|in24.inetnebr.com - - [01/Aug/1995:00:00:01 -0400] \"GET /shuttle/missions/sts-68/news/sts-68-mcc-05.txt HTTP/1.0\" 200 1839|\n|uplherc.upl.com - - [01/Aug/1995:00:00:07 -0400] \"GET / HTTP/1.0\" 304 0                                                   |\n|uplherc.upl.com - - [01/Aug/1995:00:00:08 -0400] \"GET /images/ksclogo-medium.gif HTTP/1.0\" 304 0                          |\n|uplherc.upl.com - - [01/Aug/1995:00:00:08 -0400] \"GET /images/MOSAIC-logosmall.gif HTTP/1.0\" 304 0                        |\n|uplherc.upl.com - - [01/Aug/1995:00:00:08 -0400] \"GET /images/USA-logosmall.gif HTTP/1.0\" 304 0                           |\n|ix-esc-ca2-07.ix.netcom.com - - [01/Aug/1995:00:00:09 -0400] \"GET /images/launch-logo.gif HTTP/1.0\" 200 1713              |\n|uplherc.upl.com - - [01/Aug/1995:00:00:10 -0400] \"GET /images/WORLD-logosmall.gif HTTP/1.0\" 304 0                         |\n|slppp6.intermind.net - - [01/Aug/1995:00:00:10 -0400] \"GET /history/skylab/skylab.html HTTP/1.0\" 200 1687                 |\n|piweba4y.prodigy.com - - [01/Aug/1995:00:00:10 -0400] \"GET /images/launchmedium.gif HTTP/1.0\" 200 11853                   |\n|slppp6.intermind.net - - [01/Aug/1995:00:00:11 -0400] \"GET /history/skylab/skylab-small.gif HTTP/1.0\" 200 9202            |\n+--------------------------------------------------------------------------------------------------------------------------+\nonly showing top 10 rows\n\n"
     ]
    }
   ],
   "source": [
    "base_df.show(10, truncate=False)"
   ]
  },
  {
   "cell_type": "markdown",
   "metadata": {
    "application/vnd.databricks.v1+cell": {
     "cellMetadata": {},
     "inputWidgets": {},
     "nuid": "f5344d14-b187-4b02-a706-7648d46de40a",
     "showTitle": false,
     "title": ""
    },
    "colab_type": "text",
    "id": "T9aeiekzXvAJ"
   },
   "source": [
    "Getting data from an RDD is slightly different. You can see how the data representation is different in the following RDD"
   ]
  },
  {
   "cell_type": "code",
   "execution_count": 0,
   "metadata": {
    "application/vnd.databricks.v1+cell": {
     "cellMetadata": {
      "byteLimit": 2048000,
      "rowLimit": 10000
     },
     "inputWidgets": {},
     "nuid": "7cfeaa29-cb5f-4ccf-ac3b-a584545aeb41",
     "showTitle": false,
     "title": ""
    },
    "colab": {},
    "colab_type": "code",
    "id": "PCdKKlCeXvAK",
    "outputId": "58876be0-2960-4df1-cefa-75daa1462dbd"
   },
   "outputs": [
    {
     "output_type": "stream",
     "name": "stdout",
     "output_type": "stream",
     "text": [
      "Out[10]: [Row(value='in24.inetnebr.com - - [01/Aug/1995:00:00:01 -0400] \"GET /shuttle/missions/sts-68/news/sts-68-mcc-05.txt HTTP/1.0\" 200 1839'),\n Row(value='uplherc.upl.com - - [01/Aug/1995:00:00:07 -0400] \"GET / HTTP/1.0\" 304 0'),\n Row(value='uplherc.upl.com - - [01/Aug/1995:00:00:08 -0400] \"GET /images/ksclogo-medium.gif HTTP/1.0\" 304 0'),\n Row(value='uplherc.upl.com - - [01/Aug/1995:00:00:08 -0400] \"GET /images/MOSAIC-logosmall.gif HTTP/1.0\" 304 0'),\n Row(value='uplherc.upl.com - - [01/Aug/1995:00:00:08 -0400] \"GET /images/USA-logosmall.gif HTTP/1.0\" 304 0'),\n Row(value='ix-esc-ca2-07.ix.netcom.com - - [01/Aug/1995:00:00:09 -0400] \"GET /images/launch-logo.gif HTTP/1.0\" 200 1713'),\n Row(value='uplherc.upl.com - - [01/Aug/1995:00:00:10 -0400] \"GET /images/WORLD-logosmall.gif HTTP/1.0\" 304 0'),\n Row(value='slppp6.intermind.net - - [01/Aug/1995:00:00:10 -0400] \"GET /history/skylab/skylab.html HTTP/1.0\" 200 1687'),\n Row(value='piweba4y.prodigy.com - - [01/Aug/1995:00:00:10 -0400] \"GET /images/launchmedium.gif HTTP/1.0\" 200 11853'),\n Row(value='slppp6.intermind.net - - [01/Aug/1995:00:00:11 -0400] \"GET /history/skylab/skylab-small.gif HTTP/1.0\" 200 9202')]"
     ]
    }
   ],
   "source": [
    "base_df_rdd.take(10)"
   ]
  },
  {
   "cell_type": "markdown",
   "metadata": {
    "application/vnd.databricks.v1+cell": {
     "cellMetadata": {},
     "inputWidgets": {},
     "nuid": "a91af962-b136-4c69-8aaf-501a4eeb2e2a",
     "showTitle": false,
     "title": ""
    },
    "colab_type": "text",
    "id": "asaanbGIYfR8"
   },
   "source": [
    "# Data transformation"
   ]
  },
  {
   "cell_type": "markdown",
   "metadata": {
    "application/vnd.databricks.v1+cell": {
     "cellMetadata": {},
     "inputWidgets": {},
     "nuid": "e2c5fb3b-25fd-4f8a-81c4-9ae98e5e3c35",
     "showTitle": false,
     "title": ""
    },
    "colab_type": "text",
    "id": "yv5kCt3xXvAP"
   },
   "source": [
    "# Step 1 - Data Wrangling\n",
    "\n",
    "In this section, we will try and clean and parse our log dataset to really extract structured attributes with meaningful information from each log message.\n",
    "\n",
    "### Data understanding\n",
    "If you're familiar with web server logs, you'll recognize that the above displayed data is in [Common Log Format](https://www.w3.org/Daemon/User/Config/Logging.html#common-logfile-format). \n",
    "\n",
    "The fields are:\n",
    "__`remotehost rfc931 authuser [date] \"request\" status bytes`__\n",
    "\n",
    "\n",
    "| field         | meaning                                                                |\n",
    "| ------------- | ---------------------------------------------------------------------- |\n",
    "| _remotehost_  | Remote hostname (or IP number if DNS hostname is not available or if [DNSLookup](https://www.w3.org/Daemon/User/Config/General.html#DNSLookup) is off).       |\n",
    "| _rfc931_      | The remote logname of the user if at all it is present. |\n",
    "| _authuser_    | The username of the remote user after authentication by the HTTP server.  |\n",
    "| _[date]_      | Date and time of the request.                                      |\n",
    "| _\"request\"_   | The request, exactly as it came from the browser or client.            |\n",
    "| _status_      | The [HTTP status code](https://en.wikipedia.org/wiki/List_of_HTTP_status_codes) the server sent back to the client.               |\n",
    "| _bytes_       | The number of bytes (`Content-Length`) transferred to the client.      |\n",
    "\n",
    "We will need to use some specific techniques to parse, match and extract these attributes from the log data"
   ]
  },
  {
   "cell_type": "markdown",
   "metadata": {
    "application/vnd.databricks.v1+cell": {
     "cellMetadata": {},
     "inputWidgets": {},
     "nuid": "cffff190-fe42-4c18-a602-88af93fe31b6",
     "showTitle": false,
     "title": ""
    },
    "colab_type": "text",
    "id": "9aCEcwBLXvAQ"
   },
   "source": [
    "## Data Parsing and Extraction with Regular Expressions\n",
    "\n",
    "Next, we have to parse it into individual columns. We'll use the special built-in [regexp\\_extract()](http://spark.apache.org/docs/latest/api/python/pyspark.sql.html#pyspark.sql.functions.regexp_extract)\n",
    "function to do the parsing. This function matches a column against a regular expression with one or more [capture groups](http://regexone.com/lesson/capturing_groups) and allows you to extract one of the matched groups. We'll use one regular expression for each field we wish to extract.\n",
    "\n",
    "You must have heard or used a fair bit of regular expressions by now. If you find regular expressions confusing (and they certainly _can_ be), and you want to learn more about them, we recommend checking out the\n",
    "[RegexOne web site](http://regexone.com/). You might also find [_Regular Expressions Cookbook_](http://shop.oreilly.com/product/0636920023630.do), by Goyvaerts and Levithan, to be useful as a reference."
   ]
  },
  {
   "cell_type": "markdown",
   "metadata": {
    "application/vnd.databricks.v1+cell": {
     "cellMetadata": {},
     "inputWidgets": {},
     "nuid": "de58b5b8-cece-4bda-abb7-56721139347d",
     "showTitle": false,
     "title": ""
    },
    "colab_type": "text",
    "id": "a3TFNjb1XvAS"
   },
   "source": [
    "#### Let's take a look at our dataset dimensions"
   ]
  },
  {
   "cell_type": "code",
   "execution_count": 0,
   "metadata": {
    "application/vnd.databricks.v1+cell": {
     "cellMetadata": {
      "byteLimit": 2048000,
      "rowLimit": 10000
     },
     "inputWidgets": {},
     "nuid": "e27a8d59-846f-4d60-a9e5-e479446ec8bc",
     "showTitle": false,
     "title": ""
    },
    "colab": {},
    "colab_type": "code",
    "id": "ncbKGPMJXvAT",
    "outputId": "2d0a17f7-5bd7-444a-9a65-f547bf601f09"
   },
   "outputs": [
    {
     "output_type": "stream",
     "name": "stdout",
     "output_type": "stream",
     "text": [
      "(3461613, 1)\n"
     ]
    }
   ],
   "source": [
    "print((base_df.count(), len(base_df.columns)))"
   ]
  },
  {
   "cell_type": "markdown",
   "metadata": {
    "application/vnd.databricks.v1+cell": {
     "cellMetadata": {},
     "inputWidgets": {},
     "nuid": "25a7cdf8-837e-4afd-a3ee-f96f8be86835",
     "showTitle": false,
     "title": ""
    },
    "colab_type": "text",
    "id": "dtZOfHsVXvAZ"
   },
   "source": [
    "Let's extract and take a look at some sample log messages"
   ]
  },
  {
   "cell_type": "code",
   "execution_count": 0,
   "metadata": {
    "application/vnd.databricks.v1+cell": {
     "cellMetadata": {
      "byteLimit": 2048000,
      "rowLimit": 10000
     },
     "inputWidgets": {},
     "nuid": "45bf5b96-af27-4e76-934c-a4225690da45",
     "showTitle": false,
     "title": ""
    },
    "colab": {},
    "colab_type": "code",
    "id": "-3sfUy4NXvAa",
    "outputId": "056e2311-d4be-4c1b-e507-a4c6f1868ace"
   },
   "outputs": [
    {
     "output_type": "stream",
     "name": "stdout",
     "output_type": "stream",
     "text": [
      "Out[12]: ['in24.inetnebr.com - - [01/Aug/1995:00:00:01 -0400] \"GET /shuttle/missions/sts-68/news/sts-68-mcc-05.txt HTTP/1.0\" 200 1839',\n 'uplherc.upl.com - - [01/Aug/1995:00:00:07 -0400] \"GET / HTTP/1.0\" 304 0',\n 'uplherc.upl.com - - [01/Aug/1995:00:00:08 -0400] \"GET /images/ksclogo-medium.gif HTTP/1.0\" 304 0',\n 'uplherc.upl.com - - [01/Aug/1995:00:00:08 -0400] \"GET /images/MOSAIC-logosmall.gif HTTP/1.0\" 304 0',\n 'uplherc.upl.com - - [01/Aug/1995:00:00:08 -0400] \"GET /images/USA-logosmall.gif HTTP/1.0\" 304 0',\n 'ix-esc-ca2-07.ix.netcom.com - - [01/Aug/1995:00:00:09 -0400] \"GET /images/launch-logo.gif HTTP/1.0\" 200 1713',\n 'uplherc.upl.com - - [01/Aug/1995:00:00:10 -0400] \"GET /images/WORLD-logosmall.gif HTTP/1.0\" 304 0',\n 'slppp6.intermind.net - - [01/Aug/1995:00:00:10 -0400] \"GET /history/skylab/skylab.html HTTP/1.0\" 200 1687',\n 'piweba4y.prodigy.com - - [01/Aug/1995:00:00:10 -0400] \"GET /images/launchmedium.gif HTTP/1.0\" 200 11853',\n 'slppp6.intermind.net - - [01/Aug/1995:00:00:11 -0400] \"GET /history/skylab/skylab-small.gif HTTP/1.0\" 200 9202',\n 'slppp6.intermind.net - - [01/Aug/1995:00:00:12 -0400] \"GET /images/ksclogosmall.gif HTTP/1.0\" 200 3635',\n 'ix-esc-ca2-07.ix.netcom.com - - [01/Aug/1995:00:00:12 -0400] \"GET /history/apollo/images/apollo-logo1.gif HTTP/1.0\" 200 1173',\n 'slppp6.intermind.net - - [01/Aug/1995:00:00:13 -0400] \"GET /history/apollo/images/apollo-logo.gif HTTP/1.0\" 200 3047',\n 'uplherc.upl.com - - [01/Aug/1995:00:00:14 -0400] \"GET /images/NASA-logosmall.gif HTTP/1.0\" 304 0',\n '133.43.96.45 - - [01/Aug/1995:00:00:16 -0400] \"GET /shuttle/missions/sts-69/mission-sts-69.html HTTP/1.0\" 200 10566']"
     ]
    }
   ],
   "source": [
    "sample_logs = [item['value'] for item in base_df.take(15)]\n",
    "sample_logs"
   ]
  },
  {
   "cell_type": "markdown",
   "metadata": {
    "application/vnd.databricks.v1+cell": {
     "cellMetadata": {},
     "inputWidgets": {},
     "nuid": "9c6f4d12-9709-498d-9df5-53e2027bbbf7",
     "showTitle": false,
     "title": ""
    },
    "colab_type": "text",
    "id": "0aPYBjkwXvAf"
   },
   "source": [
    "### Extracting host names\n",
    "\n",
    "Let's try and write some regular expressions to extract the host name from the logs"
   ]
  },
  {
   "cell_type": "code",
   "execution_count": 0,
   "metadata": {
    "application/vnd.databricks.v1+cell": {
     "cellMetadata": {
      "byteLimit": 2048000,
      "rowLimit": 10000
     },
     "inputWidgets": {},
     "nuid": "97c5c3e3-3f12-4c90-9752-b9e5bd46b6de",
     "showTitle": false,
     "title": ""
    },
    "colab": {},
    "colab_type": "code",
    "id": "WarNo8bGXvAh",
    "outputId": "d8a548f2-335e-4ab4-8a9f-28f55060e540"
   },
   "outputs": [
    {
     "output_type": "stream",
     "name": "stdout",
     "output_type": "stream",
     "text": [
      "Out[13]: ['in24.inetnebr.com',\n 'uplherc.upl.com',\n 'uplherc.upl.com',\n 'uplherc.upl.com',\n 'uplherc.upl.com',\n 'ix-esc-ca2-07.ix.netcom.com',\n 'uplherc.upl.com',\n 'slppp6.intermind.net',\n 'piweba4y.prodigy.com',\n 'slppp6.intermind.net',\n 'slppp6.intermind.net',\n 'ix-esc-ca2-07.ix.netcom.com',\n 'slppp6.intermind.net',\n 'uplherc.upl.com',\n '133.43.96.45']"
     ]
    }
   ],
   "source": [
    "host_pattern = r'(^\\S+\\.[\\S+\\.]+\\S+)\\s'\n",
    "hosts = [re.search(host_pattern, item).group(1)\n",
    "           if re.search(host_pattern, item)\n",
    "           else 'no match'\n",
    "           for item in sample_logs]\n",
    "hosts"
   ]
  },
  {
   "cell_type": "markdown",
   "metadata": {
    "application/vnd.databricks.v1+cell": {
     "cellMetadata": {},
     "inputWidgets": {},
     "nuid": "ec369cbc-6318-4d3b-9d3a-d8b74efdfdd7",
     "showTitle": false,
     "title": ""
    },
    "colab_type": "text",
    "id": "TcZrGpgwXvAk"
   },
   "source": [
    "### Extracting timestamps \n",
    "\n",
    "Let's now try and use regular expressions to extract the timestamp fields from the logs"
   ]
  },
  {
   "cell_type": "code",
   "execution_count": 0,
   "metadata": {
    "application/vnd.databricks.v1+cell": {
     "cellMetadata": {
      "byteLimit": 2048000,
      "rowLimit": 10000
     },
     "inputWidgets": {},
     "nuid": "999598d5-11ca-4806-aeb9-7fac4b7588ff",
     "showTitle": false,
     "title": ""
    },
    "colab": {},
    "colab_type": "code",
    "id": "GOot8niKXvAl",
    "outputId": "6ad3338e-8ff0-48f1-c4d0-ad52742232b9"
   },
   "outputs": [
    {
     "output_type": "stream",
     "name": "stdout",
     "output_type": "stream",
     "text": [
      "Out[14]: ['01/Aug/1995:00:00:01 -0400',\n '01/Aug/1995:00:00:07 -0400',\n '01/Aug/1995:00:00:08 -0400',\n '01/Aug/1995:00:00:08 -0400',\n '01/Aug/1995:00:00:08 -0400',\n '01/Aug/1995:00:00:09 -0400',\n '01/Aug/1995:00:00:10 -0400',\n '01/Aug/1995:00:00:10 -0400',\n '01/Aug/1995:00:00:10 -0400',\n '01/Aug/1995:00:00:11 -0400',\n '01/Aug/1995:00:00:12 -0400',\n '01/Aug/1995:00:00:12 -0400',\n '01/Aug/1995:00:00:13 -0400',\n '01/Aug/1995:00:00:14 -0400',\n '01/Aug/1995:00:00:16 -0400']"
     ]
    }
   ],
   "source": [
    "ts_pattern = r'\\[(\\d{2}/\\w{3}/\\d{4}:\\d{2}:\\d{2}:\\d{2} -\\d{4})]'\n",
    "timestamps = [re.search(ts_pattern, item).group(1) for item in sample_logs]\n",
    "timestamps"
   ]
  },
  {
   "cell_type": "markdown",
   "metadata": {
    "application/vnd.databricks.v1+cell": {
     "cellMetadata": {},
     "inputWidgets": {},
     "nuid": "295f54b2-69c1-4493-aee8-3e1c84864e7e",
     "showTitle": false,
     "title": ""
    },
    "colab_type": "text",
    "id": "CKJ5F8tCXvAo"
   },
   "source": [
    "### Extracting HTTP Request Method, URIs and Protocol \n",
    "\n",
    "Let's now try and use regular expressions to extract the HTTP request methods, URIs and Protocol patterns fields from the logs"
   ]
  },
  {
   "cell_type": "code",
   "execution_count": 0,
   "metadata": {
    "application/vnd.databricks.v1+cell": {
     "cellMetadata": {
      "byteLimit": 2048000,
      "rowLimit": 10000
     },
     "inputWidgets": {},
     "nuid": "87e049fd-2881-401c-832c-707c50cf4d25",
     "showTitle": false,
     "title": ""
    },
    "colab": {},
    "colab_type": "code",
    "id": "TZvnPVXeXvAp",
    "outputId": "f3cdd71d-0239-43a4-fd8f-245193f571c3"
   },
   "outputs": [
    {
     "output_type": "stream",
     "name": "stdout",
     "output_type": "stream",
     "text": [
      "Out[15]: [('GET', '/shuttle/missions/sts-68/news/sts-68-mcc-05.txt', 'HTTP/1.0'),\n ('GET', '/', 'HTTP/1.0'),\n ('GET', '/images/ksclogo-medium.gif', 'HTTP/1.0'),\n ('GET', '/images/MOSAIC-logosmall.gif', 'HTTP/1.0'),\n ('GET', '/images/USA-logosmall.gif', 'HTTP/1.0'),\n ('GET', '/images/launch-logo.gif', 'HTTP/1.0'),\n ('GET', '/images/WORLD-logosmall.gif', 'HTTP/1.0'),\n ('GET', '/history/skylab/skylab.html', 'HTTP/1.0'),\n ('GET', '/images/launchmedium.gif', 'HTTP/1.0'),\n ('GET', '/history/skylab/skylab-small.gif', 'HTTP/1.0'),\n ('GET', '/images/ksclogosmall.gif', 'HTTP/1.0'),\n ('GET', '/history/apollo/images/apollo-logo1.gif', 'HTTP/1.0'),\n ('GET', '/history/apollo/images/apollo-logo.gif', 'HTTP/1.0'),\n ('GET', '/images/NASA-logosmall.gif', 'HTTP/1.0'),\n ('GET', '/shuttle/missions/sts-69/mission-sts-69.html', 'HTTP/1.0')]"
     ]
    }
   ],
   "source": [
    "method_uri_protocol_pattern = r'\\\"(\\S+)\\s(\\S+)\\s*(\\S*)\\\"'\n",
    "method_uri_protocol = [re.search(method_uri_protocol_pattern, item).groups()\n",
    "               if re.search(method_uri_protocol_pattern, item)\n",
    "               else 'no match'\n",
    "              for item in sample_logs]\n",
    "method_uri_protocol"
   ]
  },
  {
   "cell_type": "markdown",
   "metadata": {
    "application/vnd.databricks.v1+cell": {
     "cellMetadata": {},
     "inputWidgets": {},
     "nuid": "c382b667-1a3a-4e2f-9f84-b63301b1b075",
     "showTitle": false,
     "title": ""
    },
    "colab_type": "text",
    "id": "oaBizluJXvAu"
   },
   "source": [
    "### Building an intermediate parsed dataframe\n",
    "\n",
    "Let's try and use our regular expressions we have implemented so far into parsing and extracting the relevant entities in separate columns in a new dataframe"
   ]
  },
  {
   "cell_type": "code",
   "execution_count": 0,
   "metadata": {
    "application/vnd.databricks.v1+cell": {
     "cellMetadata": {
      "byteLimit": 2048000,
      "rowLimit": 10000
     },
     "inputWidgets": {},
     "nuid": "8bc69d3b-b15d-4f03-b648-55064c0d2e31",
     "showTitle": false,
     "title": ""
    },
    "colab": {},
    "colab_type": "code",
    "id": "MLI8LUVPXvAv",
    "outputId": "5c8becac-e3bb-4a61-cc8e-bba69c4169d6"
   },
   "outputs": [
    {
     "output_type": "stream",
     "name": "stdout",
     "output_type": "stream",
     "text": [
      "+---------------------------+--------------------------+------+-----------------------------------------------+--------+\n|host                       |timestamp                 |method|endpoint                                       |protocol|\n+---------------------------+--------------------------+------+-----------------------------------------------+--------+\n|in24.inetnebr.com          |01/Aug/1995:00:00:01 -0400|GET   |/shuttle/missions/sts-68/news/sts-68-mcc-05.txt|HTTP/1.0|\n|uplherc.upl.com            |01/Aug/1995:00:00:07 -0400|GET   |/                                              |HTTP/1.0|\n|uplherc.upl.com            |01/Aug/1995:00:00:08 -0400|GET   |/images/ksclogo-medium.gif                     |HTTP/1.0|\n|uplherc.upl.com            |01/Aug/1995:00:00:08 -0400|GET   |/images/MOSAIC-logosmall.gif                   |HTTP/1.0|\n|uplherc.upl.com            |01/Aug/1995:00:00:08 -0400|GET   |/images/USA-logosmall.gif                      |HTTP/1.0|\n|ix-esc-ca2-07.ix.netcom.com|01/Aug/1995:00:00:09 -0400|GET   |/images/launch-logo.gif                        |HTTP/1.0|\n|uplherc.upl.com            |01/Aug/1995:00:00:10 -0400|GET   |/images/WORLD-logosmall.gif                    |HTTP/1.0|\n|slppp6.intermind.net       |01/Aug/1995:00:00:10 -0400|GET   |/history/skylab/skylab.html                    |HTTP/1.0|\n|piweba4y.prodigy.com       |01/Aug/1995:00:00:10 -0400|GET   |/images/launchmedium.gif                       |HTTP/1.0|\n|slppp6.intermind.net       |01/Aug/1995:00:00:11 -0400|GET   |/history/skylab/skylab-small.gif               |HTTP/1.0|\n+---------------------------+--------------------------+------+-----------------------------------------------+--------+\nonly showing top 10 rows\n\n(3461613, 5)\n"
     ]
    }
   ],
   "source": [
    "from pyspark.sql.functions import regexp_extract\n",
    "\n",
    "logs_df = base_df.select(regexp_extract('value', host_pattern, 1).alias('host'),\n",
    "                         regexp_extract('value', ts_pattern, 1).alias('timestamp'),\n",
    "                         regexp_extract('value', method_uri_protocol_pattern, 1).alias('method'),\n",
    "                         regexp_extract('value', method_uri_protocol_pattern, 2).alias('endpoint'),\n",
    "                         regexp_extract('value', method_uri_protocol_pattern, 3).alias('protocol'))\n",
    "logs_df.show(10, truncate=False)\n",
    "print((logs_df.count(), len(logs_df.columns)))"
   ]
  },
  {
   "cell_type": "code",
   "execution_count": 0,
   "metadata": {
    "application/vnd.databricks.v1+cell": {
     "cellMetadata": {
      "byteLimit": 2048000,
      "rowLimit": 10000
     },
     "inputWidgets": {},
     "nuid": "e059ba6c-d310-4c43-a093-a4139d87078e",
     "showTitle": false,
     "title": ""
    }
   },
   "outputs": [
    {
     "output_type": "display_data",
     "data": {
      "text/plain": [
       "\u001B[0;31m---------------------------------------------------------------------------\u001B[0m\n",
       "\u001B[0;31mNameError\u001B[0m                                 Traceback (most recent call last)\n",
       "File \u001B[0;32m<command-3008181531193921>:1\u001B[0m\n",
       "\u001B[0;32m----> 1\u001B[0m l2df\u001B[38;5;241m.\u001B[39msort(\u001B[43mcols\u001B[49m(\u001B[38;5;124m'\u001B[39m\u001B[38;5;124mhost\u001B[39m\u001B[38;5;124m'\u001B[39m))\n",
       "\n",
       "\u001B[0;31mNameError\u001B[0m: name 'cols' is not defined"
      ]
     },
     "metadata": {
      "application/vnd.databricks.v1+output": {
       "arguments": {},
       "data": "\u001B[0;31m---------------------------------------------------------------------------\u001B[0m\n\u001B[0;31mNameError\u001B[0m                                 Traceback (most recent call last)\nFile \u001B[0;32m<command-3008181531193921>:1\u001B[0m\n\u001B[0;32m----> 1\u001B[0m l2df\u001B[38;5;241m.\u001B[39msort(\u001B[43mcols\u001B[49m(\u001B[38;5;124m'\u001B[39m\u001B[38;5;124mhost\u001B[39m\u001B[38;5;124m'\u001B[39m))\n\n\u001B[0;31mNameError\u001B[0m: name 'cols' is not defined",
       "errorSummary": "<span class='ansi-red-fg'>NameError</span>: name 'cols' is not defined",
       "errorTraceType": "ansi",
       "metadata": {},
       "type": "ipynbError"
      }
     },
     "output_type": "display_data"
    }
   ],
   "source": []
  },
  {
   "cell_type": "markdown",
   "metadata": {
    "application/vnd.databricks.v1+cell": {
     "cellMetadata": {},
     "inputWidgets": {},
     "nuid": "050a104e-f5ea-48d9-8e08-8d4d145d9af0",
     "showTitle": false,
     "title": ""
    },
    "colab_type": "text",
    "id": "-c-LK4TNXvAy"
   },
   "source": [
    "### Extracting HTTP Status Codes\n",
    "\n",
    "Let's now try and use regular expressions to extract the HTTP status codes from the logs"
   ]
  },
  {
   "cell_type": "code",
   "execution_count": 0,
   "metadata": {
    "application/vnd.databricks.v1+cell": {
     "cellMetadata": {
      "byteLimit": 2048000,
      "rowLimit": 10000
     },
     "inputWidgets": {},
     "nuid": "2d0e8e94-a5c9-4e32-ab1e-4e0ea750b190",
     "showTitle": false,
     "title": ""
    },
    "colab": {},
    "colab_type": "code",
    "id": "kvWWXeTcXvA1",
    "outputId": "5ffeabc8-ecff-4365-af5f-0b905f913115"
   },
   "outputs": [
    {
     "output_type": "stream",
     "name": "stdout",
     "output_type": "stream",
     "text": [
      "['200', '304', '304', '304', '304', '200', '304', '200', '200', '200', '200', '200', '200', '304', '200']\n"
     ]
    }
   ],
   "source": [
    "status_pattern = r'\\s(\\d{3})\\s'\n",
    "status = [re.search(status_pattern, item).group(1) for item in sample_logs]\n",
    "print(status)"
   ]
  },
  {
   "cell_type": "markdown",
   "metadata": {
    "application/vnd.databricks.v1+cell": {
     "cellMetadata": {},
     "inputWidgets": {},
     "nuid": "811d6edf-7576-47bb-b851-4f6b7681184c",
     "showTitle": false,
     "title": ""
    },
    "colab_type": "text",
    "id": "jFemwBnSXvA4"
   },
   "source": [
    "### Extracting HTTP Response Content Size\n",
    "\n",
    "Let's now try and use regular expressions to extract the HTTP response content size from the logs"
   ]
  },
  {
   "cell_type": "code",
   "execution_count": 0,
   "metadata": {
    "application/vnd.databricks.v1+cell": {
     "cellMetadata": {
      "byteLimit": 2048000,
      "rowLimit": 10000
     },
     "inputWidgets": {},
     "nuid": "265e3c8e-a3ee-4f3e-a7a8-af4009ebf93a",
     "showTitle": false,
     "title": ""
    },
    "colab": {},
    "colab_type": "code",
    "id": "l0kmQOqjXvA5",
    "outputId": "8b6c6d90-6897-4885-e527-0b815f4a977e"
   },
   "outputs": [
    {
     "output_type": "stream",
     "name": "stdout",
     "output_type": "stream",
     "text": [
      "['1839', '0', '0', '0', '0', '1713', '0', '1687', '11853', '9202', '3635', '1173', '3047', '0', '10566']\n"
     ]
    }
   ],
   "source": [
    "content_size_pattern = r'\\s(\\d+)$'\n",
    "content_size = [re.search(content_size_pattern, item).group(1) for item in sample_logs]\n",
    "print(content_size)"
   ]
  },
  {
   "cell_type": "markdown",
   "metadata": {
    "application/vnd.databricks.v1+cell": {
     "cellMetadata": {},
     "inputWidgets": {},
     "nuid": "af65ceaf-ebd9-42c9-aa19-1707f92a5aec",
     "showTitle": false,
     "title": ""
    },
    "colab_type": "text",
    "id": "DHPbsgMsXvA8"
   },
   "source": [
    "## Q1: Your Turn: Putting it all together \n",
    "\n",
    "Let's now try and leverage all the regular expression patterns we previously built and use the `regexp_extract(...)` method to build our dataframe with all the log attributes neatly extracted in their own separate columns.\n",
    "\n",
    "- You can reuse the code we used previously to build the intermediate dataframe\n",
    "- Remember to cast the HTTP status code and content size as integers. \n",
    "- You can cast data as integer type using the following: __`regexp_extract('value', ...., ...).cast('integer').alias(...)`__"
   ]
  },
  {
   "cell_type": "code",
   "execution_count": 0,
   "metadata": {
    "application/vnd.databricks.v1+cell": {
     "cellMetadata": {
      "byteLimit": 2048000,
      "rowLimit": 10000
     },
     "inputWidgets": {},
     "nuid": "933eb758-0797-45bc-83d2-8f513fe92123",
     "showTitle": false,
     "title": ""
    }
   },
   "outputs": [
    {
     "output_type": "stream",
     "name": "stdout",
     "output_type": "stream",
     "text": [
      "Out[20]: [Row(value='in24.inetnebr.com - - [01/Aug/1995:00:00:01 -0400] \"GET /shuttle/missions/sts-68/news/sts-68-mcc-05.txt HTTP/1.0\" 200 1839'),\n Row(value='uplherc.upl.com - - [01/Aug/1995:00:00:07 -0400] \"GET / HTTP/1.0\" 304 0'),\n Row(value='uplherc.upl.com - - [01/Aug/1995:00:00:08 -0400] \"GET /images/ksclogo-medium.gif HTTP/1.0\" 304 0'),\n Row(value='uplherc.upl.com - - [01/Aug/1995:00:00:08 -0400] \"GET /images/MOSAIC-logosmall.gif HTTP/1.0\" 304 0'),\n Row(value='uplherc.upl.com - - [01/Aug/1995:00:00:08 -0400] \"GET /images/USA-logosmall.gif HTTP/1.0\" 304 0'),\n Row(value='ix-esc-ca2-07.ix.netcom.com - - [01/Aug/1995:00:00:09 -0400] \"GET /images/launch-logo.gif HTTP/1.0\" 200 1713'),\n Row(value='uplherc.upl.com - - [01/Aug/1995:00:00:10 -0400] \"GET /images/WORLD-logosmall.gif HTTP/1.0\" 304 0'),\n Row(value='slppp6.intermind.net - - [01/Aug/1995:00:00:10 -0400] \"GET /history/skylab/skylab.html HTTP/1.0\" 200 1687'),\n Row(value='piweba4y.prodigy.com - - [01/Aug/1995:00:00:10 -0400] \"GET /images/launchmedium.gif HTTP/1.0\" 200 11853'),\n Row(value='slppp6.intermind.net - - [01/Aug/1995:00:00:11 -0400] \"GET /history/skylab/skylab-small.gif HTTP/1.0\" 200 9202')]"
     ]
    }
   ],
   "source": [
    "base_df.head(10)"
   ]
  },
  {
   "cell_type": "code",
   "execution_count": 0,
   "metadata": {
    "application/vnd.databricks.v1+cell": {
     "cellMetadata": {
      "byteLimit": 2048000,
      "rowLimit": 10000
     },
     "inputWidgets": {},
     "nuid": "326fc0a5-56d1-40e8-8711-e9dbfb403db4",
     "showTitle": false,
     "title": ""
    }
   },
   "outputs": [
    {
     "output_type": "stream",
     "name": "stdout",
     "output_type": "stream",
     "text": [
      "+--------------------+--------------------+------+--------------------+--------+------+------------+\n|                host|           timestamp|method|            endpoint|protocol|status|content_size|\n+--------------------+--------------------+------+--------------------+--------+------+------------+\n|   in24.inetnebr.com|01/Aug/1995:00:00...|   GET|/shuttle/missions...|HTTP/1.0|   200|        1839|\n|     uplherc.upl.com|01/Aug/1995:00:00...|   GET|                   /|HTTP/1.0|   304|           0|\n|     uplherc.upl.com|01/Aug/1995:00:00...|   GET|/images/ksclogo-m...|HTTP/1.0|   304|           0|\n|     uplherc.upl.com|01/Aug/1995:00:00...|   GET|/images/MOSAIC-lo...|HTTP/1.0|   304|           0|\n|     uplherc.upl.com|01/Aug/1995:00:00...|   GET|/images/USA-logos...|HTTP/1.0|   304|           0|\n|ix-esc-ca2-07.ix....|01/Aug/1995:00:00...|   GET|/images/launch-lo...|HTTP/1.0|   200|        1713|\n|     uplherc.upl.com|01/Aug/1995:00:00...|   GET|/images/WORLD-log...|HTTP/1.0|   304|           0|\n|slppp6.intermind.net|01/Aug/1995:00:00...|   GET|/history/skylab/s...|HTTP/1.0|   200|        1687|\n|piweba4y.prodigy.com|01/Aug/1995:00:00...|   GET|/images/launchmed...|HTTP/1.0|   200|       11853|\n|slppp6.intermind.net|01/Aug/1995:00:00...|   GET|/history/skylab/s...|HTTP/1.0|   200|        9202|\n+--------------------+--------------------+------+--------------------+--------+------+------------+\nonly showing top 10 rows\n\n(3461613, 7)\n"
     ]
    }
   ],
   "source": [
    "# TODO: Replace <FILL IN> with appropriate code\n",
    "\n",
    "logs_df = base_df.select(regexp_extract('value', host_pattern, 1).alias('host' ),\n",
    "                         regexp_extract('value', ts_pattern, 1).alias('timestamp'),\n",
    "                         regexp_extract('value', method_uri_protocol_pattern, 1).alias('method'),\n",
    "                         regexp_extract('value', method_uri_protocol_pattern, 2).alias('endpoint'),\n",
    "                         regexp_extract('value', method_uri_protocol_pattern, 3).alias('protocol'),\n",
    "                         regexp_extract('value', status_pattern, 1).alias('status'),\n",
    "                         regexp_extract('value', content_size_pattern, 1).alias('content_size')\n",
    "                         )\n",
    "logs_df.show(10, truncate=True)\n",
    "print((logs_df.count(), len(logs_df.columns)))"
   ]
  },
  {
   "cell_type": "code",
   "execution_count": 0,
   "metadata": {
    "application/vnd.databricks.v1+cell": {
     "cellMetadata": {
      "byteLimit": 2048000,
      "rowLimit": 10000
     },
     "inputWidgets": {},
     "nuid": "330aa910-3bc9-444b-a72f-eb169c892bf8",
     "showTitle": false,
     "title": ""
    }
   },
   "outputs": [
    {
     "output_type": "stream",
     "name": "stdout",
     "output_type": "stream",
     "text": [
      "Out[103]: ['host', 'timestamp', 'method', 'endpoint', 'protocol']"
     ]
    }
   ],
   "source": [
    "logs_df.columns"
   ]
  },
  {
   "cell_type": "code",
   "execution_count": 0,
   "metadata": {
    "application/vnd.databricks.v1+cell": {
     "cellMetadata": {
      "byteLimit": 2048000,
      "rowLimit": 10000
     },
     "inputWidgets": {},
     "nuid": "9790fcd0-3839-4522-980a-c68cbf231b1e",
     "showTitle": false,
     "title": ""
    }
   },
   "outputs": [],
   "source": [
    "# Add some nulls, I'm based on the workbook regexp_extact was supposed to make some nulls but didn't\n",
    "logs_df = logs_df.withColumn(\"host\", when(logs_df.host == \"\",None).otherwise(logs_df.host)) \\\n",
    "              .withColumn(\"timestamp\", when(logs_df.timestamp == \"\",None).otherwise(logs_df.timestamp)) \\\n",
    "              .withColumn(\"method\", when(logs_df.method == \"\",None).otherwise(logs_df.method)) \\\n",
    "              .withColumn(\"endpoint\", when(logs_df.endpoint == \"\",None).otherwise(logs_df.endpoint)) \\\n",
    "              .withColumn(\"protocol\", when(logs_df.protocol == \"\",None).otherwise(logs_df.protocol)) \\\n",
    "              .withColumn(\"status\", when(logs_df.status == \"\",None).otherwise(logs_df.status)) \\\n",
    "              .withColumn(\"content_size\", when(logs_df.content_size == \"\",None).otherwise(logs_df.content_size))"
   ]
  },
  {
   "cell_type": "code",
   "execution_count": 0,
   "metadata": {
    "application/vnd.databricks.v1+cell": {
     "cellMetadata": {
      "byteLimit": 2048000,
      "rowLimit": 10000
     },
     "inputWidgets": {},
     "nuid": "2c90fa7b-ca58-4d2f-b9d4-061bacf16638",
     "showTitle": false,
     "title": ""
    },
    "colab": {},
    "colab_type": "code",
    "id": "bM4iBWjRXvA-",
    "outputId": "b826a364-3709-4c6f-eb67-541e08c535ac"
   },
   "outputs": [
    {
     "output_type": "stream",
     "name": "stdout",
     "output_type": "stream",
     "text": [
      "+--------------------+--------------------+------+--------------------+--------+------+------------+\n|                host|           timestamp|method|            endpoint|protocol|status|content_size|\n+--------------------+--------------------+------+--------------------+--------+------+------------+\n|   in24.inetnebr.com|01/Aug/1995:00:00...|   GET|/shuttle/missions...|HTTP/1.0|   200|        1839|\n|     uplherc.upl.com|01/Aug/1995:00:00...|   GET|                   /|HTTP/1.0|   304|           0|\n|     uplherc.upl.com|01/Aug/1995:00:00...|   GET|/images/ksclogo-m...|HTTP/1.0|   304|           0|\n|     uplherc.upl.com|01/Aug/1995:00:00...|   GET|/images/MOSAIC-lo...|HTTP/1.0|   304|           0|\n|     uplherc.upl.com|01/Aug/1995:00:00...|   GET|/images/USA-logos...|HTTP/1.0|   304|           0|\n|ix-esc-ca2-07.ix....|01/Aug/1995:00:00...|   GET|/images/launch-lo...|HTTP/1.0|   200|        1713|\n|     uplherc.upl.com|01/Aug/1995:00:00...|   GET|/images/WORLD-log...|HTTP/1.0|   304|           0|\n|slppp6.intermind.net|01/Aug/1995:00:00...|   GET|/history/skylab/s...|HTTP/1.0|   200|        1687|\n|piweba4y.prodigy.com|01/Aug/1995:00:00...|   GET|/images/launchmed...|HTTP/1.0|   200|       11853|\n|slppp6.intermind.net|01/Aug/1995:00:00...|   GET|/history/skylab/s...|HTTP/1.0|   200|        9202|\n+--------------------+--------------------+------+--------------------+--------+------+------------+\nonly showing top 10 rows\n\n(3461613, 7)\n"
     ]
    }
   ],
   "source": [
    "# TODO: Replace <FILL IN> with appropriate code\n",
    "\n",
    "logs_df = base_df.select(regexp_extract('value', host_pattern, 1).alias('host'),\n",
    "                         regexp_extract('value', ts_pattern, 1).alias('timestamp'),\n",
    "                         regexp_extract('value', method_uri_protocol_pattern, 1).alias('method'),\n",
    "                         regexp_extract('value', method_uri_protocol_pattern, 2).alias('endpoint'),\n",
    "                         regexp_extract('value', method_uri_protocol_pattern, 3).alias('protocol'),\n",
    "                         regexp_extract('value', status_pattern, 1).alias('status'),\n",
    "                         regexp_extract('value', content_size_pattern, 1).alias('content_size')\n",
    "                         )\n",
    "logs_df.show(10, truncate=True)\n",
    "print((logs_df.count(), len(logs_df.columns)))\n"
   ]
  },
  {
   "cell_type": "markdown",
   "metadata": {
    "application/vnd.databricks.v1+cell": {
     "cellMetadata": {},
     "inputWidgets": {},
     "nuid": "49f72898-7523-4f19-a1df-be52da84be1f",
     "showTitle": false,
     "title": ""
    },
    "colab_type": "text",
    "id": "EgLGxYRYXvBB"
   },
   "source": [
    "## Finding Missing Values\n",
    "\n",
    "Missing and null values are the bane of data analysis and machine learning. Let's see how well our data parsing and extraction logic worked. First, let's verify that there are no null rows in the original dataframe."
   ]
  },
  {
   "cell_type": "code",
   "execution_count": 0,
   "metadata": {
    "application/vnd.databricks.v1+cell": {
     "cellMetadata": {
      "byteLimit": 2048000,
      "rowLimit": 10000
     },
     "inputWidgets": {},
     "nuid": "cba50050-9a7e-4bb0-b4c6-fa6ef214a1d6",
     "showTitle": false,
     "title": ""
    },
    "colab": {},
    "colab_type": "code",
    "id": "O4ppVUoJXvBC",
    "outputId": "18c683c1-5f0d-4f62-9545-e9bd27088c80"
   },
   "outputs": [
    {
     "output_type": "stream",
     "name": "stdout",
     "output_type": "stream",
     "text": [
      "Out[107]: 0"
     ]
    }
   ],
   "source": [
    "base_df.filter(base_df['value'].isNull()).count()"
   ]
  },
  {
   "cell_type": "markdown",
   "metadata": {
    "application/vnd.databricks.v1+cell": {
     "cellMetadata": {},
     "inputWidgets": {},
     "nuid": "29840673-a7fb-4f21-b33d-20ed7ea75be1",
     "showTitle": false,
     "title": ""
    },
    "colab_type": "text",
    "id": "7V0g6vHcXvBG"
   },
   "source": [
    "If our data parsing and extraction worked properly, we should not have any rows with potential null values. Let's try and put that to test!"
   ]
  },
  {
   "cell_type": "code",
   "execution_count": 0,
   "metadata": {
    "application/vnd.databricks.v1+cell": {
     "cellMetadata": {
      "byteLimit": 2048000,
      "rowLimit": 10000
     },
     "inputWidgets": {},
     "nuid": "ec67a2ff-d3dd-4a31-84f7-28dc488e97fa",
     "showTitle": false,
     "title": ""
    },
    "colab": {},
    "colab_type": "code",
    "id": "4NFuk6QTXvBH",
    "outputId": "a8238a74-51c8-48ac-fe83-b67f42d0a78c"
   },
   "outputs": [
    {
     "output_type": "stream",
     "name": "stdout",
     "output_type": "stream",
     "text": [
      "Out[108]: 47656"
     ]
    }
   ],
   "source": [
    "bad_rows_df = logs_df.filter(logs_df['host'].isNull()| \n",
    "                             logs_df['timestamp'].isNull() | \n",
    "                             logs_df['method'].isNull() |\n",
    "                             logs_df['endpoint'].isNull() |\n",
    "                             logs_df['status'].isNull() |\n",
    "                             logs_df['content_size'].isNull()|\n",
    "                             logs_df['protocol'].isNull())\n",
    "bad_rows_df.count()"
   ]
  },
  {
   "cell_type": "markdown",
   "metadata": {
    "application/vnd.databricks.v1+cell": {
     "cellMetadata": {},
     "inputWidgets": {},
     "nuid": "681ee8d2-d0d3-4189-9038-0faca5cd2e25",
     "showTitle": false,
     "title": ""
    },
    "colab_type": "text",
    "id": "CIqr5XvhXvBM"
   },
   "source": [
    "Ouch! Looks like we have over 30K missing values in our data! Can we handle this?"
   ]
  },
  {
   "cell_type": "markdown",
   "metadata": {
    "application/vnd.databricks.v1+cell": {
     "cellMetadata": {},
     "inputWidgets": {},
     "nuid": "b0de711e-3bf0-45e9-82e2-167ac0ea6e2d",
     "showTitle": false,
     "title": ""
    },
    "colab_type": "text",
    "id": "g8iWYrBoXvBN"
   },
   "source": [
    "Do remember, this is not a regular pandas dataframe which you can directly query and get which columns have null. Our so-called _big dataset_ is residing on disk which can potentially be present in multiple nodes in a spark cluster. So how do we find out which columns have potential nulls? \n",
    "\n",
    "### Finding Null Counts\n",
    "\n",
    "We can typically use the following technique to find out which columns have null values. \n",
    "\n",
    "(__Note:__ This approach is adapted from an [excellent answer](http://stackoverflow.com/a/33901312) on StackOverflow.)"
   ]
  },
  {
   "cell_type": "code",
   "execution_count": 0,
   "metadata": {
    "application/vnd.databricks.v1+cell": {
     "cellMetadata": {
      "byteLimit": 2048000,
      "rowLimit": 10000
     },
     "inputWidgets": {},
     "nuid": "6e19513d-4f08-4343-af22-2ad20cdacca0",
     "showTitle": false,
     "title": ""
    },
    "colab": {},
    "colab_type": "code",
    "id": "h0TWdnaPXvBP",
    "outputId": "8a7abfda-2629-4f36-cb9c-3e00a13efa83"
   },
   "outputs": [
    {
     "output_type": "stream",
     "name": "stdout",
     "output_type": "stream",
     "text": [
      "Out[109]: ['host',\n 'timestamp',\n 'method',\n 'endpoint',\n 'protocol',\n 'status',\n 'content_size']"
     ]
    }
   ],
   "source": [
    "logs_df.columns"
   ]
  },
  {
   "cell_type": "code",
   "execution_count": 0,
   "metadata": {
    "application/vnd.databricks.v1+cell": {
     "cellMetadata": {
      "byteLimit": 2048000,
      "rowLimit": 10000
     },
     "inputWidgets": {},
     "nuid": "26440000-776c-4ab0-92d7-c17ffb30d7d0",
     "showTitle": false,
     "title": ""
    },
    "colab": {},
    "colab_type": "code",
    "id": "LtNLdagZXvBT",
    "outputId": "e9fba1ca-d183-4728-9f7c-135ebcd78ec9"
   },
   "outputs": [
    {
     "output_type": "stream",
     "name": "stdout",
     "output_type": "stream",
     "text": [
      "+----+---------+------+--------+--------+------+------------+\n|host|timestamp|method|endpoint|protocol|status|content_size|\n+----+---------+------+--------+--------+------+------------+\n|7661|        1|  1754|    1754|    6600|     1|       33905|\n+----+---------+------+--------+--------+------+------------+\n\n"
     ]
    }
   ],
   "source": [
    "from pyspark.sql.functions import col\n",
    "from pyspark.sql.functions import sum as spark_sum\n",
    "\n",
    "def count_null(col_name):\n",
    "    return spark_sum(col(col_name).isNull().cast('integer')).alias(col_name)\n",
    "\n",
    "# Build up a list of column expressions, one per column.\n",
    "exprs = [count_null(col_name) for col_name in logs_df.columns]\n",
    "\n",
    "# Run the aggregation. The *exprs converts the list of expressions into\n",
    "# variable function arguments.\n",
    "logs_df.agg(*exprs).show()"
   ]
  },
  {
   "cell_type": "markdown",
   "metadata": {
    "application/vnd.databricks.v1+cell": {
     "cellMetadata": {},
     "inputWidgets": {},
     "nuid": "7195667a-30e4-4d7c-97b0-8a0673719803",
     "showTitle": false,
     "title": ""
    },
    "colab_type": "text",
    "id": "g5z_B22MXvBX"
   },
   "source": [
    "Well, looks like we have one missing value in the `status` column and everything else is in the `content_size` column. \n",
    "Let's see if we can figure out what's wrong!"
   ]
  },
  {
   "cell_type": "markdown",
   "metadata": {
    "application/vnd.databricks.v1+cell": {
     "cellMetadata": {},
     "inputWidgets": {},
     "nuid": "241e0053-b583-42ce-84f0-2680d5f0dd98",
     "showTitle": false,
     "title": ""
    },
    "colab_type": "text",
    "id": "jGoLzGeEXvBZ"
   },
   "source": [
    "### Handling nulls in HTTP status\n",
    "\n",
    "If you had solved it correctly, our original parsing regular expression for the `status` column was:\n",
    "\n",
    "```\n",
    "regexp_extract('value', r'\\s(\\d{3})\\s', 1).cast('integer').alias('status')\n",
    "``` \n",
    "\n",
    "Could it be that there are more digits making our regular expression wrong? or is the data point itself bad? Let's try and find out!\n",
    "\n",
    "**Note**: In the expression below, `~` means \"not\"."
   ]
  },
  {
   "cell_type": "code",
   "execution_count": 0,
   "metadata": {
    "application/vnd.databricks.v1+cell": {
     "cellMetadata": {
      "byteLimit": 2048000,
      "rowLimit": 10000
     },
     "inputWidgets": {},
     "nuid": "167b6e26-1fd4-4733-ae95-6a3c71dc84a2",
     "showTitle": false,
     "title": ""
    },
    "colab": {},
    "colab_type": "code",
    "id": "tscbB01GXvBb",
    "outputId": "97996e0a-5e21-441f-b742-3e898e691c43"
   },
   "outputs": [
    {
     "output_type": "stream",
     "name": "stdout",
     "output_type": "stream",
     "text": [
      "Out[112]: 1"
     ]
    }
   ],
   "source": [
    "null_status_df = base_df.filter(~base_df['value'].rlike(r'\\s(\\d{3})\\s'))\n",
    "null_status_df.count()"
   ]
  },
  {
   "cell_type": "code",
   "execution_count": 0,
   "metadata": {
    "application/vnd.databricks.v1+cell": {
     "cellMetadata": {
      "byteLimit": 2048000,
      "rowLimit": 10000
     },
     "inputWidgets": {},
     "nuid": "ecfdc20a-cd01-41ad-9e40-1d0f53f43d54",
     "showTitle": false,
     "title": ""
    },
    "colab": {},
    "colab_type": "code",
    "id": "KMRiPoTXXvBe",
    "outputId": "8bf8cf96-643f-42fd-c593-0dcadf950f74"
   },
   "outputs": [
    {
     "output_type": "stream",
     "name": "stdout",
     "output_type": "stream",
     "text": [
      "+--------+\n|value   |\n+--------+\n|alyssa.p|\n+--------+\n\n"
     ]
    }
   ],
   "source": [
    "null_status_df.show(truncate=False)"
   ]
  },
  {
   "cell_type": "code",
   "execution_count": 0,
   "metadata": {
    "application/vnd.databricks.v1+cell": {
     "cellMetadata": {
      "byteLimit": 2048000,
      "rowLimit": 10000
     },
     "inputWidgets": {},
     "nuid": "1491b564-81db-4bff-8866-6d36300542c2",
     "showTitle": false,
     "title": ""
    },
    "colab": {},
    "colab_type": "code",
    "id": "-ec9HtGwXvBh",
    "outputId": "9bc09049-3dff-4b65-8fec-5b7edf2cda39"
   },
   "outputs": [
    {
     "output_type": "stream",
     "name": "stdout",
     "output_type": "stream",
     "text": [
      "+----+---------+------+--------+--------+------+------------+\n|host|timestamp|method|endpoint|protocol|status|content_size|\n+----+---------+------+--------+--------+------+------------+\n|    |         |      |        |        |null  |null        |\n+----+---------+------+--------+--------+------+------------+\n\n"
     ]
    }
   ],
   "source": [
    "bad_status_df = null_status_df.select(regexp_extract('value', host_pattern, 1).alias('host'),\n",
    "                                      regexp_extract('value', ts_pattern, 1).alias('timestamp'),\n",
    "                                      regexp_extract('value', method_uri_protocol_pattern, 1).alias('method'),\n",
    "                                      regexp_extract('value', method_uri_protocol_pattern, 2).alias('endpoint'),\n",
    "                                      regexp_extract('value', method_uri_protocol_pattern, 3).alias('protocol'),\n",
    "                                      regexp_extract('value', status_pattern, 1).cast('integer').alias('status'),\n",
    "                                      regexp_extract('value', content_size_pattern, 1).cast('integer').alias('content_size'))\n",
    "bad_status_df.show(truncate=False)"
   ]
  },
  {
   "cell_type": "markdown",
   "metadata": {
    "application/vnd.databricks.v1+cell": {
     "cellMetadata": {},
     "inputWidgets": {},
     "nuid": "dcc28064-a9b7-45cf-bd2b-498864f68f19",
     "showTitle": false,
     "title": ""
    },
    "colab_type": "text",
    "id": "wS7tZXIUXvBk"
   },
   "source": [
    "Looks like the record itself is an incomplete record with no useful information, the best option would be to drop this record as follows!"
   ]
  },
  {
   "cell_type": "code",
   "execution_count": 0,
   "metadata": {
    "application/vnd.databricks.v1+cell": {
     "cellMetadata": {
      "byteLimit": 2048000,
      "rowLimit": 10000
     },
     "inputWidgets": {},
     "nuid": "339f869b-b401-4b19-8587-98bb204692c2",
     "showTitle": false,
     "title": ""
    },
    "colab": {},
    "colab_type": "code",
    "id": "RQogALLJXvBo",
    "outputId": "41034dca-c862-48e7-9a3d-548738bebbff"
   },
   "outputs": [
    {
     "output_type": "stream",
     "name": "stdout",
     "output_type": "stream",
     "text": [
      "Out[116]: 3461613"
     ]
    }
   ],
   "source": [
    "logs_df.count()"
   ]
  },
  {
   "cell_type": "code",
   "execution_count": 0,
   "metadata": {
    "application/vnd.databricks.v1+cell": {
     "cellMetadata": {
      "byteLimit": 2048000,
      "rowLimit": 10000
     },
     "inputWidgets": {},
     "nuid": "2c03334e-571f-4b87-863e-0fd8ccf7a715",
     "showTitle": false,
     "title": ""
    }
   },
   "outputs": [
    {
     "output_type": "stream",
     "name": "stdout",
     "output_type": "stream",
     "text": [
      "Out[118]: 3461612"
     ]
    }
   ],
   "source": [
    "logs_df = logs_df[logs_df['status'].isNotNull()]\n",
    "logs_df.count()"
   ]
  },
  {
   "cell_type": "code",
   "execution_count": 0,
   "metadata": {
    "application/vnd.databricks.v1+cell": {
     "cellMetadata": {
      "byteLimit": 2048000,
      "rowLimit": 10000
     },
     "inputWidgets": {},
     "nuid": "77a4d439-a543-4416-8a82-6de53d9d4b2e",
     "showTitle": false,
     "title": ""
    },
    "colab": {},
    "colab_type": "code",
    "id": "_rHsvCeeXvBs",
    "outputId": "a58d88c2-94cc-4c58-bf1f-bf12abc0e822"
   },
   "outputs": [
    {
     "output_type": "stream",
     "name": "stdout",
     "output_type": "stream",
     "text": [
      "+----+---------+------+--------+--------+------+------------+\n|host|timestamp|method|endpoint|protocol|status|content_size|\n+----+---------+------+--------+--------+------+------------+\n|7660|        0|  1753|    1753|    6599|     0|       33904|\n+----+---------+------+--------+--------+------+------------+\n\n"
     ]
    }
   ],
   "source": [
    "exprs = [count_null(col_name) for col_name in logs_df.columns]\n",
    "logs_df.agg(*exprs).show()"
   ]
  },
  {
   "cell_type": "markdown",
   "metadata": {
    "application/vnd.databricks.v1+cell": {
     "cellMetadata": {},
     "inputWidgets": {},
     "nuid": "d25ffdbf-67a1-43ab-ba0f-6888e3616489",
     "showTitle": false,
     "title": ""
    },
    "colab_type": "text",
    "id": "8k4-PjEFXvBv"
   },
   "source": [
    "### Handling nulls in HTTP content size\n",
    "\n",
    "Again based on our previous regular expression and assuming you were able to solve it correctly, our original parsing regular expression for the `content_size` column was:\n",
    "\n",
    "```\n",
    "regexp_extract('value', r'\\s(\\d+)$', 1).cast('integer').alias('content_size')\n",
    "``` \n",
    "\n",
    "Could there be missing data in our original dataset itself? Let's try and find out!"
   ]
  },
  {
   "cell_type": "markdown",
   "metadata": {
    "application/vnd.databricks.v1+cell": {
     "cellMetadata": {},
     "inputWidgets": {},
     "nuid": "5583fdc4-24f9-459f-88ab-52688b1ce5fa",
     "showTitle": false,
     "title": ""
    },
    "colab_type": "text",
    "id": "MMjHfm1aXvBw"
   },
   "source": [
    "### Q2: Your Turn: Find out the records in our base data frame with potential missing content sizes\n",
    "\n",
    "- Use the `r'\\s\\d+$'` regex pattern with the `rlike()` function like we demonstrated in the previous example\n",
    "- Remember to work on `base_df` since we are searching on the raw records NOT the parsed `logs_df`\n",
    "- Find the total count of the records with missing content size in `base_df` using the `count()` function"
   ]
  },
  {
   "cell_type": "code",
   "execution_count": 0,
   "metadata": {
    "application/vnd.databricks.v1+cell": {
     "cellMetadata": {
      "byteLimit": 2048000,
      "rowLimit": 10000
     },
     "inputWidgets": {},
     "nuid": "2fd5467a-2716-4585-8952-c871d3688c76",
     "showTitle": false,
     "title": ""
    },
    "colab": {},
    "colab_type": "code",
    "id": "ki7G6daTXvBx",
    "outputId": "8a7230f3-f87b-4681-fcfc-b5d9503a441d"
   },
   "outputs": [
    {
     "output_type": "stream",
     "name": "stdout",
     "output_type": "stream",
     "text": [
      "Out[122]: 33905"
     ]
    }
   ],
   "source": [
    "# TODO: Replace <FILL IN> with appropriate code\n",
    "\n",
    "null_content_size_df = base_df.filter(~base_df['value'].rlike(r'\\s\\d+$'))\n",
    "null_content_size_df.count()"
   ]
  },
  {
   "cell_type": "markdown",
   "metadata": {
    "application/vnd.databricks.v1+cell": {
     "cellMetadata": {},
     "inputWidgets": {},
     "nuid": "0ef5189f-442b-4472-ab22-8e1bb50bb888",
     "showTitle": false,
     "title": ""
    },
    "colab_type": "text",
    "id": "6te6fSfCXvB0"
   },
   "source": [
    "### Q3: Your Turn: Display the top ten records of your data frame having missing content sizes"
   ]
  },
  {
   "cell_type": "code",
   "execution_count": 0,
   "metadata": {
    "application/vnd.databricks.v1+cell": {
     "cellMetadata": {
      "byteLimit": 2048000,
      "rowLimit": 10000
     },
     "inputWidgets": {},
     "nuid": "7e0d0b96-9eb4-449c-9049-d188910c08ba",
     "showTitle": false,
     "title": ""
    },
    "colab": {},
    "colab_type": "code",
    "id": "P1vwVWX4XvB1",
    "outputId": "c11b52c6-ed73-421f-8988-8eb6296c7e7a"
   },
   "outputs": [
    {
     "output_type": "stream",
     "name": "stdout",
     "output_type": "stream",
     "text": [
      "Out[124]: [Row(value='gw1.att.com - - [01/Aug/1995:00:03:53 -0400] \"GET /shuttle/missions/sts-73/news HTTP/1.0\" 302 -'),\n Row(value='js002.cc.utsunomiya-u.ac.jp - - [01/Aug/1995:00:07:33 -0400] \"GET /shuttle/resources/orbiters/discovery.gif HTTP/1.0\" 404 -'),\n Row(value='tia1.eskimo.com - - [01/Aug/1995:00:28:41 -0400] \"GET /pub/winvn/release.txt HTTP/1.0\" 404 -'),\n Row(value='itws.info.eng.niigata-u.ac.jp - - [01/Aug/1995:00:38:01 -0400] \"GET /ksc.html/facts/about_ksc.html HTTP/1.0\" 403 -'),\n Row(value='grimnet23.idirect.com - - [01/Aug/1995:00:50:12 -0400] \"GET /www/software/winvn/winvn.html HTTP/1.0\" 404 -'),\n Row(value='miriworld.its.unimelb.edu.au - - [01/Aug/1995:01:04:54 -0400] \"GET /history/history.htm HTTP/1.0\" 404 -'),\n Row(value='ras38.srv.net - - [01/Aug/1995:01:05:14 -0400] \"GET /elv/DELTA/uncons.htm HTTP/1.0\" 404 -'),\n Row(value='cs1-06.leh.ptd.net - - [01/Aug/1995:01:17:38 -0400] \"GET /sts-71/launch/\" 404 -'),\n Row(value='www-b2.proxy.aol.com - - [01/Aug/1995:01:22:07 -0400] \"GET /shuttle/countdown HTTP/1.0\" 302 -'),\n Row(value='maui56.maui.net - - [01/Aug/1995:01:31:56 -0400] \"GET /shuttle HTTP/1.0\" 302 -')]"
     ]
    }
   ],
   "source": [
    "# TODO: Replace <FILL IN> with appropriate code\n",
    "\n",
    "null_content_size_df.head(10)"
   ]
  },
  {
   "cell_type": "markdown",
   "metadata": {
    "application/vnd.databricks.v1+cell": {
     "cellMetadata": {},
     "inputWidgets": {},
     "nuid": "eedb8afc-3bdc-4cf6-938b-0a5984361819",
     "showTitle": false,
     "title": ""
    },
    "colab_type": "text",
    "id": "Rl3J6c5sXvB8"
   },
   "source": [
    "Assuming you were able to get to the missing records above, it is quite evident that the bad raw data records correspond to error responses, where no content was sent back and the server emitted a \"`-`\" for the `content_size` field. \n",
    "\n",
    "Since we don't want to discard those rows from our analysis, let's impute or fill them to 0."
   ]
  },
  {
   "cell_type": "markdown",
   "metadata": {
    "application/vnd.databricks.v1+cell": {
     "cellMetadata": {},
     "inputWidgets": {},
     "nuid": "fdaa930d-b927-478d-9d18-007250daa438",
     "showTitle": false,
     "title": ""
    },
    "colab_type": "text",
    "id": "2y3iD47fXvCB"
   },
   "source": [
    "### Q4: Your Turn: Fix the rows with null content\\_size\n",
    "\n",
    "The easiest solution is to replace the null values in `logs_df` with 0 like we discussed earlier. The Spark DataFrame API provides a set of functions and fields specifically designed for working with null values, among them:\n",
    "\n",
    "* [fillna()](http://spark.apache.org/docs/latest/api/python/pyspark.sql.html#pyspark.sql.DataFrame.fillna), which fills null values with specified non-null values.\n",
    "* [na](http://spark.apache.org/docs/latest/api/python/pyspark.sql.html#pyspark.sql.DataFrame.na), which returns a [DataFrameNaFunctions](http://spark.apache.org/docs/latest/api/python/pyspark.sql.html#pyspark.sql.DataFrameNaFunctions) object with many functions for operating on null columns.\n",
    "\n",
    "There are several ways to invoke this function. The easiest is just to replace _all_ null columns with known values. But, for safety, it's better to pass a Python dictionary containing (column\\_name, value) mappings. That's what we'll do. A sample example from the documentation is depicted below\n",
    "\n",
    "```\n",
    ">>> df4.na.fill({'age': 50, 'name': 'unknown'}).show()\n",
    "+---+------+-------+\n",
    "|age|height|   name|\n",
    "+---+------+-------+\n",
    "| 10|    80|  Alice|\n",
    "|  5|  null|    Bob|\n",
    "| 50|  null|    Tom|\n",
    "| 50|  null|unknown|\n",
    "+---+------+-------+\n",
    "```\n",
    "\n",
    "Now use this function and fill all the missing values in the `content_size` field with 0!"
   ]
  },
  {
   "cell_type": "code",
   "execution_count": 0,
   "metadata": {
    "application/vnd.databricks.v1+cell": {
     "cellMetadata": {
      "byteLimit": 2048000,
      "rowLimit": 10000
     },
     "inputWidgets": {},
     "nuid": "79ec64e9-9e2c-4c16-b70d-730f7312acbd",
     "showTitle": false,
     "title": ""
    }
   },
   "outputs": [
    {
     "output_type": "stream",
     "name": "stdout",
     "output_type": "stream",
     "text": [
      "+----+---------+------+--------+--------+------+------------+\n|host|timestamp|method|endpoint|protocol|status|content_size|\n+----+---------+------+--------+--------+------+------------+\n|7660|        0|  1753|    1753|    6599|     0|           0|\n+----+---------+------+--------+--------+------+------------+\n\n"
     ]
    }
   ],
   "source": [
    "#Check for nulls (before)\n",
    "exprs = [count_null(col_name) for col_name in logs_df.columns]\n",
    "logs_df.agg(*exprs).show()"
   ]
  },
  {
   "cell_type": "code",
   "execution_count": 0,
   "metadata": {
    "application/vnd.databricks.v1+cell": {
     "cellMetadata": {
      "byteLimit": 2048000,
      "rowLimit": 10000
     },
     "inputWidgets": {},
     "nuid": "09322754-1c54-491b-90d9-bd3753f9bf17",
     "showTitle": false,
     "title": ""
    },
    "colab": {},
    "colab_type": "code",
    "collapsed": true,
    "id": "_2w5KTE0XvCC",
    "outputId": "df4d371c-1376-4616-e2c7-9e35ddccf80e"
   },
   "outputs": [],
   "source": [
    "# TODO: Replace <FILL IN> with appropriate code\n",
    "\n",
    "logs_df = logs_df.na.fill(\n",
    "    {\n",
    "        'content_size':0,\n",
    "        'host':'Unknown Host',\n",
    "        'method': 'Unknown Method',\n",
    "        'endpoint': 'Unknown Endpoint',\n",
    "        'protocol': 'Unknown Protocol'\n",
    "     })"
   ]
  },
  {
   "cell_type": "markdown",
   "metadata": {
    "application/vnd.databricks.v1+cell": {
     "cellMetadata": {},
     "inputWidgets": {},
     "nuid": "b63bc7d2-de8e-4197-9c5b-5a672d557488",
     "showTitle": false,
     "title": ""
    },
    "colab_type": "text",
    "id": "zdjkzs6UXvCJ"
   },
   "source": [
    "Now assuming you were able to fill in the missing values successfully in the previous question, we should have no missing values \\ nulls in our dataset. Let's verify this!"
   ]
  },
  {
   "cell_type": "code",
   "execution_count": 0,
   "metadata": {
    "application/vnd.databricks.v1+cell": {
     "cellMetadata": {
      "byteLimit": 2048000,
      "rowLimit": 10000
     },
     "inputWidgets": {},
     "nuid": "9bae1a61-75e0-42ea-89a1-f1931af8b401",
     "showTitle": false,
     "title": ""
    },
    "colab": {},
    "colab_type": "code",
    "id": "wDaLqVZOXvCK",
    "outputId": "a3097bef-1d37-4213-a6e8-a52b08c27947"
   },
   "outputs": [
    {
     "output_type": "stream",
     "name": "stdout",
     "output_type": "stream",
     "text": [
      "+----+---------+------+--------+--------+------+------------+\n|host|timestamp|method|endpoint|protocol|status|content_size|\n+----+---------+------+--------+--------+------+------------+\n|   0|        0|     0|       0|       0|     0|           0|\n+----+---------+------+--------+--------+------+------------+\n\n"
     ]
    }
   ],
   "source": [
    "exprs = [count_null(col_name) for col_name in logs_df.columns]\n",
    "logs_df.agg(*exprs).show()"
   ]
  },
  {
   "cell_type": "markdown",
   "metadata": {
    "application/vnd.databricks.v1+cell": {
     "cellMetadata": {},
     "inputWidgets": {},
     "nuid": "0bbb6311-8c01-497c-88bb-2b4d90255273",
     "showTitle": false,
     "title": ""
    },
    "colab_type": "text",
    "id": "Bjr1f1m2XvCN"
   },
   "source": [
    "Look at that, no missing values!"
   ]
  },
  {
   "cell_type": "markdown",
   "metadata": {
    "application/vnd.databricks.v1+cell": {
     "cellMetadata": {},
     "inputWidgets": {},
     "nuid": "f4667f2e-116d-431a-882d-0eff38c94aac",
     "showTitle": false,
     "title": ""
    },
    "colab_type": "text",
    "id": "UFtYMGZhXvCN"
   },
   "source": [
    "## Handling Temporal Fields (Timestamp)\n",
    "\n",
    "Now that we have a clean, parsed DataFrame, we have to parse the timestamp field into an actual timestamp. The Common Log Format time is somewhat non-standard. A User-Defined Function (UDF) is the most straightforward way to parse it."
   ]
  },
  {
   "cell_type": "code",
   "execution_count": 0,
   "metadata": {
    "application/vnd.databricks.v1+cell": {
     "cellMetadata": {
      "byteLimit": 2048000,
      "rowLimit": 10000
     },
     "inputWidgets": {},
     "nuid": "de70d82b-14c6-4b05-9c45-56c4a03f5d73",
     "showTitle": false,
     "title": ""
    },
    "colab": {},
    "colab_type": "code",
    "id": "k5t5VysnXvCS",
    "outputId": "bebe2bb0-65ec-4d43-dbc9-24cda3c32de0"
   },
   "outputs": [],
   "source": [
    "from pyspark.sql.functions import udf\n",
    "\n",
    "month_map = {\n",
    "  'Jan': 1, 'Feb': 2, 'Mar':3, 'Apr':4, 'May':5, 'Jun':6, 'Jul':7,\n",
    "  'Aug':8,  'Sep': 9, 'Oct':10, 'Nov': 11, 'Dec': 12\n",
    "}\n",
    "\n",
    "def parse_clf_time(text):\n",
    "    \"\"\" Convert Common Log time format into a Python datetime object\n",
    "    Args:\n",
    "        text (str): date and time in Apache time format [dd/mmm/yyyy:hh:mm:ss (+/-)zzzz]\n",
    "    Returns:\n",
    "        a string suitable for passing to CAST('timestamp')\n",
    "    \"\"\"\n",
    "    # NOTE: We're ignoring time zone here. In a production application, you'd want to handle that.\n",
    "    return \"{0:04d}-{1:02d}-{2:02d} {3:02d}:{4:02d}:{5:02d}\".format(\n",
    "      int(text[7:11]),\n",
    "      month_map[text[3:6]],\n",
    "      int(text[0:2]),\n",
    "      int(text[12:14]),\n",
    "      int(text[15:17]),\n",
    "      int(text[18:20])\n",
    "    )"
   ]
  },
  {
   "cell_type": "code",
   "execution_count": 0,
   "metadata": {
    "application/vnd.databricks.v1+cell": {
     "cellMetadata": {
      "byteLimit": 2048000,
      "rowLimit": 10000
     },
     "inputWidgets": {},
     "nuid": "b4d167b7-126e-45fc-81b7-61b6a7e64a57",
     "showTitle": false,
     "title": ""
    },
    "colab": {},
    "colab_type": "code",
    "id": "RLJHPXHwXvCW",
    "outputId": "2e58d673-3c1b-45fa-f283-886c698cfc6d"
   },
   "outputs": [
    {
     "output_type": "stream",
     "name": "stdout",
     "output_type": "stream",
     "text": [
      "Out[131]: ['01/Aug/1995:00:00:01 -0400',\n '01/Aug/1995:00:00:07 -0400',\n '01/Aug/1995:00:00:08 -0400',\n '01/Aug/1995:00:00:08 -0400',\n '01/Aug/1995:00:00:08 -0400']"
     ]
    }
   ],
   "source": [
    "sample_ts = [item['timestamp'] for item in logs_df.select('timestamp').take(5)]\n",
    "sample_ts"
   ]
  },
  {
   "cell_type": "code",
   "execution_count": 0,
   "metadata": {
    "application/vnd.databricks.v1+cell": {
     "cellMetadata": {
      "byteLimit": 2048000,
      "rowLimit": 10000
     },
     "inputWidgets": {},
     "nuid": "6667e883-b4d0-46f3-b2d7-710c8ac24d22",
     "showTitle": false,
     "title": ""
    },
    "colab": {},
    "colab_type": "code",
    "id": "0K5Yd1Z2XvCY",
    "outputId": "6108f5bb-bbd8-4c11-f9e4-efc491c543e0"
   },
   "outputs": [
    {
     "output_type": "stream",
     "name": "stdout",
     "output_type": "stream",
     "text": [
      "Out[132]: ['1995-08-01 00:00:01',\n '1995-08-01 00:00:07',\n '1995-08-01 00:00:08',\n '1995-08-01 00:00:08',\n '1995-08-01 00:00:08']"
     ]
    }
   ],
   "source": [
    "[parse_clf_time(item) for item in sample_ts]"
   ]
  },
  {
   "cell_type": "code",
   "execution_count": 0,
   "metadata": {
    "application/vnd.databricks.v1+cell": {
     "cellMetadata": {
      "byteLimit": 2048000,
      "rowLimit": 10000
     },
     "inputWidgets": {},
     "nuid": "24235699-eb8a-46d9-ae62-e73109328be9",
     "showTitle": false,
     "title": ""
    },
    "colab": {},
    "colab_type": "code",
    "id": "WBbQ_QNsXvCb",
    "outputId": "b1e05731-4bff-410d-8c6f-d1637fd0f0a7"
   },
   "outputs": [
    {
     "output_type": "stream",
     "name": "stdout",
     "output_type": "stream",
     "text": [
      "+--------------------+------+--------------------+--------+------+------------+-------------------+\n|                host|method|            endpoint|protocol|status|content_size|               time|\n+--------------------+------+--------------------+--------+------+------------+-------------------+\n|   in24.inetnebr.com|   GET|/shuttle/missions...|HTTP/1.0|   200|        1839|1995-08-01 00:00:01|\n|     uplherc.upl.com|   GET|                   /|HTTP/1.0|   304|           0|1995-08-01 00:00:07|\n|     uplherc.upl.com|   GET|/images/ksclogo-m...|HTTP/1.0|   304|           0|1995-08-01 00:00:08|\n|     uplherc.upl.com|   GET|/images/MOSAIC-lo...|HTTP/1.0|   304|           0|1995-08-01 00:00:08|\n|     uplherc.upl.com|   GET|/images/USA-logos...|HTTP/1.0|   304|           0|1995-08-01 00:00:08|\n|ix-esc-ca2-07.ix....|   GET|/images/launch-lo...|HTTP/1.0|   200|        1713|1995-08-01 00:00:09|\n|     uplherc.upl.com|   GET|/images/WORLD-log...|HTTP/1.0|   304|           0|1995-08-01 00:00:10|\n|slppp6.intermind.net|   GET|/history/skylab/s...|HTTP/1.0|   200|        1687|1995-08-01 00:00:10|\n|piweba4y.prodigy.com|   GET|/images/launchmed...|HTTP/1.0|   200|       11853|1995-08-01 00:00:10|\n|slppp6.intermind.net|   GET|/history/skylab/s...|HTTP/1.0|   200|        9202|1995-08-01 00:00:11|\n+--------------------+------+--------------------+--------+------+------------+-------------------+\nonly showing top 10 rows\n\n"
     ]
    }
   ],
   "source": [
    "udf_parse_time = udf(parse_clf_time)\n",
    "\n",
    "logs_df = logs_df.select('*', udf_parse_time(logs_df['timestamp']).cast('timestamp').alias('time')).drop('timestamp')\n",
    "logs_df.show(10, truncate=True)"
   ]
  },
  {
   "cell_type": "code",
   "execution_count": 0,
   "metadata": {
    "application/vnd.databricks.v1+cell": {
     "cellMetadata": {
      "byteLimit": 2048000,
      "rowLimit": 10000
     },
     "inputWidgets": {},
     "nuid": "29ba81c4-6d11-473f-8497-f1bb445d2d43",
     "showTitle": false,
     "title": ""
    },
    "colab": {},
    "colab_type": "code",
    "id": "9Yy-eIDtXvCi",
    "outputId": "913a1185-f22d-4ac9-856b-d31db17eca28"
   },
   "outputs": [
    {
     "output_type": "stream",
     "name": "stdout",
     "output_type": "stream",
     "text": [
      "root\n |-- host: string (nullable = false)\n |-- method: string (nullable = false)\n |-- endpoint: string (nullable = false)\n |-- protocol: string (nullable = false)\n |-- status: string (nullable = true)\n |-- content_size: string (nullable = false)\n |-- time: timestamp (nullable = true)\n\n"
     ]
    }
   ],
   "source": [
    "logs_df.printSchema()"
   ]
  },
  {
   "cell_type": "code",
   "execution_count": 0,
   "metadata": {
    "application/vnd.databricks.v1+cell": {
     "cellMetadata": {},
     "inputWidgets": {},
     "nuid": "f2db5b52-9bc9-48c0-8810-82f8eb802e2d",
     "showTitle": false,
     "title": ""
    },
    "colab": {},
    "colab_type": "code",
    "id": "wfMB_2JvXvCk",
    "outputId": "dfb9673b-af0c-4232-d28f-674fa1662ac0"
   },
   "outputs": [
    {
     "output_type": "display_data",
     "data": {
      "text/html": [
       "<div>\n",
       "<style scoped>\n",
       "    .dataframe tbody tr th:only-of-type {\n",
       "        vertical-align: middle;\n",
       "    }\n",
       "\n",
       "    .dataframe tbody tr th {\n",
       "        vertical-align: top;\n",
       "    }\n",
       "\n",
       "    .dataframe thead th {\n",
       "        text-align: right;\n",
       "    }\n",
       "</style>\n",
       "<table border=\"1\" class=\"dataframe\">\n",
       "  <thead>\n",
       "    <tr style=\"text-align: right;\">\n",
       "      <th></th>\n",
       "      <th>host</th>\n",
       "      <th>method</th>\n",
       "      <th>endpoint</th>\n",
       "      <th>protocol</th>\n",
       "      <th>status</th>\n",
       "      <th>content_size</th>\n",
       "      <th>time</th>\n",
       "    </tr>\n",
       "  </thead>\n",
       "  <tbody>\n",
       "    <tr>\n",
       "      <th>0</th>\n",
       "      <td>in24.inetnebr.com</td>\n",
       "      <td>GET</td>\n",
       "      <td>/shuttle/missions/sts-68/news/sts-68-mcc-05.txt</td>\n",
       "      <td>HTTP/1.0</td>\n",
       "      <td>200</td>\n",
       "      <td>1839</td>\n",
       "      <td>1995-08-01 00:00:01</td>\n",
       "    </tr>\n",
       "    <tr>\n",
       "      <th>1</th>\n",
       "      <td>uplherc.upl.com</td>\n",
       "      <td>GET</td>\n",
       "      <td>/</td>\n",
       "      <td>HTTP/1.0</td>\n",
       "      <td>304</td>\n",
       "      <td>0</td>\n",
       "      <td>1995-08-01 00:00:07</td>\n",
       "    </tr>\n",
       "    <tr>\n",
       "      <th>2</th>\n",
       "      <td>uplherc.upl.com</td>\n",
       "      <td>GET</td>\n",
       "      <td>/images/ksclogo-medium.gif</td>\n",
       "      <td>HTTP/1.0</td>\n",
       "      <td>304</td>\n",
       "      <td>0</td>\n",
       "      <td>1995-08-01 00:00:08</td>\n",
       "    </tr>\n",
       "    <tr>\n",
       "      <th>3</th>\n",
       "      <td>uplherc.upl.com</td>\n",
       "      <td>GET</td>\n",
       "      <td>/images/MOSAIC-logosmall.gif</td>\n",
       "      <td>HTTP/1.0</td>\n",
       "      <td>304</td>\n",
       "      <td>0</td>\n",
       "      <td>1995-08-01 00:00:08</td>\n",
       "    </tr>\n",
       "    <tr>\n",
       "      <th>4</th>\n",
       "      <td>uplherc.upl.com</td>\n",
       "      <td>GET</td>\n",
       "      <td>/images/USA-logosmall.gif</td>\n",
       "      <td>HTTP/1.0</td>\n",
       "      <td>304</td>\n",
       "      <td>0</td>\n",
       "      <td>1995-08-01 00:00:08</td>\n",
       "    </tr>\n",
       "  </tbody>\n",
       "</table>\n",
       "</div>"
      ]
     },
     "metadata": {},
     "output_type": "display_data"
    }
   ],
   "source": [
    "logs_df.limit(5).toPandas()"
   ]
  },
  {
   "cell_type": "markdown",
   "metadata": {
    "application/vnd.databricks.v1+cell": {
     "cellMetadata": {},
     "inputWidgets": {},
     "nuid": "815d7b49-840d-4de4-8fdb-f6579af9b4c3",
     "showTitle": false,
     "title": ""
    },
    "colab_type": "text",
    "id": "cn3ghlDsXvCp"
   },
   "source": [
    "Let's now cache `logs_df` since we will be using it extensively for our data analysis section in the next part!"
   ]
  },
  {
   "cell_type": "markdown",
   "metadata": {
    "application/vnd.databricks.v1+cell": {
     "cellMetadata": {},
     "inputWidgets": {},
     "nuid": "2d2b29c9-d172-4ef3-99be-4d02a4845f52",
     "showTitle": false,
     "title": ""
    },
    "colab_type": "text",
    "id": "1WTHkvANXvCq"
   },
   "source": [
    "# Step 2 - Exploratory Data Analysis on our Web Logs\n",
    "\n",
    "Now that we have a DataFrame containing the parsed log file as a data frame, we can perform some interesting exploratory data analysis (EDA)\n",
    "\n",
    "## Example: Content Size Statistics\n",
    "\n",
    "Let's compute some statistics about the sizes of content being returned by the web server. In particular, we'd like to know what are the average, minimum, and maximum content sizes.\n",
    "\n",
    "We can compute the statistics by calling `.describe()` on the `content_size` column of `logs_df`.  The `.describe()` function returns the count, mean, stddev, min, and max of a given column."
   ]
  },
  {
   "cell_type": "code",
   "execution_count": 0,
   "metadata": {
    "application/vnd.databricks.v1+cell": {
     "cellMetadata": {
      "byteLimit": 2048000,
      "rowLimit": 10000
     },
     "inputWidgets": {},
     "nuid": "90ad1b19-2ff3-49cb-bf26-ebd46d28336c",
     "showTitle": false,
     "title": ""
    },
    "colab": {},
    "colab_type": "code",
    "id": "FHkVy3ZXXvCr",
    "outputId": "cd083d90-c450-4d64-9d56-c8e1f5dd1eed"
   },
   "outputs": [
    {
     "output_type": "display_data",
     "data": {
      "text/html": [
       "<div>\n",
       "<style scoped>\n",
       "    .dataframe tbody tr th:only-of-type {\n",
       "        vertical-align: middle;\n",
       "    }\n",
       "\n",
       "    .dataframe tbody tr th {\n",
       "        vertical-align: top;\n",
       "    }\n",
       "\n",
       "    .dataframe thead th {\n",
       "        text-align: right;\n",
       "    }\n",
       "</style>\n",
       "<table border=\"1\" class=\"dataframe\">\n",
       "  <thead>\n",
       "    <tr style=\"text-align: right;\">\n",
       "      <th></th>\n",
       "      <th>summary</th>\n",
       "      <th>content_size</th>\n",
       "    </tr>\n",
       "  </thead>\n",
       "  <tbody>\n",
       "    <tr>\n",
       "      <th>0</th>\n",
       "      <td>count</td>\n",
       "      <td>3461612</td>\n",
       "    </tr>\n",
       "    <tr>\n",
       "      <th>1</th>\n",
       "      <td>mean</td>\n",
       "      <td>18928.844398216785</td>\n",
       "    </tr>\n",
       "    <tr>\n",
       "      <th>2</th>\n",
       "      <td>stddev</td>\n",
       "      <td>73031.47260949282</td>\n",
       "    </tr>\n",
       "    <tr>\n",
       "      <th>3</th>\n",
       "      <td>min</td>\n",
       "      <td>0</td>\n",
       "    </tr>\n",
       "    <tr>\n",
       "      <th>4</th>\n",
       "      <td>max</td>\n",
       "      <td>99981</td>\n",
       "    </tr>\n",
       "  </tbody>\n",
       "</table>\n",
       "</div>"
      ]
     },
     "metadata": {
      "application/vnd.databricks.v1+output": {
       "addedWidgets": {},
       "arguments": {},
       "data": "<div>\n<style scoped>\n    .dataframe tbody tr th:only-of-type {\n        vertical-align: middle;\n    }\n\n    .dataframe tbody tr th {\n        vertical-align: top;\n    }\n\n    .dataframe thead th {\n        text-align: right;\n    }\n</style>\n<table border=\"1\" class=\"dataframe\">\n  <thead>\n    <tr style=\"text-align: right;\">\n      <th></th>\n      <th>summary</th>\n      <th>content_size</th>\n    </tr>\n  </thead>\n  <tbody>\n    <tr>\n      <th>0</th>\n      <td>count</td>\n      <td>3461612</td>\n    </tr>\n    <tr>\n      <th>1</th>\n      <td>mean</td>\n      <td>18928.844398216785</td>\n    </tr>\n    <tr>\n      <th>2</th>\n      <td>stddev</td>\n      <td>73031.47260949282</td>\n    </tr>\n    <tr>\n      <th>3</th>\n      <td>min</td>\n      <td>0</td>\n    </tr>\n    <tr>\n      <th>4</th>\n      <td>max</td>\n      <td>99981</td>\n    </tr>\n  </tbody>\n</table>\n</div>",
       "datasetInfos": [],
       "metadata": {},
       "removedWidgets": [],
       "textData": null,
       "type": "htmlSandbox"
      }
     },
     "output_type": "display_data"
    }
   ],
   "source": [
    "content_size_summary_df = logs_df.describe(['content_size'])\n",
    "content_size_summary_df.toPandas()"
   ]
  },
  {
   "cell_type": "markdown",
   "metadata": {
    "application/vnd.databricks.v1+cell": {
     "cellMetadata": {},
     "inputWidgets": {},
     "nuid": "12c4b0a5-fd78-4ef2-b808-680d76eccd83",
     "showTitle": false,
     "title": ""
    },
    "colab_type": "text",
    "id": "fY1S9FPAXvCv"
   },
   "source": [
    "Alternatively, we can use SQL to directly calculate these statistics.  You can explore many useful functions within the `pyspark.sql.functions` module in the [documentation](https://spark.apache.org/docs/latest/api/python/pyspark.sql.html#module-pyspark.sql.functions).\n",
    "\n",
    "After we apply the `.agg()` function, we call `toPandas()` to extract and convert the result into a `pandas` dataframe which has better formatting on Jupyter notebooks"
   ]
  },
  {
   "cell_type": "code",
   "execution_count": 0,
   "metadata": {
    "application/vnd.databricks.v1+cell": {
     "cellMetadata": {
      "byteLimit": 2048000,
      "rowLimit": 10000
     },
     "inputWidgets": {},
     "nuid": "31bf8d7c-2213-4478-9901-ea4c210ec8a5",
     "showTitle": false,
     "title": ""
    },
    "colab": {},
    "colab_type": "code",
    "id": "nonAax8AXvCx",
    "outputId": "1a9a01ac-35f3-44ab-f105-5759f8f79b9a"
   },
   "outputs": [
    {
     "output_type": "display_data",
     "data": {
      "text/html": [
       "<div>\n",
       "<style scoped>\n",
       "    .dataframe tbody tr th:only-of-type {\n",
       "        vertical-align: middle;\n",
       "    }\n",
       "\n",
       "    .dataframe tbody tr th {\n",
       "        vertical-align: top;\n",
       "    }\n",
       "\n",
       "    .dataframe thead th {\n",
       "        text-align: right;\n",
       "    }\n",
       "</style>\n",
       "<table border=\"1\" class=\"dataframe\">\n",
       "  <thead>\n",
       "    <tr style=\"text-align: right;\">\n",
       "      <th></th>\n",
       "      <th>min_content_size</th>\n",
       "      <th>max_content_size</th>\n",
       "      <th>mean_content_size</th>\n",
       "      <th>std_content_size</th>\n",
       "      <th>count_content_size</th>\n",
       "    </tr>\n",
       "  </thead>\n",
       "  <tbody>\n",
       "    <tr>\n",
       "      <th>0</th>\n",
       "      <td>0</td>\n",
       "      <td>99981</td>\n",
       "      <td>18928.844398</td>\n",
       "      <td>73031.472609</td>\n",
       "      <td>3461612</td>\n",
       "    </tr>\n",
       "  </tbody>\n",
       "</table>\n",
       "</div>"
      ]
     },
     "metadata": {
      "application/vnd.databricks.v1+output": {
       "addedWidgets": {},
       "arguments": {},
       "data": "<div>\n<style scoped>\n    .dataframe tbody tr th:only-of-type {\n        vertical-align: middle;\n    }\n\n    .dataframe tbody tr th {\n        vertical-align: top;\n    }\n\n    .dataframe thead th {\n        text-align: right;\n    }\n</style>\n<table border=\"1\" class=\"dataframe\">\n  <thead>\n    <tr style=\"text-align: right;\">\n      <th></th>\n      <th>min_content_size</th>\n      <th>max_content_size</th>\n      <th>mean_content_size</th>\n      <th>std_content_size</th>\n      <th>count_content_size</th>\n    </tr>\n  </thead>\n  <tbody>\n    <tr>\n      <th>0</th>\n      <td>0</td>\n      <td>99981</td>\n      <td>18928.844398</td>\n      <td>73031.472609</td>\n      <td>3461612</td>\n    </tr>\n  </tbody>\n</table>\n</div>",
       "datasetInfos": [],
       "metadata": {},
       "removedWidgets": [],
       "textData": null,
       "type": "htmlSandbox"
      }
     },
     "output_type": "display_data"
    }
   ],
   "source": [
    "from pyspark.sql import functions as F\n",
    "\n",
    "(logs_df.agg(F.min(logs_df['content_size']).alias('min_content_size'),\n",
    "             F.max(logs_df['content_size']).alias('max_content_size'),\n",
    "             F.mean(logs_df['content_size']).alias('mean_content_size'),\n",
    "             F.stddev(logs_df['content_size']).alias('std_content_size'),\n",
    "             F.count(logs_df['content_size']).alias('count_content_size'))\n",
    "        .toPandas())"
   ]
  },
  {
   "cell_type": "markdown",
   "metadata": {
    "application/vnd.databricks.v1+cell": {
     "cellMetadata": {},
     "inputWidgets": {},
     "nuid": "ad504059-7cd5-4283-8ff5-afe450e87680",
     "showTitle": false,
     "title": ""
    },
    "colab_type": "text",
    "id": "8hat3HPwXvC0"
   },
   "source": [
    "## Example: HTTP Status Code Analysis\n",
    "\n",
    "Next, let's look at the status code values that appear in the log. We want to know which status code values appear in the data and how many times.  \n",
    "\n",
    "We again start with `logs_df`, then group by the `status` column, apply the `.count()` aggregation function, and sort by the `status` column."
   ]
  },
  {
   "cell_type": "code",
   "execution_count": 0,
   "metadata": {
    "application/vnd.databricks.v1+cell": {
     "cellMetadata": {
      "byteLimit": 2048000,
      "rowLimit": 10000
     },
     "inputWidgets": {},
     "nuid": "c9549ce0-a5f4-4466-aee0-61c4624d36cc",
     "showTitle": false,
     "title": ""
    },
    "colab": {},
    "colab_type": "code",
    "collapsed": true,
    "id": "jL-vEt0FXvC1",
    "outputId": "8ee8079f-8b03-4e70-8335-cbd7b2d0b1bc"
   },
   "outputs": [],
   "source": [
    "status_freq_df = (logs_df\n",
    "                     .groupBy('status')\n",
    "                     .count()\n",
    "                     .sort('status')\n",
    "                     .cache())"
   ]
  },
  {
   "cell_type": "code",
   "execution_count": 0,
   "metadata": {
    "application/vnd.databricks.v1+cell": {
     "cellMetadata": {
      "byteLimit": 2048000,
      "rowLimit": 10000
     },
     "inputWidgets": {},
     "nuid": "263fbf8d-205e-42a4-bb4f-6aee6174345c",
     "showTitle": false,
     "title": ""
    },
    "colab": {},
    "colab_type": "code",
    "id": "a0iPsCW2XvC3",
    "outputId": "64fbd3f8-cf08-4ca3-de33-32349d3d6597"
   },
   "outputs": [
    {
     "output_type": "stream",
     "name": "stdout",
     "output_type": "stream",
     "text": [
      "Total distinct HTTP Status Codes: 8\n"
     ]
    }
   ],
   "source": [
    "print('Total distinct HTTP Status Codes:', status_freq_df.count())"
   ]
  },
  {
   "cell_type": "code",
   "execution_count": 0,
   "metadata": {
    "application/vnd.databricks.v1+cell": {
     "cellMetadata": {
      "byteLimit": 2048000,
      "rowLimit": 10000
     },
     "inputWidgets": {},
     "nuid": "74ac5e07-226b-4179-bdb7-03a7af0bd3b1",
     "showTitle": false,
     "title": ""
    },
    "colab": {},
    "colab_type": "code",
    "id": "SZO7ncjdXvC6",
    "outputId": "0344aef8-367b-476b-fc2c-e6c1346d3da9"
   },
   "outputs": [
    {
     "output_type": "display_data",
     "data": {
      "text/html": [
       "<div>\n",
       "<style scoped>\n",
       "    .dataframe tbody tr th:only-of-type {\n",
       "        vertical-align: middle;\n",
       "    }\n",
       "\n",
       "    .dataframe tbody tr th {\n",
       "        vertical-align: top;\n",
       "    }\n",
       "\n",
       "    .dataframe thead th {\n",
       "        text-align: right;\n",
       "    }\n",
       "</style>\n",
       "<table border=\"1\" class=\"dataframe\">\n",
       "  <thead>\n",
       "    <tr style=\"text-align: right;\">\n",
       "      <th></th>\n",
       "      <th>status</th>\n",
       "      <th>count</th>\n",
       "    </tr>\n",
       "  </thead>\n",
       "  <tbody>\n",
       "    <tr>\n",
       "      <th>0</th>\n",
       "      <td>200</td>\n",
       "      <td>3100524</td>\n",
       "    </tr>\n",
       "    <tr>\n",
       "      <th>1</th>\n",
       "      <td>302</td>\n",
       "      <td>73070</td>\n",
       "    </tr>\n",
       "    <tr>\n",
       "      <th>2</th>\n",
       "      <td>304</td>\n",
       "      <td>266773</td>\n",
       "    </tr>\n",
       "    <tr>\n",
       "      <th>3</th>\n",
       "      <td>400</td>\n",
       "      <td>15</td>\n",
       "    </tr>\n",
       "    <tr>\n",
       "      <th>4</th>\n",
       "      <td>403</td>\n",
       "      <td>225</td>\n",
       "    </tr>\n",
       "    <tr>\n",
       "      <th>5</th>\n",
       "      <td>404</td>\n",
       "      <td>20899</td>\n",
       "    </tr>\n",
       "    <tr>\n",
       "      <th>6</th>\n",
       "      <td>500</td>\n",
       "      <td>65</td>\n",
       "    </tr>\n",
       "    <tr>\n",
       "      <th>7</th>\n",
       "      <td>501</td>\n",
       "      <td>41</td>\n",
       "    </tr>\n",
       "  </tbody>\n",
       "</table>\n",
       "</div>"
      ]
     },
     "metadata": {
      "application/vnd.databricks.v1+output": {
       "addedWidgets": {},
       "arguments": {},
       "data": "<div>\n<style scoped>\n    .dataframe tbody tr th:only-of-type {\n        vertical-align: middle;\n    }\n\n    .dataframe tbody tr th {\n        vertical-align: top;\n    }\n\n    .dataframe thead th {\n        text-align: right;\n    }\n</style>\n<table border=\"1\" class=\"dataframe\">\n  <thead>\n    <tr style=\"text-align: right;\">\n      <th></th>\n      <th>status</th>\n      <th>count</th>\n    </tr>\n  </thead>\n  <tbody>\n    <tr>\n      <th>0</th>\n      <td>200</td>\n      <td>3100524</td>\n    </tr>\n    <tr>\n      <th>1</th>\n      <td>302</td>\n      <td>73070</td>\n    </tr>\n    <tr>\n      <th>2</th>\n      <td>304</td>\n      <td>266773</td>\n    </tr>\n    <tr>\n      <th>3</th>\n      <td>400</td>\n      <td>15</td>\n    </tr>\n    <tr>\n      <th>4</th>\n      <td>403</td>\n      <td>225</td>\n    </tr>\n    <tr>\n      <th>5</th>\n      <td>404</td>\n      <td>20899</td>\n    </tr>\n    <tr>\n      <th>6</th>\n      <td>500</td>\n      <td>65</td>\n    </tr>\n    <tr>\n      <th>7</th>\n      <td>501</td>\n      <td>41</td>\n    </tr>\n  </tbody>\n</table>\n</div>",
       "datasetInfos": [],
       "metadata": {},
       "removedWidgets": [],
       "textData": null,
       "type": "htmlSandbox"
      }
     },
     "output_type": "display_data"
    }
   ],
   "source": [
    "status_freq_pd_df = status_freq_df.toPandas()\n",
    "status_freq_pd_df"
   ]
  },
  {
   "cell_type": "code",
   "execution_count": 0,
   "metadata": {
    "application/vnd.databricks.v1+cell": {
     "cellMetadata": {
      "byteLimit": 2048000,
      "rowLimit": 10000
     },
     "inputWidgets": {},
     "nuid": "00a02ec1-e383-4636-a642-84ab7ea7d4dc",
     "showTitle": false,
     "title": ""
    },
    "colab": {},
    "colab_type": "code",
    "id": "KXkKQA-WXvC8"
   },
   "outputs": [
    {
     "output_type": "stream",
     "name": "stdout",
     "output_type": "stream",
     "text": [
      "Out[140]: <AxesSubplot:xlabel='status'>"
     ]
    },
    {
     "output_type": "display_data",
     "data": {
      "image/png": "[encoded data removed]"
     },
     "metadata": {
      "application/vnd.databricks.v1+output": {
       "addedWidgets": {},
       "arguments": {},
       "data": "data:image/png;base64,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\n",
       "datasetInfos": [],
       "metadata": {},
       "removedWidgets": [],
       "type": "image"
      }
     },
     "output_type": "display_data"
    }
   ],
   "source": [
    "import matplotlib.pyplot as plt\n",
    "%matplotlib inline\n",
    "\n",
    "status_freq_pd_df.plot(x='status', y='count', kind='bar')"
   ]
  },
  {
   "cell_type": "code",
   "execution_count": 0,
   "metadata": {
    "application/vnd.databricks.v1+cell": {
     "cellMetadata": {
      "byteLimit": 2048000,
      "rowLimit": 10000
     },
     "inputWidgets": {},
     "nuid": "620ea4ec-536c-45d7-8d41-f1ff47d29dc8",
     "showTitle": false,
     "title": ""
    },
    "colab": {},
    "colab_type": "code",
    "id": "iabid8S6XvC_",
    "outputId": "31df7ac0-35f9-4f9e-f059-c4267865c9b6"
   },
   "outputs": [
    {
     "output_type": "stream",
     "name": "stdout",
     "output_type": "stream",
     "text": [
      "+------+-------+------------------+\n|status|  count|        log(count)|\n+------+-------+------------------+\n|   200|3100524|14.947081687429097|\n|   302|  73070|11.199173164785263|\n|   304| 266773|12.494153388502301|\n|   400|     15|  2.70805020110221|\n|   403|    225|  5.41610040220442|\n|   404|  20899| 9.947456589918252|\n|   500|     65| 4.174387269895637|\n|   501|     41| 3.713572066704308|\n+------+-------+------------------+\n\n"
     ]
    }
   ],
   "source": [
    "log_freq_df = status_freq_df.withColumn('log(count)', F.log(status_freq_df['count']))\n",
    "log_freq_df.show()"
   ]
  },
  {
   "cell_type": "markdown",
   "metadata": {
    "application/vnd.databricks.v1+cell": {
     "cellMetadata": {},
     "inputWidgets": {},
     "nuid": "66f858bb-cf97-48fb-8bb8-fd7744bb65bd",
     "showTitle": false,
     "title": ""
    },
    "colab_type": "text",
    "id": "CWcfTjlUXvDC"
   },
   "source": [
    "#### Q5: Your Turn: Convert the log\\_freq\\_df to a pandas DataFrame and plot a bar chart displaying counts of each HTTP Status Code"
   ]
  },
  {
   "cell_type": "code",
   "execution_count": 0,
   "metadata": {
    "application/vnd.databricks.v1+cell": {
     "cellMetadata": {
      "byteLimit": 2048000,
      "rowLimit": 10000
     },
     "inputWidgets": {},
     "nuid": "c5653e2f-4114-408a-9905-3a766dc58f34",
     "showTitle": false,
     "title": ""
    },
    "colab": {},
    "colab_type": "code",
    "id": "RWWwF5NcXvDD"
   },
   "outputs": [
    {
     "output_type": "stream",
     "name": "stdout",
     "output_type": "stream",
     "text": [
      "Out[143]: <AxesSubplot:xlabel='status'>"
     ]
    },
    {
     "output_type": "display_data",
     "data": {
      "image/png": "[encoded data removed]"
     },
     "metadata": {
      "application/vnd.databricks.v1+output": {
       "addedWidgets": {},
       "arguments": {},
       "data": "data:image/png;base64,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\n",
       "datasetInfos": [],
       "metadata": {},
       "removedWidgets": [],
       "type": "image"
      }
     },
     "output_type": "display_data"
    }
   ],
   "source": [
    "# TODO: Replace <FILL IN> with appropriate code\n",
    "log_freq_pd_df = log_freq_df.toPandas()\n",
    "log_freq_pd_df.plot(kind=\"bar\",x='status', y='count')"
   ]
  },
  {
   "cell_type": "markdown",
   "metadata": {
    "application/vnd.databricks.v1+cell": {
     "cellMetadata": {},
     "inputWidgets": {},
     "nuid": "ab0e0c92-699c-46a1-8874-7f3dab55679f",
     "showTitle": false,
     "title": ""
    },
    "colab_type": "text",
    "id": "k5oXMLxSXvDH"
   },
   "source": [
    "## Your Turn: Q6: Analyzing Frequent Hosts\n",
    "\n",
    "Let's look at hosts that have accessed the server frequently. Try to get the count of total accesses by each `host` and then sort by the counts and display only the top ten most frequent hosts.\n",
    "\n",
    "__Hints:__\n",
    "\n",
    "- Your Spark DataFrame has a `host` column\n",
    "- Get the counts per `host` which would make a `count` column\n",
    "- Sort by the counts. Please check [__the documentation__](https://spark.apache.org/docs/latest/api/python/pyspark.sql.html#pyspark.sql.DataFrame.sort) to see how to sort in reverse\n",
    "- Remember only to get the top 10 rows from the aggregated dataframe and show them"
   ]
  },
  {
   "cell_type": "code",
   "execution_count": 0,
   "metadata": {
    "application/vnd.databricks.v1+cell": {
     "cellMetadata": {
      "byteLimit": 2048000,
      "rowLimit": 10000
     },
     "inputWidgets": {},
     "nuid": "69094fc2-fd54-4f29-85fd-ff5d88a7826f",
     "showTitle": false,
     "title": ""
    },
    "colab": {},
    "colab_type": "code",
    "id": "eBBayokUXvDM",
    "outputId": "83a26ad7-21c2-4b15-b527-5de9ac5b8c5c"
   },
   "outputs": [
    {
     "output_type": "display_data",
     "data": {
      "text/html": [
       "<div>\n",
       "<style scoped>\n",
       "    .dataframe tbody tr th:only-of-type {\n",
       "        vertical-align: middle;\n",
       "    }\n",
       "\n",
       "    .dataframe tbody tr th {\n",
       "        vertical-align: top;\n",
       "    }\n",
       "\n",
       "    .dataframe thead th {\n",
       "        text-align: right;\n",
       "    }\n",
       "</style>\n",
       "<table border=\"1\" class=\"dataframe\">\n",
       "  <thead>\n",
       "    <tr style=\"text-align: right;\">\n",
       "      <th></th>\n",
       "      <th>host</th>\n",
       "      <th>count</th>\n",
       "    </tr>\n",
       "  </thead>\n",
       "  <tbody>\n",
       "    <tr>\n",
       "      <th>0</th>\n",
       "      <td>piweba3y.prodigy.com</td>\n",
       "      <td>21988</td>\n",
       "    </tr>\n",
       "    <tr>\n",
       "      <th>1</th>\n",
       "      <td>piweba4y.prodigy.com</td>\n",
       "      <td>16437</td>\n",
       "    </tr>\n",
       "    <tr>\n",
       "      <th>2</th>\n",
       "      <td>piweba1y.prodigy.com</td>\n",
       "      <td>12825</td>\n",
       "    </tr>\n",
       "    <tr>\n",
       "      <th>3</th>\n",
       "      <td>edams.ksc.nasa.gov</td>\n",
       "      <td>11964</td>\n",
       "    </tr>\n",
       "    <tr>\n",
       "      <th>4</th>\n",
       "      <td>163.206.89.4</td>\n",
       "      <td>9697</td>\n",
       "    </tr>\n",
       "    <tr>\n",
       "      <th>5</th>\n",
       "      <td>news.ti.com</td>\n",
       "      <td>8161</td>\n",
       "    </tr>\n",
       "    <tr>\n",
       "      <th>6</th>\n",
       "      <td>www-d1.proxy.aol.com</td>\n",
       "      <td>8047</td>\n",
       "    </tr>\n",
       "    <tr>\n",
       "      <th>7</th>\n",
       "      <td>alyssa.prodigy.com</td>\n",
       "      <td>8037</td>\n",
       "    </tr>\n",
       "    <tr>\n",
       "      <th>8</th>\n",
       "      <td>Unknown Host</td>\n",
       "      <td>7660</td>\n",
       "    </tr>\n",
       "    <tr>\n",
       "      <th>9</th>\n",
       "      <td>siltb10.orl.mmc.com</td>\n",
       "      <td>7573</td>\n",
       "    </tr>\n",
       "  </tbody>\n",
       "</table>\n",
       "</div>"
      ]
     },
     "metadata": {
      "application/vnd.databricks.v1+output": {
       "addedWidgets": {},
       "arguments": {},
       "data": "<div>\n<style scoped>\n    .dataframe tbody tr th:only-of-type {\n        vertical-align: middle;\n    }\n\n    .dataframe tbody tr th {\n        vertical-align: top;\n    }\n\n    .dataframe thead th {\n        text-align: right;\n    }\n</style>\n<table border=\"1\" class=\"dataframe\">\n  <thead>\n    <tr style=\"text-align: right;\">\n      <th></th>\n      <th>host</th>\n      <th>count</th>\n    </tr>\n  </thead>\n  <tbody>\n    <tr>\n      <th>0</th>\n      <td>piweba3y.prodigy.com</td>\n      <td>21988</td>\n    </tr>\n    <tr>\n      <th>1</th>\n      <td>piweba4y.prodigy.com</td>\n      <td>16437</td>\n    </tr>\n    <tr>\n      <th>2</th>\n      <td>piweba1y.prodigy.com</td>\n      <td>12825</td>\n    </tr>\n    <tr>\n      <th>3</th>\n      <td>edams.ksc.nasa.gov</td>\n      <td>11964</td>\n    </tr>\n    <tr>\n      <th>4</th>\n      <td>163.206.89.4</td>\n      <td>9697</td>\n    </tr>\n    <tr>\n      <th>5</th>\n      <td>news.ti.com</td>\n      <td>8161</td>\n    </tr>\n    <tr>\n      <th>6</th>\n      <td>www-d1.proxy.aol.com</td>\n      <td>8047</td>\n    </tr>\n    <tr>\n      <th>7</th>\n      <td>alyssa.prodigy.com</td>\n      <td>8037</td>\n    </tr>\n    <tr>\n      <th>8</th>\n      <td>Unknown Host</td>\n      <td>7660</td>\n    </tr>\n    <tr>\n      <th>9</th>\n      <td>siltb10.orl.mmc.com</td>\n      <td>7573</td>\n    </tr>\n  </tbody>\n</table>\n</div>",
       "datasetInfos": [],
       "metadata": {},
       "removedWidgets": [],
       "textData": null,
       "type": "htmlSandbox"
      }
     },
     "output_type": "display_data"
    }
   ],
   "source": [
    "# TODO: Replace <FILL IN> with appropriate code\n",
    "\n",
    "host_sum_df =(logs_df.groupBy('host')\n",
    "                     .count()\n",
    "                     .sort('count', ascending=False)\n",
    "                     .cache()\n",
    "                     )\n",
    "\n",
    "host_sum_df.limit(10).toPandas()"
   ]
  },
  {
   "cell_type": "code",
   "execution_count": 0,
   "metadata": {
    "application/vnd.databricks.v1+cell": {
     "cellMetadata": {
      "byteLimit": 2048000,
      "rowLimit": 10000
     },
     "inputWidgets": {},
     "nuid": "3afcd715-9812-422c-882f-9a9c36ea79bc",
     "showTitle": false,
     "title": ""
    },
    "colab": {},
    "colab_type": "code",
    "id": "1dv8Ny3iXvDQ",
    "outputId": "ea532f95-2ff4-4e36-abc5-36297902d8e6"
   },
   "outputs": [
    {
     "output_type": "stream",
     "name": "stdout",
     "output_type": "stream",
     "text": [
      "Out[152]: 'Unknown Host'"
     ]
    }
   ],
   "source": [
    "host_sum_pd_df = host_sum_df.toPandas()\n",
    "host_sum_pd_df.iloc[8]['host']"
   ]
  },
  {
   "cell_type": "markdown",
   "metadata": {
    "application/vnd.databricks.v1+cell": {
     "cellMetadata": {},
     "inputWidgets": {},
     "nuid": "f08d4661-eb05-4153-a1c1-137dc7fac285",
     "showTitle": false,
     "title": ""
    },
    "colab_type": "text",
    "id": "qJNpJU2VXvDT"
   },
   "source": [
    "Looks like we have some empty strings as one of the top host names! This teaches us a valuable lesson to not just check for nulls but also potentially empty strings when data wrangling."
   ]
  },
  {
   "cell_type": "code",
   "execution_count": 0,
   "metadata": {
    "application/vnd.databricks.v1+cell": {
     "cellMetadata": {},
     "inputWidgets": {},
     "nuid": "79535924-b91e-4657-b83a-f88584265af6",
     "showTitle": false,
     "title": ""
    }
   },
   "outputs": [],
   "source": [
    "#Nope counted blanks then fixed them with 'Unknown' + Columname"
   ]
  },
  {
   "cell_type": "markdown",
   "metadata": {
    "application/vnd.databricks.v1+cell": {
     "cellMetadata": {},
     "inputWidgets": {},
     "nuid": "08193f4f-e163-4b92-9888-b5ffc85ac820",
     "showTitle": false,
     "title": ""
    },
    "colab_type": "text",
    "id": "Pq5jiBtIXvDU"
   },
   "source": [
    "## Your Turn: Q7: Display the Top 20 Frequent EndPoints\n",
    "\n",
    "Now, let's visualize the number of hits to endpoints (URIs) in the log. To perform this task, start with our `logs_df` and group by the `endpoint` column, aggregate by count, and sort in descending order like the previous question. Also remember to show only the top 20 most frequently accessed endpoints"
   ]
  },
  {
   "cell_type": "code",
   "execution_count": 0,
   "metadata": {
    "application/vnd.databricks.v1+cell": {
     "cellMetadata": {
      "byteLimit": 2048000,
      "rowLimit": 10000
     },
     "inputWidgets": {},
     "nuid": "3475d862-fce5-4020-92df-0b3d986b6eb9",
     "showTitle": false,
     "title": ""
    },
    "colab": {},
    "colab_type": "code",
    "id": "oxZRXX-AXvDU",
    "outputId": "bae76bd6-6f67-478c-ea46-928f545cf4bc"
   },
   "outputs": [],
   "source": [
    "# TODO: Replace <FILL IN> with appropriate code\n",
    "\n",
    "paths_df = (logs_df.groupBy('endpoint')\n",
    "                     .count()\n",
    "                     .sort('count', ascending=False)\n",
    "                     .cache()\n",
    "                     )"
   ]
  },
  {
   "cell_type": "code",
   "execution_count": 0,
   "metadata": {
    "application/vnd.databricks.v1+cell": {
     "cellMetadata": {
      "byteLimit": 2048000,
      "rowLimit": 10000
     },
     "inputWidgets": {},
     "nuid": "f88ee242-d5be-4f13-a181-10550c44496b",
     "showTitle": false,
     "title": ""
    },
    "colab": {},
    "colab_type": "code",
    "id": "DwfjJG2jXvDX",
    "outputId": "d44c9385-5a6b-4157-83bc-d4d6832cc6a6"
   },
   "outputs": [
    {
     "output_type": "display_data",
     "data": {
      "text/html": [
       "<div>\n",
       "<style scoped>\n",
       "    .dataframe tbody tr th:only-of-type {\n",
       "        vertical-align: middle;\n",
       "    }\n",
       "\n",
       "    .dataframe tbody tr th {\n",
       "        vertical-align: top;\n",
       "    }\n",
       "\n",
       "    .dataframe thead th {\n",
       "        text-align: right;\n",
       "    }\n",
       "</style>\n",
       "<table border=\"1\" class=\"dataframe\">\n",
       "  <thead>\n",
       "    <tr style=\"text-align: right;\">\n",
       "      <th></th>\n",
       "      <th>endpoint</th>\n",
       "      <th>count</th>\n",
       "    </tr>\n",
       "  </thead>\n",
       "  <tbody>\n",
       "    <tr>\n",
       "      <th>0</th>\n",
       "      <td>/images/NASA-logosmall.gif</td>\n",
       "      <td>208714</td>\n",
       "    </tr>\n",
       "    <tr>\n",
       "      <th>1</th>\n",
       "      <td>/images/KSC-logosmall.gif</td>\n",
       "      <td>164970</td>\n",
       "    </tr>\n",
       "    <tr>\n",
       "      <th>2</th>\n",
       "      <td>/images/MOSAIC-logosmall.gif</td>\n",
       "      <td>127908</td>\n",
       "    </tr>\n",
       "    <tr>\n",
       "      <th>3</th>\n",
       "      <td>/images/USA-logosmall.gif</td>\n",
       "      <td>127074</td>\n",
       "    </tr>\n",
       "    <tr>\n",
       "      <th>4</th>\n",
       "      <td>/images/WORLD-logosmall.gif</td>\n",
       "      <td>125925</td>\n",
       "    </tr>\n",
       "    <tr>\n",
       "      <th>5</th>\n",
       "      <td>/images/ksclogo-medium.gif</td>\n",
       "      <td>121572</td>\n",
       "    </tr>\n",
       "    <tr>\n",
       "      <th>6</th>\n",
       "      <td>/ksc.html</td>\n",
       "      <td>83909</td>\n",
       "    </tr>\n",
       "    <tr>\n",
       "      <th>7</th>\n",
       "      <td>/images/launch-logo.gif</td>\n",
       "      <td>76006</td>\n",
       "    </tr>\n",
       "    <tr>\n",
       "      <th>8</th>\n",
       "      <td>/history/apollo/images/apollo-logo1.gif</td>\n",
       "      <td>68896</td>\n",
       "    </tr>\n",
       "    <tr>\n",
       "      <th>9</th>\n",
       "      <td>/shuttle/countdown/</td>\n",
       "      <td>64736</td>\n",
       "    </tr>\n",
       "    <tr>\n",
       "      <th>10</th>\n",
       "      <td>/</td>\n",
       "      <td>63171</td>\n",
       "    </tr>\n",
       "    <tr>\n",
       "      <th>11</th>\n",
       "      <td>/images/ksclogosmall.gif</td>\n",
       "      <td>61393</td>\n",
       "    </tr>\n",
       "    <tr>\n",
       "      <th>12</th>\n",
       "      <td>/shuttle/missions/missions.html</td>\n",
       "      <td>47315</td>\n",
       "    </tr>\n",
       "    <tr>\n",
       "      <th>13</th>\n",
       "      <td>/images/launchmedium.gif</td>\n",
       "      <td>40687</td>\n",
       "    </tr>\n",
       "    <tr>\n",
       "      <th>14</th>\n",
       "      <td>/htbin/cdt_main.pl</td>\n",
       "      <td>39871</td>\n",
       "    </tr>\n",
       "    <tr>\n",
       "      <th>15</th>\n",
       "      <td>/shuttle/missions/sts-69/mission-sts-69.html</td>\n",
       "      <td>31574</td>\n",
       "    </tr>\n",
       "    <tr>\n",
       "      <th>16</th>\n",
       "      <td>/shuttle/countdown/liftoff.html</td>\n",
       "      <td>29865</td>\n",
       "    </tr>\n",
       "    <tr>\n",
       "      <th>17</th>\n",
       "      <td>/icons/menu.xbm</td>\n",
       "      <td>29190</td>\n",
       "    </tr>\n",
       "    <tr>\n",
       "      <th>18</th>\n",
       "      <td>/shuttle/missions/sts-69/sts-69-patch-small.gif</td>\n",
       "      <td>29118</td>\n",
       "    </tr>\n",
       "    <tr>\n",
       "      <th>19</th>\n",
       "      <td>/icons/blank.xbm</td>\n",
       "      <td>28852</td>\n",
       "    </tr>\n",
       "  </tbody>\n",
       "</table>\n",
       "</div>"
      ]
     },
     "metadata": {
      "application/vnd.databricks.v1+output": {
       "addedWidgets": {},
       "arguments": {},
       "data": "<div>\n<style scoped>\n    .dataframe tbody tr th:only-of-type {\n        vertical-align: middle;\n    }\n\n    .dataframe tbody tr th {\n        vertical-align: top;\n    }\n\n    .dataframe thead th {\n        text-align: right;\n    }\n</style>\n<table border=\"1\" class=\"dataframe\">\n  <thead>\n    <tr style=\"text-align: right;\">\n      <th></th>\n      <th>endpoint</th>\n      <th>count</th>\n    </tr>\n  </thead>\n  <tbody>\n    <tr>\n      <th>0</th>\n      <td>/images/NASA-logosmall.gif</td>\n      <td>208714</td>\n    </tr>\n    <tr>\n      <th>1</th>\n      <td>/images/KSC-logosmall.gif</td>\n      <td>164970</td>\n    </tr>\n    <tr>\n      <th>2</th>\n      <td>/images/MOSAIC-logosmall.gif</td>\n      <td>127908</td>\n    </tr>\n    <tr>\n      <th>3</th>\n      <td>/images/USA-logosmall.gif</td>\n      <td>127074</td>\n    </tr>\n    <tr>\n      <th>4</th>\n      <td>/images/WORLD-logosmall.gif</td>\n      <td>125925</td>\n    </tr>\n    <tr>\n      <th>5</th>\n      <td>/images/ksclogo-medium.gif</td>\n      <td>121572</td>\n    </tr>\n    <tr>\n      <th>6</th>\n      <td>/ksc.html</td>\n      <td>83909</td>\n    </tr>\n    <tr>\n      <th>7</th>\n      <td>/images/launch-logo.gif</td>\n      <td>76006</td>\n    </tr>\n    <tr>\n      <th>8</th>\n      <td>/history/apollo/images/apollo-logo1.gif</td>\n      <td>68896</td>\n    </tr>\n    <tr>\n      <th>9</th>\n      <td>/shuttle/countdown/</td>\n      <td>64736</td>\n    </tr>\n    <tr>\n      <th>10</th>\n      <td>/</td>\n      <td>63171</td>\n    </tr>\n    <tr>\n      <th>11</th>\n      <td>/images/ksclogosmall.gif</td>\n      <td>61393</td>\n    </tr>\n    <tr>\n      <th>12</th>\n      <td>/shuttle/missions/missions.html</td>\n      <td>47315</td>\n    </tr>\n    <tr>\n      <th>13</th>\n      <td>/images/launchmedium.gif</td>\n      <td>40687</td>\n    </tr>\n    <tr>\n      <th>14</th>\n      <td>/htbin/cdt_main.pl</td>\n      <td>39871</td>\n    </tr>\n    <tr>\n      <th>15</th>\n      <td>/shuttle/missions/sts-69/mission-sts-69.html</td>\n      <td>31574</td>\n    </tr>\n    <tr>\n      <th>16</th>\n      <td>/shuttle/countdown/liftoff.html</td>\n      <td>29865</td>\n    </tr>\n    <tr>\n      <th>17</th>\n      <td>/icons/menu.xbm</td>\n      <td>29190</td>\n    </tr>\n    <tr>\n      <th>18</th>\n      <td>/shuttle/missions/sts-69/sts-69-patch-small.gif</td>\n      <td>29118</td>\n    </tr>\n    <tr>\n      <th>19</th>\n      <td>/icons/blank.xbm</td>\n      <td>28852</td>\n    </tr>\n  </tbody>\n</table>\n</div>",
       "datasetInfos": [],
       "metadata": {},
       "removedWidgets": [],
       "textData": null,
       "type": "htmlSandbox"
      }
     },
     "output_type": "display_data"
    }
   ],
   "source": [
    "paths_pd_df = paths_df.limit(20).toPandas()\n",
    "paths_pd_df"
   ]
  },
  {
   "cell_type": "markdown",
   "metadata": {
    "application/vnd.databricks.v1+cell": {
     "cellMetadata": {},
     "inputWidgets": {},
     "nuid": "09ec62b3-f69d-4949-a44f-6ea9af4e03e0",
     "showTitle": false,
     "title": ""
    },
    "colab_type": "text",
    "id": "LrK4j5aIXvDb"
   },
   "source": [
    "## Your Turn: Q8: Top Ten Error Endpoints\n",
    "\n",
    "What are the top ten endpoints requested which did not have return code 200 (HTTP Status OK)? \n",
    "\n",
    "Create a sorted list containing the endpoints and the number of times that they were accessed with a non-200 return code and show the top ten.\n",
    "\n",
    "Think about the steps that you need to perform to determine which endpoints did not have a 200 return code (combination of filtering, grouping, sorting and selecting the top ten aggregated records)"
   ]
  },
  {
   "cell_type": "code",
   "execution_count": 0,
   "metadata": {
    "application/vnd.databricks.v1+cell": {
     "cellMetadata": {
      "byteLimit": 2048000,
      "rowLimit": 10000
     },
     "inputWidgets": {},
     "nuid": "b7da3d9a-da4e-4850-af2a-86ed20cdc5f1",
     "showTitle": false,
     "title": ""
    },
    "colab": {},
    "colab_type": "code",
    "id": "s57_3ODMXvDc",
    "outputId": "d25e0c40-eaff-459a-9fd4-40666e226d28"
   },
   "outputs": [],
   "source": [
    "# TODO: Replace <FILL IN> with appropriate code\n",
    "\n",
    "not200_df = (logs_df.where(logs_df.status != '200')\n",
    "\n",
    "            )\n",
    "error_endpoints_freq_df = (not200_df.groupBy('endpoint')\n",
    "                                    .count()\n",
    "                                    .sort('count', ascending=False)\n",
    "                                    .cache()\n",
    "                                    .limit(10))"
   ]
  },
  {
   "cell_type": "code",
   "execution_count": 0,
   "metadata": {
    "application/vnd.databricks.v1+cell": {
     "cellMetadata": {
      "byteLimit": 2048000,
      "rowLimit": 10000
     },
     "inputWidgets": {},
     "nuid": "64533097-1748-42d3-a6b0-ff0b6349b57e",
     "showTitle": false,
     "title": ""
    },
    "colab": {},
    "colab_type": "code",
    "id": "GeAUAEMBXvDh",
    "outputId": "a5bc7840-a464-47ae-f014-9e3108c2b306"
   },
   "outputs": [
    {
     "output_type": "stream",
     "name": "stdout",
     "output_type": "stream",
     "text": [
      "+---------------------------------------+-----+\n|endpoint                               |count|\n+---------------------------------------+-----+\n|/images/NASA-logosmall.gif             |40082|\n|/images/KSC-logosmall.gif              |23763|\n|/images/MOSAIC-logosmall.gif           |15245|\n|/images/USA-logosmall.gif              |15142|\n|/images/WORLD-logosmall.gif            |14773|\n|/images/ksclogo-medium.gif             |13559|\n|/images/launch-logo.gif                |8806 |\n|/history/apollo/images/apollo-logo1.gif|7489 |\n|/                                      |6296 |\n|/images/ksclogosmall.gif               |5669 |\n+---------------------------------------+-----+\n\n"
     ]
    }
   ],
   "source": [
    "error_endpoints_freq_df.show(truncate=False)"
   ]
  },
  {
   "cell_type": "markdown",
   "metadata": {
    "application/vnd.databricks.v1+cell": {
     "cellMetadata": {},
     "inputWidgets": {},
     "nuid": "9eab5816-0943-4c8c-9feb-700f66814831",
     "showTitle": false,
     "title": ""
    },
    "colab_type": "text",
    "id": "ij1wJnMwXvDm"
   },
   "source": [
    "## Example: Number of Unique Daily Hosts\n",
    "\n",
    "For an advanced example, let's look at a way to determine the number of unique hosts in the entire log on a day-by-day basis. This computation will give us counts of the number of unique daily hosts. \n",
    "\n",
    "We'd like a DataFrame sorted by increasing day of the month which includes the day of the month and the associated number of unique hosts for that day. \n",
    "\n",
    "Think about the steps that you need to perform to count the number of different hosts that make requests *each* day.\n",
    "*Since the log only covers a single month, you can ignore the month.*  You may want to use the [`dayofmonth` function](https://spark.apache.org/docs/latest/api/python/pyspark.sql.html#pyspark.sql.functions.dayofmonth) in the `pyspark.sql.functions` module (which we have already imported as __`F`__.\n",
    "\n",
    "\n",
    "**`host_day_df`**\n",
    "\n",
    "A DataFrame with two columns\n",
    "\n",
    "| column | explanation          |\n",
    "| ------ | -------------------- |\n",
    "| `host` | the host name        |\n",
    "| `day`  | the day of the month |\n",
    "\n",
    "There will be one row in this DataFrame for each row in `logs_df`. Essentially, we are just transforming each row of `logs_df`. For example, for this row in `logs_df`:\n",
    "\n",
    "```\n",
    "unicomp6.unicomp.net - - [01/Aug/1995:00:35:41 -0400] \"GET /shuttle/missions/sts-73/news HTTP/1.0\" 302 -\n",
    "```\n",
    "\n",
    "your `host_day_df` should have:\n",
    "\n",
    "```\n",
    "unicomp6.unicomp.net 1\n",
    "```"
   ]
  },
  {
   "cell_type": "code",
   "execution_count": 0,
   "metadata": {
    "application/vnd.databricks.v1+cell": {
     "cellMetadata": {
      "byteLimit": 2048000,
      "rowLimit": 10000
     },
     "inputWidgets": {},
     "nuid": "d7331bbe-92d4-4640-9a79-1c91d9c395f4",
     "showTitle": false,
     "title": ""
    },
    "colab": {},
    "colab_type": "code",
    "id": "c0i7-gm9XvDm",
    "outputId": "ef93f5a2-e15d-4631-cbb7-e390dd0c28f0"
   },
   "outputs": [
    {
     "output_type": "stream",
     "name": "stdout",
     "output_type": "stream",
     "text": [
      "+-----------------+---+\n|host             |day|\n+-----------------+---+\n|in24.inetnebr.com|1  |\n|uplherc.upl.com  |1  |\n|uplherc.upl.com  |1  |\n|uplherc.upl.com  |1  |\n|uplherc.upl.com  |1  |\n+-----------------+---+\nonly showing top 5 rows\n\n"
     ]
    }
   ],
   "source": [
    "host_day_df = logs_df.select(logs_df.host, \n",
    "                             F.dayofmonth('time').alias('day'))\n",
    "host_day_df.show(5, truncate=False)"
   ]
  },
  {
   "cell_type": "markdown",
   "metadata": {
    "application/vnd.databricks.v1+cell": {
     "cellMetadata": {},
     "inputWidgets": {},
     "nuid": "b0c56f1b-a398-4d83-8bc1-cc0ea1b031f1",
     "showTitle": false,
     "title": ""
    },
    "colab_type": "text",
    "id": "HRu_5V4bXvDs"
   },
   "source": [
    "**`host_day_distinct_df`**\n",
    "\n",
    "This DataFrame has the same columns as `host_day_distinct_df`, but with duplicate (`day`, `host`) rows removed."
   ]
  },
  {
   "cell_type": "code",
   "execution_count": 0,
   "metadata": {
    "application/vnd.databricks.v1+cell": {
     "cellMetadata": {
      "byteLimit": 2048000,
      "rowLimit": 10000
     },
     "inputWidgets": {},
     "nuid": "4c8d3c5a-648d-4601-8f97-66a5d9b64709",
     "showTitle": false,
     "title": ""
    },
    "colab": {},
    "colab_type": "code",
    "id": "be9KD86vXvDt",
    "outputId": "013470c7-93ab-4c4a-945a-af4c212c85d7"
   },
   "outputs": [
    {
     "output_type": "stream",
     "name": "stdout",
     "output_type": "stream",
     "text": [
      "+---------------------------+---+\n|host                       |day|\n+---------------------------+---+\n|in24.inetnebr.com          |1  |\n|slppp6.intermind.net       |1  |\n|piweba4y.prodigy.com       |1  |\n|uplherc.upl.com            |1  |\n|ix-esc-ca2-07.ix.netcom.com|1  |\n+---------------------------+---+\nonly showing top 5 rows\n\n"
     ]
    }
   ],
   "source": [
    "host_day_distinct_df = (host_day_df\n",
    "                          .dropDuplicates())\n",
    "host_day_distinct_df.show(5, truncate=False)"
   ]
  },
  {
   "cell_type": "markdown",
   "metadata": {
    "application/vnd.databricks.v1+cell": {
     "cellMetadata": {},
     "inputWidgets": {},
     "nuid": "3a263450-2ca0-44da-8169-203b459ec1f9",
     "showTitle": false,
     "title": ""
    },
    "colab_type": "text",
    "id": "OlCEA952XvDv"
   },
   "source": [
    "**`daily_unique_hosts_df`**\n",
    "\n",
    "A DataFrame with two columns:\n",
    "\n",
    "| column  | explanation                                        |\n",
    "| ------- | -------------------------------------------------- |\n",
    "| `day`   | the day of the month                               |\n",
    "| `count` | the number of unique requesting hosts for that day |"
   ]
  },
  {
   "cell_type": "code",
   "execution_count": 0,
   "metadata": {
    "application/vnd.databricks.v1+cell": {
     "cellMetadata": {
      "byteLimit": 2048000,
      "rowLimit": 10000
     },
     "inputWidgets": {},
     "nuid": "58e3a042-b44f-4d2f-9e7c-ace2e3f107a5",
     "showTitle": false,
     "title": ""
    },
    "colab": {},
    "colab_type": "code",
    "id": "TrVQJOKPXvDv",
    "outputId": "875f282f-13f6-4f9c-b4ee-a8f867f2955f"
   },
   "outputs": [
    {
     "output_type": "display_data",
     "data": {
      "text/html": [
       "<div>\n",
       "<style scoped>\n",
       "    .dataframe tbody tr th:only-of-type {\n",
       "        vertical-align: middle;\n",
       "    }\n",
       "\n",
       "    .dataframe tbody tr th {\n",
       "        vertical-align: top;\n",
       "    }\n",
       "\n",
       "    .dataframe thead th {\n",
       "        text-align: right;\n",
       "    }\n",
       "</style>\n",
       "<table border=\"1\" class=\"dataframe\">\n",
       "  <thead>\n",
       "    <tr style=\"text-align: right;\">\n",
       "      <th></th>\n",
       "      <th>0</th>\n",
       "      <th>1</th>\n",
       "      <th>2</th>\n",
       "      <th>3</th>\n",
       "      <th>4</th>\n",
       "      <th>5</th>\n",
       "      <th>6</th>\n",
       "      <th>7</th>\n",
       "      <th>8</th>\n",
       "      <th>9</th>\n",
       "      <th>...</th>\n",
       "      <th>21</th>\n",
       "      <th>22</th>\n",
       "      <th>23</th>\n",
       "      <th>24</th>\n",
       "      <th>25</th>\n",
       "      <th>26</th>\n",
       "      <th>27</th>\n",
       "      <th>28</th>\n",
       "      <th>29</th>\n",
       "      <th>30</th>\n",
       "    </tr>\n",
       "  </thead>\n",
       "  <tbody>\n",
       "    <tr>\n",
       "      <th>day</th>\n",
       "      <td>1</td>\n",
       "      <td>2</td>\n",
       "      <td>3</td>\n",
       "      <td>4</td>\n",
       "      <td>5</td>\n",
       "      <td>6</td>\n",
       "      <td>7</td>\n",
       "      <td>8</td>\n",
       "      <td>9</td>\n",
       "      <td>10</td>\n",
       "      <td>...</td>\n",
       "      <td>22</td>\n",
       "      <td>23</td>\n",
       "      <td>24</td>\n",
       "      <td>25</td>\n",
       "      <td>26</td>\n",
       "      <td>27</td>\n",
       "      <td>28</td>\n",
       "      <td>29</td>\n",
       "      <td>30</td>\n",
       "      <td>31</td>\n",
       "    </tr>\n",
       "    <tr>\n",
       "      <th>count</th>\n",
       "      <td>7609</td>\n",
       "      <td>4858</td>\n",
       "      <td>10238</td>\n",
       "      <td>9411</td>\n",
       "      <td>9640</td>\n",
       "      <td>10133</td>\n",
       "      <td>10048</td>\n",
       "      <td>7112</td>\n",
       "      <td>6699</td>\n",
       "      <td>8532</td>\n",
       "      <td>...</td>\n",
       "      <td>6828</td>\n",
       "      <td>6797</td>\n",
       "      <td>7946</td>\n",
       "      <td>8333</td>\n",
       "      <td>6741</td>\n",
       "      <td>6846</td>\n",
       "      <td>6090</td>\n",
       "      <td>4825</td>\n",
       "      <td>5265</td>\n",
       "      <td>5913</td>\n",
       "    </tr>\n",
       "  </tbody>\n",
       "</table>\n",
       "<p>2 rows × 31 columns</p>\n",
       "</div>"
      ]
     },
     "metadata": {
      "application/vnd.databricks.v1+output": {
       "addedWidgets": {},
       "arguments": {},
       "data": "<div>\n<style scoped>\n    .dataframe tbody tr th:only-of-type {\n        vertical-align: middle;\n    }\n\n    .dataframe tbody tr th {\n        vertical-align: top;\n    }\n\n    .dataframe thead th {\n        text-align: right;\n    }\n</style>\n<table border=\"1\" class=\"dataframe\">\n  <thead>\n    <tr style=\"text-align: right;\">\n      <th></th>\n      <th>0</th>\n      <th>1</th>\n      <th>2</th>\n      <th>3</th>\n      <th>4</th>\n      <th>5</th>\n      <th>6</th>\n      <th>7</th>\n      <th>8</th>\n      <th>9</th>\n      <th>...</th>\n      <th>21</th>\n      <th>22</th>\n      <th>23</th>\n      <th>24</th>\n      <th>25</th>\n      <th>26</th>\n      <th>27</th>\n      <th>28</th>\n      <th>29</th>\n      <th>30</th>\n    </tr>\n  </thead>\n  <tbody>\n    <tr>\n      <th>day</th>\n      <td>1</td>\n      <td>2</td>\n      <td>3</td>\n      <td>4</td>\n      <td>5</td>\n      <td>6</td>\n      <td>7</td>\n      <td>8</td>\n      <td>9</td>\n      <td>10</td>\n      <td>...</td>\n      <td>22</td>\n      <td>23</td>\n      <td>24</td>\n      <td>25</td>\n      <td>26</td>\n      <td>27</td>\n      <td>28</td>\n      <td>29</td>\n      <td>30</td>\n      <td>31</td>\n    </tr>\n    <tr>\n      <th>count</th>\n      <td>7609</td>\n      <td>4858</td>\n      <td>10238</td>\n      <td>9411</td>\n      <td>9640</td>\n      <td>10133</td>\n      <td>10048</td>\n      <td>7112</td>\n      <td>6699</td>\n      <td>8532</td>\n      <td>...</td>\n      <td>6828</td>\n      <td>6797</td>\n      <td>7946</td>\n      <td>8333</td>\n      <td>6741</td>\n      <td>6846</td>\n      <td>6090</td>\n      <td>4825</td>\n      <td>5265</td>\n      <td>5913</td>\n    </tr>\n  </tbody>\n</table>\n<p>2 rows × 31 columns</p>\n</div>",
       "datasetInfos": [],
       "metadata": {},
       "removedWidgets": [],
       "textData": null,
       "type": "htmlSandbox"
      }
     },
     "output_type": "display_data"
    }
   ],
   "source": [
    "daily_hosts_df = (host_day_distinct_df\n",
    "                     .groupBy('day')\n",
    "                     .count()\n",
    "                     .sort(\"day\"))\n",
    "daily_hosts_df = daily_hosts_df.toPandas()\n",
    "daily_hosts_df.T"
   ]
  },
  {
   "cell_type": "code",
   "execution_count": 0,
   "metadata": {
    "application/vnd.databricks.v1+cell": {
     "cellMetadata": {
      "byteLimit": 2048000,
      "rowLimit": 10000
     },
     "inputWidgets": {},
     "nuid": "efbc5e50-bd89-4a5e-bd1b-8a55a0434f55",
     "showTitle": false,
     "title": ""
    },
    "colab": {},
    "colab_type": "code",
    "id": "PUdqNQHiXvDz"
   },
   "outputs": [
    {
     "output_type": "stream",
     "name": "stdout",
     "output_type": "stream",
     "text": [
      "Out[173]: <AxesSubplot:xlabel='day'>"
     ]
    },
    {
     "output_type": "display_data",
     "data": {
      "image/png": "[encoded data removed]"
     },
     "metadata": {
      "application/vnd.databricks.v1+output": {
       "addedWidgets": {},
       "arguments": {},
       "data": "data:image/png;base64,iVBORw0KGgoAAAANSUhEUgAAAYMAAAEGCAYAAACHGfl5AAAAOXRFWHRTb2Z0d2FyZQBNYXRwbG90bGliIHZlcnNpb24zLjUuMSwgaHR0cHM6Ly9tYXRwbG90bGliLm9yZy/YYfK9AAAACXBIWXMAAAsTAAALEwEAmpwYAABCkUlEQVR4nO3deXibZ5Xw/++RbEle5H1LYjvO4iRN0+yk+15CWgoppSwFSliG8v7oADMwv2EbpqwzwAsMlIEyBVpaBihtKbQUaAlt0jbd0ixtmqRJnTibncT7Kq+S7vcPPXKUxItW25LO57p8WX706NGt2NHRvZxzizEGpZRS6c021Q1QSik19TQYKKWU0mCglFJKg4FSSik0GCillAIyproB0SopKTE1NTVT3QyllEoa27dvbzXGlI52X9IGg5qaGrZt2zbVzVBKqaQhIkfGuk+HiZRSSmkwUEoppcFAKaUUSTxnoJRS4xkeHqahoYGBgYGpbsqkc7lcVFZWkpmZGfZjNBgopVJSQ0MDbrebmpoaRGSqmzNpjDG0tbXR0NDAnDlzwn6cDhMppVLSwMAAxcXFaRUIAESE4uLiiHtEGgyUUikr3QJBUDSvW4NBjPad7Ob5A61T3QyllIqJBoMY/fDvdXz8f7cz6PVNdVOUUmnmBz/4AX19fXG5lgaDGHUPDNMz4GVLnfYOlFKTS4PBNNI7GOgR/HnXiSluiVJqOrrvvvtYunQpy5Yt45ZbbuHw4cNcddVVLF26lKuvvpqjR48C8KEPfYiHHnpo5HG5ubkAbN68mSuuuIKbbrqJRYsW8f73vx9jDHfccQfHjx/nyiuv5Morr4y5nbq0NEaeQS8AG/c2MTDsw5Vpn5Tn7ewb4jtP7OecGXm8+ZxyKvJdk/K8SiWjr/5pD3uPd8f1motn5nH7284d95w9e/bwjW98g+eff56SkhLa29vZsGHDyNfdd9/Npz71Kf74xz+Oe52dO3eyZ88eZs6cycUXX8xzzz3Hpz71Kb7//e+zadMmSkpKYn492jOIUe+Alxn5LnoGvTw7iUNF3/vbG/zmpaN8+Y+7ueA/n+RtP9rCD/9ex97j3ei+1kpND0899RTvete7Rt6si4qKeOGFF3jf+94HwC233MKWLVsmvM6aNWuorKzEZrOxfPlyDh8+HPe2as8gRp5BLzesmMWjrx7nz7uO8+bF5Ql/zrqmHn6z9Si3XDCbD144m42vN/H3vU384Mk3+K+/v8GsgiyuOaeMaxaXc/6cYhwZGvNVepvoE/x0kJGRgd/vB8Dv9zM0NDRyn9PpHLltt9vxer1xf/4J3yVE5G4RaRaR3SHHikRko4jUWd8LreMiIneIyAER2SUiK0Mes8E6v05ENoQcXyUir1mPuUOSaGGwMQbPkJeC7EzWnVsxMlSUaP/xl9fJdtj5p2tqqS1384kr5vPwJy5m6xev4dvvPI9zZuTxu23HuOUXW1n19Y188rc7Od7Zn/B2KaVOd9VVV/Hggw/S1tYGQHt7OxdddBH3338/AL/+9a+59NJLgUBZ/u3btwPw6KOPMjw8POH13W43PT09cWlrOB8ZfwmsO+PY54EnjTG1wJPWzwDXArXW163AnRAIHsDtwPnAGuD2YACxzvlYyOPOfK5pq3/Yh99AjjODty6dgWfIx9NvtCT0OZ95o4VN+1v45FXzKc51nnZfqdvJe95Uzc83rGbnl9fysw+uZt2SCv706nGd4FZqCpx77rl86Utf4vLLL2fZsmV85jOf4Uc/+hH33HMPS5cu5Ve/+hU//OEPAfjYxz7G008/zbJly3jhhRfIycmZ8Pq33nor69ati8sEMsaYCb+AGmB3yM/7gRnW7RnAfuv2/wA3n3kecDPwPyHH/8c6NgPYF3L8tPPG+1q1apWZak1d/Wb25x4zv3rhsBny+szyrz5hPvmbHQl7vmGvz6z9/tPm0m8/ZQaGvWE9xu/3m9ov/cV88897E9YupaajvXvT+29+tNcPbDNjvKdGO5hcbowJftQ8CQQHymcBx0LOa7COjXe8YZTjoxKRW0Vkm4hsa2lJ7CfwcPRaK4lynRlk2m2sW1LB319P3FDRA9sa2N/UwxeuXYQzI7xVSyJCmdtJS89gQtqklEoNMc8sWtFmUpavGGPuMsasNsasLi0ddRvPSeWxcgxynIF5+LeeN5O+IR+b9zfH/bl6Bob5/sb9vKmmkHVLKiJ6bKnbSXNP+pXxVUqFL9pg0CQiMwCs78F3v0agKuS8SuvYeMcrRzmeFII9gxxn4FP6BXOLKMpx8FgCxud/svkgrb1D/NtbF0dchKo0V3sGKj2ZNF1mHc3rjjYYPAoEVwRtAB4JOf5Ba1XRBUCXNZz0BLBWRAqtieO1wBPWfd0icoG1iuiDIdea9oIJZ25nYAOJDGuo6MnXm+kfit9Q0bH2Pn6x5RA3rpjFsqqCiB9fqsNEKg25XC7a2trSLiAYaz8DlyuyRNQJ8wxE5LfAFUCJiDQQWBX0LeABEfkocAR4t3X6X4DrgANAH/Bhq3HtIvJ14GXrvK8ZY9qt258gsGIpC/ir9ZUUzuwZAFx/3gx+89JRNu1v5rrzZsTleb7zxH5sAv/yloVRPb7M7aKjb5ghr19zDlTaqKyspKGhgekwvzjZgjudRWLCYGCMuXmMu64e5VwD3DbGde4G7h7l+DZgyUTtmI5CJ5CD1swpoiTXwZ93nYhLMNh+pIM/vXqcT101n5kFWVFdo9QdWILa2jsY9TWUSjaZmZkR7fSV7vRjYgw8Iz2DU8FgZKhoXxN9Q7FlCRpj+PpjeylzO/n45fOivk4wGOhQkVJqLBoMYuAZ9CIC2Y7Tl3lev3QmA8N+ntoX26qiP+06wSvHOvmXtyw8LeBESoOBUmoiGgxi0DPoJdeRcdbqnjfVFFHqdsaU9Tsw7OPbf93H4hl5vHNlZGN/ZyoLBoNeDQZKqdFpMIiBZ9A76id2u024bkkFT+1rHhlKitQvthyisbOff7v+HOy22Mo1Fec6AO0ZKKXGpsEgBp5B32kriUK9delMBr1+noxiqKilZ5CfbDrAmxeXc9G82OuUOzPsFGRnauKZUmpMGgxi0DvoPW0lUajVswspczv5867jEV/3+xvfYNDr5wvXLoq1iSM08UwpNR4NBjEYa5gIwGYTrjtvBpv2t4wsQQ3HtsPt/O7lo9xy4WzmlubGq6maeKaUGpcGgxiM1zMAuH7pDIa8fp58vSms6z3ySiPv+/lLzCrM4tNX18armUBgElknkJVSY9FgEIOJgsHK6kIq8lwT1iry+w3ffnwfn77/FZZXFfDHT1xMQbYjrm0N9gzSLTVfKRUeDQYxGG+YCE4NFT29v4WegdF3Leod9HLrr7Zx5+aD3Lymmv/96PlnbVoTD6VuJwPDfnqiXN2UTBo7+7nsO5t4YNuxiU9WSgEaDGISWE00fjLYW5fOYMjn5++jDBUdbevjxp88x6b9LXz17efyH+9YkrDaQemUePb8gVaOtvfxrw/t4t7nD091c5RKChoMojTo9THk8+N2jR8MVlQVMDPfdVYC2gsH21j/4y00dQ9y30fWsOGimohLU0eizB2oYJgOwWDP8W6yHXauOaec2x/dw52bD051k5Sa9jQYRGlkYxvH+DuOBYeKnnmjla7+wFDR/754hFt+8RJFOQ7+eNvFXDw/9lyCiaRTz2DP8S4Wz8jjzg+s5G3LZvLtx/fxvb/t1/kSpcYRfcGbNDdakbqxvHXpDH6+5RCP7z7B7sZufvXiEa5YWModN68gz5WZ6KYCgTwDgOYUDwZ+v2HP8W7evbqKTLuNH7xnOdmZdn701AE8gz6+fP05Ce2BKZWsNBhEabTy1WNZXlXArIIsvvSH3Xj9hlsvm8vn1i2KucxEJAqyM8m0S8r3DA61eegb8rF4Zh4QKA3ynzeeR5bDzt3PHaJ/2Ms3bjhvUv/tlUoGGgyiFEnPQER458pZ/PTper77rqXctCq2wnPREJG0yELec7wbgCUz80eO2WzC7W9bTI7Tzo83HaR/yMd337WMDLuOkioVpMEgSsElmrkTTCAHffqaBXzkkjlxzx+IRGkaJJ7taezCYbdRW3569raI8P+/ZRHZjgz+7xP76R/2ccfNK3BmjD/no1S60I9GUfJEMEwEgeGKqQwEkB4lKXYf72JhhZvMMT7133blfP79+sU8saeJj923Pa57VSuVzDQYRCmSYaLpIhAMUrdyqTGByeMls/LGPe8jl8zh2+88j2frWthwz9aIakcplao0GESp11pamutIpmDgos0zhNfnn+qmJERjZz+dfcOcGzJfMJb3vKmaH7xnOVsPtfOgZiorpcEgWr0DwZ5B8ow5l7qdGAPtnqGpbkpC7G4MTB6fO3P8nkHQ+uWzcLsyONTqSWSzlEoKGgyi5Bny4sq0JdWKlFTPNdh7vAu7TThnRnjBAKCyMJtj7X0JbJVSySF53smmmYkqlk5HqZ6FvPt4N/NLc3Flht9bqyrMoqGjP4GtUio5aDCI0kQVS6ejslQPBo1dYQ8RBVUVZdPQ0a+lKlTa02AQpd4BLzlJNHkMIT2DFMw1aO4ZoLlnkHNnTTx5HKqyMIv+YR+tvak5j6JUuDQYRKl30Bt2wtl04cq043ZlpGTP4FTmcYQ9g8JsAI516LyBSm8aDKLkGUq+OQNI3cSzPY1dACM1icJVVRQIBjpvoNJdTMFARD4tIrtFZI+I/JN1rEhENopInfW90DouInKHiBwQkV0isjLkOhus8+tEZENMr2iShLOxzXRUmuukOQUTz/Yc76amOBt3hFVgKwuzAHRFkUp7UQcDEVkCfAxYAywDrheR+cDngSeNMbXAk9bPANcCtdbXrcCd1nWKgNuB861r3R4MINNZYDVR8uQYBJXluVKyZ7D7eFfE8wUQyCAvynHQoMNEKs3F0jM4B3jJGNNnjPECTwM3AuuBe61z7gVusG6vB+4zAS8CBSIyA3gLsNEY026M6QA2AutiaNek6B1I0mGiFKxc2tU3zLH2/ohXEgXp8lKlYgsGu4FLRaRYRLKB64AqoNwYE9zj8SRQbt2eBYTm/TdYx8Y6fhYRuVVEtonItpaWlhiaHhuf39A/nKTDRG4nniHfSG2lVLDnRGC+YEkYZShGo4lnSsUQDIwxrwPfBv4GPA68AvjOOMcAcVvAbYy5yxiz2hizurS0NF6XjZhnKLKKpdNJcHlpawotL90TYRmKM1UWZdHY2Y/Pr7kGKn3FNIFsjPmFMWaVMeYyoAN4A2iyhn+wvjdbpzcS6DkEVVrHxjo+bSVjxdKgYOJZKpWk2H28ixn5LoqtchuRqirMZthnUnJiXalwxbqaqMz6Xk1gvuA3wKNAcEXQBuAR6/ajwAetVUUXAF3WcNITwFoRKbQmjtdax6atU0Xqki8YpGJJij3Hu8OqVDqWUyuKdN5Apa9Y381+LyLFwDBwmzGmU0S+BTwgIh8FjgDvts79C4F5hQNAH/BhAGNMu4h8HXjZOu9rxpj2GNuVUMH6924NBlOub8jLwZZerl86I+prBHMNjrX3sWZOUbyaplRSiendzBhz6SjH2oCrRzlugNvGuM7dwN2xtGUyeay9DJKxZ1CY7cBuk5QJBq+f6MYYYuoZzCoI9Awmc0XR4VYPTd0DnD+3eNKeU6nxaAZyFHoHk28vgyC7TSjOcaTM+PhIGYoJdjcbjyvTTnmec1JLUnzniX188O6tKROUVfLTYBCFSPc/nm7K8qZXrsGx9j7+vrcpqsfubuyiOMdBRZ4rpjZM9vLS/Sd7GPT6+cWWQ5P2nEqNR4NBFHqTPBiU5jqnTeXSXQ2drP/xc/zDfduoa+qJ+PG7G7tZPDMPEYmpHZOZeDbk9XO4rQ+7TfjfF4/Q1Tc8Kc+r1Hg0GEShN4mXlsL0KVa3pa6Vm+96kWyHHUeGjV8+fziixw96fdQ197AkijIUZ6oqyuZEVz/Dk7A/9OE2Dz6/4R8unUPvoDfi161UImgwiIJn0EuGTXBmJOc/X6nbSWvvEP4pTLJ6bNdxPvzLrVQVZfPw/3cR65fN5OEdjXT1h/8pua6pl2GfiTrZLFRlYRZ+Ayc6Ez+XUtfUC8Dbls7kmnPKuOf5QymVEa6SU3K+m02x4C5nsQ5NTJUytwuf39DeNzUbuvzqhcN88rc7WVFVyO8+fiFleS42XFRD/7CPB7cdm/gClt2NsZWhCBXc12AyCtbVNfcgAvNKc7ntyvl09g3z65eOJPx5lRqPBoMo9CTh/sehpirXwBjDf218gy8/soerF5Vx30fXkJ8VKDm9ZFY+q2cXct8LR8IuC7HneDduZwbVVp5ALEZyDSYlGPRSVZhNlsPOiupCLp5fzM+ePcTAsG/iByuVIBoMouDRYBAxn9/w74/s4YdP1nHTqkp++oFVZ21cv+GiGo6297F5f/MYVznd7uNdnDMzD5st9h5aRb4Lm0xOFvLB5l5qy3JHfr7tyvm09AxG1CtSKt40GEQhsLFN8uUYBJXmTm4wGPT6+NT9O/nVi0f4+OVz+b83LSXDfvaf3rolFZTnOcOaUPX5Da+f6I7LEBFApt3GjPyshA8TeX1+6ls8zC8/FQwunFvMyuoCfvp0/aRMYCs1Gg0GUei15gySVekkFqvrHfTy0V9u48+7TvDF6xbxhWvPGXOuJdNu4wPnz+bZulYOtvSOe936ll4Ghv0xJZudqaooi2MJXl56tL2PIZ+f2jL3yDER4R+vmk9jZz9/3DmtazSqFKbBIArJPkyU48wgx2FPeM+grXeQ9/3sRV6ob+O771rGrZfNm/AxN59fjcNu474Jege7jwcmj2MpQ3GmyUg8q2sOBLnQYSKAKxeWsXhGHnduPqiltNWU0GAQhWTvGYCVa5DgxLNv/XUf+0728D8fWMVNqyrDekxJrpPrl87goe0N9AyMvcx0d2M3zgwb80pz4tVcqgqzae4ZTOhE7gErGMw7IxiICLddOZ/6Vg9/3X1itIcqlVAaDKLQm+Q9AwgmniV2Tf3eE91cOLeYaxaXT3xyiA0X1eAZ8vHQ9oYxz9nd2MU5M/JGnXuIVlVRoGBdY2fihorqmnqYme8a9e9n3ZIK5pbm8ONNBwnUdVRq8mgwiJAxJumHiSCQa5DIYSJjDIdaPcwpifyT+7KqAlZUF3DfC0dGTYzz+w17j3fHJdksVGgp60Spa+5lfrl71PvsNuETV8zn9RPdPLUvvBVVSsWLBoMIDQz78ZvkLUURVOp2JnQC+WT3AH1DvqiHcT50UQ2HWj08U3f2XtfHOvroGfTGpQxFqOAmN4mqUeTzGw6csaz0TOuXz6SyMIsfPXVAewdqUmkwiFDPYGAcOzeJl5ZCIBj0DHgTNj5e3+IBYG7p2G9847l2yQxK3U7uHWUiebe153G8lpUGlbtdOOy2hCWeNXb0M+j1jxsMMu02Pn75PF451snzB9sS0g6lRqPBIELBjW1yXUneM0hwrkG9tTR0bpQ9A0eGjfefX82m/S0cavWcdt+e411k2IQFFdEFmrHYbMKswiwaEpR4VtccqMpaWz5+u9+1qpIyt5P/fupAQtqh1Gg0GEQoWFAsx5HkwSCYhZygFUX1rR6yMu0x7TPwvvOrybQL971w+LTju493U1vuxpkR/95ZZWHiEs+CK4nml44+ZxDkyrTzsUvn8kJ9G9uPdCSkLUqdSYNBhJJ9L4OgRJekqG8JTB7HUsyvzO3iuvNm8NC2hpEgbIxhT2MXS+I8eRxUWZidsMSzuuZeytxO8rMzJzz3fedXU5CdyY83ae9gLA9sO8b6/96iWdtxosEgQp4k38sgqCzBWcj1rb1RDxGF2nBRDT2DXh7eEVhm2tQ9SJtnKO4riYKqirJo9wwlpKR0XXPvhENEQTnODD5y8Rye2tfMHivBTp2y/2QPX/7jbl5t6OLwGcOIKjoaDCKU7BvbBBXlOBBJTM9gYNhHQ0d/1JPHoVZUFbCsMp9fPn8YY8ypstVxXkkUVFmYmOqlxhgONPWcVoZiIhsurCHXmcFPNh2Ma1uS3cCwj0/9difBTue+k5HvkKfOpsEgQsFg4E7yCeQMu43iHEdCgsGRtj6MIS7ZwSLChotqONjiYcuBVnYf70IEzpmRoJ5BcHlpnCeRT3QN4BnyMX+clURnys/O5P0XVPOX3Sdo90zN3hPT0bf+uo/9TT3c8d4V2G3Cfg0GcaHBIEKpMkwEUJqgxLNDrdZKopL4rPZ569IZlOQ6uPf5w+w53s2ckpyE/fsnal+DsWoSTeQt51ZgDDx3oDWu7UlWT+1r4pfPH+YjF89h7bkVzCnJYX8Ue2ers2kwiFCvtbQ0OzO58wwgcSUpDlo5BjUlsW86A+DMsHPzmmqe3NfMi/Vtcc8vCFWc4yAr0x73fQ3qmoLLSsMfJgJYOisftyuDLXUaDJp7BviXB3dxzow8PnftQgAWlru1ZxAnGgwi1DvgJcdhj8uGKlOtNNeZkJ5BfYuHMrcTt2viVTPhev/5s7GL0DPgjWvZ6jOJSEKWlx5o7qUox0FRjiOix2XYbVw8r4QtB1rTOiPZ7zd89oFX6Rvycsd7l48sK15Y4eZoe5/uIR0HGgwi5Bn0Jn3CWVCwcmm832TitZIoVEW+i3VLKoD4lq0eTVVR/JeX1jX3RjRfEOqS2hIaO/upT+NVM3c/d4hn61r58vWLT+tdLawI3A4Ow6noaTCIUO9Q8pevDipzOxn2Gbr6xy4VHSljDPUtnrisJDrTp6+u5dolFaysLoz7tUNVFmbR0N4XtyBpjKGuqSfi+YKgy2pLAdJ2qGh3YxfffnwfaxeX87411afdt9AKDPtPdk9F01KKBoMIpULF0qBEJJ519A3T1T/M3CiqlU6kttzNnR9YRZYjsfM1VYXZ9Ax66e6Pz9BDS88g3QPeqINBdXE21UXZPJuGwaBvyMun799JUY6Db79z6VlJjNVF2WRl2nV5aRzEFAxE5J9FZI+I7BaR34qIS0TmiMhLInJARH4nIg7rXKf18wHr/pqQ63zBOr5fRN4S42tKKM+gN+lLUQQlYvvLWGsSTQfBfQ3itaIoWIYi0snjUJfUlvBifdukZtt6ff4pn6f4+mOvU9/q4fvvXk7hKPMtNpuwoDyXN3RFUcyiDgYiMgv4FLDaGLMEsAPvBb4N/JcxZj7QAXzUeshHgQ7r+H9Z5yEii63HnQusA34iItN2qU7PQOoMEyWiZzBSrTROy0qnwkjiWZz2NYh2WWmoy2pL6B308sqxzri0aSLdA8O86Zt/5/c7pm5P5sd3n+S3W4/y8cvmcfH8kjHPW6AriuIi1mGiDCBLRDKAbOAEcBXwkHX/vcAN1u311s9Y918tgT7feuB+Y8ygMeYQcABYE2O7EsYz5E36hLOgRASDg629ZNplZG+AZFRlBYN47WtQ19xDnitj5N87GhfOK8Em8OwbZ+/vkAjP1bXS0TfMU/uaJuX5znSiq5/PP7yLpZX5fObNC8Y9d2GFm9beIVoTvI1rqos6GBhjGoHvAkcJBIEuYDvQaYwJDrY2ALOs27OAY9Zjvdb5xaHHR3nMaUTkVhHZJiLbWlom5z/FmTyDPnKSfC+DILczA1emLa6VS+tbPMwuzonrdpSTLT87E7crI27DRHVNvdSWu2Mq2peflcmyqgKenaTks037AzutbT/SMelDRT6/4TO/e5Uhr58fvncFjozx/5YWVQSWGr+hvYOYxDJMVEjgU/0cYCaQQ2CYJ2GMMXcZY1YbY1aXlpYm8qnG1DuYOsNEIhLY8aw7folnh1o9CZk8nmxVhdlxGyaaaHezcF06v4RXj3XGdfXXaIwxbN7fgiPDRlP3YMJ2fhvLfS8c5oX6Nr7y9nPD2jY1uK+FTiLHJpaPb9cAh4wxLcaYYeBh4GKgwBo2AqgEgoOOjUAVgHV/PtAWenyUx0wrQ14/Q14/uSkygQxW4lmcegZen58jbR7mJPHkcVAg8Sz2N8G23kCV1WhzDEJdUluK38ALBxPbO9h7opvmnkHef35gGedk76nw2K4TLK3M512rKsM6vzTXSVGOQ+cNYhRLMDgKXCAi2dbY/9XAXmATcJN1zgbgEev2o9bPWPc/ZQL9z0eB91qrjeYAtcDWGNqVMMEsx1RJOoNgSYr4BIOGjn6GfYZ5STx5HFRVlE1DR3/MQyTxWEkUtKK6gByHPeFLTDfvDwzBfvyyeeQ6M9h2pD2hzxeqf8jHroZOLppXEvawmogEylLoiqKYxDJn8BKBieAdwGvWte4CPgd8RkQOEJgT+IX1kF8AxdbxzwCft66zB3iAQCB5HLjNGJOYjXljlCrlq0OVxbFYXX1r8i8rDaoqzKJ/2Edrb2zVQuOxkigo027jwnnFCQ8Gm/Y1c96sfCryXayoLmDb4cnrGew81sGwz3D+nKKIHrewws0bTT34/elbsiNWMc3yGWNuN8YsMsYsMcbcYq0IqjfGrDHGzDfGvMsYM2idO2D9PN+6vz7kOt80xswzxiw0xvw11heVKJ6h1NjlLFSp20lH3zBD3tjXr48sK01A9vFkqxxZURTbvMGB5l5yHHZm5Ee//WeoS2tLOdrex9G2xGzN2dk3xI6jHVy5MDAnt2p2IfubeugeSOw8RdDWQ+2IwKqayLLMF1a46RvyTfr8RipJ3iUfUyCVylcHBZc7xmNZXn2rh4LszIiLsU1Hp0pZx/bmUtfcw/yy3JhWEoW6pDaw3v7ZA4lZTfdMXSt+A5cvLANg9ewijIGdRzsT8nxn2nqoncUz8siLsMhhsEaRDhVFT4NBBHoGgj2D1FhaCoHJN4hPrkF9S29Yqz+SQTBPItYVRQeae5kfwe5mE5lbksPMfBfPvpGYoaLN+5spyM5keVUBAMurC7AJbD+c+HmDIa+fHUc7WBPhEBEEEs9AaxTFQoNBBDzWXga5zviVZp5qZXnxDAaepM48DpXjzKAoxxHTsENX/zBN3YNh73scDhHh0tpSnj/YijfOpSn8fsPT+1u4fEEpdqtEe64zg0UVeWw/mvh5g93HuxgY9kc8XwCBdlYWZuny0hhoMIjAqWGiFOoZBLOQYxwm6hkYprlnMCUmj4OqYtzX4EAcJ49DXVJbQveAl13WftDx8lpjF22eIa60hoiCVtcUsvNoZ9yDz5m2Hmq3ni/yYACwyJpEVtHRYBCB4GqiVJpALs6xitV1xxYMDrcG3jTjse/xdFFZFFvi2YFma3ezOA4TAVw8vwSR+Je03rS/GRG4bMHpCZ2rZhfSN+RL+KfurYfamVeaQ0ludGU7Fla4qW/xxGUxRDrSYBCBVFxa6siwUZidSUtvbFnIp5aVpsYwEQSykBs7+6NerljX1Isr08asONdpKspxsGRmftyDweb9LSyrLDhrAUDwk/q2BM4b+PyGlw+3s2ZOcdTXWFDuxus3HGzRjW6iocEgAp5BL44MG5lJXHdnNPFIPDvY4kEkUF8+VVQWZjHsMzRFuU90XXMv80pzR8bf4+mS2hJ2HO0Y+YASq7beQV5t6DxriAhgVkEWM/JdbEtgJvK+k930DHijmi8IGqlRpENFUUmtd7UJ+P2GH286wDNRVn7sHfTiTqFeQVA8Es/qW3qpLMzClZk68ykjy0vbo5tEjldNotFcWluC12948WBbXK73TF0LxsCVi0av+bVqdmFCy1IE5wuiWUkUNKckh0y76CRylNIqGNhswk+fPshT+5qjerwnhYrUhQruhRyLVFpJFFRlDe9EM4ncO+ilsbM/LmUoRrNqdiFZmXaerYtPvsGmfS2U5AaGn0azenYhJ7oGaOxMTFLX1kPtVBZmMbMg+iE1R4aNuSW5WqMoSmkVDADK81w0RVmls3fQl7LBoLl7MOo6PMaYQLXSFJo8BkbemKLpGRy0VhLFo0DdaJwZds6fWxSXktY+v+GZuhYuW1CKbYwhrUTOGxhj2HqoPaZeQdDCCt3oJlppGAycMQSD4ZRKOAsqzXUy6PXTE+X488nuAfqHfSk1eQzgyrRTnueMal+DugQHA4BL5pdQ3+KJ+dP6K8c66ewbHnW+IGhRhZtsh50dCRgqOtjioc0zFNN8QdDCCjeNnf30TFL5jFSSfsHA7aIpymWUnkFfSi0rDYo18ezUVpep1TOAwIqiaIaJ6pp7yLQLsxM4oX5pbWB8f0uMQ0Wb9zdjE7isduw9QjLsNpZXFSRkEvnUfEH0K4mCFlrDcjqJHLm0CwZleYHJ0miGRFJ2ziDGkhT1LalTrfRMlYVZUQ8TzS3JTeiObwvKcylzO2OuYrppfzOrZheSnz1+Zv3q2YW8fqI7biuYgrYeaqMk10lNceyBc6RG0UldXhqp9AsGbidDPj+dfZF3I3sHvSnZM4h1L+SDLR6yHXYq8uJTmXM6qSrK5kRXP8MRZt/WNfcyP45lKEYjIlxSW8JzB1qjzoVo7hlgd2M3V4wzRBS0qqYIv4FX4ly0buuhds6fUxSXYn6VhVnkOOxaoygKaRcMyq03rGjWjqfSlpehgsGgOcpgcKjVw5ySnLhV5pxOqgqz8Rs40Rn+38vAsI+j7X0JW1Ya6rLaUjr6htlzPLo3v6etjWyuWDjxNrIrqgsQIa6b3TR09HG8ayAuk8cQCJALKty6vDQKaRgMAm98kc4b+P2GvqHUXE2Un5WJw26LfpiotTflJo+DKqNYXnqwpRdj4l+GYjQXz4+tpPXm/S2UuZ0snpE34bl5rkwWlrvjmm8Qj/yCMwVrFMW6S126ScNgYPUMIlxRFNzYJhWTzkQk6izkgeHAhiKpUrr6TKf2NQg/GJza6jLxAbLU7WRRhTuqktbDPj/P1LVw5cKysHt1waJ1vjjtKLb1UDt5royRid94WFjupqNvOG47+KWLtAsGI0MikQYDq3x1KvYMAEqiTDw70taHMalVoC7UjHwXdptENIlc19SL3SbUFE/Ov8llC0rZfqSD/qHIdovdcaSDngHvmFnHo1k9u4jeQS/74jQmH8wvGCu/IRoLrElkHSqKTNoFA1emnYLszIiHiXpTsHx1qNJcZ8QBEkJWEqVY9nFQht1GRZ4romGiuuYeaoqzcWRMzn+vS+aXMOTz89KhyEpTbH6jhQybjAw1hWPV7MB2lPHIN2juGaC+1RPXISLQGkXRSrtgAMFcg8je+FKxfHWosjxnVFtf1rcGcgzmpGjPAKCqKCui7S/rmnsnZb4gaM2cIhwZtoiXmG7a18zqmkLcEWwxWVmYRZnbGZd8g5cPBa4Rj/yCUEU5DkrdTu0ZRCgtg0FZnjPilTOeFA8GpblO2jxDEW9gUt/ioTzPmbL/LhBYURTuvgaDXh9H2vomZb4gyJVpZ01NUUQlrU909bPvZM+4WcejERFW1xSy7XDswWDroTayHXbOnTnx5HWkFpZrWYpIpWcwcLsiHhJJxb0MQpW6nRgD7Z6hiB5X35o6+x6Ppaoom+aeQQaGJx6TP9zah89vElqGYjSX1Jawv6mH37x0NKycg83WktIrF0UWDABWzS6isbOfk12x7YHx0qF2VlYXJqQk/MIKN3XNPXGb6E4HaRkMyq2eQSSJOinfM4gi18AYE6hWmqLLSoOCy0vDqQF0YBJqEo3mPaureFNNIV/8w2u84yfP8cqxznHP37y/mVkFWVHlQqy25g1iyTfo7Btif1NP3OcLghZWuBkY9nM0hp3q0k2aBgMXXr+hvS/8T8Hp0DOAyLKQ2z1DdPUPp2RNolCn9jWY+I2lrrkHEZg3yQGyMMfBAx+/kB++dzknuga44cfP8bmHdo06DzTk9bOlrpXLF5ZGlSi4eGYeWZn2mIaKth3uwJj45heECi5V1Uzk8KXmO9sETiWeDYS932rKTyBHEQwOWZPHk/3GN9mqCgPBoMGaRB70+uju99I9MEzPgJfu/mG6B4bp7veyaV8z1UXZU7LJj4iwfvksrj6nnDuerOPuLYf4y+4TfPbNC/jABbNH6iRtO9yOZ8gX8XxBUKbdxrKq/JiSz7YebsdhFb9LhAXlbkQCNYrWLUnIU6Sc1Hxnm0CZlXjW3D3IuTPDe4xn0IvdJrgyU7MzFQyKkeQajFQrTeGVRBAIlA67jW/8eS9fe2zvhBuu37ymepJaNrpcZwZfvO4c3r26kq88upev/Gkv9798jK++/VzOn1vMpv3NOOw2LpoX/Sqe1bOLuPPpg1EXb9x6qJ1lVfkJC5pZDjuzi7LZ36Q9g3ClZTAIZiE3R1CfyDPoI8dhT8n6OxBYkVKR5+Lvrzfxfy6fF9a+vQdbe8m0C7Ni2J0qGdhswheuW8QbTb3kZWWQ58okz5VBXlYmbpf1c1Ymea7Az9mO6ZGLMr/Mza8+uoYn9pzk64+9znvuepH1y2fy6rFOzp9bFNOQ56qaQnybDK8e6+SiCPIUIPDBandjFx+/fG7Uzx+OBeVaoygSUf81iMhC4Hchh+YC/w7cZx2vAQ4D7zbGdEjgXfSHwHVAH/AhY8wO61obgH+zrvMNY8y90bYrHMGSzZEknqVqxdJQn792Ef/0u1f4xZZ6br1s3oTn17d4mF2ck9AyzdPFhy+eM9VNiIqIsG7JDC5fUMadmw/w02fqGfL6ueXCmpiuu7IqMIm8/UhHxMFg59FOvH4T9/yCMy2qcPP315sYGPal1N7ciRL1/2JjzH5jzHJjzHJgFYE3+D8AnweeNMbUAk9aPwNcC9RaX7cCdwKISBFwO3A+sAa4XUQKo21XOBwZNopyHBElnvUOpGbF0lDrl89k7eJyvvu3NzjQPPEnqvqW3pSfPE4VWQ47n1m7kI3/fBmfumo+N62qjOl6+dmZLCjPjSr5bOuhNmxyKps5URZW5OE3p1Z4qfHF6yPd1cBBY8wRYD0Q/GR/L3CDdXs9cJ8JeBEoEJEZwFuAjcaYdmNMB7ARWBendo2pzO2MqGfgGfKS60rtYCAifPMd55HjsPPZB3eNm4Dm9QWW7aX6stJUM7s4h8+sXUh+VvhZx2NZNbuIHUc7It5L4aVD7SyZlZ/wnvapjW50qCgc8QoG7wV+a90uN8acsG6fBMqt27OAYyGPabCOjXX8LCJyq4hsE5FtLS2xbfVXnueKaM4gHYaJILDE9Os3LOHVY53c9Wz9mOc1dPQz7DMpP3msxrZ6diE9A17eCKMXGTTo9bHzWCdvqknMktJQwfpQWqMoPDEHAxFxAG8HHjzzPhMoKB63FEBjzF3GmNXGmNWlpeFXWhxNeZ4zomEiz6CXHEfqBwOA65fO5K3nzeAHG+vG/FRV3xosUKfBIF2trrGSzyLIN9jV0MWQ15+w/IJQGXYb80tzdRI5TPHoGVwL7DDGNFk/N1nDP1jfm63jjUBVyOMqrWNjHU+ocmsv5HDT1dNhziDU19afi9uVwWcffGXULR9PLSvVYaJ0VV2UTUmuM6J8g+BmNpPRM4DAJLIOE4UnHsHgZk4NEQE8Cmywbm8AHgk5/kEJuADosoaTngDWikihNXG81jqWUGVuJ34DbZ7w5g0Cw0TpsyKhONfJN99xHrsbu7lz88Gz7q9v9VCQnUlRjmMKWqemAxFh9ezCiMpSvHSonQXluZP2d7Ogws3J7gG6otjzPN3EFAxEJAd4M/BwyOFvAW8WkTrgGutngL8A9cAB4GfAJwCMMe3A14GXra+vWccSKjTxbCLGGDxDvpSfQD7TuiUVrF8+kzuerGPP8a7T7tOVRAoCQ0XH2vvDKvzo9fnZfrh9UoaIgkYmkXXeYEIxBQNjjMcYU2yM6Qo51maMudoYU2uMuSb4xm6tIrrNGDPPGHOeMWZbyGPuNsbMt77uiaVN4Ypk+8tBrx+f36TVMFHQV952LoU5Dj77wKunZd6mQ4E6NbGVs0/lG0xk74luPEO+hOcXhFpUEV6NIq/Pz6Z9zXztT3vTdrvM9Ht3s5yqTzTxLz7V6xKNpzDHwX++4zz+4b5t/PdTdXxm7UJ6BoZp7hlM+dLVamJLZubjzLDxr7/fxY83H6AiL4uZBS4q8l3MzM8a+V6e7xyZL1gzSfMFABV5LtyujDF7Bgeae3loewMP72gYqdib47Tz2bULJ62N00X6vbtZSnKdiITXM+gdsCqWpslqojNds7icd66s5MebD/LmxRUYa4FYqu57rMLnyLDxvXcv47kDbZzs6qeho4+th9rotv7PhMq0C7OLs6nId01a+0TkrEnk7oFhHnv1BA9uP8bOo53YbcIVC0p51+pK/vfFozy8o5F/vmZBXPdlTgbp+e5GoPJicY4zrFyDVC9fHY5/f9tithxo4bMPvsI/XBqoKaPDRAoCS5GvX3p6xUfPoJcTXQOc7BrgeFdgI5wTXf1cMj+2JeHRWFjh5pFXjvPcgVYe3HaMx/ecZGDYT21ZLl+8bhE3rJhFmTsQoAa9fj59/ytsPdzOBXMnbzhrOkjfdzeCuQYTDxMFN7Zxp9kEcqj8rEy+9c6lfPiel/nO4/uwCcwuzp7qZqlpKseZwfyy3Enf5Gc0C8vd9Ax4ef/PXyLPlcFNqyq5aVUVyyrzzyo8uXZxBbnODH6/vUGDQTopc4fXM/AMac8A4MqFZbxndRW/23aM6qJsnBnps9RWJa+3LKlgd2M3F9eWsHZx+bhF67Icdq47r4I/7zrB19YvIWuaVKCdDKlfbnIc5XmusHoGPQPBCeT0+cMYy79dfw6zCrJYPCP+m5grlQhlbhffvmkpb182M6zqpTeurMQz5ONve09OQuumj7T+qFuW56K1dxCvzz9uGWbPYGAj9HTvGQC4XZk89slLsNvTa3JNpY81NUXMKsji9zsaWb981DJpKSnNewZOjIHW3vH3Qvak8dLS0RTmOMhzxV71UqnpyGYTblw5iy11LRHVL0t26R0M3OElno2sJkrTpaVKpZt3rJiF38AjryS8TNq0kd7BIMwsZM+gl2yHPe3WHSuVruaW5rKiuoDfb28kUHw59aV1MCizspCbJ0g/741y02+lVPK6cWUl+5t62Hti/FIWqSKtg0FxjgObMGGRrXTZ2EYpdcrbls7AYbfx8I70GCpK62CQYbdRkjtx4plHg4FSaacg28HV55TxyCuNo+7pkWrSOhiAlWswQeKZZ9BHjuYYKJV2blxZSWvvEM/WxbbNbjLQYBBGSYoe7RkolZYuX1BKUY6D36fBUFHaB4OyPNeEcwYenUBWKi05Mmy8fdlMNu5toqs/tXdLS/tgUO520eYZOm3jljPpnIFS6evGlbMY8vr5y2snpropCZX2wSC4vLS1d+yhIl1NpFT6Om9WPvPLcnl4R8NUNyWh0j4YnNrxbPShomGfn0GvX4eJlEpTIoHyFC8f7uBIm2eqm5MwaR8MykZKUozeM/DoxjZKpb0bls9CBP6wM3UnktM+GARLUoy1r8Gp/Y91aalS6WpmQRYXzSvm4R2pW54i7YNBcY4Du03GHCYKlq/OdWqVTqXS2Y0rKjna3se2Ix1T3ZSESPtgYLMJZe6xcw1O7X+sPQOl0tm6JRVkZdpTdiI57YMBWLkGYxSr69W9DJRSBOYNr11SwWO7TjAw7Jvq5sSdBgOsvZDHHCbSCWSlVMCNKyvpGfDy99ebpropcafBgGBJiokmkDUYKJXuLpxXzIx8V0pWMtVgQCALuaNvmEHv2V0/3fJSKRVktwk3rJjF02+00DLBPijJRoMBIctLR5lE1mEipVSoG1fMwuc3KVeeIqZgICIFIvKQiOwTkddF5EIRKRKRjSJSZ30vtM4VEblDRA6IyC4RWRlynQ3W+XUisiHWFxWpUzuenT1U1DPoxWG34cjQuKmUgtpyN7MKsth6uH2qmxJXsb7D/RB43BizCFgGvA58HnjSGFMLPGn9DHAtUGt93QrcCSAiRcDtwPnAGuD2YACZLKf2Qh69Z6DLSpVSoZZXF/DK0c6pbkZcRR0MRCQfuAz4BYAxZsgY0wmsB+61TrsXuMG6vR64zwS8CBSIyAzgLcBGY0y7MaYD2Aisi7Zd0ShzWz2DUSaRPYM+cl06RKSUOmVldSGNnf1jLjxJRrH0DOYALcA9IrJTRH4uIjlAuTEmOJh2Eii3bs8CjoU8vsE6Ntbxs4jIrSKyTUS2tbTEb+ehwmwHmXahaZQJod5BLzkODQZKqVNWVBcAsDOFegexBIMMYCVwpzFmBeDh1JAQACZQxCNuhTyMMXcZY1YbY1aXlpbG67JWFrJr1CjfO6Dlq5VSpzt3Zh4Ou42dx1KnNEUswaABaDDGvGT9/BCB4NBkDf9gfW+27m8EqkIeX2kdG+v4pCrLc46+mmhIdzlTSp3OmWFn8cw8dh7pnNTnfXz3Se54sm7UZfCxijoYGGNOAsdEZKF16GpgL/AoEFwRtAF4xLr9KPBBa1XRBUCXNZz0BLBWRAqtieO11rFJVT5Wz0A3tlFKjWJldSG7GjsZ9o29S2I8GWP48aYD/OnV4zjs8V/dGOsVPwn8WkR2AcuB/wC+BbxZROqAa6yfAf4C1AMHgJ8BnwAwxrQDXwdetr6+Zh2bVGNlIeuWl0qp0ayoLmBg2M/+kz2T8nw7jnbwWmMXGy6qQUTifv2Y3uWMMa8Aq0e56+pRzjXAbWNc527g7ljaEquyPBfdA14Ghn24Mk8tJfUM+nSYSCl1llOTyB0smZWf8Oe757nDuF0Z3Lhy1PU1MdNMKsup5aWn5g38fmMNE2megVLqdLMKsih1O9kxCSuKTnYN8NfdJ3nvm6rITtDqRg0GlpHEs5As5D6rTK32DJRSZxIRVlQVsPNo4lcU/fqlI/iN4ZYLahL2HBoMLKeykE8Fg5EidZp0ppQaxcrZhRxu66PdM5Sw5xgY9vGbl45y9aJyqouzE/Y8Ggws5VZ9otCSFFq+Wik1nhVVBQC8ksB8g8d2naDNM8SHL65J2HOABoMR+VmZODJsp5Wk6B2wKpZqBrJSahTnVeZjt0nCMpGNMfzy+UPUluVy0bzihDxHkAYDi4ictbxUy1crpcaT7chgUYWbHQmaN9hxtIPdjd0JW04aSoNBiDL36Xsh6zCRUmoiK6oLePVYFz5/3CrvjEj0ctJQGgxCnNUzGNIJZKXU+FZWF9I76OVAc29cr3uiqz/hy0lDaTAIUeZ2nZZn0DsYXFqqeQZKqdGtqA5svxLvJaa/fvEofmP44IU1cb3uWDQYhCjPc9Ez6B2ZKwhOIOswkVJqLDXF2RRkZ8Z13mBg2MdvtwaWk1YVJW45aSgNBiHKR7a/DPQOPINebAJZmdozUEqN7lTyWWfcrjlZy0lDaTAIcWbiWe9goHx1omfxlVLJbWV1IXXNvXT1D8d8LWMM9zw3OctJQ2kwCDFaz0CHiJRSEwnOG+xq6Iz5WtuPdLDneDcfujjxy0lDaTAIUeoO9Ayaz+gZKKXUeJZW5SMSn20wf/n8YfJcGbxjReKXk4bSYBAiz5WBK9N21jCRUkqNJ8+VSW1ZbsyTyMHlpO+ZpOWkoTQYhAhkIbtG6hN5tHy1UipMK6oK2Xm0k8DWLdGZ7OWkoTQYnCF0+0vPoE/nDJRSYVk5u4Cu/mEOtXqievzAsI/fbD3KNedM3nLSUBoMzlCW5xyZQNZhIqVUuE4ln3VG9fjHdp2g3TPEhy6qiV+jIqDB4AyBYaJTcwbaM1BKhWN+aS5uZ0ZU8wZTtZw0lAaDM5S5nfQN+egZGMajPQOlVJhsNmFZlMlnU7WcNJQGgzMEE8+Otffj9RvtGSilwraiuoB9J7vps4pchuuuZ+qnZDlpKA0GZyizEs/qWwMVCDUYKKXCtbK6EL+BXQ1dYT/mqX1N/G1vEx+7dO6kLycNpcHgDMGewcHmwIoAHSZSSoVrubUNZrhDRZ5BL1/+4x5qy3L5+OXzEtewMOg73RmCweBUz0DzDJRS4SnMcTCnJCfsSeTvb3yDxs5+Hvo/F+LImNrP5tozOEOuM4Mch31krbD2DJRSkQhWMJ0o+ey1hi7uee4Q7z+/mtU1RZPUurFpMBhFeZ6L+pZAMNA5A6VUJFbMLqS1d5CGjv4xz/H6/Hz+4V0U5zr513WLJrF1Y9NgMIpSt1P3P1ZKRWVFcN7gWOeY5/zy+cPsOd7NV99+LvlZmZPTsAnEFAxE5LCIvCYir4jINutYkYhsFJE663uhdVxE5A4ROSAiu0RkZch1Nljn14nIhtheUuyC8wagw0RKqcgsqnDjyrSNuQ3msfY+vve3N7jmnDKuXVIxya0bWzx6BlcaY5YbY1ZbP38eeNIYUws8af0McC1Qa33dCtwJgeAB3A6cD6wBbg8GkKkS3NcANBgopSKTYbextLKAHaOsKDLG8OVHdiMCX12/ZFptnJWIYaL1wL3W7XuBG0KO32cCXgQKRGQG8BZgozGm3RjTAWwE1iWgXWE7rWfg0NVESqnIrKguYO/xLgaGfacdf2zXCTbvb+Ff1i5kVkHWFLVudLEGAwP8TUS2i8it1rFyY8wJ6/ZJoNy6PQs4FvLYBuvYWMenTJkVDLIy7WTYdVpFKRWZldWFDPsMe453jxzr6hvmq3/aw9LKfDZMUTG68cQ6BnKJMaZRRMqAjSKyL/ROY4wRkeiLe5/BCji3AlRXV8frsmcpdweGiXSISCkVjZFJ5KMdrJodGPX+1uOv09E3zL0fWYPdNn2Gh4Ji+thrjGm0vjcDfyAw5t9kDf9gfW+2Tm8EqkIeXmkdG+v4aM93lzFmtTFmdWlpaSxNH1dwmEgTzpRS0SjLczGrIGskE/ml+jZ+u/UY/3DJHM6dmT+1jRtD1MFARHJExB28DawFdgOPAsEVQRuAR6zbjwIftFYVXQB0WcNJTwBrRaTQmjheax2bMsH6RNozUEpFa0V1ATuPdjDo9fGFP7xGZWEWn76mdqqbNaZY3u3KgT9Ys+EZwG+MMY+LyMvAAyLyUeAI8G7r/L8A1wEHgD7gwwDGmHYR+TrwsnXe14wx7TG0K2bZjgzczgzNMVBKRW1FdSGP7TrBVx7dS32Lh19++E1TWohuIlG3zBhTDywb5XgbcPUoxw1w2xjXuhu4O9q2JMKMAte0SQZRSiWfldUFAPx261HWL5/JFQvLprZBE5i+YWqKffddy6Z1FFdKTW+LZ+bhsNvIctj58vWLp7o5E9J3uzEsrSyY6iYopZKYM8POF69bRE1JDiW5zokfMMU0GCilVIJ86OI5U92EsGlGlVJKKQ0GSimlNBgopZRCg4FSSik0GCillEKDgVJKKTQYKKWUQoOBUkopQAIlg5KPiLQQKIQXqgRonYLmxFuqvA7Q1zJdpcprSZXXAZPzWmYbY0at/5+0wWA0IrItZC/mpJUqrwP0tUxXqfJaUuV1wNS/Fh0mUkoppcFAKaVU6gWDu6a6AXGSKq8D9LVMV6nyWlLldcAUv5aUmjNQSikVnVTrGSillIqCBgOllFKpEQxEZJ2I7BeRAyLy+aluTyxE5LCIvCYir4jItqluTyRE5G4RaRaR3SHHikRko4jUWd8Lp7KN4RrjtXxFRBqt380rInLdVLYxHCJSJSKbRGSviOwRkU9bx5Pu9zLOa0mq34uIuERkq4i8ar2Or1rH54jIS9b72O9ExDGp7Ur2OQMRsQNvAG8GGoCXgZuNMXuntGFREpHDwGpjTNIl0ojIZUAvcJ8xZol17DtAuzHmW1agLjTGfG4q2xmOMV7LV4BeY8x3p7JtkRCRGcAMY8wOEXED24EbgA+RZL+XcV7Lu0mi34uICJBjjOkVkUxgC/Bp4DPAw8aY+0Xkp8Crxpg7J6tdqdAzWAMcMMbUG2OGgPuB9VPcprRkjHkGaD/j8HrgXuv2vQT+8057Y7yWpGOMOWGM2WHd7gFeB2aRhL+XcV5LUjEBvdaPmdaXAa4CHrKOT/rvJBWCwSzgWMjPDSThH0gIA/xNRLaLyK1T3Zg4KDfGnLBunwTKp7IxcfCPIrLLGkaa9kMroUSkBlgBvESS/17OeC2QZL8XEbGLyCtAM7AROAh0GmO81imT/j6WCsEg1VxijFkJXAvcZg1XpAQTGJNM5nHJO4F5wHLgBPC9KW1NBEQkF/g98E/GmO7Q+5Lt9zLKa0m634sxxmeMWQ5UEhjdWDS1LUqNYNAIVIX8XGkdS0rGmEbrezPwBwJ/KMmsyRrrDY75Nk9xe6JmjGmy/hP7gZ+RJL8ba1z698CvjTEPW4eT8vcy2mtJ1t8LgDGmE9gEXAgUiEiGddekv4+lQjB4Gai1ZuIdwHuBR6e4TVERkRxrYgwRyQHWArvHf9S09yiwwbq9AXhkCtsSk+Cbp+UdJMHvxpqs/AXwujHm+yF3Jd3vZazXkmy/FxEpFZEC63YWgcUvrxMICjdZp0367yTpVxMBWEvJfgDYgbuNMd+c2hZFR0TmEugNAGQAv0mm1yIivwWuIFCKtwm4Hfgj8ABQTaDk+LuNMdN+YnaM13IFgaEIAxwGPh4y7j4ticglwLPAa4DfOvxFAmPtSfV7Gee13EwS/V5EZCmBCWI7gQ/kDxhjvmb9/78fKAJ2Ah8wxgxOWrtSIRgopZSKTSoMEymllIqRBgOllFIaDJRSSmkwUEophQYDpZRSaDBQKiZWxcx/mep2KBUrDQZKKaU0GCgVKRH5koi8ISJbgIXWsY+JyMtWjfrfi0i2iLhF5JBVQgERyQv9WanpRIOBUhEQkVUESp4sB64D3mTd9bAx5k3GmGUESgt81CqzvBl4q3XOe63zhie10UqFQYOBUpG5FPiDMabPqpgZrIO1RESeFZHXgPcD51rHfw582Lr9YeCeSW2tUmHSYKBUfPwS+EdjzHnAVwEXgDHmOaBGRK4A7MaYaV1ETaUvDQZKReYZ4AYRybIqzL7NOu4GTljzAe8/4zH3Ab9BewVqGtNCdUpFSES+RKDEcDNwFNgBeIB/BVoIVAR1G2M+ZJ1fARwisH9v5xQ0WakJaTBQKsFE5CZgvTHmlqlui1JjyZj4FKVUtETkRwS2ML1uqtui1Hi0Z6CUUkonkJVSSmkwUEophQYDpZRSaDBQSimFBgOllFLA/wOSOP4hbjgOHgAAAABJRU5ErkJggg==\n",
       "datasetInfos": [],
       "metadata": {},
       "removedWidgets": [],
       "type": "image"
      }
     },
     "output_type": "display_data"
    }
   ],
   "source": [
    "daily_hosts_df.plot(x='day', y='count', kind='line')"
   ]
  },
  {
   "cell_type": "markdown",
   "metadata": {
    "application/vnd.databricks.v1+cell": {
     "cellMetadata": {},
     "inputWidgets": {},
     "nuid": "4832adc3-7519-46f3-88a0-db5119c77059",
     "showTitle": false,
     "title": ""
    },
    "colab_type": "text",
    "id": "O5M-HoWHXvD1"
   },
   "source": [
    "## Your Turn: Q9: Counting 404 Response Codes\n",
    "\n",
    "Create a DataFrame containing only log records with a 404 status code (Not Found). \n",
    "\n",
    "Make sure you `cache()` the `not_found_df` dataframe as we will use it in the rest of the exercises here.\n",
    "\n",
    "__How many 404 records are in the log?__"
   ]
  },
  {
   "cell_type": "code",
   "execution_count": 0,
   "metadata": {
    "application/vnd.databricks.v1+cell": {
     "cellMetadata": {
      "byteLimit": 2048000,
      "rowLimit": 10000
     },
     "inputWidgets": {},
     "nuid": "ff196c2b-cf05-4712-a811-915bdd14ca25",
     "showTitle": false,
     "title": ""
    },
    "colab": {},
    "colab_type": "code",
    "id": "XovkxrduXvD2",
    "outputId": "662c54ce-9fd3-4d97-dbf5-30a1a77b90f9"
   },
   "outputs": [
    {
     "output_type": "stream",
     "name": "stdout",
     "output_type": "stream",
     "text": [
      "Total 404 responses: 20899\n"
     ]
    }
   ],
   "source": [
    "# TODO: Replace <FILL IN> with appropriate code\n",
    "\n",
    "not_found_df = logs_df.where(logs_df.status == 404)\n",
    "print(('Total 404 responses: {}').format(not_found_df.count()))"
   ]
  },
  {
   "cell_type": "markdown",
   "metadata": {
    "application/vnd.databricks.v1+cell": {
     "cellMetadata": {},
     "inputWidgets": {},
     "nuid": "a936936b-e20e-4676-affd-695a82b994a6",
     "showTitle": false,
     "title": ""
    },
    "colab_type": "text",
    "id": "wdwYDLCnXvD5"
   },
   "source": [
    "## Your Turn: Q10: Listing the Top Twenty 404 Response Code Endpoints\n",
    "\n",
    "Using the DataFrame containing only log records with a 404 response code that you cached in Q9, print out a list of the top twenty endpoints that generate the most 404 errors.\n",
    "\n",
    "*Remember, top endpoints should be in sorted order*"
   ]
  },
  {
   "cell_type": "code",
   "execution_count": 0,
   "metadata": {
    "application/vnd.databricks.v1+cell": {
     "cellMetadata": {
      "byteLimit": 2048000,
      "rowLimit": 10000
     },
     "inputWidgets": {},
     "nuid": "da8a9525-cd60-40da-9c1c-5e548276d0cc",
     "showTitle": false,
     "title": ""
    },
    "colab": {},
    "colab_type": "code",
    "id": "Gv3egQAEXvD5",
    "outputId": "6725f87c-1cd4-4387-f61f-9c7cd58f1f93"
   },
   "outputs": [
    {
     "output_type": "stream",
     "name": "stdout",
     "output_type": "stream",
     "text": [
      "+-----------------------------------------------------------------+-----+\n|endpoint                                                         |count|\n+-----------------------------------------------------------------+-----+\n|/pub/winvn/readme.txt                                            |2004 |\n|/pub/winvn/release.txt                                           |1732 |\n|/shuttle/missions/STS-69/mission-STS-69.html                     |683  |\n|/shuttle/missions/sts-68/ksc-upclose.gif                         |428  |\n|/history/apollo/a-001/a-001-patch-small.gif                      |384  |\n|/history/apollo/sa-1/sa-1-patch-small.gif                        |383  |\n|/://spacelink.msfc.nasa.gov                                      |381  |\n|/images/crawlerway-logo.gif                                      |374  |\n|/elv/DELTA/uncons.htm                                            |372  |\n|/history/apollo/pad-abort-test-1/pad-abort-test-1-patch-small.gif|359  |\n|/images/nasa-logo.gif                                            |319  |\n|/shuttle/resources/orbiters/atlantis.gif                         |314  |\n|/history/apollo/apollo-13.html                                   |304  |\n|/shuttle/resources/orbiters/discovery.gif                        |263  |\n|/shuttle/missions/sts-71/images/KSC-95EC-0916.txt                |190  |\n|/shuttle/resources/orbiters/challenger.gif                       |170  |\n|/shuttle/missions/technology/sts-newsref/stsref-toc.html         |158  |\n|/history/apollo/images/little-joe.jpg                            |150  |\n|/images/lf-logo.gif                                              |143  |\n|/history/apollo/publications/sp-350/sp-350.txt~                  |140  |\n+-----------------------------------------------------------------+-----+\n\n"
     ]
    }
   ],
   "source": [
    "# TODO: Replace <FILL IN> with appropriate code\n",
    "\n",
    "hosts_404_count_df = (not_found_df\n",
    "                        .groupBy('endpoint')\n",
    "                        .count()\n",
    "                        .sort('count', ascending=False)\n",
    "                        .limit(20))\n",
    "\n",
    "hosts_404_count_df.show(truncate=False)"
   ]
  },
  {
   "cell_type": "markdown",
   "metadata": {
    "application/vnd.databricks.v1+cell": {
     "cellMetadata": {},
     "inputWidgets": {},
     "nuid": "a9f20fe2-c714-4008-a0f0-954b14325dac",
     "showTitle": false,
     "title": ""
    },
    "colab_type": "text",
    "id": "UpQl8xaPXvD8"
   },
   "source": [
    "## Your Turn: Q11: Visualizing 404 Errors per Day\n",
    "\n",
    "Let's explore the 404 records temporally now. Similar to the example showing the number of unique daily hosts, break down the 404 requests by day and get the daily counts sorted by day in `errors_by_date_sorted_df`.\n",
    "\n",
    "- Display the results as a pandas dataframe \n",
    "- Also visualize the same dataframe then as a line chart"
   ]
  },
  {
   "cell_type": "code",
   "execution_count": 0,
   "metadata": {
    "application/vnd.databricks.v1+cell": {
     "cellMetadata": {
      "byteLimit": 2048000,
      "rowLimit": 10000
     },
     "inputWidgets": {},
     "nuid": "37e980fc-e6cb-4394-b4f9-4b0964f0b920",
     "showTitle": false,
     "title": ""
    },
    "colab": {},
    "colab_type": "code",
    "id": "69N8tHpzXvD9",
    "outputId": "1746aabb-b068-43c0-bbe6-580c3fce7639"
   },
   "outputs": [
    {
     "output_type": "display_data",
     "data": {
      "text/html": [
       "<div>\n",
       "<style scoped>\n",
       "    .dataframe tbody tr th:only-of-type {\n",
       "        vertical-align: middle;\n",
       "    }\n",
       "\n",
       "    .dataframe tbody tr th {\n",
       "        vertical-align: top;\n",
       "    }\n",
       "\n",
       "    .dataframe thead th {\n",
       "        text-align: right;\n",
       "    }\n",
       "</style>\n",
       "<table border=\"1\" class=\"dataframe\">\n",
       "  <thead>\n",
       "    <tr style=\"text-align: right;\">\n",
       "      <th></th>\n",
       "      <th>0</th>\n",
       "      <th>1</th>\n",
       "      <th>2</th>\n",
       "      <th>3</th>\n",
       "      <th>4</th>\n",
       "      <th>5</th>\n",
       "      <th>6</th>\n",
       "      <th>7</th>\n",
       "      <th>8</th>\n",
       "      <th>9</th>\n",
       "      <th>...</th>\n",
       "      <th>21</th>\n",
       "      <th>22</th>\n",
       "      <th>23</th>\n",
       "      <th>24</th>\n",
       "      <th>25</th>\n",
       "      <th>26</th>\n",
       "      <th>27</th>\n",
       "      <th>28</th>\n",
       "      <th>29</th>\n",
       "      <th>30</th>\n",
       "    </tr>\n",
       "  </thead>\n",
       "  <tbody>\n",
       "    <tr>\n",
       "      <th>day</th>\n",
       "      <td>1</td>\n",
       "      <td>2</td>\n",
       "      <td>3</td>\n",
       "      <td>4</td>\n",
       "      <td>5</td>\n",
       "      <td>6</td>\n",
       "      <td>7</td>\n",
       "      <td>8</td>\n",
       "      <td>9</td>\n",
       "      <td>10</td>\n",
       "      <td>...</td>\n",
       "      <td>22</td>\n",
       "      <td>23</td>\n",
       "      <td>24</td>\n",
       "      <td>25</td>\n",
       "      <td>26</td>\n",
       "      <td>27</td>\n",
       "      <td>28</td>\n",
       "      <td>29</td>\n",
       "      <td>30</td>\n",
       "      <td>31</td>\n",
       "    </tr>\n",
       "    <tr>\n",
       "      <th>count</th>\n",
       "      <td>268</td>\n",
       "      <td>147</td>\n",
       "      <td>382</td>\n",
       "      <td>374</td>\n",
       "      <td>367</td>\n",
       "      <td>453</td>\n",
       "      <td>470</td>\n",
       "      <td>300</td>\n",
       "      <td>290</td>\n",
       "      <td>348</td>\n",
       "      <td>...</td>\n",
       "      <td>233</td>\n",
       "      <td>313</td>\n",
       "      <td>337</td>\n",
       "      <td>423</td>\n",
       "      <td>347</td>\n",
       "      <td>337</td>\n",
       "      <td>267</td>\n",
       "      <td>230</td>\n",
       "      <td>261</td>\n",
       "      <td>273</td>\n",
       "    </tr>\n",
       "  </tbody>\n",
       "</table>\n",
       "<p>2 rows × 31 columns</p>\n",
       "</div>"
      ]
     },
     "metadata": {
      "application/vnd.databricks.v1+output": {
       "addedWidgets": {},
       "arguments": {},
       "data": "<div>\n<style scoped>\n    .dataframe tbody tr th:only-of-type {\n        vertical-align: middle;\n    }\n\n    .dataframe tbody tr th {\n        vertical-align: top;\n    }\n\n    .dataframe thead th {\n        text-align: right;\n    }\n</style>\n<table border=\"1\" class=\"dataframe\">\n  <thead>\n    <tr style=\"text-align: right;\">\n      <th></th>\n      <th>0</th>\n      <th>1</th>\n      <th>2</th>\n      <th>3</th>\n      <th>4</th>\n      <th>5</th>\n      <th>6</th>\n      <th>7</th>\n      <th>8</th>\n      <th>9</th>\n      <th>...</th>\n      <th>21</th>\n      <th>22</th>\n      <th>23</th>\n      <th>24</th>\n      <th>25</th>\n      <th>26</th>\n      <th>27</th>\n      <th>28</th>\n      <th>29</th>\n      <th>30</th>\n    </tr>\n  </thead>\n  <tbody>\n    <tr>\n      <th>day</th>\n      <td>1</td>\n      <td>2</td>\n      <td>3</td>\n      <td>4</td>\n      <td>5</td>\n      <td>6</td>\n      <td>7</td>\n      <td>8</td>\n      <td>9</td>\n      <td>10</td>\n      <td>...</td>\n      <td>22</td>\n      <td>23</td>\n      <td>24</td>\n      <td>25</td>\n      <td>26</td>\n      <td>27</td>\n      <td>28</td>\n      <td>29</td>\n      <td>30</td>\n      <td>31</td>\n    </tr>\n    <tr>\n      <th>count</th>\n      <td>268</td>\n      <td>147</td>\n      <td>382</td>\n      <td>374</td>\n      <td>367</td>\n      <td>453</td>\n      <td>470</td>\n      <td>300</td>\n      <td>290</td>\n      <td>348</td>\n      <td>...</td>\n      <td>233</td>\n      <td>313</td>\n      <td>337</td>\n      <td>423</td>\n      <td>347</td>\n      <td>337</td>\n      <td>267</td>\n      <td>230</td>\n      <td>261</td>\n      <td>273</td>\n    </tr>\n  </tbody>\n</table>\n<p>2 rows × 31 columns</p>\n</div>",
       "datasetInfos": [],
       "metadata": {},
       "removedWidgets": [],
       "textData": null,
       "type": "htmlSandbox"
      }
     },
     "output_type": "display_data"
    }
   ],
   "source": [
    "# TODO: Replace <FILL IN> with appropriate code\n",
    "logs404_df = logs_df.where(logs_df.status == 404)\n",
    "\n",
    "unique_logs404_df_by_day = (logs404\n",
    "                                .select(logs_df.host, F.dayofmonth('time').alias('day'))\n",
    "                                .drop_duplicates()\n",
    "                                .orderBy('day'))\n",
    "\n",
    "errors_by_date_sorted_df = (unique_logs404_df_by_day\n",
    "                                .groupBy('day')\n",
    "                                .count()\n",
    "                                .sort(\"day\"))\n",
    "\n",
    "errors_by_date_sorted_df = errors_by_date_sorted_df.toPandas()\n",
    "errors_by_date_sorted_df.T\n"
   ]
  },
  {
   "cell_type": "code",
   "execution_count": 0,
   "metadata": {
    "application/vnd.databricks.v1+cell": {
     "cellMetadata": {
      "byteLimit": 2048000,
      "rowLimit": 10000
     },
     "inputWidgets": {},
     "nuid": "a6d59fba-6d7d-4033-813c-671f1425b449",
     "showTitle": false,
     "title": ""
    },
    "colab": {},
    "colab_type": "code",
    "id": "y-pFX8dJXvD_"
   },
   "outputs": [
    {
     "output_type": "stream",
     "name": "stdout",
     "output_type": "stream",
     "text": [
      "Out[190]: <AxesSubplot:xlabel='day'>"
     ]
    },
    {
     "output_type": "display_data",
     "data": {
      "image/png": "[encoded data removed]"
     },
     "metadata": {
      "application/vnd.databricks.v1+output": {
       "addedWidgets": {},
       "arguments": {},
       "data": "data:image/png;base64,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\n",
       "datasetInfos": [],
       "metadata": {},
       "removedWidgets": [],
       "type": "image"
      }
     },
     "output_type": "display_data"
    }
   ],
   "source": [
    "errors_by_date_sorted_df.plot(x='day', y='count', kind='line')"
   ]
  },
  {
   "cell_type": "markdown",
   "metadata": {
    "application/vnd.databricks.v1+cell": {
     "cellMetadata": {},
     "inputWidgets": {},
     "nuid": "777251a2-a19a-4f7e-b59a-a25774700cd1",
     "showTitle": false,
     "title": ""
    },
    "colab_type": "text",
    "id": "lRY2RYHeXvED"
   },
   "source": [
    "## Your Turn: Q12: Visualizing Hourly 404 Errors\n",
    "\n",
    "Using the DataFrame `not_found_df` you cached in the Q10, group and sort by hour of the day in increasing order, to create a DataFrame containing the total number of 404 responses for HTTP requests for each hour of the day (midnight starts at 0). \n",
    "\n",
    "- Remember to check out the [__hour__](https://spark.apache.org/docs/latest/api/python/pyspark.sql.html#pyspark.sql.functions.hour) function and use it (we have already imported __`pyspark.sql.functions`__ as __`F`__ earlier\n",
    "- Output should be a bar graph displaying the total number of 404 errors per hour"
   ]
  },
  {
   "cell_type": "code",
   "execution_count": 0,
   "metadata": {
    "application/vnd.databricks.v1+cell": {
     "cellMetadata": {
      "byteLimit": 2048000,
      "rowLimit": 10000
     },
     "inputWidgets": {},
     "nuid": "e5ba8d72-6d8b-493e-9630-cd609f301697",
     "showTitle": false,
     "title": ""
    }
   },
   "outputs": [
    {
     "output_type": "stream",
     "name": "stdout",
     "output_type": "stream",
     "text": [
      "+--------------------+------+--------------------+----------------+------+------------+-------------------+\n|                host|method|            endpoint|        protocol|status|content_size|               time|\n+--------------------+------+--------------------+----------------+------+------------+-------------------+\n|js002.cc.utsunomi...|   GET|/shuttle/resource...|        HTTP/1.0|   404|           0|1995-08-01 00:07:33|\n|     tia1.eskimo.com|   GET|/pub/winvn/releas...|        HTTP/1.0|   404|           0|1995-08-01 00:28:41|\n|grimnet23.idirect...|   GET|/www/software/win...|        HTTP/1.0|   404|           0|1995-08-01 00:50:12|\n|miriworld.its.uni...|   GET|/history/history.htm|        HTTP/1.0|   404|           0|1995-08-01 01:04:54|\n|       ras38.srv.net|   GET|/elv/DELTA/uncons...|        HTTP/1.0|   404|           0|1995-08-01 01:05:14|\n|  cs1-06.leh.ptd.net|   GET|     /sts-71/launch/|Unknown Protocol|   404|           0|1995-08-01 01:17:38|\n|dialip-24.athenet...|   GET|/history/apollo/a...|        HTTP/1.0|   404|           0|1995-08-01 01:33:02|\n|   h96-158.ccnet.com|   GET|/history/apollo/a...|        HTTP/1.0|   404|           0|1995-08-01 01:35:50|\n|   h96-158.ccnet.com|   GET|/history/apollo/a...|        HTTP/1.0|   404|           0|1995-08-01 01:36:23|\n|   h96-158.ccnet.com|   GET|/history/apollo/a...|        HTTP/1.0|   404|           0|1995-08-01 01:36:30|\n|   h96-158.ccnet.com|   GET|/history/apollo/a...|        HTTP/1.0|   404|           0|1995-08-01 01:36:38|\n|   h96-158.ccnet.com|   GET|/history/apollo/a...|        HTTP/1.0|   404|           0|1995-08-01 01:36:42|\n|   h96-158.ccnet.com|   GET|/history/apollo/a...|        HTTP/1.0|   404|           0|1995-08-01 01:36:44|\n|   h96-158.ccnet.com|   GET|/history/apollo/a...|        HTTP/1.0|   404|           0|1995-08-01 01:36:47|\n|   h96-158.ccnet.com|   GET|/history/apollo/a...|        HTTP/1.0|   404|           0|1995-08-01 01:37:04|\n|   h96-158.ccnet.com|   GET|/history/apollo/a...|        HTTP/1.0|   404|           0|1995-08-01 01:37:05|\n|   h96-158.ccnet.com|   GET|/history/apollo/a...|        HTTP/1.0|   404|           0|1995-08-01 01:37:08|\n|hsccs_gatorbox07....|   GET|/pub/winvn/releas...|        HTTP/1.0|   404|           0|1995-08-01 01:44:06|\n|www-b2.proxy.aol.com|   GET|/pub/winvn/readme...|        HTTP/1.0|   404|           0|1995-08-01 01:48:29|\n|www-b2.proxy.aol.com|   GET|/pub/winvn/releas...|        HTTP/1.0|   404|           0|1995-08-01 01:48:48|\n+--------------------+------+--------------------+----------------+------+------------+-------------------+\nonly showing top 20 rows\n\n"
     ]
    }
   ],
   "source": [
    "#Remove\n",
    "not_found_df.show()"
   ]
  },
  {
   "cell_type": "code",
   "execution_count": 0,
   "metadata": {
    "application/vnd.databricks.v1+cell": {
     "cellMetadata": {
      "byteLimit": 2048000,
      "rowLimit": 10000
     },
     "inputWidgets": {},
     "nuid": "580f15ba-f541-4b55-afb0-bb68d716b673",
     "showTitle": false,
     "title": ""
    },
    "colab": {},
    "colab_type": "code",
    "id": "T7Y0Dbz3XvEF",
    "outputId": "873d829e-6b6d-4dc1-b894-0796ef91aec1"
   },
   "outputs": [
    {
     "output_type": "stream",
     "name": "stdout",
     "output_type": "stream",
     "text": [
      "+----+-----+\n|hour|count|\n+----+-----+\n|   0|  774|\n|   1|  648|\n|   2|  868|\n|   3|  603|\n|   4|  351|\n|   5|  307|\n|   6|  269|\n|   7|  458|\n|   8|  705|\n|   9|  840|\n|  10| 1087|\n|  11| 1160|\n|  12| 1308|\n|  13| 1151|\n|  14| 1274|\n|  15| 1382|\n|  16| 1181|\n|  17| 1203|\n|  18|  930|\n|  19|  852|\n+----+-----+\nonly showing top 20 rows\n\n"
     ]
    }
   ],
   "source": [
    "# TODO: Replace <FILL IN> with appropriate code\n",
    "hourly_avg_errors_sorted_df = (not_found_df\n",
    "                                .select(not_found_df.status, F.hour('time').alias('hour'))\n",
    "                                ).groupBy('hour').count().orderBy('hour')\n",
    "\n",
    "hourly_avg_errors_sorted_df.show()"
   ]
  },
  {
   "cell_type": "code",
   "execution_count": 0,
   "metadata": {
    "application/vnd.databricks.v1+cell": {
     "cellMetadata": {
      "byteLimit": 2048000,
      "rowLimit": 10000
     },
     "inputWidgets": {},
     "nuid": "6d330934-7611-4b0f-b0ee-32bd1c935f22",
     "showTitle": false,
     "title": ""
    },
    "colab": {},
    "colab_type": "code",
    "id": "R1vsAPs1XvEJ"
   },
   "outputs": [
    {
     "output_type": "stream",
     "name": "stdout",
     "output_type": "stream",
     "text": [
      "Out[199]: <AxesSubplot:title={'center':'Number of 404 by Hour'}, xlabel='hour'>"
     ]
    },
    {
     "output_type": "display_data",
     "data": {
      "image/png": "[encoded data removed]"
     },
     "metadata": {
      "application/vnd.databricks.v1+output": {
       "addedWidgets": {},
       "arguments": {},
       "data": "data:image/png;base64,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\n",
       "datasetInfos": [],
       "metadata": {},
       "removedWidgets": [],
       "type": "image"
      }
     },
     "output_type": "display_data"
    }
   ],
   "source": [
    "hourly_avg_errors_sorted_df.toPandas().plot(x='hour', y='count', kind='bar', title=\"Number of 404 by Hour\")"
   ]
  },
  {
   "cell_type": "markdown",
   "metadata": {
    "application/vnd.databricks.v1+cell": {
     "cellMetadata": {},
     "inputWidgets": {},
     "nuid": "c91754df-bbb2-4492-9e4f-b5777a446747",
     "showTitle": false,
     "title": ""
    },
    "colab_type": "text",
    "id": "GYWAsa8mY425"
   },
   "source": [
    "# Load Data"
   ]
  },
  {
   "cell_type": "markdown",
   "metadata": {
    "application/vnd.databricks.v1+cell": {
     "cellMetadata": {},
     "inputWidgets": {},
     "nuid": "90d694ba-77d1-4fc3-a8ae-690e112cd728",
     "showTitle": false,
     "title": ""
    },
    "colab_type": "text",
    "id": "woEUWlYCY9h0"
   },
   "source": [
    "Up till now, you have completed data extraction, data transformation, and some exploratory data analysis. In the end of this project, we will complete the last step of ETL process: data loading, so the data after  your processing, wrangling, cleaning, can be used by either yourself or other colleagues later. Since we have gone through a few iteration of data processing and data wrangling, it is a good idea to make sure which one is the current dataframe you want to store and load."
   ]
  },
  {
   "cell_type": "markdown",
   "metadata": {
    "application/vnd.databricks.v1+cell": {
     "cellMetadata": {},
     "inputWidgets": {},
     "nuid": "1448a158-cfcc-4c3e-93a4-9cc557e7e83d",
     "showTitle": false,
     "title": ""
    },
    "colab_type": "text",
    "id": "gde50KFwZCyR"
   },
   "source": [
    "## Your Turn: Q13: Check data integrity before loading"
   ]
  },
  {
   "cell_type": "code",
   "execution_count": 0,
   "metadata": {
    "application/vnd.databricks.v1+cell": {
     "cellMetadata": {
      "byteLimit": 2048000,
      "rowLimit": 10000
     },
     "inputWidgets": {},
     "nuid": "77848013-a5d6-4b95-b482-a3ba13a4d32d",
     "showTitle": false,
     "title": ""
    },
    "colab": {},
    "colab_type": "code",
    "id": "Jp9HtJDZZDgm",
    "outputId": "d94fda2f-0e91-401a-eb33-dfa58e5b8f0d"
   },
   "outputs": [
    {
     "output_type": "stream",
     "name": "stdout",
     "output_type": "stream",
     "text": [
      "3461612\n['host', 'method', 'endpoint', 'protocol', 'status', 'content_size', 'time']\n"
     ]
    }
   ],
   "source": [
    "# TODO: Review the data frame you will like to store and load. Replace <FILL IN> with appropriate code\n",
    "\n",
    "print(logs_df.count())\n",
    "print(logs_df.columns)"
   ]
  },
  {
   "cell_type": "markdown",
   "metadata": {
    "application/vnd.databricks.v1+cell": {
     "cellMetadata": {},
     "inputWidgets": {},
     "nuid": "9d174e92-8fda-491d-96d0-33819c7b92ba",
     "showTitle": false,
     "title": ""
    },
    "colab_type": "text",
    "id": "6KT_ajIJZFsi"
   },
   "source": [
    "To save your dataframe in CSV file format, you call simply replace the name of the dataframe and assign file name in the following:"
   ]
  },
  {
   "cell_type": "markdown",
   "metadata": {
    "application/vnd.databricks.v1+cell": {
     "cellMetadata": {},
     "inputWidgets": {},
     "nuid": "74599e63-089b-41c1-8b98-07c49a75aac9",
     "showTitle": false,
     "title": ""
    },
    "colab_type": "text",
    "id": "GuiBAZEqZJT1"
   },
   "source": [
    "## Your Turn: Q14: Save your data as a CSV file"
   ]
  },
  {
   "cell_type": "code",
   "execution_count": 0,
   "metadata": {
    "application/vnd.databricks.v1+cell": {
     "cellMetadata": {
      "byteLimit": 2048000,
      "rowLimit": 10000
     },
     "inputWidgets": {},
     "nuid": "0db755a0-341f-4f94-948f-51c95eb9a7f8",
     "showTitle": false,
     "title": ""
    },
    "colab": {},
    "colab_type": "code",
    "id": "DHLpKGA7ZP8P"
   },
   "outputs": [],
   "source": [
    "# TODO: Review the data frame you will like to store and load. Replace <FILL IN> with appropriate code\n",
    "\n",
    "logs_df.write.save(\"logs_df_fixed.csv\", format = 'csv')"
   ]
  },
  {
   "cell_type": "code",
   "execution_count": 0,
   "metadata": {
    "application/vnd.databricks.v1+cell": {
     "cellMetadata": {
      "byteLimit": 2048000,
      "rowLimit": 10000
     },
     "inputWidgets": {},
     "nuid": "bc6a76ad-2a3f-4e67-b560-e59c7fe04191",
     "showTitle": false,
     "title": ""
    },
    "colab": {},
    "colab_type": "code",
    "id": "EJN6Xy76ZTkW"
   },
   "outputs": [
    {
     "output_type": "stream",
     "name": "stdout",
     "output_type": "stream",
     "text": [
      "Out[209]: ['in24.inetnebr.com,GET,/shuttle/missions/sts-68/news/sts-68-mcc-05.txt,HTTP/1.0,200,1839,1995-08-01T00:00:01.000Z',\n 'uplherc.upl.com,GET,/,HTTP/1.0,304,0,1995-08-01T00:00:07.000Z',\n 'uplherc.upl.com,GET,/images/ksclogo-medium.gif,HTTP/1.0,304,0,1995-08-01T00:00:08.000Z',\n 'uplherc.upl.com,GET,/images/MOSAIC-logosmall.gif,HTTP/1.0,304,0,1995-08-01T00:00:08.000Z',\n 'uplherc.upl.com,GET,/images/USA-logosmall.gif,HTTP/1.0,304,0,1995-08-01T00:00:08.000Z']"
     ]
    }
   ],
   "source": [
    "# TODO: Check to see if you have stored and loaded the CSV file successfully by checking the first 5 rows. Replace <FILL IN> with appropriate code\n",
    "\n",
    "spark\\\n",
    "\t.sparkContext\\\n",
    "\t.textFile(\"logs_df_fixed.csv\")\\\n",
    "\t.take(5)"
   ]
  },
  {
   "cell_type": "markdown",
   "metadata": {
    "application/vnd.databricks.v1+cell": {
     "cellMetadata": {},
     "inputWidgets": {},
     "nuid": "b6550ce6-2188-4c62-9892-7c2dbcb21f2c",
     "showTitle": false,
     "title": ""
    },
    "colab_type": "text",
    "id": "nkz9rKU3ZV7S"
   },
   "source": [
    "Similarly, you can also store and load your dataframe as a JSON file by completing the following:"
   ]
  },
  {
   "cell_type": "markdown",
   "metadata": {
    "application/vnd.databricks.v1+cell": {
     "cellMetadata": {},
     "inputWidgets": {},
     "nuid": "3546aa2e-2f81-4791-884c-df35d60aa12a",
     "showTitle": false,
     "title": ""
    },
    "colab_type": "text",
    "id": "l6N5oSjgZaiX"
   },
   "source": [
    "## Your Turn: Q15: Save your data as a JSON file"
   ]
  },
  {
   "cell_type": "code",
   "execution_count": 0,
   "metadata": {
    "application/vnd.databricks.v1+cell": {
     "cellMetadata": {
      "byteLimit": 2048000,
      "rowLimit": 10000
     },
     "inputWidgets": {},
     "nuid": "c70aa2c5-a6cb-4657-af97-f9a1b6691c2d",
     "showTitle": false,
     "title": ""
    },
    "colab": {},
    "colab_type": "code",
    "id": "nPp5cHZeZZCQ"
   },
   "outputs": [],
   "source": [
    "# TODO: Review the data frame you will like to store and load. Replace <FILL IN> with appropriate code\n",
    "\n",
    "logs_df.write.save(\"logs_df_fixed.json\", format = 'json')"
   ]
  },
  {
   "cell_type": "code",
   "execution_count": 0,
   "metadata": {
    "application/vnd.databricks.v1+cell": {
     "cellMetadata": {
      "byteLimit": 2048000,
      "rowLimit": 10000
     },
     "inputWidgets": {},
     "nuid": "b871e0be-ca53-40e2-866f-71f9cbd6607f",
     "showTitle": false,
     "title": ""
    },
    "colab": {},
    "colab_type": "code",
    "id": "56w3oyaOZgiE"
   },
   "outputs": [
    {
     "output_type": "stream",
     "name": "stdout",
     "output_type": "stream",
     "text": [
      "Out[211]: ['{\"host\":\"in24.inetnebr.com\",\"method\":\"GET\",\"endpoint\":\"/shuttle/missions/sts-68/news/sts-68-mcc-05.txt\",\"protocol\":\"HTTP/1.0\",\"status\":\"200\",\"content_size\":\"1839\",\"time\":\"1995-08-01T00:00:01.000Z\"}',\n '{\"host\":\"uplherc.upl.com\",\"method\":\"GET\",\"endpoint\":\"/\",\"protocol\":\"HTTP/1.0\",\"status\":\"304\",\"content_size\":\"0\",\"time\":\"1995-08-01T00:00:07.000Z\"}',\n '{\"host\":\"uplherc.upl.com\",\"method\":\"GET\",\"endpoint\":\"/images/ksclogo-medium.gif\",\"protocol\":\"HTTP/1.0\",\"status\":\"304\",\"content_size\":\"0\",\"time\":\"1995-08-01T00:00:08.000Z\"}',\n '{\"host\":\"uplherc.upl.com\",\"method\":\"GET\",\"endpoint\":\"/images/MOSAIC-logosmall.gif\",\"protocol\":\"HTTP/1.0\",\"status\":\"304\",\"content_size\":\"0\",\"time\":\"1995-08-01T00:00:08.000Z\"}',\n '{\"host\":\"uplherc.upl.com\",\"method\":\"GET\",\"endpoint\":\"/images/USA-logosmall.gif\",\"protocol\":\"HTTP/1.0\",\"status\":\"304\",\"content_size\":\"0\",\"time\":\"1995-08-01T00:00:08.000Z\"}']"
     ]
    }
   ],
   "source": [
    "# TODO: Similarly, check the first 5 rows in the JSON file. Replace <FILL IN> with appropriate code\n",
    "\n",
    "spark\\\n",
    "\t.sparkContext\\\n",
    "\t.textFile(\"logs_df_fixed.json\")\\\n",
    "\t.take(5)"
   ]
  },
  {
   "cell_type": "markdown",
   "metadata": {
    "application/vnd.databricks.v1+cell": {
     "cellMetadata": {},
     "inputWidgets": {},
     "nuid": "2fdd2e18-0ef6-4016-ab5b-b00e83b9918c",
     "showTitle": false,
     "title": ""
    },
    "colab_type": "text",
    "id": "P9zYYUIcZjUU"
   },
   "source": [
    "There is a lot more you can do about data storing and loading in terms of data formats and settings. Check out more about these options [__here__](https://spark.apache.org/docs/latest/sql-data-sources-load-save-functions.html)."
   ]
  },
  {
   "cell_type": "markdown",
   "metadata": {
    "application/vnd.databricks.v1+cell": {
     "cellMetadata": {},
     "inputWidgets": {},
     "nuid": "ed23f390-25a1-4b77-ba90-0b8020c3d36f",
     "showTitle": false,
     "title": ""
    },
    "colab_type": "text",
    "id": "lLXpioWzZlug"
   },
   "source": [
    "### Congratulations! You have finished the mini-project for this unit!"
   ]
  }
 ],
 "metadata": {
  "application/vnd.databricks.v1+notebook": {
   "dashboards": [],
   "language": "python",
   "notebookMetadata": {
    "pythonIndentUnit": 4
   },
   "notebookName": "Mini_Project_Data_Wrangling_at_Scale_with_Spark",
   "widgets": {}
  },
  "colab": {
   "name": "Mini_Project_Data_Wrangling_at_Scale_with_Spark_checkpoint.ipynb",
   "provenance": []
  },
  "kernelspec": {
   "display_name": "Python 3",
   "language": "python",
   "name": "python3"
  },
  "language_info": {
   "codemirror_mode": {
    "name": "ipython",
    "version": 3
   },
   "file_extension": ".py",
   "mimetype": "text/x-python",
   "name": "python",
   "nbconvert_exporter": "python",
   "pygments_lexer": "ipython3",
   "version": "3.7.6"
  },
  "name": "Mini_Project_Data_Wrangling_at_Scale_with_Spark_Solutions_checkpoint",
  "notebookId": 3935650049725854
 },
 "nbformat": 4,
 "nbformat_minor": 0
}
